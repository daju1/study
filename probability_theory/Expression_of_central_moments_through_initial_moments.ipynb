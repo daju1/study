{
 "cells": [
  {
   "cell_type": "markdown",
   "id": "8734fc4a",
   "metadata": {},
   "source": [
    "# Выражение центральных моментов через начальные моменты"
   ]
  },
  {
   "cell_type": "code",
   "execution_count": 1,
   "id": "c70930fe",
   "metadata": {},
   "outputs": [],
   "source": [
    "from IPython.display import display, Math, Latex\n",
    "\n",
    "def disp(ex):\n",
    "    display(Math(latex(ex)))\n"
   ]
  },
  {
   "cell_type": "code",
   "execution_count": 2,
   "id": "00ed0fe6",
   "metadata": {},
   "outputs": [],
   "source": [
    "x, m=var(\"x,m\")"
   ]
  },
  {
   "cell_type": "code",
   "execution_count": 3,
   "id": "a398c71b",
   "metadata": {},
   "outputs": [
    {
     "data": {
      "text/latex": [
       "$\\displaystyle -\\nu_{1}^{2} + \\nu_{2}$"
      ],
      "text/plain": [
       "<IPython.core.display.Math object>"
      ]
     },
     "metadata": {},
     "output_type": "display_data"
    }
   ],
   "source": [
    "disp(((x-m)^2).expand() \\\n",
    "     .subs(x^2 == var(\"nu_2\")) \\\n",
    "     .subs(m == x).subs(x == var(\"nu_1\")))"
   ]
  },
  {
   "cell_type": "code",
   "execution_count": 4,
   "id": "19eda261",
   "metadata": {},
   "outputs": [
    {
     "data": {
      "text/latex": [
       "$\\displaystyle 2 \\, \\nu_{1}^{3} - 3 \\, \\nu_{1} \\nu_{2} + \\nu_{3}$"
      ],
      "text/plain": [
       "<IPython.core.display.Math object>"
      ]
     },
     "metadata": {},
     "output_type": "display_data"
    }
   ],
   "source": [
    "disp(((x-m)^3).expand() \\\n",
    "     .subs(x^3 == var(\"nu_3\")) \\\n",
    "     .subs(x^2 == var(\"nu_2\")) \\\n",
    "     .subs(m == x).subs(x == var(\"nu_1\")))"
   ]
  },
  {
   "cell_type": "code",
   "execution_count": 5,
   "id": "a554948e",
   "metadata": {},
   "outputs": [
    {
     "data": {
      "text/latex": [
       "$\\displaystyle -3 \\, \\nu_{1}^{4} + 6 \\, \\nu_{1}^{2} \\nu_{2} - 4 \\, \\nu_{1} \\nu_{3} + \\nu_{4}$"
      ],
      "text/plain": [
       "<IPython.core.display.Math object>"
      ]
     },
     "metadata": {},
     "output_type": "display_data"
    }
   ],
   "source": [
    "disp(((x-m)^4).expand().subs(x^4 == var(\"nu_4\")) \\\n",
    "     .subs(x^3 == var(\"nu_3\")) \\\n",
    "     .subs(x^2 == var(\"nu_2\")) \\\n",
    "     .subs(m == x).subs(x == var(\"nu_1\")))"
   ]
  },
  {
   "cell_type": "code",
   "execution_count": 6,
   "id": "32e3919f",
   "metadata": {},
   "outputs": [
    {
     "data": {
      "text/latex": [
       "$\\displaystyle 4 \\, \\nu_{1}^{5} - 10 \\, \\nu_{1}^{3} \\nu_{2} + 10 \\, \\nu_{1}^{2} \\nu_{3} - 5 \\, \\nu_{1} \\nu_{4} + \\nu_{5}$"
      ],
      "text/plain": [
       "<IPython.core.display.Math object>"
      ]
     },
     "metadata": {},
     "output_type": "display_data"
    }
   ],
   "source": [
    "disp(((x-m)^5).expand() \\\n",
    "     .subs(x^5 == var(\"nu_5\")) \\\n",
    "     .subs(x^4 == var(\"nu_4\")) \\\n",
    "     .subs(x^3 == var(\"nu_3\")) \\\n",
    "     .subs(x^2 == var(\"nu_2\")) \\\n",
    "     .subs(m == x).subs(x == var(\"nu_1\")))"
   ]
  },
  {
   "cell_type": "code",
   "execution_count": 7,
   "id": "49f05963",
   "metadata": {},
   "outputs": [
    {
     "data": {
      "text/latex": [
       "$\\displaystyle -5 \\, \\nu_{1}^{6} + 15 \\, \\nu_{1}^{4} \\nu_{2} - 20 \\, \\nu_{1}^{3} \\nu_{3} + 15 \\, \\nu_{1}^{2} \\nu_{4} - 6 \\, \\nu_{1} \\nu_{5} + \\nu_{6}$"
      ],
      "text/plain": [
       "<IPython.core.display.Math object>"
      ]
     },
     "metadata": {},
     "output_type": "display_data"
    }
   ],
   "source": [
    "disp(((x-m)^6).expand() \\\n",
    "     .subs(x^6 == var(\"nu_6\")) \\\n",
    "     .subs(x^5 == var(\"nu_5\")) \\\n",
    "     .subs(x^4 == var(\"nu_4\")) \\\n",
    "     .subs(x^3 == var(\"nu_3\")) \\\n",
    "     .subs(x^2 == var(\"nu_2\")) \\\n",
    "     .subs(m == x).subs(x == var(\"nu_1\")))"
   ]
  },
  {
   "cell_type": "code",
   "execution_count": 8,
   "id": "ad150f47",
   "metadata": {},
   "outputs": [
    {
     "data": {
      "text/latex": [
       "$\\displaystyle 6 \\, \\nu_{1}^{7} - 21 \\, \\nu_{1}^{5} \\nu_{2} + 35 \\, \\nu_{1}^{4} \\nu_{3} - 35 \\, \\nu_{1}^{3} \\nu_{4} + 21 \\, \\nu_{1}^{2} \\nu_{5} - 7 \\, \\nu_{1} \\nu_{6} + \\nu_{7}$"
      ],
      "text/plain": [
       "<IPython.core.display.Math object>"
      ]
     },
     "metadata": {},
     "output_type": "display_data"
    }
   ],
   "source": [
    "disp(((x-m)^7).expand() \\\n",
    "     .subs(x^7 == var(\"nu_7\")) \\\n",
    "     .subs(x^6 == var(\"nu_6\")) \\\n",
    "     .subs(x^5 == var(\"nu_5\")) \\\n",
    "     .subs(x^4 == var(\"nu_4\")) \\\n",
    "     .subs(x^3 == var(\"nu_3\")) \\\n",
    "     .subs(x^2 == var(\"nu_2\")) \\\n",
    "     .subs(m == x).subs(x == var(\"nu_1\")))"
   ]
  },
  {
   "cell_type": "code",
   "execution_count": 9,
   "id": "00faa10b",
   "metadata": {},
   "outputs": [
    {
     "data": {
      "text/latex": [
       "$\\displaystyle -6 \\, \\nu_{1}^{8} + 28 \\, \\nu_{1}^{6} \\nu_{2} - 56 \\, \\nu_{1}^{5} \\nu_{3} + 70 \\, \\nu_{1}^{4} \\nu_{4} - 56 \\, \\nu_{1}^{3} \\nu_{5} + 28 \\, \\nu_{1}^{2} \\nu_{6} - 8 \\, \\nu_{1} \\nu_{7}$"
      ],
      "text/plain": [
       "<IPython.core.display.Math object>"
      ]
     },
     "metadata": {},
     "output_type": "display_data"
    }
   ],
   "source": [
    "disp(((x-m)^8).expand() \\\n",
    "     .subs(x^7 == var(\"nu_7\")) \\\n",
    "     .subs(x^7 == var(\"nu_7\")) \\\n",
    "     .subs(x^6 == var(\"nu_6\")) \\\n",
    "     .subs(x^5 == var(\"nu_5\")) \\\n",
    "     .subs(x^4 == var(\"nu_4\")) \\\n",
    "     .subs(x^3 == var(\"nu_3\")) \\\n",
    "     .subs(x^2 == var(\"nu_2\")) \\\n",
    "     .subs(m == x).subs(x == var(\"nu_1\")))"
   ]
  },
  {
   "cell_type": "code",
   "execution_count": null,
   "id": "77f94f6d",
   "metadata": {},
   "outputs": [],
   "source": []
  },
  {
   "cell_type": "code",
   "execution_count": null,
   "id": "23c84754",
   "metadata": {},
   "outputs": [],
   "source": []
  }
 ],
 "metadata": {
  "kernelspec": {
   "display_name": "SageMath 9.6.beta7",
   "language": "sage",
   "name": "sagemath"
  },
  "language_info": {
   "codemirror_mode": {
    "name": "ipython",
    "version": 3
   },
   "file_extension": ".py",
   "mimetype": "text/x-python",
   "name": "python",
   "nbconvert_exporter": "python",
   "pygments_lexer": "ipython3",
   "version": "3.10.3"
  }
 },
 "nbformat": 4,
 "nbformat_minor": 5
}

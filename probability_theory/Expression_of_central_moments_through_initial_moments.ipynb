{
 "cells": [
  {
   "cell_type": "markdown",
   "id": "8734fc4a",
   "metadata": {},
   "source": [
    "# Выражение центральных моментов через начальные моменты"
   ]
  },
  {
   "cell_type": "code",
   "execution_count": 1,
   "id": "c70930fe",
   "metadata": {},
   "outputs": [],
   "source": [
    "from IPython.display import display, Math, Latex\n",
    "\n",
    "def disp(ex):\n",
    "    display(Math(latex(ex)))"
   ]
  },
  {
   "cell_type": "code",
   "execution_count": 2,
   "id": "00ed0fe6",
   "metadata": {},
   "outputs": [],
   "source": [
    "x, m=var(\"x,m\")"
   ]
  },
  {
   "cell_type": "markdown",
   "id": "a5ca9614",
   "metadata": {},
   "source": [
    "Центральный момент это матожидание от $(x-m)^k$"
   ]
  },
  {
   "cell_type": "markdown",
   "id": "e78f6257",
   "metadata": {},
   "source": [
    "Алгоритм -  раскладываем это выражение на слагаемые"
   ]
  },
  {
   "cell_type": "code",
   "execution_count": 3,
   "id": "f2cb919d",
   "metadata": {},
   "outputs": [
    {
     "data": {
      "text/latex": [
       "$\\displaystyle m^{2} - 2 \\, m x + x^{2}$"
      ],
      "text/plain": [
       "<IPython.core.display.Math object>"
      ]
     },
     "metadata": {},
     "output_type": "display_data"
    }
   ],
   "source": [
    "disp(((x-m)^2).expand())"
   ]
  },
  {
   "cell_type": "markdown",
   "id": "a4511e2a",
   "metadata": {},
   "source": [
    "Матожидание суммы это сумма матожиданий, а матожидание от $x^k$ это начальный момент $\\nu_k$. Поэтому делаем замену $x^k$ на $\\nu_k$ "
   ]
  },
  {
   "cell_type": "code",
   "execution_count": 4,
   "id": "a398c71b",
   "metadata": {},
   "outputs": [
    {
     "data": {
      "text/latex": [
       "$\\displaystyle m^{2} - 2 \\, m x + \\nu_{2}$"
      ],
      "text/plain": [
       "<IPython.core.display.Math object>"
      ]
     },
     "metadata": {},
     "output_type": "display_data"
    }
   ],
   "source": [
    "disp(((x-m)^2).expand() \\\n",
    "     .subs(x^2 == var(\"nu_2\")))"
   ]
  },
  {
   "cell_type": "markdown",
   "id": "1ce1e32c",
   "metadata": {},
   "source": [
    "Поскольку матожидание от произведения константы на случайную переменную $x$ равно произведению константы на матожидание случайной переменной $x$, а матожидание переменной  $x$ в наших обозначениях это $m$, то делаем соответствущую замену $x$ на $m$"
   ]
  },
  {
   "cell_type": "code",
   "execution_count": 5,
   "id": "f895ea62",
   "metadata": {},
   "outputs": [
    {
     "data": {
      "text/latex": [
       "$\\displaystyle -m^{2} + \\nu_{2}$"
      ],
      "text/plain": [
       "<IPython.core.display.Math object>"
      ]
     },
     "metadata": {},
     "output_type": "display_data"
    }
   ],
   "source": [
    "disp(((x-m)^2).expand() \\\n",
    "     .subs(x^2 == var(\"nu_2\")) \\\n",
    "     .subs(x == m))"
   ]
  },
  {
   "cell_type": "markdown",
   "id": "7623227a",
   "metadata": {},
   "source": [
    "Ну и поскольку матожидание это и есть начальный момент первого порядка, делаем замену $m$ на $\\nu_1$ "
   ]
  },
  {
   "cell_type": "code",
   "execution_count": 6,
   "id": "2b554283",
   "metadata": {},
   "outputs": [
    {
     "data": {
      "text/latex": [
       "$\\displaystyle -\\nu_{1}^{2} + \\nu_{2}$"
      ],
      "text/plain": [
       "<IPython.core.display.Math object>"
      ]
     },
     "metadata": {},
     "output_type": "display_data"
    }
   ],
   "source": [
    "disp(((x-m)^2).expand() \\\n",
    "     .subs(x^2 == var(\"nu_2\")) \\\n",
    "     .subs(x == m) \\\n",
    "     .subs(m == var(\"nu_1\")))"
   ]
  },
  {
   "cell_type": "markdown",
   "id": "ed408d4b",
   "metadata": {},
   "source": [
    "по аналогичному алгоритму получаем формулу для центрального момента третьего порядка"
   ]
  },
  {
   "cell_type": "code",
   "execution_count": 7,
   "id": "19eda261",
   "metadata": {},
   "outputs": [
    {
     "data": {
      "text/latex": [
       "$\\displaystyle 2 \\, \\nu_{1}^{3} - 3 \\, \\nu_{1} \\nu_{2} + \\nu_{3}$"
      ],
      "text/plain": [
       "<IPython.core.display.Math object>"
      ]
     },
     "metadata": {},
     "output_type": "display_data"
    }
   ],
   "source": [
    "disp(((x-m)^3).expand() \\\n",
    "     .subs(x^3 == var(\"nu_3\")) \\\n",
    "     .subs(x^2 == var(\"nu_2\")) \\\n",
    "     .subs(x == m) \\\n",
    "     .subs(m == var(\"nu_1\")))"
   ]
  },
  {
   "cell_type": "markdown",
   "id": "252385f1",
   "metadata": {},
   "source": [
    "для центрального момента 4-го порядка"
   ]
  },
  {
   "cell_type": "code",
   "execution_count": 8,
   "id": "a554948e",
   "metadata": {},
   "outputs": [
    {
     "data": {
      "text/latex": [
       "$\\displaystyle -3 \\, \\nu_{1}^{4} + 6 \\, \\nu_{1}^{2} \\nu_{2} - 4 \\, \\nu_{1} \\nu_{3} + \\nu_{4}$"
      ],
      "text/plain": [
       "<IPython.core.display.Math object>"
      ]
     },
     "metadata": {},
     "output_type": "display_data"
    }
   ],
   "source": [
    "disp(((x-m)^4).expand().subs(x^4 == var(\"nu_4\")) \\\n",
    "     .subs(x^3 == var(\"nu_3\")) \\\n",
    "     .subs(x^2 == var(\"nu_2\")) \\\n",
    "     .subs(x == m) \\\n",
    "     .subs(m == var(\"nu_1\")))"
   ]
  },
  {
   "cell_type": "markdown",
   "id": "384da5bd",
   "metadata": {},
   "source": [
    "для центрального момента 5-го порядка"
   ]
  },
  {
   "cell_type": "code",
   "execution_count": 9,
   "id": "32e3919f",
   "metadata": {},
   "outputs": [
    {
     "data": {
      "text/latex": [
       "$\\displaystyle 4 \\, \\nu_{1}^{5} - 10 \\, \\nu_{1}^{3} \\nu_{2} + 10 \\, \\nu_{1}^{2} \\nu_{3} - 5 \\, \\nu_{1} \\nu_{4} + \\nu_{5}$"
      ],
      "text/plain": [
       "<IPython.core.display.Math object>"
      ]
     },
     "metadata": {},
     "output_type": "display_data"
    }
   ],
   "source": [
    "disp(((x-m)^5).expand() \\\n",
    "     .subs(x^5 == var(\"nu_5\")) \\\n",
    "     .subs(x^4 == var(\"nu_4\")) \\\n",
    "     .subs(x^3 == var(\"nu_3\")) \\\n",
    "     .subs(x^2 == var(\"nu_2\")) \\\n",
    "     .subs(x == m) \\\n",
    "     .subs(m == var(\"nu_1\")))"
   ]
  },
  {
   "cell_type": "markdown",
   "id": "0e6e42c9",
   "metadata": {},
   "source": [
    "для центрального момента 6-го порядка"
   ]
  },
  {
   "cell_type": "code",
   "execution_count": 10,
   "id": "49f05963",
   "metadata": {},
   "outputs": [
    {
     "data": {
      "text/latex": [
       "$\\displaystyle -5 \\, \\nu_{1}^{6} + 15 \\, \\nu_{1}^{4} \\nu_{2} - 20 \\, \\nu_{1}^{3} \\nu_{3} + 15 \\, \\nu_{1}^{2} \\nu_{4} - 6 \\, \\nu_{1} \\nu_{5} + \\nu_{6}$"
      ],
      "text/plain": [
       "<IPython.core.display.Math object>"
      ]
     },
     "metadata": {},
     "output_type": "display_data"
    }
   ],
   "source": [
    "disp(((x-m)^6).expand() \\\n",
    "     .subs(x^6 == var(\"nu_6\")) \\\n",
    "     .subs(x^5 == var(\"nu_5\")) \\\n",
    "     .subs(x^4 == var(\"nu_4\")) \\\n",
    "     .subs(x^3 == var(\"nu_3\")) \\\n",
    "     .subs(x^2 == var(\"nu_2\")) \\\n",
    "     .subs(x == m) \\\n",
    "     .subs(m == var(\"nu_1\")))"
   ]
  },
  {
   "cell_type": "markdown",
   "id": "94df96a1",
   "metadata": {},
   "source": [
    "для центрального момента 7-го порядка"
   ]
  },
  {
   "cell_type": "code",
   "execution_count": 11,
   "id": "180f4756",
   "metadata": {},
   "outputs": [
    {
     "data": {
      "text/latex": [
       "$\\displaystyle 6 \\, \\nu_{1}^{7} - 21 \\, \\nu_{1}^{5} \\nu_{2} + 35 \\, \\nu_{1}^{4} \\nu_{3} - 35 \\, \\nu_{1}^{3} \\nu_{4} + 21 \\, \\nu_{1}^{2} \\nu_{5} - 7 \\, \\nu_{1} \\nu_{6} + \\nu_{7}$"
      ],
      "text/plain": [
       "<IPython.core.display.Math object>"
      ]
     },
     "metadata": {},
     "output_type": "display_data"
    }
   ],
   "source": [
    "disp(((x-m)^7).expand() \\\n",
    "     .subs(x^7 == var(\"nu_7\")) \\\n",
    "     .subs(x^6 == var(\"nu_6\")) \\\n",
    "     .subs(x^5 == var(\"nu_5\")) \\\n",
    "     .subs(x^4 == var(\"nu_4\")) \\\n",
    "     .subs(x^3 == var(\"nu_3\")) \\\n",
    "     .subs(x^2 == var(\"nu_2\")) \\\n",
    "     .subs(x == m) \\\n",
    "     .subs(m == var(\"nu_1\")))"
   ]
  },
  {
   "cell_type": "markdown",
   "id": "bf566bb8",
   "metadata": {},
   "source": [
    "для центрального момента 8-го порядка"
   ]
  },
  {
   "cell_type": "code",
   "execution_count": 12,
   "id": "1bdc521d",
   "metadata": {},
   "outputs": [
    {
     "data": {
      "text/latex": [
       "$\\displaystyle -7 \\, \\nu_{1}^{8} + 28 \\, \\nu_{1}^{6} \\nu_{2} - 56 \\, \\nu_{1}^{5} \\nu_{3} + 70 \\, \\nu_{1}^{4} \\nu_{4} - 56 \\, \\nu_{1}^{3} \\nu_{5} + 28 \\, \\nu_{1}^{2} \\nu_{6} - 8 \\, \\nu_{1} \\nu_{7} + \\nu_{8}$"
      ],
      "text/plain": [
       "<IPython.core.display.Math object>"
      ]
     },
     "metadata": {},
     "output_type": "display_data"
    }
   ],
   "source": [
    "disp(((x-m)^8).expand() \\\n",
    "     .subs(x^8 == var(\"nu_8\")) \\\n",
    "     .subs(x^7 == var(\"nu_7\")) \\\n",
    "     .subs(x^6 == var(\"nu_6\")) \\\n",
    "     .subs(x^5 == var(\"nu_5\")) \\\n",
    "     .subs(x^4 == var(\"nu_4\")) \\\n",
    "     .subs(x^3 == var(\"nu_3\")) \\\n",
    "     .subs(x^2 == var(\"nu_2\")) \\\n",
    "     .subs(x == m) \\\n",
    "     .subs(m == var(\"nu_1\")))"
   ]
  },
  {
   "cell_type": "markdown",
   "id": "9af8d0d7",
   "metadata": {},
   "source": [
    "Также можно создать функцию для расчёта центрального момента порядка $k$"
   ]
  },
  {
   "cell_type": "code",
   "execution_count": 13,
   "id": "77f94f6d",
   "metadata": {},
   "outputs": [],
   "source": [
    "def central_moment(k):\n",
    "    poly = ((x-m)^k).expand()\n",
    "    for i in range (k,1,-1):\n",
    "        poly = poly.subs(x^i == var(\"nu_\"+str(i)))\n",
    "    poly = poly.subs(x == m).subs(m == var(\"nu_1\"))\n",
    "    return poly"
   ]
  },
  {
   "cell_type": "code",
   "execution_count": 14,
   "id": "bc5c0c06",
   "metadata": {},
   "outputs": [
    {
     "name": "stdout",
     "output_type": "stream",
     "text": [
      "central moment of order  1  is:\n"
     ]
    },
    {
     "data": {
      "text/latex": [
       "$\\displaystyle 0$"
      ],
      "text/plain": [
       "<IPython.core.display.Math object>"
      ]
     },
     "metadata": {},
     "output_type": "display_data"
    },
    {
     "name": "stdout",
     "output_type": "stream",
     "text": [
      "central moment of order  2  is:\n"
     ]
    },
    {
     "data": {
      "text/latex": [
       "$\\displaystyle -\\nu_{1}^{2} + \\nu_{2}$"
      ],
      "text/plain": [
       "<IPython.core.display.Math object>"
      ]
     },
     "metadata": {},
     "output_type": "display_data"
    },
    {
     "name": "stdout",
     "output_type": "stream",
     "text": [
      "central moment of order  3  is:\n"
     ]
    },
    {
     "data": {
      "text/latex": [
       "$\\displaystyle 2 \\, \\nu_{1}^{3} - 3 \\, \\nu_{1} \\nu_{2} + \\nu_{3}$"
      ],
      "text/plain": [
       "<IPython.core.display.Math object>"
      ]
     },
     "metadata": {},
     "output_type": "display_data"
    },
    {
     "name": "stdout",
     "output_type": "stream",
     "text": [
      "central moment of order  4  is:\n"
     ]
    },
    {
     "data": {
      "text/latex": [
       "$\\displaystyle -3 \\, \\nu_{1}^{4} + 6 \\, \\nu_{1}^{2} \\nu_{2} - 4 \\, \\nu_{1} \\nu_{3} + \\nu_{4}$"
      ],
      "text/plain": [
       "<IPython.core.display.Math object>"
      ]
     },
     "metadata": {},
     "output_type": "display_data"
    },
    {
     "name": "stdout",
     "output_type": "stream",
     "text": [
      "central moment of order  5  is:\n"
     ]
    },
    {
     "data": {
      "text/latex": [
       "$\\displaystyle 4 \\, \\nu_{1}^{5} - 10 \\, \\nu_{1}^{3} \\nu_{2} + 10 \\, \\nu_{1}^{2} \\nu_{3} - 5 \\, \\nu_{1} \\nu_{4} + \\nu_{5}$"
      ],
      "text/plain": [
       "<IPython.core.display.Math object>"
      ]
     },
     "metadata": {},
     "output_type": "display_data"
    },
    {
     "name": "stdout",
     "output_type": "stream",
     "text": [
      "central moment of order  6  is:\n"
     ]
    },
    {
     "data": {
      "text/latex": [
       "$\\displaystyle -5 \\, \\nu_{1}^{6} + 15 \\, \\nu_{1}^{4} \\nu_{2} - 20 \\, \\nu_{1}^{3} \\nu_{3} + 15 \\, \\nu_{1}^{2} \\nu_{4} - 6 \\, \\nu_{1} \\nu_{5} + \\nu_{6}$"
      ],
      "text/plain": [
       "<IPython.core.display.Math object>"
      ]
     },
     "metadata": {},
     "output_type": "display_data"
    },
    {
     "name": "stdout",
     "output_type": "stream",
     "text": [
      "central moment of order  7  is:\n"
     ]
    },
    {
     "data": {
      "text/latex": [
       "$\\displaystyle 6 \\, \\nu_{1}^{7} - 21 \\, \\nu_{1}^{5} \\nu_{2} + 35 \\, \\nu_{1}^{4} \\nu_{3} - 35 \\, \\nu_{1}^{3} \\nu_{4} + 21 \\, \\nu_{1}^{2} \\nu_{5} - 7 \\, \\nu_{1} \\nu_{6} + \\nu_{7}$"
      ],
      "text/plain": [
       "<IPython.core.display.Math object>"
      ]
     },
     "metadata": {},
     "output_type": "display_data"
    },
    {
     "name": "stdout",
     "output_type": "stream",
     "text": [
      "central moment of order  8  is:\n"
     ]
    },
    {
     "data": {
      "text/latex": [
       "$\\displaystyle -7 \\, \\nu_{1}^{8} + 28 \\, \\nu_{1}^{6} \\nu_{2} - 56 \\, \\nu_{1}^{5} \\nu_{3} + 70 \\, \\nu_{1}^{4} \\nu_{4} - 56 \\, \\nu_{1}^{3} \\nu_{5} + 28 \\, \\nu_{1}^{2} \\nu_{6} - 8 \\, \\nu_{1} \\nu_{7} + \\nu_{8}$"
      ],
      "text/plain": [
       "<IPython.core.display.Math object>"
      ]
     },
     "metadata": {},
     "output_type": "display_data"
    },
    {
     "name": "stdout",
     "output_type": "stream",
     "text": [
      "central moment of order  9  is:\n"
     ]
    },
    {
     "data": {
      "text/latex": [
       "$\\displaystyle 8 \\, \\nu_{1}^{9} - 36 \\, \\nu_{1}^{7} \\nu_{2} + 84 \\, \\nu_{1}^{6} \\nu_{3} - 126 \\, \\nu_{1}^{5} \\nu_{4} + 126 \\, \\nu_{1}^{4} \\nu_{5} - 84 \\, \\nu_{1}^{3} \\nu_{6} + 36 \\, \\nu_{1}^{2} \\nu_{7} - 9 \\, \\nu_{1} \\nu_{8} + \\nu_{9}$"
      ],
      "text/plain": [
       "<IPython.core.display.Math object>"
      ]
     },
     "metadata": {},
     "output_type": "display_data"
    },
    {
     "name": "stdout",
     "output_type": "stream",
     "text": [
      "central moment of order  10  is:\n"
     ]
    },
    {
     "data": {
      "text/latex": [
       "$\\displaystyle -9 \\, \\nu_{1}^{10} + 45 \\, \\nu_{1}^{8} \\nu_{2} - 120 \\, \\nu_{1}^{7} \\nu_{3} + 210 \\, \\nu_{1}^{6} \\nu_{4} - 252 \\, \\nu_{1}^{5} \\nu_{5} + 210 \\, \\nu_{1}^{4} \\nu_{6} - 120 \\, \\nu_{1}^{3} \\nu_{7} + 45 \\, \\nu_{1}^{2} \\nu_{8} - 10 \\, \\nu_{1} \\nu_{9} + \\nu_{10}$"
      ],
      "text/plain": [
       "<IPython.core.display.Math object>"
      ]
     },
     "metadata": {},
     "output_type": "display_data"
    },
    {
     "name": "stdout",
     "output_type": "stream",
     "text": [
      "central moment of order  11  is:\n"
     ]
    },
    {
     "data": {
      "text/latex": [
       "$\\displaystyle 10 \\, \\nu_{1}^{11} - 55 \\, \\nu_{1}^{9} \\nu_{2} + 165 \\, \\nu_{1}^{8} \\nu_{3} - 330 \\, \\nu_{1}^{7} \\nu_{4} + 462 \\, \\nu_{1}^{6} \\nu_{5} - 462 \\, \\nu_{1}^{5} \\nu_{6} + 330 \\, \\nu_{1}^{4} \\nu_{7} - 165 \\, \\nu_{1}^{3} \\nu_{8} + 55 \\, \\nu_{1}^{2} \\nu_{9} - 11 \\, \\nu_{1} \\nu_{10} + \\nu_{11}$"
      ],
      "text/plain": [
       "<IPython.core.display.Math object>"
      ]
     },
     "metadata": {},
     "output_type": "display_data"
    },
    {
     "name": "stdout",
     "output_type": "stream",
     "text": [
      "central moment of order  12  is:\n"
     ]
    },
    {
     "data": {
      "text/latex": [
       "$\\displaystyle -11 \\, \\nu_{1}^{12} + 66 \\, \\nu_{1}^{10} \\nu_{2} - 220 \\, \\nu_{1}^{9} \\nu_{3} + 495 \\, \\nu_{1}^{8} \\nu_{4} - 792 \\, \\nu_{1}^{7} \\nu_{5} + 924 \\, \\nu_{1}^{6} \\nu_{6} - 792 \\, \\nu_{1}^{5} \\nu_{7} + 495 \\, \\nu_{1}^{4} \\nu_{8} - 220 \\, \\nu_{1}^{3} \\nu_{9} + 66 \\, \\nu_{1}^{2} \\nu_{10} - 12 \\, \\nu_{1} \\nu_{11} + \\nu_{12}$"
      ],
      "text/plain": [
       "<IPython.core.display.Math object>"
      ]
     },
     "metadata": {},
     "output_type": "display_data"
    },
    {
     "name": "stdout",
     "output_type": "stream",
     "text": [
      "central moment of order  13  is:\n"
     ]
    },
    {
     "data": {
      "text/latex": [
       "$\\displaystyle 12 \\, \\nu_{1}^{13} - 78 \\, \\nu_{1}^{11} \\nu_{2} + 286 \\, \\nu_{1}^{10} \\nu_{3} - 715 \\, \\nu_{1}^{9} \\nu_{4} + 1287 \\, \\nu_{1}^{8} \\nu_{5} - 1716 \\, \\nu_{1}^{7} \\nu_{6} + 1716 \\, \\nu_{1}^{6} \\nu_{7} - 1287 \\, \\nu_{1}^{5} \\nu_{8} + 715 \\, \\nu_{1}^{4} \\nu_{9} - 286 \\, \\nu_{1}^{3} \\nu_{10} + 78 \\, \\nu_{1}^{2} \\nu_{11} - 13 \\, \\nu_{1} \\nu_{12} + \\nu_{13}$"
      ],
      "text/plain": [
       "<IPython.core.display.Math object>"
      ]
     },
     "metadata": {},
     "output_type": "display_data"
    },
    {
     "name": "stdout",
     "output_type": "stream",
     "text": [
      "central moment of order  14  is:\n"
     ]
    },
    {
     "data": {
      "text/latex": [
       "$\\displaystyle -13 \\, \\nu_{1}^{14} + 91 \\, \\nu_{1}^{12} \\nu_{2} - 364 \\, \\nu_{1}^{11} \\nu_{3} + 1001 \\, \\nu_{1}^{10} \\nu_{4} - 2002 \\, \\nu_{1}^{9} \\nu_{5} + 3003 \\, \\nu_{1}^{8} \\nu_{6} - 3432 \\, \\nu_{1}^{7} \\nu_{7} + 3003 \\, \\nu_{1}^{6} \\nu_{8} - 2002 \\, \\nu_{1}^{5} \\nu_{9} + 1001 \\, \\nu_{1}^{4} \\nu_{10} - 364 \\, \\nu_{1}^{3} \\nu_{11} + 91 \\, \\nu_{1}^{2} \\nu_{12} - 14 \\, \\nu_{1} \\nu_{13} + \\nu_{14}$"
      ],
      "text/plain": [
       "<IPython.core.display.Math object>"
      ]
     },
     "metadata": {},
     "output_type": "display_data"
    },
    {
     "name": "stdout",
     "output_type": "stream",
     "text": [
      "central moment of order  15  is:\n"
     ]
    },
    {
     "data": {
      "text/latex": [
       "$\\displaystyle 14 \\, \\nu_{1}^{15} - 105 \\, \\nu_{1}^{13} \\nu_{2} + 455 \\, \\nu_{1}^{12} \\nu_{3} - 1365 \\, \\nu_{1}^{11} \\nu_{4} + 3003 \\, \\nu_{1}^{10} \\nu_{5} - 5005 \\, \\nu_{1}^{9} \\nu_{6} + 6435 \\, \\nu_{1}^{8} \\nu_{7} - 6435 \\, \\nu_{1}^{7} \\nu_{8} + 5005 \\, \\nu_{1}^{6} \\nu_{9} - 3003 \\, \\nu_{1}^{5} \\nu_{10} + 1365 \\, \\nu_{1}^{4} \\nu_{11} - 455 \\, \\nu_{1}^{3} \\nu_{12} + 105 \\, \\nu_{1}^{2} \\nu_{13} - 15 \\, \\nu_{1} \\nu_{14} + \\nu_{15}$"
      ],
      "text/plain": [
       "<IPython.core.display.Math object>"
      ]
     },
     "metadata": {},
     "output_type": "display_data"
    },
    {
     "name": "stdout",
     "output_type": "stream",
     "text": [
      "central moment of order  16  is:\n"
     ]
    },
    {
     "data": {
      "text/latex": [
       "$\\displaystyle -15 \\, \\nu_{1}^{16} + 120 \\, \\nu_{1}^{14} \\nu_{2} - 560 \\, \\nu_{1}^{13} \\nu_{3} + 1820 \\, \\nu_{1}^{12} \\nu_{4} - 4368 \\, \\nu_{1}^{11} \\nu_{5} + 8008 \\, \\nu_{1}^{10} \\nu_{6} - 11440 \\, \\nu_{1}^{9} \\nu_{7} + 12870 \\, \\nu_{1}^{8} \\nu_{8} - 11440 \\, \\nu_{1}^{7} \\nu_{9} + 8008 \\, \\nu_{1}^{6} \\nu_{10} - 4368 \\, \\nu_{1}^{5} \\nu_{11} + 1820 \\, \\nu_{1}^{4} \\nu_{12} - 560 \\, \\nu_{1}^{3} \\nu_{13} + 120 \\, \\nu_{1}^{2} \\nu_{14} - 16 \\, \\nu_{1} \\nu_{15} + \\nu_{16}$"
      ],
      "text/plain": [
       "<IPython.core.display.Math object>"
      ]
     },
     "metadata": {},
     "output_type": "display_data"
    },
    {
     "name": "stdout",
     "output_type": "stream",
     "text": [
      "central moment of order  17  is:\n"
     ]
    },
    {
     "data": {
      "text/latex": [
       "$\\displaystyle 16 \\, \\nu_{1}^{17} - 136 \\, \\nu_{1}^{15} \\nu_{2} + 680 \\, \\nu_{1}^{14} \\nu_{3} - 2380 \\, \\nu_{1}^{13} \\nu_{4} + 6188 \\, \\nu_{1}^{12} \\nu_{5} - 12376 \\, \\nu_{1}^{11} \\nu_{6} + 19448 \\, \\nu_{1}^{10} \\nu_{7} - 24310 \\, \\nu_{1}^{9} \\nu_{8} + 24310 \\, \\nu_{1}^{8} \\nu_{9} - 19448 \\, \\nu_{1}^{7} \\nu_{10} + 12376 \\, \\nu_{1}^{6} \\nu_{11} - 6188 \\, \\nu_{1}^{5} \\nu_{12} + 2380 \\, \\nu_{1}^{4} \\nu_{13} - 680 \\, \\nu_{1}^{3} \\nu_{14} + 136 \\, \\nu_{1}^{2} \\nu_{15} - 17 \\, \\nu_{1} \\nu_{16} + \\nu_{17}$"
      ],
      "text/plain": [
       "<IPython.core.display.Math object>"
      ]
     },
     "metadata": {},
     "output_type": "display_data"
    },
    {
     "name": "stdout",
     "output_type": "stream",
     "text": [
      "central moment of order  18  is:\n"
     ]
    },
    {
     "data": {
      "text/latex": [
       "$\\displaystyle -17 \\, \\nu_{1}^{18} + 153 \\, \\nu_{1}^{16} \\nu_{2} - 816 \\, \\nu_{1}^{15} \\nu_{3} + 3060 \\, \\nu_{1}^{14} \\nu_{4} - 8568 \\, \\nu_{1}^{13} \\nu_{5} + 18564 \\, \\nu_{1}^{12} \\nu_{6} - 31824 \\, \\nu_{1}^{11} \\nu_{7} + 43758 \\, \\nu_{1}^{10} \\nu_{8} - 48620 \\, \\nu_{1}^{9} \\nu_{9} + 43758 \\, \\nu_{1}^{8} \\nu_{10} - 31824 \\, \\nu_{1}^{7} \\nu_{11} + 18564 \\, \\nu_{1}^{6} \\nu_{12} - 8568 \\, \\nu_{1}^{5} \\nu_{13} + 3060 \\, \\nu_{1}^{4} \\nu_{14} - 816 \\, \\nu_{1}^{3} \\nu_{15} + 153 \\, \\nu_{1}^{2} \\nu_{16} - 18 \\, \\nu_{1} \\nu_{17} + \\nu_{18}$"
      ],
      "text/plain": [
       "<IPython.core.display.Math object>"
      ]
     },
     "metadata": {},
     "output_type": "display_data"
    },
    {
     "name": "stdout",
     "output_type": "stream",
     "text": [
      "central moment of order  19  is:\n"
     ]
    },
    {
     "data": {
      "text/latex": [
       "$\\displaystyle 18 \\, \\nu_{1}^{19} - 171 \\, \\nu_{1}^{17} \\nu_{2} + 969 \\, \\nu_{1}^{16} \\nu_{3} - 3876 \\, \\nu_{1}^{15} \\nu_{4} + 11628 \\, \\nu_{1}^{14} \\nu_{5} - 27132 \\, \\nu_{1}^{13} \\nu_{6} + 50388 \\, \\nu_{1}^{12} \\nu_{7} - 75582 \\, \\nu_{1}^{11} \\nu_{8} + 92378 \\, \\nu_{1}^{10} \\nu_{9} - 92378 \\, \\nu_{1}^{9} \\nu_{10} + 75582 \\, \\nu_{1}^{8} \\nu_{11} - 50388 \\, \\nu_{1}^{7} \\nu_{12} + 27132 \\, \\nu_{1}^{6} \\nu_{13} - 11628 \\, \\nu_{1}^{5} \\nu_{14} + 3876 \\, \\nu_{1}^{4} \\nu_{15} - 969 \\, \\nu_{1}^{3} \\nu_{16} + 171 \\, \\nu_{1}^{2} \\nu_{17} - 19 \\, \\nu_{1} \\nu_{18} + \\nu_{19}$"
      ],
      "text/plain": [
       "<IPython.core.display.Math object>"
      ]
     },
     "metadata": {},
     "output_type": "display_data"
    },
    {
     "name": "stdout",
     "output_type": "stream",
     "text": [
      "central moment of order  20  is:\n"
     ]
    },
    {
     "data": {
      "text/latex": [
       "$\\displaystyle -19 \\, \\nu_{1}^{20} + 190 \\, \\nu_{1}^{18} \\nu_{2} - 1140 \\, \\nu_{1}^{17} \\nu_{3} + 4845 \\, \\nu_{1}^{16} \\nu_{4} - 15504 \\, \\nu_{1}^{15} \\nu_{5} + 38760 \\, \\nu_{1}^{14} \\nu_{6} - 77520 \\, \\nu_{1}^{13} \\nu_{7} + 125970 \\, \\nu_{1}^{12} \\nu_{8} - 167960 \\, \\nu_{1}^{11} \\nu_{9} + 184756 \\, \\nu_{1}^{10} \\nu_{10} - 167960 \\, \\nu_{1}^{9} \\nu_{11} + 125970 \\, \\nu_{1}^{8} \\nu_{12} - 77520 \\, \\nu_{1}^{7} \\nu_{13} + 38760 \\, \\nu_{1}^{6} \\nu_{14} - 15504 \\, \\nu_{1}^{5} \\nu_{15} + 4845 \\, \\nu_{1}^{4} \\nu_{16} - 1140 \\, \\nu_{1}^{3} \\nu_{17} + 190 \\, \\nu_{1}^{2} \\nu_{18} - 20 \\, \\nu_{1} \\nu_{19} + \\nu_{20}$"
      ],
      "text/plain": [
       "<IPython.core.display.Math object>"
      ]
     },
     "metadata": {},
     "output_type": "display_data"
    },
    {
     "name": "stdout",
     "output_type": "stream",
     "text": [
      "central moment of order  21  is:\n"
     ]
    },
    {
     "data": {
      "text/latex": [
       "$\\displaystyle 20 \\, \\nu_{1}^{21} - 210 \\, \\nu_{1}^{19} \\nu_{2} + 1330 \\, \\nu_{1}^{18} \\nu_{3} - 5985 \\, \\nu_{1}^{17} \\nu_{4} + 20349 \\, \\nu_{1}^{16} \\nu_{5} - 54264 \\, \\nu_{1}^{15} \\nu_{6} + 116280 \\, \\nu_{1}^{14} \\nu_{7} - 203490 \\, \\nu_{1}^{13} \\nu_{8} + 293930 \\, \\nu_{1}^{12} \\nu_{9} - 352716 \\, \\nu_{1}^{11} \\nu_{10} + 352716 \\, \\nu_{1}^{10} \\nu_{11} - 293930 \\, \\nu_{1}^{9} \\nu_{12} + 203490 \\, \\nu_{1}^{8} \\nu_{13} - 116280 \\, \\nu_{1}^{7} \\nu_{14} + 54264 \\, \\nu_{1}^{6} \\nu_{15} - 20349 \\, \\nu_{1}^{5} \\nu_{16} + 5985 \\, \\nu_{1}^{4} \\nu_{17} - 1330 \\, \\nu_{1}^{3} \\nu_{18} + 210 \\, \\nu_{1}^{2} \\nu_{19} - 21 \\, \\nu_{1} \\nu_{20} + \\nu_{21}$"
      ],
      "text/plain": [
       "<IPython.core.display.Math object>"
      ]
     },
     "metadata": {},
     "output_type": "display_data"
    },
    {
     "name": "stdout",
     "output_type": "stream",
     "text": [
      "central moment of order  22  is:\n"
     ]
    },
    {
     "data": {
      "text/latex": [
       "$\\displaystyle -21 \\, \\nu_{1}^{22} + 231 \\, \\nu_{1}^{20} \\nu_{2} - 1540 \\, \\nu_{1}^{19} \\nu_{3} + 7315 \\, \\nu_{1}^{18} \\nu_{4} - 26334 \\, \\nu_{1}^{17} \\nu_{5} + 74613 \\, \\nu_{1}^{16} \\nu_{6} - 170544 \\, \\nu_{1}^{15} \\nu_{7} + 319770 \\, \\nu_{1}^{14} \\nu_{8} - 497420 \\, \\nu_{1}^{13} \\nu_{9} + 646646 \\, \\nu_{1}^{12} \\nu_{10} - 705432 \\, \\nu_{1}^{11} \\nu_{11} + 646646 \\, \\nu_{1}^{10} \\nu_{12} - 497420 \\, \\nu_{1}^{9} \\nu_{13} + 319770 \\, \\nu_{1}^{8} \\nu_{14} - 170544 \\, \\nu_{1}^{7} \\nu_{15} + 74613 \\, \\nu_{1}^{6} \\nu_{16} - 26334 \\, \\nu_{1}^{5} \\nu_{17} + 7315 \\, \\nu_{1}^{4} \\nu_{18} - 1540 \\, \\nu_{1}^{3} \\nu_{19} + 231 \\, \\nu_{1}^{2} \\nu_{20} - 22 \\, \\nu_{1} \\nu_{21} + \\nu_{22}$"
      ],
      "text/plain": [
       "<IPython.core.display.Math object>"
      ]
     },
     "metadata": {},
     "output_type": "display_data"
    },
    {
     "name": "stdout",
     "output_type": "stream",
     "text": [
      "central moment of order  23  is:\n"
     ]
    },
    {
     "data": {
      "text/latex": [
       "$\\displaystyle 22 \\, \\nu_{1}^{23} - 253 \\, \\nu_{1}^{21} \\nu_{2} + 1771 \\, \\nu_{1}^{20} \\nu_{3} - 8855 \\, \\nu_{1}^{19} \\nu_{4} + 33649 \\, \\nu_{1}^{18} \\nu_{5} - 100947 \\, \\nu_{1}^{17} \\nu_{6} + 245157 \\, \\nu_{1}^{16} \\nu_{7} - 490314 \\, \\nu_{1}^{15} \\nu_{8} + 817190 \\, \\nu_{1}^{14} \\nu_{9} - 1144066 \\, \\nu_{1}^{13} \\nu_{10} + 1352078 \\, \\nu_{1}^{12} \\nu_{11} - 1352078 \\, \\nu_{1}^{11} \\nu_{12} + 1144066 \\, \\nu_{1}^{10} \\nu_{13} - 817190 \\, \\nu_{1}^{9} \\nu_{14} + 490314 \\, \\nu_{1}^{8} \\nu_{15} - 245157 \\, \\nu_{1}^{7} \\nu_{16} + 100947 \\, \\nu_{1}^{6} \\nu_{17} - 33649 \\, \\nu_{1}^{5} \\nu_{18} + 8855 \\, \\nu_{1}^{4} \\nu_{19} - 1771 \\, \\nu_{1}^{3} \\nu_{20} + 253 \\, \\nu_{1}^{2} \\nu_{21} - 23 \\, \\nu_{1} \\nu_{22} + \\nu_{23}$"
      ],
      "text/plain": [
       "<IPython.core.display.Math object>"
      ]
     },
     "metadata": {},
     "output_type": "display_data"
    },
    {
     "name": "stdout",
     "output_type": "stream",
     "text": [
      "central moment of order  24  is:\n"
     ]
    },
    {
     "data": {
      "text/latex": [
       "$\\displaystyle -23 \\, \\nu_{1}^{24} + 276 \\, \\nu_{1}^{22} \\nu_{2} - 2024 \\, \\nu_{1}^{21} \\nu_{3} + 10626 \\, \\nu_{1}^{20} \\nu_{4} - 42504 \\, \\nu_{1}^{19} \\nu_{5} + 134596 \\, \\nu_{1}^{18} \\nu_{6} - 346104 \\, \\nu_{1}^{17} \\nu_{7} + 735471 \\, \\nu_{1}^{16} \\nu_{8} - 1307504 \\, \\nu_{1}^{15} \\nu_{9} + 1961256 \\, \\nu_{1}^{14} \\nu_{10} - 2496144 \\, \\nu_{1}^{13} \\nu_{11} + 2704156 \\, \\nu_{1}^{12} \\nu_{12} - 2496144 \\, \\nu_{1}^{11} \\nu_{13} + 1961256 \\, \\nu_{1}^{10} \\nu_{14} - 1307504 \\, \\nu_{1}^{9} \\nu_{15} + 735471 \\, \\nu_{1}^{8} \\nu_{16} - 346104 \\, \\nu_{1}^{7} \\nu_{17} + 134596 \\, \\nu_{1}^{6} \\nu_{18} - 42504 \\, \\nu_{1}^{5} \\nu_{19} + 10626 \\, \\nu_{1}^{4} \\nu_{20} - 2024 \\, \\nu_{1}^{3} \\nu_{21} + 276 \\, \\nu_{1}^{2} \\nu_{22} - 24 \\, \\nu_{1} \\nu_{23} + \\nu_{24}$"
      ],
      "text/plain": [
       "<IPython.core.display.Math object>"
      ]
     },
     "metadata": {},
     "output_type": "display_data"
    }
   ],
   "source": [
    "for k in range (1, 25):\n",
    "    print(\"central moment of order \", k, \" is:\")\n",
    "    disp(central_moment(k))"
   ]
  },
  {
   "cell_type": "code",
   "execution_count": null,
   "id": "7a5d5999",
   "metadata": {},
   "outputs": [],
   "source": []
  }
 ],
 "metadata": {
  "kernelspec": {
   "display_name": "SageMath 9.6.beta7",
   "language": "sage",
   "name": "sagemath"
  },
  "language_info": {
   "codemirror_mode": {
    "name": "ipython",
    "version": 3
   },
   "file_extension": ".py",
   "mimetype": "text/x-python",
   "name": "python",
   "nbconvert_exporter": "python",
   "pygments_lexer": "ipython3",
   "version": "3.10.3"
  }
 },
 "nbformat": 4,
 "nbformat_minor": 5
}

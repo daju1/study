{
 "cells": [
  {
   "cell_type": "markdown",
   "id": "bf6126e3",
   "metadata": {},
   "source": [
    "# Правила Кірхгофа"
   ]
  },
  {
   "cell_type": "markdown",
   "id": "5013a3ce",
   "metadata": {},
   "source": [
    "![Kirchhoff_s_circuit_laws.png](images/Kirchhoff_s_circuit_laws.png)"
   ]
  },
  {
   "cell_type": "markdown",
   "id": "e4697fea",
   "metadata": {},
   "source": [
    "Вибираємо вказані на рисунку напрями обходу контурів. Застосуємо\n",
    "перше правило Кірхгофа до вузла В:"
   ]
  },
  {
   "cell_type": "markdown",
   "id": "d99bd9c3",
   "metadata": {},
   "source": [
    "$I_2 + I_3 - I_1 = 0$"
   ]
  },
  {
   "cell_type": "markdown",
   "id": "fd7a1e6b",
   "metadata": {},
   "source": [
    "а друге – відповідно до обох контурів:"
   ]
  },
  {
   "cell_type": "markdown",
   "id": "a95d131e",
   "metadata": {},
   "source": [
    "$I_1 R_{0_{left}} + I_1 R_1 + I_3 R_3 = \\epsilon_1$"
   ]
  },
  {
   "cell_type": "markdown",
   "id": "9e78852b",
   "metadata": {},
   "source": [
    "$-I_3 R_3 + I_2 R_{0_{right}} + I_2 R_2 = \\epsilon_2$"
   ]
  },
  {
   "cell_type": "markdown",
   "id": "8c56eb24",
   "metadata": {},
   "source": [
    "При записі рівнянь враховані знаки струмів і ЕРС. Перепишемо систему\n",
    "рівнянь у стандартному вигляді :"
   ]
  },
  {
   "cell_type": "markdown",
   "id": "4f491be6",
   "metadata": {},
   "source": [
    "$ (-1) I_1 + 1 I_2 + 1 I_3 = 0$"
   ]
  },
  {
   "cell_type": "markdown",
   "id": "913f7c7c",
   "metadata": {},
   "source": [
    "$I_1 (R_{0_{left}} + R_1) + I_2 \\cdot 0 + I_3 R_3 = \\epsilon_1$"
   ]
  },
  {
   "cell_type": "markdown",
   "id": "8ecb52ca",
   "metadata": {},
   "source": [
    "$I_1 \\cdot 0 + I_2(R_{0_{right}} + R_2) + I_3 (-R_3) = \\epsilon_2$"
   ]
  },
  {
   "cell_type": "markdown",
   "id": "a5507a72",
   "metadata": {},
   "source": [
    "Now we start preparing of\n",
    "\n",
    "Розв’язок даної системи для струмів $I_1$, $I_2$, $I_3$"
   ]
  },
  {
   "cell_type": "code",
   "execution_count": 1,
   "id": "caf61ae2",
   "metadata": {},
   "outputs": [],
   "source": [
    "# define helper functions\n",
    "\n",
    "from IPython.display import display, Math, Latex\n",
    "from sage.misc.latex import float_function\n",
    "output_digits = 3\n",
    "\n",
    "def disp(ex):\n",
    "    display(Math(latex(ex)))\n",
    "\n",
    "def displ(la):\n",
    "    display(Math(la))\n",
    "\n",
    "def GenerateMatrix(equsys, vars):\n",
    "    A=matrix(SR, [[(equ.lhs() - equ.rhs()).coefficient(v) for v in vars] for equ in equsys])\n",
    "    return A"
   ]
  },
  {
   "cell_type": "code",
   "execution_count": 2,
   "id": "a17c35a4",
   "metadata": {},
   "outputs": [],
   "source": [
    "# declare variables\n",
    "R_0_left, R_0_right, R_1, R_2, R_3 = var(\"R_0_left, R_0_right, R_1, R_2, R_3\")\n",
    "I_1, I_2, I_3 = var(\"I_1, I_2, I_3\")\n",
    "U_1, U_2, U_3 = var(\"U_1, U_2, U_3\")\n",
    "U_0_left, U_0_right, U_sum = var(\"U_0_left, U_0_right, U_sum\")\n",
    "epsilon_1, epsilon_2 = var(\"epsilon_1, epsilon_2\")"
   ]
  },
  {
   "cell_type": "markdown",
   "id": "9d50e3ae",
   "metadata": {},
   "source": [
    "При записі рівнянь враховані знаки струмів і ЕРС. Перепишемо систему\n",
    "рівнянь у стандартному вигляді :"
   ]
  },
  {
   "cell_type": "code",
   "execution_count": 3,
   "id": "ecee6712",
   "metadata": {},
   "outputs": [
    {
     "data": {
      "text/latex": [
       "$\\displaystyle -I_{1} + I_{2} + I_{3} = 0$"
      ],
      "text/plain": [
       "<IPython.core.display.Math object>"
      ]
     },
     "metadata": {},
     "output_type": "display_data"
    },
    {
     "data": {
      "text/latex": [
       "$\\displaystyle I_{1} {\\left(R_{0_{\\mathit{left}}} + R_{1}\\right)} + I_{3} R_{3} = \\epsilon_{1}$"
      ],
      "text/plain": [
       "<IPython.core.display.Math object>"
      ]
     },
     "metadata": {},
     "output_type": "display_data"
    },
    {
     "data": {
      "text/latex": [
       "$\\displaystyle I_{2} {\\left(R_{0_{\\mathit{right}}} + R_{2}\\right)} - I_{3} R_{3} = \\epsilon_{2}$"
      ],
      "text/plain": [
       "<IPython.core.display.Math object>"
      ]
     },
     "metadata": {},
     "output_type": "display_data"
    }
   ],
   "source": [
    "eq_1 = (-1) * I_1 + 1 * I_2 + 1 * I_3                 == 0\n",
    "eq_2 = I_1 * (R_0_left + R_1) + I_2 * 0 + I_3 * R_3   == epsilon_1\n",
    "eq_3 = I_1 * 0 + I_2 *(R_0_right + R_2) + I_3 *(-R_3) == epsilon_2\n",
    "\n",
    "all_eqs = [eq_1, eq_2, eq_3]\n",
    "I_vars = [I_1, I_2, I_3]\n",
    "\n",
    "for eq in all_eqs:\n",
    "    disp(eq)"
   ]
  },
  {
   "cell_type": "code",
   "execution_count": 4,
   "id": "1b4ca88d",
   "metadata": {},
   "outputs": [
    {
     "data": {
      "text/latex": [
       "$\\displaystyle \\left(\\begin{array}{rrr}\n",
       "-1 & 1 & 1 \\\\\n",
       "R_{0_{\\mathit{left}}} + R_{1} & 0 & R_{3} \\\\\n",
       "0 & R_{0_{\\mathit{right}}} + R_{2} & -R_{3}\n",
       "\\end{array}\\right)$"
      ],
      "text/plain": [
       "<IPython.core.display.Math object>"
      ]
     },
     "metadata": {},
     "output_type": "display_data"
    }
   ],
   "source": [
    "M = GenerateMatrix(all_eqs, I_vars)\n",
    "disp(M)"
   ]
  },
  {
   "cell_type": "markdown",
   "id": "638abefe",
   "metadata": {},
   "source": [
    "Розв’язок даної системи для струмів $I_1$, $I_2$, $I_3$"
   ]
  },
  {
   "cell_type": "code",
   "execution_count": 5,
   "id": "c756ecb3",
   "metadata": {},
   "outputs": [
    {
     "data": {
      "text/latex": [
       "$\\displaystyle I_{1} = \\frac{{\\left(R_{0_{\\mathit{right}}} + R_{2} + R_{3}\\right)} \\epsilon_{1} + R_{3} \\epsilon_{2}}{R_{0_{\\mathit{left}}} {\\left(R_{0_{\\mathit{right}}} + R_{2}\\right)} + {\\left(R_{0_{\\mathit{right}}} + R_{2}\\right)} R_{1} + {\\left(R_{0_{\\mathit{left}}} + R_{0_{\\mathit{right}}} + R_{1} + R_{2}\\right)} R_{3}}$"
      ],
      "text/plain": [
       "<IPython.core.display.Math object>"
      ]
     },
     "metadata": {},
     "output_type": "display_data"
    },
    {
     "data": {
      "text/latex": [
       "$\\displaystyle I_{2} = \\frac{R_{3} \\epsilon_{1} + R_{0_{\\mathit{left}}} \\epsilon_{2} + R_{1} \\epsilon_{2} + R_{3} \\epsilon_{2}}{R_{0_{\\mathit{left}}} {\\left(R_{0_{\\mathit{right}}} + R_{2}\\right)} + {\\left(R_{0_{\\mathit{right}}} + R_{2}\\right)} R_{1} + {\\left(R_{0_{\\mathit{left}}} + R_{0_{\\mathit{right}}} + R_{1} + R_{2}\\right)} R_{3}}$"
      ],
      "text/plain": [
       "<IPython.core.display.Math object>"
      ]
     },
     "metadata": {},
     "output_type": "display_data"
    },
    {
     "data": {
      "text/latex": [
       "$\\displaystyle I_{3} = \\frac{{\\left(R_{0_{\\mathit{right}}} + R_{2}\\right)} \\epsilon_{1} - R_{0_{\\mathit{left}}} \\epsilon_{2} - R_{1} \\epsilon_{2}}{R_{0_{\\mathit{left}}} {\\left(R_{0_{\\mathit{right}}} + R_{2}\\right)} + {\\left(R_{0_{\\mathit{right}}} + R_{2}\\right)} R_{1} + {\\left(R_{0_{\\mathit{left}}} + R_{0_{\\mathit{right}}} + R_{1} + R_{2}\\right)} R_{3}}$"
      ],
      "text/plain": [
       "<IPython.core.display.Math object>"
      ]
     },
     "metadata": {},
     "output_type": "display_data"
    }
   ],
   "source": [
    "I_sol = solve(all_eqs, I_vars)\n",
    "\n",
    "I1 = I_sol[0][0]\n",
    "I2 = I_sol[0][1]\n",
    "I3 = I_sol[0][2]\n",
    "\n",
    "disp(I1)\n",
    "disp(I2)\n",
    "disp(I3)"
   ]
  },
  {
   "cell_type": "markdown",
   "id": "4c6c98ab",
   "metadata": {},
   "source": [
    "Якщо якесь значення сили струму виявиться від’ємним, то це означає, що\n",
    "напрям струму є протилежним до вибраного напрямку обходу контуру."
   ]
  },
  {
   "cell_type": "markdown",
   "id": "86e0c42d",
   "metadata": {},
   "source": [
    "Обчисливши сили струмів, визначимо відповідні напруги на опорах $R_1$, $R_2$ і $R_3$:"
   ]
  },
  {
   "cell_type": "code",
   "execution_count": 6,
   "id": "291d3cec",
   "metadata": {},
   "outputs": [],
   "source": [
    "U1 = I1 * R_1\n",
    "U2 = I2 * R_2\n",
    "U3 = I3 * R_3\n",
    "\n",
    "U0L = I1 * R_0_left\n",
    "U0R = I2 * R_0_right"
   ]
  },
  {
   "cell_type": "code",
   "execution_count": 7,
   "id": "6b258021",
   "metadata": {},
   "outputs": [
    {
     "data": {
      "text/latex": [
       "$\\displaystyle I_{1} R_{1} = \\frac{{\\left({\\left(R_{0_{\\mathit{right}}} + R_{2} + R_{3}\\right)} \\epsilon_{1} + R_{3} \\epsilon_{2}\\right)} R_{1}}{R_{0_{\\mathit{left}}} {\\left(R_{0_{\\mathit{right}}} + R_{2}\\right)} + {\\left(R_{0_{\\mathit{right}}} + R_{2}\\right)} R_{1} + {\\left(R_{0_{\\mathit{left}}} + R_{0_{\\mathit{right}}} + R_{1} + R_{2}\\right)} R_{3}}$"
      ],
      "text/plain": [
       "<IPython.core.display.Math object>"
      ]
     },
     "metadata": {},
     "output_type": "display_data"
    },
    {
     "data": {
      "text/latex": [
       "$\\displaystyle I_{2} R_{2} = \\frac{{\\left(R_{3} \\epsilon_{1} + R_{0_{\\mathit{left}}} \\epsilon_{2} + R_{1} \\epsilon_{2} + R_{3} \\epsilon_{2}\\right)} R_{2}}{R_{0_{\\mathit{left}}} {\\left(R_{0_{\\mathit{right}}} + R_{2}\\right)} + {\\left(R_{0_{\\mathit{right}}} + R_{2}\\right)} R_{1} + {\\left(R_{0_{\\mathit{left}}} + R_{0_{\\mathit{right}}} + R_{1} + R_{2}\\right)} R_{3}}$"
      ],
      "text/plain": [
       "<IPython.core.display.Math object>"
      ]
     },
     "metadata": {},
     "output_type": "display_data"
    },
    {
     "data": {
      "text/latex": [
       "$\\displaystyle I_{3} R_{3} = \\frac{{\\left({\\left(R_{0_{\\mathit{right}}} + R_{2}\\right)} \\epsilon_{1} - R_{0_{\\mathit{left}}} \\epsilon_{2} - R_{1} \\epsilon_{2}\\right)} R_{3}}{R_{0_{\\mathit{left}}} {\\left(R_{0_{\\mathit{right}}} + R_{2}\\right)} + {\\left(R_{0_{\\mathit{right}}} + R_{2}\\right)} R_{1} + {\\left(R_{0_{\\mathit{left}}} + R_{0_{\\mathit{right}}} + R_{1} + R_{2}\\right)} R_{3}}$"
      ],
      "text/plain": [
       "<IPython.core.display.Math object>"
      ]
     },
     "metadata": {},
     "output_type": "display_data"
    },
    {
     "data": {
      "text/latex": [
       "$\\displaystyle I_{1} R_{0_{\\mathit{left}}} = \\frac{{\\left({\\left(R_{0_{\\mathit{right}}} + R_{2} + R_{3}\\right)} \\epsilon_{1} + R_{3} \\epsilon_{2}\\right)} R_{0_{\\mathit{left}}}}{R_{0_{\\mathit{left}}} {\\left(R_{0_{\\mathit{right}}} + R_{2}\\right)} + {\\left(R_{0_{\\mathit{right}}} + R_{2}\\right)} R_{1} + {\\left(R_{0_{\\mathit{left}}} + R_{0_{\\mathit{right}}} + R_{1} + R_{2}\\right)} R_{3}}$"
      ],
      "text/plain": [
       "<IPython.core.display.Math object>"
      ]
     },
     "metadata": {},
     "output_type": "display_data"
    },
    {
     "data": {
      "text/latex": [
       "$\\displaystyle I_{2} R_{0_{\\mathit{right}}} = \\frac{{\\left(R_{3} \\epsilon_{1} + R_{0_{\\mathit{left}}} \\epsilon_{2} + R_{1} \\epsilon_{2} + R_{3} \\epsilon_{2}\\right)} R_{0_{\\mathit{right}}}}{R_{0_{\\mathit{left}}} {\\left(R_{0_{\\mathit{right}}} + R_{2}\\right)} + {\\left(R_{0_{\\mathit{right}}} + R_{2}\\right)} R_{1} + {\\left(R_{0_{\\mathit{left}}} + R_{0_{\\mathit{right}}} + R_{1} + R_{2}\\right)} R_{3}}$"
      ],
      "text/plain": [
       "<IPython.core.display.Math object>"
      ]
     },
     "metadata": {},
     "output_type": "display_data"
    }
   ],
   "source": [
    "disp(U1)\n",
    "disp(U2)\n",
    "disp(U3)\n",
    "\n",
    "disp(U0L)\n",
    "disp(U0R)"
   ]
  },
  {
   "cell_type": "markdown",
   "id": "e4dac70a",
   "metadata": {},
   "source": [
    "![1694508584178.JPEG](images/1694508584178.JPEG)"
   ]
  },
  {
   "cell_type": "code",
   "execution_count": 8,
   "id": "a6865d81",
   "metadata": {},
   "outputs": [],
   "source": [
    "all_results = []"
   ]
  },
  {
   "cell_type": "markdown",
   "id": "4272999a",
   "metadata": {},
   "source": [
    "Встановити напруги джерел живлення $\\epsilon_1$ та $\\epsilon_2$. Встановити опори $R_0$, $R_1$, $R_2$ і $R_3$. значення $V$, $Om$"
   ]
  },
  {
   "cell_type": "code",
   "execution_count": 9,
   "id": "ad3967ff",
   "metadata": {},
   "outputs": [],
   "source": [
    "my_resistors = [R_1 == 800, \\\n",
    "                R_0_left == 780, \\\n",
    "                R_0_right == 795, \\\n",
    "                R_2 == 816, \\\n",
    "                R_3 == 2700]\n",
    "my_epsilons  = [epsilon_1 == 4.55, \\\n",
    "                epsilon_2 == 6.35]"
   ]
  },
  {
   "cell_type": "code",
   "execution_count": 10,
   "id": "c806efaa",
   "metadata": {},
   "outputs": [],
   "source": [
    "def disp_my_resistors_and_epsilons():\n",
    "    for my_resistor in my_resistors:\n",
    "        displ(latex(my_resistor.lhs()) + \"=\" + format(RDF(my_resistor.rhs()), '.0f') + \"\\\\, \\\\Omega\")\n",
    "    for my_epsilon in my_epsilons:\n",
    "        displ(latex(my_epsilon.lhs()) + \"=\" + format(RDF(my_epsilon.rhs()), '.2f') + \"\\\\, V\")"
   ]
  },
  {
   "cell_type": "code",
   "execution_count": 11,
   "id": "b5bb8a55",
   "metadata": {},
   "outputs": [
    {
     "data": {
      "text/latex": [
       "$\\displaystyle R_{1} = 800 \\, \\Omega$"
      ],
      "text/plain": [
       "<IPython.core.display.Math object>"
      ]
     },
     "metadata": {},
     "output_type": "display_data"
    },
    {
     "data": {
      "text/latex": [
       "$\\displaystyle R_{0_{\\mathit{left}}} = 780 \\, \\Omega$"
      ],
      "text/plain": [
       "<IPython.core.display.Math object>"
      ]
     },
     "metadata": {},
     "output_type": "display_data"
    },
    {
     "data": {
      "text/latex": [
       "$\\displaystyle R_{0_{\\mathit{right}}} = 795 \\, \\Omega$"
      ],
      "text/plain": [
       "<IPython.core.display.Math object>"
      ]
     },
     "metadata": {},
     "output_type": "display_data"
    },
    {
     "data": {
      "text/latex": [
       "$\\displaystyle R_{2} = 816 \\, \\Omega$"
      ],
      "text/plain": [
       "<IPython.core.display.Math object>"
      ]
     },
     "metadata": {},
     "output_type": "display_data"
    },
    {
     "data": {
      "text/latex": [
       "$\\displaystyle R_{3} = 2700 \\, \\Omega$"
      ],
      "text/plain": [
       "<IPython.core.display.Math object>"
      ]
     },
     "metadata": {},
     "output_type": "display_data"
    },
    {
     "data": {
      "text/latex": [
       "$\\displaystyle \\epsilon_{1} = 4.55 \\, V$"
      ],
      "text/plain": [
       "<IPython.core.display.Math object>"
      ]
     },
     "metadata": {},
     "output_type": "display_data"
    },
    {
     "data": {
      "text/latex": [
       "$\\displaystyle \\epsilon_{2} = 6.35 \\, V$"
      ],
      "text/plain": [
       "<IPython.core.display.Math object>"
      ]
     },
     "metadata": {},
     "output_type": "display_data"
    }
   ],
   "source": [
    "disp_my_resistors_and_epsilons()"
   ]
  },
  {
   "cell_type": "markdown",
   "id": "31b97a47",
   "metadata": {},
   "source": [
    "Обчислити напруги $U 1_{обч.}$, $U 2_{обч.}$ $U 3_{обч}$ і їх значення, $V$"
   ]
  },
  {
   "cell_type": "code",
   "execution_count": 12,
   "id": "63694e7e",
   "metadata": {
    "scrolled": true
   },
   "outputs": [],
   "source": [
    "def calc_U(my_resistors, my_epsilons):\n",
    "    U1_calc = U1.rhs().subs(my_resistors).subs(my_epsilons)\n",
    "    U2_calc = U2.rhs().subs(my_resistors).subs(my_epsilons)\n",
    "    U3_calc = U3.rhs().subs(my_resistors).subs(my_epsilons)\n",
    "\n",
    "    U0L_calc = U0L.rhs().subs(my_resistors).subs(my_epsilons)\n",
    "    U0R_calc = U0R.rhs().subs(my_resistors).subs(my_epsilons)\n",
    "    \n",
    "    return U1_calc, U2_calc, U3_calc, U0L_calc, U0R_calc\n",
    "\n",
    "def disp_U_calc(U1_calc, U2_calc, U3_calc):\n",
    "    displ(\"U_{1_{calc}} =\" + format(RDF(U1_calc), '.3f') + \"\\\\, V\")\n",
    "    displ(\"U_{2_{calc}} =\" + format(RDF(U2_calc), '.3f') + \"\\\\, V\")\n",
    "    displ(\"U_{3_{calc}} =\" + format(RDF(U3_calc), '.3f') + \"\\\\, V\")"
   ]
  },
  {
   "cell_type": "code",
   "execution_count": 13,
   "id": "080bd0a3",
   "metadata": {},
   "outputs": [
    {
     "data": {
      "text/latex": [
       "$\\displaystyle U_{1_{calc}} =2.635\\, V$"
      ],
      "text/plain": [
       "<IPython.core.display.Math object>"
      ]
     },
     "metadata": {},
     "output_type": "display_data"
    },
    {
     "data": {
      "text/latex": [
       "$\\displaystyle U_{2_{calc}} =2.885\\, V$"
      ],
      "text/plain": [
       "<IPython.core.display.Math object>"
      ]
     },
     "metadata": {},
     "output_type": "display_data"
    },
    {
     "data": {
      "text/latex": [
       "$\\displaystyle U_{3_{calc}} =-0.654\\, V$"
      ],
      "text/plain": [
       "<IPython.core.display.Math object>"
      ]
     },
     "metadata": {},
     "output_type": "display_data"
    }
   ],
   "source": [
    "U1_calc, U2_calc, U3_calc, U0L_calc, U0R_calc = \\\n",
    "    calc_U(my_resistors, my_epsilons)\n",
    "disp_U_calc(U1_calc, U2_calc, U3_calc)"
   ]
  },
  {
   "cell_type": "markdown",
   "id": "5c360921",
   "metadata": {},
   "source": [
    "виміряти спади напруг . $U 1_{вим}$, $U 2_{вим}$ і $U 3_{вим}$ на цих опорах вольтметром, $V$"
   ]
  },
  {
   "cell_type": "code",
   "execution_count": 14,
   "id": "f0abf01b",
   "metadata": {
    "scrolled": true
   },
   "outputs": [
    {
     "data": {
      "text/latex": [
       "$\\displaystyle U_{1} = 2.63 \\, V$"
      ],
      "text/plain": [
       "<IPython.core.display.Math object>"
      ]
     },
     "metadata": {},
     "output_type": "display_data"
    },
    {
     "data": {
      "text/latex": [
       "$\\displaystyle U_{2} = 2.76 \\, V$"
      ],
      "text/plain": [
       "<IPython.core.display.Math object>"
      ]
     },
     "metadata": {},
     "output_type": "display_data"
    },
    {
     "data": {
      "text/latex": [
       "$\\displaystyle U_{3} = -0.53 \\, V$"
      ],
      "text/plain": [
       "<IPython.core.display.Math object>"
      ]
     },
     "metadata": {},
     "output_type": "display_data"
    },
    {
     "data": {
      "text/latex": [
       "$\\displaystyle U_{0_{\\mathit{left}}} = 2.50 \\, V$"
      ],
      "text/plain": [
       "<IPython.core.display.Math object>"
      ]
     },
     "metadata": {},
     "output_type": "display_data"
    },
    {
     "data": {
      "text/latex": [
       "$\\displaystyle U_{0_{\\mathit{right}}} = 2.67 \\, V$"
      ],
      "text/plain": [
       "<IPython.core.display.Math object>"
      ]
     },
     "metadata": {},
     "output_type": "display_data"
    },
    {
     "data": {
      "text/latex": [
       "$\\displaystyle U_{\\mathit{sum}} = 10.45 \\, V$"
      ],
      "text/plain": [
       "<IPython.core.display.Math object>"
      ]
     },
     "metadata": {},
     "output_type": "display_data"
    }
   ],
   "source": [
    "my_voltages = [U_1 == 2.63, \\\n",
    "               U_2 == 2.76, \\\n",
    "               U_3 == -0.53, \\\n",
    "               U_0_left == 2.50, \\\n",
    "               U_0_right == 2.67, \\\n",
    "               U_sum == 10.45]\n",
    "\n",
    "for my_voltage in my_voltages:\n",
    "    displ(latex(my_voltage.lhs()) + \"=\" + format(RDF(my_voltage.rhs()), '.2f') + \"\\\\, V\")"
   ]
  },
  {
   "cell_type": "markdown",
   "id": "14577c48",
   "metadata": {},
   "source": [
    "Порівняти виміряні і обчислені значення напруг $U_1$, $U_2$, $U_3$ і визначити відносне відхилення у відсотках."
   ]
  },
  {
   "cell_type": "code",
   "execution_count": 15,
   "id": "b4432455",
   "metadata": {},
   "outputs": [],
   "source": [
    "def calc_U_errors(my_voltages, U1_calc, U2_calc, U3_calc):\n",
    "    U1_error = ((U1_calc-U_1.subs(my_voltages)) /\n",
    "                U_1.subs(my_voltages)*100).n(digits=3)\n",
    "    U2_error = ((U2_calc-U_2.subs(my_voltages)) /\n",
    "                U_2.subs(my_voltages)*100).n(digits=3)\n",
    "    U3_error = ((U3_calc-U_3.subs(my_voltages)) /\n",
    "                U_3.subs(my_voltages)*100).n(digits=3)\n",
    "    return U1_error, U2_error, U3_error"
   ]
  },
  {
   "cell_type": "code",
   "execution_count": 16,
   "id": "3a370e94",
   "metadata": {},
   "outputs": [
    {
     "data": {
      "text/plain": [
       "(0.185, 4.54, 23.4)"
      ]
     },
     "execution_count": 16,
     "metadata": {},
     "output_type": "execute_result"
    }
   ],
   "source": [
    "calc_U_errors(my_voltages, U1_calc, U2_calc, U3_calc)"
   ]
  },
  {
   "cell_type": "markdown",
   "id": "b8a0de68",
   "metadata": {},
   "source": [
    "Seems like bataries really has lost their voltage during measuring time because I have started with measuring of my epsilons and ended with measuring of U_sum. Summary voltage lost during measuring is 0.45 V"
   ]
  },
  {
   "cell_type": "markdown",
   "id": "f2b3cab6",
   "metadata": {},
   "source": [
    "Обчислити сили струмів $І_1$, $І_2$, $І_3$, $A$"
   ]
  },
  {
   "cell_type": "code",
   "execution_count": 17,
   "id": "39cea74a",
   "metadata": {},
   "outputs": [],
   "source": [
    "def calc_I(my_resistors, my_epsilons):\n",
    "    I_1 = I1.subs(my_resistors).subs(my_epsilons).rhs()\n",
    "    I_2 = I2.subs(my_resistors).subs(my_epsilons).rhs()\n",
    "    I_3 = I3.subs(my_resistors).subs(my_epsilons).rhs()\n",
    "    return I_1, I_2, I_3\n",
    "    \n",
    "def disp_I(I_1, I_2, I_3):\n",
    "    displ(\"I_1=\"+format(RDF(I_1),'.3e')+\"\\\\,A\")\n",
    "    displ(\"I_2=\"+format(RDF(I_2),'.3e')+\"\\\\,A\")\n",
    "    displ(\"I_3=\"+format(RDF(I_3),'.3e')+\"\\\\,A\")"
   ]
  },
  {
   "cell_type": "code",
   "execution_count": 18,
   "id": "d96a0155",
   "metadata": {},
   "outputs": [
    {
     "data": {
      "text/latex": [
       "$\\displaystyle I_1=3.294e-03\\,A$"
      ],
      "text/plain": [
       "<IPython.core.display.Math object>"
      ]
     },
     "metadata": {},
     "output_type": "display_data"
    },
    {
     "data": {
      "text/latex": [
       "$\\displaystyle I_2=3.536e-03\\,A$"
      ],
      "text/plain": [
       "<IPython.core.display.Math object>"
      ]
     },
     "metadata": {},
     "output_type": "display_data"
    },
    {
     "data": {
      "text/latex": [
       "$\\displaystyle I_3=-2.422e-04\\,A$"
      ],
      "text/plain": [
       "<IPython.core.display.Math object>"
      ]
     },
     "metadata": {},
     "output_type": "display_data"
    }
   ],
   "source": [
    "I_1, I_2, I_3 = calc_I(my_resistors, my_epsilons)\n",
    "disp_I(I_1, I_2, I_3)"
   ]
  },
  {
   "cell_type": "code",
   "execution_count": 19,
   "id": "a5bcb6b9",
   "metadata": {},
   "outputs": [],
   "source": [
    "all_results += [[\\\n",
    "    my_resistors, my_epsilons, \\\n",
    "    [calc_U(my_resistors, my_epsilons)], \\\n",
    "    [calc_U_errors(my_voltages, U1_calc, U2_calc, U3_calc)],\\\n",
    "    [calc_I(my_resistors, my_epsilons)]\n",
    "    ]]"
   ]
  },
  {
   "cell_type": "code",
   "execution_count": 20,
   "id": "3404a948",
   "metadata": {},
   "outputs": [
    {
     "data": {
      "text/plain": [
       "[[[R_1 == 800, R_0_left == 780, R_0_right == 795, R_2 == 816, R_3 == 2700],\n",
       "  [epsilon_1 == 4.55000000000000, epsilon_2 == 6.35000000000000],\n",
       "  [(2.63487404444731,\n",
       "    2.88518745497747,\n",
       "    -0.653876237783440,\n",
       "    2.56900219333613,\n",
       "    2.81093630723908)],\n",
       "  [(0.185, 4.54, 23.4)],\n",
       "  [(0.00329359255555914, 0.00353576893992338, -0.000242176384364237)]]]"
      ]
     },
     "execution_count": 20,
     "metadata": {},
     "output_type": "execute_result"
    }
   ],
   "source": [
    "all_results"
   ]
  },
  {
   "cell_type": "markdown",
   "id": "0b54225c",
   "metadata": {},
   "source": [
    "# The second measuring"
   ]
  },
  {
   "cell_type": "markdown",
   "id": "debfdd65",
   "metadata": {},
   "source": [
    "Встановити напруги джерел живлення $\\epsilon_1$ та $\\epsilon_2$. Встановити опори $R_0$, $R_1$, $R_2$ і $R_3$. значення $V$, $Om$"
   ]
  },
  {
   "cell_type": "code",
   "execution_count": 21,
   "id": "a1eb8c52",
   "metadata": {},
   "outputs": [],
   "source": [
    "# resistors are the same\n",
    "my_resistors = [R_1 == 800, \\\n",
    "                  R_0_left == 780, \\\n",
    "                  R_0_right == 795, \\\n",
    "                  R_2 == 816, \\\n",
    "                  R_3 == 2700]\n",
    "my_epsilons = [epsilon_1 == 4.49, \\\n",
    "                 epsilon_2 == 5.89]"
   ]
  },
  {
   "cell_type": "code",
   "execution_count": 22,
   "id": "8af6edcc",
   "metadata": {},
   "outputs": [
    {
     "data": {
      "text/latex": [
       "$\\displaystyle R_{1} = 800 \\, \\Omega$"
      ],
      "text/plain": [
       "<IPython.core.display.Math object>"
      ]
     },
     "metadata": {},
     "output_type": "display_data"
    },
    {
     "data": {
      "text/latex": [
       "$\\displaystyle R_{0_{\\mathit{left}}} = 780 \\, \\Omega$"
      ],
      "text/plain": [
       "<IPython.core.display.Math object>"
      ]
     },
     "metadata": {},
     "output_type": "display_data"
    },
    {
     "data": {
      "text/latex": [
       "$\\displaystyle R_{0_{\\mathit{right}}} = 795 \\, \\Omega$"
      ],
      "text/plain": [
       "<IPython.core.display.Math object>"
      ]
     },
     "metadata": {},
     "output_type": "display_data"
    },
    {
     "data": {
      "text/latex": [
       "$\\displaystyle R_{2} = 816 \\, \\Omega$"
      ],
      "text/plain": [
       "<IPython.core.display.Math object>"
      ]
     },
     "metadata": {},
     "output_type": "display_data"
    },
    {
     "data": {
      "text/latex": [
       "$\\displaystyle R_{3} = 2700 \\, \\Omega$"
      ],
      "text/plain": [
       "<IPython.core.display.Math object>"
      ]
     },
     "metadata": {},
     "output_type": "display_data"
    },
    {
     "data": {
      "text/latex": [
       "$\\displaystyle \\epsilon_{1} = 4.49 \\, V$"
      ],
      "text/plain": [
       "<IPython.core.display.Math object>"
      ]
     },
     "metadata": {},
     "output_type": "display_data"
    },
    {
     "data": {
      "text/latex": [
       "$\\displaystyle \\epsilon_{2} = 5.89 \\, V$"
      ],
      "text/plain": [
       "<IPython.core.display.Math object>"
      ]
     },
     "metadata": {},
     "output_type": "display_data"
    }
   ],
   "source": [
    "disp_my_resistors_and_epsilons()"
   ]
  },
  {
   "cell_type": "markdown",
   "id": "56050547",
   "metadata": {},
   "source": [
    "Обчислити напруги $U 1_{обч.}$, $U 2_{обч.}$ $U 3_{обч}$ і їх значення, $V$"
   ]
  },
  {
   "cell_type": "code",
   "execution_count": 23,
   "id": "888b707b",
   "metadata": {},
   "outputs": [
    {
     "data": {
      "text/latex": [
       "$\\displaystyle U_{1_{calc}} =2.527\\, V$"
      ],
      "text/plain": [
       "<IPython.core.display.Math object>"
      ]
     },
     "metadata": {},
     "output_type": "display_data"
    },
    {
     "data": {
      "text/latex": [
       "$\\displaystyle U_{2_{calc}} =2.729\\, V$"
      ],
      "text/plain": [
       "<IPython.core.display.Math object>"
      ]
     },
     "metadata": {},
     "output_type": "display_data"
    },
    {
     "data": {
      "text/latex": [
       "$\\displaystyle U_{3_{calc}} =-0.501\\, V$"
      ],
      "text/plain": [
       "<IPython.core.display.Math object>"
      ]
     },
     "metadata": {},
     "output_type": "display_data"
    }
   ],
   "source": [
    "U1_calc, U2_calc, U3_calc, U0L_calc, U0R_calc = \\\n",
    "    calc_U(my_resistors, my_epsilons)\n",
    "disp_U_calc(U1_calc, U2_calc, U3_calc)"
   ]
  },
  {
   "cell_type": "markdown",
   "id": "d0cc7626",
   "metadata": {},
   "source": [
    "виміряти спади напруг $U 1_{вим}$, $U 2_{вим}$ і $U 3_{вим}$ на цих опорах вольтметром, $V$"
   ]
  },
  {
   "cell_type": "code",
   "execution_count": 25,
   "id": "377518f1",
   "metadata": {},
   "outputs": [
    {
     "data": {
      "text/latex": [
       "$\\displaystyle U_{1} = 2.60 \\, V$"
      ],
      "text/plain": [
       "<IPython.core.display.Math object>"
      ]
     },
     "metadata": {},
     "output_type": "display_data"
    },
    {
     "data": {
      "text/latex": [
       "$\\displaystyle U_{2} = 2.77 \\, V$"
      ],
      "text/plain": [
       "<IPython.core.display.Math object>"
      ]
     },
     "metadata": {},
     "output_type": "display_data"
    },
    {
     "data": {
      "text/latex": [
       "$\\displaystyle U_{3} = -0.53 \\, V$"
      ],
      "text/plain": [
       "<IPython.core.display.Math object>"
      ]
     },
     "metadata": {},
     "output_type": "display_data"
    }
   ],
   "source": [
    "my_voltages = [U_1 == 2.60, \\\n",
    "               U_2 == 2.77, \\\n",
    "               U_3 == -0.53]\n",
    "for my_voltage in my_voltages:\n",
    "    displ(latex(my_voltage.lhs()) + \"=\" + format(RDF(my_voltage.rhs()), '.2f') + \"\\\\, V\")"
   ]
  },
  {
   "cell_type": "markdown",
   "id": "1a5a0894",
   "metadata": {},
   "source": [
    "Порівняти виміряні і обчислені значення напруг $U_1$, $U_2$, $U_3$ і визначити відносне відхилення у відсотках."
   ]
  },
  {
   "cell_type": "code",
   "execution_count": 27,
   "id": "1b53931a",
   "metadata": {},
   "outputs": [
    {
     "data": {
      "text/plain": [
       "(-2.80, -1.47, -5.39)"
      ]
     },
     "execution_count": 27,
     "metadata": {},
     "output_type": "execute_result"
    }
   ],
   "source": [
    "calc_U_errors(my_voltages, U1_calc, U2_calc, U3_calc)"
   ]
  },
  {
   "cell_type": "markdown",
   "id": "f7257a87",
   "metadata": {},
   "source": [
    "Обчислити сили струмів $І_1$, $І_2$, $І_3$, $A$"
   ]
  },
  {
   "cell_type": "code",
   "execution_count": 28,
   "id": "0ac525e1",
   "metadata": {},
   "outputs": [
    {
     "data": {
      "text/latex": [
       "$\\displaystyle I_1=3.159e-03\\,A$"
      ],
      "text/plain": [
       "<IPython.core.display.Math object>"
      ]
     },
     "metadata": {},
     "output_type": "display_data"
    },
    {
     "data": {
      "text/latex": [
       "$\\displaystyle I_2=3.345e-03\\,A$"
      ],
      "text/plain": [
       "<IPython.core.display.Math object>"
      ]
     },
     "metadata": {},
     "output_type": "display_data"
    },
    {
     "data": {
      "text/latex": [
       "$\\displaystyle I_3=-1.857e-04\\,A$"
      ],
      "text/plain": [
       "<IPython.core.display.Math object>"
      ]
     },
     "metadata": {},
     "output_type": "display_data"
    }
   ],
   "source": [
    "I_1, I_2, I_3 = calc_I(my_resistors, my_epsilons)\n",
    "disp_I(I_1, I_2, I_3)"
   ]
  },
  {
   "cell_type": "code",
   "execution_count": 30,
   "id": "6517fdc1",
   "metadata": {},
   "outputs": [],
   "source": [
    "all_results += [[\\\n",
    "    my_resistors, my_epsilons, \\\n",
    "    [calc_U(my_resistors, my_epsilons)], \\\n",
    "    [calc_U_errors(my_voltages, U1_calc, U2_calc, U3_calc)],\\\n",
    "    [calc_I(my_resistors, my_epsilons)]\n",
    "    ]]"
   ]
  },
  {
   "cell_type": "markdown",
   "id": "f6b0f8e2",
   "metadata": {},
   "source": [
    "# The Third measuring"
   ]
  },
  {
   "cell_type": "markdown",
   "id": "9b3bcdfc",
   "metadata": {},
   "source": [
    "Встановити напруги джерел живлення $\\epsilon_1$ та $\\epsilon_2$. Встановити опори $R_0$, $R_1$, $R_2$ і $R_3$. значення $V$, $Om$"
   ]
  },
  {
   "cell_type": "code",
   "execution_count": 34,
   "id": "c10d3371",
   "metadata": {},
   "outputs": [],
   "source": [
    "my_resistors = [R_1 == 108.2, \\\n",
    "                  R_0_left == 780, \\\n",
    "                  R_0_right == 795, \\\n",
    "                  R_2 == 816, \\\n",
    "                  R_3 == 2700]\n",
    "my_epsilons  = [epsilon_1 == 2.73, \\\n",
    "                  epsilon_2 == 5.56]"
   ]
  },
  {
   "cell_type": "code",
   "execution_count": 35,
   "id": "9bf7c317",
   "metadata": {},
   "outputs": [
    {
     "data": {
      "text/latex": [
       "$\\displaystyle R_{1} = 108 \\, \\Omega$"
      ],
      "text/plain": [
       "<IPython.core.display.Math object>"
      ]
     },
     "metadata": {},
     "output_type": "display_data"
    },
    {
     "data": {
      "text/latex": [
       "$\\displaystyle R_{0_{\\mathit{left}}} = 780 \\, \\Omega$"
      ],
      "text/plain": [
       "<IPython.core.display.Math object>"
      ]
     },
     "metadata": {},
     "output_type": "display_data"
    },
    {
     "data": {
      "text/latex": [
       "$\\displaystyle R_{0_{\\mathit{right}}} = 795 \\, \\Omega$"
      ],
      "text/plain": [
       "<IPython.core.display.Math object>"
      ]
     },
     "metadata": {},
     "output_type": "display_data"
    },
    {
     "data": {
      "text/latex": [
       "$\\displaystyle R_{2} = 816 \\, \\Omega$"
      ],
      "text/plain": [
       "<IPython.core.display.Math object>"
      ]
     },
     "metadata": {},
     "output_type": "display_data"
    },
    {
     "data": {
      "text/latex": [
       "$\\displaystyle R_{3} = 2700 \\, \\Omega$"
      ],
      "text/plain": [
       "<IPython.core.display.Math object>"
      ]
     },
     "metadata": {},
     "output_type": "display_data"
    },
    {
     "data": {
      "text/latex": [
       "$\\displaystyle \\epsilon_{1} = 2.73 \\, V$"
      ],
      "text/plain": [
       "<IPython.core.display.Math object>"
      ]
     },
     "metadata": {},
     "output_type": "display_data"
    },
    {
     "data": {
      "text/latex": [
       "$\\displaystyle \\epsilon_{2} = 5.56 \\, V$"
      ],
      "text/plain": [
       "<IPython.core.display.Math object>"
      ]
     },
     "metadata": {},
     "output_type": "display_data"
    }
   ],
   "source": [
    "disp_my_resistors_and_epsilons()"
   ]
  },
  {
   "cell_type": "markdown",
   "id": "fed9c553",
   "metadata": {},
   "source": [
    "Обчислити напруги $U 1_{обч.}$, $U 2_{обч.}$ $U 3_{обч}$ і їх значення, $V$"
   ]
  },
  {
   "cell_type": "code",
   "execution_count": 36,
   "id": "06ca1abe",
   "metadata": {},
   "outputs": [
    {
     "data": {
      "text/latex": [
       "$\\displaystyle U_{1_{calc}} =0.354\\, V$"
      ],
      "text/plain": [
       "<IPython.core.display.Math object>"
      ]
     },
     "metadata": {},
     "output_type": "display_data"
    },
    {
     "data": {
      "text/latex": [
       "$\\displaystyle U_{2_{calc}} =2.726\\, V$"
      ],
      "text/plain": [
       "<IPython.core.display.Math object>"
      ]
     },
     "metadata": {},
     "output_type": "display_data"
    },
    {
     "data": {
      "text/latex": [
       "$\\displaystyle U_{3_{calc}} =-0.178\\, V$"
      ],
      "text/plain": [
       "<IPython.core.display.Math object>"
      ]
     },
     "metadata": {},
     "output_type": "display_data"
    }
   ],
   "source": [
    "U1_calc, U2_calc, U3_calc, U0L_calc, U0R_calc = \\\n",
    "    calc_U(my_resistors, my_epsilons)\n",
    "disp_U_calc(U1_calc, U2_calc, U3_calc)"
   ]
  },
  {
   "cell_type": "markdown",
   "id": "d88e7bec",
   "metadata": {},
   "source": [
    "виміряти спади напруг $U 1_{вим}$, $U 2_{вим}$ і $U 3_{вим}$ на цих опорах вольтметром, $V$"
   ]
  },
  {
   "cell_type": "code",
   "execution_count": 37,
   "id": "9b55e585",
   "metadata": {},
   "outputs": [
    {
     "data": {
      "text/latex": [
       "$\\displaystyle U_{1} = 0.45 \\, V$"
      ],
      "text/plain": [
       "<IPython.core.display.Math object>"
      ]
     },
     "metadata": {},
     "output_type": "display_data"
    },
    {
     "data": {
      "text/latex": [
       "$\\displaystyle U_{2} = 2.70 \\, V$"
      ],
      "text/plain": [
       "<IPython.core.display.Math object>"
      ]
     },
     "metadata": {},
     "output_type": "display_data"
    },
    {
     "data": {
      "text/latex": [
       "$\\displaystyle U_{3} = -0.19 \\, V$"
      ],
      "text/plain": [
       "<IPython.core.display.Math object>"
      ]
     },
     "metadata": {},
     "output_type": "display_data"
    }
   ],
   "source": [
    "my_voltages = [U_1 == 0.454, \\\n",
    "                 U_2 == 2.7, \\\n",
    "                 U_3 == -0.19]\n",
    "for my_voltage in my_voltages:\n",
    "    displ(latex(my_voltage.lhs()) + \"=\" + format(RDF(my_voltage.rhs()), '.2f') + \"\\\\, V\")"
   ]
  },
  {
   "cell_type": "code",
   "execution_count": 38,
   "id": "e37c3f0e",
   "metadata": {},
   "outputs": [
    {
     "data": {
      "text/plain": [
       "(-22.0, 0.959, -6.11)"
      ]
     },
     "execution_count": 38,
     "metadata": {},
     "output_type": "execute_result"
    }
   ],
   "source": [
    "calc_U_errors(my_voltages, U1_calc, U2_calc, U3_calc)"
   ]
  },
  {
   "cell_type": "markdown",
   "id": "903da00f",
   "metadata": {},
   "source": [
    "Обчислити сили струмів $І_1$, $І_2$, $І_3$, $A$"
   ]
  },
  {
   "cell_type": "code",
   "execution_count": 39,
   "id": "eb9e6775",
   "metadata": {},
   "outputs": [
    {
     "data": {
      "text/latex": [
       "$\\displaystyle I_1=3.274e-03\\,A$"
      ],
      "text/plain": [
       "<IPython.core.display.Math object>"
      ]
     },
     "metadata": {},
     "output_type": "display_data"
    },
    {
     "data": {
      "text/latex": [
       "$\\displaystyle I_2=3.341e-03\\,A$"
      ],
      "text/plain": [
       "<IPython.core.display.Math object>"
      ]
     },
     "metadata": {},
     "output_type": "display_data"
    },
    {
     "data": {
      "text/latex": [
       "$\\displaystyle I_3=-6.607e-05\\,A$"
      ],
      "text/plain": [
       "<IPython.core.display.Math object>"
      ]
     },
     "metadata": {},
     "output_type": "display_data"
    }
   ],
   "source": [
    "I_1, I_2, I_3 = calc_I(my_resistors, my_epsilons)\n",
    "disp_I(I_1, I_2, I_3)"
   ]
  },
  {
   "cell_type": "code",
   "execution_count": 40,
   "id": "752cf2f2",
   "metadata": {},
   "outputs": [],
   "source": [
    "all_results += [[\\\n",
    "    my_resistors, my_epsilons, \\\n",
    "    [calc_U(my_resistors, my_epsilons)], \\\n",
    "    [calc_U_errors(my_voltages, U1_calc, U2_calc, U3_calc)],\\\n",
    "    [calc_I(my_resistors, my_epsilons)]\n",
    "    ]]"
   ]
  },
  {
   "cell_type": "markdown",
   "id": "289efc27",
   "metadata": {},
   "source": [
    "# The 4rd measuring"
   ]
  },
  {
   "cell_type": "markdown",
   "id": "9a013b82",
   "metadata": {},
   "source": [
    "Встановити напруги джерел живлення $\\epsilon_1$ та $\\epsilon_2$. Встановити опори $R_0$, $R_1$, $R_2$ і $R_3$. значення $V$, $Om$"
   ]
  },
  {
   "cell_type": "code",
   "execution_count": 41,
   "id": "a1990faf",
   "metadata": {},
   "outputs": [],
   "source": [
    "my_resistors = [R_1 == 108.2, \\\n",
    "                  R_0_left == 780, \\\n",
    "                  R_0_right == 795, \\\n",
    "                  R_2 == 308, \\\n",
    "                  R_3 == 2700]\n",
    "my_epsilons  = [epsilon_1 == 2.68, \\\n",
    "                  epsilon_2 == 5.43]"
   ]
  },
  {
   "cell_type": "markdown",
   "id": "ffc4d146",
   "metadata": {},
   "source": [
    "Обчислити напруги $U 1_{обч.}$, $U 2_{обч.}$ $U 3_{обч}$ і їх значення, $V$"
   ]
  },
  {
   "cell_type": "code",
   "execution_count": 42,
   "id": "8d7167ca",
   "metadata": {},
   "outputs": [
    {
     "data": {
      "text/latex": [
       "$\\displaystyle U_{1_{calc}} =0.423\\, V$"
      ],
      "text/plain": [
       "<IPython.core.display.Math object>"
      ]
     },
     "metadata": {},
     "output_type": "display_data"
    },
    {
     "data": {
      "text/latex": [
       "$\\displaystyle U_{2_{calc}} =1.295\\, V$"
      ],
      "text/plain": [
       "<IPython.core.display.Math object>"
      ]
     },
     "metadata": {},
     "output_type": "display_data"
    },
    {
     "data": {
      "text/latex": [
       "$\\displaystyle U_{3_{calc}} =-0.793\\, V$"
      ],
      "text/plain": [
       "<IPython.core.display.Math object>"
      ]
     },
     "metadata": {},
     "output_type": "display_data"
    }
   ],
   "source": [
    "U1_calc, U2_calc, U3_calc, U0L_calc, U0R_calc = \\\n",
    "    calc_U(my_resistors, my_epsilons)\n",
    "disp_U_calc(U1_calc, U2_calc, U3_calc)"
   ]
  },
  {
   "cell_type": "markdown",
   "id": "50b5282a",
   "metadata": {},
   "source": [
    "виміряти спади напруг $U 1_{вим}$, $U 2_{вим}$ і $U 3_{вим}$ на цих опорах вольтметром, $V$"
   ]
  },
  {
   "cell_type": "code",
   "execution_count": 44,
   "id": "055661a9",
   "metadata": {},
   "outputs": [
    {
     "data": {
      "text/latex": [
       "$\\displaystyle U_{1} = 0.43 \\, V$"
      ],
      "text/plain": [
       "<IPython.core.display.Math object>"
      ]
     },
     "metadata": {},
     "output_type": "display_data"
    },
    {
     "data": {
      "text/latex": [
       "$\\displaystyle U_{2} = 1.31 \\, V$"
      ],
      "text/plain": [
       "<IPython.core.display.Math object>"
      ]
     },
     "metadata": {},
     "output_type": "display_data"
    },
    {
     "data": {
      "text/latex": [
       "$\\displaystyle U_{3} = -0.81 \\, V$"
      ],
      "text/plain": [
       "<IPython.core.display.Math object>"
      ]
     },
     "metadata": {},
     "output_type": "display_data"
    }
   ],
   "source": [
    "my_voltages = [U_1 == 0.43, \\\n",
    "                 U_2 == 1.308, \\\n",
    "                 U_3 == -0.814]\n",
    "for my_voltage in my_voltages:\n",
    "    displ(latex(my_voltage.lhs()) + \"=\" + format(RDF(my_voltage.rhs()), '.2f') + \"\\\\, V\")"
   ]
  },
  {
   "cell_type": "markdown",
   "id": "3f86ce79",
   "metadata": {},
   "source": [
    "Порівняти виміряні і обчислені значення напруг $U_1$, $U_2$, $U_3$ і визначити відносне відхилення у відсотках."
   ]
  },
  {
   "cell_type": "code",
   "execution_count": 45,
   "id": "10afee49",
   "metadata": {},
   "outputs": [
    {
     "data": {
      "text/plain": [
       "(-1.61, -1.01, -2.57)"
      ]
     },
     "execution_count": 45,
     "metadata": {},
     "output_type": "execute_result"
    }
   ],
   "source": [
    "calc_U_errors(my_voltages, U1_calc, U2_calc, U3_calc)"
   ]
  },
  {
   "cell_type": "markdown",
   "id": "3f11b9d7",
   "metadata": {},
   "source": [
    "Обчислити сили струмів $І_1$, $І_2$, $І_3$, $A$"
   ]
  },
  {
   "cell_type": "code",
   "execution_count": 46,
   "id": "b4b2890d",
   "metadata": {},
   "outputs": [
    {
     "data": {
      "text/latex": [
       "$\\displaystyle I_1=3.910e-03\\,A$"
      ],
      "text/plain": [
       "<IPython.core.display.Math object>"
      ]
     },
     "metadata": {},
     "output_type": "display_data"
    },
    {
     "data": {
      "text/latex": [
       "$\\displaystyle I_2=4.204e-03\\,A$"
      ],
      "text/plain": [
       "<IPython.core.display.Math object>"
      ]
     },
     "metadata": {},
     "output_type": "display_data"
    },
    {
     "data": {
      "text/latex": [
       "$\\displaystyle I_3=-2.937e-04\\,A$"
      ],
      "text/plain": [
       "<IPython.core.display.Math object>"
      ]
     },
     "metadata": {},
     "output_type": "display_data"
    }
   ],
   "source": [
    "I_1, I_2, I_3 = calc_I(my_resistors, my_epsilons)\n",
    "disp_I(I_1, I_2, I_3)"
   ]
  },
  {
   "cell_type": "code",
   "execution_count": 48,
   "id": "da5de625",
   "metadata": {},
   "outputs": [],
   "source": [
    "all_results += [[\\\n",
    "    my_resistors, my_epsilons, \\\n",
    "    [calc_U(my_resistors, my_epsilons)], \\\n",
    "    [calc_U_errors(my_voltages, U1_calc, U2_calc, U3_calc)],\\\n",
    "    [calc_I(my_resistors, my_epsilons)]\n",
    "    ]]"
   ]
  },
  {
   "cell_type": "code",
   "execution_count": null,
   "id": "95db3b95",
   "metadata": {},
   "outputs": [],
   "source": [
    "import common as cm\n",
    "cm.displ(cm.latex_arr(M,titles = [\"T,\\\\, ^{\\\\circ}C\", \"l_{1},\\\\, \\\\%\", \"l_2,\\\\, \\\\%\", \"X,\\\\, \\\\Omega\"],\n",
    "                formats = ['.2f', '.1f', '.1f', '.4f'], indexes = [0,1,2,3]))"
   ]
  },
  {
   "cell_type": "code",
   "execution_count": 56,
   "id": "a71060a6",
   "metadata": {},
   "outputs": [
    {
     "name": "stdout",
     "output_type": "stream",
     "text": [
      "[[R_1 == 800, R_0_left == 780, R_0_right == 795, R_2 == 816, R_3 == 2700], [epsilon_1 == 4.55000000000000, epsilon_2 == 6.35000000000000], [(2.63487404444731, 2.88518745497747, -0.653876237783440, 2.56900219333613, 2.81093630723908)], [(0.185, 4.54, 23.4)], [(0.00329359255555914, 0.00353576893992338, -0.000242176384364237)]]\n",
      "\n",
      "[R_1 == 800, R_0_left == 780, R_0_right == 795, R_2 == 816, R_3 == 2700]\n",
      "[epsilon_1 == 4.55000000000000, epsilon_2 == 6.35000000000000]\n",
      "[(2.63487404444731, 2.88518745497747, -0.653876237783440, 2.56900219333613, 2.81093630723908)]\n",
      "[(0.185, 4.54, 23.4)]\n",
      "[(0.00329359255555914, 0.00353576893992338, -0.000242176384364237)]\n",
      "\n",
      "[[R_1 == 800, R_0_left == 780, R_0_right == 795, R_2 == 816, R_3 == 2700], [epsilon_1 == 4.49000000000000, epsilon_2 == 5.89000000000000], [(2.52731026029739, 2.72940210087196, -0.501437764087346, 2.46412750378996, 2.65916013504069)], [(-2.80, -1.47, -5.39)], [(0.00315913782537174, 0.00334485551577446, -0.000185717690402721)]]\n",
      "\n",
      "[R_1 == 800, R_0_left == 780, R_0_right == 795, R_2 == 816, R_3 == 2700]\n",
      "[epsilon_1 == 4.49000000000000, epsilon_2 == 5.89000000000000]\n",
      "[(2.52731026029739, 2.72940210087196, -0.501437764087346, 2.46412750378996, 2.65916013504069)]\n",
      "[(-2.80, -1.47, -5.39)]\n",
      "[(0.00315913782537174, 0.00334485551577446, -0.000185717690402721)]\n",
      "\n",
      "[[R_1 == 108.200000000000, R_0_left == 780, R_0_right == 795, R_2 == 816, R_3 == 2700], [epsilon_1 == 2.73000000000000, epsilon_2 == 5.56000000000000], [(0.354297962537021, 2.72588229796356, -0.178386786741051, 2.55408882420403, 2.65573091529538)], [(-22.0, 0.959, -6.11)], [(0.00327447285154363, 0.00334054203181809, -0.0000660691802744636)]]\n",
      "\n",
      "[R_1 == 108.200000000000, R_0_left == 780, R_0_right == 795, R_2 == 816, R_3 == 2700]\n",
      "[epsilon_1 == 2.73000000000000, epsilon_2 == 5.56000000000000]\n",
      "[(0.354297962537021, 2.72588229796356, -0.178386786741051, 2.55408882420403, 2.65573091529538)]\n",
      "[(-22.0, 0.959, -6.11)]\n",
      "[(0.00327447285154363, 0.00334054203181809, -0.0000660691802744636)]\n",
      "\n",
      "[[R_1 == 108.200000000000, R_0_left == 780, R_0_right == 795, R_2 == 308, R_3 == 2700], [epsilon_1 == 2.68000000000000, epsilon_2 == 5.43000000000000], [(0.423085404128299, 1.29481353633427, -0.793054121504211, 3.04996871737591, 3.34213234216152)], [(-1.61, -1.01, -2.57)], [(0.00391021630432809, 0.00420394005303335, -0.000293723748705263)]]\n",
      "\n",
      "[R_1 == 108.200000000000, R_0_left == 780, R_0_right == 795, R_2 == 308, R_3 == 2700]\n",
      "[epsilon_1 == 2.68000000000000, epsilon_2 == 5.43000000000000]\n",
      "[(0.423085404128299, 1.29481353633427, -0.793054121504211, 3.04996871737591, 3.34213234216152)]\n",
      "[(-1.61, -1.01, -2.57)]\n",
      "[(0.00391021630432809, 0.00420394005303335, -0.000293723748705263)]\n",
      "\n"
     ]
    }
   ],
   "source": [
    "ltx = \"\"\n",
    "\n",
    "for result in all_results:\n",
    "    print(result)\n",
    "    print(\"\")\n",
    "    myResistors, myEpsilons, calcU, calcUerr, calcI = result\n",
    "    print(myResistors)\n",
    "    print(myEpsilons)\n",
    "    print(calcU)\n",
    "    print(calcUerr)\n",
    "    print(calcI)\n",
    "    print(\"\")\n"
   ]
  },
  {
   "cell_type": "code",
   "execution_count": null,
   "id": "7aa711a3",
   "metadata": {},
   "outputs": [],
   "source": [
    "def latex_arr(M, titles, indexes, formats):\n",
    "    ltx = \"\\\\begin{array}{\"\n",
    "    for index in indexes:\n",
    "        ltx += 'c'\n",
    "    ltx += \"} \"\n",
    "    ititle = 0\n",
    "    for title in titles:\n",
    "        ltx += title\n",
    "        if ititle < len(titles) - 1:\n",
    "            ltx += \" & \"\n",
    "        else:\n",
    "            ltx += \" \\\\\\\\\"\n",
    "        ititle += 1\n",
    "    for row in M:\n",
    "        if len(row) > 0: # and row[0] != '#':\n",
    "            ltx += \" \"\n",
    "            ititle = 0\n",
    "            for index in indexes:\n",
    "                if index < len(row):\n",
    "                    ltx += format(row[index], formats[index])\n",
    "                else:\n",
    "                    ltx += \" \"\n",
    "                if ititle < len(titles) - 1:\n",
    "                    ltx += \" & \"\n",
    "                else:\n",
    "                    ltx += \" \\\\\\\\\"\n",
    "                ititle += 1    \n",
    "    ltx += \"\\\\end{array}\"\n",
    "    return ltx"
   ]
  },
  {
   "cell_type": "code",
   "execution_count": null,
   "id": "ec1973ae",
   "metadata": {},
   "outputs": [],
   "source": []
  }
 ],
 "metadata": {
  "kernelspec": {
   "display_name": "SageMath 9.6.beta7",
   "language": "sage",
   "name": "sagemath"
  },
  "language_info": {
   "codemirror_mode": {
    "name": "ipython",
    "version": 3
   },
   "file_extension": ".py",
   "mimetype": "text/x-python",
   "name": "python",
   "nbconvert_exporter": "python",
   "pygments_lexer": "ipython3",
   "version": "3.10.3"
  }
 },
 "nbformat": 4,
 "nbformat_minor": 5
}

{
 "cells": [
  {
   "cell_type": "code",
   "execution_count": 2,
   "id": "51e3c657",
   "metadata": {},
   "outputs": [],
   "source": [
    "L = 0.538 # mGenry\n",
    "C = 90 # pikaFarad\n",
    "R = 2690 # Omh"
   ]
  },
  {
   "cell_type": "code",
   "execution_count": 3,
   "id": "26a56447",
   "metadata": {},
   "outputs": [
    {
     "data": {
      "text/plain": [
       "723282.136485332"
      ]
     },
     "execution_count": 3,
     "metadata": {},
     "output_type": "execute_result"
    }
   ],
   "source": [
    "f = 1/(2*pi*sqrt(L * 10^(-3) * C * 10^(-12)))\n",
    "f.n()"
   ]
  },
  {
   "cell_type": "code",
   "execution_count": 4,
   "id": "21d3c613",
   "metadata": {},
   "outputs": [
    {
     "data": {
      "text/plain": [
       "323461.604818497"
      ]
     },
     "execution_count": 4,
     "metadata": {},
     "output_type": "execute_result"
    }
   ],
   "source": [
    "f = 1/(2*pi*sqrt(L * 10^(-3) * C*5 * 10^(-12)))\n",
    "f.n()"
   ]
  },
  {
   "cell_type": "code",
   "execution_count": 5,
   "id": "6690216c",
   "metadata": {},
   "outputs": [],
   "source": [
    "# H2O"
   ]
  },
  {
   "cell_type": "code",
   "execution_count": 6,
   "id": "9d2d6e10",
   "metadata": {},
   "outputs": [],
   "source": [
    "f_mU = [\n",
    "    [495.05, 864],\n",
    "    [494.07, 864],\n",
    "    [501.35, 864],\n",
    "    [575.37, 824],\n",
    "    [599.52, 788],\n",
    "    [626.57, 740],\n",
    "    [645.99, 684],\n",
    "    [658.78, 660],\n",
    "    [672.95, 628],\n",
    "    [692.52, 572],\n",
    "    [712.25, 532],\n",
    "    [728.86, 498], #488\n",
    "    [741.84, 460],\n",
    "    [753.01, 438],\n",
    "    [744.05, 456],\n",
    "    [729.93, 494],\n",
    "    [712.25, 528],\n",
    "    [691.56, 580],\n",
    "    [670.24, 632],\n",
    "    [646.89, 684],\n",
    "    [623.67, 742],\n",
    "    [600.24, 788],\n",
    "    [577.30, 820],\n",
    "    [553.71, 840],\n",
    "    [534.76, 864],\n",
    "    [513.35, 864],\n",
    "    [495.54, 864],\n",
    "    [484.50, 864],\n",
    "    [475.74, 860],\n",
    "    [463.39, 852],\n",
    "    [457.46, 852],\n",
    "    [450.45, 852],\n",
    "    [441.70, 840],\n",
    "    [435.54, 840],\n",
    "    [428.08, 836],\n",
    "    [420.52, 828],\n",
    "    [415.68, 828],\n",
    "    [409.17, 824],\n",
    "    [403.55, 820],\n",
    "    [397.14, 820],\n",
    "    [391.24, 812],\n",
    "    [385.51, 804],\n",
    "    [381.10, 800],\n",
    "    [375.09, 796],\n",
    "    [370.64, 796],\n",
    "    [365.50, 792],\n",
    "    [360.49, 788],\n",
    "    [357.14, 788],\n",
    "    [353.11, 784],\n",
    "    [348.43, 780],\n",
    "    [344.00, 780],\n",
    "    [341.30, 772],\n",
    "    [337.38, 772],\n",
    "    [335.12, 764],\n",
    "    [172.00, 684],\n",
    "    [171.76, 688],\n",
    "    [ 92.46, 716],\n",
    "    [171.70, 688],\n",
    "    [172.89, 688],\n",
    "    [174.83, 692],\n",
    "    [176.06, 692],\n",
    "    [183.55, 692],#682\n",
    "    [192.90, 692],\n",
    "    [204.25, 708],\n",
    "    [216.26, 708],\n",
    "    [230.20, 716],\n",
    "    [247.04, 724],\n",
    "    [263.71, 740],\n",
    "    [284.09, 748],\n",
    "    [302.66, 756],\n",
    "    [323.00, 764],\n",
    "    [339.67, 780],\n",
    "    [348.19, 788],\n",
    "    [352.11, 788],\n",
    "    [357.11, 788],\n",
    "    [  1700, 128],\n",
    "    [  1720, 116],\n",
    "    [  1680, 116],\n",
    "    [  1650, 116],\n",
    "    [  1600, 104],\n",
    "    [  1610, 104],\n",
    "    [  1490,  92],\n",
    "    [  1380,  76],\n",
    "    [  1270,  48],\n",
    "    [  1060,  44],\n",
    "    [  1010,  92],\n",
    "    [943.40, 144],\n",
    "    [878.73, 212],\n",
    "    [836.12, 288],\n",
    "    [831.95, 288],\n",
    "    [786.10, 360],\n",
    "    [749.63, 436],\n",
    "]"
   ]
  },
  {
   "cell_type": "code",
   "execution_count": 7,
   "id": "94427c06",
   "metadata": {},
   "outputs": [
    {
     "data": {
      "image/png": "[encoded data removed]",
      "text/plain": [
       "Graphics object consisting of 1 graphics primitive"
      ]
     },
     "metadata": {},
     "output_type": "display_data"
    }
   ],
   "source": [
    "p = list_plot(f_mU)\n",
    "p.show(axes_labels=['$f$','$U, mV$'])"
   ]
  },
  {
   "cell_type": "code",
   "execution_count": 8,
   "id": "b76bc892",
   "metadata": {},
   "outputs": [],
   "source": [
    "# with H20\n",
    "\n",
    "f_U_water_1 = [\n",
    "    [92.42, 3.48],\n",
    "    [93.28, 3.48],\n",
    "    [94.16, 3.48],\n",
    "    [96.71, 3.48],\n",
    "    [98.43, 3.48],\n",
    "    [101.01, 3.44],\n",
    "    [103.09, 3.44],\n",
    "    [105.71, 3.4],\n",
    "    [108.46, 3.4],\n",
    "    [111.86, 3.36],\n",
    "    [114.94, 3.32],\n",
    "    [118.20, 3.32],\n",
    "    [121.65, 3.28],\n",
    "    [125.63, 3.28],\n",
    "    [129.53, 3.28],\n",
    "    [134.41, 3.24],\n",
    "    [138.50, 3.24],\n",
    "    [138.12, 3.2],\n",
    "    [143.27, 3.24],\n",
    "    [161.81, 3.24],\n",
    "    [170.65, 3.2],\n",
    "    [180.51, 3.24],\n",
    "    [171.82, 3.24],\n",
    "    [172.41, 3.24],\n",
    "    [179.21, 3.24],\n",
    "    [188.68, 3.24],\n",
    "    [199.20, 3.28],\n",
    "    [210.08, 3.32],\n",
    "    [224.22, 3.44],\n",
    "    [239.23, 3.48],\n",
    "    [252.53, 3.56],\n",
    "    [271.74, 3.6],\n",
    "    [294.12, 3.64],\n",
    "    [314.47, 3.72],\n",
    "    [314.86, 3.72],\n",
    "    [314.47, 3.72],\n",
    "    [332.45, 3.76],\n",
    "    [347.22, 3.8],\n",
    "    [355.62, 3.8],\n",
    "    [356.13, 3.84],\n",
    "    [335.12, 3.76],\n",
    "    [337.84, 3.76],\n",
    "    [352.11, 3.8],\n",
    "    [370.37, 3.88],\n",
    "    [414.59, 4],\n",
    "    [443.26, 4.12],\n",
    "    [477.10, 4.16],\n",
    "    [515.46, 4.16],\n",
    "    [549.45, 3.84],\n",
    "    [598.09, 3.6],\n",
    "    [644.33, 3.2],\n",
    "    [690.61, 2.72],\n",
    "    [730.99, 2.24],\n",
    "    [753.01, 2.04],\n",
    "    [753.01, 2],\n",
    "    [726.74, 2.24],\n",
    "    [730.99, 2.16],\n",
    "    [766.87, 1.88],\n",
    "    [803.86, 1.56],\n",
    "    [847.46, 1.2],\n",
    "    [883.39, 1.04],\n",
    "    [925.93, 0.960],\n",
    "    [968.99, 0.640],\n",
    "     [516.53*2, 0.440],#???\n",
    "     [606.80*2, 0.160],\n",
    "]\n",
    "\n",
    "f_U_water_2 = [\n",
    "     [606.80*2, 0.160],\n",
    "    [1320, 0.320],\n",
    "    [1490, 0.440],\n",
    "    [1550, 0.500],\n",
    "    [1670, 0.580],\n",
    "    [1560, 0.520],\n",
    "    [1410, 0.420],\n",
    "    [1310, 0.320],\n",
    "    [1620, 0.560],\n",
    "    [1700, 0.600],\n",
    "    # [1630, 0.600],\n",
    "    [1630, 0.560],\n",
    "    [1710, 0.620],\n",
    "    [1790, 0.640],\n",
    "    [1940, 0.700],\n",
    "    [2060, 0.720],\n",
    "    [2190, 0.780],\n",
    "    [2380, 0.800],\n",
    "    [2580, 0.820],\n",
    "    [2810, 0.820],\n",
    "    [3110, 0.880],\n",
    "    [3400, 0.880],\n",
    "    [3600, 0.920],\n",
    "    [3910, 0.940],\n",
    "    [4100, 0.940],\n",
    "    [3940, 0.960],\n",
    "    [4130, 1.000],\n",
    "    [4310, 1.000],\n",
    "    [4590, 1.040],\n",
    "    [4810, 1.080],\n",
    "    [5680, 1.12],\n",
    "    [6100, 1.24],\n",
    "    [6250, 1.24],\n",
    "    [6410, 1.3],\n",
    "    [6760, 1.1],\n",
    "    [7580, 1],\n",
    "]\n",
    "    \n",
    "f_U_water_3 = [\n",
    "    [7580, 1],\n",
    "    [8330, 1.2],\n",
    "    [9090, 1.28],\n",
    "    [9800, 1.4],\n",
    "    [10200, 1.52],\n",
    "    [9260, 1.28],\n",
    "    [9800, 1.4],\n",
    "    [10200, 1.48],\n",
    "    [10640, 1.6],\n",
    "    [11360, 1.6],\n",
    "    [11900,1.46],\n",
    "    [11110, 1.64],\n",
    "    [11630, 1.48],\n",
    "    [11900, 1.4],\n",
    "    [12200, 1.28],\n",
    "    [12820, 1.22],\n",
    "]\n",
    "\n",
    "f_U_water_4 = [\n",
    "    [12820, 1.22],\n",
    "    [13510, 1.4],\n",
    "    [13890, 1.52],\n",
    "    [13890, 1.48],\n",
    "    [14490, 1.6],\n",
    "    [15150, 1.44],\n",
    "    [15620, 0.88],\n",
    "    [16390, 0.9],\n",
    "    # [16670, 1.22],\n",
    "    [16670, 1.4],\n",
    "    [17240, 1.46],\n",
    "    [17240, 1.48],\n",
    "    [17860, 1.5],\n",
    "    [18180, 1.4],\n",
    "    [18520, 1.32],\n",
    "    [18870, 1.32],\n",
    "    [18520, 1.3],\n",
    "    [19230, 1.2],\n",
    "    [19610, 1.16],\n",
    "    [20000, 1.08],\n",
    "    [20000, 1.02],\n",
    "    [19610, 1.14],\n",
    "    [20000, 1.04],\n",
    "    [20830, 0.920],\n",
    "    [22220, 0.780],\n",
    "    [23260, 0.720],\n",
    "    [23810, 0.660],\n",
    "    [24390, 0.580],\n",
    "    [25640, 0.520],\n",
    "    [27030, 0.420],\n",
    "    [27780, 0.360],\n",
    "    #[29410, 0.360]\n",
    "    [32260, 0.260],\n",
    "]"
   ]
  },
  {
   "cell_type": "code",
   "execution_count": 9,
   "id": "7182410e",
   "metadata": {},
   "outputs": [],
   "source": [
    "# with air\n",
    "f_U_air_1 = [\n",
    "    [92.59, 0.44],\n",
    "    [94.34, 0.448],\n",
    "    [98.62, 0.472],\n",
    "    [102.88, 0.496],\n",
    "    [109.17, 0.554],\n",
    "    [114.94, 0.568],\n",
    "    [121.95, 0.608],\n",
    "    [129.53, 0.648],\n",
    "    [137.74, 0.680],\n",
    "    [156.74, 0.728],\n",
    "    [166.11, 0.744],\n",
    "    [175.44, 0.776],\n",
    "    [178.57, 0.792],\n",
    "    [182.48, 0.8],\n",
    "    [173.61, 0.792],\n",
    "    [171.23, 0.792],\n",
    "    [184.50, 0.824],\n",
    "    [193.05, 0.856],\n",
    "    [215.52, 0.872],\n",
    "    [231.48, 0.92],\n",
    "    [246.31, 0.968],\n",
    "    [263.16, 1.02],\n",
    "    [280.90, 1.01],\n",
    "    [303.03, 1],\n",
    "    [322.58, 1.02],\n",
    "    [340.14, 1.06],\n",
    "    [352.11, 1.08],\n",
    "    [359.71, 1.1],\n",
    "    [337.84, 1.06],\n",
    "    [342.47, 1.07],\n",
    "    [359.71, 1.1],\n",
    "    [378.79, 1.14],\n",
    "    [381.10, 1.13],\n",
    "    [403.23, 1.24],\n",
    "    [796.18/2, 1.26],\n",
    "    [451.26, 1.32],\n",
    "    [492.13, 1.4],   \n",
    "    [531.91, 1.54],\n",
    "    [570.78, 1.68],\n",
    "    [621.89, 1.9],\n",
    "    [664.89, 2.24],\n",
    "    [710.23, 2.66],\n",
    "    [744.05, 3.02],\n",
    "    [762.20, 3.2],\n",
    "    [730.99, 2.88],\n",
    "    [753.01, 3.1],\n",
    "    [786.16, 3.24],\n",
    "    [806.45, 3.08],\n",
    "    [796.18, 3.18],\n",
    "    [816.99, 2.9],\n",
    "    [822.37, 2.7],\n",
    "    [838.93, 2.44],\n",
    "    [850.34, 2.18],\n",
    "    [868.06, 1.94],\n",
    "    [880.28, 1.72],\n",
    "    [886.52, 1.52],\n",
    "    [912.41, 1.28],\n",
    "    [939.85, 0.940],\n",
    "    [968.99, 0.740],\n",
    "    [961.54, 0.712],\n",
    "    [965.22, 0.712],\n",
    "    [984.25, 0.560],\n",
    "    [1000.00, 0.496],\n",
    "    [1020, 0.416],\n",
    "    [1050, 0.336],\n",
    "    [1070, 0.200],\n",
    "    [1090, 0.144],\n",
    "    [1150, 0.090],\n",
    "]\n",
    "\n",
    "f_U_air_2 = [\n",
    "    [1150, 0.090],\n",
    "    #[1260, 0.0608],\n",
    "    [1200, 0.0584],\n",
    "    [1220, 0.0808],\n",
    "    [1230, 0.116],\n",
    "    [1240, 0.1488],\n",
    "    [1260, 0.1432],\n",
    "    [1280, 0.194],\n",
    "    [1340, 0.228],\n",
    "    [1340, 0.222],\n",
    "    [1370, 0.246],\n",
    "    [1380, 0.268],\n",
    "    [1440, 0.288],\n",
    "    [1470, 0.316],\n",
    "    [1500, 0.320],\n",
    "    [1550, 0.342],\n",
    "    [1600, 0.370],\n",
    "    [1650, 0.380],\n",
    "    [1680, 0.398],\n",
    "    [1700, 0.394],\n",
    "    [1730, 0.406],\n",
    "    [1630, 0.374],\n",
    "    [1680, 0.398],\n",
    "    [1720, 0.400],\n",
    "    [1770, 0.416],\n",
    "    [1880, 0.440],\n",
    "    [1980, 0.460],\n",
    "    [2130, 0.480],\n",
    "    [2190, 0.488],\n",
    "    [2270, 0.496],\n",
    "    [2460, 0.512],\n",
    "    [2670, 0.524],\n",
    "    [2910, 0.540],\n",
    "    [3210, 0.552],\n",
    "    [3500, 0.560],\n",
    "    [3760, 0.580],\n",
    "    [3880, 0.580],\n",
    "    [3850, 0.580],\n",
    "    [3940, 0.572],\n",
    "    [4070, 0.584],\n",
    "    [3880, 0.576],\n",
    "    [4000, 0.596],\n",
    "    [4200, 0.600],\n",
    "    [4310, 0.604],\n",
    "    [4460, 0.604],\n",
    "    [4590, 0.612],\n",
    "    [4720, 0.616],\n",
    "    [4900, 0.620],\n",
    "    [5050, 0.620],\n",
    "    [5260, 0.624],\n",
    "    [5430, 0.636],\n",
    "    [5880, 0.660],\n",
    "    [5880, 0.652],\n",
    "    [6410, 0.692],\n",
    "    [6760, 0.644],\n",
    "    [6940, 0.552],\n",
    "    [7040, 0.520],\n",
    "]\n",
    "\n",
    "f_U_air_3 = [\n",
    "    [7040, 0.520],\n",
    "    [7250, 0.532],\n",
    "    [7460, 0.592],\n",
    "    [7940, 0.628],\n",
    "    [7870, 0.624],\n",
    "    [8470, 0.660],\n",
    "    [9010, 0.696],\n",
    "    [9430, 0.724],\n",
    "    [10000, 0.780],\n",
    "    [10310, 0.800],\n",
    "    [9170, 0.696],\n",
    "    [9520, 0.720],\n",
    "    [9900, 0.744],\n",
    "    [10310, 0.808],\n",
    "    [10990, 0.848],\n",
    "    [11760, 0.872],\n",
    "    [12200, 0.776],\n",
    "    [12660, 0.712],\n",
    "]\n",
    "\n",
    "f_U_air_4 = [\n",
    "    [12660, 0.712],\n",
    "    [12990, 0.720],\n",
    "    [13330, 0.784],\n",
    "    [14080, 0.880],\n",
    "    [14490, 0.968],\n",
    "    [15150, 1.030],\n",
    "    [15870, 0.944],\n",
    "    [16130, 0.704],\n",
    "    [16150, 0.552],\n",
    "    [16670, 0.776],\n",
    "    [17240, 1.08],\n",
    "    [17540, 1.16],\n",
    "    [17860, 1.27],\n",
    "    [18520, 1.34],\n",
    "    [18870, 1.38],\n",
    "    [19230, 1.33],\n",
    "    [19610, 1.32],\n",
    "    [20000, 1.28],\n",
    "    [20410, 1.24],\n",
    "    [20410, 1.24],\n",
    "    [19610, 1.32],\n",
    "    [19610, 1.3],\n",
    "    [20000, 1.3],\n",
    "    [20000, 1.28],\n",
    "    [20410, 1.28],\n",
    "    [20830, 1.2],\n",
    "    [20830, 1.22],\n",
    "    [20890, 1.16],\n",
    "    [21740, 1.12],\n",
    "    [22220, 1],\n",
    "    [22730, 0.920],\n",
    "    [23810, 0.840],\n",
    "    [23810, 0.820],\n",
    "    [25000, 0.680],\n",
    "    [25000, 0.560],\n",
    "    [25000, 0.600],\n",
    "    [26320, 0.464],\n",
    "    [27030, 0.416],\n",
    "    [27780, 0.384],\n",
    "    [30300, 0.392],\n",
    "    [31250, 0.336],\n",
    "    [32260, 0.240],\n",
    "]\n",
    "f_U_air_5 = [\n",
    "    [31650, 0.272],\n",
    "    [32890, 0.140],\n",
    "    [33780, 0.192],\n",
    "    [34250, 0.124],\n",
    "    [35210, 0.184],\n",
    "    [35710, 0.220],\n",
    "    [37880, 0.252],\n",
    "    [39680, 0.260],\n",
    "    [41670, 0.236],\n",
    "    [42370, 0.208],\n",
    "    [43860, 0.052],\n",
    "    [48080, 0.012],\n",
    "    [47170, 0.0504],\n",
    "    [47170, 0.0664],\n",
    "    [49020, 0.0928],\n",
    "    [51020, 0.1064]\n",
    "]"
   ]
  },
  {
   "cell_type": "code",
   "execution_count": 16,
   "id": "5b9fa3bc",
   "metadata": {},
   "outputs": [
    {
     "data": {
      "image/png": "[encoded data removed]",
      "text/plain": [
       "Graphics object consisting of 2 graphics primitives"
      ]
     },
     "metadata": {},
     "output_type": "display_data"
    }
   ],
   "source": [
    "p = list_plot(f_U_air_1, color=\"green\", legend_label='Конденсатор з повітрям') \\\n",
    "  + list_plot(f_U_water_1,              legend_label='Конденсатор з водою')\n",
    "p.show(axes_labels=['$f, kHz$','$U, V$'])"
   ]
  },
  {
   "cell_type": "code",
   "execution_count": 9,
   "id": "08c3937d",
   "metadata": {},
   "outputs": [],
   "source": [
    "def quality_factor_and_frequency(f_U):\n",
    "    U_max = 0\n",
    "    f_max = 0\n",
    "    for f, U in f_U:\n",
    "        if U_max < U:\n",
    "            U_max = U\n",
    "            f_max = f\n",
    "\n",
    "    print(\"U_max =\", U_max)\n",
    "    print(\"f0 =\", f_max)\n",
    "\n",
    "    U_max_sqrt_2 = U_max / sqrt(2.0)\n",
    "    #print(U_max_sqrt_2)\n",
    "    \n",
    "    f1 = 0\n",
    "    \n",
    "    f_pre = 0\n",
    "    U_pre = 0\n",
    "    \n",
    "    for f, U in f_U:\n",
    "        if U_pre <= U_max_sqrt_2 and U_max_sqrt_2 <= U:\n",
    "            part = (U_max_sqrt_2 - U_pre) / (U - U_pre)\n",
    "            f1 = f_pre + part * (f - f_pre)\n",
    "            \n",
    "        if U_pre >= U_max_sqrt_2 and U_max_sqrt_2 >= U:\n",
    "            part = (U_max_sqrt_2 - U) / (U_pre - U)\n",
    "            f2 = f - part * (f - f_pre)\n",
    "            \n",
    "        f_pre = f\n",
    "        U_pre = U\n",
    "        \n",
    "    print(\"f1, f2 =\", f1, f2)\n",
    "    return f_max / (f2 - f1), f_max"
   ]
  },
  {
   "cell_type": "code",
   "execution_count": 10,
   "id": "abe96b0b",
   "metadata": {},
   "outputs": [
    {
     "name": "stdout",
     "output_type": "stream",
     "text": [
      "U_max = 4.16000000000000\n",
      "f0 = 477.100000000000\n",
      "f1, f2 = 78.1205069723576 669.247517444617\n"
     ]
    }
   ],
   "source": [
    "quality_factor_water, resonant_frequency_water = quality_factor_and_frequency(f_U_water_1)"
   ]
  },
  {
   "cell_type": "code",
   "execution_count": 11,
   "id": "b4ea6804",
   "metadata": {},
   "outputs": [
    {
     "name": "stdout",
     "output_type": "stream",
     "text": [
      "U_max = 3.24000000000000\n",
      "f0 = 786.160000000000\n",
      "f1, f2 = 670.398375064652 845.467667963012\n"
     ]
    }
   ],
   "source": [
    "quality_factor_air, resonant_frequency_air = quality_factor_and_frequency(f_U_air_1)"
   ]
  },
  {
   "cell_type": "code",
   "execution_count": 12,
   "id": "ad50b5e7",
   "metadata": {},
   "outputs": [
    {
     "data": {
      "text/plain": [
       "(0.807102351183104, 477.100000000000)"
      ]
     },
     "execution_count": 12,
     "metadata": {},
     "output_type": "execute_result"
    }
   ],
   "source": [
    "quality_factor_water, resonant_frequency_water"
   ]
  },
  {
   "cell_type": "code",
   "execution_count": 13,
   "id": "4ed970bb",
   "metadata": {},
   "outputs": [
    {
     "data": {
      "text/plain": [
       "(4.49056477572236, 786.160000000000)"
      ]
     },
     "execution_count": 13,
     "metadata": {},
     "output_type": "execute_result"
    }
   ],
   "source": [
    "quality_factor_air, resonant_frequency_air"
   ]
  },
  {
   "cell_type": "code",
   "execution_count": 14,
   "id": "d424fd89",
   "metadata": {},
   "outputs": [],
   "source": [
    "tangent_delta = 1.0 / quality_factor_water - 1.0 / quality_factor_air"
   ]
  },
  {
   "cell_type": "code",
   "execution_count": 15,
   "id": "bdee67c7",
   "metadata": {},
   "outputs": [
    {
     "data": {
      "text/plain": [
       "1.01631109333543"
      ]
     },
     "execution_count": 15,
     "metadata": {},
     "output_type": "execute_result"
    }
   ],
   "source": [
    "tangent_delta"
   ]
  },
  {
   "cell_type": "code",
   "execution_count": 16,
   "id": "f77980c6",
   "metadata": {},
   "outputs": [
    {
     "data": {
      "text/plain": [
       "2.71520767741913"
      ]
     },
     "execution_count": 16,
     "metadata": {},
     "output_type": "execute_result"
    }
   ],
   "source": [
    "epsilon = (resonant_frequency_air^2)/(resonant_frequency_water^2)\n",
    "epsilon"
   ]
  },
  {
   "cell_type": "code",
   "execution_count": 17,
   "id": "a4d0191d",
   "metadata": {},
   "outputs": [
    {
     "data": {
      "image/png": "[encoded data removed]",
      "text/plain": [
       "Graphics object consisting of 2 graphics primitives"
      ]
     },
     "metadata": {},
     "output_type": "display_data"
    }
   ],
   "source": [
    "p = list_plot(f_U_air_2, color=\"green\") \\\n",
    "  + list_plot(f_U_water_2)\n",
    "p.show(axes_labels=['$f$','$U, V$'])"
   ]
  },
  {
   "cell_type": "code",
   "execution_count": 18,
   "id": "04337d8d",
   "metadata": {},
   "outputs": [
    {
     "data": {
      "image/png": "[encoded data removed]",
      "text/plain": [
       "Graphics object consisting of 2 graphics primitives"
      ]
     },
     "metadata": {},
     "output_type": "display_data"
    }
   ],
   "source": [
    "p = list_plot(f_U_air_3, color=\"green\") \\\n",
    "  + list_plot(f_U_water_3)\n",
    "p.show(axes_labels=['$f$','$U, V$'])"
   ]
  },
  {
   "cell_type": "code",
   "execution_count": 19,
   "id": "0226447d",
   "metadata": {},
   "outputs": [
    {
     "data": {
      "image/png": "[encoded data removed]",
      "text/plain": [
       "Graphics object consisting of 2 graphics primitives"
      ]
     },
     "metadata": {},
     "output_type": "display_data"
    }
   ],
   "source": [
    "p = list_plot(f_U_air_4, color=\"green\") \\\n",
    "  + list_plot(f_U_water_4)\n",
    "p.show(axes_labels=['$f$','$U, V$'])"
   ]
  },
  {
   "cell_type": "code",
   "execution_count": null,
   "id": "58a56032",
   "metadata": {},
   "outputs": [],
   "source": []
  }
 ],
 "metadata": {
  "kernelspec": {
   "display_name": "SageMath 9.6.beta7",
   "language": "sage",
   "name": "sagemath"
  },
  "language_info": {
   "codemirror_mode": {
    "name": "ipython",
    "version": 3
   },
   "file_extension": ".py",
   "mimetype": "text/x-python",
   "name": "python",
   "nbconvert_exporter": "python",
   "pygments_lexer": "ipython3",
   "version": "3.10.3"
  }
 },
 "nbformat": 4,
 "nbformat_minor": 5
}

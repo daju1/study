{
 "cells": [
  {
   "cell_type": "markdown",
   "id": "18f6b5ff",
   "metadata": {},
   "source": [
    "# Визначення числа Авогадро"
   ]
  },
  {
   "cell_type": "markdown",
   "id": "9a9ab9d6",
   "metadata": {},
   "source": [
    "$a = \\frac{n \\, \\lambda \\, \\sqrt{h^2\\,+\\,k^2\\,+\\,l^2}}{2\\, sin \\, \\theta}$"
   ]
  },
  {
   "cell_type": "code",
   "execution_count": 1,
   "id": "e55b513c",
   "metadata": {},
   "outputs": [],
   "source": [
    "from IPython.display import display, Math, Latex\n",
    "\n",
    "def disp(ex):\n",
    "    display(Math(latex(ex)))\n",
    "\n",
    "lambda_j = var(\"lambda_j\")\n",
    "theta_i = var(\"theta_i\")\n",
    "n = var(\"n\")\n",
    "h,k,l = var(\"h,k,l\")\n",
    "\n",
    "mu = var(\"mu\")\n",
    "rho = var(\"rho\")\n",
    "n_0 = var(\"n_0\")\n",
    "a = var(\"a\")"
   ]
  },
  {
   "cell_type": "code",
   "execution_count": null,
   "id": "112c4838",
   "metadata": {},
   "outputs": [],
   "source": []
  },
  {
   "cell_type": "code",
   "execution_count": 2,
   "id": "ccffbfae",
   "metadata": {},
   "outputs": [],
   "source": [
    "a_eksp = n * lambda_j * sqrt(h^2+k^2+l^2)/(2*sin(theta_i))"
   ]
  },
  {
   "cell_type": "code",
   "execution_count": 3,
   "id": "54ccc64d",
   "metadata": {},
   "outputs": [
    {
     "data": {
      "text/latex": [
       "$\\displaystyle \\frac{\\sqrt{h^{2} + k^{2} + l^{2}} \\lambda_{j} n}{2 \\, \\sin\\left(\\theta_{i}\\right)}$"
      ],
      "text/plain": [
       "<IPython.core.display.Math object>"
      ]
     },
     "metadata": {},
     "output_type": "display_data"
    }
   ],
   "source": [
    "disp(a_eksp)"
   ]
  },
  {
   "cell_type": "markdown",
   "id": "56ea520d",
   "metadata": {},
   "source": [
    "(111) (200) (220) (311) (222) (400)"
   ]
  },
  {
   "cell_type": "code",
   "execution_count": 4,
   "id": "0a032390",
   "metadata": {},
   "outputs": [],
   "source": [
    "lambdaj_Cu = 1.54*10^(-10)\n",
    "hkl_theta_list_Cu = [(1,1,1, 22, 0),\n",
    "                     (2,0,0, 28, 0),\n",
    "                     (2,2,0, 44, 0),\n",
    "                     (3,1,1, 60, 0),\n",
    "                     (2,2,2, 65, 0)]"
   ]
  },
  {
   "cell_type": "code",
   "execution_count": 5,
   "id": "d5a854c2",
   "metadata": {},
   "outputs": [],
   "source": [
    "lambdaj_Fe = 1.93*10^(-10)\n",
    "hkl_theta_list_Fe = [(1,1,1, 27, 30),\n",
    "                     (2,0,0, 32, 15),\n",
    "                     (2,2,0, 48,  0),\n",
    "                     (3,1,1, 61,  0),\n",
    "                     (2,2,2, 67 , 0)]"
   ]
  },
  {
   "cell_type": "code",
   "execution_count": 6,
   "id": "5368117c",
   "metadata": {},
   "outputs": [],
   "source": [
    "def calc_a(hkl_theta_list, lambdaj):\n",
    "    n_i = 1\n",
    "    a_list = []\n",
    "    for h_i, k_i, l_i, theta_degrees, theta_minutes in hkl_theta_list:\n",
    "        #print(\"h=%d k=%d l=%d theta_degrees=%d, theta_minutes=%d\" % (h_i, k_i, l_i, theta_degrees, theta_minutes))\n",
    "        thetai = (theta_degrees + (theta_minutes / 60)) * 2 * pi / 360\n",
    "        #print(\"theta_i=%f\" % (thetai))\n",
    "        a_i = a_eksp.subs([h == h_i,\n",
    "                           k == k_i,\n",
    "                           l == l_i,\n",
    "                           theta_i == thetai,\n",
    "                           n == n_i,\n",
    "                           lambda_j==lambdaj])\n",
    "        #print(\"a_i=\", a_i)\n",
    "        a_list += [a_i.n()]\n",
    "    return a_list"
   ]
  },
  {
   "cell_type": "code",
   "execution_count": 7,
   "id": "093a11fc",
   "metadata": {},
   "outputs": [
    {
     "data": {
      "text/plain": [
       "[3.56021262110382e-10,\n",
       " 3.28028388101185e-10,\n",
       " 3.13519418849804e-10,\n",
       " 2.94887549188952e-10,\n",
       " 2.94310418801268e-10]"
      ]
     },
     "execution_count": 7,
     "metadata": {},
     "output_type": "execute_result"
    }
   ],
   "source": [
    "a_list_Cu = calc_a(hkl_theta_list_Cu, lambdaj_Cu)\n",
    "a_list_Cu"
   ]
  },
  {
   "cell_type": "code",
   "execution_count": 8,
   "id": "d4c72b2c",
   "metadata": {},
   "outputs": [
    {
     "data": {
      "text/plain": [
       "[3.61978137323218e-10,\n",
       " 3.61684313757540e-10,\n",
       " 3.67281326843216e-10,\n",
       " 3.65935377006416e-10,\n",
       " 3.63154854216165e-10]"
      ]
     },
     "execution_count": 8,
     "metadata": {},
     "output_type": "execute_result"
    }
   ],
   "source": [
    "a_list_Fe = calc_a(hkl_theta_list_Fe, lambdaj_Fe)\n",
    "a_list_Fe"
   ]
  },
  {
   "cell_type": "code",
   "execution_count": 9,
   "id": "85fff8ed",
   "metadata": {},
   "outputs": [
    {
     "data": {
      "text/plain": [
       "3.173534074103182e-10"
      ]
     },
     "execution_count": 9,
     "metadata": {},
     "output_type": "execute_result"
    }
   ],
   "source": [
    "import numpy as np\n",
    "a_mean_Cu = np.mean(a_list_Cu)\n",
    "a_mean_Cu"
   ]
  },
  {
   "cell_type": "code",
   "execution_count": 10,
   "id": "3463abc7",
   "metadata": {},
   "outputs": [
    {
     "data": {
      "text/plain": [
       "3.6400680182931115e-10"
      ]
     },
     "execution_count": 10,
     "metadata": {},
     "output_type": "execute_result"
    }
   ],
   "source": [
    "import numpy as np\n",
    "a_mean_Fe = np.mean(a_list_Fe)\n",
    "a_mean_Fe"
   ]
  },
  {
   "cell_type": "code",
   "execution_count": 11,
   "id": "c6fb5479",
   "metadata": {},
   "outputs": [
    {
     "data": {
      "text/latex": [
       "$\\displaystyle \\frac{\\mu n_{0}}{a^{3} \\rho}$"
      ],
      "text/plain": [
       "<IPython.core.display.Math object>"
      ]
     },
     "metadata": {},
     "output_type": "display_data"
    }
   ],
   "source": [
    "N_a_eksp = mu * n_0 / (rho * a^3)\n",
    "disp(N_a_eksp)"
   ]
  },
  {
   "cell_type": "code",
   "execution_count": 12,
   "id": "54c621f9",
   "metadata": {},
   "outputs": [
    {
     "data": {
      "text/plain": [
       "6.30766971473640e23"
      ]
     },
     "execution_count": 12,
     "metadata": {},
     "output_type": "execute_result"
    }
   ],
   "source": [
    "Cu_values = [mu == 0.063546,\n",
    "             n_0 == 4,\n",
    "             #a == a_mean_Cu,\n",
    "             a == a_list_Cu[0],\n",
    "             rho==8930]\n",
    "\n",
    "N_a_eksp.subs(Cu_values)"
   ]
  },
  {
   "cell_type": "code",
   "execution_count": 13,
   "id": "897a5aa1",
   "metadata": {},
   "outputs": [
    {
     "data": {
      "text/plain": [
       "5.97704602025774e23"
      ]
     },
     "execution_count": 13,
     "metadata": {},
     "output_type": "execute_result"
    }
   ],
   "source": [
    "Fe_values = [mu == 0.055847,\n",
    "             n_0 == 4,\n",
    "             #a == a_mean_Fe,\n",
    "             a == a_list_Fe[0],\n",
    "             rho==7880]\n",
    "\n",
    "N_a_eksp.subs(Fe_values)"
   ]
  },
  {
   "cell_type": "code",
   "execution_count": null,
   "id": "1a51a0df",
   "metadata": {},
   "outputs": [],
   "source": []
  },
  {
   "cell_type": "code",
   "execution_count": 14,
   "id": "9c0f3bd6",
   "metadata": {},
   "outputs": [
    {
     "data": {
      "text/plain": [
       "8.90568344251919e23"
      ]
     },
     "execution_count": 14,
     "metadata": {},
     "output_type": "execute_result"
    }
   ],
   "source": [
    "Cu_values = [mu == 0.063546,\n",
    "             n_0 == 4,\n",
    "             a == a_mean_Cu,\n",
    "             #a == a_list_Cu[0],\n",
    "             rho==8930]\n",
    "\n",
    "N_a_eksp.subs(Cu_values)"
   ]
  },
  {
   "cell_type": "code",
   "execution_count": 15,
   "id": "81855c07",
   "metadata": {},
   "outputs": [
    {
     "data": {
      "text/plain": [
       "5.87766900477431e23"
      ]
     },
     "execution_count": 15,
     "metadata": {},
     "output_type": "execute_result"
    }
   ],
   "source": [
    "Fe_values = [mu == 0.055847,\n",
    "             n_0 == 4,\n",
    "             a == a_mean_Fe,\n",
    "             #a == a_list_Fe[0],\n",
    "             rho==7880]\n",
    "\n",
    "N_a_eksp.subs(Fe_values)"
   ]
  }
 ],
 "metadata": {
  "kernelspec": {
   "display_name": "SageMath 9.6.beta7",
   "language": "sage",
   "name": "sagemath"
  },
  "language_info": {
   "codemirror_mode": {
    "name": "ipython",
    "version": 3
   },
   "file_extension": ".py",
   "mimetype": "text/x-python",
   "name": "python",
   "nbconvert_exporter": "python",
   "pygments_lexer": "ipython3",
   "version": "3.10.3"
  }
 },
 "nbformat": 4,
 "nbformat_minor": 5
}

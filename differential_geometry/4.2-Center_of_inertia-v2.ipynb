{
 "cells": [
  {
   "cell_type": "markdown",
   "id": "24617506",
   "metadata": {},
   "source": [
    "4. ЦЕНТР ІНЕРЦІЇ"
   ]
  },
  {
   "cell_type": "markdown",
   "id": "4ba9ec61",
   "metadata": {},
   "source": [
    "4.2. Знайти центр інерції тіла V з об'ємною густиною речовини ρ"
   ]
  },
  {
   "cell_type": "raw",
   "id": "59f30980",
   "metadata": {},
   "source": [
    "z >= x^2+y^2\n",
    "\n",
    "z <= a^2\n",
    "\n",
    "rho = (x^2+y^2)*z^3"
   ]
  },
  {
   "cell_type": "markdown",
   "id": "a2d2a770",
   "metadata": {},
   "source": [
    "Враховуючи вид підінтегральної функції f та “циліндричну” форму об’єму V , перейдемо\n",
    "до циліндричних координат"
   ]
  },
  {
   "cell_type": "raw",
   "id": "3eddfa04",
   "metadata": {},
   "source": [
    "z >= r^2\n",
    "\n",
    "z <= a^2\n",
    "\n",
    "rho = (r^2)*z^3"
   ]
  },
  {
   "cell_type": "markdown",
   "id": "3e09a464",
   "metadata": {},
   "source": [
    "Знайдемо масу тіла\n",
    "\n",
    "$m = \\iiint\\limits_{V}^{} \\rho (x, y, z)\\,dV$"
   ]
  },
  {
   "cell_type": "code",
   "execution_count": 1,
   "id": "c47f8ec9",
   "metadata": {},
   "outputs": [],
   "source": [
    "from IPython.display import display, Math, Latex\n",
    "\n",
    "def disp(ex):\n",
    "    display(Math(latex(ex)))"
   ]
  },
  {
   "cell_type": "code",
   "execution_count": 2,
   "id": "bdea728b",
   "metadata": {},
   "outputs": [],
   "source": [
    "a = var(\"a\")\n",
    "x,y,z = var(\"x,y,z\")\n",
    "r,phi,z = var(\"r,phi,z\")\n",
    "assume(a, \"real\")\n",
    "assume(a>0)\n",
    "\n",
    "Rho = function(\"rho\")(r,phi,z)\n",
    "M = var(\"m\")\n",
    "rho = (r^2)*z^3"
   ]
  },
  {
   "cell_type": "code",
   "execution_count": 3,
   "id": "7651c7c3",
   "metadata": {},
   "outputs": [],
   "source": [
    "z_min = r^2\n",
    "z_max = a^2"
   ]
  },
  {
   "cell_type": "code",
   "execution_count": 4,
   "id": "ec181ad1",
   "metadata": {},
   "outputs": [],
   "source": [
    "r_max = a"
   ]
  },
  {
   "cell_type": "code",
   "execution_count": 5,
   "id": "9d328feb",
   "metadata": {},
   "outputs": [],
   "source": [
    "m = (Rho * r) \\\n",
    "   .integrate(z, z_min, z_max) \\\n",
    "   .integrate(r, 0, r_max) \\\n",
    "   .integrate(phi, 0, 2*pi)"
   ]
  },
  {
   "cell_type": "code",
   "execution_count": 6,
   "id": "dc93b6fd",
   "metadata": {},
   "outputs": [
    {
     "data": {
      "text/latex": [
       "$\\displaystyle \\int_{0}^{2 \\, \\pi} \\int_{0}^{a} r \\int_{r^{2}}^{a^{2}} \\rho\\left(r, \\phi, z\\right)\\,{d z}\\,{d r}\\,{d \\phi}$"
      ],
      "text/plain": [
       "<IPython.core.display.Math object>"
      ]
     },
     "metadata": {},
     "output_type": "display_data"
    }
   ],
   "source": [
    "disp(m)"
   ]
  },
  {
   "cell_type": "code",
   "execution_count": 7,
   "id": "a4b780e8",
   "metadata": {},
   "outputs": [],
   "source": [
    "m = (rho * r) \\\n",
    "   .integrate(z, z_min, z_max) \\\n",
    "   .integrate(r, 0, r_max) \\\n",
    "   .integrate(phi, 0, 2*pi)"
   ]
  },
  {
   "cell_type": "code",
   "execution_count": 8,
   "id": "4ff40209",
   "metadata": {},
   "outputs": [
    {
     "data": {
      "text/latex": [
       "$\\displaystyle \\frac{1}{12} \\, \\pi a^{12}$"
      ],
      "text/plain": [
       "<IPython.core.display.Math object>"
      ]
     },
     "metadata": {},
     "output_type": "display_data"
    }
   ],
   "source": [
    "disp(m)"
   ]
  },
  {
   "cell_type": "markdown",
   "id": "6dea6f17",
   "metadata": {},
   "source": [
    "Знайдемо координати центру мас. Спочатку $z_c$ (майже повторюючи знаходження $m$)"
   ]
  },
  {
   "cell_type": "code",
   "execution_count": 9,
   "id": "b84c8965",
   "metadata": {},
   "outputs": [
    {
     "data": {
      "text/latex": [
       "$\\displaystyle \\frac{\\int_{0}^{2 \\, \\pi} \\int_{0}^{a} r \\int_{r^{2}}^{a^{2}} z \\rho\\left(r, \\phi, z\\right)\\,{d z}\\,{d r}\\,{d \\phi}}{m}$"
      ],
      "text/plain": [
       "<IPython.core.display.Math object>"
      ]
     },
     "metadata": {},
     "output_type": "display_data"
    }
   ],
   "source": [
    "z_c = 1/M*(Rho*z*r) \\\n",
    "   .integrate(z, z_min, z_max) \\\n",
    "   .integrate(r, 0, r_max) \\\n",
    "   .integrate(phi, 0, 2*pi)\n",
    "disp(z_c)"
   ]
  },
  {
   "cell_type": "code",
   "execution_count": 10,
   "id": "71defb56",
   "metadata": {},
   "outputs": [
    {
     "data": {
      "text/latex": [
       "$\\displaystyle \\frac{6}{7} \\, a^{2}$"
      ],
      "text/plain": [
       "<IPython.core.display.Math object>"
      ]
     },
     "metadata": {},
     "output_type": "display_data"
    }
   ],
   "source": [
    "z_c = 1/m*(rho*z*r) \\\n",
    "   .integrate(z, z_min, z_max) \\\n",
    "   .integrate(r, 0, r_max) \\\n",
    "   .integrate(phi, 0, 2*pi)\n",
    "disp(z_c)"
   ]
  },
  {
   "cell_type": "markdown",
   "id": "1cf5f649",
   "metadata": {},
   "source": [
    "враховуючи симетрію тіла відносно координатних площин\n",
    "yOz , xOz та непарність підінтегральних функцій відносно змінних x, y відповідно"
   ]
  },
  {
   "cell_type": "code",
   "execution_count": 11,
   "id": "109cb42f",
   "metadata": {},
   "outputs": [
    {
     "data": {
      "text/latex": [
       "$\\displaystyle 0$"
      ],
      "text/plain": [
       "<IPython.core.display.Math object>"
      ]
     },
     "metadata": {},
     "output_type": "display_data"
    }
   ],
   "source": [
    "y_c = 0\n",
    "disp(y_c)"
   ]
  },
  {
   "cell_type": "code",
   "execution_count": 12,
   "id": "be251554",
   "metadata": {},
   "outputs": [
    {
     "data": {
      "text/latex": [
       "$\\displaystyle 0$"
      ],
      "text/plain": [
       "<IPython.core.display.Math object>"
      ]
     },
     "metadata": {},
     "output_type": "display_data"
    }
   ],
   "source": [
    "x_c = 0\n",
    "disp(x_c)"
   ]
  },
  {
   "cell_type": "code",
   "execution_count": 13,
   "id": "70d65447",
   "metadata": {},
   "outputs": [
    {
     "data": {
      "text/latex": [
       "$\\displaystyle \\left(0, 0, \\frac{6}{7} \\, a^{2}\\right)$"
      ],
      "text/plain": [
       "<IPython.core.display.Math object>"
      ]
     },
     "metadata": {},
     "output_type": "display_data"
    }
   ],
   "source": [
    "disp((x_c, y_c, z_c))"
   ]
  },
  {
   "cell_type": "code",
   "execution_count": null,
   "id": "48fc63be",
   "metadata": {},
   "outputs": [],
   "source": []
  }
 ],
 "metadata": {
  "kernelspec": {
   "display_name": "SageMath 9.6.beta7",
   "language": "sage",
   "name": "sagemath"
  },
  "language_info": {
   "codemirror_mode": {
    "name": "ipython",
    "version": 3
   },
   "file_extension": ".py",
   "mimetype": "text/x-python",
   "name": "python",
   "nbconvert_exporter": "python",
   "pygments_lexer": "ipython3",
   "version": "3.10.3"
  }
 },
 "nbformat": 4,
 "nbformat_minor": 5
}

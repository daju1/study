{
 "cells": [
  {
   "cell_type": "markdown",
   "id": "24617506",
   "metadata": {},
   "source": [
    "4. ЦЕНТР ІНЕРЦІЇ"
   ]
  },
  {
   "cell_type": "markdown",
   "id": "4ba9ec61",
   "metadata": {},
   "source": [
    "4.1. Знайти центр інерції кривої L з лінійною густиною ρ ( r )"
   ]
  },
  {
   "cell_type": "markdown",
   "id": "8ab2a1ef",
   "metadata": {},
   "source": [
    "$L=\\left\\{\\vec{r}\\left(t\\right)=\\left(\\begin{array}{c}\n",
    "    x = a\\,cos\\,t \\\\\n",
    "    y = a\\,sin\\,t \\\\\n",
    "    z = b\\,t \\\\\n",
    "\\end{array}\\right)\\right\\}, t = [0, 2\\pi]$\n",
    "\n",
    "$\\rho = z \\cdot \\sqrt{x^2+y^2}$"
   ]
  },
  {
   "cell_type": "markdown",
   "id": "88091cbb",
   "metadata": {},
   "source": [
    "Виток гвинтової лінії можна розглядати, як \"рівномірно розтягнуте\" уздовж осі Oz коло з розрізом, що лежить у площині xOy з центром на початку координат. Враховуючи заданий розподіл щільності, у положенні центру мас хіба що можна передбачити значення\n",
    "\n",
    "\n",
    "$x_c = 0$, $-a<y_c<0$, $\\pi b < z_c < 2 \\pi b$"
   ]
  },
  {
   "cell_type": "markdown",
   "id": "49d3bf7c",
   "metadata": {},
   "source": [
    "Знайдемо масу кривої\n",
    "\n",
    "$m = \\int\\limits_{L}^{} \\rho (x, y, z) dL =  \\int\\limits_{L}^{} z \\cdot \\sqrt{x^2+y^2} dL\n",
    "= \\int\\limits_{0}^{2 \\pi} z \\cdot \\sqrt{x^2+y^2} \\sqrt{x'^2+y'^2+z'^2}dt$"
   ]
  },
  {
   "cell_type": "code",
   "execution_count": 1,
   "id": "ca2fc4b3",
   "metadata": {},
   "outputs": [],
   "source": [
    "from IPython.display import display, Math, Latex\n",
    "\n",
    "def disp(ex):\n",
    "    display(Math(latex(ex)))"
   ]
  },
  {
   "cell_type": "code",
   "execution_count": 2,
   "id": "bdea728b",
   "metadata": {},
   "outputs": [],
   "source": [
    "a,b,t = var(\"a,b,t\")\n",
    "x = lambda t : a * cos(t)\n",
    "y = lambda t : a * sin(t)\n",
    "z = lambda t : b * t\n",
    "\n",
    "rho = lambda t : z(t) * sqrt(x(t)^2+y(t)^2)"
   ]
  },
  {
   "cell_type": "markdown",
   "id": "44148276",
   "metadata": {},
   "source": [
    "$m = \\int\\limits_{L}^{} \\rho (x, y, z)\\,dL = \\int\\limits_{t_1}^{t_2} \\rho (t) \\, \\sqrt{x'^2+y'^2+z'^2}\\,dt$"
   ]
  },
  {
   "cell_type": "code",
   "execution_count": 3,
   "id": "1deba98f",
   "metadata": {},
   "outputs": [
    {
     "data": {
      "text/latex": [
       "$\\displaystyle 2 \\, \\pi^{2} \\sqrt{a^{2} + b^{2}} a b$"
      ],
      "text/plain": [
       "<IPython.core.display.Math object>"
      ]
     },
     "metadata": {},
     "output_type": "display_data"
    }
   ],
   "source": [
    "m = ( \\\n",
    "     rho(t) * sqrt( (x(t).diff(t))^2 + (y(t).diff(t))^2 + (z(t).diff(t))^2) \\\n",
    "    ).integrate(t, 0, 2*pi)\n",
    "disp(m)"
   ]
  },
  {
   "cell_type": "markdown",
   "id": "35a219b1",
   "metadata": {},
   "source": [
    "Далі знайдемо координати центру мас"
   ]
  },
  {
   "cell_type": "markdown",
   "id": "f9727408",
   "metadata": {},
   "source": [
    "$x_c = \\frac{1}{m}\\int\\limits_{L}^{} x \\,\\rho (x, y, z)\\, dL = \\int\\limits_{t_1}^{t_2} x\\, \\rho (t) \\sqrt{x'^2+y'^2+z'^2}\\,dt$"
   ]
  },
  {
   "cell_type": "code",
   "execution_count": 4,
   "id": "2db39ca7",
   "metadata": {},
   "outputs": [
    {
     "data": {
      "text/latex": [
       "$\\displaystyle 0$"
      ],
      "text/plain": [
       "<IPython.core.display.Math object>"
      ]
     },
     "metadata": {},
     "output_type": "display_data"
    }
   ],
   "source": [
    "x_c = (1/m) * (x(t) * \\\n",
    "               rho(t) * sqrt( (x(t).diff(t))^2 + (y(t).diff(t))^2 + (z(t).diff(t))^2) \\\n",
    "              ).integrate(t, 0, 2*pi)\n",
    "disp(x_c)"
   ]
  },
  {
   "cell_type": "markdown",
   "id": "3079f5f6",
   "metadata": {},
   "source": [
    "$y_c = \\frac{1}{m}\\int\\limits_{L}^{} y \\,\\rho (x, y, z)\\, dL = \\int\\limits_{t_1}^{t_2} y\\, \\rho (t) \\sqrt{x'^2+y'^2+z'^2}\\,dt$"
   ]
  },
  {
   "cell_type": "code",
   "execution_count": 5,
   "id": "8b67754b",
   "metadata": {},
   "outputs": [
    {
     "data": {
      "text/latex": [
       "$\\displaystyle -\\frac{a}{\\pi}$"
      ],
      "text/plain": [
       "<IPython.core.display.Math object>"
      ]
     },
     "metadata": {},
     "output_type": "display_data"
    }
   ],
   "source": [
    "y_c = (1/m) * (y(t) * \\\n",
    "               rho(t) * sqrt( (x(t).diff(t))^2 + (y(t).diff(t))^2 + (z(t).diff(t))^2) \\\n",
    "              ).integrate(t, 0, 2*pi)\n",
    "disp(y_c)"
   ]
  },
  {
   "cell_type": "markdown",
   "id": "f0e71064",
   "metadata": {},
   "source": [
    "$z_c = \\frac{1}{m}\\int\\limits_{L}^{} z \\,\\rho (x, y, z)\\, dL = \\int\\limits_{t_1}^{t_2} z\\, \\rho (t) \\sqrt{x'^2+y'^2+z'^2}\\,dt$"
   ]
  },
  {
   "cell_type": "code",
   "execution_count": 6,
   "id": "a7a82ad2",
   "metadata": {},
   "outputs": [
    {
     "data": {
      "text/latex": [
       "$\\displaystyle \\frac{4}{3} \\, \\pi b$"
      ],
      "text/plain": [
       "<IPython.core.display.Math object>"
      ]
     },
     "metadata": {},
     "output_type": "display_data"
    }
   ],
   "source": [
    "z_c = (1/m) * (z(t) * \\\n",
    "               rho(t) * sqrt( (x(t).diff(t))^2 + (y(t).diff(t))^2 + (z(t).diff(t))^2) \\\n",
    "              ).integrate(t, 0, 2*pi)\n",
    "disp(z_c)"
   ]
  },
  {
   "cell_type": "code",
   "execution_count": 7,
   "id": "c2cd4f3c",
   "metadata": {},
   "outputs": [
    {
     "data": {
      "text/latex": [
       "$\\displaystyle \\left(0, -\\frac{a}{\\pi}, \\frac{4}{3} \\, \\pi b\\right)$"
      ],
      "text/plain": [
       "<IPython.core.display.Math object>"
      ]
     },
     "metadata": {},
     "output_type": "display_data"
    }
   ],
   "source": [
    "disp((x_c, y_c, z_c))"
   ]
  }
 ],
 "metadata": {
  "kernelspec": {
   "display_name": "SageMath 9.6.beta7",
   "language": "sage",
   "name": "sagemath"
  },
  "language_info": {
   "codemirror_mode": {
    "name": "ipython",
    "version": 3
   },
   "file_extension": ".py",
   "mimetype": "text/x-python",
   "name": "python",
   "nbconvert_exporter": "python",
   "pygments_lexer": "ipython3",
   "version": "3.10.3"
  }
 },
 "nbformat": 4,
 "nbformat_minor": 5
}

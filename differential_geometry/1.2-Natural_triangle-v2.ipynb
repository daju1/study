{
 "cells": [
  {
   "cell_type": "markdown",
   "id": "c675cd10",
   "metadata": {},
   "source": [
    "1.2. Дано параметричне рівняння кривої $\\vec{r ( t )}$ Побудувати рівняння ребер та граней природного\n",
    "тригранника кривої"
   ]
  },
  {
   "cell_type": "code",
   "execution_count": 1,
   "id": "08379a16",
   "metadata": {},
   "outputs": [],
   "source": [
    "from IPython.display import display, Math, Latex\n",
    "\n",
    "def disp(ex):\n",
    "    display(Math(latex(ex)))\n",
    "    \n",
    "def displ(la):\n",
    "    display(Math(la))"
   ]
  },
  {
   "cell_type": "code",
   "execution_count": 2,
   "id": "99482ce4",
   "metadata": {},
   "outputs": [],
   "source": [
    "t, x, y, z = var(\"t, x, y, z\")\n",
    "assume(t, \"real\")\n",
    "assume(t > 0)\n",
    "X = lambda t : exp(t) * cos(t)\n",
    "Y = lambda t : exp(t) * sin(t)\n",
    "Z = lambda t : exp(t)"
   ]
  },
  {
   "cell_type": "code",
   "execution_count": 3,
   "id": "a3cb6ca7",
   "metadata": {},
   "outputs": [],
   "source": [
    "t_0 = 0"
   ]
  },
  {
   "cell_type": "code",
   "execution_count": 4,
   "id": "4b804737",
   "metadata": {},
   "outputs": [
    {
     "data": {
      "text/latex": [
       "$\\displaystyle \\left(x,\\,y,\\,z\\right)$"
      ],
      "text/plain": [
       "<IPython.core.display.Math object>"
      ]
     },
     "metadata": {},
     "output_type": "display_data"
    }
   ],
   "source": [
    "r = vector([var(\"x\"),var(\"y\"),var(\"z\")])\n",
    "disp(r)"
   ]
  },
  {
   "cell_type": "code",
   "execution_count": 5,
   "id": "87c12021",
   "metadata": {},
   "outputs": [
    {
     "data": {
      "text/latex": [
       "$\\displaystyle \\left(\\cos\\left(t\\right) e^{t},\\,e^{t} \\sin\\left(t\\right),\\,e^{t}\\right)$"
      ],
      "text/plain": [
       "<IPython.core.display.Math object>"
      ]
     },
     "metadata": {},
     "output_type": "display_data"
    }
   ],
   "source": [
    "R = lambda t : vector([X(t),Y(t),Z(t)])\n",
    "disp(R(t))"
   ]
  },
  {
   "cell_type": "code",
   "execution_count": 6,
   "id": "678eb8e6",
   "metadata": {},
   "outputs": [
    {
     "data": {
      "text/latex": [
       "$\\displaystyle \\left(1,\\,0,\\,1\\right)$"
      ],
      "text/plain": [
       "<IPython.core.display.Math object>"
      ]
     },
     "metadata": {},
     "output_type": "display_data"
    }
   ],
   "source": [
    "disp(R(t_0))"
   ]
  },
  {
   "cell_type": "markdown",
   "id": "92fe6835",
   "metadata": {},
   "source": [
    "$\\vec{r'}\\left(t\\right)=\\left(\\begin{array}{l}\n",
    "    x'(t) \\\\\n",
    "    y'(t) \\\\\n",
    "    z'(t) \\\\\n",
    "\\end{array}\\right)$"
   ]
  },
  {
   "cell_type": "code",
   "execution_count": 7,
   "id": "44697968",
   "metadata": {},
   "outputs": [],
   "source": [
    "exec(preparse(\"v = lambda t : vector(\" + str(R(t).diff(t)) + \")\"))\n",
    "exec(preparse(\"w = lambda t : vector(\" + str(R(t).diff(t,2)) + \")\"))"
   ]
  },
  {
   "cell_type": "code",
   "execution_count": 8,
   "id": "22208e84",
   "metadata": {},
   "outputs": [
    {
     "data": {
      "text/latex": [
       "$\\displaystyle \\left(\\cos\\left(t\\right) e^{t} - e^{t} \\sin\\left(t\\right),\\,\\cos\\left(t\\right) e^{t} + e^{t} \\sin\\left(t\\right),\\,e^{t}\\right)$"
      ],
      "text/plain": [
       "<IPython.core.display.Math object>"
      ]
     },
     "metadata": {},
     "output_type": "display_data"
    }
   ],
   "source": [
    "disp(v(t))"
   ]
  },
  {
   "cell_type": "code",
   "execution_count": 9,
   "id": "390d88de",
   "metadata": {},
   "outputs": [
    {
     "data": {
      "text/latex": [
       "$\\displaystyle \\left(1,\\,1,\\,1\\right)$"
      ],
      "text/plain": [
       "<IPython.core.display.Math object>"
      ]
     },
     "metadata": {},
     "output_type": "display_data"
    }
   ],
   "source": [
    "disp(v(t_0))"
   ]
  },
  {
   "cell_type": "markdown",
   "id": "56b210fb",
   "metadata": {},
   "source": [
    "Знайдемо величину та напрямок швидкості"
   ]
  },
  {
   "cell_type": "code",
   "execution_count": 10,
   "id": "7a57e750",
   "metadata": {},
   "outputs": [
    {
     "data": {
      "text/latex": [
       "$\\displaystyle \\sqrt{{\\left(\\cos\\left(t\\right) e^{t} + e^{t} \\sin\\left(t\\right)\\right)}^{2} + {\\left(\\cos\\left(t\\right) e^{t} - e^{t} \\sin\\left(t\\right)\\right)}^{2} + e^{\\left(2 \\, t\\right)}}$"
      ],
      "text/plain": [
       "<IPython.core.display.Math object>"
      ]
     },
     "metadata": {},
     "output_type": "display_data"
    }
   ],
   "source": [
    "disp(v(t).norm())"
   ]
  },
  {
   "cell_type": "code",
   "execution_count": 11,
   "id": "1a57feea",
   "metadata": {},
   "outputs": [
    {
     "data": {
      "text/latex": [
       "$\\displaystyle \\sqrt{2 \\, \\cos\\left(t\\right)^{2} + 2 \\, \\sin\\left(t\\right)^{2} + 1} e^{t}$"
      ],
      "text/plain": [
       "<IPython.core.display.Math object>"
      ]
     },
     "metadata": {},
     "output_type": "display_data"
    }
   ],
   "source": [
    "disp(v(t).norm().factor())"
   ]
  },
  {
   "cell_type": "code",
   "execution_count": 12,
   "id": "79b62503",
   "metadata": {},
   "outputs": [
    {
     "data": {
      "text/latex": [
       "$\\displaystyle \\sqrt{3} e^{t}$"
      ],
      "text/plain": [
       "<IPython.core.display.Math object>"
      ]
     },
     "metadata": {},
     "output_type": "display_data"
    }
   ],
   "source": [
    "# величина швидкості\n",
    "V = lambda t : v(t).norm().factor().trig_simplify()\n",
    "disp(V(t))"
   ]
  },
  {
   "cell_type": "code",
   "execution_count": 13,
   "id": "12156f38",
   "metadata": {},
   "outputs": [
    {
     "data": {
      "text/latex": [
       "$\\displaystyle \\sqrt{3}$"
      ],
      "text/plain": [
       "<IPython.core.display.Math object>"
      ]
     },
     "metadata": {},
     "output_type": "display_data"
    }
   ],
   "source": [
    "disp(V(t_0))"
   ]
  },
  {
   "cell_type": "code",
   "execution_count": 14,
   "id": "fb05112e",
   "metadata": {},
   "outputs": [],
   "source": [
    "# напрямок швидкості, вона ж напрямок дотичної\n",
    "tau = lambda t : v(t) / V(t)"
   ]
  },
  {
   "cell_type": "code",
   "execution_count": 15,
   "id": "48d02049",
   "metadata": {},
   "outputs": [
    {
     "data": {
      "text/latex": [
       "$\\displaystyle \\left(\\frac{1}{3} \\, \\sqrt{3} {\\left(\\cos\\left(t\\right) e^{t} - e^{t} \\sin\\left(t\\right)\\right)} e^{\\left(-t\\right)},\\,\\frac{1}{3} \\, \\sqrt{3} {\\left(\\cos\\left(t\\right) e^{t} + e^{t} \\sin\\left(t\\right)\\right)} e^{\\left(-t\\right)},\\,\\frac{1}{3} \\, \\sqrt{3}\\right)$"
      ],
      "text/plain": [
       "<IPython.core.display.Math object>"
      ]
     },
     "metadata": {},
     "output_type": "display_data"
    }
   ],
   "source": [
    "disp(tau(t))"
   ]
  },
  {
   "cell_type": "code",
   "execution_count": 16,
   "id": "5b14a772",
   "metadata": {},
   "outputs": [
    {
     "data": {
      "text/latex": [
       "$\\displaystyle \\left(\\frac{1}{3} \\, \\sqrt{3},\\,\\frac{1}{3} \\, \\sqrt{3},\\,\\frac{1}{3} \\, \\sqrt{3}\\right)$"
      ],
      "text/plain": [
       "<IPython.core.display.Math object>"
      ]
     },
     "metadata": {},
     "output_type": "display_data"
    }
   ],
   "source": [
    "disp(tau(t_0))"
   ]
  },
  {
   "cell_type": "markdown",
   "id": "fd308017",
   "metadata": {},
   "source": [
    "Знайдемо величину та напрямок прискорення"
   ]
  },
  {
   "cell_type": "code",
   "execution_count": 17,
   "id": "1d0bf571",
   "metadata": {},
   "outputs": [
    {
     "data": {
      "text/latex": [
       "$\\displaystyle \\left(-2 \\, e^{t} \\sin\\left(t\\right),\\,2 \\, \\cos\\left(t\\right) e^{t},\\,e^{t}\\right)$"
      ],
      "text/plain": [
       "<IPython.core.display.Math object>"
      ]
     },
     "metadata": {},
     "output_type": "display_data"
    }
   ],
   "source": [
    "disp(w(t))"
   ]
  },
  {
   "cell_type": "code",
   "execution_count": 18,
   "id": "3a712cf9",
   "metadata": {},
   "outputs": [
    {
     "data": {
      "text/latex": [
       "$\\displaystyle \\left(0,\\,2,\\,1\\right)$"
      ],
      "text/plain": [
       "<IPython.core.display.Math object>"
      ]
     },
     "metadata": {},
     "output_type": "display_data"
    }
   ],
   "source": [
    "disp(w(t_0))"
   ]
  },
  {
   "cell_type": "code",
   "execution_count": 19,
   "id": "4b0e151b",
   "metadata": {},
   "outputs": [],
   "source": [
    "# величина прискорення\n",
    "W = lambda t : w(t).norm().factor().trig_simplify()"
   ]
  },
  {
   "cell_type": "code",
   "execution_count": 20,
   "id": "84cdb7f7",
   "metadata": {},
   "outputs": [
    {
     "data": {
      "text/latex": [
       "$\\displaystyle \\sqrt{5} e^{t}$"
      ],
      "text/plain": [
       "<IPython.core.display.Math object>"
      ]
     },
     "metadata": {},
     "output_type": "display_data"
    }
   ],
   "source": [
    "disp(W(t))"
   ]
  },
  {
   "cell_type": "code",
   "execution_count": 21,
   "id": "a6facb11",
   "metadata": {},
   "outputs": [
    {
     "data": {
      "text/latex": [
       "$\\displaystyle \\sqrt{5}$"
      ],
      "text/plain": [
       "<IPython.core.display.Math object>"
      ]
     },
     "metadata": {},
     "output_type": "display_data"
    }
   ],
   "source": [
    "disp(W(t_0))"
   ]
  },
  {
   "cell_type": "code",
   "execution_count": 22,
   "id": "4ef1e60d",
   "metadata": {},
   "outputs": [],
   "source": [
    "# напрямок прискорення\n",
    "e_w = lambda t : w(t) / W(t)"
   ]
  },
  {
   "cell_type": "code",
   "execution_count": 23,
   "id": "aa43291b",
   "metadata": {},
   "outputs": [
    {
     "data": {
      "text/latex": [
       "$\\displaystyle \\left(-\\frac{2}{5} \\, \\sqrt{5} \\sin\\left(t\\right),\\,\\frac{2}{5} \\, \\sqrt{5} \\cos\\left(t\\right),\\,\\frac{1}{5} \\, \\sqrt{5}\\right)$"
      ],
      "text/plain": [
       "<IPython.core.display.Math object>"
      ]
     },
     "metadata": {},
     "output_type": "display_data"
    }
   ],
   "source": [
    "disp(e_w(t))"
   ]
  },
  {
   "cell_type": "code",
   "execution_count": 24,
   "id": "0380d09d",
   "metadata": {},
   "outputs": [
    {
     "data": {
      "text/latex": [
       "$\\displaystyle \\left(0,\\,\\frac{2}{5} \\, \\sqrt{5},\\,\\frac{1}{5} \\, \\sqrt{5}\\right)$"
      ],
      "text/plain": [
       "<IPython.core.display.Math object>"
      ]
     },
     "metadata": {},
     "output_type": "display_data"
    }
   ],
   "source": [
    "disp(e_w(t_0))"
   ]
  },
  {
   "cell_type": "markdown",
   "id": "98e12a9f",
   "metadata": {},
   "source": [
    "Розкладемо прискорення $\\vec{w}$ на дотичну $\\vec{w_{\\parallel}}$ $\\parallel$ $\\vec{e_v}$ і нормальну $\\vec{w_{\\perp}}$ $\\perp$ $\\vec{e_v}$ складові"
   ]
  },
  {
   "cell_type": "markdown",
   "id": "071e681b",
   "metadata": {},
   "source": [
    "$\\vec{w} = \\vec{w_{\\parallel}} + \\vec{w_{\\perp}} = w_{\\parallel} \\cdot \\vec{e_{\\parallel}} + w_{\\perp} \\cdot \\vec{e_{\\perp}}$"
   ]
  },
  {
   "cell_type": "markdown",
   "id": "52fd7789",
   "metadata": {},
   "source": [
    "$\\vec{e_{\\parallel}} = \\vec{e_{v}} = \\vec{\\tau}$"
   ]
  },
  {
   "cell_type": "code",
   "execution_count": 25,
   "id": "d5bf45ff",
   "metadata": {},
   "outputs": [],
   "source": [
    "w_parallel = w(t).dot_product(tau(t))"
   ]
  },
  {
   "cell_type": "code",
   "execution_count": 26,
   "id": "de9be339",
   "metadata": {},
   "outputs": [
    {
     "data": {
      "text/latex": [
       "$\\displaystyle \\frac{2}{3} \\, \\sqrt{3} {\\left(\\cos\\left(t\\right) e^{t} + e^{t} \\sin\\left(t\\right)\\right)} \\cos\\left(t\\right) - \\frac{2}{3} \\, \\sqrt{3} {\\left(\\cos\\left(t\\right) e^{t} - e^{t} \\sin\\left(t\\right)\\right)} \\sin\\left(t\\right) + \\frac{1}{3} \\, \\sqrt{3} e^{t}$"
      ],
      "text/plain": [
       "<IPython.core.display.Math object>"
      ]
     },
     "metadata": {},
     "output_type": "display_data"
    }
   ],
   "source": [
    "disp(w_parallel)"
   ]
  },
  {
   "cell_type": "code",
   "execution_count": 27,
   "id": "42d40b00",
   "metadata": {},
   "outputs": [
    {
     "data": {
      "text/latex": [
       "$\\displaystyle \\sqrt{3} e^{t}$"
      ],
      "text/plain": [
       "<IPython.core.display.Math object>"
      ]
     },
     "metadata": {},
     "output_type": "display_data"
    }
   ],
   "source": [
    "w_parallel = w_parallel.trig_simplify()\n",
    "disp(w_parallel)"
   ]
  },
  {
   "cell_type": "code",
   "execution_count": 28,
   "id": "e491ca2a",
   "metadata": {},
   "outputs": [
    {
     "data": {
      "text/latex": [
       "$\\displaystyle \\left(\\cos\\left(t\\right) e^{t} - e^{t} \\sin\\left(t\\right),\\,\\cos\\left(t\\right) e^{t} + e^{t} \\sin\\left(t\\right),\\,e^{t}\\right)$"
      ],
      "text/plain": [
       "<IPython.core.display.Math object>"
      ]
     },
     "metadata": {},
     "output_type": "display_data"
    }
   ],
   "source": [
    "disp(w_parallel * tau(t))"
   ]
  },
  {
   "cell_type": "markdown",
   "id": "a347ab19",
   "metadata": {},
   "source": [
    "$\\vec{w_{\\perp}} = \\vec{w} - \\vec{w_{\\parallel}}$"
   ]
  },
  {
   "cell_type": "code",
   "execution_count": 29,
   "id": "071b8cb1",
   "metadata": {},
   "outputs": [],
   "source": [
    "w_perp = lambda t : w(t) - w_parallel * tau(t)"
   ]
  },
  {
   "cell_type": "code",
   "execution_count": 30,
   "id": "81122eac",
   "metadata": {},
   "outputs": [
    {
     "data": {
      "text/latex": [
       "$\\displaystyle \\left(-\\cos\\left(t\\right) e^{t} - e^{t} \\sin\\left(t\\right),\\,\\cos\\left(t\\right) e^{t} - e^{t} \\sin\\left(t\\right),\\,0\\right)$"
      ],
      "text/plain": [
       "<IPython.core.display.Math object>"
      ]
     },
     "metadata": {},
     "output_type": "display_data"
    }
   ],
   "source": [
    "disp(w_perp(t))"
   ]
  },
  {
   "cell_type": "code",
   "execution_count": 31,
   "id": "2441d5ec",
   "metadata": {},
   "outputs": [
    {
     "data": {
      "text/latex": [
       "$\\displaystyle \\sqrt{{\\left(\\cos\\left(t\\right) e^{t} + e^{t} \\sin\\left(t\\right)\\right)}^{2} + {\\left(\\cos\\left(t\\right) e^{t} - e^{t} \\sin\\left(t\\right)\\right)}^{2}}$"
      ],
      "text/plain": [
       "<IPython.core.display.Math object>"
      ]
     },
     "metadata": {},
     "output_type": "display_data"
    }
   ],
   "source": [
    "disp(w_perp(t).norm())"
   ]
  },
  {
   "cell_type": "code",
   "execution_count": 32,
   "id": "1ed0ddfd",
   "metadata": {},
   "outputs": [
    {
     "data": {
      "text/latex": [
       "$\\displaystyle \\sqrt{2} e^{t}$"
      ],
      "text/plain": [
       "<IPython.core.display.Math object>"
      ]
     },
     "metadata": {},
     "output_type": "display_data"
    }
   ],
   "source": [
    "disp(w_perp(t).norm().trig_simplify())"
   ]
  },
  {
   "cell_type": "markdown",
   "id": "a20b1d54",
   "metadata": {},
   "source": [
    "$\\vec{e_{\\perp}} = \\frac {\\vec{w_{\\perp}}}{w_{\\perp}}$"
   ]
  },
  {
   "cell_type": "code",
   "execution_count": 33,
   "id": "8312d337",
   "metadata": {},
   "outputs": [],
   "source": [
    "e_w_perp = lambda t : w_perp(t) / w_perp(t).norm().trig_simplify()"
   ]
  },
  {
   "cell_type": "code",
   "execution_count": 34,
   "id": "a3765542",
   "metadata": {},
   "outputs": [
    {
     "data": {
      "text/latex": [
       "$\\displaystyle \\left(-\\frac{1}{2} \\, \\sqrt{2} {\\left(\\cos\\left(t\\right) e^{t} + e^{t} \\sin\\left(t\\right)\\right)} e^{\\left(-t\\right)},\\,\\frac{1}{2} \\, \\sqrt{2} {\\left(\\cos\\left(t\\right) e^{t} - e^{t} \\sin\\left(t\\right)\\right)} e^{\\left(-t\\right)},\\,0\\right)$"
      ],
      "text/plain": [
       "<IPython.core.display.Math object>"
      ]
     },
     "metadata": {},
     "output_type": "display_data"
    }
   ],
   "source": [
    "disp(e_w_perp(t))"
   ]
  },
  {
   "cell_type": "markdown",
   "id": "73d0da23",
   "metadata": {},
   "source": [
    "Параметричне рівняння дотичної:"
   ]
  },
  {
   "cell_type": "code",
   "execution_count": 35,
   "id": "a7f690e0",
   "metadata": {},
   "outputs": [
    {
     "data": {
      "text/latex": [
       "$\\displaystyle x = {\\left(\\cos\\left(t\\right) e^{t} - e^{t} \\sin\\left(t\\right)\\right)} t + 1$"
      ],
      "text/plain": [
       "<IPython.core.display.Math object>"
      ]
     },
     "metadata": {},
     "output_type": "display_data"
    },
    {
     "data": {
      "text/latex": [
       "$\\displaystyle y = {\\left(\\cos\\left(t\\right) e^{t} + e^{t} \\sin\\left(t\\right)\\right)} t$"
      ],
      "text/plain": [
       "<IPython.core.display.Math object>"
      ]
     },
     "metadata": {},
     "output_type": "display_data"
    },
    {
     "data": {
      "text/latex": [
       "$\\displaystyle z = t e^{t} + 1$"
      ],
      "text/plain": [
       "<IPython.core.display.Math object>"
      ]
     },
     "metadata": {},
     "output_type": "display_data"
    }
   ],
   "source": [
    "for i in range(3):\n",
    "    disp(r[i] == (R(t_0) + v(t)*(t-t_0))[i])"
   ]
  },
  {
   "cell_type": "code",
   "execution_count": 36,
   "id": "4b229573",
   "metadata": {},
   "outputs": [],
   "source": [
    "def canonic(n):\n",
    "    displ(\\\n",
    "    \"\\\\frac{\" + latex ((r-R(t_0))[0]) + \"}{\" + latex(n(t_0)[0]) + \"} =\" + \\\n",
    "    \"\\\\frac{\" + latex ((r-R(t_0))[1]) + \"}{\" + latex(n(t_0)[1]) + \"} =\" + \\\n",
    "    \"\\\\frac{\" + latex ((r-R(t_0))[2]) + \"}{\" + latex(n(t_0)[2]) + \"}\")"
   ]
  },
  {
   "cell_type": "markdown",
   "id": "73f3ee89",
   "metadata": {},
   "source": [
    "Канонічне рівняння дотичної:"
   ]
  },
  {
   "cell_type": "code",
   "execution_count": 37,
   "id": "dec5f35a",
   "metadata": {},
   "outputs": [
    {
     "data": {
      "text/latex": [
       "$\\displaystyle \\frac{ x - 1 }{ 1 } = \\frac{ y }{ 1 } = \\frac{ z - 1 }{ 1 }$"
      ],
      "text/plain": [
       "<IPython.core.display.Math object>"
      ]
     },
     "metadata": {},
     "output_type": "display_data"
    }
   ],
   "source": [
    "canonic(v)"
   ]
  },
  {
   "cell_type": "markdown",
   "id": "191d40e4",
   "metadata": {},
   "source": [
    "Площина, що проходить через точку M ортогонально до дотичної, називається нормальною площиною до кривої."
   ]
  },
  {
   "cell_type": "markdown",
   "id": "7738f440",
   "metadata": {},
   "source": [
    "Рівняння нормальної площини:"
   ]
  },
  {
   "cell_type": "code",
   "execution_count": 38,
   "id": "260d3797",
   "metadata": {},
   "outputs": [
    {
     "data": {
      "text/latex": [
       "$\\displaystyle x + y + z - 2 = 0$"
      ],
      "text/plain": [
       "<IPython.core.display.Math object>"
      ]
     },
     "metadata": {},
     "output_type": "display_data"
    }
   ],
   "source": [
    "disp((r-R(t_0)).dot_product(v(t_0)) == 0)"
   ]
  },
  {
   "cell_type": "markdown",
   "id": "ef61fe0b",
   "metadata": {},
   "source": [
    "Усяка пряма, що проходить через дану точку М просторової кривої і перпендикулярна дотичній у цій точці, називається нормаллю."
   ]
  },
  {
   "cell_type": "markdown",
   "id": "de9e0f41",
   "metadata": {},
   "source": [
    "Головною нормаллю $\\vec{\\nu}$ просторової кривої в даній точці називається та нормаль, яка лежить у стичній площині. Бінормаллю $\\vec{\\beta}$ називається та нормаль, яка перпендикулярна стичній площини."
   ]
  },
  {
   "cell_type": "markdown",
   "id": "01560278",
   "metadata": {},
   "source": [
    "З означення бінормалі випливає, що напрямок $\\vec{\\beta}$ визначається вектором"
   ]
  },
  {
   "cell_type": "code",
   "execution_count": 39,
   "id": "a39d7c36",
   "metadata": {},
   "outputs": [],
   "source": [
    "binormal = lambda t : v(t).cross_product(w(t))"
   ]
  },
  {
   "cell_type": "code",
   "execution_count": 40,
   "id": "b1ecbeaa",
   "metadata": {},
   "outputs": [
    {
     "data": {
      "text/latex": [
       "$\\displaystyle -1$"
      ],
      "text/plain": [
       "<IPython.core.display.Math object>"
      ]
     },
     "metadata": {},
     "output_type": "display_data"
    },
    {
     "data": {
      "text/latex": [
       "$\\displaystyle -1$"
      ],
      "text/plain": [
       "<IPython.core.display.Math object>"
      ]
     },
     "metadata": {},
     "output_type": "display_data"
    },
    {
     "data": {
      "text/latex": [
       "$\\displaystyle 2$"
      ],
      "text/plain": [
       "<IPython.core.display.Math object>"
      ]
     },
     "metadata": {},
     "output_type": "display_data"
    }
   ],
   "source": [
    "disp(binormal(t_0)[0])\n",
    "disp(binormal(t_0)[1])\n",
    "disp(binormal(t_0)[2])"
   ]
  },
  {
   "cell_type": "code",
   "execution_count": 41,
   "id": "f1079c6a",
   "metadata": {},
   "outputs": [],
   "source": [
    "beta = lambda t : binormal(t) / binormal(t).norm().factor().full_simplify()"
   ]
  },
  {
   "cell_type": "code",
   "execution_count": 42,
   "id": "ceee8fd3",
   "metadata": {},
   "outputs": [
    {
     "data": {
      "text/latex": [
       "$\\displaystyle -\\frac{1}{6} \\, \\sqrt{6}$"
      ],
      "text/plain": [
       "<IPython.core.display.Math object>"
      ]
     },
     "metadata": {},
     "output_type": "display_data"
    },
    {
     "data": {
      "text/latex": [
       "$\\displaystyle -\\frac{1}{6} \\, \\sqrt{6}$"
      ],
      "text/plain": [
       "<IPython.core.display.Math object>"
      ]
     },
     "metadata": {},
     "output_type": "display_data"
    },
    {
     "data": {
      "text/latex": [
       "$\\displaystyle \\frac{1}{3} \\, \\sqrt{6}$"
      ],
      "text/plain": [
       "<IPython.core.display.Math object>"
      ]
     },
     "metadata": {},
     "output_type": "display_data"
    }
   ],
   "source": [
    "disp(beta(t_0)[0])\n",
    "disp(beta(t_0)[1])\n",
    "disp(beta(t_0)[2].trig_simplify())"
   ]
  },
  {
   "cell_type": "markdown",
   "id": "edc43de6",
   "metadata": {},
   "source": [
    "Канонічне рівняння бінормалі:"
   ]
  },
  {
   "cell_type": "code",
   "execution_count": 43,
   "id": "d462b323",
   "metadata": {},
   "outputs": [
    {
     "data": {
      "text/latex": [
       "$\\displaystyle \\frac{ x - 1 }{ -1 } = \\frac{ y }{ -1 } = \\frac{ z - 1 }{ 2 }$"
      ],
      "text/plain": [
       "<IPython.core.display.Math object>"
      ]
     },
     "metadata": {},
     "output_type": "display_data"
    }
   ],
   "source": [
    "canonic(binormal)"
   ]
  },
  {
   "cell_type": "code",
   "execution_count": 44,
   "id": "6ee77ddd",
   "metadata": {},
   "outputs": [
    {
     "data": {
      "text/latex": [
       "$\\displaystyle \\frac{ x - 1 }{ -\\frac{1}{6} \\, \\sqrt{6} } = \\frac{ y }{ -\\frac{1}{6} \\, \\sqrt{6} } = \\frac{ z - 1 }{ \\frac{1}{3} \\, \\sqrt{6} }$"
      ],
      "text/plain": [
       "<IPython.core.display.Math object>"
      ]
     },
     "metadata": {},
     "output_type": "display_data"
    }
   ],
   "source": [
    "canonic(beta)"
   ]
  },
  {
   "cell_type": "markdown",
   "id": "f7d60b6c",
   "metadata": {},
   "source": [
    "Рівняння стичної площини"
   ]
  },
  {
   "cell_type": "code",
   "execution_count": 45,
   "id": "48d58f4a",
   "metadata": {},
   "outputs": [
    {
     "data": {
      "text/latex": [
       "$\\displaystyle -\\frac{1}{6} \\, \\sqrt{6} {\\left(x - 1\\right)} - \\frac{1}{6} \\, \\sqrt{6} y + \\frac{1}{3} \\, \\sqrt{6} {\\left(z - 1\\right)} = 0$"
      ],
      "text/plain": [
       "<IPython.core.display.Math object>"
      ]
     },
     "metadata": {},
     "output_type": "display_data"
    }
   ],
   "source": [
    "disp((r-R(t_0)).dot_product(beta(t_0)) == 0)"
   ]
  },
  {
   "cell_type": "markdown",
   "id": "7818e6e0",
   "metadata": {},
   "source": [
    "В свою чергу напрямок головної нормалі $\\vec{v}$ визначається вектором"
   ]
  },
  {
   "cell_type": "code",
   "execution_count": 46,
   "id": "75680e2c",
   "metadata": {},
   "outputs": [],
   "source": [
    "main_normal = lambda t : binormal(t).cross_product(v(t))"
   ]
  },
  {
   "cell_type": "code",
   "execution_count": 47,
   "id": "28ed4b25",
   "metadata": {},
   "outputs": [
    {
     "data": {
      "text/latex": [
       "$\\displaystyle -3$"
      ],
      "text/plain": [
       "<IPython.core.display.Math object>"
      ]
     },
     "metadata": {},
     "output_type": "display_data"
    },
    {
     "data": {
      "text/latex": [
       "$\\displaystyle 3$"
      ],
      "text/plain": [
       "<IPython.core.display.Math object>"
      ]
     },
     "metadata": {},
     "output_type": "display_data"
    },
    {
     "data": {
      "text/latex": [
       "$\\displaystyle 0$"
      ],
      "text/plain": [
       "<IPython.core.display.Math object>"
      ]
     },
     "metadata": {},
     "output_type": "display_data"
    }
   ],
   "source": [
    "disp(main_normal(t_0)[0])\n",
    "disp(main_normal(t_0)[1])\n",
    "disp(main_normal(t_0)[2])"
   ]
  },
  {
   "cell_type": "code",
   "execution_count": 48,
   "id": "bab6b41c",
   "metadata": {},
   "outputs": [],
   "source": [
    "nu = lambda t : main_normal(t)/main_normal(t).norm().factor().full_simplify()"
   ]
  },
  {
   "cell_type": "code",
   "execution_count": 49,
   "id": "52692936",
   "metadata": {},
   "outputs": [
    {
     "data": {
      "text/latex": [
       "$\\displaystyle -\\frac{1}{2} \\, \\sqrt{2}$"
      ],
      "text/plain": [
       "<IPython.core.display.Math object>"
      ]
     },
     "metadata": {},
     "output_type": "display_data"
    },
    {
     "data": {
      "text/latex": [
       "$\\displaystyle \\frac{1}{2} \\, \\sqrt{2}$"
      ],
      "text/plain": [
       "<IPython.core.display.Math object>"
      ]
     },
     "metadata": {},
     "output_type": "display_data"
    },
    {
     "data": {
      "text/latex": [
       "$\\displaystyle 0$"
      ],
      "text/plain": [
       "<IPython.core.display.Math object>"
      ]
     },
     "metadata": {},
     "output_type": "display_data"
    }
   ],
   "source": [
    "disp(nu(t_0)[0])\n",
    "disp(nu(t_0)[1])\n",
    "disp(nu(t_0)[2])"
   ]
  },
  {
   "cell_type": "markdown",
   "id": "7356a783",
   "metadata": {},
   "source": [
    "Рівняння головної нормалі"
   ]
  },
  {
   "cell_type": "code",
   "execution_count": 50,
   "id": "cce71fbd",
   "metadata": {},
   "outputs": [
    {
     "data": {
      "text/latex": [
       "$\\displaystyle \\frac{ x - 1 }{ -3 } = \\frac{ y }{ 3 } = \\frac{ z - 1 }{ 0 }$"
      ],
      "text/plain": [
       "<IPython.core.display.Math object>"
      ]
     },
     "metadata": {},
     "output_type": "display_data"
    }
   ],
   "source": [
    "canonic(main_normal)"
   ]
  },
  {
   "cell_type": "code",
   "execution_count": null,
   "id": "9017c98b",
   "metadata": {},
   "outputs": [],
   "source": []
  }
 ],
 "metadata": {
  "kernelspec": {
   "display_name": "SageMath 9.6.beta7",
   "language": "sage",
   "name": "sagemath"
  },
  "language_info": {
   "codemirror_mode": {
    "name": "ipython",
    "version": 3
   },
   "file_extension": ".py",
   "mimetype": "text/x-python",
   "name": "python",
   "nbconvert_exporter": "python",
   "pygments_lexer": "ipython3",
   "version": "3.10.3"
  }
 },
 "nbformat": 4,
 "nbformat_minor": 5
}

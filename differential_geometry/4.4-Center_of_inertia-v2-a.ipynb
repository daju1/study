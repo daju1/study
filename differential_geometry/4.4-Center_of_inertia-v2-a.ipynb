{
 "cells": [
  {
   "cell_type": "markdown",
   "id": "4e191f8e",
   "metadata": {},
   "source": [
    "4.4. Знайти центр інерції поверхні S з поверхневою густиною ρ ( r )"
   ]
  },
  {
   "cell_type": "markdown",
   "id": "a6bdfe8b",
   "metadata": {},
   "source": [
    "$z = \\sqrt{x^2+y^2}$\n",
    "\n",
    "$x^2+y^2 <= a$\n",
    "\n",
    "$\\rho = (x^2+y^2)*z^2$"
   ]
  },
  {
   "cell_type": "markdown",
   "id": "2696cd72",
   "metadata": {},
   "source": [
    "Знайдемо масу поверхні\n",
    "\n",
    "$m = \\iint\\limits_{S}^{} \\rho (x, y)\\,dS = \\iint\\limits_{D}^{} \\rho (x, y){\\sqrt{1+{z'_x}^2+{z'_y}^2}}\\,dx\\,dy$"
   ]
  },
  {
   "cell_type": "markdown",
   "id": "6d7bf812",
   "metadata": {},
   "source": [
    "Враховуючи вид підінтегральної функції $f ( x^2 + y^2 )$\n",
    "та кругову форму області D , перейдемо до\n",
    "циліндричних координат"
   ]
  },
  {
   "cell_type": "markdown",
   "id": "5281191b",
   "metadata": {},
   "source": [
    "$r <= \\sqrt{a}$\n",
    "\n",
    "$\\rho = (r^2) \\cdot z^2$\n",
    "\n",
    "$z = r$\n",
    "\n",
    "$\\rho = (r^2) \\cdot r^2$"
   ]
  },
  {
   "cell_type": "code",
   "execution_count": 1,
   "id": "80cc14fd",
   "metadata": {},
   "outputs": [],
   "source": [
    "from IPython.display import display, Math, Latex\n",
    "\n",
    "def disp(ex):\n",
    "    display(Math(latex(ex)))"
   ]
  },
  {
   "cell_type": "code",
   "execution_count": 26,
   "id": "31cc226b",
   "metadata": {},
   "outputs": [],
   "source": [
    "a = var(\"a\")\n",
    "x,y,z = var(\"x,y,z\")\n",
    "r,phi,z = var(\"r,phi,z\")\n",
    "assume(a, \"real\")\n",
    "assume(a>0)\n",
    "\n",
    "Rho = function(\"rho\")(r,phi)\n",
    "M = var(\"m\")\n",
    "rho = (r^2)*r^2\n",
    "Z = sqrt(x^2+y^2)"
   ]
  },
  {
   "cell_type": "code",
   "execution_count": 27,
   "id": "16597805",
   "metadata": {},
   "outputs": [
    {
     "data": {
      "text/latex": [
       "$\\displaystyle \\sqrt{\\frac{x^{2}}{x^{2} + y^{2}} + \\frac{y^{2}}{x^{2} + y^{2}} + 1}$"
      ],
      "text/plain": [
       "<IPython.core.display.Math object>"
      ]
     },
     "metadata": {},
     "output_type": "display_data"
    }
   ],
   "source": [
    "J = sqrt(1 + Z.diff(x)^2 + Z.diff(y)^2)\n",
    "disp(J)"
   ]
  },
  {
   "cell_type": "code",
   "execution_count": 28,
   "id": "01c3b070",
   "metadata": {},
   "outputs": [
    {
     "data": {
      "text/latex": [
       "$\\displaystyle \\sqrt{2}$"
      ],
      "text/plain": [
       "<IPython.core.display.Math object>"
      ]
     },
     "metadata": {},
     "output_type": "display_data"
    }
   ],
   "source": [
    "J = J.full_simplify()\n",
    "disp(J)"
   ]
  },
  {
   "cell_type": "code",
   "execution_count": 29,
   "id": "a87b63ed",
   "metadata": {},
   "outputs": [],
   "source": [
    "r_max = sqrt(a)"
   ]
  },
  {
   "cell_type": "code",
   "execution_count": 30,
   "id": "98ea93c8",
   "metadata": {},
   "outputs": [],
   "source": [
    "m = (Rho * J * r ) \\\n",
    "   .integrate(r, 0, r_max) \\\n",
    "   .integrate(phi, 0, 2*pi)"
   ]
  },
  {
   "cell_type": "code",
   "execution_count": 31,
   "id": "c230b6c5",
   "metadata": {},
   "outputs": [
    {
     "data": {
      "text/latex": [
       "$\\displaystyle \\sqrt{2} \\int_{0}^{2 \\, \\pi} \\int_{0}^{\\sqrt{a}} r \\rho\\left(r, \\phi\\right)\\,{d r}\\,{d \\phi}$"
      ],
      "text/plain": [
       "<IPython.core.display.Math object>"
      ]
     },
     "metadata": {},
     "output_type": "display_data"
    }
   ],
   "source": [
    "disp(m)"
   ]
  },
  {
   "cell_type": "code",
   "execution_count": null,
   "id": "46413e6e",
   "metadata": {},
   "outputs": [],
   "source": []
  },
  {
   "cell_type": "code",
   "execution_count": 32,
   "id": "af73ec62",
   "metadata": {},
   "outputs": [],
   "source": [
    "m = (rho * J * r ) \\\n",
    "   .integrate(r, 0, r_max) \\\n",
    "   .integrate(phi, 0, 2*pi)"
   ]
  },
  {
   "cell_type": "code",
   "execution_count": 33,
   "id": "d4de6247",
   "metadata": {},
   "outputs": [
    {
     "data": {
      "text/latex": [
       "$\\displaystyle \\frac{1}{3} \\, \\sqrt{2} \\pi a^{3}$"
      ],
      "text/plain": [
       "<IPython.core.display.Math object>"
      ]
     },
     "metadata": {},
     "output_type": "display_data"
    }
   ],
   "source": [
    "disp(m)"
   ]
  },
  {
   "cell_type": "markdown",
   "id": "fa321a7d",
   "metadata": {},
   "source": [
    "Далі знайдемо координати центру мас, враховуючи симетрію тіла відносно координатних площин\n",
    "xOz , yOz та непарність підінтегральних функцій відносно змінних х, у"
   ]
  },
  {
   "cell_type": "code",
   "execution_count": 34,
   "id": "223a5c4c",
   "metadata": {},
   "outputs": [
    {
     "data": {
      "text/latex": [
       "$\\displaystyle 0$"
      ],
      "text/plain": [
       "<IPython.core.display.Math object>"
      ]
     },
     "metadata": {},
     "output_type": "display_data"
    }
   ],
   "source": [
    "y_c = 0\n",
    "disp(y_c)"
   ]
  },
  {
   "cell_type": "code",
   "execution_count": 35,
   "id": "672ebda1",
   "metadata": {},
   "outputs": [
    {
     "data": {
      "text/latex": [
       "$\\displaystyle 0$"
      ],
      "text/plain": [
       "<IPython.core.display.Math object>"
      ]
     },
     "metadata": {},
     "output_type": "display_data"
    }
   ],
   "source": [
    "x_c = 0\n",
    "disp(x_c)"
   ]
  },
  {
   "cell_type": "code",
   "execution_count": 36,
   "id": "66422287",
   "metadata": {},
   "outputs": [],
   "source": [
    "z = r\n",
    "z_c = (1/m) * (z * rho * J * r ) \\\n",
    "   .integrate(r, 0, r_max) \\\n",
    "   .integrate(phi, 0, 2*pi)"
   ]
  },
  {
   "cell_type": "code",
   "execution_count": 37,
   "id": "e2dd68d0",
   "metadata": {},
   "outputs": [
    {
     "data": {
      "text/latex": [
       "$\\displaystyle \\frac{6}{7} \\, \\sqrt{a}$"
      ],
      "text/plain": [
       "<IPython.core.display.Math object>"
      ]
     },
     "metadata": {},
     "output_type": "display_data"
    }
   ],
   "source": [
    "disp(z_c)"
   ]
  },
  {
   "cell_type": "code",
   "execution_count": null,
   "id": "d986c1a9",
   "metadata": {},
   "outputs": [],
   "source": []
  }
 ],
 "metadata": {
  "kernelspec": {
   "display_name": "SageMath 9.6.beta7",
   "language": "sage",
   "name": "sagemath"
  },
  "language_info": {
   "codemirror_mode": {
    "name": "ipython",
    "version": 3
   },
   "file_extension": ".py",
   "mimetype": "text/x-python",
   "name": "python",
   "nbconvert_exporter": "python",
   "pygments_lexer": "ipython3",
   "version": "3.10.3"
  }
 },
 "nbformat": 4,
 "nbformat_minor": 5
}

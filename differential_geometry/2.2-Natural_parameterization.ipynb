{
 "cells": [
  {
   "cell_type": "markdown",
   "id": "e1fb7db7",
   "metadata": {},
   "source": [
    "2. ПРИРОДНА ПАРАМЕТРИЗАЦІЯ"
   ]
  },
  {
   "cell_type": "markdown",
   "id": "7944ccf9",
   "metadata": {},
   "source": [
    "2.2. Дано параметричне рівняння кривої $\\vec{r}(t)$. Перейти до природної параметризації\n",
    "$\\vec{\\rho}(s)$.Побудувати рівняння ребер та граней природного тригранника кривої у випаду природної параметризації"
   ]
  },
  {
   "cell_type": "markdown",
   "id": "815009b5",
   "metadata": {},
   "source": [
    "$L=\\left\\{\\vec{r}\\left(t\\right)=\\left(\\begin{array}{c}\n",
    "    cos\\,e^t \\\\\n",
    "    sin\\,e^t \\\\\n",
    "    e^t \\\\\n",
    "\\end{array}\\right)\\right\\}, t_0 = 0$"
   ]
  },
  {
   "cell_type": "markdown",
   "id": "0b93ac70",
   "metadata": {},
   "source": [
    "Спираючись на вихідну параметризацію, побудуємо природну\n",
    "\n",
    "$\\vec{r} = \\vec{r}(t) \\rightarrow \n",
    "s = s(t) = \\int_{0}^t\\left|\\vec{r}'(l)\\right|dl \\rightarrow \n",
    "t = t(s) \\rightarrow\n",
    "\\vec{r}(t(s)) = \\vec{\\rho}(s)$"
   ]
  },
  {
   "cell_type": "markdown",
   "id": "33be37e5",
   "metadata": {},
   "source": [
    "В даному випадку"
   ]
  },
  {
   "cell_type": "code",
   "execution_count": 1,
   "id": "f80258f4",
   "metadata": {},
   "outputs": [],
   "source": [
    "from IPython.display import display, Math, Latex\n",
    "\n",
    "def disp(ex):\n",
    "    display(Math(latex(ex)))\n",
    "    \n",
    "def displ(la):\n",
    "    display(Math(la))"
   ]
  },
  {
   "cell_type": "code",
   "execution_count": 2,
   "id": "acf166fa",
   "metadata": {},
   "outputs": [],
   "source": [
    "t, s, x, y, z, t_0, l = var(\"t, s, x, y, z, t_0, l\")\n",
    "r = vector([var(\"x\"),var(\"y\"),var(\"z\")])\n",
    "assume(t, \"real\")\n",
    "assume(t > 0)\n",
    "X = lambda t : cos(exp(t))\n",
    "Y = lambda t : sin(exp(t))\n",
    "Z = lambda t : exp(t)"
   ]
  },
  {
   "cell_type": "code",
   "execution_count": 3,
   "id": "dffc0e5f",
   "metadata": {},
   "outputs": [],
   "source": [
    "R = lambda t : vector([X(t),Y(t),Z(t)])\n",
    "exec(preparse(\"v = lambda t : vector(\" + str(R(t).diff(t)) + \")\"))\n",
    "exec(preparse(\"w = lambda t : vector(\" + str(R(t).diff(t,2)) + \")\"))"
   ]
  },
  {
   "cell_type": "code",
   "execution_count": 4,
   "id": "8b42fa9a",
   "metadata": {},
   "outputs": [
    {
     "data": {
      "text/latex": [
       "$\\displaystyle -e^{t} \\sin\\left(e^{t}\\right)$"
      ],
      "text/plain": [
       "<IPython.core.display.Math object>"
      ]
     },
     "metadata": {},
     "output_type": "display_data"
    },
    {
     "data": {
      "text/latex": [
       "$\\displaystyle \\cos\\left(e^{t}\\right) e^{t}$"
      ],
      "text/plain": [
       "<IPython.core.display.Math object>"
      ]
     },
     "metadata": {},
     "output_type": "display_data"
    },
    {
     "data": {
      "text/latex": [
       "$\\displaystyle e^{t}$"
      ],
      "text/plain": [
       "<IPython.core.display.Math object>"
      ]
     },
     "metadata": {},
     "output_type": "display_data"
    }
   ],
   "source": [
    "disp(v(t)[0])\n",
    "disp(v(t)[1])\n",
    "disp(v(t)[2])"
   ]
  },
  {
   "cell_type": "code",
   "execution_count": 5,
   "id": "24e5a422",
   "metadata": {},
   "outputs": [
    {
     "data": {
      "text/latex": [
       "$\\displaystyle -\\cos\\left(e^{t}\\right) e^{\\left(2 \\, t\\right)} - e^{t} \\sin\\left(e^{t}\\right)$"
      ],
      "text/plain": [
       "<IPython.core.display.Math object>"
      ]
     },
     "metadata": {},
     "output_type": "display_data"
    },
    {
     "data": {
      "text/latex": [
       "$\\displaystyle \\cos\\left(e^{t}\\right) e^{t} - e^{\\left(2 \\, t\\right)} \\sin\\left(e^{t}\\right)$"
      ],
      "text/plain": [
       "<IPython.core.display.Math object>"
      ]
     },
     "metadata": {},
     "output_type": "display_data"
    },
    {
     "data": {
      "text/latex": [
       "$\\displaystyle e^{t}$"
      ],
      "text/plain": [
       "<IPython.core.display.Math object>"
      ]
     },
     "metadata": {},
     "output_type": "display_data"
    }
   ],
   "source": [
    "disp(w(t)[0])\n",
    "disp(w(t)[1])\n",
    "disp(w(t)[2])"
   ]
  },
  {
   "cell_type": "markdown",
   "id": "2d049608",
   "metadata": {},
   "source": [
    "Знаходимо $\\left|\\vec{r}'(t)\\right|$"
   ]
  },
  {
   "cell_type": "code",
   "execution_count": 6,
   "id": "7eeb8d45",
   "metadata": {},
   "outputs": [
    {
     "data": {
      "text/latex": [
       "$\\displaystyle \\sqrt{2} e^{t}$"
      ],
      "text/plain": [
       "<IPython.core.display.Math object>"
      ]
     },
     "metadata": {},
     "output_type": "display_data"
    }
   ],
   "source": [
    "# величина швидкості\n",
    "V = lambda t : v(t).norm().factor().trig_simplify()\n",
    "disp(V(t))"
   ]
  },
  {
   "cell_type": "markdown",
   "id": "6c6f9687",
   "metadata": {},
   "source": [
    "Знайдемо довжину дуги $s(t)$ (виразимо природний параметр $s$ через початковий $t$)\n",
    "\n",
    "$$s(t) = \\int_{0}^t\\left|\\vec{r}'(l)\\right|dl$$"
   ]
  },
  {
   "cell_type": "code",
   "execution_count": 7,
   "id": "8d6b0fab",
   "metadata": {},
   "outputs": [
    {
     "data": {
      "text/latex": [
       "$\\displaystyle \\sqrt{2} {\\left(e^{t} - 1\\right)}$"
      ],
      "text/plain": [
       "<IPython.core.display.Math object>"
      ]
     },
     "metadata": {},
     "output_type": "display_data"
    }
   ],
   "source": [
    "S = lambda t : V(l).integrate(l, 0, t)\n",
    "disp(S(t))"
   ]
  },
  {
   "cell_type": "markdown",
   "id": "f98557de",
   "metadata": {},
   "source": [
    "Звідси виразимо параметр $t$ через природний $s$"
   ]
  },
  {
   "cell_type": "code",
   "execution_count": 8,
   "id": "65b4f5c8",
   "metadata": {},
   "outputs": [
    {
     "data": {
      "text/latex": [
       "$\\displaystyle \\log\\left(\\frac{1}{2} \\, \\sqrt{2} s + 1\\right)$"
      ],
      "text/plain": [
       "<IPython.core.display.Math object>"
      ]
     },
     "metadata": {},
     "output_type": "display_data"
    }
   ],
   "source": [
    "# ts = lambda s : solve(s == S(t), t)[0].rhs()\n",
    "exec(preparse(\"ts = lambda s : solve(s == \" + str(S(t)) + \", t)[0].rhs()\"))\n",
    "disp(ts(s))"
   ]
  },
  {
   "cell_type": "markdown",
   "id": "a9f0ba6f",
   "metadata": {},
   "source": [
    "Нарешті, з початкової параметризації отримаємо природну:"
   ]
  },
  {
   "cell_type": "code",
   "execution_count": 9,
   "id": "6ca5bb72",
   "metadata": {},
   "outputs": [
    {
     "data": {
      "text/latex": [
       "$\\displaystyle \\cos\\left(\\frac{1}{2} \\, \\sqrt{2} s + 1\\right)$"
      ],
      "text/plain": [
       "<IPython.core.display.Math object>"
      ]
     },
     "metadata": {},
     "output_type": "display_data"
    },
    {
     "data": {
      "text/latex": [
       "$\\displaystyle \\sin\\left(\\frac{1}{2} \\, \\sqrt{2} s + 1\\right)$"
      ],
      "text/plain": [
       "<IPython.core.display.Math object>"
      ]
     },
     "metadata": {},
     "output_type": "display_data"
    },
    {
     "data": {
      "text/latex": [
       "$\\displaystyle \\frac{1}{2} \\, \\sqrt{2} s + 1$"
      ],
      "text/plain": [
       "<IPython.core.display.Math object>"
      ]
     },
     "metadata": {},
     "output_type": "display_data"
    }
   ],
   "source": [
    "# rho = lambda s : R(t).subs(t==ts(s))\n",
    "exec(preparse(\"rho = lambda s : vector(\" + str(R(t).subs(t==ts(s))) + \")\" ))\n",
    "disp(rho(s)[0])\n",
    "disp(rho(s)[1])\n",
    "disp(rho(s)[2])"
   ]
  },
  {
   "cell_type": "markdown",
   "id": "9521e359",
   "metadata": {},
   "source": [
    "Отже\n",
    "\n",
    "Знаходимо $\\dot{\\vec{\\rho}}$"
   ]
  },
  {
   "cell_type": "code",
   "execution_count": 10,
   "id": "dbcdc95a",
   "metadata": {},
   "outputs": [
    {
     "data": {
      "text/latex": [
       "$\\displaystyle -\\frac{1}{2} \\, \\sqrt{2} \\sin\\left(\\frac{1}{2} \\, \\sqrt{2} s + 1\\right)$"
      ],
      "text/plain": [
       "<IPython.core.display.Math object>"
      ]
     },
     "metadata": {},
     "output_type": "display_data"
    },
    {
     "data": {
      "text/latex": [
       "$\\displaystyle \\frac{1}{2} \\, \\sqrt{2} \\cos\\left(\\frac{1}{2} \\, \\sqrt{2} s + 1\\right)$"
      ],
      "text/plain": [
       "<IPython.core.display.Math object>"
      ]
     },
     "metadata": {},
     "output_type": "display_data"
    },
    {
     "data": {
      "text/latex": [
       "$\\displaystyle \\frac{1}{2} \\, \\sqrt{2} \\cos\\left(\\frac{1}{2} \\, \\sqrt{2} s + 1\\right)$"
      ],
      "text/plain": [
       "<IPython.core.display.Math object>"
      ]
     },
     "metadata": {},
     "output_type": "display_data"
    }
   ],
   "source": [
    "# dot_rho = lambda s : rho(s).diff(s)\n",
    "exec(preparse(\"dot_rho = lambda s : vector(\" + str(rho(s).diff(s)) + \")\" ))\n",
    "disp(dot_rho(s)[0])\n",
    "disp(dot_rho(s)[1])\n",
    "disp(dot_rho(s)[1])"
   ]
  },
  {
   "cell_type": "markdown",
   "id": "a5af33cb",
   "metadata": {},
   "source": [
    "Знаходимо $\\ddot{\\vec{\\rho}}$"
   ]
  },
  {
   "cell_type": "code",
   "execution_count": 11,
   "id": "2cc4a84a",
   "metadata": {},
   "outputs": [
    {
     "data": {
      "text/latex": [
       "$\\displaystyle -\\frac{1}{2} \\, \\cos\\left(\\frac{1}{2} \\, \\sqrt{2} s + 1\\right)$"
      ],
      "text/plain": [
       "<IPython.core.display.Math object>"
      ]
     },
     "metadata": {},
     "output_type": "display_data"
    },
    {
     "data": {
      "text/latex": [
       "$\\displaystyle -\\frac{1}{2} \\, \\sin\\left(\\frac{1}{2} \\, \\sqrt{2} s + 1\\right)$"
      ],
      "text/plain": [
       "<IPython.core.display.Math object>"
      ]
     },
     "metadata": {},
     "output_type": "display_data"
    },
    {
     "data": {
      "text/latex": [
       "$\\displaystyle 0$"
      ],
      "text/plain": [
       "<IPython.core.display.Math object>"
      ]
     },
     "metadata": {},
     "output_type": "display_data"
    }
   ],
   "source": [
    "# ddot_rho = lambda s : rho(s).diff(s, 2)\n",
    "exec(preparse(\"ddot_rho = lambda s : vector(\" + str(rho(s).diff(s, 2)) + \")\" ))\n",
    "disp(ddot_rho(s)[0])\n",
    "disp(ddot_rho(s)[1])\n",
    "disp(ddot_rho(s)[2])"
   ]
  },
  {
   "cell_type": "markdown",
   "id": "0f5b99c6",
   "metadata": {},
   "source": [
    "Переходимо до знаходження ребер та граней природного тригранника у заданій точці"
   ]
  },
  {
   "cell_type": "code",
   "execution_count": 12,
   "id": "9d4fb82d",
   "metadata": {},
   "outputs": [],
   "source": [
    "t_0 = 0\n",
    "s_0 = 0"
   ]
  },
  {
   "cell_type": "markdown",
   "id": "557ab4e7",
   "metadata": {},
   "source": [
    "$$\\rho_0 = \\vec{\\rho}(s_0)$$"
   ]
  },
  {
   "cell_type": "code",
   "execution_count": 13,
   "id": "cee8a97b",
   "metadata": {},
   "outputs": [
    {
     "data": {
      "text/latex": [
       "$\\displaystyle \\left(\\cos\\left(1\\right),\\,\\sin\\left(1\\right),\\,1\\right)$"
      ],
      "text/plain": [
       "<IPython.core.display.Math object>"
      ]
     },
     "metadata": {},
     "output_type": "display_data"
    }
   ],
   "source": [
    "rho_0      = rho(s_0)\n",
    "disp(rho_0)"
   ]
  },
  {
   "cell_type": "markdown",
   "id": "74eb28ab",
   "metadata": {},
   "source": [
    "$$\\dot{\\vec{\\rho}}(s_0)$$"
   ]
  },
  {
   "cell_type": "code",
   "execution_count": 14,
   "id": "8df7aca0",
   "metadata": {},
   "outputs": [
    {
     "data": {
      "text/latex": [
       "$\\displaystyle \\left(-\\frac{1}{2} \\, \\sqrt{2} \\sin\\left(1\\right),\\,\\frac{1}{2} \\, \\sqrt{2} \\cos\\left(1\\right),\\,\\frac{1}{2} \\, \\sqrt{2}\\right)$"
      ],
      "text/plain": [
       "<IPython.core.display.Math object>"
      ]
     },
     "metadata": {},
     "output_type": "display_data"
    }
   ],
   "source": [
    "dot_rho_0  = dot_rho(s_0)\n",
    "disp(dot_rho_0)"
   ]
  },
  {
   "cell_type": "markdown",
   "id": "4591bedb",
   "metadata": {},
   "source": [
    "$$\\ddot{\\vec{\\rho}}(s_0)$$"
   ]
  },
  {
   "cell_type": "code",
   "execution_count": 15,
   "id": "d7533b95",
   "metadata": {},
   "outputs": [
    {
     "data": {
      "text/latex": [
       "$\\displaystyle \\left(-\\frac{1}{2} \\, \\cos\\left(1\\right),\\,-\\frac{1}{2} \\, \\sin\\left(1\\right),\\,0\\right)$"
      ],
      "text/plain": [
       "<IPython.core.display.Math object>"
      ]
     },
     "metadata": {},
     "output_type": "display_data"
    }
   ],
   "source": [
    "ddot_rho_0 = ddot_rho(s_0)\n",
    "disp(ddot_rho_0)"
   ]
  },
  {
   "cell_type": "markdown",
   "id": "92fa155e",
   "metadata": {},
   "source": [
    "Рівняння прямої та площини, які проходять через задану точку\n",
    "\n",
    "Пряма $\\frac{x-x_0}{n_x} = \\frac{y-y_0}{n_y} = \\frac{z-z_0}{n_z}$"
   ]
  },
  {
   "cell_type": "code",
   "execution_count": 16,
   "id": "cae6fd5f",
   "metadata": {},
   "outputs": [],
   "source": [
    "# Пряма\n",
    "def canonic0(n):\n",
    "    displ(\n",
    "        \"\\\\frac{\" + latex ((r-R(t_0))[0]) + \"}{\" + latex(n[0].full_simplify()) + \"} =\" +\n",
    "        \"\\\\frac{\" + latex ((r-R(t_0))[1]) + \"}{\" + latex(n[1].full_simplify()) + \"} =\" +\n",
    "        \"\\\\frac{\" + latex ((r-R(t_0))[2]) + \"}{\" + latex(n[2].full_simplify()) + \"}\")\n",
    "    \n",
    "def canonic(n):\n",
    "    displ(\n",
    "        latex ((r-R(t_0))[0]/n[0]) + \"=\" +\n",
    "        latex ((r-R(t_0))[1]/n[1]) + \"=\" +\n",
    "        latex ((r-R(t_0))[2]/n[2]) + \"\")"
   ]
  },
  {
   "cell_type": "markdown",
   "id": "1b503cbc",
   "metadata": {},
   "source": [
    "Площина $n_x (x-x_0) + n_y (y-y_0) + n_z (z-z_0) = 0$"
   ]
  },
  {
   "cell_type": "code",
   "execution_count": 17,
   "id": "05b21cc5",
   "metadata": {},
   "outputs": [],
   "source": [
    "def plate(n):\n",
    "    return (\n",
    "        n[0] * (r-R(t_0))[0] +\n",
    "        n[1] * (r-R(t_0))[1] +\n",
    "        n[2] * (r-R(t_0))[2] == 0 )\n",
    "\n",
    "def plate0(n):\n",
    "    displ (\n",
    "        \"\\\\left(\" + latex(n[0].full_simplify()) + \"\\\\right) \\\\cdot \\\\left(\" + latex((r-R(t_0))[0]) + \"\\\\right) + \" +\n",
    "        \"\\\\left(\" + latex(n[1].full_simplify()) + \"\\\\right) \\\\cdot \\\\left(\" + latex((r-R(t_0))[1]) + \"\\\\right) + \" +\n",
    "        \"\\\\left(\" + latex(n[2].full_simplify()) + \"\\\\right) \\\\cdot \\\\left(\" + latex((r-R(t_0))[2]) + \"\\\\right) = 0\" )"
   ]
  },
  {
   "cell_type": "markdown",
   "id": "b871c17d",
   "metadata": {},
   "source": [
    "Очевидно, що у рівняннях ребер и граней різні лише вектори $\\vec{n}$"
   ]
  },
  {
   "cell_type": "markdown",
   "id": "83f7b67d",
   "metadata": {},
   "source": [
    "Координати дотичного вектора в даній точці\n",
    "\n",
    "$$\\vec{\\tau} = \\dot{\\vec{\\rho}}_0$$"
   ]
  },
  {
   "cell_type": "code",
   "execution_count": 18,
   "id": "e56e90db",
   "metadata": {},
   "outputs": [
    {
     "data": {
      "text/latex": [
       "$\\displaystyle \\left(-\\frac{1}{2} \\, \\sqrt{2} \\sin\\left(1\\right),\\,\\frac{1}{2} \\, \\sqrt{2} \\cos\\left(1\\right),\\,\\frac{1}{2} \\, \\sqrt{2}\\right)$"
      ],
      "text/plain": [
       "<IPython.core.display.Math object>"
      ]
     },
     "metadata": {},
     "output_type": "display_data"
    }
   ],
   "source": [
    "disp(dot_rho_0)"
   ]
  },
  {
   "cell_type": "markdown",
   "id": "ac179113",
   "metadata": {},
   "source": [
    "Дотична пряма"
   ]
  },
  {
   "cell_type": "code",
   "execution_count": 19,
   "id": "cc7ee760",
   "metadata": {},
   "outputs": [
    {
     "data": {
      "text/latex": [
       "$\\displaystyle \\frac{ x - \\cos\\left(1\\right) }{ -\\frac{1}{2} \\, \\sqrt{2} \\sin\\left(1\\right) } = \\frac{ y - \\sin\\left(1\\right) }{ \\frac{1}{2} \\, \\sqrt{2} \\cos\\left(1\\right) } = \\frac{ z - 1 }{ \\frac{1}{2} \\, \\sqrt{2} }$"
      ],
      "text/plain": [
       "<IPython.core.display.Math object>"
      ]
     },
     "metadata": {},
     "output_type": "display_data"
    }
   ],
   "source": [
    "canonic0(dot_rho_0)"
   ]
  },
  {
   "cell_type": "code",
   "execution_count": 20,
   "id": "7b81d046",
   "metadata": {},
   "outputs": [
    {
     "data": {
      "text/latex": [
       "$\\displaystyle -\\frac{\\sqrt{2} {\\left(x - \\cos\\left(1\\right)\\right)}}{\\sin\\left(1\\right)} = \\frac{\\sqrt{2} {\\left(y - \\sin\\left(1\\right)\\right)}}{\\cos\\left(1\\right)} = \\sqrt{2} {\\left(z - 1\\right)}$"
      ],
      "text/plain": [
       "<IPython.core.display.Math object>"
      ]
     },
     "metadata": {},
     "output_type": "display_data"
    }
   ],
   "source": [
    "canonic(dot_rho_0)"
   ]
  },
  {
   "cell_type": "markdown",
   "id": "5ee115b7",
   "metadata": {},
   "source": [
    "Нормальна площина дотичного вектора"
   ]
  },
  {
   "cell_type": "code",
   "execution_count": 21,
   "id": "3d6d2c89",
   "metadata": {},
   "outputs": [
    {
     "data": {
      "text/latex": [
       "$\\displaystyle \\frac{1}{2} \\, \\sqrt{2} {\\left(y - \\sin\\left(1\\right)\\right)} \\cos\\left(1\\right) - \\frac{1}{2} \\, \\sqrt{2} {\\left(x - \\cos\\left(1\\right)\\right)} \\sin\\left(1\\right) + \\frac{1}{2} \\, \\sqrt{2} {\\left(z - 1\\right)} = 0$"
      ],
      "text/plain": [
       "<IPython.core.display.Math object>"
      ]
     },
     "metadata": {},
     "output_type": "display_data"
    }
   ],
   "source": [
    "disp(plate(dot_rho_0))"
   ]
  },
  {
   "cell_type": "markdown",
   "id": "1009ff6f",
   "metadata": {},
   "source": [
    "Координати вектора головної нормалі в даній точці"
   ]
  },
  {
   "cell_type": "code",
   "execution_count": 22,
   "id": "57459e4f",
   "metadata": {},
   "outputs": [
    {
     "data": {
      "text/latex": [
       "$\\displaystyle \\left(-\\frac{1}{2} \\, \\cos\\left(1\\right),\\,-\\frac{1}{2} \\, \\sin\\left(1\\right),\\,0\\right)$"
      ],
      "text/plain": [
       "<IPython.core.display.Math object>"
      ]
     },
     "metadata": {},
     "output_type": "display_data"
    }
   ],
   "source": [
    "disp(ddot_rho_0)"
   ]
  },
  {
   "cell_type": "markdown",
   "id": "f51da6cf",
   "metadata": {},
   "source": [
    "Рівняння головної нормалі"
   ]
  },
  {
   "cell_type": "code",
   "execution_count": 23,
   "id": "71d795ae",
   "metadata": {},
   "outputs": [
    {
     "data": {
      "text/latex": [
       "$\\displaystyle \\frac{ x - \\cos\\left(1\\right) }{ -\\frac{1}{2} \\, \\cos\\left(1\\right) } = \\frac{ y - \\sin\\left(1\\right) }{ -\\frac{1}{2} \\, \\sin\\left(1\\right) } = \\frac{ z - 1 }{ 0 }$"
      ],
      "text/plain": [
       "<IPython.core.display.Math object>"
      ]
     },
     "metadata": {},
     "output_type": "display_data"
    }
   ],
   "source": [
    "canonic0(ddot_rho_0)"
   ]
  },
  {
   "cell_type": "markdown",
   "id": "b10f4389",
   "metadata": {},
   "source": [
    "Спрямна площина"
   ]
  },
  {
   "cell_type": "code",
   "execution_count": 24,
   "id": "9a2fc9f0",
   "metadata": {},
   "outputs": [
    {
     "data": {
      "text/latex": [
       "$\\displaystyle \\left( -\\frac{1}{2} \\, \\cos\\left(1\\right) \\right) \\cdot \\left( x - \\cos\\left(1\\right) \\right) + \\left( -\\frac{1}{2} \\, \\sin\\left(1\\right) \\right) \\cdot \\left( y - \\sin\\left(1\\right) \\right) + \\left( 0 \\right) \\cdot \\left( z - 1 \\right) = 0$"
      ],
      "text/plain": [
       "<IPython.core.display.Math object>"
      ]
     },
     "metadata": {},
     "output_type": "display_data"
    }
   ],
   "source": [
    "plate0(ddot_rho_0)"
   ]
  },
  {
   "cell_type": "markdown",
   "id": "87da0d78",
   "metadata": {},
   "source": [
    "Координати вектора бінормалі в даній точці"
   ]
  },
  {
   "cell_type": "code",
   "execution_count": 25,
   "id": "35e113a6",
   "metadata": {},
   "outputs": [],
   "source": [
    "binormal_t = lambda t : v(t).cross_product(w(t))"
   ]
  },
  {
   "cell_type": "code",
   "execution_count": 26,
   "id": "ae0276bf",
   "metadata": {},
   "outputs": [
    {
     "data": {
      "text/latex": [
       "$\\displaystyle \\sin\\left(1\\right)$"
      ],
      "text/plain": [
       "<IPython.core.display.Math object>"
      ]
     },
     "metadata": {},
     "output_type": "display_data"
    },
    {
     "data": {
      "text/latex": [
       "$\\displaystyle -\\cos\\left(1\\right)$"
      ],
      "text/plain": [
       "<IPython.core.display.Math object>"
      ]
     },
     "metadata": {},
     "output_type": "display_data"
    },
    {
     "data": {
      "text/latex": [
       "$\\displaystyle 1$"
      ],
      "text/plain": [
       "<IPython.core.display.Math object>"
      ]
     },
     "metadata": {},
     "output_type": "display_data"
    }
   ],
   "source": [
    "disp(binormal_t(t_0)[0])\n",
    "disp(binormal_t(t_0)[1])\n",
    "disp(binormal_t(t_0)[2].full_simplify())"
   ]
  },
  {
   "cell_type": "markdown",
   "id": "116aac0e",
   "metadata": {},
   "source": [
    "$$\\vec\\beta \\uparrow \\uparrow \\left[\\dot{\\vec{\\rho}}_0, \\ddot{\\vec{\\rho}}_0 \\right]$$"
   ]
  },
  {
   "cell_type": "code",
   "execution_count": 27,
   "id": "3ce488d4",
   "metadata": {},
   "outputs": [],
   "source": [
    "binormal_s = lambda s : dot_rho(s).cross_product(ddot_rho(s))"
   ]
  },
  {
   "cell_type": "code",
   "execution_count": 28,
   "id": "29cdfb90",
   "metadata": {},
   "outputs": [
    {
     "data": {
      "text/latex": [
       "$\\displaystyle \\frac{1}{4} \\, \\sqrt{2} \\sin\\left(1\\right)$"
      ],
      "text/plain": [
       "<IPython.core.display.Math object>"
      ]
     },
     "metadata": {},
     "output_type": "display_data"
    },
    {
     "data": {
      "text/latex": [
       "$\\displaystyle -\\frac{1}{4} \\, \\sqrt{2} \\cos\\left(1\\right)$"
      ],
      "text/plain": [
       "<IPython.core.display.Math object>"
      ]
     },
     "metadata": {},
     "output_type": "display_data"
    },
    {
     "data": {
      "text/latex": [
       "$\\displaystyle \\frac{1}{4} \\, \\sqrt{2}$"
      ],
      "text/plain": [
       "<IPython.core.display.Math object>"
      ]
     },
     "metadata": {},
     "output_type": "display_data"
    }
   ],
   "source": [
    "disp(binormal_s(s_0)[0])\n",
    "disp(binormal_s(s_0)[1])\n",
    "disp(binormal_s(s_0)[2].full_simplify())"
   ]
  },
  {
   "cell_type": "markdown",
   "id": "a6c1c14a",
   "metadata": {},
   "source": [
    "Рівняння бінормалі"
   ]
  },
  {
   "cell_type": "code",
   "execution_count": 29,
   "id": "4fde258c",
   "metadata": {},
   "outputs": [
    {
     "data": {
      "text/latex": [
       "$\\displaystyle \\frac{ x - \\cos\\left(1\\right) }{ \\sin\\left(1\\right) } = \\frac{ y - \\sin\\left(1\\right) }{ -\\cos\\left(1\\right) } = \\frac{ z - 1 }{ 1 }$"
      ],
      "text/plain": [
       "<IPython.core.display.Math object>"
      ]
     },
     "metadata": {},
     "output_type": "display_data"
    }
   ],
   "source": [
    "canonic0(binormal_t(t_0))"
   ]
  },
  {
   "cell_type": "code",
   "execution_count": 30,
   "id": "fead3a4e",
   "metadata": {},
   "outputs": [
    {
     "data": {
      "text/latex": [
       "$\\displaystyle \\frac{ x - \\cos\\left(1\\right) }{ \\frac{1}{4} \\, \\sqrt{2} \\sin\\left(1\\right) } = \\frac{ y - \\sin\\left(1\\right) }{ -\\frac{1}{4} \\, \\sqrt{2} \\cos\\left(1\\right) } = \\frac{ z - 1 }{ \\frac{1}{4} \\, \\sqrt{2} }$"
      ],
      "text/plain": [
       "<IPython.core.display.Math object>"
      ]
     },
     "metadata": {},
     "output_type": "display_data"
    }
   ],
   "source": [
    "canonic0(binormal_s(s_0))"
   ]
  },
  {
   "cell_type": "markdown",
   "id": "c5f4af71",
   "metadata": {},
   "source": [
    "Стична площина"
   ]
  },
  {
   "cell_type": "code",
   "execution_count": 31,
   "id": "babc5965",
   "metadata": {},
   "outputs": [
    {
     "data": {
      "text/latex": [
       "$\\displaystyle \\left( \\sin\\left(1\\right) \\right) \\cdot \\left( x - \\cos\\left(1\\right) \\right) + \\left( -\\cos\\left(1\\right) \\right) \\cdot \\left( y - \\sin\\left(1\\right) \\right) + \\left( 1 \\right) \\cdot \\left( z - 1 \\right) = 0$"
      ],
      "text/plain": [
       "<IPython.core.display.Math object>"
      ]
     },
     "metadata": {},
     "output_type": "display_data"
    }
   ],
   "source": [
    "plate0(binormal_t(t_0))"
   ]
  },
  {
   "cell_type": "code",
   "execution_count": null,
   "id": "bdf38180",
   "metadata": {},
   "outputs": [],
   "source": []
  }
 ],
 "metadata": {
  "kernelspec": {
   "display_name": "SageMath 9.6.beta7",
   "language": "sage",
   "name": "sagemath"
  },
  "language_info": {
   "codemirror_mode": {
    "name": "ipython",
    "version": 3
   },
   "file_extension": ".py",
   "mimetype": "text/x-python",
   "name": "python",
   "nbconvert_exporter": "python",
   "pygments_lexer": "ipython3",
   "version": "3.10.3"
  }
 },
 "nbformat": 4,
 "nbformat_minor": 5
}

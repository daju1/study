{
 "cells": [
  {
   "cell_type": "markdown",
   "id": "a2d42335",
   "metadata": {},
   "source": [
    "1. ПРИРОДНИЙ ТРИГРАННИК"
   ]
  },
  {
   "cell_type": "markdown",
   "id": "1e7ba96e",
   "metadata": {},
   "source": [
    "1.1. Дано рівняння траєкторії руху матеріальної точки $r=\\vec{r}\\left(t\\right)$ Знайти величину та напрямок швидкості $\\vec{v} = v \\cdot \\vec{e}_v$ та прискорення $\\vec{w} = w \\cdot \\vec{e}_w$ Розкласти прискорення $\\vec{w} = \\vec{w}_{\\parallel} + \\vec{w}_{\\perp}$ на дотичну та нормальну складові"
   ]
  },
  {
   "cell_type": "code",
   "execution_count": 1,
   "id": "08379a16",
   "metadata": {},
   "outputs": [],
   "source": [
    "from IPython.display import display, Math, Latex\n",
    "\n",
    "def disp(ex):\n",
    "    display(Math(latex(ex)))\n",
    "    \n",
    "def displ(la):\n",
    "    display(Math(la))"
   ]
  },
  {
   "cell_type": "code",
   "execution_count": 2,
   "id": "99482ce4",
   "metadata": {},
   "outputs": [],
   "source": [
    "t, x, y, z, t_0 = var(\"t, x, y, z, t_0\")\n",
    "assume(t, \"real\")\n",
    "assume(t > 0)\n",
    "X = lambda t : cos(t^3)\n",
    "Y = lambda t : sin(t^3)\n",
    "Z = lambda t : t^3"
   ]
  },
  {
   "cell_type": "code",
   "execution_count": 3,
   "id": "4b804737",
   "metadata": {},
   "outputs": [
    {
     "data": {
      "text/latex": [
       "$\\displaystyle \\left(x,\\,y,\\,z\\right)$"
      ],
      "text/plain": [
       "<IPython.core.display.Math object>"
      ]
     },
     "metadata": {},
     "output_type": "display_data"
    }
   ],
   "source": [
    "r = vector([var(\"x\"),var(\"y\"),var(\"z\")])\n",
    "disp(r)"
   ]
  },
  {
   "cell_type": "code",
   "execution_count": 4,
   "id": "87c12021",
   "metadata": {},
   "outputs": [
    {
     "data": {
      "text/latex": [
       "$\\displaystyle \\left(\\cos\\left(t^{3}\\right),\\,\\sin\\left(t^{3}\\right),\\,t^{3}\\right)$"
      ],
      "text/plain": [
       "<IPython.core.display.Math object>"
      ]
     },
     "metadata": {},
     "output_type": "display_data"
    }
   ],
   "source": [
    "R = lambda t : vector([X(t),Y(t),Z(t)])\n",
    "disp(R(t))"
   ]
  },
  {
   "cell_type": "code",
   "execution_count": 5,
   "id": "678eb8e6",
   "metadata": {},
   "outputs": [
    {
     "data": {
      "text/latex": [
       "$\\displaystyle \\left(\\cos\\left(t_{0}^{3}\\right),\\,\\sin\\left(t_{0}^{3}\\right),\\,t_{0}^{3}\\right)$"
      ],
      "text/plain": [
       "<IPython.core.display.Math object>"
      ]
     },
     "metadata": {},
     "output_type": "display_data"
    }
   ],
   "source": [
    "disp(R(t_0))"
   ]
  },
  {
   "cell_type": "markdown",
   "id": "4302865f",
   "metadata": {},
   "source": [
    "Похідною вектор-функції (тобто функції, значеннями якої є вектори в векторному просторі) $\\vec{r}\\left(t\\right)$ в точці $t = t_0$ називають границю $\\underset{\\Delta t \\rightarrow 0}{lim}\\frac{\\vec{r}\\left(t_0+\\Delta t\\right) - \\vec{r}\\left(t_0\\right)}{\\Delta t}$"
   ]
  },
  {
   "cell_type": "markdown",
   "id": "92fe6835",
   "metadata": {},
   "source": [
    "$\\vec{r'}\\left(t\\right)=\\left(\\begin{array}{l}\n",
    "    x'(t) \\\\\n",
    "    y'(t) \\\\\n",
    "    z'(t) \\\\\n",
    "\\end{array}\\right)$"
   ]
  },
  {
   "cell_type": "code",
   "execution_count": 6,
   "id": "44697968",
   "metadata": {},
   "outputs": [],
   "source": [
    "exec(preparse(\"v = lambda t : vector(\" + str(R(t).diff(t)) + \")\"))\n",
    "exec(preparse(\"w = lambda t : vector(\" + str(R(t).diff(t,2)) + \")\"))"
   ]
  },
  {
   "cell_type": "code",
   "execution_count": 7,
   "id": "22208e84",
   "metadata": {},
   "outputs": [
    {
     "data": {
      "text/latex": [
       "$\\displaystyle \\left(-3 \\, t^{2} \\sin\\left(t^{3}\\right),\\,3 \\, t^{2} \\cos\\left(t^{3}\\right),\\,3 \\, t^{2}\\right)$"
      ],
      "text/plain": [
       "<IPython.core.display.Math object>"
      ]
     },
     "metadata": {},
     "output_type": "display_data"
    }
   ],
   "source": [
    "disp(v(t))"
   ]
  },
  {
   "cell_type": "markdown",
   "id": "415a28a2",
   "metadata": {},
   "source": [
    "Знайдемо величину та напрямок швидкості"
   ]
  },
  {
   "cell_type": "code",
   "execution_count": 8,
   "id": "7a57e750",
   "metadata": {},
   "outputs": [
    {
     "data": {
      "text/latex": [
       "$\\displaystyle 3 \\, \\sqrt{t^{4} \\cos\\left(t^{3}\\right)^{2} + t^{4} \\sin\\left(t^{3}\\right)^{2} + t^{4}}$"
      ],
      "text/plain": [
       "<IPython.core.display.Math object>"
      ]
     },
     "metadata": {},
     "output_type": "display_data"
    }
   ],
   "source": [
    "disp(v(t).norm())"
   ]
  },
  {
   "cell_type": "code",
   "execution_count": 9,
   "id": "114e0c43",
   "metadata": {},
   "outputs": [
    {
     "data": {
      "text/latex": [
       "$\\displaystyle 3 \\, \\sqrt{\\cos\\left(t^{3}\\right)^{2} + \\sin\\left(t^{3}\\right)^{2} + 1} t^{2}$"
      ],
      "text/plain": [
       "<IPython.core.display.Math object>"
      ]
     },
     "metadata": {},
     "output_type": "display_data"
    }
   ],
   "source": [
    "disp(v(t).norm().factor())"
   ]
  },
  {
   "cell_type": "code",
   "execution_count": 10,
   "id": "ed4bf5ca",
   "metadata": {},
   "outputs": [
    {
     "data": {
      "text/latex": [
       "$\\displaystyle 3 \\, \\sqrt{2} t^{2}$"
      ],
      "text/plain": [
       "<IPython.core.display.Math object>"
      ]
     },
     "metadata": {},
     "output_type": "display_data"
    }
   ],
   "source": [
    "# величина швидкості\n",
    "V = lambda t : v(t).norm().factor().trig_simplify()\n",
    "disp(V(t))"
   ]
  },
  {
   "cell_type": "code",
   "execution_count": 11,
   "id": "fb05112e",
   "metadata": {},
   "outputs": [],
   "source": [
    "# напрямок швидкості, вона ж напрямок дотичної\n",
    "tau = lambda t : v(t) / V(t)"
   ]
  },
  {
   "cell_type": "code",
   "execution_count": 12,
   "id": "48d02049",
   "metadata": {},
   "outputs": [
    {
     "data": {
      "text/latex": [
       "$\\displaystyle \\left(-\\frac{1}{2} \\, \\sqrt{2} \\sin\\left(t^{3}\\right),\\,\\frac{1}{2} \\, \\sqrt{2} \\cos\\left(t^{3}\\right),\\,\\frac{1}{2} \\, \\sqrt{2}\\right)$"
      ],
      "text/plain": [
       "<IPython.core.display.Math object>"
      ]
     },
     "metadata": {},
     "output_type": "display_data"
    }
   ],
   "source": [
    "disp(tau(t))"
   ]
  },
  {
   "cell_type": "markdown",
   "id": "88655fec",
   "metadata": {},
   "source": [
    "Знайдемо величину та напрямок прискорення"
   ]
  },
  {
   "cell_type": "code",
   "execution_count": 13,
   "id": "1d0bf571",
   "metadata": {},
   "outputs": [
    {
     "data": {
      "text/latex": [
       "$\\displaystyle \\left(-9 \\, t^{4} \\cos\\left(t^{3}\\right) - 6 \\, t \\sin\\left(t^{3}\\right),\\,-9 \\, t^{4} \\sin\\left(t^{3}\\right) + 6 \\, t \\cos\\left(t^{3}\\right),\\,6 \\, t\\right)$"
      ],
      "text/plain": [
       "<IPython.core.display.Math object>"
      ]
     },
     "metadata": {},
     "output_type": "display_data"
    }
   ],
   "source": [
    "disp(w(t))"
   ]
  },
  {
   "cell_type": "code",
   "execution_count": 14,
   "id": "1b1d412b",
   "metadata": {},
   "outputs": [
    {
     "data": {
      "text/latex": [
       "$\\displaystyle 3 \\, \\sqrt{9 \\, t^{6} + 8} t$"
      ],
      "text/plain": [
       "<IPython.core.display.Math object>"
      ]
     },
     "metadata": {},
     "output_type": "display_data"
    }
   ],
   "source": [
    "# величина прискорення\n",
    "W = lambda t : w(t).norm().factor().trig_simplify()\n",
    "disp(W(t))"
   ]
  },
  {
   "cell_type": "code",
   "execution_count": 15,
   "id": "a94f5eb2",
   "metadata": {},
   "outputs": [],
   "source": [
    "# напрямок прискорення\n",
    "e_w = lambda t : w(t) / W(t)"
   ]
  },
  {
   "cell_type": "code",
   "execution_count": 16,
   "id": "47e77507",
   "metadata": {},
   "outputs": [
    {
     "data": {
      "text/latex": [
       "$\\displaystyle \\left(-\\frac{3 \\, t^{4} \\cos\\left(t^{3}\\right) + 2 \\, t \\sin\\left(t^{3}\\right)}{\\sqrt{9 \\, t^{6} + 8} t},\\,-\\frac{3 \\, t^{4} \\sin\\left(t^{3}\\right) - 2 \\, t \\cos\\left(t^{3}\\right)}{\\sqrt{9 \\, t^{6} + 8} t},\\,\\frac{2}{\\sqrt{9 \\, t^{6} + 8}}\\right)$"
      ],
      "text/plain": [
       "<IPython.core.display.Math object>"
      ]
     },
     "metadata": {},
     "output_type": "display_data"
    }
   ],
   "source": [
    "disp(e_w(t))"
   ]
  },
  {
   "cell_type": "markdown",
   "id": "1276132d",
   "metadata": {},
   "source": [
    "Розкладемо прискорення $\\vec{w}$ на дотичну $\\vec{w_{\\parallel}}$ $\\parallel$ $\\vec{e_v}$ і нормальну $\\vec{w_{\\perp}}$ $\\perp$ $\\vec{e_v}$ складові"
   ]
  },
  {
   "cell_type": "markdown",
   "id": "3e8b3653",
   "metadata": {},
   "source": [
    "$\\vec{w} = \\vec{w_{\\parallel}} + \\vec{w_{\\perp}} = w_{\\parallel} \\cdot \\vec{e_{\\parallel}} + w_{\\perp} \\cdot \\vec{e_{\\perp}}$"
   ]
  },
  {
   "cell_type": "markdown",
   "id": "a3e28cc2",
   "metadata": {},
   "source": [
    "$\\vec{e_{\\parallel}} = \\vec{e_{v}} = \\vec{\\tau}$"
   ]
  },
  {
   "cell_type": "code",
   "execution_count": 17,
   "id": "9ff939f7",
   "metadata": {},
   "outputs": [],
   "source": [
    "w_parallel = w(t).dot_product(tau(t))"
   ]
  },
  {
   "cell_type": "code",
   "execution_count": 18,
   "id": "2715c5dc",
   "metadata": {},
   "outputs": [
    {
     "data": {
      "text/latex": [
       "$\\displaystyle -\\frac{3}{2} \\, \\sqrt{2} {\\left(3 \\, t^{4} \\sin\\left(t^{3}\\right) - 2 \\, t \\cos\\left(t^{3}\\right)\\right)} \\cos\\left(t^{3}\\right) + \\frac{3}{2} \\, \\sqrt{2} {\\left(3 \\, t^{4} \\cos\\left(t^{3}\\right) + 2 \\, t \\sin\\left(t^{3}\\right)\\right)} \\sin\\left(t^{3}\\right) + 3 \\, \\sqrt{2} t$"
      ],
      "text/plain": [
       "<IPython.core.display.Math object>"
      ]
     },
     "metadata": {},
     "output_type": "display_data"
    }
   ],
   "source": [
    "disp(w_parallel)"
   ]
  },
  {
   "cell_type": "code",
   "execution_count": 19,
   "id": "f694c5b5",
   "metadata": {},
   "outputs": [
    {
     "data": {
      "text/latex": [
       "$\\displaystyle 6 \\, \\sqrt{2} t$"
      ],
      "text/plain": [
       "<IPython.core.display.Math object>"
      ]
     },
     "metadata": {},
     "output_type": "display_data"
    }
   ],
   "source": [
    "w_parallel = w_parallel.trig_simplify()\n",
    "disp(w_parallel)"
   ]
  },
  {
   "cell_type": "code",
   "execution_count": 20,
   "id": "177e9013",
   "metadata": {},
   "outputs": [
    {
     "data": {
      "text/latex": [
       "$\\displaystyle \\left(-6 \\, t \\sin\\left(t^{3}\\right),\\,6 \\, t \\cos\\left(t^{3}\\right),\\,6 \\, t\\right)$"
      ],
      "text/plain": [
       "<IPython.core.display.Math object>"
      ]
     },
     "metadata": {},
     "output_type": "display_data"
    }
   ],
   "source": [
    "disp(w_parallel * tau(t))"
   ]
  },
  {
   "cell_type": "markdown",
   "id": "d5893613",
   "metadata": {},
   "source": [
    "$\\vec{w_{\\perp}} = \\vec{w} - \\vec{w_{\\parallel}}$"
   ]
  },
  {
   "cell_type": "code",
   "execution_count": 21,
   "id": "2c8c708f",
   "metadata": {},
   "outputs": [],
   "source": [
    "w_perp = lambda t : w(t) - w_parallel * tau(t)"
   ]
  },
  {
   "cell_type": "code",
   "execution_count": 22,
   "id": "06b507fa",
   "metadata": {},
   "outputs": [
    {
     "data": {
      "text/latex": [
       "$\\displaystyle \\left(-9 \\, t^{4} \\cos\\left(t^{3}\\right),\\,-9 \\, t^{4} \\sin\\left(t^{3}\\right),\\,0\\right)$"
      ],
      "text/plain": [
       "<IPython.core.display.Math object>"
      ]
     },
     "metadata": {},
     "output_type": "display_data"
    }
   ],
   "source": [
    "disp(w_perp(t))"
   ]
  },
  {
   "cell_type": "code",
   "execution_count": 23,
   "id": "3d2d6a75",
   "metadata": {},
   "outputs": [
    {
     "data": {
      "text/latex": [
       "$\\displaystyle 9 \\, \\sqrt{t^{8} \\cos\\left(t^{3}\\right)^{2} + t^{8} \\sin\\left(t^{3}\\right)^{2}}$"
      ],
      "text/plain": [
       "<IPython.core.display.Math object>"
      ]
     },
     "metadata": {},
     "output_type": "display_data"
    }
   ],
   "source": [
    "disp(w_perp(t).norm())"
   ]
  },
  {
   "cell_type": "code",
   "execution_count": 24,
   "id": "cbc126b1",
   "metadata": {},
   "outputs": [
    {
     "data": {
      "text/latex": [
       "$\\displaystyle 9 \\, t^{4}$"
      ],
      "text/plain": [
       "<IPython.core.display.Math object>"
      ]
     },
     "metadata": {},
     "output_type": "display_data"
    }
   ],
   "source": [
    "disp(w_perp(t).norm().trig_simplify())"
   ]
  },
  {
   "cell_type": "markdown",
   "id": "b9ad1276",
   "metadata": {},
   "source": [
    "$\\vec{e_{\\perp}} = \\frac {\\vec{w_{\\perp}}}{w_{\\perp}}$"
   ]
  },
  {
   "cell_type": "code",
   "execution_count": 25,
   "id": "9353064a",
   "metadata": {},
   "outputs": [],
   "source": [
    "e_w_perp = lambda t : w_perp(t) / w_perp(t).norm().trig_simplify()"
   ]
  },
  {
   "cell_type": "code",
   "execution_count": 26,
   "id": "4239a045",
   "metadata": {},
   "outputs": [
    {
     "data": {
      "text/latex": [
       "$\\displaystyle \\left(-\\cos\\left(t^{3}\\right),\\,-\\sin\\left(t^{3}\\right),\\,0\\right)$"
      ],
      "text/plain": [
       "<IPython.core.display.Math object>"
      ]
     },
     "metadata": {},
     "output_type": "display_data"
    }
   ],
   "source": [
    "disp(e_w_perp(t))"
   ]
  },
  {
   "cell_type": "markdown",
   "id": "c0d5c9d1",
   "metadata": {},
   "source": [
    "Фізичний зміст: похідна першого порядку показує швидкість $\\vec{v}$ змінення положення\n",
    "точки на кривій при зміненні параметра (часу) $t$ , похідна другого порядку – прискорення $\\vec{w}$."
   ]
  },
  {
   "cell_type": "markdown",
   "id": "23c34739",
   "metadata": {},
   "source": [
    "Дотичною до кривої $L$ в точці $M(\\vec{r}(t_0))$ називають граничне положення січної, що проходить через точку $M(\\vec{r}(t_0))$ і сусідню точку  $N(\\vec{r}(t_0+\\Delta t))$ коли\n",
    "$N \\rightarrow M$, тобто $\\Delta t \\rightarrow 0$. Напрямок дотичної в точці $t = t_0$ збігається з напрямком вектора $\\vec{r'}\\left(t\\right)$, тобто з вектором швидкості точки, що рухається вздовж кривої."
   ]
  },
  {
   "cell_type": "markdown",
   "id": "73d0da23",
   "metadata": {},
   "source": [
    "Параметричне рівняння дотичної:"
   ]
  },
  {
   "cell_type": "code",
   "execution_count": 27,
   "id": "a7f690e0",
   "metadata": {},
   "outputs": [
    {
     "data": {
      "text/latex": [
       "$\\displaystyle x = -3 \\, {\\left(t - t_{0}\\right)} t^{2} \\sin\\left(t^{3}\\right) + \\cos\\left(t_{0}^{3}\\right)$"
      ],
      "text/plain": [
       "<IPython.core.display.Math object>"
      ]
     },
     "metadata": {},
     "output_type": "display_data"
    },
    {
     "data": {
      "text/latex": [
       "$\\displaystyle y = 3 \\, {\\left(t - t_{0}\\right)} t^{2} \\cos\\left(t^{3}\\right) + \\sin\\left(t_{0}^{3}\\right)$"
      ],
      "text/plain": [
       "<IPython.core.display.Math object>"
      ]
     },
     "metadata": {},
     "output_type": "display_data"
    },
    {
     "data": {
      "text/latex": [
       "$\\displaystyle z = 3 \\, {\\left(t - t_{0}\\right)} t^{2} + t_{0}^{3}$"
      ],
      "text/plain": [
       "<IPython.core.display.Math object>"
      ]
     },
     "metadata": {},
     "output_type": "display_data"
    }
   ],
   "source": [
    "for i in range(3):\n",
    "    disp(r[i] == (R(t_0) + v(t)*(t-t_0))[i])"
   ]
  },
  {
   "cell_type": "markdown",
   "id": "73f3ee89",
   "metadata": {},
   "source": [
    "Канонічне рівняння дотичної:"
   ]
  },
  {
   "cell_type": "code",
   "execution_count": 28,
   "id": "c5f5665b",
   "metadata": {},
   "outputs": [
    {
     "data": {
      "text/latex": [
       "$\\displaystyle -\\frac{x - \\cos\\left(t_{0}^{3}\\right)}{3 \\, t_{0}^{2} \\sin\\left(t_{0}^{3}\\right)} = \\frac{y - \\sin\\left(t_{0}^{3}\\right)}{3 \\, t_{0}^{2} \\cos\\left(t_{0}^{3}\\right)} = -\\frac{t_{0}^{3} - z}{3 \\, t_{0}^{2}}$"
      ],
      "text/plain": [
       "<IPython.core.display.Math object>"
      ]
     },
     "metadata": {},
     "output_type": "display_data"
    }
   ],
   "source": [
    "displ(\\\n",
    "latex ((r-R(t_0))[0]/v(t_0)[0]) + \"=\" + \\\n",
    "latex ((r-R(t_0))[1]/v(t_0)[1]) + \"=\" + \\\n",
    "latex ((r-R(t_0))[2]/v(t_0)[2]) )"
   ]
  },
  {
   "cell_type": "markdown",
   "id": "191d40e4",
   "metadata": {},
   "source": [
    "Площина, що проходить через точку M ортогонально до дотичної, називається нормальною площиною до кривої."
   ]
  },
  {
   "cell_type": "markdown",
   "id": "7738f440",
   "metadata": {},
   "source": [
    "Рівняння нормальної площини:"
   ]
  },
  {
   "cell_type": "code",
   "execution_count": 29,
   "id": "260d3797",
   "metadata": {},
   "outputs": [
    {
     "data": {
      "text/latex": [
       "$\\displaystyle 3 \\, t_{0}^{2} {\\left(y - \\sin\\left(t_{0}^{3}\\right)\\right)} \\cos\\left(t_{0}^{3}\\right) - 3 \\, t_{0}^{2} {\\left(x - \\cos\\left(t_{0}^{3}\\right)\\right)} \\sin\\left(t_{0}^{3}\\right) - 3 \\, {\\left(t_{0}^{3} - z\\right)} t_{0}^{2} = 0$"
      ],
      "text/plain": [
       "<IPython.core.display.Math object>"
      ]
     },
     "metadata": {},
     "output_type": "display_data"
    }
   ],
   "source": [
    "disp((r-R(t_0)).dot_product(v(t_0)) == 0)"
   ]
  },
  {
   "cell_type": "markdown",
   "id": "de9e0f41",
   "metadata": {},
   "source": [
    "Головною нормаллю $\\vec{\\nu}$ просторової кривої в даній точці називається та нормаль, яка лежить у стичній площині. Бінормаллю $\\vec{\\beta}$ називається та нормаль, яка перпендикулярна стичній площини."
   ]
  },
  {
   "cell_type": "markdown",
   "id": "01560278",
   "metadata": {},
   "source": [
    "З означення бінормалі випливає, що напрямок $\\vec{\\beta}$ визначається вектором"
   ]
  },
  {
   "cell_type": "code",
   "execution_count": 30,
   "id": "a39d7c36",
   "metadata": {},
   "outputs": [],
   "source": [
    "binormal = lambda t : v(t).cross_product(w(t))"
   ]
  },
  {
   "cell_type": "code",
   "execution_count": 31,
   "id": "b1ecbeaa",
   "metadata": {},
   "outputs": [
    {
     "data": {
      "text/latex": [
       "$\\displaystyle 27 \\, t^{6} \\sin\\left(t^{3}\\right)$"
      ],
      "text/plain": [
       "<IPython.core.display.Math object>"
      ]
     },
     "metadata": {},
     "output_type": "display_data"
    },
    {
     "data": {
      "text/latex": [
       "$\\displaystyle -27 \\, t^{6} \\cos\\left(t^{3}\\right)$"
      ],
      "text/plain": [
       "<IPython.core.display.Math object>"
      ]
     },
     "metadata": {},
     "output_type": "display_data"
    },
    {
     "data": {
      "text/latex": [
       "$\\displaystyle 27 \\, t^{6}$"
      ],
      "text/plain": [
       "<IPython.core.display.Math object>"
      ]
     },
     "metadata": {},
     "output_type": "display_data"
    }
   ],
   "source": [
    "disp(binormal(t)[0].trig_simplify())\n",
    "disp(binormal(t)[1].trig_simplify())\n",
    "disp(binormal(t)[2].trig_simplify())"
   ]
  },
  {
   "cell_type": "code",
   "execution_count": 32,
   "id": "f1079c6a",
   "metadata": {},
   "outputs": [],
   "source": [
    "beta = lambda t : binormal(t) / binormal(t).norm().factor().full_simplify()"
   ]
  },
  {
   "cell_type": "code",
   "execution_count": 33,
   "id": "ceee8fd3",
   "metadata": {},
   "outputs": [
    {
     "data": {
      "text/latex": [
       "$\\displaystyle \\frac{1}{2} \\, \\sqrt{2} \\sin\\left(t^{3}\\right)$"
      ],
      "text/plain": [
       "<IPython.core.display.Math object>"
      ]
     },
     "metadata": {},
     "output_type": "display_data"
    },
    {
     "data": {
      "text/latex": [
       "$\\displaystyle -\\frac{1}{2} \\, \\sqrt{2} \\cos\\left(t^{3}\\right)$"
      ],
      "text/plain": [
       "<IPython.core.display.Math object>"
      ]
     },
     "metadata": {},
     "output_type": "display_data"
    },
    {
     "data": {
      "text/latex": [
       "$\\displaystyle \\frac{1}{2} \\, \\sqrt{2}$"
      ],
      "text/plain": [
       "<IPython.core.display.Math object>"
      ]
     },
     "metadata": {},
     "output_type": "display_data"
    }
   ],
   "source": [
    "disp(beta(t)[0].trig_simplify())\n",
    "disp(beta(t)[1].trig_simplify())\n",
    "disp(beta(t)[2].trig_simplify())"
   ]
  },
  {
   "cell_type": "markdown",
   "id": "d8a0e6d4",
   "metadata": {},
   "source": [
    "Рівняння стичної площини"
   ]
  },
  {
   "cell_type": "code",
   "execution_count": 34,
   "id": "677d7a99",
   "metadata": {},
   "outputs": [
    {
     "data": {
      "text/latex": [
       "$\\displaystyle -\\frac{\\sqrt{2} {\\left(t_{0}^{9} + t_{0}^{6} y \\cos\\left(t_{0}^{3}\\right) - t_{0}^{6} x \\sin\\left(t_{0}^{3}\\right) - t_{0}^{6} z\\right)}}{2 \\, \\sqrt{t_{0}^{12}}} = 0$"
      ],
      "text/plain": [
       "<IPython.core.display.Math object>"
      ]
     },
     "metadata": {},
     "output_type": "display_data"
    }
   ],
   "source": [
    "disp(((r-R(t_0)).dot_product(beta(t_0)) == 0).trig_simplify())"
   ]
  },
  {
   "cell_type": "markdown",
   "id": "7818e6e0",
   "metadata": {},
   "source": [
    "В свою чергу напрямок головної нормалі $\\vec{v}$ визначається вектором"
   ]
  },
  {
   "cell_type": "code",
   "execution_count": 35,
   "id": "75680e2c",
   "metadata": {},
   "outputs": [],
   "source": [
    "main_normal = lambda t : binormal(t).cross_product(v(t))"
   ]
  },
  {
   "cell_type": "code",
   "execution_count": 36,
   "id": "28ed4b25",
   "metadata": {},
   "outputs": [
    {
     "data": {
      "text/latex": [
       "$\\displaystyle -162 \\, t^{8} \\cos\\left(t^{3}\\right)$"
      ],
      "text/plain": [
       "<IPython.core.display.Math object>"
      ]
     },
     "metadata": {},
     "output_type": "display_data"
    },
    {
     "data": {
      "text/latex": [
       "$\\displaystyle -162 \\, t^{8} \\sin\\left(t^{3}\\right)$"
      ],
      "text/plain": [
       "<IPython.core.display.Math object>"
      ]
     },
     "metadata": {},
     "output_type": "display_data"
    },
    {
     "data": {
      "text/latex": [
       "$\\displaystyle 0$"
      ],
      "text/plain": [
       "<IPython.core.display.Math object>"
      ]
     },
     "metadata": {},
     "output_type": "display_data"
    }
   ],
   "source": [
    "disp(main_normal(t)[0].trig_simplify())\n",
    "disp(main_normal(t)[1].trig_simplify())\n",
    "disp(main_normal(t)[2].trig_simplify())"
   ]
  },
  {
   "cell_type": "code",
   "execution_count": 37,
   "id": "bab6b41c",
   "metadata": {},
   "outputs": [],
   "source": [
    "nu = lambda t : main_normal(t)/main_normal(t).norm().factor().full_simplify()"
   ]
  },
  {
   "cell_type": "code",
   "execution_count": 38,
   "id": "52692936",
   "metadata": {},
   "outputs": [
    {
     "data": {
      "text/latex": [
       "$\\displaystyle -\\cos\\left(t^{3}\\right)$"
      ],
      "text/plain": [
       "<IPython.core.display.Math object>"
      ]
     },
     "metadata": {},
     "output_type": "display_data"
    },
    {
     "data": {
      "text/latex": [
       "$\\displaystyle -\\sin\\left(t^{3}\\right)$"
      ],
      "text/plain": [
       "<IPython.core.display.Math object>"
      ]
     },
     "metadata": {},
     "output_type": "display_data"
    },
    {
     "data": {
      "text/latex": [
       "$\\displaystyle 0$"
      ],
      "text/plain": [
       "<IPython.core.display.Math object>"
      ]
     },
     "metadata": {},
     "output_type": "display_data"
    }
   ],
   "source": [
    "disp(nu(t)[0].trig_simplify())\n",
    "disp(nu(t)[1].trig_simplify())\n",
    "disp(nu(t)[2].trig_simplify())"
   ]
  },
  {
   "cell_type": "code",
   "execution_count": null,
   "id": "8de619a5",
   "metadata": {},
   "outputs": [],
   "source": []
  }
 ],
 "metadata": {
  "kernelspec": {
   "display_name": "SageMath 9.6.beta7",
   "language": "sage",
   "name": "sagemath"
  },
  "language_info": {
   "codemirror_mode": {
    "name": "ipython",
    "version": 3
   },
   "file_extension": ".py",
   "mimetype": "text/x-python",
   "name": "python",
   "nbconvert_exporter": "python",
   "pygments_lexer": "ipython3",
   "version": "3.10.3"
  }
 },
 "nbformat": 4,
 "nbformat_minor": 5
}

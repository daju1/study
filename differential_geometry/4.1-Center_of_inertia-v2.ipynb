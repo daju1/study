{
 "cells": [
  {
   "cell_type": "markdown",
   "id": "24617506",
   "metadata": {},
   "source": [
    "4. ЦЕНТР ІНЕРЦІЇ"
   ]
  },
  {
   "cell_type": "markdown",
   "id": "4ba9ec61",
   "metadata": {},
   "source": [
    "4.1. Знайти центр інерції тіла V з об'ємною густиною речовини ρ"
   ]
  },
  {
   "cell_type": "raw",
   "id": "59f30980",
   "metadata": {},
   "source": [
    "x,y > 0\n",
    "\n",
    "z <= c\n",
    "\n",
    "z >= a*x+b*y\n",
    "\n",
    "a,b,c > 0"
   ]
  },
  {
   "cell_type": "markdown",
   "id": "3e09a464",
   "metadata": {},
   "source": [
    "Знайдемо масу тіла\n",
    "\n",
    "$m = \\iiint\\limits_{V}^{} \\rho (x, y, z)\\,dV$"
   ]
  },
  {
   "cell_type": "code",
   "execution_count": 15,
   "id": "658b5a02",
   "metadata": {},
   "outputs": [],
   "source": [
    "from IPython.display import display, Math, Latex\n",
    "\n",
    "def disp(ex):\n",
    "    display(Math(latex(ex)))"
   ]
  },
  {
   "cell_type": "code",
   "execution_count": 16,
   "id": "bdea728b",
   "metadata": {},
   "outputs": [],
   "source": [
    "a,b,c = var(\"a,b,c\")\n",
    "x,y,z = var(\"x,y,z\")\n",
    "assume(a, \"real\")\n",
    "assume(b, \"real\")\n",
    "assume(c, \"real\")\n",
    "\n",
    "assume(a>0)\n",
    "assume(b>0)\n",
    "assume(c>0)\n",
    "\n",
    "Rho = function(\"rho\")(x,y,z)\n",
    "M = var(\"m\")\n",
    "rho = var(\"rho\")"
   ]
  },
  {
   "cell_type": "code",
   "execution_count": 17,
   "id": "3bb93716",
   "metadata": {},
   "outputs": [],
   "source": [
    "zmin_plate = a*x + b*y - z == 0"
   ]
  },
  {
   "cell_type": "code",
   "execution_count": 18,
   "id": "f9d106f4",
   "metadata": {},
   "outputs": [
    {
     "data": {
      "text/latex": [
       "$\\displaystyle -\\frac{a x - c}{b}$"
      ],
      "text/plain": [
       "<IPython.core.display.Math object>"
      ]
     },
     "metadata": {},
     "output_type": "display_data"
    }
   ],
   "source": [
    "y_max = solve(zmin_plate.subs(z == c),y)[0].rhs()\n",
    "disp(y_max)"
   ]
  },
  {
   "cell_type": "code",
   "execution_count": 19,
   "id": "dae0178a",
   "metadata": {},
   "outputs": [
    {
     "data": {
      "text/latex": [
       "$\\displaystyle \\frac{c}{a}$"
      ],
      "text/plain": [
       "<IPython.core.display.Math object>"
      ]
     },
     "metadata": {},
     "output_type": "display_data"
    }
   ],
   "source": [
    "x_max = solve(zmin_plate.subs(z == c, y == 0),x)[0].rhs()\n",
    "disp(x_max)"
   ]
  },
  {
   "cell_type": "code",
   "execution_count": 20,
   "id": "0413ccd9",
   "metadata": {},
   "outputs": [],
   "source": [
    "m = Rho \\\n",
    "   .integrate(z, a*x+b*y, c) \\\n",
    "   .integrate(y, 0, y_max) \\\n",
    "   .integrate(x, 0, x_max)"
   ]
  },
  {
   "cell_type": "code",
   "execution_count": 21,
   "id": "ebfafcf2",
   "metadata": {},
   "outputs": [
    {
     "data": {
      "text/latex": [
       "$\\displaystyle \\int_{0}^{\\frac{c}{a}} \\int_{0}^{-\\frac{a x - c}{b}} \\int_{a x + b y}^{c} \\rho\\left(x, y, z\\right)\\,{d z}\\,{d y}\\,{d x}$"
      ],
      "text/plain": [
       "<IPython.core.display.Math object>"
      ]
     },
     "metadata": {},
     "output_type": "display_data"
    }
   ],
   "source": [
    "disp(m)"
   ]
  },
  {
   "cell_type": "code",
   "execution_count": 22,
   "id": "c5d133f8",
   "metadata": {},
   "outputs": [],
   "source": [
    "m = rho \\\n",
    "   .integrate(z, a*x+b*y, c) \\\n",
    "   .integrate(y, 0, y_max) \\\n",
    "   .integrate(x, 0, x_max)"
   ]
  },
  {
   "cell_type": "code",
   "execution_count": 23,
   "id": "db5ffd09",
   "metadata": {},
   "outputs": [
    {
     "data": {
      "text/latex": [
       "$\\displaystyle \\frac{c^{3} \\rho}{6 \\, a b}$"
      ],
      "text/plain": [
       "<IPython.core.display.Math object>"
      ]
     },
     "metadata": {},
     "output_type": "display_data"
    }
   ],
   "source": [
    "disp(m)"
   ]
  },
  {
   "cell_type": "markdown",
   "id": "1f6f0003",
   "metadata": {},
   "source": [
    "Знайдемо координати центру мас. Спочатку $z_c$ (майже повторюючи знаходження $m$)"
   ]
  },
  {
   "cell_type": "code",
   "execution_count": 24,
   "id": "933dffb9",
   "metadata": {},
   "outputs": [
    {
     "data": {
      "text/latex": [
       "$\\displaystyle \\frac{\\int_{0}^{\\frac{c}{a}} \\int_{0}^{-\\frac{a x - c}{b}} \\int_{a x + b y}^{c} z \\rho\\left(x, y, z\\right)\\,{d z}\\,{d y}\\,{d x}}{m}$"
      ],
      "text/plain": [
       "<IPython.core.display.Math object>"
      ]
     },
     "metadata": {},
     "output_type": "display_data"
    }
   ],
   "source": [
    "z_c = 1/M*(Rho*z) \\\n",
    "   .integrate(z, a*x+b*y, c) \\\n",
    "   .integrate(y, 0, y_max) \\\n",
    "   .integrate(x, 0, x_max)\n",
    "disp(z_c)"
   ]
  },
  {
   "cell_type": "code",
   "execution_count": 25,
   "id": "6ab56747",
   "metadata": {},
   "outputs": [
    {
     "data": {
      "text/latex": [
       "$\\displaystyle \\frac{3}{4} \\, c$"
      ],
      "text/plain": [
       "<IPython.core.display.Math object>"
      ]
     },
     "metadata": {},
     "output_type": "display_data"
    }
   ],
   "source": [
    "z_c = 1/m*(rho*z) \\\n",
    "   .integrate(z, a*x+b*y, c) \\\n",
    "   .integrate(y, 0, y_max) \\\n",
    "   .integrate(x, 0, x_max)\n",
    "disp(z_c)"
   ]
  },
  {
   "cell_type": "markdown",
   "id": "b868a0a2",
   "metadata": {},
   "source": [
    "Знайдемо $y_c$"
   ]
  },
  {
   "cell_type": "raw",
   "id": "92654240",
   "metadata": {},
   "source": [
    "y_c = 1/M*(Rho*y) \\\n",
    "   .integrate(z, a*x+b*y, c) \\\n",
    "   .integrate(y, 0, y_max) \\\n",
    "   .integrate(x, 0, x_max)\n",
    "disp(y_c)"
   ]
  },
  {
   "cell_type": "code",
   "execution_count": 26,
   "id": "4a25b288",
   "metadata": {},
   "outputs": [
    {
     "data": {
      "text/latex": [
       "$\\displaystyle \\frac{c}{4 \\, b}$"
      ],
      "text/plain": [
       "<IPython.core.display.Math object>"
      ]
     },
     "metadata": {},
     "output_type": "display_data"
    }
   ],
   "source": [
    "y_c = 1/m*(rho*y) \\\n",
    "   .integrate(z, a*x+b*y, c) \\\n",
    "   .integrate(y, 0, y_max) \\\n",
    "   .integrate(x, 0, x_max)\n",
    "disp(y_c)"
   ]
  },
  {
   "cell_type": "markdown",
   "id": "145ff4a9",
   "metadata": {},
   "source": [
    "Знайдемо $x_c$"
   ]
  },
  {
   "cell_type": "raw",
   "id": "50f3d427",
   "metadata": {},
   "source": [
    "x_c = 1/M*(Rho*x) \\\n",
    "   .integrate(z, a*x+b*y, c) \\\n",
    "   .integrate(y, 0, y_max) \\\n",
    "   .integrate(x, 0, x_max)\n",
    "disp(x_c)"
   ]
  },
  {
   "cell_type": "code",
   "execution_count": 27,
   "id": "5983f1fe",
   "metadata": {},
   "outputs": [
    {
     "data": {
      "text/latex": [
       "$\\displaystyle \\frac{c}{4 \\, a}$"
      ],
      "text/plain": [
       "<IPython.core.display.Math object>"
      ]
     },
     "metadata": {},
     "output_type": "display_data"
    }
   ],
   "source": [
    "x_c = 1/m*(rho*x) \\\n",
    "   .integrate(z, a*x+b*y, c) \\\n",
    "   .integrate(y, 0, y_max) \\\n",
    "   .integrate(x, 0, x_max)\n",
    "disp(x_c)"
   ]
  },
  {
   "cell_type": "code",
   "execution_count": 28,
   "id": "c62c1565",
   "metadata": {},
   "outputs": [
    {
     "data": {
      "text/latex": [
       "$\\displaystyle \\left(\\frac{c}{4 \\, a}, \\frac{c}{4 \\, b}, \\frac{3}{4} \\, c\\right)$"
      ],
      "text/plain": [
       "<IPython.core.display.Math object>"
      ]
     },
     "metadata": {},
     "output_type": "display_data"
    }
   ],
   "source": [
    "disp((x_c, y_c, z_c))"
   ]
  },
  {
   "cell_type": "code",
   "execution_count": null,
   "id": "6867da40",
   "metadata": {},
   "outputs": [],
   "source": []
  }
 ],
 "metadata": {
  "kernelspec": {
   "display_name": "SageMath 9.6.beta7",
   "language": "sage",
   "name": "sagemath"
  },
  "language_info": {
   "codemirror_mode": {
    "name": "ipython",
    "version": 3
   },
   "file_extension": ".py",
   "mimetype": "text/x-python",
   "name": "python",
   "nbconvert_exporter": "python",
   "pygments_lexer": "ipython3",
   "version": "3.10.3"
  }
 },
 "nbformat": 4,
 "nbformat_minor": 5
}

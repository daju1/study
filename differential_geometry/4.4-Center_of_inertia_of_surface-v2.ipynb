{
 "cells": [
  {
   "cell_type": "markdown",
   "id": "d268572c",
   "metadata": {},
   "source": [
    "4.4. Знайти центр інерції поверхні S з поверхневою густиною ρ ( r )"
   ]
  },
  {
   "cell_type": "markdown",
   "id": "c687583e",
   "metadata": {},
   "source": [
    "$z = \\sqrt{x^2+y^2}$\n",
    "\n",
    "$x^2+y^2 <= a^2$\n",
    "\n",
    "$\\rho = (x^2+y^2) \\cdot z^2$"
   ]
  },
  {
   "cell_type": "markdown",
   "id": "3eb112ab",
   "metadata": {},
   "source": [
    "Знайдемо масу поверхні\n",
    "\n",
    "$m = \\iint\\limits_{S}^{} \\rho (x, y)\\,dS = \\iint\\limits_{D}^{} \\rho (x, y){\\sqrt{1+{z'_x}^2+{z'_y}^2}}\\,dx\\,dy$"
   ]
  },
  {
   "cell_type": "markdown",
   "id": "8342d0a4",
   "metadata": {},
   "source": [
    "Враховуючи вид підінтегральної функції f ( x 2 + y 2 ) та кругову форму області D , перейдемо до циліндричних координат"
   ]
  },
  {
   "cell_type": "markdown",
   "id": "04409c60",
   "metadata": {},
   "source": [
    "$r <= a$\n",
    "\n",
    "$\\rho = (r^2)  \\cdot z^2$\n",
    "\n",
    "$z = r$\n",
    "\n",
    "$\\rho = (r^2)  \\cdot r^2$"
   ]
  },
  {
   "cell_type": "code",
   "execution_count": 15,
   "id": "44352467",
   "metadata": {},
   "outputs": [],
   "source": [
    "from IPython.display import display, Math, Latex\n",
    "\n",
    "def disp(ex):\n",
    "    display(Math(latex(ex)))"
   ]
  },
  {
   "cell_type": "code",
   "execution_count": 24,
   "id": "aa2c58d8",
   "metadata": {},
   "outputs": [],
   "source": [
    "a = var(\"a\")\n",
    "x,y,z = var(\"x,y,z\")\n",
    "r,phi,z = var(\"r,phi,z\")\n",
    "assume(a, \"real\")\n",
    "assume(a>0)\n",
    "\n",
    "Rho = function(\"rho\")(r,phi)\n",
    "M = var(\"m\")\n",
    "rho = (r^2)*r^2\n",
    "Z = sqrt(x^2+y^2)"
   ]
  },
  {
   "cell_type": "code",
   "execution_count": 25,
   "id": "0a819fc6",
   "metadata": {},
   "outputs": [
    {
     "data": {
      "text/latex": [
       "$\\displaystyle \\sqrt{\\frac{x^{2}}{x^{2} + y^{2}} + \\frac{y^{2}}{x^{2} + y^{2}} + 1}$"
      ],
      "text/plain": [
       "<IPython.core.display.Math object>"
      ]
     },
     "metadata": {},
     "output_type": "display_data"
    }
   ],
   "source": [
    "J = sqrt(1 + Z.diff(x)^2 + Z.diff(y)^2)\n",
    "disp(J)"
   ]
  },
  {
   "cell_type": "code",
   "execution_count": 26,
   "id": "fc4e193e",
   "metadata": {},
   "outputs": [
    {
     "data": {
      "text/latex": [
       "$\\displaystyle \\sqrt{2}$"
      ],
      "text/plain": [
       "<IPython.core.display.Math object>"
      ]
     },
     "metadata": {},
     "output_type": "display_data"
    }
   ],
   "source": [
    "J = J.full_simplify()\n",
    "disp(J)"
   ]
  },
  {
   "cell_type": "code",
   "execution_count": 27,
   "id": "becdcef0",
   "metadata": {},
   "outputs": [],
   "source": [
    "r_max = a"
   ]
  },
  {
   "cell_type": "code",
   "execution_count": 28,
   "id": "b305470f",
   "metadata": {},
   "outputs": [],
   "source": [
    "m = (Rho * J * r ) \\\n",
    "   .integrate(r, 0, r_max) \\\n",
    "   .integrate(phi, 0, 2*pi)"
   ]
  },
  {
   "cell_type": "code",
   "execution_count": 29,
   "id": "d365659c",
   "metadata": {},
   "outputs": [
    {
     "data": {
      "text/latex": [
       "$\\displaystyle \\sqrt{2} \\int_{0}^{2 \\, \\pi} \\int_{0}^{a} r \\rho\\left(r, \\phi\\right)\\,{d r}\\,{d \\phi}$"
      ],
      "text/plain": [
       "<IPython.core.display.Math object>"
      ]
     },
     "metadata": {},
     "output_type": "display_data"
    }
   ],
   "source": [
    "disp(m)"
   ]
  },
  {
   "cell_type": "code",
   "execution_count": 30,
   "id": "d961f4c0",
   "metadata": {},
   "outputs": [],
   "source": [
    "m = (rho * J * r ) \\\n",
    "   .integrate(r, 0, r_max) \\\n",
    "   .integrate(phi, 0, 2*pi)"
   ]
  },
  {
   "cell_type": "code",
   "execution_count": 31,
   "id": "5bbb4b2f",
   "metadata": {},
   "outputs": [
    {
     "data": {
      "text/latex": [
       "$\\displaystyle \\frac{1}{3} \\, \\sqrt{2} \\pi a^{6}$"
      ],
      "text/plain": [
       "<IPython.core.display.Math object>"
      ]
     },
     "metadata": {},
     "output_type": "display_data"
    }
   ],
   "source": [
    "disp(m)"
   ]
  },
  {
   "cell_type": "markdown",
   "id": "630a05ab",
   "metadata": {},
   "source": [
    "Далі знайдемо координати центру мас, враховуючи симетрію тіла відносно координатних площин\n",
    "xOz , yOz та непарність підінтегральних функцій відносно змінних х, у"
   ]
  },
  {
   "cell_type": "code",
   "execution_count": 32,
   "id": "70473b3e",
   "metadata": {},
   "outputs": [
    {
     "data": {
      "text/latex": [
       "$\\displaystyle 0$"
      ],
      "text/plain": [
       "<IPython.core.display.Math object>"
      ]
     },
     "metadata": {},
     "output_type": "display_data"
    }
   ],
   "source": [
    "y_c = 0\n",
    "disp(y_c)"
   ]
  },
  {
   "cell_type": "code",
   "execution_count": 33,
   "id": "8e69e7d3",
   "metadata": {},
   "outputs": [
    {
     "data": {
      "text/latex": [
       "$\\displaystyle 0$"
      ],
      "text/plain": [
       "<IPython.core.display.Math object>"
      ]
     },
     "metadata": {},
     "output_type": "display_data"
    }
   ],
   "source": [
    "x_c = 0\n",
    "disp(x_c)"
   ]
  },
  {
   "cell_type": "code",
   "execution_count": 34,
   "id": "c983e760",
   "metadata": {},
   "outputs": [],
   "source": [
    "z = r\n",
    "z_c = (1/m) * (z * rho * J * r ) \\\n",
    "   .integrate(r, 0, r_max) \\\n",
    "   .integrate(phi, 0, 2*pi)"
   ]
  },
  {
   "cell_type": "code",
   "execution_count": 35,
   "id": "b294127f",
   "metadata": {},
   "outputs": [
    {
     "data": {
      "text/latex": [
       "$\\displaystyle \\frac{6}{7} \\, a$"
      ],
      "text/plain": [
       "<IPython.core.display.Math object>"
      ]
     },
     "metadata": {},
     "output_type": "display_data"
    }
   ],
   "source": [
    "disp(z_c)"
   ]
  },
  {
   "cell_type": "code",
   "execution_count": 36,
   "id": "4bb10e57",
   "metadata": {},
   "outputs": [
    {
     "data": {
      "text/latex": [
       "$\\displaystyle \\left(0, 0, \\frac{6}{7} \\, a\\right)$"
      ],
      "text/plain": [
       "<IPython.core.display.Math object>"
      ]
     },
     "metadata": {},
     "output_type": "display_data"
    }
   ],
   "source": [
    "disp((x_c, y_c, z_c))"
   ]
  },
  {
   "cell_type": "code",
   "execution_count": null,
   "id": "6af62dd7",
   "metadata": {},
   "outputs": [],
   "source": []
  }
 ],
 "metadata": {
  "kernelspec": {
   "display_name": "SageMath 9.6.beta7",
   "language": "sage",
   "name": "sagemath"
  },
  "language_info": {
   "codemirror_mode": {
    "name": "ipython",
    "version": 3
   },
   "file_extension": ".py",
   "mimetype": "text/x-python",
   "name": "python",
   "nbconvert_exporter": "python",
   "pygments_lexer": "ipython3",
   "version": "3.10.3"
  }
 },
 "nbformat": 4,
 "nbformat_minor": 5
}

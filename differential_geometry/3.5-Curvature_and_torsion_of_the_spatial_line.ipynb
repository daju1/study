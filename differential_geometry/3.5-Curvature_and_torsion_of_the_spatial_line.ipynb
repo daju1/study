{
 "cells": [
  {
   "cell_type": "markdown",
   "id": "43eb7310",
   "metadata": {},
   "source": [
    "3. КРИВИЗНА І КРУЧЕННЯ ПРОСТОРОВОЇ ЛІНІЇ"
   ]
  },
  {
   "cell_type": "markdown",
   "id": "183966c9",
   "metadata": {},
   "source": [
    "3.5. Знайти кручення кривої\n",
    "\n",
    "Задача є подальшим продовженням задачі 1.4. деякими результатами якої ми скористаємося.\n",
    "Покажемо, що у плоскої кривої кручення $k_{\\beta} = 0$"
   ]
  },
  {
   "cell_type": "markdown",
   "id": "86dba799",
   "metadata": {},
   "source": [
    "$\\vec{r}\\left(t\\right)=\\left(\\begin{array}{c}\n",
    "    a\\,cos\\,t + b \\\\\n",
    "    b\\,sin\\,t + a \\\\\n",
    "    b\\,cos\\,t + a\\,sin\\,t \\\\\n",
    "\\end{array}\\right)$"
   ]
  },
  {
   "cell_type": "markdown",
   "id": "49a35c3e",
   "metadata": {},
   "source": [
    "Кривизною $k_{\\tau}$ кривої в точці $М$ називається границя відношення кута повороту дотичної при переході з цієї точки в нескінченно близьку точку $M_1$ до нескінченно малої довжини дуги, укладеної між цими точками\n",
    "\n",
    "$$k_{\\tau} = \\underset{\\Delta s \\rightarrow 0}{lim}\\frac{\\varphi}{\\Delta s}$$"
   ]
  },
  {
   "cell_type": "markdown",
   "id": "e906664d",
   "metadata": {},
   "source": [
    "Кривизна кривої обчислюється за формулами:\n",
    "\n",
    "- у випадку природної параметризації $\\vec{\\rho} \\left(s\\right)$ $k_{\\tau} = \\left|\\ddot{\\vec{\\rho}}\\right|$\n",
    "- у випадку довільної параметризації $\\vec{r} \\left(t\\right)$ $k_{\\tau} = \\frac{\\left|\\left[\\vec{r}', \\vec{r}''\\right]\\right|}{\\left|\\vec{r}'\\right|^3}$"
   ]
  },
  {
   "cell_type": "markdown",
   "id": "1e8836b8",
   "metadata": {},
   "source": [
    "Крученням $k_{\\beta}$ кривої в точці М називається взята з належним знаком границя відношення кута\n",
    "$\\psi$ повороту стичної площини при переході з даної точки в нескінченно близьку до неї точку кривої до нескінченно малої довжини дуги, розташованої між цими точками\n",
    "\n",
    "$$k_{\\beta} = \\underset{\\Delta s \\rightarrow 0}{lim}\\frac{\\psi}{\\Delta s}$$"
   ]
  },
  {
   "cell_type": "markdown",
   "id": "9c7f212d",
   "metadata": {},
   "source": [
    "Кручення кривої обчислюється за формулами:\n",
    "    \n",
    "    \n",
    "- у випадку природної параметризації $\\vec{\\rho} \\left(s\\right)$ $k_{\\beta} =  \\frac{\\left|\\left(\\dot{\\vec{\\rho}},\\, \\ddot{\\vec{\\rho}},\\, \\dddot{\\vec{\\rho}}\\right)\\right|}{k_{\\tau}^2}$\n",
    "- у випадку довільної параметризації $\\vec{r} \\left(t\\right)$ $k_{\\beta} = \\frac{\\left|\\left(\\vec{r}',\\, \\vec{r}'',\\, \\vec{r}'''\\right)\\right|}{\\left|\\vec{r}'\\right|^6\\,k_{\\tau}^2}$"
   ]
  },
  {
   "cell_type": "markdown",
   "id": "a338296d",
   "metadata": {},
   "source": [
    "Задача є продовженням задач 1.2, і 2.2 деякими результатами яких ми скористаємося.\n",
    "a) Для природної параметризації було отримано (задача 2.2)"
   ]
  },
  {
   "cell_type": "code",
   "execution_count": 1,
   "id": "7509d8a6",
   "metadata": {},
   "outputs": [],
   "source": [
    "from IPython.display import display, Math, Latex\n",
    "\n",
    "def disp(ex):\n",
    "    display(Math(latex(ex)))"
   ]
  },
  {
   "cell_type": "code",
   "execution_count": 2,
   "id": "aabc388a",
   "metadata": {},
   "outputs": [],
   "source": [
    "t, s, x, y, z, t_0, l, a, b, c, x_0, y_0, z_0 = var(\"t, s, x, y, z, t_0, l, a, b, c, x_0, y_0, z_0\")\n",
    "r = vector([var(\"x\"),var(\"y\"),var(\"z\")])\n",
    "assume(t, \"real\")\n",
    "assume(t > 0)\n",
    "assume(s, \"real\")\n",
    "assume(s > 0)\n",
    "assume(a, \"real\")\n",
    "assume(b, \"real\")\n",
    "assume(c, \"real\")\n",
    "\n",
    "X = lambda t : a*cos(t)+b\n",
    "Y = lambda t : b*sin(t)+a\n",
    "Z = lambda t : b*cos(t)+a*sin(t)"
   ]
  },
  {
   "cell_type": "code",
   "execution_count": 3,
   "id": "a88b459b",
   "metadata": {},
   "outputs": [],
   "source": [
    "R = lambda t : vector([X(t),Y(t),Z(t)])\n",
    "exec(preparse(\"v = lambda t : vector(\" + str(R(t).diff(t)) + \")\"))\n",
    "exec(preparse(\"w = lambda t : vector(\" + str(R(t).diff(t,2)) + \")\"))"
   ]
  },
  {
   "cell_type": "code",
   "execution_count": 4,
   "id": "8d3bcb75",
   "metadata": {},
   "outputs": [
    {
     "data": {
      "text/latex": [
       "$\\displaystyle \\sqrt{-2 \\, a b \\cos\\left(t\\right) \\sin\\left(t\\right) + a^{2} + b^{2}}$"
      ],
      "text/plain": [
       "<IPython.core.display.Math object>"
      ]
     },
     "metadata": {},
     "output_type": "display_data"
    }
   ],
   "source": [
    "# величина швидкості\n",
    "V = lambda t : v(t).norm().factor().trig_simplify()\n",
    "disp(V(t))"
   ]
  },
  {
   "cell_type": "markdown",
   "id": "15454dbc",
   "metadata": {},
   "source": [
    "Знайдемо довжину дуги $s(t)$ (виразимо природний параметр $s$ через початковий $t$)\n",
    "\n",
    "$$s(t) = \\int_{0}^t\\left|\\vec{r}'(l)\\right|dl$$"
   ]
  },
  {
   "cell_type": "code",
   "execution_count": 5,
   "id": "fff886fb",
   "metadata": {},
   "outputs": [
    {
     "data": {
      "text/latex": [
       "$\\displaystyle \\int_{0}^{t} \\sqrt{-2 \\, a b \\cos\\left(l\\right) \\sin\\left(l\\right) + a^{2} + b^{2}}\\,{d l}$"
      ],
      "text/plain": [
       "<IPython.core.display.Math object>"
      ]
     },
     "metadata": {},
     "output_type": "display_data"
    }
   ],
   "source": [
    "S = lambda t : V(l).integrate(l, 0, t)\n",
    "disp(S(t))"
   ]
  },
  {
   "cell_type": "markdown",
   "id": "b6112da0",
   "metadata": {},
   "source": [
    "Звідси виразимо параметр $t$ через природний $s$"
   ]
  },
  {
   "cell_type": "code",
   "execution_count": 6,
   "id": "7941e2cc",
   "metadata": {},
   "outputs": [
    {
     "data": {
      "text/latex": [
       "$\\displaystyle s$"
      ],
      "text/plain": [
       "<IPython.core.display.Math object>"
      ]
     },
     "metadata": {},
     "output_type": "display_data"
    }
   ],
   "source": [
    "# ts = lambda s : solve(s == S(t), t)[0].rhs()\n",
    "exec(preparse(\"ts = lambda s : solve(s == \" + str(S(t)) + \", t)[0].rhs()\"))\n",
    "disp(ts(s))"
   ]
  },
  {
   "cell_type": "markdown",
   "id": "0e7825d6",
   "metadata": {},
   "source": [
    "Нарешті, з початкової параметризації отримаємо природну:"
   ]
  },
  {
   "cell_type": "code",
   "execution_count": 7,
   "id": "3cf924e0",
   "metadata": {},
   "outputs": [
    {
     "data": {
      "text/latex": [
       "$\\displaystyle a \\cos\\left(s\\right) + b$"
      ],
      "text/plain": [
       "<IPython.core.display.Math object>"
      ]
     },
     "metadata": {},
     "output_type": "display_data"
    },
    {
     "data": {
      "text/latex": [
       "$\\displaystyle b \\sin\\left(s\\right) + a$"
      ],
      "text/plain": [
       "<IPython.core.display.Math object>"
      ]
     },
     "metadata": {},
     "output_type": "display_data"
    },
    {
     "data": {
      "text/latex": [
       "$\\displaystyle b \\cos\\left(s\\right) + a \\sin\\left(s\\right)$"
      ],
      "text/plain": [
       "<IPython.core.display.Math object>"
      ]
     },
     "metadata": {},
     "output_type": "display_data"
    }
   ],
   "source": [
    "# rho = lambda s : R(t).subs(t==ts(s))\n",
    "exec(preparse(\"rho = lambda s : vector(\" + str(R(t).subs(t==ts(s))) + \")\" ))\n",
    "disp(rho(s)[0])\n",
    "disp(rho(s)[1])\n",
    "disp(rho(s)[2])"
   ]
  },
  {
   "cell_type": "markdown",
   "id": "b1306d81",
   "metadata": {},
   "source": [
    "Знаходимо $\\dot{\\vec{\\rho}}$"
   ]
  },
  {
   "cell_type": "code",
   "execution_count": 8,
   "id": "5dcb0273",
   "metadata": {},
   "outputs": [
    {
     "data": {
      "text/latex": [
       "$\\displaystyle -a \\sin\\left(s\\right)$"
      ],
      "text/plain": [
       "<IPython.core.display.Math object>"
      ]
     },
     "metadata": {},
     "output_type": "display_data"
    },
    {
     "data": {
      "text/latex": [
       "$\\displaystyle b \\cos\\left(s\\right)$"
      ],
      "text/plain": [
       "<IPython.core.display.Math object>"
      ]
     },
     "metadata": {},
     "output_type": "display_data"
    },
    {
     "data": {
      "text/latex": [
       "$\\displaystyle b \\cos\\left(s\\right)$"
      ],
      "text/plain": [
       "<IPython.core.display.Math object>"
      ]
     },
     "metadata": {},
     "output_type": "display_data"
    }
   ],
   "source": [
    "# dot_rho = lambda s : rho(s).diff(s)\n",
    "exec(preparse(\"dot_rho = lambda s : vector(\" + str(rho(s).diff(s)) + \")\" ))\n",
    "disp(dot_rho(s)[0])\n",
    "disp(dot_rho(s)[1])\n",
    "disp(dot_rho(s)[1])"
   ]
  },
  {
   "cell_type": "markdown",
   "id": "3040e0c2",
   "metadata": {},
   "source": [
    "Знаходимо $\\ddot{\\vec{\\rho}}$"
   ]
  },
  {
   "cell_type": "code",
   "execution_count": 9,
   "id": "e12fb973",
   "metadata": {},
   "outputs": [
    {
     "data": {
      "text/latex": [
       "$\\displaystyle -a \\cos\\left(s\\right)$"
      ],
      "text/plain": [
       "<IPython.core.display.Math object>"
      ]
     },
     "metadata": {},
     "output_type": "display_data"
    },
    {
     "data": {
      "text/latex": [
       "$\\displaystyle -b \\sin\\left(s\\right)$"
      ],
      "text/plain": [
       "<IPython.core.display.Math object>"
      ]
     },
     "metadata": {},
     "output_type": "display_data"
    },
    {
     "data": {
      "text/latex": [
       "$\\displaystyle -b \\cos\\left(s\\right) - a \\sin\\left(s\\right)$"
      ],
      "text/plain": [
       "<IPython.core.display.Math object>"
      ]
     },
     "metadata": {},
     "output_type": "display_data"
    }
   ],
   "source": [
    "# ddot_rho = lambda s : rho(s).diff(s, 2)\n",
    "exec(preparse(\"ddot_rho = lambda s : vector(\" + str(rho(s).diff(s, 2)) + \")\" ))\n",
    "disp(ddot_rho(s)[0])\n",
    "disp(ddot_rho(s)[1])\n",
    "disp(ddot_rho(s)[2])"
   ]
  },
  {
   "cell_type": "markdown",
   "id": "6b9b9ed6",
   "metadata": {},
   "source": [
    "Знаходимо $\\dddot{\\vec{\\rho}}$"
   ]
  },
  {
   "cell_type": "code",
   "execution_count": 10,
   "id": "2ab5f993",
   "metadata": {},
   "outputs": [
    {
     "data": {
      "text/latex": [
       "$\\displaystyle a \\sin\\left(s\\right)$"
      ],
      "text/plain": [
       "<IPython.core.display.Math object>"
      ]
     },
     "metadata": {},
     "output_type": "display_data"
    },
    {
     "data": {
      "text/latex": [
       "$\\displaystyle -b \\cos\\left(s\\right)$"
      ],
      "text/plain": [
       "<IPython.core.display.Math object>"
      ]
     },
     "metadata": {},
     "output_type": "display_data"
    },
    {
     "data": {
      "text/latex": [
       "$\\displaystyle -a \\cos\\left(s\\right) + b \\sin\\left(s\\right)$"
      ],
      "text/plain": [
       "<IPython.core.display.Math object>"
      ]
     },
     "metadata": {},
     "output_type": "display_data"
    }
   ],
   "source": [
    "# dddot_rho = lambda s : rho(s).diff(s, 3)\n",
    "exec(preparse(\"dddot_rho = lambda s : vector(\" + str(rho(s).diff(s, 3)) + \")\" ))\n",
    "disp(dddot_rho(s)[0])\n",
    "disp(dddot_rho(s)[1])\n",
    "disp(dddot_rho(s)[2])"
   ]
  },
  {
   "cell_type": "markdown",
   "id": "ebeb64e2",
   "metadata": {},
   "source": [
    "Знайдемо $\\left|\\ddot{\\vec{\\rho}}\\right|$"
   ]
  },
  {
   "cell_type": "code",
   "execution_count": 11,
   "id": "db94ef35",
   "metadata": {},
   "outputs": [
    {
     "data": {
      "text/latex": [
       "$\\displaystyle \\sqrt{a^{2} \\cos\\left(s\\right)^{2} + b^{2} \\sin\\left(s\\right)^{2} + {\\left(b \\cos\\left(s\\right) + a \\sin\\left(s\\right)\\right)}^{2}}$"
      ],
      "text/plain": [
       "<IPython.core.display.Math object>"
      ]
     },
     "metadata": {},
     "output_type": "display_data"
    },
    {
     "data": {
      "text/latex": [
       "$\\displaystyle \\sqrt{a^{2} \\cos\\left(s\\right)^{2} + b^{2} \\sin\\left(s\\right)^{2} + {\\left(b \\cos\\left(s\\right) + a \\sin\\left(s\\right)\\right)}^{2}}$"
      ],
      "text/plain": [
       "<IPython.core.display.Math object>"
      ]
     },
     "metadata": {},
     "output_type": "display_data"
    },
    {
     "data": {
      "text/latex": [
       "$\\displaystyle \\sqrt{a^{2} \\cos\\left(s\\right)^{2} + b^{2} \\sin\\left(s\\right)^{2} + {\\left(b \\cos\\left(s\\right) + a \\sin\\left(s\\right)\\right)}^{2}}$"
      ],
      "text/plain": [
       "<IPython.core.display.Math object>"
      ]
     },
     "metadata": {},
     "output_type": "display_data"
    }
   ],
   "source": [
    "exec(preparse(\"ddot_rho_norm = lambda s : \" + str(ddot_rho(s).norm()) + \"\" ))\n",
    "disp(ddot_rho_norm(s))\n",
    "disp(ddot_rho_norm(s))\n",
    "disp(ddot_rho_norm(s))"
   ]
  },
  {
   "cell_type": "markdown",
   "id": "0d08466b",
   "metadata": {},
   "source": [
    "Now we should make the substitution"
   ]
  },
  {
   "cell_type": "code",
   "execution_count": 27,
   "id": "e1b90041",
   "metadata": {},
   "outputs": [
    {
     "data": {
      "text/latex": [
       "$\\displaystyle \\sqrt{a^{2} \\cos\\left(s\\right)^{2} + b^{2} \\sin\\left(s\\right)^{2} + {\\left(b \\cos\\left(s\\right) + a \\sin\\left(s\\right)\\right)}^{2}}$"
      ],
      "text/plain": [
       "<IPython.core.display.Math object>"
      ]
     },
     "metadata": {},
     "output_type": "display_data"
    },
    {
     "data": {
      "text/latex": [
       "$\\displaystyle \\sqrt{a^{2} \\cos\\left(s\\right)^{2} + b^{2} \\cos\\left(s\\right)^{2} + 2 \\, a b \\cos\\left(s\\right) \\sin\\left(s\\right) + a^{2} \\sin\\left(s\\right)^{2} + b^{2} \\sin\\left(s\\right)^{2}}$"
      ],
      "text/plain": [
       "<IPython.core.display.Math object>"
      ]
     },
     "metadata": {},
     "output_type": "display_data"
    },
    {
     "data": {
      "text/latex": [
       "$\\displaystyle \\sqrt{2 \\, a b \\cos\\left(s\\right) \\sin\\left(s\\right) + a^{2} + b^{2}}$"
      ],
      "text/plain": [
       "<IPython.core.display.Math object>"
      ]
     },
     "metadata": {},
     "output_type": "display_data"
    }
   ],
   "source": [
    "A = log(1/3*sqrt(3)*s + 1)\n",
    "a = var(\"a\")\n",
    "\n",
    "ddot_rho_norm_subs_a = lambda s, a : ddot_rho_norm(s).subs(A == a)\n",
    "disp(ddot_rho_norm_subs_a(s, a))\n",
    "disp(ddot_rho_norm_subs_a(s, a).expand())\n",
    "disp(ddot_rho_norm_subs_a(s, a).expand().trig_simplify())"
   ]
  },
  {
   "cell_type": "markdown",
   "id": "fea73d94",
   "metadata": {},
   "source": [
    "$k_{\\tau} = \\left|\\ddot{\\vec{\\rho}}\\right|$"
   ]
  },
  {
   "cell_type": "code",
   "execution_count": 13,
   "id": "a41bc31b",
   "metadata": {},
   "outputs": [
    {
     "data": {
      "text/latex": [
       "$\\displaystyle \\sqrt{a^{2} \\cos\\left(s\\right)^{2} + b^{2} \\sin\\left(s\\right)^{2} + {\\left(b \\cos\\left(s\\right) + a \\sin\\left(s\\right)\\right)}^{2}}$"
      ],
      "text/plain": [
       "<IPython.core.display.Math object>"
      ]
     },
     "metadata": {},
     "output_type": "display_data"
    }
   ],
   "source": [
    "k_tau_s = lambda s : ddot_rho_norm(s)\n",
    "disp(k_tau_s(s))"
   ]
  },
  {
   "cell_type": "markdown",
   "id": "ff000b30",
   "metadata": {},
   "source": [
    "Знайдемо $\\left(\\dot{\\vec{\\rho}},\\, \\ddot{\\vec{\\rho}},\\, \\dddot{\\vec{\\rho}}\\right)$"
   ]
  },
  {
   "cell_type": "code",
   "execution_count": 14,
   "id": "70ac90a8",
   "metadata": {},
   "outputs": [
    {
     "data": {
      "text/latex": [
       "$\\displaystyle {\\left({\\left(a \\cos\\left(s\\right) - b \\sin\\left(s\\right)\\right)} a \\cos\\left(s\\right) + {\\left(b \\cos\\left(s\\right) + a \\sin\\left(s\\right)\\right)} a \\sin\\left(s\\right)\\right)} b \\cos\\left(s\\right) - {\\left({\\left(b \\cos\\left(s\\right) + a \\sin\\left(s\\right)\\right)} b \\cos\\left(s\\right) - {\\left(a \\cos\\left(s\\right) - b \\sin\\left(s\\right)\\right)} b \\sin\\left(s\\right)\\right)} a \\sin\\left(s\\right) - {\\left(a b \\cos\\left(s\\right)^{2} + a b \\sin\\left(s\\right)^{2}\\right)} {\\left(a \\cos\\left(s\\right) - b \\sin\\left(s\\right)\\right)}$"
      ],
      "text/plain": [
       "<IPython.core.display.Math object>"
      ]
     },
     "metadata": {},
     "output_type": "display_data"
    }
   ],
   "source": [
    "mixed_d_dd_ddd_rho = lambda s : dot_rho(s).cross_product(ddot_rho(s)).dot_product(dddot_rho(s))\n",
    "disp(mixed_d_dd_ddd_rho(s))"
   ]
  },
  {
   "cell_type": "markdown",
   "id": "621129e2",
   "metadata": {},
   "source": [
    "$k_{\\beta} =  \\frac{\\left|\\left(\\dot{\\vec{\\rho}},\\, \\ddot{\\vec{\\rho}},\\, \\dddot{\\vec{\\rho}}\\right)\\right|}{k_{\\tau}^2}$"
   ]
  },
  {
   "cell_type": "code",
   "execution_count": 24,
   "id": "acc5d718",
   "metadata": {},
   "outputs": [
    {
     "data": {
      "text/latex": [
       "$\\displaystyle 0$"
      ],
      "text/plain": [
       "<IPython.core.display.Math object>"
      ]
     },
     "metadata": {},
     "output_type": "display_data"
    }
   ],
   "source": [
    "k_beta_s = lambda s : mixed_d_dd_ddd_rho(s) / k_tau_s(s)^2\n",
    "try:\n",
    "    disp(k_beta_s(s).expand())\n",
    "except Exception as ex:\n",
    "    print(ex)"
   ]
  },
  {
   "cell_type": "markdown",
   "id": "f41c730e",
   "metadata": {},
   "source": [
    "b) Для вихідної параметризації було отримано (задача 1.2)"
   ]
  },
  {
   "cell_type": "code",
   "execution_count": 16,
   "id": "fa104c6f",
   "metadata": {},
   "outputs": [
    {
     "data": {
      "text/latex": [
       "$\\displaystyle \\left(a \\cos\\left(t\\right) + b,\\,b \\sin\\left(t\\right) + a,\\,b \\cos\\left(t\\right) + a \\sin\\left(t\\right)\\right)$"
      ],
      "text/plain": [
       "<IPython.core.display.Math object>"
      ]
     },
     "metadata": {},
     "output_type": "display_data"
    }
   ],
   "source": [
    "disp(R(t))"
   ]
  },
  {
   "cell_type": "code",
   "execution_count": 17,
   "id": "249d9c97",
   "metadata": {},
   "outputs": [
    {
     "data": {
      "text/latex": [
       "$\\displaystyle \\left(-a \\sin\\left(t\\right),\\,b \\cos\\left(t\\right),\\,a \\cos\\left(t\\right) - b \\sin\\left(t\\right)\\right)$"
      ],
      "text/plain": [
       "<IPython.core.display.Math object>"
      ]
     },
     "metadata": {},
     "output_type": "display_data"
    }
   ],
   "source": [
    "disp(v(t))"
   ]
  },
  {
   "cell_type": "code",
   "execution_count": 18,
   "id": "5fc816f4",
   "metadata": {},
   "outputs": [
    {
     "data": {
      "text/latex": [
       "$\\displaystyle \\left(-a \\cos\\left(t\\right),\\,-b \\sin\\left(t\\right),\\,-b \\cos\\left(t\\right) - a \\sin\\left(t\\right)\\right)$"
      ],
      "text/plain": [
       "<IPython.core.display.Math object>"
      ]
     },
     "metadata": {},
     "output_type": "display_data"
    }
   ],
   "source": [
    "disp(w(t))"
   ]
  },
  {
   "cell_type": "markdown",
   "id": "d9a6c9a3",
   "metadata": {},
   "source": [
    "Знаходимо $\\vec r ′′′$ :"
   ]
  },
  {
   "cell_type": "code",
   "execution_count": 19,
   "id": "9dd6308b",
   "metadata": {},
   "outputs": [
    {
     "data": {
      "text/latex": [
       "$\\displaystyle \\left(a \\sin\\left(t\\right),\\,-b \\cos\\left(t\\right),\\,-a \\cos\\left(t\\right) + b \\sin\\left(t\\right)\\right)$"
      ],
      "text/plain": [
       "<IPython.core.display.Math object>"
      ]
     },
     "metadata": {},
     "output_type": "display_data"
    }
   ],
   "source": [
    "exec(preparse(\"dwdt = lambda t : vector(\" + str(R(t).diff(t,3)) + \")\"))\n",
    "disp(dwdt(t))"
   ]
  },
  {
   "cell_type": "markdown",
   "id": "9b05e993",
   "metadata": {},
   "source": [
    "$\\left|\\left[\\vec{r}', \\vec{r}''\\right]\\right|$"
   ]
  },
  {
   "cell_type": "code",
   "execution_count": 20,
   "id": "78146f88",
   "metadata": {},
   "outputs": [
    {
     "data": {
      "text/latex": [
       "$\\displaystyle \\sqrt{a^{4} + a^{2} b^{2} + b^{4}}$"
      ],
      "text/plain": [
       "<IPython.core.display.Math object>"
      ]
     },
     "metadata": {},
     "output_type": "display_data"
    }
   ],
   "source": [
    "cross_v_w_norm =  lambda t : v(t).cross_product(w(t)).norm().full_simplify()\n",
    "disp(cross_v_w_norm(t))"
   ]
  },
  {
   "cell_type": "markdown",
   "id": "10de38dc",
   "metadata": {},
   "source": [
    "Знаходимо $\\left(\\vec{r}',\\, \\vec{r}'',\\, \\vec{r}'''\\right)$"
   ]
  },
  {
   "cell_type": "code",
   "execution_count": 21,
   "id": "54878fe8",
   "metadata": {},
   "outputs": [
    {
     "data": {
      "text/latex": [
       "$\\displaystyle 0$"
      ],
      "text/plain": [
       "<IPython.core.display.Math object>"
      ]
     },
     "metadata": {},
     "output_type": "display_data"
    }
   ],
   "source": [
    "mixed_v_w_dwdt =  lambda t : v(t).cross_product(w(t)).dot_product(dwdt(t)).full_simplify()\n",
    "disp(mixed_v_w_dwdt(t))"
   ]
  },
  {
   "cell_type": "markdown",
   "id": "11a85b40",
   "metadata": {},
   "source": [
    "$k_{\\tau} = \\frac{\\left|\\left[\\vec{r}', \\vec{r}''\\right]\\right|}{\\left|\\vec{r}'\\right|^3}$"
   ]
  },
  {
   "cell_type": "code",
   "execution_count": 22,
   "id": "85a74216",
   "metadata": {},
   "outputs": [
    {
     "data": {
      "text/latex": [
       "$\\displaystyle \\frac{\\sqrt{a^{4} + a^{2} b^{2} + b^{4}}}{{\\left(-2 \\, a b \\cos\\left(t\\right) \\sin\\left(t\\right) + a^{2} + b^{2}\\right)}^{\\frac{3}{2}}}$"
      ],
      "text/plain": [
       "<IPython.core.display.Math object>"
      ]
     },
     "metadata": {},
     "output_type": "display_data"
    }
   ],
   "source": [
    "k_tau_t = lambda t : cross_v_w_norm(t) / V(t)^3\n",
    "disp(k_tau_t(t))"
   ]
  },
  {
   "cell_type": "markdown",
   "id": "6ccf9d76",
   "metadata": {},
   "source": [
    "$k_{\\beta} = \\frac{\\left|\\left(\\vec{r}',\\, \\vec{r}'',\\, \\vec{r}'''\\right)\\right|}{\\left|\\vec{r}'\\right|^6\\,k_{\\tau}^2}$"
   ]
  },
  {
   "cell_type": "code",
   "execution_count": 23,
   "id": "46aa24d0",
   "metadata": {},
   "outputs": [
    {
     "data": {
      "text/latex": [
       "$\\displaystyle 0$"
      ],
      "text/plain": [
       "<IPython.core.display.Math object>"
      ]
     },
     "metadata": {},
     "output_type": "display_data"
    }
   ],
   "source": [
    "k_beta_t = lambda t : mixed_v_w_dwdt(t) / (V(t)^6 * k_tau_t(t)^2)\n",
    "try:\n",
    "    disp(k_beta_t(t))\n",
    "except Exception as ex:\n",
    "    print(ex)"
   ]
  }
 ],
 "metadata": {
  "kernelspec": {
   "display_name": "SageMath 9.6.beta7",
   "language": "sage",
   "name": "sagemath"
  },
  "language_info": {
   "codemirror_mode": {
    "name": "ipython",
    "version": 3
   },
   "file_extension": ".py",
   "mimetype": "text/x-python",
   "name": "python",
   "nbconvert_exporter": "python",
   "pygments_lexer": "ipython3",
   "version": "3.10.3"
  }
 },
 "nbformat": 4,
 "nbformat_minor": 5
}

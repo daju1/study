{
 "cells": [
  {
   "cell_type": "markdown",
   "id": "24617506",
   "metadata": {},
   "source": [
    "4. ЦЕНТР ІНЕРЦІЇ"
   ]
  },
  {
   "cell_type": "markdown",
   "id": "4ba9ec61",
   "metadata": {},
   "source": [
    "4.2. Знайти центр інерції тіла V з об'ємною густиною речовини ρ"
   ]
  },
  {
   "cell_type": "raw",
   "id": "59f30980",
   "metadata": {},
   "source": [
    "z >= sqrt(x^2+y^2)\n",
    "\n",
    "x^2+y^2+z^2 <= a^2\n",
    "\n",
    "rho = (x^2+y^2+z^2)"
   ]
  },
  {
   "cell_type": "markdown",
   "id": "a01cd9af",
   "metadata": {},
   "source": [
    "Враховуючи вид підінтегральної функції f ( x 2 + y 2 + z 2 ) та форму об'єму V, перейдемо до сферичних\n",
    "координат"
   ]
  },
  {
   "cell_type": "raw",
   "id": "b93ea98e",
   "metadata": {},
   "source": [
    "thetha = 0 .. pi/4\n",
    "\n",
    "r <= a\n",
    "\n",
    "rho = r^2"
   ]
  },
  {
   "cell_type": "markdown",
   "id": "3e09a464",
   "metadata": {},
   "source": [
    "Знайдемо масу тіла\n",
    "\n",
    "$m = \\iiint\\limits_{V}^{} \\rho (x, y, z)\\,dV$"
   ]
  },
  {
   "cell_type": "code",
   "execution_count": 3,
   "id": "c47f8ec9",
   "metadata": {},
   "outputs": [],
   "source": [
    "from IPython.display import display, Math, Latex\n",
    "\n",
    "def disp(ex):\n",
    "    display(Math(latex(ex)))"
   ]
  },
  {
   "cell_type": "code",
   "execution_count": 5,
   "id": "bdea728b",
   "metadata": {},
   "outputs": [],
   "source": [
    "a = var(\"a\")\n",
    "x,y,z = var(\"x,y,z\")\n",
    "r,phi,theta = var(\"r,phi,theta\")\n",
    "assume(a, \"real\")\n",
    "assume(a>0)\n",
    "\n",
    "Rho = function(\"rho\")(r,phi,theta)\n",
    "M = var(\"m\")\n",
    "rho = (r^2)"
   ]
  },
  {
   "cell_type": "code",
   "execution_count": 6,
   "id": "7651c7c3",
   "metadata": {},
   "outputs": [],
   "source": [
    "theta_min = 0\n",
    "theta_max = pi/4"
   ]
  },
  {
   "cell_type": "code",
   "execution_count": 7,
   "id": "ec181ad1",
   "metadata": {},
   "outputs": [],
   "source": [
    "r_max = a"
   ]
  },
  {
   "cell_type": "code",
   "execution_count": 8,
   "id": "9d328feb",
   "metadata": {},
   "outputs": [],
   "source": [
    "m = (Rho * r^2 * sin(theta)) \\\n",
    "   .integrate(theta, theta_min, theta_max) \\\n",
    "   .integrate(r, 0, r_max) \\\n",
    "   .integrate(phi, 0, 2*pi)"
   ]
  },
  {
   "cell_type": "code",
   "execution_count": 9,
   "id": "dc93b6fd",
   "metadata": {},
   "outputs": [
    {
     "data": {
      "text/latex": [
       "$\\displaystyle \\int_{0}^{2 \\, \\pi} \\int_{0}^{a} r^{2} \\int_{0}^{\\frac{1}{4} \\, \\pi} \\rho\\left(r, \\phi, \\theta\\right) \\sin\\left(\\theta\\right)\\,{d \\theta}\\,{d r}\\,{d \\phi}$"
      ],
      "text/plain": [
       "<IPython.core.display.Math object>"
      ]
     },
     "metadata": {},
     "output_type": "display_data"
    }
   ],
   "source": [
    "disp(m)"
   ]
  },
  {
   "cell_type": "code",
   "execution_count": 11,
   "id": "a4b780e8",
   "metadata": {},
   "outputs": [],
   "source": [
    "m = (rho * r^2 * sin(theta)) \\\n",
    "   .integrate(theta, theta_min, theta_max) \\\n",
    "   .integrate(r, 0, r_max) \\\n",
    "   .integrate(phi, 0, 2*pi)"
   ]
  },
  {
   "cell_type": "code",
   "execution_count": 12,
   "id": "4ff40209",
   "metadata": {},
   "outputs": [
    {
     "data": {
      "text/latex": [
       "$\\displaystyle -\\frac{1}{5} \\, \\pi a^{5} {\\left(\\sqrt{2} - 2\\right)}$"
      ],
      "text/plain": [
       "<IPython.core.display.Math object>"
      ]
     },
     "metadata": {},
     "output_type": "display_data"
    }
   ],
   "source": [
    "disp(m)"
   ]
  },
  {
   "cell_type": "markdown",
   "id": "6dea6f17",
   "metadata": {},
   "source": [
    "Знайдемо координати центру мас. Спочатку $z_c$ (майже повторюючи знаходження $m$)"
   ]
  },
  {
   "cell_type": "code",
   "execution_count": 13,
   "id": "9b2f399f",
   "metadata": {},
   "outputs": [],
   "source": [
    "z = r * cos(theta)"
   ]
  },
  {
   "cell_type": "code",
   "execution_count": 14,
   "id": "b84c8965",
   "metadata": {},
   "outputs": [
    {
     "name": "stdout",
     "output_type": "stream",
     "text": [
      "Interrupting Giac...\n"
     ]
    },
    {
     "data": {
      "text/latex": [
       "$\\displaystyle \\frac{\\int_{0}^{2 \\, \\pi} \\int_{0}^{a} r^{3} \\int_{0}^{\\frac{1}{4} \\, \\pi} \\cos\\left(\\theta\\right) \\rho\\left(r, \\phi, \\theta\\right) \\sin\\left(\\theta\\right)\\,{d \\theta}\\,{d r}\\,{d \\phi}}{m}$"
      ],
      "text/plain": [
       "<IPython.core.display.Math object>"
      ]
     },
     "metadata": {},
     "output_type": "display_data"
    }
   ],
   "source": [
    "z_c = 1/M*(z * Rho * r^2 * sin(theta)) \\\n",
    "   .integrate(theta, theta_min, theta_max) \\\n",
    "   .integrate(r, 0, r_max) \\\n",
    "   .integrate(phi, 0, 2*pi)\n",
    "disp(z_c)"
   ]
  },
  {
   "cell_type": "code",
   "execution_count": 15,
   "id": "71defb56",
   "metadata": {},
   "outputs": [
    {
     "data": {
      "text/latex": [
       "$\\displaystyle -\\frac{5 \\, a}{12 \\, {\\left(\\sqrt{2} - 2\\right)}}$"
      ],
      "text/plain": [
       "<IPython.core.display.Math object>"
      ]
     },
     "metadata": {},
     "output_type": "display_data"
    }
   ],
   "source": [
    "z_c = 1/m*(z * rho * r^2 * sin(theta)) \\\n",
    "   .integrate(theta, theta_min, theta_max) \\\n",
    "   .integrate(r, 0, r_max) \\\n",
    "   .integrate(phi, 0, 2*pi)\n",
    "disp(z_c)"
   ]
  },
  {
   "cell_type": "markdown",
   "id": "6d5c832d",
   "metadata": {},
   "source": [
    "враховуючи симетрію тіла відносно координатних площин\n",
    "yOz , xOz та непарність підінтегральних функцій відносно змінних x, y відповідно"
   ]
  },
  {
   "cell_type": "code",
   "execution_count": 16,
   "id": "b3384af9",
   "metadata": {},
   "outputs": [
    {
     "data": {
      "text/latex": [
       "$\\displaystyle 0$"
      ],
      "text/plain": [
       "<IPython.core.display.Math object>"
      ]
     },
     "metadata": {},
     "output_type": "display_data"
    }
   ],
   "source": [
    "y_c = 0\n",
    "disp(y_c)"
   ]
  },
  {
   "cell_type": "code",
   "execution_count": 17,
   "id": "78150047",
   "metadata": {},
   "outputs": [
    {
     "data": {
      "text/latex": [
       "$\\displaystyle 0$"
      ],
      "text/plain": [
       "<IPython.core.display.Math object>"
      ]
     },
     "metadata": {},
     "output_type": "display_data"
    }
   ],
   "source": [
    "x_c = 0\n",
    "disp(x_c)"
   ]
  },
  {
   "cell_type": "code",
   "execution_count": 18,
   "id": "70d65447",
   "metadata": {},
   "outputs": [
    {
     "data": {
      "text/latex": [
       "$\\displaystyle \\left(0, 0, -\\frac{5 \\, a}{12 \\, {\\left(\\sqrt{2} - 2\\right)}}\\right)$"
      ],
      "text/plain": [
       "<IPython.core.display.Math object>"
      ]
     },
     "metadata": {},
     "output_type": "display_data"
    }
   ],
   "source": [
    "disp((x_c, y_c, z_c))"
   ]
  },
  {
   "cell_type": "code",
   "execution_count": null,
   "id": "48fc63be",
   "metadata": {},
   "outputs": [],
   "source": []
  }
 ],
 "metadata": {
  "kernelspec": {
   "display_name": "SageMath 9.6.beta7",
   "language": "sage",
   "name": "sagemath"
  },
  "language_info": {
   "codemirror_mode": {
    "name": "ipython",
    "version": 3
   },
   "file_extension": ".py",
   "mimetype": "text/x-python",
   "name": "python",
   "nbconvert_exporter": "python",
   "pygments_lexer": "ipython3",
   "version": "3.10.3"
  }
 },
 "nbformat": 4,
 "nbformat_minor": 5
}

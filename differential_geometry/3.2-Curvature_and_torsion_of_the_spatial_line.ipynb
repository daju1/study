{
 "cells": [
  {
   "cell_type": "markdown",
   "id": "43eb7310",
   "metadata": {},
   "source": [
    "3. КРИВИЗНА І КРУЧЕННЯ ПРОСТОРОВОЇ ЛІНІЇ"
   ]
  },
  {
   "cell_type": "markdown",
   "id": "183966c9",
   "metadata": {},
   "source": [
    "3.2. Дано параметричне рівняння кривої $r=\\vec{r}\\left(t\\right)$. Знайти кривизну $k_{\\tau}$ і кручення $k_{\\beta}$ у випадках: а) природної, b) вихідної параметризації"
   ]
  },
  {
   "cell_type": "markdown",
   "id": "86dba799",
   "metadata": {},
   "source": [
    "$\\vec{r}\\left(t\\right)=\\left(\\begin{array}{c}\n",
    "    cos(e^t) \\\\\n",
    "    sin(e^t) \\\\\n",
    "    e^t \\\\\n",
    "\\end{array}\\right)$"
   ]
  },
  {
   "cell_type": "markdown",
   "id": "49a35c3e",
   "metadata": {},
   "source": [
    "Кривизною $k_{\\tau}$ кривої в точці $М$ називається границя відношення кута повороту дотичної при переході з цієї точки в нескінченно близьку точку $M_1$ до нескінченно малої довжини дуги, укладеної між цими точками\n",
    "\n",
    "$$k_{\\tau} = \\underset{\\Delta s \\rightarrow 0}{lim}\\frac{\\varphi}{\\Delta s}$$"
   ]
  },
  {
   "cell_type": "markdown",
   "id": "e906664d",
   "metadata": {},
   "source": [
    "Кривизна кривої обчислюється за формулами:\n",
    "\n",
    "- у випадку природної параметризації $\\vec{\\rho} \\left(s\\right)$ $k_{\\tau} = \\left|\\ddot{\\vec{\\rho}}\\right|$\n",
    "- у випадку довільної параметризації $\\vec{r} \\left(t\\right)$ $k_{\\tau} = \\frac{\\left|\\left[\\vec{r}', \\vec{r}''\\right]\\right|}{\\left|\\vec{r}'\\right|^3}$"
   ]
  },
  {
   "cell_type": "markdown",
   "id": "9ca67e45",
   "metadata": {},
   "source": [
    "Крученням $k_{\\beta}$ кривої в точці М називається взята з належним знаком границя відношення кута\n",
    "$\\psi$ повороту стичної площини при переході з даної точки в нескінченно близьку до неї точку кривої до нескінченно малої довжини дуги, розташованої між цими точками\n",
    "\n",
    "$$k_{\\beta} = \\underset{\\Delta s \\rightarrow 0}{lim}\\frac{\\psi}{\\Delta s}$$"
   ]
  },
  {
   "cell_type": "markdown",
   "id": "03cc0ef7",
   "metadata": {},
   "source": [
    "Кручення кривої обчислюється за формулами:\n",
    "    \n",
    "    \n",
    "- у випадку природної параметризації $\\vec{\\rho} \\left(s\\right)$ $k_{\\beta} =  \\frac{\\left|\\left(\\dot{\\vec{\\rho}},\\, \\ddot{\\vec{\\rho}},\\, \\dddot{\\vec{\\rho}}\\right)\\right|}{k_{\\tau}^2}$\n",
    "- у випадку довільної параметризації $\\vec{r} \\left(t\\right)$ $k_{\\beta} = \\frac{\\left|\\left(\\vec{r}',\\, \\vec{r}'',\\, \\vec{r}'''\\right)\\right|}{\\left|\\vec{r}'\\right|^6\\,k_{\\tau}^2}$"
   ]
  },
  {
   "cell_type": "markdown",
   "id": "a338296d",
   "metadata": {},
   "source": [
    "Задача є продовженням задач 1.2, і 2.2 деякими результатами яких ми скористаємося.\n",
    "a) Для природної параметризації було отримано (задача 2.2)"
   ]
  },
  {
   "cell_type": "code",
   "execution_count": 1,
   "id": "7509d8a6",
   "metadata": {},
   "outputs": [],
   "source": [
    "from IPython.display import display, Math, Latex\n",
    "\n",
    "def disp(ex):\n",
    "    display(Math(latex(ex)))"
   ]
  },
  {
   "cell_type": "code",
   "execution_count": 2,
   "id": "aabc388a",
   "metadata": {},
   "outputs": [],
   "source": [
    "t, s, x, y, z, t_0, l = var(\"t, s, x, y, z, t_0, l\")\n",
    "r = vector([var(\"x\"),var(\"y\"),var(\"z\")])\n",
    "assume(t, \"real\")\n",
    "assume(t > 0)\n",
    "assume(s, \"real\")\n",
    "assume(s > 0)\n",
    "X = lambda t : cos(exp(t))\n",
    "Y = lambda t : sin(exp(t))\n",
    "Z = lambda t : exp(t)"
   ]
  },
  {
   "cell_type": "code",
   "execution_count": 3,
   "id": "a88b459b",
   "metadata": {},
   "outputs": [],
   "source": [
    "R = lambda t : vector([X(t),Y(t),Z(t)])\n",
    "exec(preparse(\"v = lambda t : vector(\" + str(R(t).diff(t)) + \")\"))\n",
    "exec(preparse(\"w = lambda t : vector(\" + str(R(t).diff(t,2)) + \")\"))"
   ]
  },
  {
   "cell_type": "code",
   "execution_count": 4,
   "id": "8d3bcb75",
   "metadata": {},
   "outputs": [
    {
     "data": {
      "text/latex": [
       "$\\displaystyle \\sqrt{2} e^{t}$"
      ],
      "text/plain": [
       "<IPython.core.display.Math object>"
      ]
     },
     "metadata": {},
     "output_type": "display_data"
    }
   ],
   "source": [
    "# величина швидкості\n",
    "V = lambda t : v(t).norm().factor().trig_simplify()\n",
    "disp(V(t))"
   ]
  },
  {
   "cell_type": "markdown",
   "id": "a7066890",
   "metadata": {},
   "source": [
    "Знайдемо довжину дуги $s(t)$ (виразимо природний параметр $s$ через початковий $t$)\n",
    "\n",
    "$$s(t) = \\int_{0}^t\\left|\\vec{r}'(l)\\right|dl$$"
   ]
  },
  {
   "cell_type": "code",
   "execution_count": 5,
   "id": "3fd9b6ee",
   "metadata": {},
   "outputs": [
    {
     "data": {
      "text/latex": [
       "$\\displaystyle \\sqrt{2} {\\left(e^{t} - 1\\right)}$"
      ],
      "text/plain": [
       "<IPython.core.display.Math object>"
      ]
     },
     "metadata": {},
     "output_type": "display_data"
    }
   ],
   "source": [
    "S = lambda t : V(l).integrate(l, 0, t)\n",
    "disp(S(t))"
   ]
  },
  {
   "cell_type": "markdown",
   "id": "70cf8fe7",
   "metadata": {},
   "source": [
    "Звідси виразимо параметр $t$ через природний $s$"
   ]
  },
  {
   "cell_type": "code",
   "execution_count": 6,
   "id": "2614e963",
   "metadata": {},
   "outputs": [
    {
     "data": {
      "text/latex": [
       "$\\displaystyle \\log\\left(\\frac{1}{2} \\, \\sqrt{2} s + 1\\right)$"
      ],
      "text/plain": [
       "<IPython.core.display.Math object>"
      ]
     },
     "metadata": {},
     "output_type": "display_data"
    }
   ],
   "source": [
    "# ts = lambda s : solve(s == S(t), t)[0].rhs()\n",
    "exec(preparse(\"ts = lambda s : solve(s == \" + str(S(t)) + \", t)[0].rhs()\"))\n",
    "disp(ts(s))"
   ]
  },
  {
   "cell_type": "markdown",
   "id": "c06c2c23",
   "metadata": {},
   "source": [
    "Нарешті, з початкової параметризації отримаємо природну:"
   ]
  },
  {
   "cell_type": "code",
   "execution_count": 7,
   "id": "036bceb9",
   "metadata": {},
   "outputs": [
    {
     "data": {
      "text/latex": [
       "$\\displaystyle \\cos\\left(\\frac{1}{2} \\, \\sqrt{2} s + 1\\right)$"
      ],
      "text/plain": [
       "<IPython.core.display.Math object>"
      ]
     },
     "metadata": {},
     "output_type": "display_data"
    },
    {
     "data": {
      "text/latex": [
       "$\\displaystyle \\sin\\left(\\frac{1}{2} \\, \\sqrt{2} s + 1\\right)$"
      ],
      "text/plain": [
       "<IPython.core.display.Math object>"
      ]
     },
     "metadata": {},
     "output_type": "display_data"
    },
    {
     "data": {
      "text/latex": [
       "$\\displaystyle \\frac{1}{2} \\, \\sqrt{2} s + 1$"
      ],
      "text/plain": [
       "<IPython.core.display.Math object>"
      ]
     },
     "metadata": {},
     "output_type": "display_data"
    }
   ],
   "source": [
    "# rho = lambda s : R(t).subs(t==ts(s))\n",
    "exec(preparse(\"rho = lambda s : vector(\" + str(R(t).subs(t==ts(s))) + \")\" ))\n",
    "disp(rho(s)[0])\n",
    "disp(rho(s)[1])\n",
    "disp(rho(s)[2])"
   ]
  },
  {
   "cell_type": "markdown",
   "id": "0f343e41",
   "metadata": {},
   "source": [
    "Знаходимо $\\dot{\\vec{\\rho}}$"
   ]
  },
  {
   "cell_type": "code",
   "execution_count": 8,
   "id": "7f5c757a",
   "metadata": {},
   "outputs": [
    {
     "data": {
      "text/latex": [
       "$\\displaystyle -\\frac{1}{2} \\, \\sqrt{2} \\sin\\left(\\frac{1}{2} \\, \\sqrt{2} s + 1\\right)$"
      ],
      "text/plain": [
       "<IPython.core.display.Math object>"
      ]
     },
     "metadata": {},
     "output_type": "display_data"
    },
    {
     "data": {
      "text/latex": [
       "$\\displaystyle \\frac{1}{2} \\, \\sqrt{2} \\cos\\left(\\frac{1}{2} \\, \\sqrt{2} s + 1\\right)$"
      ],
      "text/plain": [
       "<IPython.core.display.Math object>"
      ]
     },
     "metadata": {},
     "output_type": "display_data"
    },
    {
     "data": {
      "text/latex": [
       "$\\displaystyle \\frac{1}{2} \\, \\sqrt{2} \\cos\\left(\\frac{1}{2} \\, \\sqrt{2} s + 1\\right)$"
      ],
      "text/plain": [
       "<IPython.core.display.Math object>"
      ]
     },
     "metadata": {},
     "output_type": "display_data"
    }
   ],
   "source": [
    "# dot_rho = lambda s : rho(s).diff(s)\n",
    "exec(preparse(\"dot_rho = lambda s : vector(\" + str(rho(s).diff(s)) + \")\" ))\n",
    "disp(dot_rho(s)[0])\n",
    "disp(dot_rho(s)[1])\n",
    "disp(dot_rho(s)[1])"
   ]
  },
  {
   "cell_type": "markdown",
   "id": "36a73c7c",
   "metadata": {},
   "source": [
    "Знаходимо $\\ddot{\\vec{\\rho}}$"
   ]
  },
  {
   "cell_type": "code",
   "execution_count": 9,
   "id": "9591ac3f",
   "metadata": {},
   "outputs": [
    {
     "data": {
      "text/latex": [
       "$\\displaystyle -\\frac{1}{2} \\, \\cos\\left(\\frac{1}{2} \\, \\sqrt{2} s + 1\\right)$"
      ],
      "text/plain": [
       "<IPython.core.display.Math object>"
      ]
     },
     "metadata": {},
     "output_type": "display_data"
    },
    {
     "data": {
      "text/latex": [
       "$\\displaystyle -\\frac{1}{2} \\, \\sin\\left(\\frac{1}{2} \\, \\sqrt{2} s + 1\\right)$"
      ],
      "text/plain": [
       "<IPython.core.display.Math object>"
      ]
     },
     "metadata": {},
     "output_type": "display_data"
    },
    {
     "data": {
      "text/latex": [
       "$\\displaystyle 0$"
      ],
      "text/plain": [
       "<IPython.core.display.Math object>"
      ]
     },
     "metadata": {},
     "output_type": "display_data"
    }
   ],
   "source": [
    "# ddot_rho = lambda s : rho(s).diff(s, 2)\n",
    "exec(preparse(\"ddot_rho = lambda s : vector(\" + str(rho(s).diff(s, 2)) + \")\" ))\n",
    "disp(ddot_rho(s)[0])\n",
    "disp(ddot_rho(s)[1])\n",
    "disp(ddot_rho(s)[2])"
   ]
  },
  {
   "cell_type": "markdown",
   "id": "60718821",
   "metadata": {},
   "source": [
    "Знаходимо $\\dddot{\\vec{\\rho}}$"
   ]
  },
  {
   "cell_type": "code",
   "execution_count": 10,
   "id": "37f24c4a",
   "metadata": {},
   "outputs": [
    {
     "data": {
      "text/latex": [
       "$\\displaystyle \\frac{1}{4} \\, \\sqrt{2} \\sin\\left(\\frac{1}{2} \\, \\sqrt{2} s + 1\\right)$"
      ],
      "text/plain": [
       "<IPython.core.display.Math object>"
      ]
     },
     "metadata": {},
     "output_type": "display_data"
    },
    {
     "data": {
      "text/latex": [
       "$\\displaystyle -\\frac{1}{4} \\, \\sqrt{2} \\cos\\left(\\frac{1}{2} \\, \\sqrt{2} s + 1\\right)$"
      ],
      "text/plain": [
       "<IPython.core.display.Math object>"
      ]
     },
     "metadata": {},
     "output_type": "display_data"
    },
    {
     "data": {
      "text/latex": [
       "$\\displaystyle 0$"
      ],
      "text/plain": [
       "<IPython.core.display.Math object>"
      ]
     },
     "metadata": {},
     "output_type": "display_data"
    }
   ],
   "source": [
    "# dddot_rho = lambda s : rho(s).diff(s, 3)\n",
    "exec(preparse(\"dddot_rho = lambda s : vector(\" + str(rho(s).diff(s, 3)) + \")\" ))\n",
    "disp(dddot_rho(s)[0])\n",
    "disp(dddot_rho(s)[1])\n",
    "disp(dddot_rho(s)[2])"
   ]
  },
  {
   "cell_type": "markdown",
   "id": "eb71eb43",
   "metadata": {},
   "source": [
    "Знайдемо $\\left|\\ddot{\\vec{\\rho}}\\right|$"
   ]
  },
  {
   "cell_type": "code",
   "execution_count": 11,
   "id": "d3d32afd",
   "metadata": {},
   "outputs": [
    {
     "data": {
      "text/latex": [
       "$\\displaystyle \\frac{1}{2}$"
      ],
      "text/plain": [
       "<IPython.core.display.Math object>"
      ]
     },
     "metadata": {},
     "output_type": "display_data"
    }
   ],
   "source": [
    "exec(preparse(\"ddot_rho_norm = lambda s : \" + str(ddot_rho(s).norm().full_simplify()) + \"\" ))\n",
    "disp(ddot_rho_norm(s))"
   ]
  },
  {
   "cell_type": "markdown",
   "id": "6e8b1605",
   "metadata": {},
   "source": [
    "$k_{\\tau} = \\left|\\ddot{\\vec{\\rho}}\\right|$"
   ]
  },
  {
   "cell_type": "code",
   "execution_count": 12,
   "id": "7ac32748",
   "metadata": {},
   "outputs": [
    {
     "data": {
      "text/latex": [
       "$\\displaystyle \\frac{1}{2}$"
      ],
      "text/plain": [
       "<IPython.core.display.Math object>"
      ]
     },
     "metadata": {},
     "output_type": "display_data"
    }
   ],
   "source": [
    "k_tau_s = lambda s : ddot_rho_norm(s)\n",
    "disp(k_tau_s(s))"
   ]
  },
  {
   "cell_type": "markdown",
   "id": "2fdac96c",
   "metadata": {},
   "source": [
    "Знайдемо $\\left(\\dot{\\vec{\\rho}},\\, \\ddot{\\vec{\\rho}},\\, \\dddot{\\vec{\\rho}}\\right)$"
   ]
  },
  {
   "cell_type": "code",
   "execution_count": 13,
   "id": "49b8b28f",
   "metadata": {},
   "outputs": [
    {
     "data": {
      "text/latex": [
       "$\\displaystyle \\frac{1}{8}$"
      ],
      "text/plain": [
       "<IPython.core.display.Math object>"
      ]
     },
     "metadata": {},
     "output_type": "display_data"
    }
   ],
   "source": [
    "mixed_d_dd_ddd_rho = lambda s : dot_rho(s).cross_product(ddot_rho(s)).dot_product(dddot_rho(s)).full_simplify()\n",
    "disp(mixed_d_dd_ddd_rho(s))"
   ]
  },
  {
   "cell_type": "markdown",
   "id": "4fdebf3f",
   "metadata": {},
   "source": [
    "$k_{\\beta} =  \\frac{\\left|\\left(\\dot{\\vec{\\rho}},\\, \\ddot{\\vec{\\rho}},\\, \\dddot{\\vec{\\rho}}\\right)\\right|}{k_{\\tau}^2}$"
   ]
  },
  {
   "cell_type": "code",
   "execution_count": 14,
   "id": "a20dff7e",
   "metadata": {},
   "outputs": [
    {
     "data": {
      "text/latex": [
       "$\\displaystyle \\frac{1}{2}$"
      ],
      "text/plain": [
       "<IPython.core.display.Math object>"
      ]
     },
     "metadata": {},
     "output_type": "display_data"
    }
   ],
   "source": [
    "k_beta_s = lambda s : mixed_d_dd_ddd_rho(s) / k_tau_s(s)^2\n",
    "disp(k_beta_s(s))"
   ]
  },
  {
   "cell_type": "markdown",
   "id": "7d912e27",
   "metadata": {},
   "source": [
    "b) Для вихідної параметризації було отримано (задача 1.2)"
   ]
  },
  {
   "cell_type": "code",
   "execution_count": 15,
   "id": "7e720d70",
   "metadata": {},
   "outputs": [
    {
     "data": {
      "text/latex": [
       "$\\displaystyle \\left(\\cos\\left(e^{t}\\right),\\,\\sin\\left(e^{t}\\right),\\,e^{t}\\right)$"
      ],
      "text/plain": [
       "<IPython.core.display.Math object>"
      ]
     },
     "metadata": {},
     "output_type": "display_data"
    }
   ],
   "source": [
    "disp(R(t))"
   ]
  },
  {
   "cell_type": "code",
   "execution_count": 16,
   "id": "55ca8776",
   "metadata": {},
   "outputs": [
    {
     "data": {
      "text/latex": [
       "$\\displaystyle \\left(-e^{t} \\sin\\left(e^{t}\\right),\\,\\cos\\left(e^{t}\\right) e^{t},\\,e^{t}\\right)$"
      ],
      "text/plain": [
       "<IPython.core.display.Math object>"
      ]
     },
     "metadata": {},
     "output_type": "display_data"
    }
   ],
   "source": [
    "disp(v(t))"
   ]
  },
  {
   "cell_type": "code",
   "execution_count": 17,
   "id": "ed3b62b4",
   "metadata": {},
   "outputs": [
    {
     "data": {
      "text/latex": [
       "$\\displaystyle \\left(-\\cos\\left(e^{t}\\right) e^{\\left(2 \\, t\\right)} - e^{t} \\sin\\left(e^{t}\\right),\\,\\cos\\left(e^{t}\\right) e^{t} - e^{\\left(2 \\, t\\right)} \\sin\\left(e^{t}\\right),\\,e^{t}\\right)$"
      ],
      "text/plain": [
       "<IPython.core.display.Math object>"
      ]
     },
     "metadata": {},
     "output_type": "display_data"
    }
   ],
   "source": [
    "disp(w(t))"
   ]
  },
  {
   "cell_type": "markdown",
   "id": "751125d0",
   "metadata": {},
   "source": [
    "Знаходимо $\\vec r ′′′$ :"
   ]
  },
  {
   "cell_type": "code",
   "execution_count": 18,
   "id": "3417eec6",
   "metadata": {},
   "outputs": [
    {
     "data": {
      "text/latex": [
       "$\\displaystyle \\left(-3 \\, \\cos\\left(e^{t}\\right) e^{\\left(2 \\, t\\right)} + e^{\\left(3 \\, t\\right)} \\sin\\left(e^{t}\\right) - e^{t} \\sin\\left(e^{t}\\right),\\,-\\cos\\left(e^{t}\\right) e^{\\left(3 \\, t\\right)} + \\cos\\left(e^{t}\\right) e^{t} - 3 \\, e^{\\left(2 \\, t\\right)} \\sin\\left(e^{t}\\right),\\,e^{t}\\right)$"
      ],
      "text/plain": [
       "<IPython.core.display.Math object>"
      ]
     },
     "metadata": {},
     "output_type": "display_data"
    }
   ],
   "source": [
    "exec(preparse(\"dwdt = lambda t : vector(\" + str(R(t).diff(t,3)) + \")\"))\n",
    "disp(dwdt(t))"
   ]
  },
  {
   "cell_type": "markdown",
   "id": "5afc1933",
   "metadata": {},
   "source": [
    "$\\left|\\left[\\vec{r}', \\vec{r}''\\right]\\right|$"
   ]
  },
  {
   "cell_type": "code",
   "execution_count": 19,
   "id": "b17129b9",
   "metadata": {},
   "outputs": [
    {
     "data": {
      "text/latex": [
       "$\\displaystyle \\sqrt{2} e^{\\left(3 \\, t\\right)}$"
      ],
      "text/plain": [
       "<IPython.core.display.Math object>"
      ]
     },
     "metadata": {},
     "output_type": "display_data"
    }
   ],
   "source": [
    "cross_v_w_norm =  lambda t : v(t).cross_product(w(t)).norm().full_simplify()\n",
    "disp(cross_v_w_norm(t))"
   ]
  },
  {
   "cell_type": "markdown",
   "id": "a6ca5d39",
   "metadata": {},
   "source": [
    "Знаходимо $\\left(\\vec{r}',\\, \\vec{r}'',\\, \\vec{r}'''\\right)$"
   ]
  },
  {
   "cell_type": "code",
   "execution_count": 20,
   "id": "d19f398c",
   "metadata": {},
   "outputs": [
    {
     "data": {
      "text/latex": [
       "$\\displaystyle e^{\\left(6 \\, t\\right)}$"
      ],
      "text/plain": [
       "<IPython.core.display.Math object>"
      ]
     },
     "metadata": {},
     "output_type": "display_data"
    }
   ],
   "source": [
    "mixed_v_w_dwdt =  lambda t : v(t).cross_product(w(t)).dot_product(dwdt(t)).full_simplify()\n",
    "disp(mixed_v_w_dwdt(t))"
   ]
  },
  {
   "cell_type": "markdown",
   "id": "f5f06eec",
   "metadata": {},
   "source": [
    "$k_{\\tau} = \\frac{\\left|\\left[\\vec{r}', \\vec{r}''\\right]\\right|}{\\left|\\vec{r}'\\right|^3}$"
   ]
  },
  {
   "cell_type": "code",
   "execution_count": 21,
   "id": "132108ae",
   "metadata": {},
   "outputs": [
    {
     "data": {
      "text/latex": [
       "$\\displaystyle \\frac{1}{2}$"
      ],
      "text/plain": [
       "<IPython.core.display.Math object>"
      ]
     },
     "metadata": {},
     "output_type": "display_data"
    }
   ],
   "source": [
    "k_tau_t = lambda t : cross_v_w_norm(t) / V(t)^3\n",
    "disp(k_tau_t(t))"
   ]
  },
  {
   "cell_type": "markdown",
   "id": "06a45585",
   "metadata": {},
   "source": [
    "$k_{\\beta} = \\frac{\\left|\\left(\\vec{r}',\\, \\vec{r}'',\\, \\vec{r}'''\\right)\\right|}{\\left|\\vec{r}'\\right|^6\\,k_{\\tau}^2}$"
   ]
  },
  {
   "cell_type": "code",
   "execution_count": 22,
   "id": "2b98cb74",
   "metadata": {},
   "outputs": [
    {
     "data": {
      "text/latex": [
       "$\\displaystyle \\frac{1}{2}$"
      ],
      "text/plain": [
       "<IPython.core.display.Math object>"
      ]
     },
     "metadata": {},
     "output_type": "display_data"
    }
   ],
   "source": [
    "k_beta_t = lambda t : mixed_v_w_dwdt(t) / (V(t)^6 * k_tau_t(t)^2)\n",
    "disp(k_beta_t(t))"
   ]
  }
 ],
 "metadata": {
  "kernelspec": {
   "display_name": "SageMath 9.6.beta7",
   "language": "sage",
   "name": "sagemath"
  },
  "language_info": {
   "codemirror_mode": {
    "name": "ipython",
    "version": 3
   },
   "file_extension": ".py",
   "mimetype": "text/x-python",
   "name": "python",
   "nbconvert_exporter": "python",
   "pygments_lexer": "ipython3",
   "version": "3.10.3"
  }
 },
 "nbformat": 4,
 "nbformat_minor": 5
}

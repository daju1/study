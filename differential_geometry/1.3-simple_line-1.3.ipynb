{
 "cells": [
  {
   "cell_type": "markdown",
   "id": "c675cd10",
   "metadata": {},
   "source": [
    "1.3. Написати рівняння ребер та граней природного тригранника кривої"
   ]
  },
  {
   "cell_type": "code",
   "execution_count": 1,
   "id": "08379a16",
   "metadata": {},
   "outputs": [],
   "source": [
    "from IPython.display import display, Math, Latex\n",
    "\n",
    "def disp(ex):\n",
    "    display(Math(latex(ex)))"
   ]
  },
  {
   "cell_type": "code",
   "execution_count": 2,
   "id": "99482ce4",
   "metadata": {},
   "outputs": [],
   "source": [
    "t, x, y, z = var(\"t, x, y, z\")\n",
    "assume(t, \"real\")\n",
    "assume(t > 0)\n",
    "X = lambda t : t*cos(t)\n",
    "Y = lambda t : t*sin(t)\n",
    "Z = lambda t : t"
   ]
  },
  {
   "cell_type": "code",
   "execution_count": 3,
   "id": "f95dcea4",
   "metadata": {},
   "outputs": [],
   "source": [
    "t_0 = pi"
   ]
  },
  {
   "cell_type": "code",
   "execution_count": 4,
   "id": "4b804737",
   "metadata": {},
   "outputs": [
    {
     "data": {
      "text/latex": [
       "$\\displaystyle \\left(x,\\,y,\\,z\\right)$"
      ],
      "text/plain": [
       "<IPython.core.display.Math object>"
      ]
     },
     "metadata": {},
     "output_type": "display_data"
    }
   ],
   "source": [
    "r = vector([var(\"x\"),var(\"y\"),var(\"z\")])\n",
    "disp(r)"
   ]
  },
  {
   "cell_type": "code",
   "execution_count": 5,
   "id": "87c12021",
   "metadata": {},
   "outputs": [
    {
     "data": {
      "text/latex": [
       "$\\displaystyle \\left(t \\cos\\left(t\\right),\\,t \\sin\\left(t\\right),\\,t\\right)$"
      ],
      "text/plain": [
       "<IPython.core.display.Math object>"
      ]
     },
     "metadata": {},
     "output_type": "display_data"
    }
   ],
   "source": [
    "R = lambda t : vector([X(t),Y(t),Z(t)])\n",
    "disp(R(t))"
   ]
  },
  {
   "cell_type": "code",
   "execution_count": 6,
   "id": "678eb8e6",
   "metadata": {},
   "outputs": [
    {
     "data": {
      "text/latex": [
       "$\\displaystyle \\left(-\\pi,\\,0,\\,\\pi\\right)$"
      ],
      "text/plain": [
       "<IPython.core.display.Math object>"
      ]
     },
     "metadata": {},
     "output_type": "display_data"
    }
   ],
   "source": [
    "disp(R(t_0))"
   ]
  },
  {
   "cell_type": "markdown",
   "id": "4302865f",
   "metadata": {},
   "source": [
    "Похідною вектор-функції (тобто функції, значеннями якої є вектори в векторному просторі) $\\vec{r}\\left(t\\right)$ в точці $t = t_0$ називають границю $\\underset{\\Delta t \\rightarrow 0}{lim}\\frac{\\vec{r}\\left(t_0+\\Delta t\\right) - \\vec{r}\\left(t_0\\right)}{\\Delta t}$"
   ]
  },
  {
   "cell_type": "markdown",
   "id": "92fe6835",
   "metadata": {},
   "source": [
    "$\\vec{r'}\\left(t\\right)=\\left(\\begin{array}{l}\n",
    "    x'(t) \\\\\n",
    "    y'(t) \\\\\n",
    "    z'(t) \\\\\n",
    "\\end{array}\\right)$"
   ]
  },
  {
   "cell_type": "code",
   "execution_count": 7,
   "id": "44697968",
   "metadata": {},
   "outputs": [],
   "source": [
    "exec(preparse(\"v = lambda t : vector(\" + str(R(t).diff(t)) + \")\"))\n",
    "exec(preparse(\"w = lambda t : vector(\" + str(R(t).diff(t,2)) + \")\"))"
   ]
  },
  {
   "cell_type": "code",
   "execution_count": 8,
   "id": "22208e84",
   "metadata": {},
   "outputs": [
    {
     "data": {
      "text/latex": [
       "$\\displaystyle \\left(-t \\sin\\left(t\\right) + \\cos\\left(t\\right),\\,t \\cos\\left(t\\right) + \\sin\\left(t\\right),\\,1\\right)$"
      ],
      "text/plain": [
       "<IPython.core.display.Math object>"
      ]
     },
     "metadata": {},
     "output_type": "display_data"
    }
   ],
   "source": [
    "disp(v(t))"
   ]
  },
  {
   "cell_type": "code",
   "execution_count": 9,
   "id": "56d9a01a",
   "metadata": {},
   "outputs": [
    {
     "data": {
      "text/latex": [
       "$\\displaystyle \\left(-1,\\,-\\pi,\\,1\\right)$"
      ],
      "text/plain": [
       "<IPython.core.display.Math object>"
      ]
     },
     "metadata": {},
     "output_type": "display_data"
    }
   ],
   "source": [
    "disp(v(t_0))"
   ]
  },
  {
   "cell_type": "markdown",
   "id": "56b210fb",
   "metadata": {},
   "source": [
    "Знайдемо величину та напрямок швидкості"
   ]
  },
  {
   "cell_type": "code",
   "execution_count": 10,
   "id": "7a57e750",
   "metadata": {},
   "outputs": [
    {
     "data": {
      "text/latex": [
       "$\\displaystyle \\sqrt{{\\left(t \\cos\\left(t\\right) + \\sin\\left(t\\right)\\right)}^{2} + {\\left(t \\sin\\left(t\\right) - \\cos\\left(t\\right)\\right)}^{2} + 1}$"
      ],
      "text/plain": [
       "<IPython.core.display.Math object>"
      ]
     },
     "metadata": {},
     "output_type": "display_data"
    }
   ],
   "source": [
    "disp(v(t).norm())"
   ]
  },
  {
   "cell_type": "code",
   "execution_count": 11,
   "id": "1a57feea",
   "metadata": {},
   "outputs": [
    {
     "data": {
      "text/latex": [
       "$\\displaystyle \\sqrt{t^{2} + 2}$"
      ],
      "text/plain": [
       "<IPython.core.display.Math object>"
      ]
     },
     "metadata": {},
     "output_type": "display_data"
    }
   ],
   "source": [
    "disp(v(t).norm().trig_simplify())"
   ]
  },
  {
   "cell_type": "code",
   "execution_count": 12,
   "id": "79b62503",
   "metadata": {},
   "outputs": [
    {
     "data": {
      "text/latex": [
       "$\\displaystyle \\sqrt{t^{2} + 2}$"
      ],
      "text/plain": [
       "<IPython.core.display.Math object>"
      ]
     },
     "metadata": {},
     "output_type": "display_data"
    }
   ],
   "source": [
    "# величина швидкості\n",
    "V = lambda t : v(t).norm().trig_simplify()\n",
    "disp(V(t))"
   ]
  },
  {
   "cell_type": "code",
   "execution_count": 13,
   "id": "1fec5e5b",
   "metadata": {},
   "outputs": [
    {
     "data": {
      "text/latex": [
       "$\\displaystyle \\sqrt{\\pi^{2} + 2}$"
      ],
      "text/plain": [
       "<IPython.core.display.Math object>"
      ]
     },
     "metadata": {},
     "output_type": "display_data"
    }
   ],
   "source": [
    "disp(V(t_0))"
   ]
  },
  {
   "cell_type": "code",
   "execution_count": 14,
   "id": "fb05112e",
   "metadata": {},
   "outputs": [],
   "source": [
    "# напрямок швидкості, вона ж напрямок дотичної\n",
    "tau = lambda t : v(t) / V(t)"
   ]
  },
  {
   "cell_type": "code",
   "execution_count": 15,
   "id": "48d02049",
   "metadata": {},
   "outputs": [
    {
     "data": {
      "text/latex": [
       "$\\displaystyle \\left(-\\frac{t \\sin\\left(t\\right) - \\cos\\left(t\\right)}{\\sqrt{t^{2} + 2}},\\,\\frac{t \\cos\\left(t\\right) + \\sin\\left(t\\right)}{\\sqrt{t^{2} + 2}},\\,\\frac{1}{\\sqrt{t^{2} + 2}}\\right)$"
      ],
      "text/plain": [
       "<IPython.core.display.Math object>"
      ]
     },
     "metadata": {},
     "output_type": "display_data"
    }
   ],
   "source": [
    "disp(tau(t))"
   ]
  },
  {
   "cell_type": "code",
   "execution_count": 16,
   "id": "c08381ee",
   "metadata": {},
   "outputs": [
    {
     "data": {
      "text/latex": [
       "$\\displaystyle \\left(-\\frac{1}{\\sqrt{\\pi^{2} + 2}},\\,-\\frac{\\pi}{\\sqrt{\\pi^{2} + 2}},\\,\\frac{1}{\\sqrt{\\pi^{2} + 2}}\\right)$"
      ],
      "text/plain": [
       "<IPython.core.display.Math object>"
      ]
     },
     "metadata": {},
     "output_type": "display_data"
    }
   ],
   "source": [
    "disp(tau(t_0))"
   ]
  },
  {
   "cell_type": "markdown",
   "id": "fd308017",
   "metadata": {},
   "source": [
    "Знайдемо величину та напрямок прискорення"
   ]
  },
  {
   "cell_type": "code",
   "execution_count": 17,
   "id": "1d0bf571",
   "metadata": {},
   "outputs": [
    {
     "data": {
      "text/latex": [
       "$\\displaystyle \\left(-t \\cos\\left(t\\right) - 2 \\, \\sin\\left(t\\right),\\,-t \\sin\\left(t\\right) + 2 \\, \\cos\\left(t\\right),\\,0\\right)$"
      ],
      "text/plain": [
       "<IPython.core.display.Math object>"
      ]
     },
     "metadata": {},
     "output_type": "display_data"
    }
   ],
   "source": [
    "disp(w(t))"
   ]
  },
  {
   "cell_type": "code",
   "execution_count": 18,
   "id": "48d6291f",
   "metadata": {},
   "outputs": [
    {
     "data": {
      "text/latex": [
       "$\\displaystyle \\left(\\pi,\\,-2,\\,0\\right)$"
      ],
      "text/plain": [
       "<IPython.core.display.Math object>"
      ]
     },
     "metadata": {},
     "output_type": "display_data"
    }
   ],
   "source": [
    "disp(w(t_0))"
   ]
  },
  {
   "cell_type": "code",
   "execution_count": 19,
   "id": "4b0e151b",
   "metadata": {},
   "outputs": [],
   "source": [
    "# величина прискорення\n",
    "W_simp = lambda t : w(t).norm().trig_simplify()\n",
    "W = lambda t : w(t).norm()"
   ]
  },
  {
   "cell_type": "code",
   "execution_count": 20,
   "id": "afd36537",
   "metadata": {},
   "outputs": [
    {
     "data": {
      "text/latex": [
       "$\\displaystyle \\sqrt{{\\left(t \\cos\\left(t\\right) + 2 \\, \\sin\\left(t\\right)\\right)}^{2} + {\\left(t \\sin\\left(t\\right) - 2 \\, \\cos\\left(t\\right)\\right)}^{2}}$"
      ],
      "text/plain": [
       "<IPython.core.display.Math object>"
      ]
     },
     "metadata": {},
     "output_type": "display_data"
    }
   ],
   "source": [
    "disp(W(t))"
   ]
  },
  {
   "cell_type": "code",
   "execution_count": 21,
   "id": "0585f1d9",
   "metadata": {},
   "outputs": [
    {
     "data": {
      "text/latex": [
       "$\\displaystyle \\sqrt{t^{2} + 4}$"
      ],
      "text/plain": [
       "<IPython.core.display.Math object>"
      ]
     },
     "metadata": {},
     "output_type": "display_data"
    }
   ],
   "source": [
    "disp(W_simp(t))"
   ]
  },
  {
   "cell_type": "code",
   "execution_count": 22,
   "id": "982951aa",
   "metadata": {},
   "outputs": [
    {
     "data": {
      "text/latex": [
       "$\\displaystyle \\sqrt{\\pi^{2} + 4}$"
      ],
      "text/plain": [
       "<IPython.core.display.Math object>"
      ]
     },
     "metadata": {},
     "output_type": "display_data"
    }
   ],
   "source": [
    "disp(W(t_0))"
   ]
  },
  {
   "cell_type": "code",
   "execution_count": 23,
   "id": "4ef1e60d",
   "metadata": {},
   "outputs": [],
   "source": [
    "# напрямок прискорення\n",
    "e_w = lambda t : w(t) / W(t)\n",
    "e_w_simp = lambda t : w(t) / W_simp(t)"
   ]
  },
  {
   "cell_type": "code",
   "execution_count": 24,
   "id": "aa43291b",
   "metadata": {},
   "outputs": [
    {
     "data": {
      "text/latex": [
       "$\\displaystyle \\left(-\\frac{t \\cos\\left(t\\right) + 2 \\, \\sin\\left(t\\right)}{\\sqrt{t^{2} + 4}},\\,-\\frac{t \\sin\\left(t\\right) - 2 \\, \\cos\\left(t\\right)}{\\sqrt{t^{2} + 4}},\\,0\\right)$"
      ],
      "text/plain": [
       "<IPython.core.display.Math object>"
      ]
     },
     "metadata": {},
     "output_type": "display_data"
    }
   ],
   "source": [
    "disp(e_w_simp(t))"
   ]
  },
  {
   "cell_type": "code",
   "execution_count": 25,
   "id": "67a575bc",
   "metadata": {},
   "outputs": [
    {
     "data": {
      "text/latex": [
       "$\\displaystyle \\left(\\frac{\\pi}{\\sqrt{\\pi^{2} + 4}},\\,-\\frac{2}{\\sqrt{\\pi^{2} + 4}},\\,0\\right)$"
      ],
      "text/plain": [
       "<IPython.core.display.Math object>"
      ]
     },
     "metadata": {},
     "output_type": "display_data"
    }
   ],
   "source": [
    "disp(e_w(t_0))"
   ]
  },
  {
   "cell_type": "markdown",
   "id": "98e12a9f",
   "metadata": {},
   "source": [
    "Розкладемо прискорення $\\vec{w}$ на дотичну $\\vec{w_{\\parallel}}$ $\\parallel$ $\\vec{e_v}$ і нормальну $\\vec{w_{\\perp}}$ $\\perp$ $\\vec{e_v}$ складові"
   ]
  },
  {
   "cell_type": "markdown",
   "id": "071e681b",
   "metadata": {},
   "source": [
    "$\\vec{w} = \\vec{w_{\\parallel}} + \\vec{w_{\\perp}} = w_{\\parallel} \\cdot \\vec{e_{\\parallel}} + w_{\\perp} \\cdot \\vec{e_{\\perp}}$"
   ]
  },
  {
   "cell_type": "markdown",
   "id": "52fd7789",
   "metadata": {},
   "source": [
    "$\\vec{e_{\\parallel}} = \\vec{e_{v}} = \\vec{\\tau}$"
   ]
  },
  {
   "cell_type": "code",
   "execution_count": 26,
   "id": "d5bf45ff",
   "metadata": {},
   "outputs": [],
   "source": [
    "w_parallel = w(t).dot_product(tau(t))"
   ]
  },
  {
   "cell_type": "code",
   "execution_count": 27,
   "id": "de9be339",
   "metadata": {},
   "outputs": [
    {
     "data": {
      "text/latex": [
       "$\\displaystyle \\frac{{\\left(t \\cos\\left(t\\right) + 2 \\, \\sin\\left(t\\right)\\right)} {\\left(t \\sin\\left(t\\right) - \\cos\\left(t\\right)\\right)}}{\\sqrt{t^{2} + 2}} - \\frac{{\\left(t \\cos\\left(t\\right) + \\sin\\left(t\\right)\\right)} {\\left(t \\sin\\left(t\\right) - 2 \\, \\cos\\left(t\\right)\\right)}}{\\sqrt{t^{2} + 2}}$"
      ],
      "text/plain": [
       "<IPython.core.display.Math object>"
      ]
     },
     "metadata": {},
     "output_type": "display_data"
    }
   ],
   "source": [
    "disp(w_parallel)"
   ]
  },
  {
   "cell_type": "code",
   "execution_count": 28,
   "id": "42d40b00",
   "metadata": {},
   "outputs": [
    {
     "data": {
      "text/latex": [
       "$\\displaystyle \\frac{t}{\\sqrt{t^{2} + 2}}$"
      ],
      "text/plain": [
       "<IPython.core.display.Math object>"
      ]
     },
     "metadata": {},
     "output_type": "display_data"
    }
   ],
   "source": [
    "w_parallel = w_parallel.trig_simplify()\n",
    "disp(w_parallel)"
   ]
  },
  {
   "cell_type": "code",
   "execution_count": 29,
   "id": "e491ca2a",
   "metadata": {},
   "outputs": [
    {
     "data": {
      "text/latex": [
       "$\\displaystyle \\left(-\\frac{{\\left(t \\sin\\left(t\\right) - \\cos\\left(t\\right)\\right)} t}{t^{2} + 2},\\,\\frac{{\\left(t \\cos\\left(t\\right) + \\sin\\left(t\\right)\\right)} t}{t^{2} + 2},\\,\\frac{t}{t^{2} + 2}\\right)$"
      ],
      "text/plain": [
       "<IPython.core.display.Math object>"
      ]
     },
     "metadata": {},
     "output_type": "display_data"
    }
   ],
   "source": [
    "disp(w_parallel * tau(t))"
   ]
  },
  {
   "cell_type": "markdown",
   "id": "a347ab19",
   "metadata": {},
   "source": [
    "$\\vec{w_{\\perp}} = \\vec{w} - \\vec{w_{\\parallel}}$"
   ]
  },
  {
   "cell_type": "code",
   "execution_count": 30,
   "id": "071b8cb1",
   "metadata": {},
   "outputs": [],
   "source": [
    "w_perp = lambda t : w(t) - w_parallel * tau(t)"
   ]
  },
  {
   "cell_type": "code",
   "execution_count": 31,
   "id": "81122eac",
   "metadata": {},
   "outputs": [
    {
     "data": {
      "text/latex": [
       "$\\displaystyle \\left(-t \\cos\\left(t\\right) + \\frac{{\\left(t \\sin\\left(t\\right) - \\cos\\left(t\\right)\\right)} t}{t^{2} + 2} - 2 \\, \\sin\\left(t\\right),\\,-t \\sin\\left(t\\right) - \\frac{{\\left(t \\cos\\left(t\\right) + \\sin\\left(t\\right)\\right)} t}{t^{2} + 2} + 2 \\, \\cos\\left(t\\right),\\,-\\frac{t}{t^{2} + 2}\\right)$"
      ],
      "text/plain": [
       "<IPython.core.display.Math object>"
      ]
     },
     "metadata": {},
     "output_type": "display_data"
    }
   ],
   "source": [
    "disp(w_perp(t))"
   ]
  },
  {
   "cell_type": "code",
   "execution_count": 32,
   "id": "2441d5ec",
   "metadata": {},
   "outputs": [
    {
     "data": {
      "text/latex": [
       "$\\displaystyle \\sqrt{{\\left(t \\cos\\left(t\\right) - \\frac{{\\left(t \\sin\\left(t\\right) - \\cos\\left(t\\right)\\right)} t}{t^{2} + 2} + 2 \\, \\sin\\left(t\\right)\\right)}^{2} + {\\left(t \\sin\\left(t\\right) + \\frac{{\\left(t \\cos\\left(t\\right) + \\sin\\left(t\\right)\\right)} t}{t^{2} + 2} - 2 \\, \\cos\\left(t\\right)\\right)}^{2} + \\frac{t^{2}}{{\\left(t^{2} + 2\\right)}^{2}}}$"
      ],
      "text/plain": [
       "<IPython.core.display.Math object>"
      ]
     },
     "metadata": {},
     "output_type": "display_data"
    }
   ],
   "source": [
    "disp(w_perp(t).norm())"
   ]
  },
  {
   "cell_type": "code",
   "execution_count": 33,
   "id": "1ed0ddfd",
   "metadata": {},
   "outputs": [
    {
     "data": {
      "text/latex": [
       "$\\displaystyle \\sqrt{\\frac{t^{4} + 5 \\, t^{2} + 8}{t^{2} + 2}}$"
      ],
      "text/plain": [
       "<IPython.core.display.Math object>"
      ]
     },
     "metadata": {},
     "output_type": "display_data"
    }
   ],
   "source": [
    "disp(w_perp(t).norm().trig_simplify())"
   ]
  },
  {
   "cell_type": "markdown",
   "id": "a20b1d54",
   "metadata": {},
   "source": [
    "$\\vec{e_{\\perp}} = \\frac {\\vec{w_{\\perp}}}{w_{\\perp}}$"
   ]
  },
  {
   "cell_type": "code",
   "execution_count": 34,
   "id": "8312d337",
   "metadata": {},
   "outputs": [],
   "source": [
    "e_w_perp = lambda t : w_perp(t) / w_perp(t).norm().trig_simplify()"
   ]
  },
  {
   "cell_type": "code",
   "execution_count": 35,
   "id": "a3765542",
   "metadata": {},
   "outputs": [
    {
     "data": {
      "text/latex": [
       "$\\displaystyle \\left(-\\frac{t \\cos\\left(t\\right) - \\frac{{\\left(t \\sin\\left(t\\right) - \\cos\\left(t\\right)\\right)} t}{t^{2} + 2} + 2 \\, \\sin\\left(t\\right)}{\\sqrt{\\frac{t^{4} + 5 \\, t^{2} + 8}{t^{2} + 2}}},\\,-\\frac{t \\sin\\left(t\\right) + \\frac{{\\left(t \\cos\\left(t\\right) + \\sin\\left(t\\right)\\right)} t}{t^{2} + 2} - 2 \\, \\cos\\left(t\\right)}{\\sqrt{\\frac{t^{4} + 5 \\, t^{2} + 8}{t^{2} + 2}}},\\,-\\frac{t}{{\\left(t^{2} + 2\\right)} \\sqrt{\\frac{t^{4} + 5 \\, t^{2} + 8}{t^{2} + 2}}}\\right)$"
      ],
      "text/plain": [
       "<IPython.core.display.Math object>"
      ]
     },
     "metadata": {},
     "output_type": "display_data"
    }
   ],
   "source": [
    "disp(e_w_perp(t))"
   ]
  },
  {
   "cell_type": "markdown",
   "id": "73d0da23",
   "metadata": {},
   "source": [
    "Параметричне рівняння дотичної:"
   ]
  },
  {
   "cell_type": "code",
   "execution_count": 36,
   "id": "a7f690e0",
   "metadata": {},
   "outputs": [
    {
     "data": {
      "text/latex": [
       "$\\displaystyle x = -\\pi + {\\left(\\pi - t\\right)} {\\left(t \\sin\\left(t\\right) - \\cos\\left(t\\right)\\right)}$"
      ],
      "text/plain": [
       "<IPython.core.display.Math object>"
      ]
     },
     "metadata": {},
     "output_type": "display_data"
    },
    {
     "data": {
      "text/latex": [
       "$\\displaystyle y = -{\\left(\\pi - t\\right)} {\\left(t \\cos\\left(t\\right) + \\sin\\left(t\\right)\\right)}$"
      ],
      "text/plain": [
       "<IPython.core.display.Math object>"
      ]
     },
     "metadata": {},
     "output_type": "display_data"
    },
    {
     "data": {
      "text/latex": [
       "$\\displaystyle z = t$"
      ],
      "text/plain": [
       "<IPython.core.display.Math object>"
      ]
     },
     "metadata": {},
     "output_type": "display_data"
    }
   ],
   "source": [
    "for i in range(3):\n",
    "    disp(r[i] == (R(t_0) + v(t)*(t-t_0))[i])"
   ]
  },
  {
   "cell_type": "markdown",
   "id": "73f3ee89",
   "metadata": {},
   "source": [
    "Канонічне рівняння дотичної:"
   ]
  },
  {
   "cell_type": "code",
   "execution_count": 37,
   "id": "d1b07137",
   "metadata": {},
   "outputs": [
    {
     "data": {
      "text/latex": [
       "$\\displaystyle -\\pi - x = -\\frac{y}{\\pi}$"
      ],
      "text/plain": [
       "<IPython.core.display.Math object>"
      ]
     },
     "metadata": {},
     "output_type": "display_data"
    },
    {
     "data": {
      "text/latex": [
       "$\\displaystyle -\\frac{y}{\\pi} = -\\pi + z$"
      ],
      "text/plain": [
       "<IPython.core.display.Math object>"
      ]
     },
     "metadata": {},
     "output_type": "display_data"
    }
   ],
   "source": [
    "disp(\n",
    "    (r-R(t_0))[0]/v(t_0)[0] == \\\n",
    "    (r-R(t_0))[1]/v(t_0)[1]),\n",
    "disp(\n",
    "    (r-R(t_0))[1]/v(t_0)[1] == \\\n",
    "    (r-R(t_0))[2]/v(t_0)[2])"
   ]
  },
  {
   "cell_type": "markdown",
   "id": "191d40e4",
   "metadata": {},
   "source": [
    "Площина, що проходить через точку M ортогонально до дотичної, називається нормальною площиною до кривої."
   ]
  },
  {
   "cell_type": "markdown",
   "id": "7738f440",
   "metadata": {},
   "source": [
    "Рівняння нормальної площини:"
   ]
  },
  {
   "cell_type": "code",
   "execution_count": 38,
   "id": "260d3797",
   "metadata": {},
   "outputs": [
    {
     "data": {
      "text/latex": [
       "$\\displaystyle -2 \\, \\pi - \\pi y - x + z = 0$"
      ],
      "text/plain": [
       "<IPython.core.display.Math object>"
      ]
     },
     "metadata": {},
     "output_type": "display_data"
    }
   ],
   "source": [
    "disp((r-R(t_0)).dot_product(v(t_0)) == 0)"
   ]
  },
  {
   "cell_type": "markdown",
   "id": "de9e0f41",
   "metadata": {},
   "source": [
    "Головною нормаллю $\\vec{\\nu}$ просторової кривої в даній точці називається та нормаль, яка лежить у стичній площині. Бінормаллю $\\vec{\\beta}$ називається та нормаль, яка перпендикулярна стичній площини."
   ]
  },
  {
   "cell_type": "markdown",
   "id": "01560278",
   "metadata": {},
   "source": [
    "З означення бінормалі випливає, що напрямок $\\vec{\\beta}$ визначається вектором"
   ]
  },
  {
   "cell_type": "code",
   "execution_count": 39,
   "id": "a39d7c36",
   "metadata": {},
   "outputs": [],
   "source": [
    "binormal = lambda t : v(t).cross_product(w(t))"
   ]
  },
  {
   "cell_type": "code",
   "execution_count": 40,
   "id": "b1ecbeaa",
   "metadata": {},
   "outputs": [
    {
     "data": {
      "text/latex": [
       "$\\displaystyle 2$"
      ],
      "text/plain": [
       "<IPython.core.display.Math object>"
      ]
     },
     "metadata": {},
     "output_type": "display_data"
    },
    {
     "data": {
      "text/latex": [
       "$\\displaystyle \\pi$"
      ],
      "text/plain": [
       "<IPython.core.display.Math object>"
      ]
     },
     "metadata": {},
     "output_type": "display_data"
    },
    {
     "data": {
      "text/latex": [
       "$\\displaystyle \\pi^{2} + 2$"
      ],
      "text/plain": [
       "<IPython.core.display.Math object>"
      ]
     },
     "metadata": {},
     "output_type": "display_data"
    }
   ],
   "source": [
    "disp(binormal(t_0)[0])\n",
    "disp(binormal(t_0)[1])\n",
    "disp(binormal(t_0)[2])"
   ]
  },
  {
   "cell_type": "code",
   "execution_count": 41,
   "id": "f1079c6a",
   "metadata": {},
   "outputs": [],
   "source": [
    "beta = lambda t : binormal(t) / binormal(t).norm().full_simplify()"
   ]
  },
  {
   "cell_type": "code",
   "execution_count": 42,
   "id": "ceee8fd3",
   "metadata": {},
   "outputs": [
    {
     "data": {
      "text/latex": [
       "$\\displaystyle \\frac{2}{\\sqrt{\\pi^{4} + 5 \\, \\pi^{2} + 8}}$"
      ],
      "text/plain": [
       "<IPython.core.display.Math object>"
      ]
     },
     "metadata": {},
     "output_type": "display_data"
    },
    {
     "data": {
      "text/latex": [
       "$\\displaystyle \\frac{\\pi}{\\sqrt{\\pi^{4} + 5 \\, \\pi^{2} + 8}}$"
      ],
      "text/plain": [
       "<IPython.core.display.Math object>"
      ]
     },
     "metadata": {},
     "output_type": "display_data"
    },
    {
     "data": {
      "text/latex": [
       "$\\displaystyle \\frac{\\pi^{2} + 2}{\\sqrt{\\pi^{4} + 5 \\, \\pi^{2} + 8}}$"
      ],
      "text/plain": [
       "<IPython.core.display.Math object>"
      ]
     },
     "metadata": {},
     "output_type": "display_data"
    }
   ],
   "source": [
    "disp(beta(t_0)[0])\n",
    "disp(beta(t_0)[1])\n",
    "disp(beta(t_0)[2])"
   ]
  },
  {
   "cell_type": "markdown",
   "id": "85de231b",
   "metadata": {},
   "source": [
    "Канонічне рівняння бінормалі:"
   ]
  },
  {
   "cell_type": "code",
   "execution_count": 43,
   "id": "fb0371cc",
   "metadata": {},
   "outputs": [
    {
     "data": {
      "text/latex": [
       "$\\displaystyle \\frac{1}{2} \\, \\pi + \\frac{1}{2} \\, x = \\frac{y}{\\pi}$"
      ],
      "text/plain": [
       "<IPython.core.display.Math object>"
      ]
     },
     "metadata": {},
     "output_type": "display_data"
    },
    {
     "data": {
      "text/latex": [
       "$\\displaystyle \\frac{y}{\\pi} = -\\frac{\\pi - z}{\\pi^{2} + 2}$"
      ],
      "text/plain": [
       "<IPython.core.display.Math object>"
      ]
     },
     "metadata": {},
     "output_type": "display_data"
    }
   ],
   "source": [
    "disp(\n",
    "    (r-R(t_0))[0]/binormal(t_0)[0] == \\\n",
    "    (r-R(t_0))[1]/binormal(t_0)[1]),\n",
    "disp(\n",
    "    (r-R(t_0))[1]/binormal(t_0)[1] == \\\n",
    "    (r-R(t_0))[2]/binormal(t_0)[2])"
   ]
  },
  {
   "cell_type": "code",
   "execution_count": 44,
   "id": "211f32a6",
   "metadata": {},
   "outputs": [
    {
     "data": {
      "text/latex": [
       "$\\displaystyle \\frac{1}{2} \\, {\\left(\\pi + x\\right)} \\sqrt{\\pi^{4} + 5 \\, \\pi^{2} + 8} = \\frac{\\sqrt{\\pi^{4} + 5 \\, \\pi^{2} + 8} y}{\\pi}$"
      ],
      "text/plain": [
       "<IPython.core.display.Math object>"
      ]
     },
     "metadata": {},
     "output_type": "display_data"
    },
    {
     "data": {
      "text/latex": [
       "$\\displaystyle \\frac{\\sqrt{\\pi^{4} + 5 \\, \\pi^{2} + 8} y}{\\pi} = -\\frac{{\\left(\\pi - z\\right)} \\sqrt{\\pi^{4} + 5 \\, \\pi^{2} + 8}}{\\pi^{2} + 2}$"
      ],
      "text/plain": [
       "<IPython.core.display.Math object>"
      ]
     },
     "metadata": {},
     "output_type": "display_data"
    }
   ],
   "source": [
    "disp(\n",
    "    (r-R(t_0))[0]/beta(t_0)[0] == \\\n",
    "    (r-R(t_0))[1]/beta(t_0)[1]),\n",
    "disp(\n",
    "    (r-R(t_0))[1]/beta(t_0)[1] == \\\n",
    "    (r-R(t_0))[2]/beta(t_0)[2])"
   ]
  },
  {
   "cell_type": "markdown",
   "id": "53d8e74b",
   "metadata": {},
   "source": [
    "Рівняння стичної площини"
   ]
  },
  {
   "cell_type": "code",
   "execution_count": 45,
   "id": "60e21887",
   "metadata": {},
   "outputs": [
    {
     "data": {
      "text/latex": [
       "$\\displaystyle -\\frac{\\pi^{3} - \\pi y - {\\left(\\pi^{2} + 2\\right)} z - 2 \\, x}{\\sqrt{\\pi^{4} + 5 \\, \\pi^{2} + 8}} = 0$"
      ],
      "text/plain": [
       "<IPython.core.display.Math object>"
      ]
     },
     "metadata": {},
     "output_type": "display_data"
    }
   ],
   "source": [
    "disp((r-R(t_0)).dot_product(beta(t_0)).trig_simplify() == 0)"
   ]
  },
  {
   "cell_type": "markdown",
   "id": "7818e6e0",
   "metadata": {},
   "source": [
    "В свою чергу напрямок головної нормалі $\\vec{v}$ визначається вектором"
   ]
  },
  {
   "cell_type": "code",
   "execution_count": 46,
   "id": "75680e2c",
   "metadata": {},
   "outputs": [],
   "source": [
    "main_normal = lambda t : binormal(t).cross_product(v(t))"
   ]
  },
  {
   "cell_type": "code",
   "execution_count": 47,
   "id": "28ed4b25",
   "metadata": {},
   "outputs": [
    {
     "data": {
      "text/latex": [
       "$\\displaystyle \\pi + \\pi {\\left(\\pi^{2} + 2\\right)}$"
      ],
      "text/plain": [
       "<IPython.core.display.Math object>"
      ]
     },
     "metadata": {},
     "output_type": "display_data"
    },
    {
     "data": {
      "text/latex": [
       "$\\displaystyle -\\pi^{2} - 4$"
      ],
      "text/plain": [
       "<IPython.core.display.Math object>"
      ]
     },
     "metadata": {},
     "output_type": "display_data"
    },
    {
     "data": {
      "text/latex": [
       "$\\displaystyle -\\pi$"
      ],
      "text/plain": [
       "<IPython.core.display.Math object>"
      ]
     },
     "metadata": {},
     "output_type": "display_data"
    }
   ],
   "source": [
    "disp(main_normal(t_0)[0])\n",
    "disp(main_normal(t_0)[1])\n",
    "disp(main_normal(t_0)[2])"
   ]
  },
  {
   "cell_type": "code",
   "execution_count": 48,
   "id": "bab6b41c",
   "metadata": {},
   "outputs": [],
   "source": [
    "nu = lambda t : main_normal(t)/main_normal(t).norm()"
   ]
  },
  {
   "cell_type": "code",
   "execution_count": 49,
   "id": "52692936",
   "metadata": {},
   "outputs": [
    {
     "data": {
      "text/latex": [
       "$\\displaystyle \\frac{\\pi + \\pi {\\left(\\pi^{2} + 2\\right)}}{\\sqrt{\\pi^{2} + {\\left(\\pi + \\pi {\\left(\\pi^{2} + 2\\right)}\\right)}^{2} + {\\left(\\pi^{2} + 4\\right)}^{2}}}$"
      ],
      "text/plain": [
       "<IPython.core.display.Math object>"
      ]
     },
     "metadata": {},
     "output_type": "display_data"
    },
    {
     "data": {
      "text/latex": [
       "$\\displaystyle -\\frac{\\pi^{2} + 4}{\\sqrt{\\pi^{2} + {\\left(\\pi + \\pi {\\left(\\pi^{2} + 2\\right)}\\right)}^{2} + {\\left(\\pi^{2} + 4\\right)}^{2}}}$"
      ],
      "text/plain": [
       "<IPython.core.display.Math object>"
      ]
     },
     "metadata": {},
     "output_type": "display_data"
    },
    {
     "data": {
      "text/latex": [
       "$\\displaystyle -\\frac{\\pi}{\\sqrt{\\pi^{2} + {\\left(\\pi + \\pi {\\left(\\pi^{2} + 2\\right)}\\right)}^{2} + {\\left(\\pi^{2} + 4\\right)}^{2}}}$"
      ],
      "text/plain": [
       "<IPython.core.display.Math object>"
      ]
     },
     "metadata": {},
     "output_type": "display_data"
    }
   ],
   "source": [
    "disp(nu(t_0)[0])\n",
    "disp(nu(t_0)[1])\n",
    "disp(nu(t_0)[2])"
   ]
  },
  {
   "cell_type": "markdown",
   "id": "df28acf5",
   "metadata": {},
   "source": [
    "Рівняння головної нормалі"
   ]
  },
  {
   "cell_type": "code",
   "execution_count": 50,
   "id": "572b1e54",
   "metadata": {},
   "outputs": [
    {
     "data": {
      "text/latex": [
       "$\\displaystyle \\frac{\\pi + x}{\\pi + \\pi {\\left(\\pi^{2} + 2\\right)}} = -\\frac{y}{\\pi^{2} + 4}$"
      ],
      "text/plain": [
       "<IPython.core.display.Math object>"
      ]
     },
     "metadata": {},
     "output_type": "display_data"
    }
   ],
   "source": [
    "disp(\n",
    "    (r-R(t_0))[0]/main_normal(t_0)[0] == \\\n",
    "    (r-R(t_0))[1]/main_normal(t_0)[1]),\n",
    "try:\n",
    "    (\n",
    "    (r-R(t_0))[1]/main_normal(t_0)[1] == \\\n",
    "    (r-R(t_0))[2]/main_normal(t_0)[2])\n",
    "except Exception as ex:\n",
    "    print (ex)\n",
    "    "
   ]
  },
  {
   "cell_type": "code",
   "execution_count": null,
   "id": "c0ddd346",
   "metadata": {},
   "outputs": [],
   "source": []
  }
 ],
 "metadata": {
  "kernelspec": {
   "display_name": "SageMath 9.6.beta7",
   "language": "sage",
   "name": "sagemath"
  },
  "language_info": {
   "codemirror_mode": {
    "name": "ipython",
    "version": 3
   },
   "file_extension": ".py",
   "mimetype": "text/x-python",
   "name": "python",
   "nbconvert_exporter": "python",
   "pygments_lexer": "ipython3",
   "version": "3.10.3"
  }
 },
 "nbformat": 4,
 "nbformat_minor": 5
}

{
 "cells": [
  {
   "cell_type": "markdown",
   "id": "c675cd10",
   "metadata": {},
   "source": [
    "1.4. Перевірити, що крива L має в кожній точці одну і ту ж стичну площину. Показати, що крива\n",
    "лежить у цій площині"
   ]
  },
  {
   "cell_type": "code",
   "execution_count": 1,
   "id": "08379a16",
   "metadata": {},
   "outputs": [],
   "source": [
    "from IPython.display import display, Math, Latex\n",
    "\n",
    "def disp(ex):\n",
    "    display(Math(latex(ex)))"
   ]
  },
  {
   "cell_type": "code",
   "execution_count": 2,
   "id": "99482ce4",
   "metadata": {},
   "outputs": [],
   "source": [
    "t, x, y, z = var(\"t, x, y, z\")\n",
    "a,b = var(\"a,b\")\n",
    "assume(t, \"real\")\n",
    "assume(t > 0)\n",
    "X = lambda t : a*cos(t)+b\n",
    "Y = lambda t : b*sin(t)+a\n",
    "Z = lambda t : b*cos(t)+a*sin(t)"
   ]
  },
  {
   "cell_type": "code",
   "execution_count": 3,
   "id": "4b804737",
   "metadata": {},
   "outputs": [
    {
     "data": {
      "text/latex": [
       "$\\displaystyle \\left(x,\\,y,\\,z\\right)$"
      ],
      "text/plain": [
       "<IPython.core.display.Math object>"
      ]
     },
     "metadata": {},
     "output_type": "display_data"
    }
   ],
   "source": [
    "r = vector([var(\"x\"),var(\"y\"),var(\"z\")])\n",
    "disp(r)"
   ]
  },
  {
   "cell_type": "code",
   "execution_count": 4,
   "id": "87c12021",
   "metadata": {},
   "outputs": [
    {
     "data": {
      "text/latex": [
       "$\\displaystyle \\left(a \\cos\\left(t\\right) + b,\\,b \\sin\\left(t\\right) + a,\\,b \\cos\\left(t\\right) + a \\sin\\left(t\\right)\\right)$"
      ],
      "text/plain": [
       "<IPython.core.display.Math object>"
      ]
     },
     "metadata": {},
     "output_type": "display_data"
    }
   ],
   "source": [
    "R = lambda t : vector([X(t),Y(t),Z(t)])\n",
    "disp(R(t))"
   ]
  },
  {
   "cell_type": "markdown",
   "id": "92fe6835",
   "metadata": {},
   "source": [
    "$\\vec{r'}\\left(t\\right)=\\left(\\begin{array}{l}\n",
    "    x'(t) \\\\\n",
    "    y'(t) \\\\\n",
    "    z'(t) \\\\\n",
    "\\end{array}\\right)$"
   ]
  },
  {
   "cell_type": "code",
   "execution_count": 5,
   "id": "44697968",
   "metadata": {},
   "outputs": [],
   "source": [
    "exec(preparse(\"v = lambda t : vector(\" + str(R(t).diff(t)) + \")\"))\n",
    "exec(preparse(\"w = lambda t : vector(\" + str(R(t).diff(t,2)) + \")\"))"
   ]
  },
  {
   "cell_type": "code",
   "execution_count": 6,
   "id": "22208e84",
   "metadata": {},
   "outputs": [
    {
     "data": {
      "text/latex": [
       "$\\displaystyle \\left(-a \\sin\\left(t\\right),\\,b \\cos\\left(t\\right),\\,a \\cos\\left(t\\right) - b \\sin\\left(t\\right)\\right)$"
      ],
      "text/plain": [
       "<IPython.core.display.Math object>"
      ]
     },
     "metadata": {},
     "output_type": "display_data"
    }
   ],
   "source": [
    "disp(v(t))"
   ]
  },
  {
   "cell_type": "markdown",
   "id": "56b210fb",
   "metadata": {},
   "source": [
    "Знайдемо величину та напрямок швидкості"
   ]
  },
  {
   "cell_type": "code",
   "execution_count": 7,
   "id": "7a57e750",
   "metadata": {},
   "outputs": [
    {
     "data": {
      "text/latex": [
       "$\\displaystyle \\sqrt{{\\left| a \\cos\\left(t\\right) - b \\sin\\left(t\\right) \\right|}^{2} + {\\left| b \\cos\\left(t\\right) \\right|}^{2} + {\\left| a \\sin\\left(t\\right) \\right|}^{2}}$"
      ],
      "text/plain": [
       "<IPython.core.display.Math object>"
      ]
     },
     "metadata": {},
     "output_type": "display_data"
    }
   ],
   "source": [
    "disp(v(t).norm())"
   ]
  },
  {
   "cell_type": "code",
   "execution_count": 8,
   "id": "1a57feea",
   "metadata": {},
   "outputs": [
    {
     "data": {
      "text/latex": [
       "$\\displaystyle \\sqrt{-2 \\, a b \\cos\\left(t\\right) \\sin\\left(t\\right) + a^{2} + b^{2}}$"
      ],
      "text/plain": [
       "<IPython.core.display.Math object>"
      ]
     },
     "metadata": {},
     "output_type": "display_data"
    }
   ],
   "source": [
    "disp(v(t).norm().trig_simplify())"
   ]
  },
  {
   "cell_type": "code",
   "execution_count": 9,
   "id": "79b62503",
   "metadata": {},
   "outputs": [
    {
     "data": {
      "text/latex": [
       "$\\displaystyle \\sqrt{-2 \\, a b \\cos\\left(t\\right) \\sin\\left(t\\right) + a^{2} + b^{2}}$"
      ],
      "text/plain": [
       "<IPython.core.display.Math object>"
      ]
     },
     "metadata": {},
     "output_type": "display_data"
    }
   ],
   "source": [
    "# величина швидкості\n",
    "V = lambda t : v(t).norm().trig_simplify()\n",
    "disp(V(t))"
   ]
  },
  {
   "cell_type": "code",
   "execution_count": 10,
   "id": "fb05112e",
   "metadata": {},
   "outputs": [],
   "source": [
    "# напрямок швидкості, вона ж напрямок дотичної\n",
    "tau = lambda t : v(t) / V(t)"
   ]
  },
  {
   "cell_type": "code",
   "execution_count": 11,
   "id": "48d02049",
   "metadata": {},
   "outputs": [
    {
     "data": {
      "text/latex": [
       "$\\displaystyle \\left(-\\frac{a \\sin\\left(t\\right)}{\\sqrt{-2 \\, a b \\cos\\left(t\\right) \\sin\\left(t\\right) + a^{2} + b^{2}}},\\,\\frac{b \\cos\\left(t\\right)}{\\sqrt{-2 \\, a b \\cos\\left(t\\right) \\sin\\left(t\\right) + a^{2} + b^{2}}},\\,\\frac{a \\cos\\left(t\\right) - b \\sin\\left(t\\right)}{\\sqrt{-2 \\, a b \\cos\\left(t\\right) \\sin\\left(t\\right) + a^{2} + b^{2}}}\\right)$"
      ],
      "text/plain": [
       "<IPython.core.display.Math object>"
      ]
     },
     "metadata": {},
     "output_type": "display_data"
    }
   ],
   "source": [
    "disp(tau(t))"
   ]
  },
  {
   "cell_type": "markdown",
   "id": "fd308017",
   "metadata": {},
   "source": [
    "Знайдемо величину та напрямок прискорення"
   ]
  },
  {
   "cell_type": "code",
   "execution_count": 12,
   "id": "1d0bf571",
   "metadata": {},
   "outputs": [
    {
     "data": {
      "text/latex": [
       "$\\displaystyle \\left(-a \\cos\\left(t\\right),\\,-b \\sin\\left(t\\right),\\,-b \\cos\\left(t\\right) - a \\sin\\left(t\\right)\\right)$"
      ],
      "text/plain": [
       "<IPython.core.display.Math object>"
      ]
     },
     "metadata": {},
     "output_type": "display_data"
    }
   ],
   "source": [
    "disp(w(t))"
   ]
  },
  {
   "cell_type": "code",
   "execution_count": 13,
   "id": "4b0e151b",
   "metadata": {},
   "outputs": [],
   "source": [
    "# величина прискорення\n",
    "W_simp = lambda t : w(t).norm().trig_simplify()\n",
    "W = lambda t : w(t).norm()"
   ]
  },
  {
   "cell_type": "code",
   "execution_count": 14,
   "id": "afd36537",
   "metadata": {},
   "outputs": [
    {
     "data": {
      "text/latex": [
       "$\\displaystyle \\sqrt{{\\left| a \\cos\\left(t\\right) \\right|}^{2} + {\\left| -b \\cos\\left(t\\right) - a \\sin\\left(t\\right) \\right|}^{2} + {\\left| b \\sin\\left(t\\right) \\right|}^{2}}$"
      ],
      "text/plain": [
       "<IPython.core.display.Math object>"
      ]
     },
     "metadata": {},
     "output_type": "display_data"
    }
   ],
   "source": [
    "disp(W(t))"
   ]
  },
  {
   "cell_type": "code",
   "execution_count": 15,
   "id": "d4e988df",
   "metadata": {},
   "outputs": [
    {
     "data": {
      "text/latex": [
       "$\\displaystyle \\sqrt{2 \\, a b \\cos\\left(t\\right) \\sin\\left(t\\right) + a^{2} + b^{2}}$"
      ],
      "text/plain": [
       "<IPython.core.display.Math object>"
      ]
     },
     "metadata": {},
     "output_type": "display_data"
    }
   ],
   "source": [
    "disp(W_simp(t))"
   ]
  },
  {
   "cell_type": "code",
   "execution_count": 16,
   "id": "4ef1e60d",
   "metadata": {},
   "outputs": [],
   "source": [
    "# напрямок прискорення\n",
    "e_w = lambda t : w(t) / W(t)\n",
    "e_w_simp = lambda t : w(t) / W_simp(t)"
   ]
  },
  {
   "cell_type": "code",
   "execution_count": 17,
   "id": "aa43291b",
   "metadata": {},
   "outputs": [
    {
     "data": {
      "text/latex": [
       "$\\displaystyle \\left(-\\frac{a \\cos\\left(t\\right)}{\\sqrt{2 \\, a b \\cos\\left(t\\right) \\sin\\left(t\\right) + a^{2} + b^{2}}},\\,-\\frac{b \\sin\\left(t\\right)}{\\sqrt{2 \\, a b \\cos\\left(t\\right) \\sin\\left(t\\right) + a^{2} + b^{2}}},\\,-\\frac{b \\cos\\left(t\\right) + a \\sin\\left(t\\right)}{\\sqrt{2 \\, a b \\cos\\left(t\\right) \\sin\\left(t\\right) + a^{2} + b^{2}}}\\right)$"
      ],
      "text/plain": [
       "<IPython.core.display.Math object>"
      ]
     },
     "metadata": {},
     "output_type": "display_data"
    }
   ],
   "source": [
    "disp(e_w_simp(t))"
   ]
  },
  {
   "cell_type": "markdown",
   "id": "98e12a9f",
   "metadata": {},
   "source": [
    "Розкладемо прискорення $\\vec{w}$ на дотичну $\\vec{w_{\\parallel}}$ $\\parallel$ $\\vec{e_v}$ і нормальну $\\vec{w_{\\perp}}$ $\\perp$ $\\vec{e_v}$ складові"
   ]
  },
  {
   "cell_type": "markdown",
   "id": "071e681b",
   "metadata": {},
   "source": [
    "$\\vec{w} = \\vec{w_{\\parallel}} + \\vec{w_{\\perp}} = w_{\\parallel} \\cdot \\vec{e_{\\parallel}} + w_{\\perp} \\cdot \\vec{e_{\\perp}}$"
   ]
  },
  {
   "cell_type": "markdown",
   "id": "52fd7789",
   "metadata": {},
   "source": [
    "$\\vec{e_{\\parallel}} = \\vec{e_{v}} = \\vec{\\tau}$"
   ]
  },
  {
   "cell_type": "markdown",
   "id": "de9e0f41",
   "metadata": {},
   "source": [
    "Головною нормаллю $\\vec{\\nu}$ просторової кривої в даній точці називається та нормаль, яка лежить у стичній площині. Бінормаллю $\\vec{\\beta}$ називається та нормаль, яка перпендикулярна стичній площини."
   ]
  },
  {
   "cell_type": "markdown",
   "id": "01560278",
   "metadata": {},
   "source": [
    "З означення бінормалі випливає, що напрямок $\\vec{\\beta}$ визначається вектором"
   ]
  },
  {
   "cell_type": "code",
   "execution_count": 18,
   "id": "a39d7c36",
   "metadata": {},
   "outputs": [],
   "source": [
    "binormal = lambda t : v(t).cross_product(w(t))"
   ]
  },
  {
   "cell_type": "code",
   "execution_count": 19,
   "id": "b1ecbeaa",
   "metadata": {},
   "outputs": [
    {
     "data": {
      "text/latex": [
       "$\\displaystyle -b^{2}$"
      ],
      "text/plain": [
       "<IPython.core.display.Math object>"
      ]
     },
     "metadata": {},
     "output_type": "display_data"
    },
    {
     "data": {
      "text/latex": [
       "$\\displaystyle -a^{2}$"
      ],
      "text/plain": [
       "<IPython.core.display.Math object>"
      ]
     },
     "metadata": {},
     "output_type": "display_data"
    },
    {
     "data": {
      "text/latex": [
       "$\\displaystyle a b$"
      ],
      "text/plain": [
       "<IPython.core.display.Math object>"
      ]
     },
     "metadata": {},
     "output_type": "display_data"
    }
   ],
   "source": [
    "disp(binormal(t)[0].trig_simplify())\n",
    "disp(binormal(t)[1].trig_simplify())\n",
    "disp(binormal(t)[2].trig_simplify())"
   ]
  },
  {
   "cell_type": "code",
   "execution_count": 20,
   "id": "f1079c6a",
   "metadata": {},
   "outputs": [],
   "source": [
    "beta = lambda t : binormal(t) / binormal(t).norm().full_simplify()"
   ]
  },
  {
   "cell_type": "code",
   "execution_count": 21,
   "id": "ceee8fd3",
   "metadata": {},
   "outputs": [
    {
     "data": {
      "text/latex": [
       "$\\displaystyle -\\frac{b^{2}}{\\sqrt{a^{4} + a^{2} b^{2} + b^{4}}}$"
      ],
      "text/plain": [
       "<IPython.core.display.Math object>"
      ]
     },
     "metadata": {},
     "output_type": "display_data"
    },
    {
     "data": {
      "text/latex": [
       "$\\displaystyle -\\frac{a^{2}}{\\sqrt{a^{4} + a^{2} b^{2} + b^{4}}}$"
      ],
      "text/plain": [
       "<IPython.core.display.Math object>"
      ]
     },
     "metadata": {},
     "output_type": "display_data"
    },
    {
     "data": {
      "text/latex": [
       "$\\displaystyle \\frac{a b}{\\sqrt{a^{4} + a^{2} b^{2} + b^{4}}}$"
      ],
      "text/plain": [
       "<IPython.core.display.Math object>"
      ]
     },
     "metadata": {},
     "output_type": "display_data"
    }
   ],
   "source": [
    "disp(beta(t)[0].trig_simplify())\n",
    "disp(beta(t)[1].trig_simplify())\n",
    "disp(beta(t)[2].trig_simplify())"
   ]
  },
  {
   "cell_type": "markdown",
   "id": "7818e6e0",
   "metadata": {},
   "source": [
    "В свою чергу напрямок головної нормалі $\\vec{v}$ визначається вектором"
   ]
  },
  {
   "cell_type": "code",
   "execution_count": 22,
   "id": "75680e2c",
   "metadata": {},
   "outputs": [],
   "source": [
    "main_normal = lambda t : binormal(t).cross_product(v(t))"
   ]
  },
  {
   "cell_type": "code",
   "execution_count": 23,
   "id": "28ed4b25",
   "metadata": {},
   "outputs": [
    {
     "data": {
      "text/latex": [
       "$\\displaystyle a^{2} b \\sin\\left(t\\right) - {\\left(a^{3} + a b^{2}\\right)} \\cos\\left(t\\right)$"
      ],
      "text/plain": [
       "<IPython.core.display.Math object>"
      ]
     },
     "metadata": {},
     "output_type": "display_data"
    },
    {
     "data": {
      "text/latex": [
       "$\\displaystyle a b^{2} \\cos\\left(t\\right) - {\\left(a^{2} b + b^{3}\\right)} \\sin\\left(t\\right)$"
      ],
      "text/plain": [
       "<IPython.core.display.Math object>"
      ]
     },
     "metadata": {},
     "output_type": "display_data"
    },
    {
     "data": {
      "text/latex": [
       "$\\displaystyle -b^{3} \\cos\\left(t\\right) - a^{3} \\sin\\left(t\\right)$"
      ],
      "text/plain": [
       "<IPython.core.display.Math object>"
      ]
     },
     "metadata": {},
     "output_type": "display_data"
    }
   ],
   "source": [
    "disp(main_normal(t)[0].trig_simplify())\n",
    "disp(main_normal(t)[1].trig_simplify())\n",
    "disp(main_normal(t)[2].trig_simplify())"
   ]
  },
  {
   "cell_type": "code",
   "execution_count": 24,
   "id": "bab6b41c",
   "metadata": {},
   "outputs": [],
   "source": [
    "nu = lambda t : main_normal(t)/main_normal(t).norm()"
   ]
  },
  {
   "cell_type": "code",
   "execution_count": 25,
   "id": "52692936",
   "metadata": {},
   "outputs": [
    {
     "data": {
      "text/latex": [
       "$\\displaystyle \\frac{a^{2} b \\sin\\left(t\\right) - {\\left(a^{3} + a b^{2}\\right)} \\cos\\left(t\\right)}{\\sqrt{a^{6} + 2 \\, a^{4} b^{2} + 2 \\, a^{2} b^{4} + b^{6} - 2 \\, {\\left(a^{5} b + a^{3} b^{3} + a b^{5}\\right)} \\cos\\left(t\\right) \\sin\\left(t\\right)}}$"
      ],
      "text/plain": [
       "<IPython.core.display.Math object>"
      ]
     },
     "metadata": {},
     "output_type": "display_data"
    },
    {
     "data": {
      "text/latex": [
       "$\\displaystyle \\frac{a b^{2} \\cos\\left(t\\right) - {\\left(a^{2} b + b^{3}\\right)} \\sin\\left(t\\right)}{\\sqrt{a^{6} + 2 \\, a^{4} b^{2} + 2 \\, a^{2} b^{4} + b^{6} - 2 \\, {\\left(a^{5} b + a^{3} b^{3} + a b^{5}\\right)} \\cos\\left(t\\right) \\sin\\left(t\\right)}}$"
      ],
      "text/plain": [
       "<IPython.core.display.Math object>"
      ]
     },
     "metadata": {},
     "output_type": "display_data"
    },
    {
     "data": {
      "text/latex": [
       "$\\displaystyle -\\frac{b^{3} \\cos\\left(t\\right) + a^{3} \\sin\\left(t\\right)}{\\sqrt{a^{6} + 2 \\, a^{4} b^{2} + 2 \\, a^{2} b^{4} + b^{6} - 2 \\, {\\left(a^{5} b + a^{3} b^{3} + a b^{5}\\right)} \\cos\\left(t\\right) \\sin\\left(t\\right)}}$"
      ],
      "text/plain": [
       "<IPython.core.display.Math object>"
      ]
     },
     "metadata": {},
     "output_type": "display_data"
    }
   ],
   "source": [
    "disp(nu(t)[0].trig_simplify())\n",
    "disp(nu(t)[1].trig_simplify())\n",
    "disp(nu(t)[2].trig_simplify())"
   ]
  },
  {
   "cell_type": "code",
   "execution_count": null,
   "id": "ae246c1d",
   "metadata": {},
   "outputs": [],
   "source": []
  }
 ],
 "metadata": {
  "kernelspec": {
   "display_name": "SageMath 9.6.beta7",
   "language": "sage",
   "name": "sagemath"
  },
  "language_info": {
   "codemirror_mode": {
    "name": "ipython",
    "version": 3
   },
   "file_extension": ".py",
   "mimetype": "text/x-python",
   "name": "python",
   "nbconvert_exporter": "python",
   "pygments_lexer": "ipython3",
   "version": "3.10.3"
  }
 },
 "nbformat": 4,
 "nbformat_minor": 5
}

{
 "cells": [
  {
   "cell_type": "markdown",
   "id": "e1fb7db7",
   "metadata": {},
   "source": [
    "2. ПРИРОДНА ПАРАМЕТРИЗАЦІЯ"
   ]
  },
  {
   "cell_type": "markdown",
   "id": "7944ccf9",
   "metadata": {},
   "source": [
    "2.3. Дано параметричне рівняння кривої $\\vec{r}(t)$. Перейти до природної параметризації\n",
    "$\\vec{\\rho}(s)$.Побудувати рівняння ребер та граней природного тригранника кривої у випадках a) природної та\n",
    "b) вихідної параметризації"
   ]
  },
  {
   "cell_type": "markdown",
   "id": "815009b5",
   "metadata": {},
   "source": [
    "$L=\\left\\{\\vec{r}\\left(t\\right)=\\left(\\begin{array}{c}\n",
    "    \\frac{3}{2}\\,cos\\,t \\\\\n",
    "    \\frac{3}{2}\\,sin\\,t \\\\\n",
    "    (t+1)^\\frac{3}{2} \\\\\n",
    "\\end{array}\\right)\\right\\}, t_0 = 0$"
   ]
  },
  {
   "cell_type": "markdown",
   "id": "0b93ac70",
   "metadata": {},
   "source": [
    "Спираючись на вихідну параметризацію, побудуємо природну\n",
    "\n",
    "$\\vec{r} = \\vec{r}(t) \\rightarrow \n",
    "s = s(t) = \\int_{0}^t\\left|\\vec{r}'(l)\\right|dl \\rightarrow \n",
    "t = t(s) \\rightarrow\n",
    "\\vec{r}(t(s)) = \\vec{\\rho}(s)$"
   ]
  },
  {
   "cell_type": "markdown",
   "id": "33be37e5",
   "metadata": {},
   "source": [
    "В даному випадку"
   ]
  },
  {
   "cell_type": "code",
   "execution_count": 1,
   "id": "f80258f4",
   "metadata": {},
   "outputs": [],
   "source": [
    "from IPython.display import display, Math, Latex\n",
    "\n",
    "def disp(ex):\n",
    "    display(Math(latex(ex)))\n",
    "    \n",
    "def displ(la):\n",
    "    display(Math(la))"
   ]
  },
  {
   "cell_type": "code",
   "execution_count": 2,
   "id": "acf166fa",
   "metadata": {},
   "outputs": [],
   "source": [
    "t, s, x, y, z, t_0, l = var(\"t, s, x, y, z, t_0, l\")\n",
    "r = vector([var(\"x\"),var(\"y\"),var(\"z\")])\n",
    "assume(t, \"real\")\n",
    "assume(t > 0)\n",
    "assume(s, \"real\")\n",
    "assume(s > 0)\n",
    "X = lambda t : (3/2) * cos(t)\n",
    "Y = lambda t : (3/2) * sin(t)\n",
    "Z = lambda t : (t+1)^(3/2)"
   ]
  },
  {
   "cell_type": "code",
   "execution_count": 3,
   "id": "dffc0e5f",
   "metadata": {},
   "outputs": [],
   "source": [
    "R = lambda t : vector([X(t),Y(t),Z(t)])\n",
    "exec(preparse(\"v = lambda t : vector(\" + str(R(t).diff(t)) + \")\"))\n",
    "exec(preparse(\"w = lambda t : vector(\" + str(R(t).diff(t,2)) + \")\"))"
   ]
  },
  {
   "cell_type": "code",
   "execution_count": 4,
   "id": "8b42fa9a",
   "metadata": {},
   "outputs": [
    {
     "data": {
      "text/latex": [
       "$\\displaystyle -\\frac{3}{2} \\, \\sin\\left(t\\right)$"
      ],
      "text/plain": [
       "<IPython.core.display.Math object>"
      ]
     },
     "metadata": {},
     "output_type": "display_data"
    },
    {
     "data": {
      "text/latex": [
       "$\\displaystyle \\frac{3}{2} \\, \\cos\\left(t\\right)$"
      ],
      "text/plain": [
       "<IPython.core.display.Math object>"
      ]
     },
     "metadata": {},
     "output_type": "display_data"
    },
    {
     "data": {
      "text/latex": [
       "$\\displaystyle \\frac{3}{2} \\, \\sqrt{t + 1}$"
      ],
      "text/plain": [
       "<IPython.core.display.Math object>"
      ]
     },
     "metadata": {},
     "output_type": "display_data"
    }
   ],
   "source": [
    "disp(v(t)[0])\n",
    "disp(v(t)[1])\n",
    "disp(v(t)[2])"
   ]
  },
  {
   "cell_type": "code",
   "execution_count": 5,
   "id": "17510b7a",
   "metadata": {},
   "outputs": [
    {
     "data": {
      "text/latex": [
       "$\\displaystyle -\\frac{3}{2} \\, \\cos\\left(t\\right)$"
      ],
      "text/plain": [
       "<IPython.core.display.Math object>"
      ]
     },
     "metadata": {},
     "output_type": "display_data"
    },
    {
     "data": {
      "text/latex": [
       "$\\displaystyle -\\frac{3}{2} \\, \\sin\\left(t\\right)$"
      ],
      "text/plain": [
       "<IPython.core.display.Math object>"
      ]
     },
     "metadata": {},
     "output_type": "display_data"
    },
    {
     "data": {
      "text/latex": [
       "$\\displaystyle \\frac{3}{4 \\, \\sqrt{t + 1}}$"
      ],
      "text/plain": [
       "<IPython.core.display.Math object>"
      ]
     },
     "metadata": {},
     "output_type": "display_data"
    }
   ],
   "source": [
    "disp(w(t)[0])\n",
    "disp(w(t)[1])\n",
    "disp(w(t)[2])"
   ]
  },
  {
   "cell_type": "markdown",
   "id": "2d049608",
   "metadata": {},
   "source": [
    "Знаходимо $\\left|\\vec{r}'(t)\\right|$"
   ]
  },
  {
   "cell_type": "code",
   "execution_count": 6,
   "id": "7eeb8d45",
   "metadata": {},
   "outputs": [
    {
     "data": {
      "text/latex": [
       "$\\displaystyle \\frac{3}{2} \\, \\sqrt{t + 2}$"
      ],
      "text/plain": [
       "<IPython.core.display.Math object>"
      ]
     },
     "metadata": {},
     "output_type": "display_data"
    }
   ],
   "source": [
    "# величина швидкості\n",
    "V = lambda t : v(t).norm().factor().trig_simplify()\n",
    "disp(V(t))"
   ]
  },
  {
   "cell_type": "markdown",
   "id": "6c6f9687",
   "metadata": {},
   "source": [
    "Знайдемо довжину дуги $s(t)$ (виразимо природний параметр $s$ через початковий $t$)\n",
    "\n",
    "$$s(t) = \\int_{0}^t\\left|\\vec{r}'(l)\\right|dl$$"
   ]
  },
  {
   "cell_type": "code",
   "execution_count": 7,
   "id": "8d6b0fab",
   "metadata": {},
   "outputs": [
    {
     "data": {
      "text/latex": [
       "$\\displaystyle {\\left(t + 2\\right)}^{\\frac{3}{2}} - 2 \\, \\sqrt{2}$"
      ],
      "text/plain": [
       "<IPython.core.display.Math object>"
      ]
     },
     "metadata": {},
     "output_type": "display_data"
    }
   ],
   "source": [
    "S = lambda t : V(l).integrate(l, 0, t)\n",
    "disp(S(t))"
   ]
  },
  {
   "cell_type": "code",
   "execution_count": 8,
   "id": "376bc800",
   "metadata": {},
   "outputs": [
    {
     "data": {
      "text/latex": [
       "$\\displaystyle \\left[t = \\frac{1}{2} \\, {\\left(s + 2 \\, \\sqrt{2}\\right)}^{\\frac{2}{3}} {\\left(-i \\, \\sqrt{3} - 1\\right)} - 2, t = \\frac{1}{2} \\, {\\left(s + 2 \\, \\sqrt{2}\\right)}^{\\frac{2}{3}} {\\left(i \\, \\sqrt{3} - 1\\right)} - 2, t = {\\left(s + 2 \\, \\sqrt{2}\\right)}^{\\frac{2}{3}} - 2\\right]$"
      ],
      "text/plain": [
       "<IPython.core.display.Math object>"
      ]
     },
     "metadata": {},
     "output_type": "display_data"
    }
   ],
   "source": [
    "disp(solve(s == S(t), t))"
   ]
  },
  {
   "cell_type": "markdown",
   "id": "f98557de",
   "metadata": {},
   "source": [
    "Звідси виразимо параметр $t$ через природний $s$"
   ]
  },
  {
   "cell_type": "code",
   "execution_count": 9,
   "id": "65b4f5c8",
   "metadata": {},
   "outputs": [
    {
     "data": {
      "text/latex": [
       "$\\displaystyle {\\left(s + 2 \\, \\sqrt{2}\\right)}^{\\frac{2}{3}} - 2$"
      ],
      "text/plain": [
       "<IPython.core.display.Math object>"
      ]
     },
     "metadata": {},
     "output_type": "display_data"
    }
   ],
   "source": [
    "# ts = lambda s : solve(s == S(t), t)[0].rhs()\n",
    "exec(preparse(\"ts = lambda s : solve(s == \" + str(S(t)) + \", t)[-1].rhs()\"))\n",
    "disp(ts(s))"
   ]
  },
  {
   "cell_type": "markdown",
   "id": "a9f0ba6f",
   "metadata": {},
   "source": [
    "Нарешті, з початкової параметризації отримаємо природну:"
   ]
  },
  {
   "cell_type": "code",
   "execution_count": 10,
   "id": "6ca5bb72",
   "metadata": {},
   "outputs": [
    {
     "data": {
      "text/latex": [
       "$\\displaystyle \\frac{3}{2} \\, \\cos\\left({\\left(s + 2 \\, \\sqrt{2}\\right)}^{\\frac{2}{3}} - 2\\right)$"
      ],
      "text/plain": [
       "<IPython.core.display.Math object>"
      ]
     },
     "metadata": {},
     "output_type": "display_data"
    },
    {
     "data": {
      "text/latex": [
       "$\\displaystyle \\frac{3}{2} \\, \\sin\\left({\\left(s + 2 \\, \\sqrt{2}\\right)}^{\\frac{2}{3}} - 2\\right)$"
      ],
      "text/plain": [
       "<IPython.core.display.Math object>"
      ]
     },
     "metadata": {},
     "output_type": "display_data"
    },
    {
     "data": {
      "text/latex": [
       "$\\displaystyle {\\left({\\left(s + 2 \\, \\sqrt{2}\\right)}^{\\frac{2}{3}} - 1\\right)}^{\\frac{3}{2}}$"
      ],
      "text/plain": [
       "<IPython.core.display.Math object>"
      ]
     },
     "metadata": {},
     "output_type": "display_data"
    }
   ],
   "source": [
    "# rho = lambda s : R(t).subs(t==ts(s))\n",
    "exec(preparse(\"rho = lambda s : vector(\" + str(R(t).subs(t==ts(s))) + \")\" ))\n",
    "disp(rho(s)[0])\n",
    "disp(rho(s)[1])\n",
    "disp(rho(s)[2])"
   ]
  },
  {
   "cell_type": "markdown",
   "id": "aab81228",
   "metadata": {},
   "source": [
    "Отже\n",
    "\n",
    "Знаходимо $\\dot{\\vec{\\rho}}$"
   ]
  },
  {
   "cell_type": "code",
   "execution_count": 11,
   "id": "d9990430",
   "metadata": {},
   "outputs": [
    {
     "data": {
      "text/latex": [
       "$\\displaystyle -\\frac{\\sin\\left({\\left(s + 2 \\, \\sqrt{2}\\right)}^{\\frac{2}{3}} - 2\\right)}{{\\left(s + 2 \\, \\sqrt{2}\\right)}^{\\frac{1}{3}}}$"
      ],
      "text/plain": [
       "<IPython.core.display.Math object>"
      ]
     },
     "metadata": {},
     "output_type": "display_data"
    },
    {
     "data": {
      "text/latex": [
       "$\\displaystyle \\frac{\\cos\\left({\\left(s + 2 \\, \\sqrt{2}\\right)}^{\\frac{2}{3}} - 2\\right)}{{\\left(s + 2 \\, \\sqrt{2}\\right)}^{\\frac{1}{3}}}$"
      ],
      "text/plain": [
       "<IPython.core.display.Math object>"
      ]
     },
     "metadata": {},
     "output_type": "display_data"
    },
    {
     "data": {
      "text/latex": [
       "$\\displaystyle \\frac{\\cos\\left({\\left(s + 2 \\, \\sqrt{2}\\right)}^{\\frac{2}{3}} - 2\\right)}{{\\left(s + 2 \\, \\sqrt{2}\\right)}^{\\frac{1}{3}}}$"
      ],
      "text/plain": [
       "<IPython.core.display.Math object>"
      ]
     },
     "metadata": {},
     "output_type": "display_data"
    }
   ],
   "source": [
    "# dot_rho = lambda s : rho(s).diff(s)\n",
    "exec(preparse(\"dot_rho = lambda s : vector(\" + str(rho(s).diff(s)) + \")\" ))\n",
    "disp(dot_rho(s)[0])\n",
    "disp(dot_rho(s)[1])\n",
    "disp(dot_rho(s)[1])"
   ]
  },
  {
   "cell_type": "markdown",
   "id": "38902488",
   "metadata": {},
   "source": [
    "Знаходимо $\\ddot{\\vec{\\rho}}$"
   ]
  },
  {
   "cell_type": "code",
   "execution_count": 12,
   "id": "2d893be9",
   "metadata": {},
   "outputs": [
    {
     "data": {
      "text/latex": [
       "$\\displaystyle -\\frac{2 \\, \\cos\\left({\\left(s + 2 \\, \\sqrt{2}\\right)}^{\\frac{2}{3}} - 2\\right)}{3 \\, {\\left(s + 2 \\, \\sqrt{2}\\right)}^{\\frac{2}{3}}} + \\frac{\\sin\\left({\\left(s + 2 \\, \\sqrt{2}\\right)}^{\\frac{2}{3}} - 2\\right)}{3 \\, {\\left(s + 2 \\, \\sqrt{2}\\right)}^{\\frac{4}{3}}}$"
      ],
      "text/plain": [
       "<IPython.core.display.Math object>"
      ]
     },
     "metadata": {},
     "output_type": "display_data"
    },
    {
     "data": {
      "text/latex": [
       "$\\displaystyle -\\frac{2 \\, \\sin\\left({\\left(s + 2 \\, \\sqrt{2}\\right)}^{\\frac{2}{3}} - 2\\right)}{3 \\, {\\left(s + 2 \\, \\sqrt{2}\\right)}^{\\frac{2}{3}}} - \\frac{\\cos\\left({\\left(s + 2 \\, \\sqrt{2}\\right)}^{\\frac{2}{3}} - 2\\right)}{3 \\, {\\left(s + 2 \\, \\sqrt{2}\\right)}^{\\frac{4}{3}}}$"
      ],
      "text/plain": [
       "<IPython.core.display.Math object>"
      ]
     },
     "metadata": {},
     "output_type": "display_data"
    },
    {
     "data": {
      "text/latex": [
       "$\\displaystyle -\\frac{\\sqrt{{\\left(s + 2 \\, \\sqrt{2}\\right)}^{\\frac{2}{3}} - 1}}{3 \\, {\\left(s + 2 \\, \\sqrt{2}\\right)}^{\\frac{4}{3}}} + \\frac{1}{3 \\, {\\left(s + 2 \\, \\sqrt{2}\\right)}^{\\frac{2}{3}} \\sqrt{{\\left(s + 2 \\, \\sqrt{2}\\right)}^{\\frac{2}{3}} - 1}}$"
      ],
      "text/plain": [
       "<IPython.core.display.Math object>"
      ]
     },
     "metadata": {},
     "output_type": "display_data"
    }
   ],
   "source": [
    "# ddot_rho = lambda s : rho(s).diff(s, 2)\n",
    "exec(preparse(\"ddot_rho = lambda s : vector(\" + str(rho(s).diff(s, 2)) + \")\" ))\n",
    "disp(ddot_rho(s)[0])\n",
    "disp(ddot_rho(s)[1])\n",
    "disp(ddot_rho(s)[2])"
   ]
  },
  {
   "cell_type": "markdown",
   "id": "40d2f2f5",
   "metadata": {},
   "source": [
    "Переходимо до знаходження ребер та граней природного тригранника у заданій точці використовуючи\n",
    "природну параметризацію."
   ]
  },
  {
   "cell_type": "code",
   "execution_count": 13,
   "id": "49c459d7",
   "metadata": {},
   "outputs": [],
   "source": [
    "t_0 = 0\n",
    "s_0 = 0"
   ]
  },
  {
   "cell_type": "markdown",
   "id": "bb23f95a",
   "metadata": {},
   "source": [
    "$$\\rho_0 = \\vec{\\rho}(s_0)$$"
   ]
  },
  {
   "cell_type": "code",
   "execution_count": 14,
   "id": "2175c59b",
   "metadata": {},
   "outputs": [
    {
     "data": {
      "text/latex": [
       "$\\displaystyle \\left(\\frac{3}{2},\\,0,\\,1\\right)$"
      ],
      "text/plain": [
       "<IPython.core.display.Math object>"
      ]
     },
     "metadata": {},
     "output_type": "display_data"
    }
   ],
   "source": [
    "rho_0      = rho(s_0)\n",
    "disp(rho_0)"
   ]
  },
  {
   "cell_type": "markdown",
   "id": "8217ee8c",
   "metadata": {},
   "source": [
    "$$\\dot{\\vec{\\rho}}(s_0)$$"
   ]
  },
  {
   "cell_type": "code",
   "execution_count": 15,
   "id": "61a73a40",
   "metadata": {},
   "outputs": [
    {
     "data": {
      "text/latex": [
       "$\\displaystyle \\left(0,\\,\\frac{1}{2} \\, \\sqrt{2},\\,\\frac{1}{2} \\, \\sqrt{2}\\right)$"
      ],
      "text/plain": [
       "<IPython.core.display.Math object>"
      ]
     },
     "metadata": {},
     "output_type": "display_data"
    }
   ],
   "source": [
    "dot_rho_0  = dot_rho(s_0)\n",
    "disp(dot_rho_0)"
   ]
  },
  {
   "cell_type": "markdown",
   "id": "78645617",
   "metadata": {},
   "source": [
    "$$\\ddot{\\vec{\\rho}}(s_0)$$"
   ]
  },
  {
   "cell_type": "code",
   "execution_count": 16,
   "id": "af03993b",
   "metadata": {},
   "outputs": [
    {
     "data": {
      "text/latex": [
       "$\\displaystyle \\left(-\\frac{1}{3},\\,-\\frac{1}{12},\\,\\frac{1}{12}\\right)$"
      ],
      "text/plain": [
       "<IPython.core.display.Math object>"
      ]
     },
     "metadata": {},
     "output_type": "display_data"
    }
   ],
   "source": [
    "ddot_rho_0 = ddot_rho(s_0)\n",
    "disp(ddot_rho_0)"
   ]
  },
  {
   "cell_type": "markdown",
   "id": "e30eff3d",
   "metadata": {},
   "source": [
    "Рівняння прямої та площини, які проходять через задану точку\n",
    "\n",
    "Пряма $\\frac{x-x_0}{n_x} = \\frac{y-y_0}{n_y} = \\frac{z-z_0}{n_z}$"
   ]
  },
  {
   "cell_type": "code",
   "execution_count": 17,
   "id": "bae862b7",
   "metadata": {},
   "outputs": [],
   "source": [
    "# Пряма\n",
    "def min_abs_non_zero(n):\n",
    "    ans = None\n",
    "    for v in n:\n",
    "        if v != 0:\n",
    "            if ans is None:\n",
    "                ans = abs(v)\n",
    "            else:\n",
    "                ans = min(ans, abs(v))\n",
    "    return ans\n",
    "    \n",
    "def canonic0(n):\n",
    "    min_n = min_abs_non_zero(n)\n",
    "    try:\n",
    "        displ(\n",
    "            \"\\\\frac{\" + latex ((r-R(t_0))[0]) + \"}{\" + latex((n[0]/min_n).full_simplify()) + \"} =\" +\n",
    "            \"\\\\frac{\" + latex ((r-R(t_0))[1]) + \"}{\" + latex((n[1]/min_n).full_simplify()) + \"} =\" +\n",
    "            \"\\\\frac{\" + latex ((r-R(t_0))[2]) + \"}{\" + latex((n[2]/min_n).full_simplify()) + \"}\")\n",
    "    except:\n",
    "        displ(\n",
    "            \"\\\\frac{\" + latex ((r-R(t_0))[0]) + \"}{\" + latex((n[0]/min_n)) + \"} =\" +\n",
    "            \"\\\\frac{\" + latex ((r-R(t_0))[1]) + \"}{\" + latex((n[1]/min_n)) + \"} =\" +\n",
    "            \"\\\\frac{\" + latex ((r-R(t_0))[2]) + \"}{\" + latex((n[2]/min_n)) + \"}\")\n",
    "\n",
    "def canonic(n):\n",
    "    displ(\n",
    "        latex ((r-R(t_0))[0]/n[0]) + \"=\" +\n",
    "        latex ((r-R(t_0))[1]/n[1]) + \"=\" +\n",
    "        latex ((r-R(t_0))[2]/n[2]) + \"\")"
   ]
  },
  {
   "cell_type": "markdown",
   "id": "28cf413e",
   "metadata": {},
   "source": [
    "Площина $n_x (x-x_0) + n_y (y-y_0) + n_z (z-z_0) = 0$"
   ]
  },
  {
   "cell_type": "code",
   "execution_count": 18,
   "id": "62e72a0c",
   "metadata": {},
   "outputs": [],
   "source": [
    "def plate(n):\n",
    "    return (\n",
    "        n[0] * (r-R(t_0))[0] +\n",
    "        n[1] * (r-R(t_0))[1] +\n",
    "        n[2] * (r-R(t_0))[2] == 0 )\n",
    "\n",
    "def plate0(n):\n",
    "    min_n = min_abs_non_zero(n)\n",
    "    try:\n",
    "        displ (\n",
    "            \"\\\\left(\" + latex((n[0]/min_n).full_simplify()) + \"\\\\right) \\\\cdot \\\\left(\" + latex((r-R(t_0))[0]) + \"\\\\right) + \" +\n",
    "            \"\\\\left(\" + latex((n[1]/min_n).full_simplify()) + \"\\\\right) \\\\cdot \\\\left(\" + latex((r-R(t_0))[1]) + \"\\\\right) + \" +\n",
    "            \"\\\\left(\" + latex((n[2]/min_n).full_simplify()) + \"\\\\right) \\\\cdot \\\\left(\" + latex((r-R(t_0))[2]) + \"\\\\right) = 0\" )\n",
    "    except:\n",
    "        displ (\n",
    "            \"\\\\left(\" + latex((n[0]/min_n)) + \"\\\\right) \\\\cdot \\\\left(\" + latex((r-R(t_0))[0]) + \"\\\\right) + \" +\n",
    "            \"\\\\left(\" + latex((n[1]/min_n)) + \"\\\\right) \\\\cdot \\\\left(\" + latex((r-R(t_0))[1]) + \"\\\\right) + \" +\n",
    "            \"\\\\left(\" + latex((n[2]/min_n)) + \"\\\\right) \\\\cdot \\\\left(\" + latex((r-R(t_0))[2]) + \"\\\\right) = 0\" )"
   ]
  },
  {
   "cell_type": "markdown",
   "id": "8ea12ceb",
   "metadata": {},
   "source": [
    "Очевидно, що у рівняннях ребер и граней різні лише вектори $\\vec{n}$"
   ]
  },
  {
   "cell_type": "markdown",
   "id": "566d831f",
   "metadata": {},
   "source": [
    "Координати дотичного вектора в даній точці\n",
    "\n",
    "$$\\vec{\\tau} = \\dot{\\vec{\\rho}}_0$$"
   ]
  },
  {
   "cell_type": "code",
   "execution_count": 19,
   "id": "8df2cba2",
   "metadata": {},
   "outputs": [
    {
     "data": {
      "text/latex": [
       "$\\displaystyle \\left(0,\\,\\frac{1}{2} \\, \\sqrt{2},\\,\\frac{1}{2} \\, \\sqrt{2}\\right)$"
      ],
      "text/plain": [
       "<IPython.core.display.Math object>"
      ]
     },
     "metadata": {},
     "output_type": "display_data"
    }
   ],
   "source": [
    "disp(dot_rho_0)"
   ]
  },
  {
   "cell_type": "markdown",
   "id": "d512e1ec",
   "metadata": {},
   "source": [
    "Дотична пряма"
   ]
  },
  {
   "cell_type": "code",
   "execution_count": 20,
   "id": "3f1a2c43",
   "metadata": {},
   "outputs": [
    {
     "data": {
      "text/latex": [
       "$\\displaystyle \\frac{ x - \\frac{3}{2} }{ 0 } = \\frac{ y }{ 1 } = \\frac{ z - 1 }{ 1 }$"
      ],
      "text/plain": [
       "<IPython.core.display.Math object>"
      ]
     },
     "metadata": {},
     "output_type": "display_data"
    }
   ],
   "source": [
    "canonic0(dot_rho_0)"
   ]
  },
  {
   "cell_type": "markdown",
   "id": "cd2bc6ab",
   "metadata": {},
   "source": [
    "Нормальна площина дотичного вектора"
   ]
  },
  {
   "cell_type": "code",
   "execution_count": 21,
   "id": "4420a952",
   "metadata": {},
   "outputs": [
    {
     "data": {
      "text/latex": [
       "$\\displaystyle \\frac{1}{2} \\, \\sqrt{2} y + \\frac{1}{2} \\, \\sqrt{2} {\\left(z - 1\\right)} = 0$"
      ],
      "text/plain": [
       "<IPython.core.display.Math object>"
      ]
     },
     "metadata": {},
     "output_type": "display_data"
    }
   ],
   "source": [
    "disp(plate(dot_rho_0))"
   ]
  },
  {
   "cell_type": "code",
   "execution_count": 22,
   "id": "a7e242c4",
   "metadata": {},
   "outputs": [
    {
     "data": {
      "text/latex": [
       "$\\displaystyle \\left( 0 \\right) \\cdot \\left( x - \\frac{3}{2} \\right) + \\left( 1 \\right) \\cdot \\left( y \\right) + \\left( 1 \\right) \\cdot \\left( z - 1 \\right) = 0$"
      ],
      "text/plain": [
       "<IPython.core.display.Math object>"
      ]
     },
     "metadata": {},
     "output_type": "display_data"
    }
   ],
   "source": [
    "plate0(dot_rho_0)"
   ]
  },
  {
   "cell_type": "markdown",
   "id": "0af94017",
   "metadata": {},
   "source": [
    "Координати вектора головної нормалі в даній точці\n",
    "$\\vec\\nu \\uparrow \\uparrow \\ddot{\\vec{\\rho}}_0$"
   ]
  },
  {
   "cell_type": "code",
   "execution_count": 23,
   "id": "41c48d8e",
   "metadata": {},
   "outputs": [
    {
     "data": {
      "text/latex": [
       "$\\displaystyle \\left(-\\frac{1}{3},\\,-\\frac{1}{12},\\,\\frac{1}{12}\\right)$"
      ],
      "text/plain": [
       "<IPython.core.display.Math object>"
      ]
     },
     "metadata": {},
     "output_type": "display_data"
    }
   ],
   "source": [
    "disp(ddot_rho_0)"
   ]
  },
  {
   "cell_type": "markdown",
   "id": "f51a3706",
   "metadata": {},
   "source": [
    "Рівняння головної нормалі"
   ]
  },
  {
   "cell_type": "code",
   "execution_count": 24,
   "id": "c4e8a638",
   "metadata": {},
   "outputs": [
    {
     "data": {
      "text/latex": [
       "$\\displaystyle \\frac{ x - \\frac{3}{2} }{ -4 } = \\frac{ y }{ -1 } = \\frac{ z - 1 }{ 1 }$"
      ],
      "text/plain": [
       "<IPython.core.display.Math object>"
      ]
     },
     "metadata": {},
     "output_type": "display_data"
    }
   ],
   "source": [
    "canonic0(ddot_rho_0)"
   ]
  },
  {
   "cell_type": "markdown",
   "id": "68c322d1",
   "metadata": {},
   "source": [
    "Спрямна площина"
   ]
  },
  {
   "cell_type": "code",
   "execution_count": 25,
   "id": "639ec38b",
   "metadata": {},
   "outputs": [
    {
     "data": {
      "text/latex": [
       "$\\displaystyle \\left( -4 \\right) \\cdot \\left( x - \\frac{3}{2} \\right) + \\left( -1 \\right) \\cdot \\left( y \\right) + \\left( 1 \\right) \\cdot \\left( z - 1 \\right) = 0$"
      ],
      "text/plain": [
       "<IPython.core.display.Math object>"
      ]
     },
     "metadata": {},
     "output_type": "display_data"
    }
   ],
   "source": [
    "plate0(ddot_rho_0)"
   ]
  },
  {
   "cell_type": "markdown",
   "id": "447fa2fb",
   "metadata": {},
   "source": [
    "Координати вектора бінормалі в даній точці"
   ]
  },
  {
   "cell_type": "markdown",
   "id": "eefcf895",
   "metadata": {},
   "source": [
    "$$\\vec\\beta \\uparrow \\uparrow \\left[\\dot{\\vec{\\rho}}_0, \\ddot{\\vec{\\rho}}_0 \\right]$$"
   ]
  },
  {
   "cell_type": "code",
   "execution_count": 26,
   "id": "de7dd380",
   "metadata": {},
   "outputs": [],
   "source": [
    "binormal_s = lambda s : dot_rho(s).cross_product(ddot_rho(s))"
   ]
  },
  {
   "cell_type": "code",
   "execution_count": 27,
   "id": "762d64a6",
   "metadata": {},
   "outputs": [
    {
     "data": {
      "text/latex": [
       "$\\displaystyle \\frac{1}{12} \\, \\sqrt{2}$"
      ],
      "text/plain": [
       "<IPython.core.display.Math object>"
      ]
     },
     "metadata": {},
     "output_type": "display_data"
    },
    {
     "data": {
      "text/latex": [
       "$\\displaystyle -\\frac{1}{6} \\, \\sqrt{2}$"
      ],
      "text/plain": [
       "<IPython.core.display.Math object>"
      ]
     },
     "metadata": {},
     "output_type": "display_data"
    },
    {
     "data": {
      "text/latex": [
       "$\\displaystyle \\frac{1}{6} \\, \\sqrt{2}$"
      ],
      "text/plain": [
       "<IPython.core.display.Math object>"
      ]
     },
     "metadata": {},
     "output_type": "display_data"
    }
   ],
   "source": [
    "disp(binormal_s(s_0)[0])\n",
    "disp(binormal_s(s_0)[1])\n",
    "disp(binormal_s(s_0)[2])"
   ]
  },
  {
   "cell_type": "markdown",
   "id": "544c7f22",
   "metadata": {},
   "source": [
    "Рівняння бінормалі"
   ]
  },
  {
   "cell_type": "code",
   "execution_count": 28,
   "id": "dda393f9",
   "metadata": {},
   "outputs": [
    {
     "data": {
      "text/latex": [
       "$\\displaystyle \\frac{ x - \\frac{3}{2} }{ 1 } = \\frac{ y }{ -2 } = \\frac{ z - 1 }{ 2 }$"
      ],
      "text/plain": [
       "<IPython.core.display.Math object>"
      ]
     },
     "metadata": {},
     "output_type": "display_data"
    }
   ],
   "source": [
    "canonic0(binormal_s(s_0))"
   ]
  },
  {
   "cell_type": "markdown",
   "id": "25c3408d",
   "metadata": {},
   "source": [
    "Стична площина"
   ]
  },
  {
   "cell_type": "code",
   "execution_count": 29,
   "id": "059cc0c2",
   "metadata": {},
   "outputs": [
    {
     "data": {
      "text/latex": [
       "$\\displaystyle \\left( 1 \\right) \\cdot \\left( x - \\frac{3}{2} \\right) + \\left( -2 \\right) \\cdot \\left( y \\right) + \\left( 2 \\right) \\cdot \\left( z - 1 \\right) = 0$"
      ],
      "text/plain": [
       "<IPython.core.display.Math object>"
      ]
     },
     "metadata": {},
     "output_type": "display_data"
    }
   ],
   "source": [
    "plate0(binormal_s(s_0))"
   ]
  },
  {
   "cell_type": "markdown",
   "id": "40f6a541",
   "metadata": {},
   "source": [
    "b) Знайдемо рівняння ребер та граней природного тригранника у заданій точці використовуючи\n",
    "початкову параметризацію. Було знайдено"
   ]
  },
  {
   "cell_type": "code",
   "execution_count": 30,
   "id": "8983da84",
   "metadata": {},
   "outputs": [
    {
     "data": {
      "text/latex": [
       "$\\displaystyle \\frac{3}{2} \\, \\cos\\left(t\\right)$"
      ],
      "text/plain": [
       "<IPython.core.display.Math object>"
      ]
     },
     "metadata": {},
     "output_type": "display_data"
    },
    {
     "data": {
      "text/latex": [
       "$\\displaystyle \\frac{3}{2} \\, \\sin\\left(t\\right)$"
      ],
      "text/plain": [
       "<IPython.core.display.Math object>"
      ]
     },
     "metadata": {},
     "output_type": "display_data"
    },
    {
     "data": {
      "text/latex": [
       "$\\displaystyle {\\left(t + 1\\right)}^{\\frac{3}{2}}$"
      ],
      "text/plain": [
       "<IPython.core.display.Math object>"
      ]
     },
     "metadata": {},
     "output_type": "display_data"
    }
   ],
   "source": [
    "disp(R(t)[0])\n",
    "disp(R(t)[1])\n",
    "disp(R(t)[2])"
   ]
  },
  {
   "cell_type": "code",
   "execution_count": 31,
   "id": "6b708b1a",
   "metadata": {},
   "outputs": [
    {
     "data": {
      "text/latex": [
       "$\\displaystyle -\\frac{3}{2} \\, \\sin\\left(t\\right)$"
      ],
      "text/plain": [
       "<IPython.core.display.Math object>"
      ]
     },
     "metadata": {},
     "output_type": "display_data"
    },
    {
     "data": {
      "text/latex": [
       "$\\displaystyle \\frac{3}{2} \\, \\cos\\left(t\\right)$"
      ],
      "text/plain": [
       "<IPython.core.display.Math object>"
      ]
     },
     "metadata": {},
     "output_type": "display_data"
    },
    {
     "data": {
      "text/latex": [
       "$\\displaystyle \\frac{3}{2} \\, \\sqrt{t + 1}$"
      ],
      "text/plain": [
       "<IPython.core.display.Math object>"
      ]
     },
     "metadata": {},
     "output_type": "display_data"
    }
   ],
   "source": [
    "disp(v(t)[0])\n",
    "disp(v(t)[1])\n",
    "disp(v(t)[2])"
   ]
  },
  {
   "cell_type": "code",
   "execution_count": 32,
   "id": "0df145b2",
   "metadata": {},
   "outputs": [
    {
     "data": {
      "text/latex": [
       "$\\displaystyle -\\frac{3}{2} \\, \\cos\\left(t\\right)$"
      ],
      "text/plain": [
       "<IPython.core.display.Math object>"
      ]
     },
     "metadata": {},
     "output_type": "display_data"
    },
    {
     "data": {
      "text/latex": [
       "$\\displaystyle -\\frac{3}{2} \\, \\sin\\left(t\\right)$"
      ],
      "text/plain": [
       "<IPython.core.display.Math object>"
      ]
     },
     "metadata": {},
     "output_type": "display_data"
    },
    {
     "data": {
      "text/latex": [
       "$\\displaystyle \\frac{3}{4 \\, \\sqrt{t + 1}}$"
      ],
      "text/plain": [
       "<IPython.core.display.Math object>"
      ]
     },
     "metadata": {},
     "output_type": "display_data"
    }
   ],
   "source": [
    "disp(w(t)[0])\n",
    "disp(w(t)[1])\n",
    "disp(w(t)[2])"
   ]
  },
  {
   "cell_type": "markdown",
   "id": "2ea3ab80",
   "metadata": {},
   "source": [
    "Знаходимо"
   ]
  },
  {
   "cell_type": "code",
   "execution_count": 33,
   "id": "e83b0885",
   "metadata": {},
   "outputs": [
    {
     "data": {
      "text/latex": [
       "$\\displaystyle \\left(\\frac{3}{2},\\,0,\\,1\\right)$"
      ],
      "text/plain": [
       "<IPython.core.display.Math object>"
      ]
     },
     "metadata": {},
     "output_type": "display_data"
    }
   ],
   "source": [
    "r_0 = R(t_0)\n",
    "disp(r_0)"
   ]
  },
  {
   "cell_type": "code",
   "execution_count": 34,
   "id": "f2599ba1",
   "metadata": {},
   "outputs": [
    {
     "data": {
      "text/latex": [
       "$\\displaystyle \\left(0,\\,\\frac{3}{2},\\,\\frac{3}{2}\\right)$"
      ],
      "text/plain": [
       "<IPython.core.display.Math object>"
      ]
     },
     "metadata": {},
     "output_type": "display_data"
    }
   ],
   "source": [
    "v_0 = v(t_0)\n",
    "disp(v_0)"
   ]
  },
  {
   "cell_type": "code",
   "execution_count": 35,
   "id": "24e4fd70",
   "metadata": {},
   "outputs": [
    {
     "data": {
      "text/latex": [
       "$\\displaystyle \\left(-\\frac{3}{2},\\,0,\\,\\frac{3}{4}\\right)$"
      ],
      "text/plain": [
       "<IPython.core.display.Math object>"
      ]
     },
     "metadata": {},
     "output_type": "display_data"
    }
   ],
   "source": [
    "w_0 = w(t_0)\n",
    "disp(w_0)"
   ]
  },
  {
   "cell_type": "markdown",
   "id": "96cc83cf",
   "metadata": {},
   "source": [
    "$\\vec\\tau \\uparrow \\uparrow \\vec{r}'_0$"
   ]
  },
  {
   "cell_type": "markdown",
   "id": "bba3b4f1",
   "metadata": {},
   "source": [
    "Рівняння дотичної прямої"
   ]
  },
  {
   "cell_type": "code",
   "execution_count": 36,
   "id": "f4c2276b",
   "metadata": {},
   "outputs": [
    {
     "data": {
      "text/latex": [
       "$\\displaystyle \\frac{ x - \\frac{3}{2} }{ 0 } = \\frac{ y }{ 1 } = \\frac{ z - 1 }{ 1 }$"
      ],
      "text/plain": [
       "<IPython.core.display.Math object>"
      ]
     },
     "metadata": {},
     "output_type": "display_data"
    }
   ],
   "source": [
    "canonic0(v_0)"
   ]
  },
  {
   "cell_type": "markdown",
   "id": "b570004c",
   "metadata": {},
   "source": [
    "Рівняння нормальної площини"
   ]
  },
  {
   "cell_type": "code",
   "execution_count": 37,
   "id": "38f6ab58",
   "metadata": {},
   "outputs": [
    {
     "data": {
      "text/latex": [
       "$\\displaystyle \\left( 0 \\right) \\cdot \\left( x - \\frac{3}{2} \\right) + \\left( 1 \\right) \\cdot \\left( y \\right) + \\left( 1 \\right) \\cdot \\left( z - 1 \\right) = 0$"
      ],
      "text/plain": [
       "<IPython.core.display.Math object>"
      ]
     },
     "metadata": {},
     "output_type": "display_data"
    }
   ],
   "source": [
    "plate0(v_0)"
   ]
  },
  {
   "cell_type": "markdown",
   "id": "295e9227",
   "metadata": {},
   "source": [
    "$\\vec\\beta \\uparrow \\uparrow \\left[{\\vec{r}'_0}, {\\vec{r}''_0} \\right]$"
   ]
  },
  {
   "cell_type": "code",
   "execution_count": 38,
   "id": "bc97b57f",
   "metadata": {},
   "outputs": [],
   "source": [
    "binormal_t = lambda t : v(t).cross_product(w(t))"
   ]
  },
  {
   "cell_type": "code",
   "execution_count": 39,
   "id": "2f526ba7",
   "metadata": {},
   "outputs": [
    {
     "data": {
      "text/latex": [
       "$\\displaystyle \\frac{9}{8}$"
      ],
      "text/plain": [
       "<IPython.core.display.Math object>"
      ]
     },
     "metadata": {},
     "output_type": "display_data"
    },
    {
     "data": {
      "text/latex": [
       "$\\displaystyle -\\frac{9}{4}$"
      ],
      "text/plain": [
       "<IPython.core.display.Math object>"
      ]
     },
     "metadata": {},
     "output_type": "display_data"
    },
    {
     "data": {
      "text/latex": [
       "$\\displaystyle \\frac{9}{4}$"
      ],
      "text/plain": [
       "<IPython.core.display.Math object>"
      ]
     },
     "metadata": {},
     "output_type": "display_data"
    }
   ],
   "source": [
    "disp(binormal_t(t_0)[0])\n",
    "disp(binormal_t(t_0)[1])\n",
    "disp(binormal_t(t_0)[2])"
   ]
  },
  {
   "cell_type": "markdown",
   "id": "a7ffcacf",
   "metadata": {},
   "source": [
    "рівняння бінормалі"
   ]
  },
  {
   "cell_type": "code",
   "execution_count": 40,
   "id": "ed6432cf",
   "metadata": {},
   "outputs": [
    {
     "data": {
      "text/latex": [
       "$\\displaystyle \\frac{ x - \\frac{3}{2} }{ 1 } = \\frac{ y }{ -2 } = \\frac{ z - 1 }{ 2 }$"
      ],
      "text/plain": [
       "<IPython.core.display.Math object>"
      ]
     },
     "metadata": {},
     "output_type": "display_data"
    }
   ],
   "source": [
    "canonic0(binormal_t(t_0))"
   ]
  },
  {
   "cell_type": "markdown",
   "id": "8bee2eba",
   "metadata": {},
   "source": [
    "стична площина"
   ]
  },
  {
   "cell_type": "code",
   "execution_count": 41,
   "id": "5c2b09f9",
   "metadata": {},
   "outputs": [
    {
     "data": {
      "text/latex": [
       "$\\displaystyle \\left( 1 \\right) \\cdot \\left( x - \\frac{3}{2} \\right) + \\left( -2 \\right) \\cdot \\left( y \\right) + \\left( 2 \\right) \\cdot \\left( z - 1 \\right) = 0$"
      ],
      "text/plain": [
       "<IPython.core.display.Math object>"
      ]
     },
     "metadata": {},
     "output_type": "display_data"
    }
   ],
   "source": [
    "plate0(binormal_t(t_0))"
   ]
  },
  {
   "cell_type": "markdown",
   "id": "a03f6185",
   "metadata": {},
   "source": [
    "Координати вектора головної нормалі в даній точці\n",
    "$\\vec\\nu \\uparrow \\uparrow \\left[\\left[{\\vec{r}'_0}, {\\vec{r}''_0} \\right], {\\vec{r}'_0}\\right]$"
   ]
  },
  {
   "cell_type": "code",
   "execution_count": 42,
   "id": "08f88f51",
   "metadata": {},
   "outputs": [],
   "source": [
    "main_normal_t = lambda t : v(t).cross_product(w(t)).cross_product(v(t))"
   ]
  },
  {
   "cell_type": "code",
   "execution_count": 43,
   "id": "232a0fa4",
   "metadata": {},
   "outputs": [
    {
     "data": {
      "text/latex": [
       "$\\displaystyle \\left(-\\frac{27}{4},\\,-\\frac{27}{16},\\,\\frac{27}{16}\\right)$"
      ],
      "text/plain": [
       "<IPython.core.display.Math object>"
      ]
     },
     "metadata": {},
     "output_type": "display_data"
    }
   ],
   "source": [
    "disp(main_normal_t(t_0))"
   ]
  },
  {
   "cell_type": "markdown",
   "id": "bf02b907",
   "metadata": {},
   "source": [
    "рівняння головної нормалі"
   ]
  },
  {
   "cell_type": "code",
   "execution_count": 44,
   "id": "f6896a1c",
   "metadata": {},
   "outputs": [
    {
     "data": {
      "text/latex": [
       "$\\displaystyle \\frac{ x - \\frac{3}{2} }{ -4 } = \\frac{ y }{ -1 } = \\frac{ z - 1 }{ 1 }$"
      ],
      "text/plain": [
       "<IPython.core.display.Math object>"
      ]
     },
     "metadata": {},
     "output_type": "display_data"
    }
   ],
   "source": [
    "canonic0(main_normal_t(t_0))"
   ]
  },
  {
   "cell_type": "markdown",
   "id": "72bb1111",
   "metadata": {},
   "source": [
    "Спрямна площина"
   ]
  },
  {
   "cell_type": "code",
   "execution_count": 45,
   "id": "684930bc",
   "metadata": {},
   "outputs": [
    {
     "data": {
      "text/latex": [
       "$\\displaystyle \\left( -4 \\right) \\cdot \\left( x - \\frac{3}{2} \\right) + \\left( -1 \\right) \\cdot \\left( y \\right) + \\left( 1 \\right) \\cdot \\left( z - 1 \\right) = 0$"
      ],
      "text/plain": [
       "<IPython.core.display.Math object>"
      ]
     },
     "metadata": {},
     "output_type": "display_data"
    }
   ],
   "source": [
    "plate0(main_normal_t(t_0))"
   ]
  },
  {
   "cell_type": "code",
   "execution_count": null,
   "id": "ffd39603",
   "metadata": {},
   "outputs": [],
   "source": []
  }
 ],
 "metadata": {
  "kernelspec": {
   "display_name": "SageMath 9.6.beta7",
   "language": "sage",
   "name": "sagemath"
  },
  "language_info": {
   "codemirror_mode": {
    "name": "ipython",
    "version": 3
   },
   "file_extension": ".py",
   "mimetype": "text/x-python",
   "name": "python",
   "nbconvert_exporter": "python",
   "pygments_lexer": "ipython3",
   "version": "3.10.3"
  }
 },
 "nbformat": 4,
 "nbformat_minor": 5
}

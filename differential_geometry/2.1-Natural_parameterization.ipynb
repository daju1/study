{
 "cells": [
  {
   "cell_type": "markdown",
   "id": "dbb90c07",
   "metadata": {},
   "source": [
    "2. ПРИРОДНА ПАРАМЕТРИЗАЦІЯ"
   ]
  },
  {
   "cell_type": "markdown",
   "id": "534611d9",
   "metadata": {},
   "source": [
    "2.1. Дано параметричне рівняння кривої $\\vec{r}(t)$. Перейти до природної параметризації\n",
    "$\\vec{\\rho}(s)$"
   ]
  },
  {
   "cell_type": "markdown",
   "id": "f1bbc5a3",
   "metadata": {},
   "source": [
    "$L=\\left\\{\\vec{r}\\left(t\\right)=\\left(\\begin{array}{l}\n",
    "    a (cos t + t sin t) \\\\\n",
    "    a (sin t - t cos t) \\\\\n",
    "    0 \\\\\n",
    "\\end{array}\\right)\\right\\}, t_0 = 0$"
   ]
  },
  {
   "cell_type": "markdown",
   "id": "c789f9aa",
   "metadata": {},
   "source": [
    "Природною називається параметризація кривої, якщо параметром виступає довжина дуги s ."
   ]
  },
  {
   "cell_type": "markdown",
   "id": "8fb660a4",
   "metadata": {},
   "source": [
    "Для того, щоб перейти від довільної параметризації $\\vec{r}(t)$ до природної\n",
    "$\\vec{\\rho}(s)$ треба знайти спочатку довжину кривої для довільного значення параметра $t$\n",
    "\n",
    "$$s = s(t) = \\int_{0}^t\\left|\\vec{r}'(l)\\right|dl$$"
   ]
  },
  {
   "cell_type": "markdown",
   "id": "ef762d28",
   "metadata": {},
   "source": [
    "далі розв’язати рівняння $s = s ( t )$ відносно $t$ : $t = t ( s )$ і підставити знайдений розв’язок в початкове\n",
    "рівняння:\n",
    "\n",
    "$$\\vec{r}(t(s)) = \\vec{\\rho}(s)$$"
   ]
  },
  {
   "cell_type": "markdown",
   "id": "46a5df98",
   "metadata": {},
   "source": [
    "Знаходимо $\\vec{r}'(t)$"
   ]
  },
  {
   "cell_type": "code",
   "execution_count": 1,
   "id": "382675c7",
   "metadata": {},
   "outputs": [],
   "source": [
    "from IPython.display import display, Math, Latex\n",
    "\n",
    "def disp(ex):\n",
    "    display(Math(latex(ex)))"
   ]
  },
  {
   "cell_type": "code",
   "execution_count": 2,
   "id": "c0278e64",
   "metadata": {},
   "outputs": [],
   "source": [
    "t, s, x, y, z, t_0, a, l = var(\"t, s, x, y, z, t_0, a, l\")\n",
    "r = vector([var(\"x\"),var(\"y\"),var(\"z\")])\n",
    "assume(t, \"real\")\n",
    "assume(a, \"real\")\n",
    "assume(t > 0)\n",
    "assume(a > 0)\n",
    "X = lambda t : a*(cos(t) + t * sin(t))\n",
    "Y = lambda t : a*(sin(t) - t * cos(t))\n",
    "Z = lambda t : 0"
   ]
  },
  {
   "cell_type": "code",
   "execution_count": 3,
   "id": "5866e4c1",
   "metadata": {},
   "outputs": [],
   "source": [
    "R = lambda t : vector([X(t),Y(t),Z(t)])\n",
    "exec(preparse(\"v = lambda t : vector(\" + str(R(t).diff(t)) + \")\"))\n",
    "exec(preparse(\"w = lambda t : vector(\" + str(R(t).diff(t,2)) + \")\"))"
   ]
  },
  {
   "cell_type": "code",
   "execution_count": 4,
   "id": "28113bb3",
   "metadata": {},
   "outputs": [
    {
     "data": {
      "text/latex": [
       "$\\displaystyle \\left(a t \\cos\\left(t\\right),\\,a t \\sin\\left(t\\right),\\,0\\right)$"
      ],
      "text/plain": [
       "<IPython.core.display.Math object>"
      ]
     },
     "metadata": {},
     "output_type": "display_data"
    }
   ],
   "source": [
    "disp(v(t))"
   ]
  },
  {
   "cell_type": "markdown",
   "id": "9bb8638d",
   "metadata": {},
   "source": [
    "Знаходимо $\\left|\\vec{r}'(t)\\right|$"
   ]
  },
  {
   "cell_type": "code",
   "execution_count": 5,
   "id": "72d16d71",
   "metadata": {},
   "outputs": [
    {
     "data": {
      "text/latex": [
       "$\\displaystyle a t$"
      ],
      "text/plain": [
       "<IPython.core.display.Math object>"
      ]
     },
     "metadata": {},
     "output_type": "display_data"
    }
   ],
   "source": [
    "# величина швидкості\n",
    "V = lambda t : v(t).norm().factor().trig_simplify()\n",
    "disp(V(t))"
   ]
  },
  {
   "cell_type": "markdown",
   "id": "0ebc7917",
   "metadata": {},
   "source": [
    "Знаходимо $s(t)$\n",
    "\n",
    "$$s(t) = \\int_{0}^t\\left|\\vec{r}'(l)\\right|dl$$"
   ]
  },
  {
   "cell_type": "code",
   "execution_count": 6,
   "id": "a265feb4",
   "metadata": {},
   "outputs": [
    {
     "data": {
      "text/latex": [
       "$\\displaystyle \\frac{1}{2} \\, a t^{2}$"
      ],
      "text/plain": [
       "<IPython.core.display.Math object>"
      ]
     },
     "metadata": {},
     "output_type": "display_data"
    }
   ],
   "source": [
    "S = lambda t : V(l).integrate(l, 0, t)\n",
    "disp(S(t))"
   ]
  },
  {
   "cell_type": "markdown",
   "id": "0817d496",
   "metadata": {},
   "source": [
    "Знаходимо $t(s)$"
   ]
  },
  {
   "cell_type": "code",
   "execution_count": 7,
   "id": "a91e3645",
   "metadata": {},
   "outputs": [
    {
     "data": {
      "text/latex": [
       "$\\displaystyle \\sqrt{2} \\sqrt{\\frac{s}{a}}$"
      ],
      "text/plain": [
       "<IPython.core.display.Math object>"
      ]
     },
     "metadata": {},
     "output_type": "display_data"
    }
   ],
   "source": [
    "# ts = lambda s : solve(s == S(t), t)[0].rhs()\n",
    "exec(preparse(\"ts = lambda s : solve(s == \" + str(S(t)) + \", t)[0].rhs()\"))\n",
    "disp(ts(s))"
   ]
  },
  {
   "cell_type": "markdown",
   "id": "fad7c85d",
   "metadata": {},
   "source": [
    "Записуємо природну параметризацію:"
   ]
  },
  {
   "cell_type": "code",
   "execution_count": 8,
   "id": "4426b809",
   "metadata": {},
   "outputs": [
    {
     "data": {
      "text/latex": [
       "$\\displaystyle \\left({\\left(\\sqrt{2} \\sqrt{\\frac{s}{a}} \\sin\\left(\\sqrt{2} \\sqrt{\\frac{s}{a}}\\right) + \\cos\\left(\\sqrt{2} \\sqrt{\\frac{s}{a}}\\right)\\right)} a,\\,-{\\left(\\sqrt{2} \\sqrt{\\frac{s}{a}} \\cos\\left(\\sqrt{2} \\sqrt{\\frac{s}{a}}\\right) - \\sin\\left(\\sqrt{2} \\sqrt{\\frac{s}{a}}\\right)\\right)} a,\\,0\\right)$"
      ],
      "text/plain": [
       "<IPython.core.display.Math object>"
      ]
     },
     "metadata": {},
     "output_type": "display_data"
    }
   ],
   "source": [
    "rho = lambda s : R(t).subs(t==ts(s))\n",
    "disp(rho(s))"
   ]
  },
  {
   "cell_type": "code",
   "execution_count": null,
   "id": "b5b7e44d",
   "metadata": {},
   "outputs": [],
   "source": []
  }
 ],
 "metadata": {
  "kernelspec": {
   "display_name": "SageMath 9.6.beta7",
   "language": "sage",
   "name": "sagemath"
  },
  "language_info": {
   "codemirror_mode": {
    "name": "ipython",
    "version": 3
   },
   "file_extension": ".py",
   "mimetype": "text/x-python",
   "name": "python",
   "nbconvert_exporter": "python",
   "pygments_lexer": "ipython3",
   "version": "3.10.3"
  }
 },
 "nbformat": 4,
 "nbformat_minor": 5
}

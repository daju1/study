{
 "cells": [
  {
   "cell_type": "markdown",
   "id": "e048d0a3",
   "metadata": {},
   "source": [
    "5. ТЕНЗОР ІНЕРЦІЇ"
   ]
  },
  {
   "cell_type": "markdown",
   "id": "c5f77e0e",
   "metadata": {},
   "source": [
    "Тензор інерції записуються у вигляді матриці"
   ]
  },
  {
   "cell_type": "markdown",
   "id": "44fc2244",
   "metadata": {},
   "source": [
    "$$J=\\left[\\begin{array}{c}\n",
    "    J_{xx} J_{xy} J_{xz}\\\\\n",
    "    J_{yx} J_{yy} J_{yz}\\\\\n",
    "    J_{zx} J_{zy} J_{zz}\\\\\n",
    "\\end{array}\\right]$$"
   ]
  },
  {
   "cell_type": "markdown",
   "id": "f350f5d2",
   "metadata": {},
   "source": [
    "де\n",
    "\n",
    "$$J_{xx} = \\iiint\\limits_{V}^{}(y^2+z^2)\\,\\rho(x,y,z) \\, dx dy dz$$\n",
    "\n",
    "$$J_{xy} = \\iiint\\limits_{V}^{}x y\\,\\rho(x,y,z) \\, dx dy dz$$"
   ]
  },
  {
   "cell_type": "markdown",
   "id": "b086738b",
   "metadata": {},
   "source": [
    "Оператор інерції J – симетричний (більше того, додатний)"
   ]
  },
  {
   "cell_type": "markdown",
   "id": "27980cc7",
   "metadata": {},
   "source": [
    "$$\\left(\\textbf{J}\\,\\vec{\\omega}_{1}, \\vec{\\omega}_{2}\\right) =\n",
    "\\left(\\vec{\\omega}_{1}, \\textbf{J}\\,\\vec{\\omega}_{2}\\right)$$,\n",
    "$$\\left(\\textbf{J}\\,\\vec{\\omega}, \\vec{\\omega}\\right) =\n",
    "2\\,T > 0$$"
   ]
  },
  {
   "cell_type": "markdown",
   "id": "f1840c9c",
   "metadata": {},
   "source": [
    "так що існує ортонормований базис із власних векторів $\\left\\{ \\vec{e}_k \\right\\}$ $\\left(k = 1,2,3 \\right)$"
   ]
  },
  {
   "cell_type": "markdown",
   "id": "37595ebe",
   "metadata": {},
   "source": [
    "$$\\textbf{J}\\,\\vec{e}_k = \\lambda_{k}\\,\\vec{e}_k$$\n",
    "\n",
    "$$\\downarrow$$\n",
    "\n",
    "$$\\lambda_{k} = \\left(\\textbf{J}\\,\\vec{\\lambda}_{k}, \\vec{\\lambda}_{k}\\right) = J_k > 0$$"
   ]
  },
  {
   "cell_type": "markdown",
   "id": "85d980ad",
   "metadata": {},
   "source": [
    "Напрями $\\left\\{ \\vec{e}_k \\right\\}$ отримали назви головних осей інерції. Відповідні власні значення $\\lambda_{k} = J_k$ – це моменти\n",
    "інерції відносно головних осей інерції (головні моменти)"
   ]
  },
  {
   "cell_type": "markdown",
   "id": "a40aaa9d",
   "metadata": {},
   "source": [
    "$$\\left(\\textbf{J}\\,\\vec{\\omega}, \\vec{\\omega}\\right) = 1$$"
   ]
  },
  {
   "cell_type": "markdown",
   "id": "43eeb12a",
   "metadata": {},
   "source": [
    "З тензором інерції $\\textbf{J}$ зручно зв'язати так званий еліпсоїд інерції тіла у точці обертання"
   ]
  },
  {
   "cell_type": "markdown",
   "id": "7abeeca1",
   "metadata": {},
   "source": [
    "що дозволяє геометрично уявити (“побачити”) тензор, що має в системі координат з головних осей\n",
    "$\\left\\{ \\vec{e}_1, \\vec{e}_2, \\vec{e}_3 \\right\\}$\n",
    " канонічний вигляд"
   ]
  },
  {
   "cell_type": "markdown",
   "id": "b469c226",
   "metadata": {},
   "source": [
    "$$J_1 \\omega_1^2 + J_2 \\omega_2^2 + J_3 \\omega_3^2 = 1$$"
   ]
  },
  {
   "cell_type": "markdown",
   "id": "1b4aa589",
   "metadata": {},
   "source": [
    "$$\\frac{\\omega_1^2}{\\frac{1}{\\sqrt{J_1^2}}} +\n",
    "\\frac{\\omega_2^2}{\\frac{1}{\\sqrt{J_2^2}}} +\n",
    "\\frac{\\omega_3^2}{\\frac{1}{\\sqrt{J_3^2}}} = 1$$"
   ]
  },
  {
   "cell_type": "markdown",
   "id": "02ab32a7",
   "metadata": {},
   "source": [
    "Отже, головні осі інерції еліпсоїда одночасно є і головними осями інерції тіла, а їх довжини\n",
    "обернено пропорційні $\\sqrt{J_k}$."
   ]
  },
  {
   "cell_type": "markdown",
   "id": "13a52d40",
   "metadata": {},
   "source": [
    "3. Знайти тензор інерції $J$ твердого тіла $V$ із щільністю $\\rho$ на початку координат,\n",
    "еліпсоїд, головні осі та головні моменти інерції."
   ]
  },
  {
   "cell_type": "markdown",
   "id": "e3669e15",
   "metadata": {},
   "source": [
    "$V = \\left\\{ 0 <= x <= a, 0 <= y <= b, 0 <= z <= c\\right\\}$"
   ]
  },
  {
   "cell_type": "markdown",
   "id": "3e50e111",
   "metadata": {},
   "source": [
    "$\\rho = const$"
   ]
  },
  {
   "cell_type": "markdown",
   "id": "b5ce9dcc",
   "metadata": {},
   "source": [
    "У загальному випадку $a≠b≠c$ піраміда $V$ не має жодної симетрії. Знайдемо спочатку моменти\n",
    "інерції відносно координатних осей."
   ]
  },
  {
   "cell_type": "markdown",
   "id": "74cd729b",
   "metadata": {},
   "source": [
    "$$J_{zz} = \\iiint\\limits_{V}^{}\\left(x^2+y^2\\right)\\,\\rho(x,y,z) \\, dx dy dz  = \\rho\\iiint\\limits_{V}^{}\\left(x^2+y^2\\right) \\, dx dy dz$$"
   ]
  },
  {
   "cell_type": "markdown",
   "id": "b413daca",
   "metadata": {},
   "source": [
    "“Стиснемо” піраміду $V$ вздовж осей координат у відповідне число разів, перетворивши на\n",
    "симетричну піраміду"
   ]
  },
  {
   "cell_type": "markdown",
   "id": "895a1a19",
   "metadata": {},
   "source": [
    "$$\\rightarrow=\\left[\\begin{array}{c}\n",
    "    x = a u\\\\\n",
    "    y = b v\\\\\n",
    "    z = c w\\\\\n",
    "\\end{array} \\rightarrow \\frac{D(x,y,z)}{D(u,v,w)} = abc\\right] =$$"
   ]
  },
  {
   "cell_type": "markdown",
   "id": "d696345d",
   "metadata": {},
   "source": [
    "$$J_{zz} = abc\\, \\rho\\iiint\\limits_{\\Delta}^{}((au)^2+(bv)^2)\\, du dv dw$$"
   ]
  },
  {
   "cell_type": "markdown",
   "id": "cda6c8d4",
   "metadata": {},
   "source": [
    "$$J_{zz} = abc\\, \\rho \\left(a^2\\iiint\\limits_{\\Delta}^{}u^2\\, du dv dw + b^2\\iiint\\limits_{\\Delta}^{}v^2\\, du dv dw \\right)$$"
   ]
  },
  {
   "cell_type": "markdown",
   "id": "aa3dbf6b",
   "metadata": {},
   "source": [
    "Враховуючи інваріантність піраміди щодо перестановки $u, ... \\leftrightarrow v, ...$"
   ]
  },
  {
   "cell_type": "markdown",
   "id": "c6684565",
   "metadata": {},
   "source": [
    "приходимо до рівності двох останніх інтегралів"
   ]
  },
  {
   "cell_type": "markdown",
   "id": "2374ea85",
   "metadata": {},
   "source": [
    "$$J_{zz} = abc\\, \\rho \\left(a^2 + b^2\\right)\\iiint\\limits_{\\Delta}^{}u^2\\, du dv dw$$"
   ]
  },
  {
   "cell_type": "markdown",
   "id": "74373a63",
   "metadata": {},
   "source": [
    "$$J_{zz} = abc\\, \\rho \\left(a^2 + b^2\\right)\\int\\limits_{0}^{1}\\left(\\int\\limits_{0}^{1}\\left(\\int\\limits_{0}^{1}u^2\\, dw\\right) du \\right) dv $$"
   ]
  },
  {
   "cell_type": "code",
   "execution_count": 1,
   "id": "8ddb563c",
   "metadata": {},
   "outputs": [],
   "source": [
    "from IPython.display import display, Math, Latex\n",
    "\n",
    "def disp(ex):\n",
    "    display(Math(latex(ex)))"
   ]
  },
  {
   "cell_type": "code",
   "execution_count": 2,
   "id": "8f9ccbc1",
   "metadata": {},
   "outputs": [],
   "source": [
    "a,b,c = var(\"a,b,c\")\n",
    "x,y,z = var(\"x,y,z\")\n",
    "u,v,w = var(\"u,v,w\")\n",
    "\n",
    "assume(u, \"real\")\n",
    "assume(v, \"real\")\n",
    "assume(w, \"real\")\n",
    "\n",
    "assume(u>0)\n",
    "assume(v>0)\n",
    "assume(w>0)\n",
    "\n",
    "rho = var(\"rho\")\n",
    "\n",
    "w_min = 0\n",
    "v_min = 0\n",
    "u_min = 0\n",
    "\n",
    "w_max = 1\n",
    "v_max = 1\n",
    "u_max = 1"
   ]
  },
  {
   "cell_type": "code",
   "execution_count": 3,
   "id": "33f065b6",
   "metadata": {},
   "outputs": [
    {
     "data": {
      "text/latex": [
       "$\\displaystyle \\frac{1}{3} \\, {\\left(a^{2} + b^{2}\\right)} a b c \\rho$"
      ],
      "text/plain": [
       "<IPython.core.display.Math object>"
      ]
     },
     "metadata": {},
     "output_type": "display_data"
    }
   ],
   "source": [
    "J_zz = a * b * c * rho * (a^2 + b^2) * \\\n",
    "   ((u)^2) \\\n",
    "   .integrate(w, w_min, w_max) \\\n",
    "   .integrate(v, v_min, v_max) \\\n",
    "   .integrate(u, u_min, u_max)\n",
    "disp(J_zz)"
   ]
  },
  {
   "cell_type": "markdown",
   "id": "8535da27",
   "metadata": {},
   "source": [
    "Зауваживши, що умови завдання інваріантні відносно циклічної перестановки,\n",
    "яку зручно виразити діаграмою, отримаємо"
   ]
  },
  {
   "cell_type": "markdown",
   "id": "c0c052b1",
   "metadata": {},
   "source": [
    "$$J_{xx} = abc\\, \\rho \\left(b^2 + c^2\\right)\\int\\limits_{0}^{1}\\left(\\int\\limits_{0}^{1-u}\\left(\\int\\limits_{0}^{1-u-v}u^2\\, dw\\right) du \\right) dv $$"
   ]
  },
  {
   "cell_type": "code",
   "execution_count": 4,
   "id": "cb0604bb",
   "metadata": {},
   "outputs": [
    {
     "data": {
      "text/latex": [
       "$\\displaystyle \\frac{1}{3} \\, {\\left(b^{2} + c^{2}\\right)} a b c \\rho$"
      ],
      "text/plain": [
       "<IPython.core.display.Math object>"
      ]
     },
     "metadata": {},
     "output_type": "display_data"
    }
   ],
   "source": [
    "J_xx = a * b * c * rho * (b^2 + c^2) * \\\n",
    "   ((u)^2) \\\n",
    "   .integrate(w, w_min, w_max) \\\n",
    "   .integrate(v, v_min, v_max) \\\n",
    "   .integrate(u, u_min, u_max)\n",
    "disp(J_xx)"
   ]
  },
  {
   "cell_type": "markdown",
   "id": "c8e3325e",
   "metadata": {},
   "source": [
    "$$J_{yy} = abc\\, \\rho \\left(c^2 + a^2\\right)\\int\\limits_{0}^{1}\\left(\\int\\limits_{0}^{1-u}\\left(\\int\\limits_{0}^{1-u-v}u^2\\, dw\\right) du \\right) dv $$"
   ]
  },
  {
   "cell_type": "code",
   "execution_count": 5,
   "id": "ecfa0c37",
   "metadata": {},
   "outputs": [
    {
     "data": {
      "text/latex": [
       "$\\displaystyle \\frac{1}{3} \\, {\\left(a^{2} + c^{2}\\right)} a b c \\rho$"
      ],
      "text/plain": [
       "<IPython.core.display.Math object>"
      ]
     },
     "metadata": {},
     "output_type": "display_data"
    }
   ],
   "source": [
    "J_yy = a * b * c * rho * (c^2 + a^2) * \\\n",
    "   ((u)^2) \\\n",
    "   .integrate(w, w_min, w_max) \\\n",
    "   .integrate(v, v_min, v_max) \\\n",
    "   .integrate(u, u_min, u_max)\n",
    "disp(J_yy)"
   ]
  },
  {
   "cell_type": "markdown",
   "id": "e1356b93",
   "metadata": {},
   "source": [
    "Далі знайдемо відцентрові моменти"
   ]
  },
  {
   "cell_type": "markdown",
   "id": "3b9f8b30",
   "metadata": {},
   "source": [
    "$$J_{xy} = \\iiint\\limits_{V}^{}x y\\,\\rho(x,y,z) \\, dx dy dz  = \\rho\\iiint\\limits_{V}^{}x y\\, dx dy dz$$"
   ]
  },
  {
   "cell_type": "markdown",
   "id": "317ed18b",
   "metadata": {},
   "source": [
    "$$\\rightarrow=\\left[\\begin{array}{c}\n",
    "    x = a u\\\\\n",
    "    y = b v\\\\\n",
    "    z = c w\\\\\n",
    "\\end{array} \\rightarrow \\frac{D(x,y,z)}{D(u,v,w)} = abc\\right] =$$"
   ]
  },
  {
   "cell_type": "markdown",
   "id": "4e1abe0c",
   "metadata": {},
   "source": [
    "$$J_{xy} = abc\\, \\rho\\, ab\\iiint\\limits_{\\Delta}^{}u v\\, du dv dw$$"
   ]
  },
  {
   "cell_type": "markdown",
   "id": "3f9c5b16",
   "metadata": {},
   "source": [
    "$$J_{yy} = abc\\, \\rho \\, ab \\int\\limits_{0}^{1}\\left(\\int\\limits_{0}^{1}\\left(\\int\\limits_{0}^{1}uv\\, dw\\right) du \\right) dv $$"
   ]
  },
  {
   "cell_type": "code",
   "execution_count": 6,
   "id": "28189dc7",
   "metadata": {},
   "outputs": [
    {
     "data": {
      "text/latex": [
       "$\\displaystyle \\frac{1}{4} \\, a^{2} b^{2} c \\rho$"
      ],
      "text/plain": [
       "<IPython.core.display.Math object>"
      ]
     },
     "metadata": {},
     "output_type": "display_data"
    }
   ],
   "source": [
    "J_xy = a * b * c * rho * a * b * \\\n",
    "   (u*v) \\\n",
    "   .integrate(w, w_min, w_max) \\\n",
    "   .integrate(v, v_min, v_max) \\\n",
    "   .integrate(u, u_min, u_max)\n",
    "disp(J_xy)"
   ]
  },
  {
   "cell_type": "code",
   "execution_count": 7,
   "id": "1482bd55",
   "metadata": {},
   "outputs": [
    {
     "data": {
      "text/latex": [
       "$\\displaystyle \\frac{1}{4} \\, a b^{2} c^{2} \\rho$"
      ],
      "text/plain": [
       "<IPython.core.display.Math object>"
      ]
     },
     "metadata": {},
     "output_type": "display_data"
    }
   ],
   "source": [
    "J_yz = a * b * c * rho * b * c * \\\n",
    "   (v*w) \\\n",
    "   .integrate(w, w_min, w_max) \\\n",
    "   .integrate(v, v_min, v_max) \\\n",
    "   .integrate(u, u_min, u_max)\n",
    "disp(J_yz)"
   ]
  },
  {
   "cell_type": "code",
   "execution_count": 8,
   "id": "39feb7ac",
   "metadata": {},
   "outputs": [
    {
     "data": {
      "text/latex": [
       "$\\displaystyle \\frac{1}{4} \\, a^{2} b c^{2} \\rho$"
      ],
      "text/plain": [
       "<IPython.core.display.Math object>"
      ]
     },
     "metadata": {},
     "output_type": "display_data"
    }
   ],
   "source": [
    "J_zx = a * b * c * rho * c * a * \\\n",
    "   (w*u) \\\n",
    "   .integrate(w, w_min, w_max) \\\n",
    "   .integrate(v, v_min, v_max) \\\n",
    "   .integrate(u, u_min, u_max)\n",
    "disp(J_zx)"
   ]
  },
  {
   "cell_type": "code",
   "execution_count": 9,
   "id": "132bfd3c",
   "metadata": {},
   "outputs": [],
   "source": [
    "J_yx = J_xy\n",
    "J_xz = J_zx\n",
    "J_zy = J_yz"
   ]
  },
  {
   "cell_type": "markdown",
   "id": "3223197d",
   "metadata": {},
   "source": [
    "Отже, тензор інерції дорівнює"
   ]
  },
  {
   "cell_type": "code",
   "execution_count": 10,
   "id": "c548a292",
   "metadata": {},
   "outputs": [
    {
     "data": {
      "text/latex": [
       "$\\displaystyle \\left(\\begin{array}{rrr}\n",
       "\\frac{1}{3} \\, {\\left(b^{2} + c^{2}\\right)} a b c \\rho & \\frac{1}{4} \\, a^{2} b^{2} c \\rho & \\frac{1}{4} \\, a^{2} b c^{2} \\rho \\\\\n",
       "\\frac{1}{4} \\, a^{2} b^{2} c \\rho & \\frac{1}{3} \\, {\\left(a^{2} + c^{2}\\right)} a b c \\rho & \\frac{1}{4} \\, a b^{2} c^{2} \\rho \\\\\n",
       "\\frac{1}{4} \\, a^{2} b c^{2} \\rho & \\frac{1}{4} \\, a b^{2} c^{2} \\rho & \\frac{1}{3} \\, {\\left(a^{2} + b^{2}\\right)} a b c \\rho\n",
       "\\end{array}\\right)$"
      ],
      "text/plain": [
       "<IPython.core.display.Math object>"
      ]
     },
     "metadata": {},
     "output_type": "display_data"
    }
   ],
   "source": [
    "J=matrix(SR,[[J_xx,J_xy,J_xz],[J_yx,J_yy,J_yz],[J_zx,J_zy,J_zz]])\n",
    "disp(J)"
   ]
  },
  {
   "cell_type": "markdown",
   "id": "3c0074a1",
   "metadata": {},
   "source": [
    "Рівняння еліпсоїда інерції має канонічний вигляд"
   ]
  },
  {
   "cell_type": "markdown",
   "id": "c6c97872",
   "metadata": {},
   "source": [
    "$$J_{xx} x^2 + J_{yy} y^2 + J_{zz} z^2 + 2 J_{xy} xy + 2 J_{yz} yz + 2 J_{zx} zx = 1$$"
   ]
  },
  {
   "cell_type": "code",
   "execution_count": null,
   "id": "56efdc8b",
   "metadata": {},
   "outputs": [],
   "source": []
  }
 ],
 "metadata": {
  "kernelspec": {
   "display_name": "SageMath 9.6.beta7",
   "language": "sage",
   "name": "sagemath"
  },
  "language_info": {
   "codemirror_mode": {
    "name": "ipython",
    "version": 3
   },
   "file_extension": ".py",
   "mimetype": "text/x-python",
   "name": "python",
   "nbconvert_exporter": "python",
   "pygments_lexer": "ipython3",
   "version": "3.10.3"
  }
 },
 "nbformat": 4,
 "nbformat_minor": 5
}

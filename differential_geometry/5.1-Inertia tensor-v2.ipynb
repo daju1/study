{
 "cells": [
  {
   "cell_type": "markdown",
   "id": "e048d0a3",
   "metadata": {},
   "source": [
    "5. ТЕНЗОР ІНЕРЦІЇ"
   ]
  },
  {
   "cell_type": "markdown",
   "id": "c5f77e0e",
   "metadata": {},
   "source": [
    "Тензор інерції записуються у вигляді матриці"
   ]
  },
  {
   "cell_type": "markdown",
   "id": "44fc2244",
   "metadata": {},
   "source": [
    "$$J=\\left[\\begin{array}{c}\n",
    "    J_{xx} J_{xy} J_{xz}\\\\\n",
    "    J_{yx} J_{yy} J_{yz}\\\\\n",
    "    J_{zx} J_{zy} J_{zz}\\\\\n",
    "\\end{array}\\right]$$"
   ]
  },
  {
   "cell_type": "markdown",
   "id": "f350f5d2",
   "metadata": {},
   "source": [
    "де\n",
    "\n",
    "$$J_{xx} = \\iiint\\limits_{V}^{}(y^2+z^2)\\,\\rho(x,y,z) \\, dx dy dz$$\n",
    "\n",
    "$$J_{xy} = \\iiint\\limits_{V}^{}x y\\,\\rho(x,y,z) \\, dx dy dz$$"
   ]
  },
  {
   "cell_type": "markdown",
   "id": "b086738b",
   "metadata": {},
   "source": [
    "Оператор інерції J – симетричний (більше того, додатний)"
   ]
  },
  {
   "cell_type": "markdown",
   "id": "27980cc7",
   "metadata": {},
   "source": [
    "$$\\left(\\textbf{J}\\,\\vec{\\omega}_{1}, \\vec{\\omega}_{2}\\right) =\n",
    "\\left(\\vec{\\omega}_{1}, \\textbf{J}\\,\\vec{\\omega}_{2}\\right)$$,\n",
    "$$\\left(\\textbf{J}\\,\\vec{\\omega}, \\vec{\\omega}\\right) =\n",
    "2\\,T > 0$$"
   ]
  },
  {
   "cell_type": "markdown",
   "id": "f1840c9c",
   "metadata": {},
   "source": [
    "так що існує ортонормований базис із власних векторів $\\left\\{ \\vec{e}_k \\right\\}$ $\\left(k = 1,2,3 \\right)$"
   ]
  },
  {
   "cell_type": "markdown",
   "id": "37595ebe",
   "metadata": {},
   "source": [
    "$$\\textbf{J}\\,\\vec{e}_k = \\lambda_{k}\\,\\vec{e}_k$$\n",
    "\n",
    "$$\\downarrow$$\n",
    "\n",
    "$$\\lambda_{k} = \\left(\\textbf{J}\\,\\vec{\\lambda}_{k}, \\vec{\\lambda}_{k}\\right) = J_k > 0$$"
   ]
  },
  {
   "cell_type": "markdown",
   "id": "85d980ad",
   "metadata": {},
   "source": [
    "Напрями $\\left\\{ \\vec{e}_k \\right\\}$ отримали назви головних осей інерції. Відповідні власні значення $\\lambda_{k} = J_k$ – це моменти\n",
    "інерції відносно головних осей інерції (головні моменти)"
   ]
  },
  {
   "cell_type": "markdown",
   "id": "a40aaa9d",
   "metadata": {},
   "source": [
    "$$\\left(\\textbf{J}\\,\\vec{\\omega}, \\vec{\\omega}\\right) = 1$$"
   ]
  },
  {
   "cell_type": "markdown",
   "id": "43eeb12a",
   "metadata": {},
   "source": [
    "З тензором інерції $\\textbf{J}$ зручно зв'язати так званий еліпсоїд інерції тіла у точці обертання"
   ]
  },
  {
   "cell_type": "markdown",
   "id": "7abeeca1",
   "metadata": {},
   "source": [
    "що дозволяє геометрично уявити (“побачити”) тензор, що має в системі координат з головних осей\n",
    "$\\left\\{ \\vec{e}_1, \\vec{e}_2, \\vec{e}_3 \\right\\}$\n",
    " канонічний вигляд"
   ]
  },
  {
   "cell_type": "markdown",
   "id": "b469c226",
   "metadata": {},
   "source": [
    "$$J_1 \\omega_1^2 + J_2 \\omega_2^2 + J_3 \\omega_3^2 = 1$$"
   ]
  },
  {
   "cell_type": "markdown",
   "id": "1b4aa589",
   "metadata": {},
   "source": [
    "$$\\frac{\\omega_1^2}{\\frac{1}{\\sqrt{J_1^2}}} +\n",
    "\\frac{\\omega_2^2}{\\frac{1}{\\sqrt{J_2^2}}} +\n",
    "\\frac{\\omega_3^2}{\\frac{1}{\\sqrt{J_3^2}}} = 1$$"
   ]
  },
  {
   "cell_type": "markdown",
   "id": "02ab32a7",
   "metadata": {},
   "source": [
    "Отже, головні осі інерції еліпсоїда одночасно є і головними осями інерції тіла, а їх довжини\n",
    "обернено пропорційні $\\sqrt{J_k}$."
   ]
  },
  {
   "cell_type": "markdown",
   "id": "0d89e440",
   "metadata": {},
   "source": [
    "5.1. Знайти тензор інерції J твердого тіла V з об'ємною щільністю $\\rho ( r )$ на початку координат,\n",
    "еліпсоїд, головні осі та головні моменти інерції."
   ]
  },
  {
   "cell_type": "markdown",
   "id": "79d6aaef",
   "metadata": {},
   "source": [
    "$V = \\left\\{\\frac{x^2}{a^2} + \\frac{y^2}{b^2} + \\frac{z^2}{c^2} <= 2 \\frac{z}{c} \\right\\}$"
   ]
  },
  {
   "cell_type": "markdown",
   "id": "22a97e0f",
   "metadata": {},
   "source": [
    "$\\rho = \\frac{x^2}{a^2} + \\frac{y^2}{b^2} + \\frac{z^2}{c^2}$"
   ]
  },
  {
   "cell_type": "markdown",
   "id": "3c5cfd5f",
   "metadata": {},
   "source": [
    "Розв’язання. Осі координат $Oz$, $xOz$, $yOz$, очевидно, є осями симетрії тіла 2-го порядку, тобто при повороті навколо них на кут $2\\,\\pi/2=\\pi$ тіло суміщається з\n",
    "собою (і геометрично, і розподілом маси), а значить, суміщається і еліпсоїд\n",
    "інерції, тобто осі координат є його осями, так що відцентрові моменти\n",
    "дорівнюють нулю $J_{xy} = J_{yz} = J_{zx} = 0$ (що втім, випливає із симетричності області інтегрування та непарності підінтегральних функцій) Отже, тензор інерції має діагональний вигляд. \n",
    "\n",
    "Знайдемо моменти інерції відносно осей координат."
   ]
  },
  {
   "cell_type": "markdown",
   "id": "0a45c8ee",
   "metadata": {},
   "source": [
    "$$J_{zz} = \\iiint\\limits_{V}^{}\\left(x^2+y^2\\right)\\,\\rho(x,y,z) \\, dx\\,dy\\,dz$$"
   ]
  },
  {
   "cell_type": "markdown",
   "id": "b73d6304",
   "metadata": {},
   "source": [
    "$$J_{zz} = \\iiint\\limits_{V}^{}\\left(x^2+y^2\\right)\\,\\left( \\frac{x^2}{a^2} + \\frac{y^2}{b^2} + \\frac{z^2}{c^2} \\right) \\, \\,dx\\,dy\\,dz$$"
   ]
  },
  {
   "cell_type": "markdown",
   "id": "0caa0d1a",
   "metadata": {},
   "source": [
    "Перейдемо до узагальнених циліндричних координат"
   ]
  },
  {
   "cell_type": "markdown",
   "id": "f81ca1df",
   "metadata": {},
   "source": [
    "$$\\rightarrow=\\left[\\begin{array}{c}\n",
    "    x = a u\\\\\n",
    "    y = b v\\\\\n",
    "    z = c w\\\\\n",
    "\\end{array} \\rightarrow \\frac{D(x,y,z)}{D(u,v,w)} = abc\\right] =$$"
   ]
  },
  {
   "cell_type": "markdown",
   "id": "67f64eb1",
   "metadata": {},
   "source": [
    "$$J_{zz} = abc\\iiint\\limits_{\\Delta}^{}\\left((au)^2+(bv)^2\\right)\\,\\left( {u^2} + {v^2} + {w^2} \\right)\\,du\\,dv\\,dw$$"
   ]
  },
  {
   "cell_type": "markdown",
   "id": "82cbed33",
   "metadata": {},
   "source": [
    "$$\\rightarrow=\\left[\\begin{array}{c}\n",
    "    u = r\\, cos (\\varphi) \\, sin(\\theta)\\\\\n",
    "    v = r\\, sin (\\varphi) \\, sin(\\theta)\\\\\n",
    "    w = r  \\, cos(\\theta)\\\\\n",
    "\\end{array} \\rightarrow \\frac{D(u,v,w)}{D(r,\\varphi,w)} = r^2\\,sin(\\theta)\\right] =$$"
   ]
  },
  {
   "cell_type": "markdown",
   "id": "37b06ee5",
   "metadata": {},
   "source": [
    "$$J_{zz} = abc\\iiint\\limits_{\\Omega}^{}((a\\,r\\, cos (\\varphi) \\, sin(\\theta))^2+(b\\,r\\, sin (\\varphi) \\, sin(\\theta))^2\\cdot r^2\\cdot r^2\\,sin(\\theta)\\,dr\\,d\\theta\\,d\\varphi$$"
   ]
  },
  {
   "cell_type": "code",
   "execution_count": 1,
   "id": "35a89a5b",
   "metadata": {},
   "outputs": [],
   "source": [
    "from IPython.display import display, Math, Latex\n",
    "\n",
    "def disp(ex):\n",
    "    display(Math(latex(ex)))"
   ]
  },
  {
   "cell_type": "code",
   "execution_count": 4,
   "id": "96367a88",
   "metadata": {},
   "outputs": [
    {
     "name": "stdout",
     "output_type": "stream",
     "text": [
      "rho_uvw = r^2\n",
      "r_max^2 == 2*r_max*cos(theta)\n",
      "[\n",
      "r_max == 2*cos(theta),\n",
      "r_max == 0\n",
      "]\n",
      "2*cos(theta)\n"
     ]
    }
   ],
   "source": [
    "a,b,c = var(\"a,b,c\")\n",
    "x,y,z = var(\"x,y,z\")\n",
    "r,phi,theta = var(\"r,phi,theta\")\n",
    "assume(a, \"real\")\n",
    "assume(b, \"real\")\n",
    "assume(c, \"real\")\n",
    "\n",
    "assume(a>0)\n",
    "assume(b>0)\n",
    "assume(c>0)\n",
    "\n",
    "u = r * cos(phi) * sin(theta)\n",
    "v = r * sin(phi) * sin(theta)\n",
    "w = r * cos(theta)\n",
    "\n",
    "rho_xyz = ((x^2)/(a^2) + (y^2)/(b^2) + (z^2)/(c^2))\n",
    "rho_uvw = rho_xyz.subs(x == a * u, y == b * v, z = c * w).full_simplify()\n",
    "print(\"rho_uvw =\", rho_uvw)\n",
    "\n",
    "# Jacobian\n",
    "J = r^2*sin(theta)\n",
    "\n",
    "r_max = var(\"r_max\")\n",
    "eq_rmax = r_max^2 == (2*z/c) \\\n",
    "    .subs(x == a * u, y == b * v, z = c * w) \\\n",
    "    .subs(r == r_max) \\\n",
    "    .full_simplify()\n",
    "print(eq_rmax)\n",
    "rmax = solve(eq_rmax, r_max)\n",
    "print(rmax)\n",
    "rmax = rmax[0].rhs()\n",
    "print(rmax)"
   ]
  },
  {
   "cell_type": "code",
   "execution_count": 5,
   "id": "01c510e3",
   "metadata": {},
   "outputs": [
    {
     "data": {
      "text/latex": [
       "$\\displaystyle \\frac{16}{35} \\, {\\left(\\pi a^{2} + \\pi b^{2}\\right)} a b c$"
      ],
      "text/plain": [
       "<IPython.core.display.Math object>"
      ]
     },
     "metadata": {},
     "output_type": "display_data"
    }
   ],
   "source": [
    "J_zz = a * b * c * (((a*u)^2+(b*v)^2)*rho_uvw*J) \\\n",
    "   .integrate(r, 0, rmax) \\\n",
    "   .integrate(theta, 0, pi/2) \\\n",
    "   .integrate(phi, 0, 2*pi)\n",
    "disp(J_zz)"
   ]
  },
  {
   "cell_type": "markdown",
   "id": "d54ee128",
   "metadata": {},
   "source": [
    "Далі"
   ]
  },
  {
   "cell_type": "markdown",
   "id": "69dbddf3",
   "metadata": {},
   "source": [
    "$$J_{xx} = \\iiint\\limits_{V}^{}(y^2+z^2)\\,\\rho(x,y,z) \\, dx dy dz$$"
   ]
  },
  {
   "cell_type": "markdown",
   "id": "fa6d2669",
   "metadata": {},
   "source": [
    "$$J_{xx} = \\iiint\\limits_{V}^{}\\left(y^2+z^2\\right)\\,\\left( \\frac{x^2}{a^2} + \\frac{y^2}{b^2} + \\frac{z^2}{c^2} \\right) \\, \\,dx\\,dy\\,dz$$"
   ]
  },
  {
   "cell_type": "markdown",
   "id": "f64f15f9",
   "metadata": {},
   "source": [
    "$$J_{zz} = abc\\iiint\\limits_{\\Delta}^{}\\left((bv)^2+(cw)^2\\right)\\,\\left( {u^2} + {v^2} + {w^2} \\right)\\,du\\,dv\\,dw$$"
   ]
  },
  {
   "cell_type": "code",
   "execution_count": 6,
   "id": "1e28a8b2",
   "metadata": {},
   "outputs": [
    {
     "data": {
      "text/latex": [
       "$\\displaystyle \\frac{16}{35} \\, {\\left(\\pi b^{2} + 8 \\, \\pi c^{2}\\right)} a b c$"
      ],
      "text/plain": [
       "<IPython.core.display.Math object>"
      ]
     },
     "metadata": {},
     "output_type": "display_data"
    }
   ],
   "source": [
    "J_xx = a * b * c * (((b*v)^2+(c*w)^2)*rho_uvw*J) \\\n",
    "   .integrate(r, 0, rmax) \\\n",
    "   .integrate(theta, 0, pi/2) \\\n",
    "   .integrate(phi, 0, 2*pi)\n",
    "disp(J_xx)"
   ]
  },
  {
   "cell_type": "markdown",
   "id": "ff9e82ce",
   "metadata": {},
   "source": [
    "Далі"
   ]
  },
  {
   "cell_type": "markdown",
   "id": "2ccc4a95",
   "metadata": {},
   "source": [
    "$$J_{yy} = \\iiint\\limits_{V}^{}(x^2+z^2)\\,\\rho(x,y,z) \\, dx dy dz$$"
   ]
  },
  {
   "cell_type": "markdown",
   "id": "d3003fdf",
   "metadata": {},
   "source": [
    "$$J_{yy} = \\iiint\\limits_{V}^{}\\left(x^2+z^2\\right)\\,\\left( \\frac{x^2}{a^2} + \\frac{y^2}{b^2} + \\frac{z^2}{c^2} \\right) \\, \\,dx\\,dy\\,dz$$"
   ]
  },
  {
   "cell_type": "markdown",
   "id": "951d3a73",
   "metadata": {},
   "source": [
    "$$J_{yy} = abc\\iiint\\limits_{\\Delta}^{}\\left((au)^2+(cw)^2\\right)\\,\\left( {u^2} + {v^2} + {w^2} \\right)\\,du\\,dv\\,dw$$"
   ]
  },
  {
   "cell_type": "code",
   "execution_count": 7,
   "id": "24334b78",
   "metadata": {},
   "outputs": [
    {
     "data": {
      "text/latex": [
       "$\\displaystyle \\frac{16}{35} \\, {\\left(\\pi a^{2} + 8 \\, \\pi c^{2}\\right)} a b c$"
      ],
      "text/plain": [
       "<IPython.core.display.Math object>"
      ]
     },
     "metadata": {},
     "output_type": "display_data"
    }
   ],
   "source": [
    "J_yy = a * b * c * (((a*u)^2+(c*w)^2)*rho_uvw*J) \\\n",
    "   .integrate(r, 0, rmax) \\\n",
    "   .integrate(theta, 0, pi/2) \\\n",
    "   .integrate(phi, 0, 2*pi)\n",
    "disp(J_yy)"
   ]
  },
  {
   "cell_type": "markdown",
   "id": "762f04ca",
   "metadata": {},
   "source": [
    "Отже, тензор інерції дорівнює"
   ]
  },
  {
   "cell_type": "code",
   "execution_count": 8,
   "id": "c946cebc",
   "metadata": {},
   "outputs": [
    {
     "data": {
      "text/latex": [
       "$\\displaystyle \\left(\\begin{array}{rrr}\n",
       "\\frac{16}{35} \\, {\\left(\\pi b^{2} + 8 \\, \\pi c^{2}\\right)} a b c & 0 & 0 \\\\\n",
       "0 & \\frac{16}{35} \\, {\\left(\\pi a^{2} + 8 \\, \\pi c^{2}\\right)} a b c & 0 \\\\\n",
       "0 & 0 & \\frac{16}{35} \\, {\\left(\\pi a^{2} + \\pi b^{2}\\right)} a b c\n",
       "\\end{array}\\right)$"
      ],
      "text/plain": [
       "<IPython.core.display.Math object>"
      ]
     },
     "metadata": {},
     "output_type": "display_data"
    }
   ],
   "source": [
    "J=matrix(SR,[[J_xx,0,0],[0,J_yy,0],[0,0,J_zz]])\n",
    "disp(J)"
   ]
  },
  {
   "cell_type": "code",
   "execution_count": null,
   "id": "964e4763",
   "metadata": {},
   "outputs": [],
   "source": []
  }
 ],
 "metadata": {
  "kernelspec": {
   "display_name": "SageMath 9.6.beta7",
   "language": "sage",
   "name": "sagemath"
  },
  "language_info": {
   "codemirror_mode": {
    "name": "ipython",
    "version": 3
   },
   "file_extension": ".py",
   "mimetype": "text/x-python",
   "name": "python",
   "nbconvert_exporter": "python",
   "pygments_lexer": "ipython3",
   "version": "3.10.3"
  }
 },
 "nbformat": 4,
 "nbformat_minor": 5
}

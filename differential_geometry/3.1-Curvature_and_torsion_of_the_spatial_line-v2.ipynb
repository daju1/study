{
 "cells": [
  {
   "cell_type": "markdown",
   "id": "88dca344",
   "metadata": {},
   "source": [
    "3. КРИВИЗНА І КРУЧЕННЯ ПРОСТОРОВОЇ ЛІНІЇ"
   ]
  },
  {
   "cell_type": "markdown",
   "id": "13271a81",
   "metadata": {},
   "source": [
    "3.1. Дано рівняння траєкторії руху матеріальної точки $r=\\vec{r}\\left(t\\right)$. Знайти кривизну $k_{\\tau}$ та радіус кривизни $d_{\\tau}$. Перевірити для складових прискорення $\\vec{w} = \\vec{w}_{\\parallel} + \\vec{w}_{\\perp}$ що ${w}_{\\parallel} = {v'}$, ${w}_{\\perp} = \\frac{v^2}{d_{\\tau}}$"
   ]
  },
  {
   "cell_type": "markdown",
   "id": "00e15a50",
   "metadata": {},
   "source": [
    "$\\vec{r}\\left(t\\right)=\\left(\\begin{array}{c}\n",
    "    cos(t^3) \\\\\n",
    "    sin(t^3) \\\\\n",
    "    t^3 \\\\\n",
    "\\end{array}\\right)$"
   ]
  },
  {
   "cell_type": "markdown",
   "id": "ac086fc8",
   "metadata": {},
   "source": [
    "Кривизною $k_{\\tau}$ кривої в точці $М$ називається границя відношення кута повороту дотичної при переході з цієї точки в нескінченно близьку точку $M_1$ до нескінченно малої довжини дуги, укладеної між цими точками\n",
    "\n",
    "$$\\underset{\\Delta s \\rightarrow 0}{lim}\\frac{\\varphi}{\\Delta s}$$"
   ]
  },
  {
   "cell_type": "markdown",
   "id": "a79cf692",
   "metadata": {},
   "source": [
    "Кривизна кривої обчислюється за формулами:\n",
    "\n",
    "- у випадку природної параметризації $\\vec{\\rho} \\left(s\\right)$ $k_{\\tau} = \\left|\\ddot{\\vec{\\rho}}\\right|$\n",
    "- у випадку довільної параметризації $\\vec{r} \\left(t\\right)$ $k_{\\tau} = \\frac{\\left|\\left[\\vec{r}', \\vec{r}''\\right]\\right|}{\\left|\\vec{r}'\\right|^3}$"
   ]
  },
  {
   "cell_type": "markdown",
   "id": "ce39205a",
   "metadata": {},
   "source": [
    "Задача є продовженням задачі 1.1, деякими результатами якої ми скористаємося. Було отримано"
   ]
  },
  {
   "cell_type": "code",
   "execution_count": 1,
   "id": "3c8c9321",
   "metadata": {},
   "outputs": [],
   "source": [
    "from IPython.display import display, Math, Latex\n",
    "\n",
    "def disp(ex):\n",
    "    display(Math(latex(ex)))"
   ]
  },
  {
   "cell_type": "code",
   "execution_count": 2,
   "id": "e0530454",
   "metadata": {},
   "outputs": [],
   "source": [
    "t, x, y, z, t_0 = var(\"t, x, y, z, t_0\")\n",
    "r = vector([var(\"x\"),var(\"y\"),var(\"z\")])\n",
    "assume(t, \"real\")\n",
    "assume(t > 0)\n",
    "X = lambda t : cos(t^3)\n",
    "Y = lambda t : sin(t^3)\n",
    "Z = lambda t : t^3"
   ]
  },
  {
   "cell_type": "code",
   "execution_count": 3,
   "id": "ee021854",
   "metadata": {},
   "outputs": [
    {
     "data": {
      "text/latex": [
       "$\\displaystyle \\left(\\cos\\left(t^{3}\\right),\\,\\sin\\left(t^{3}\\right),\\,t^{3}\\right)$"
      ],
      "text/plain": [
       "<IPython.core.display.Math object>"
      ]
     },
     "metadata": {},
     "output_type": "display_data"
    }
   ],
   "source": [
    "R = lambda t : vector([X(t),Y(t),Z(t)])\n",
    "disp(R(t))"
   ]
  },
  {
   "cell_type": "code",
   "execution_count": 4,
   "id": "04a65f5c",
   "metadata": {},
   "outputs": [],
   "source": [
    "exec(preparse(\"v = lambda t : vector(\" + str(R(t).diff(t)) + \")\"))\n",
    "exec(preparse(\"w = lambda t : vector(\" + str(R(t).diff(t,2)) + \")\"))"
   ]
  },
  {
   "cell_type": "code",
   "execution_count": 5,
   "id": "41e3a430",
   "metadata": {},
   "outputs": [
    {
     "data": {
      "text/latex": [
       "$\\displaystyle \\left(-3 \\, t^{2} \\sin\\left(t^{3}\\right),\\,3 \\, t^{2} \\cos\\left(t^{3}\\right),\\,3 \\, t^{2}\\right)$"
      ],
      "text/plain": [
       "<IPython.core.display.Math object>"
      ]
     },
     "metadata": {},
     "output_type": "display_data"
    }
   ],
   "source": [
    "disp(v(t))"
   ]
  },
  {
   "cell_type": "code",
   "execution_count": 6,
   "id": "0ee9eef1",
   "metadata": {},
   "outputs": [
    {
     "data": {
      "text/latex": [
       "$\\displaystyle 3 \\, \\sqrt{2} t^{2}$"
      ],
      "text/plain": [
       "<IPython.core.display.Math object>"
      ]
     },
     "metadata": {},
     "output_type": "display_data"
    }
   ],
   "source": [
    "# величина швидкості\n",
    "V = lambda t : v(t).norm().factor().trig_simplify()\n",
    "disp(V(t))"
   ]
  },
  {
   "cell_type": "code",
   "execution_count": 7,
   "id": "a1d73183",
   "metadata": {},
   "outputs": [
    {
     "data": {
      "text/latex": [
       "$\\displaystyle \\left(-\\frac{1}{2} \\, \\sqrt{2} \\sin\\left(t^{3}\\right),\\,\\frac{1}{2} \\, \\sqrt{2} \\cos\\left(t^{3}\\right),\\,\\frac{1}{2} \\, \\sqrt{2}\\right)$"
      ],
      "text/plain": [
       "<IPython.core.display.Math object>"
      ]
     },
     "metadata": {},
     "output_type": "display_data"
    }
   ],
   "source": [
    "# напрямок швидкості, вона ж напрямок дотичної\n",
    "tau = lambda t : v(t) / V(t)\n",
    "disp(tau(t))"
   ]
  },
  {
   "cell_type": "code",
   "execution_count": 8,
   "id": "b9cabbde",
   "metadata": {},
   "outputs": [
    {
     "data": {
      "text/latex": [
       "$\\displaystyle 3 \\, \\sqrt{9 \\, t^{8} + 8 \\, t^{2}}$"
      ],
      "text/plain": [
       "<IPython.core.display.Math object>"
      ]
     },
     "metadata": {},
     "output_type": "display_data"
    }
   ],
   "source": [
    "# величина прискорення\n",
    "W = lambda t : w(t).norm().trig_simplify()\n",
    "disp(W(t))"
   ]
  },
  {
   "cell_type": "code",
   "execution_count": 9,
   "id": "fdca669b",
   "metadata": {},
   "outputs": [],
   "source": [
    "# напрямок прискорення\n",
    "e_w = lambda t : w(t) / W(t)"
   ]
  },
  {
   "cell_type": "markdown",
   "id": "44a2abd0",
   "metadata": {},
   "source": [
    "Розкладемо прискорення $\\vec{w}$ на дотичну $\\vec{w_{\\parallel}}$ $\\parallel$ $\\vec{e_v}$ і нормальну $\\vec{w_{\\perp}}$ $\\perp$ $\\vec{e_v}$ складові"
   ]
  },
  {
   "cell_type": "code",
   "execution_count": 10,
   "id": "02c264d0",
   "metadata": {},
   "outputs": [
    {
     "data": {
      "text/latex": [
       "$\\displaystyle 6 \\, \\sqrt{2} t$"
      ],
      "text/plain": [
       "<IPython.core.display.Math object>"
      ]
     },
     "metadata": {},
     "output_type": "display_data"
    }
   ],
   "source": [
    "w_parallel = w(t).dot_product(tau(t))\n",
    "w_parallel = w_parallel.trig_simplify()\n",
    "disp(w_parallel)"
   ]
  },
  {
   "cell_type": "code",
   "execution_count": 11,
   "id": "744aef85",
   "metadata": {},
   "outputs": [
    {
     "data": {
      "text/latex": [
       "$\\displaystyle \\left(-6 \\, t \\sin\\left(t^{3}\\right),\\,6 \\, t \\cos\\left(t^{3}\\right),\\,6 \\, t\\right)$"
      ],
      "text/plain": [
       "<IPython.core.display.Math object>"
      ]
     },
     "metadata": {},
     "output_type": "display_data"
    }
   ],
   "source": [
    "disp(w_parallel * tau(t))"
   ]
  },
  {
   "cell_type": "code",
   "execution_count": 12,
   "id": "262bf112",
   "metadata": {},
   "outputs": [
    {
     "data": {
      "text/latex": [
       "$\\displaystyle \\left(-9 \\, t^{4} \\cos\\left(t^{3}\\right),\\,-9 \\, t^{4} \\sin\\left(t^{3}\\right),\\,0\\right)$"
      ],
      "text/plain": [
       "<IPython.core.display.Math object>"
      ]
     },
     "metadata": {},
     "output_type": "display_data"
    }
   ],
   "source": [
    "w_perp = lambda t : w(t) - w_parallel * tau(t)\n",
    "disp(w_perp(t))"
   ]
  },
  {
   "cell_type": "code",
   "execution_count": 13,
   "id": "ac830a99",
   "metadata": {},
   "outputs": [
    {
     "data": {
      "text/latex": [
       "$\\displaystyle 9 \\, t^{4}$"
      ],
      "text/plain": [
       "<IPython.core.display.Math object>"
      ]
     },
     "metadata": {},
     "output_type": "display_data"
    }
   ],
   "source": [
    "# величина нормального прискорення\n",
    "W_perp = lambda t : w_perp(t).norm().trig_simplify()\n",
    "disp(W_perp(t))"
   ]
  },
  {
   "cell_type": "markdown",
   "id": "a59a73a1",
   "metadata": {},
   "source": [
    "Знайдемо кривизну"
   ]
  },
  {
   "cell_type": "markdown",
   "id": "9db42a9c",
   "metadata": {},
   "source": [
    "$k_{\\tau}\n",
    "= \\frac{\\left|\\left[\\vec{r}', \\vec{r}''\\right]\\right|}{\\left|\\vec{r}'\\right|^3}\n",
    "= \\frac{\\left|\\left[\\vec{v}, \\vec{w}\\right]\\right|}{\\left|\\vec{v}\\right|^3}\n",
    "= \\frac{\\left|\\left[\\vec{v}, \\vec{w_{\\parallel}}+\\vec{w_{\\perp}}\\right]\\right|}{\\left|\\vec{v}\\right|^3}\n",
    "= \\frac{\\left|\\left[\\vec{v}, \\vec{w_{\\perp}}\\right]\\right|}{\\left|\\vec{v}\\right|^3}\n",
    "= \\frac{\\left|\\vec{v}\\right| \\cdot \\left|\\vec{w_{\\perp}}\\right|}{\\left|\\vec{v}\\right|^3}\n",
    "= \\frac{\\left|\\vec{w_{\\perp}}\\right|}{\\left|\\vec{v}\\right|^2}$"
   ]
  },
  {
   "cell_type": "code",
   "execution_count": 14,
   "id": "f35ea5ac",
   "metadata": {},
   "outputs": [
    {
     "data": {
      "text/latex": [
       "$\\displaystyle \\frac{1}{2}$"
      ],
      "text/plain": [
       "<IPython.core.display.Math object>"
      ]
     },
     "metadata": {},
     "output_type": "display_data"
    }
   ],
   "source": [
    "# Знайдемо кривизну\n",
    "k_tau = lambda t : W_perp(t)/V(t)^2\n",
    "disp(k_tau(t))"
   ]
  },
  {
   "cell_type": "markdown",
   "id": "3d1646bd",
   "metadata": {},
   "source": [
    "Звідки можна отримати, що\n",
    "\n",
    "$w_{\\perp} = \\left|\\vec{w_{\\perp}}\\right| = k_{\\tau} \\cdot{\\left|\\vec{v}\\right|^2} = \\frac{v^2}{d_{\\tau}}$\n",
    "\n",
    "$d_{\\tau} = \\frac{1}{k_{\\tau}}$"
   ]
  },
  {
   "cell_type": "code",
   "execution_count": 15,
   "id": "ce6972d4",
   "metadata": {},
   "outputs": [
    {
     "data": {
      "text/latex": [
       "$\\displaystyle 2$"
      ],
      "text/plain": [
       "<IPython.core.display.Math object>"
      ]
     },
     "metadata": {},
     "output_type": "display_data"
    }
   ],
   "source": [
    "d_tau = lambda t : 1 / k_tau(t)\n",
    "disp(d_tau(t))"
   ]
  },
  {
   "cell_type": "markdown",
   "id": "3ecb83da",
   "metadata": {},
   "source": [
    "Отже для складових прискорення  ${w}_{\\parallel} = {v'}$"
   ]
  },
  {
   "cell_type": "code",
   "execution_count": 16,
   "id": "aa453792",
   "metadata": {},
   "outputs": [
    {
     "data": {
      "text/latex": [
       "$\\displaystyle 6 \\, \\sqrt{2} t$"
      ],
      "text/plain": [
       "<IPython.core.display.Math object>"
      ]
     },
     "metadata": {},
     "output_type": "display_data"
    }
   ],
   "source": [
    "disp(w_parallel)"
   ]
  },
  {
   "cell_type": "code",
   "execution_count": 17,
   "id": "c572dabc",
   "metadata": {},
   "outputs": [
    {
     "data": {
      "text/latex": [
       "$\\displaystyle 6 \\, \\sqrt{2} t$"
      ],
      "text/plain": [
       "<IPython.core.display.Math object>"
      ]
     },
     "metadata": {},
     "output_type": "display_data"
    }
   ],
   "source": [
    "# derivative of velocity's module\n",
    "disp(V(t).diff(t))"
   ]
  },
  {
   "cell_type": "markdown",
   "id": "b3c7ef6a",
   "metadata": {},
   "source": [
    "для складових прискорення ${w}_{\\perp} = \\frac{v^2}{d_{\\tau}}$"
   ]
  },
  {
   "cell_type": "code",
   "execution_count": 18,
   "id": "520871f0",
   "metadata": {},
   "outputs": [
    {
     "data": {
      "text/latex": [
       "$\\displaystyle 9 \\, t^{4}$"
      ],
      "text/plain": [
       "<IPython.core.display.Math object>"
      ]
     },
     "metadata": {},
     "output_type": "display_data"
    }
   ],
   "source": [
    "disp(W_perp(t))"
   ]
  },
  {
   "cell_type": "code",
   "execution_count": 19,
   "id": "f1369a6f",
   "metadata": {},
   "outputs": [
    {
     "data": {
      "text/latex": [
       "$\\displaystyle 9 \\, t^{4}$"
      ],
      "text/plain": [
       "<IPython.core.display.Math object>"
      ]
     },
     "metadata": {},
     "output_type": "display_data"
    }
   ],
   "source": [
    "disp(V(t)^2/d_tau(t))"
   ]
  },
  {
   "cell_type": "markdown",
   "id": "8ab7682d",
   "metadata": {},
   "source": [
    "Зауваження. У будь-який момент часу прискорення точки розкладається у суму двох складових:\n",
    "прискорення вздовж дотичної до кривої за рахунок зміни величини швидкості $v′ \\neq 0$ і доцентрове\n",
    "прискорення по колу радіуса $d_{\\tau}$ зі сталою за величиною швидкістю $v$ за рахунок зміни її напрямку."
   ]
  },
  {
   "cell_type": "code",
   "execution_count": null,
   "id": "1e5596f0",
   "metadata": {},
   "outputs": [],
   "source": []
  }
 ],
 "metadata": {
  "kernelspec": {
   "display_name": "SageMath 9.6.beta7",
   "language": "sage",
   "name": "sagemath"
  },
  "language_info": {
   "codemirror_mode": {
    "name": "ipython",
    "version": 3
   },
   "file_extension": ".py",
   "mimetype": "text/x-python",
   "name": "python",
   "nbconvert_exporter": "python",
   "pygments_lexer": "ipython3",
   "version": "3.10.3"
  }
 },
 "nbformat": 4,
 "nbformat_minor": 5
}

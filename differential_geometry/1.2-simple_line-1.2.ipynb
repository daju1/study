{
 "cells": [
  {
   "cell_type": "markdown",
   "id": "c675cd10",
   "metadata": {},
   "source": [
    "1.2. Дано параметричне рівняння кривої $\\vec{r ( t )}$ Побудувати рівняння ребер та граней природного\n",
    "тригранника кривої"
   ]
  },
  {
   "cell_type": "code",
   "execution_count": 1,
   "id": "08379a16",
   "metadata": {},
   "outputs": [],
   "source": [
    "from IPython.display import display, Math, Latex\n",
    "\n",
    "def disp(ex):\n",
    "    display(Math(latex(ex)))"
   ]
  },
  {
   "cell_type": "code",
   "execution_count": 2,
   "id": "99482ce4",
   "metadata": {},
   "outputs": [],
   "source": [
    "t, x, y, z = var(\"t, x, y, z\")\n",
    "assume(t, \"real\")\n",
    "assume(t > 0)\n",
    "X = lambda t : cos(exp(t))\n",
    "Y = lambda t : sin(exp(t))\n",
    "Z = lambda t : exp(t)"
   ]
  },
  {
   "cell_type": "code",
   "execution_count": 3,
   "id": "a3cb6ca7",
   "metadata": {},
   "outputs": [],
   "source": [
    "t_0 = 0"
   ]
  },
  {
   "cell_type": "code",
   "execution_count": 4,
   "id": "4b804737",
   "metadata": {},
   "outputs": [
    {
     "data": {
      "text/latex": [
       "$\\displaystyle \\left(x,\\,y,\\,z\\right)$"
      ],
      "text/plain": [
       "<IPython.core.display.Math object>"
      ]
     },
     "metadata": {},
     "output_type": "display_data"
    }
   ],
   "source": [
    "r = vector([var(\"x\"),var(\"y\"),var(\"z\")])\n",
    "disp(r)"
   ]
  },
  {
   "cell_type": "code",
   "execution_count": 5,
   "id": "87c12021",
   "metadata": {},
   "outputs": [
    {
     "data": {
      "text/latex": [
       "$\\displaystyle \\left(\\cos\\left(e^{t}\\right),\\,\\sin\\left(e^{t}\\right),\\,e^{t}\\right)$"
      ],
      "text/plain": [
       "<IPython.core.display.Math object>"
      ]
     },
     "metadata": {},
     "output_type": "display_data"
    }
   ],
   "source": [
    "R = lambda t : vector([X(t),Y(t),Z(t)])\n",
    "disp(R(t))"
   ]
  },
  {
   "cell_type": "code",
   "execution_count": 6,
   "id": "678eb8e6",
   "metadata": {},
   "outputs": [
    {
     "data": {
      "text/latex": [
       "$\\displaystyle \\left(\\cos\\left(1\\right),\\,\\sin\\left(1\\right),\\,1\\right)$"
      ],
      "text/plain": [
       "<IPython.core.display.Math object>"
      ]
     },
     "metadata": {},
     "output_type": "display_data"
    }
   ],
   "source": [
    "disp(R(t_0))"
   ]
  },
  {
   "cell_type": "markdown",
   "id": "92fe6835",
   "metadata": {},
   "source": [
    "$\\vec{r'}\\left(t\\right)=\\left(\\begin{array}{l}\n",
    "    x'(t) \\\\\n",
    "    y'(t) \\\\\n",
    "    z'(t) \\\\\n",
    "\\end{array}\\right)$"
   ]
  },
  {
   "cell_type": "code",
   "execution_count": 7,
   "id": "44697968",
   "metadata": {},
   "outputs": [],
   "source": [
    "exec(preparse(\"v = lambda t : vector(\" + str(R(t).diff(t)) + \")\"))\n",
    "exec(preparse(\"w = lambda t : vector(\" + str(R(t).diff(t,2)) + \")\"))"
   ]
  },
  {
   "cell_type": "code",
   "execution_count": 8,
   "id": "22208e84",
   "metadata": {},
   "outputs": [
    {
     "data": {
      "text/latex": [
       "$\\displaystyle \\left(-e^{t} \\sin\\left(e^{t}\\right),\\,\\cos\\left(e^{t}\\right) e^{t},\\,e^{t}\\right)$"
      ],
      "text/plain": [
       "<IPython.core.display.Math object>"
      ]
     },
     "metadata": {},
     "output_type": "display_data"
    }
   ],
   "source": [
    "disp(v(t))"
   ]
  },
  {
   "cell_type": "code",
   "execution_count": 9,
   "id": "390d88de",
   "metadata": {},
   "outputs": [
    {
     "data": {
      "text/latex": [
       "$\\displaystyle \\left(-\\sin\\left(1\\right),\\,\\cos\\left(1\\right),\\,1\\right)$"
      ],
      "text/plain": [
       "<IPython.core.display.Math object>"
      ]
     },
     "metadata": {},
     "output_type": "display_data"
    }
   ],
   "source": [
    "disp(v(t_0))"
   ]
  },
  {
   "cell_type": "markdown",
   "id": "56b210fb",
   "metadata": {},
   "source": [
    "Знайдемо величину та напрямок швидкості"
   ]
  },
  {
   "cell_type": "code",
   "execution_count": 10,
   "id": "7a57e750",
   "metadata": {},
   "outputs": [
    {
     "data": {
      "text/latex": [
       "$\\displaystyle \\sqrt{\\cos\\left(e^{t}\\right)^{2} e^{\\left(2 \\, t\\right)} + e^{\\left(2 \\, t\\right)} \\sin\\left(e^{t}\\right)^{2} + e^{\\left(2 \\, t\\right)}}$"
      ],
      "text/plain": [
       "<IPython.core.display.Math object>"
      ]
     },
     "metadata": {},
     "output_type": "display_data"
    }
   ],
   "source": [
    "disp(v(t).norm())"
   ]
  },
  {
   "cell_type": "code",
   "execution_count": 11,
   "id": "1a57feea",
   "metadata": {},
   "outputs": [
    {
     "data": {
      "text/latex": [
       "$\\displaystyle \\sqrt{\\cos\\left(e^{t}\\right)^{2} + \\sin\\left(e^{t}\\right)^{2} + 1} e^{t}$"
      ],
      "text/plain": [
       "<IPython.core.display.Math object>"
      ]
     },
     "metadata": {},
     "output_type": "display_data"
    }
   ],
   "source": [
    "disp(v(t).norm().factor())"
   ]
  },
  {
   "cell_type": "code",
   "execution_count": 12,
   "id": "79b62503",
   "metadata": {},
   "outputs": [
    {
     "data": {
      "text/latex": [
       "$\\displaystyle \\sqrt{2} e^{t}$"
      ],
      "text/plain": [
       "<IPython.core.display.Math object>"
      ]
     },
     "metadata": {},
     "output_type": "display_data"
    }
   ],
   "source": [
    "# величина швидкості\n",
    "V = lambda t : v(t).norm().factor().trig_simplify()\n",
    "disp(V(t))"
   ]
  },
  {
   "cell_type": "code",
   "execution_count": 13,
   "id": "12156f38",
   "metadata": {},
   "outputs": [
    {
     "data": {
      "text/latex": [
       "$\\displaystyle \\sqrt{2}$"
      ],
      "text/plain": [
       "<IPython.core.display.Math object>"
      ]
     },
     "metadata": {},
     "output_type": "display_data"
    }
   ],
   "source": [
    "disp(V(t_0))"
   ]
  },
  {
   "cell_type": "code",
   "execution_count": 14,
   "id": "fb05112e",
   "metadata": {},
   "outputs": [],
   "source": [
    "# напрямок швидкості, вона ж напрямок дотичної\n",
    "tau = lambda t : v(t) / V(t)"
   ]
  },
  {
   "cell_type": "code",
   "execution_count": 15,
   "id": "48d02049",
   "metadata": {},
   "outputs": [
    {
     "data": {
      "text/latex": [
       "$\\displaystyle \\left(-\\frac{1}{2} \\, \\sqrt{2} \\sin\\left(e^{t}\\right),\\,\\frac{1}{2} \\, \\sqrt{2} \\cos\\left(e^{t}\\right),\\,\\frac{1}{2} \\, \\sqrt{2}\\right)$"
      ],
      "text/plain": [
       "<IPython.core.display.Math object>"
      ]
     },
     "metadata": {},
     "output_type": "display_data"
    }
   ],
   "source": [
    "disp(tau(t))"
   ]
  },
  {
   "cell_type": "code",
   "execution_count": 16,
   "id": "5b14a772",
   "metadata": {},
   "outputs": [
    {
     "data": {
      "text/latex": [
       "$\\displaystyle \\left(-\\frac{1}{2} \\, \\sqrt{2} \\sin\\left(1\\right),\\,\\frac{1}{2} \\, \\sqrt{2} \\cos\\left(1\\right),\\,\\frac{1}{2} \\, \\sqrt{2}\\right)$"
      ],
      "text/plain": [
       "<IPython.core.display.Math object>"
      ]
     },
     "metadata": {},
     "output_type": "display_data"
    }
   ],
   "source": [
    "disp(tau(t_0))"
   ]
  },
  {
   "cell_type": "markdown",
   "id": "fd308017",
   "metadata": {},
   "source": [
    "Знайдемо величину та напрямок прискорення"
   ]
  },
  {
   "cell_type": "code",
   "execution_count": 17,
   "id": "1d0bf571",
   "metadata": {},
   "outputs": [
    {
     "data": {
      "text/latex": [
       "$\\displaystyle \\left(-\\cos\\left(e^{t}\\right) e^{\\left(2 \\, t\\right)} - e^{t} \\sin\\left(e^{t}\\right),\\,\\cos\\left(e^{t}\\right) e^{t} - e^{\\left(2 \\, t\\right)} \\sin\\left(e^{t}\\right),\\,e^{t}\\right)$"
      ],
      "text/plain": [
       "<IPython.core.display.Math object>"
      ]
     },
     "metadata": {},
     "output_type": "display_data"
    }
   ],
   "source": [
    "disp(w(t))"
   ]
  },
  {
   "cell_type": "code",
   "execution_count": 18,
   "id": "3a712cf9",
   "metadata": {},
   "outputs": [
    {
     "data": {
      "text/latex": [
       "$\\displaystyle \\left(-\\cos\\left(1\\right) - \\sin\\left(1\\right),\\,\\cos\\left(1\\right) - \\sin\\left(1\\right),\\,1\\right)$"
      ],
      "text/plain": [
       "<IPython.core.display.Math object>"
      ]
     },
     "metadata": {},
     "output_type": "display_data"
    }
   ],
   "source": [
    "disp(w(t_0))"
   ]
  },
  {
   "cell_type": "code",
   "execution_count": 19,
   "id": "4b0e151b",
   "metadata": {},
   "outputs": [],
   "source": [
    "# величина прискорення\n",
    "W = lambda t : w(t).norm().factor().trig_simplify()"
   ]
  },
  {
   "cell_type": "code",
   "execution_count": 20,
   "id": "84cdb7f7",
   "metadata": {},
   "outputs": [
    {
     "data": {
      "text/latex": [
       "$\\displaystyle \\sqrt{e^{\\left(2 \\, t\\right)} + 2} e^{t}$"
      ],
      "text/plain": [
       "<IPython.core.display.Math object>"
      ]
     },
     "metadata": {},
     "output_type": "display_data"
    }
   ],
   "source": [
    "disp(W(t))"
   ]
  },
  {
   "cell_type": "code",
   "execution_count": 21,
   "id": "a6facb11",
   "metadata": {},
   "outputs": [
    {
     "data": {
      "text/latex": [
       "$\\displaystyle \\sqrt{3}$"
      ],
      "text/plain": [
       "<IPython.core.display.Math object>"
      ]
     },
     "metadata": {},
     "output_type": "display_data"
    }
   ],
   "source": [
    "disp(W(t_0))"
   ]
  },
  {
   "cell_type": "code",
   "execution_count": 22,
   "id": "4ef1e60d",
   "metadata": {},
   "outputs": [],
   "source": [
    "# напрямок прискорення\n",
    "e_w = lambda t : w(t) / W(t)"
   ]
  },
  {
   "cell_type": "code",
   "execution_count": 23,
   "id": "aa43291b",
   "metadata": {},
   "outputs": [
    {
     "data": {
      "text/latex": [
       "$\\displaystyle \\left(-\\frac{{\\left(\\cos\\left(e^{t}\\right) e^{\\left(2 \\, t\\right)} + e^{t} \\sin\\left(e^{t}\\right)\\right)} e^{\\left(-t\\right)}}{\\sqrt{e^{\\left(2 \\, t\\right)} + 2}},\\,\\frac{{\\left(\\cos\\left(e^{t}\\right) e^{t} - e^{\\left(2 \\, t\\right)} \\sin\\left(e^{t}\\right)\\right)} e^{\\left(-t\\right)}}{\\sqrt{e^{\\left(2 \\, t\\right)} + 2}},\\,\\frac{1}{\\sqrt{e^{\\left(2 \\, t\\right)} + 2}}\\right)$"
      ],
      "text/plain": [
       "<IPython.core.display.Math object>"
      ]
     },
     "metadata": {},
     "output_type": "display_data"
    }
   ],
   "source": [
    "disp(e_w(t))"
   ]
  },
  {
   "cell_type": "code",
   "execution_count": 24,
   "id": "0380d09d",
   "metadata": {},
   "outputs": [
    {
     "data": {
      "text/latex": [
       "$\\displaystyle \\left(-\\frac{1}{3} \\, \\sqrt{3} {\\left(\\cos\\left(1\\right) + \\sin\\left(1\\right)\\right)},\\,\\frac{1}{3} \\, \\sqrt{3} {\\left(\\cos\\left(1\\right) - \\sin\\left(1\\right)\\right)},\\,\\frac{1}{3} \\, \\sqrt{3}\\right)$"
      ],
      "text/plain": [
       "<IPython.core.display.Math object>"
      ]
     },
     "metadata": {},
     "output_type": "display_data"
    }
   ],
   "source": [
    "disp(e_w(t_0))"
   ]
  },
  {
   "cell_type": "markdown",
   "id": "98e12a9f",
   "metadata": {},
   "source": [
    "Розкладемо прискорення $\\vec{w}$ на дотичну $\\vec{w_{\\parallel}}$ $\\parallel$ $\\vec{e_v}$ і нормальну $\\vec{w_{\\perp}}$ $\\perp$ $\\vec{e_v}$ складові"
   ]
  },
  {
   "cell_type": "markdown",
   "id": "071e681b",
   "metadata": {},
   "source": [
    "$\\vec{w} = \\vec{w_{\\parallel}} + \\vec{w_{\\perp}} = w_{\\parallel} \\cdot \\vec{e_{\\parallel}} + w_{\\perp} \\cdot \\vec{e_{\\perp}}$"
   ]
  },
  {
   "cell_type": "markdown",
   "id": "52fd7789",
   "metadata": {},
   "source": [
    "$\\vec{e_{\\parallel}} = \\vec{e_{v}} = \\vec{\\tau}$"
   ]
  },
  {
   "cell_type": "code",
   "execution_count": 25,
   "id": "d5bf45ff",
   "metadata": {},
   "outputs": [],
   "source": [
    "w_parallel = w(t).dot_product(tau(t))"
   ]
  },
  {
   "cell_type": "code",
   "execution_count": 26,
   "id": "de9be339",
   "metadata": {},
   "outputs": [
    {
     "data": {
      "text/latex": [
       "$\\displaystyle \\frac{1}{2} \\, \\sqrt{2} {\\left(\\cos\\left(e^{t}\\right) e^{t} - e^{\\left(2 \\, t\\right)} \\sin\\left(e^{t}\\right)\\right)} \\cos\\left(e^{t}\\right) + \\frac{1}{2} \\, \\sqrt{2} {\\left(\\cos\\left(e^{t}\\right) e^{\\left(2 \\, t\\right)} + e^{t} \\sin\\left(e^{t}\\right)\\right)} \\sin\\left(e^{t}\\right) + \\frac{1}{2} \\, \\sqrt{2} e^{t}$"
      ],
      "text/plain": [
       "<IPython.core.display.Math object>"
      ]
     },
     "metadata": {},
     "output_type": "display_data"
    }
   ],
   "source": [
    "disp(w_parallel)"
   ]
  },
  {
   "cell_type": "code",
   "execution_count": 27,
   "id": "42d40b00",
   "metadata": {},
   "outputs": [
    {
     "data": {
      "text/latex": [
       "$\\displaystyle \\sqrt{2} e^{t}$"
      ],
      "text/plain": [
       "<IPython.core.display.Math object>"
      ]
     },
     "metadata": {},
     "output_type": "display_data"
    }
   ],
   "source": [
    "w_parallel = w_parallel.trig_simplify()\n",
    "disp(w_parallel)"
   ]
  },
  {
   "cell_type": "code",
   "execution_count": 28,
   "id": "e491ca2a",
   "metadata": {},
   "outputs": [
    {
     "data": {
      "text/latex": [
       "$\\displaystyle \\left(-e^{t} \\sin\\left(e^{t}\\right),\\,\\cos\\left(e^{t}\\right) e^{t},\\,e^{t}\\right)$"
      ],
      "text/plain": [
       "<IPython.core.display.Math object>"
      ]
     },
     "metadata": {},
     "output_type": "display_data"
    }
   ],
   "source": [
    "disp(w_parallel * tau(t))"
   ]
  },
  {
   "cell_type": "markdown",
   "id": "a347ab19",
   "metadata": {},
   "source": [
    "$\\vec{w_{\\perp}} = \\vec{w} - \\vec{w_{\\parallel}}$"
   ]
  },
  {
   "cell_type": "code",
   "execution_count": 29,
   "id": "071b8cb1",
   "metadata": {},
   "outputs": [],
   "source": [
    "w_perp = lambda t : w(t) - w_parallel * tau(t)"
   ]
  },
  {
   "cell_type": "code",
   "execution_count": 30,
   "id": "81122eac",
   "metadata": {},
   "outputs": [
    {
     "data": {
      "text/latex": [
       "$\\displaystyle \\left(-\\cos\\left(e^{t}\\right) e^{\\left(2 \\, t\\right)},\\,-e^{\\left(2 \\, t\\right)} \\sin\\left(e^{t}\\right),\\,0\\right)$"
      ],
      "text/plain": [
       "<IPython.core.display.Math object>"
      ]
     },
     "metadata": {},
     "output_type": "display_data"
    }
   ],
   "source": [
    "disp(w_perp(t))"
   ]
  },
  {
   "cell_type": "code",
   "execution_count": 31,
   "id": "2441d5ec",
   "metadata": {},
   "outputs": [
    {
     "data": {
      "text/latex": [
       "$\\displaystyle \\sqrt{\\cos\\left(e^{t}\\right)^{2} e^{\\left(4 \\, t\\right)} + e^{\\left(4 \\, t\\right)} \\sin\\left(e^{t}\\right)^{2}}$"
      ],
      "text/plain": [
       "<IPython.core.display.Math object>"
      ]
     },
     "metadata": {},
     "output_type": "display_data"
    }
   ],
   "source": [
    "disp(w_perp(t).norm())"
   ]
  },
  {
   "cell_type": "code",
   "execution_count": 32,
   "id": "1ed0ddfd",
   "metadata": {},
   "outputs": [
    {
     "data": {
      "text/latex": [
       "$\\displaystyle e^{\\left(2 \\, t\\right)}$"
      ],
      "text/plain": [
       "<IPython.core.display.Math object>"
      ]
     },
     "metadata": {},
     "output_type": "display_data"
    }
   ],
   "source": [
    "disp(w_perp(t).norm().trig_simplify())"
   ]
  },
  {
   "cell_type": "markdown",
   "id": "a20b1d54",
   "metadata": {},
   "source": [
    "$\\vec{e_{\\perp}} = \\frac {\\vec{w_{\\perp}}}{w_{\\perp}}$"
   ]
  },
  {
   "cell_type": "code",
   "execution_count": 33,
   "id": "8312d337",
   "metadata": {},
   "outputs": [],
   "source": [
    "e_w_perp = lambda t : w_perp(t) / w_perp(t).norm().trig_simplify()"
   ]
  },
  {
   "cell_type": "code",
   "execution_count": 34,
   "id": "a3765542",
   "metadata": {},
   "outputs": [
    {
     "data": {
      "text/latex": [
       "$\\displaystyle \\left(-\\cos\\left(e^{t}\\right),\\,-\\sin\\left(e^{t}\\right),\\,0\\right)$"
      ],
      "text/plain": [
       "<IPython.core.display.Math object>"
      ]
     },
     "metadata": {},
     "output_type": "display_data"
    }
   ],
   "source": [
    "disp(e_w_perp(t))"
   ]
  },
  {
   "cell_type": "markdown",
   "id": "73d0da23",
   "metadata": {},
   "source": [
    "Параметричне рівняння дотичної:"
   ]
  },
  {
   "cell_type": "code",
   "execution_count": 35,
   "id": "a7f690e0",
   "metadata": {},
   "outputs": [
    {
     "data": {
      "text/latex": [
       "$\\displaystyle x = -t e^{t} \\sin\\left(e^{t}\\right) + \\cos\\left(1\\right)$"
      ],
      "text/plain": [
       "<IPython.core.display.Math object>"
      ]
     },
     "metadata": {},
     "output_type": "display_data"
    },
    {
     "data": {
      "text/latex": [
       "$\\displaystyle y = t \\cos\\left(e^{t}\\right) e^{t} + \\sin\\left(1\\right)$"
      ],
      "text/plain": [
       "<IPython.core.display.Math object>"
      ]
     },
     "metadata": {},
     "output_type": "display_data"
    },
    {
     "data": {
      "text/latex": [
       "$\\displaystyle z = t e^{t} + 1$"
      ],
      "text/plain": [
       "<IPython.core.display.Math object>"
      ]
     },
     "metadata": {},
     "output_type": "display_data"
    }
   ],
   "source": [
    "for i in range(3):\n",
    "    disp(r[i] == (R(t_0) + v(t)*(t-t_0))[i])"
   ]
  },
  {
   "cell_type": "markdown",
   "id": "73f3ee89",
   "metadata": {},
   "source": [
    "Канонічне рівняння дотичної:"
   ]
  },
  {
   "cell_type": "code",
   "execution_count": 36,
   "id": "d1b07137",
   "metadata": {},
   "outputs": [
    {
     "data": {
      "text/latex": [
       "$\\displaystyle -\\frac{x - \\cos\\left(1\\right)}{\\sin\\left(1\\right)} = \\frac{y - \\sin\\left(1\\right)}{\\cos\\left(1\\right)}$"
      ],
      "text/plain": [
       "<IPython.core.display.Math object>"
      ]
     },
     "metadata": {},
     "output_type": "display_data"
    },
    {
     "data": {
      "text/latex": [
       "$\\displaystyle \\frac{y - \\sin\\left(1\\right)}{\\cos\\left(1\\right)} = z - 1$"
      ],
      "text/plain": [
       "<IPython.core.display.Math object>"
      ]
     },
     "metadata": {},
     "output_type": "display_data"
    }
   ],
   "source": [
    "disp(\n",
    "    (r-R(t_0))[0]/v(t_0)[0] == \\\n",
    "    (r-R(t_0))[1]/v(t_0)[1]),\n",
    "disp(\n",
    "    (r-R(t_0))[1]/v(t_0)[1] == \\\n",
    "    (r-R(t_0))[2]/v(t_0)[2])"
   ]
  },
  {
   "cell_type": "markdown",
   "id": "191d40e4",
   "metadata": {},
   "source": [
    "Площина, що проходить через точку M ортогонально до дотичної, називається нормальною площиною до кривої."
   ]
  },
  {
   "cell_type": "markdown",
   "id": "7738f440",
   "metadata": {},
   "source": [
    "Рівняння нормальної площини:"
   ]
  },
  {
   "cell_type": "code",
   "execution_count": 37,
   "id": "260d3797",
   "metadata": {},
   "outputs": [
    {
     "data": {
      "text/latex": [
       "$\\displaystyle {\\left(y - \\sin\\left(1\\right)\\right)} \\cos\\left(1\\right) - {\\left(x - \\cos\\left(1\\right)\\right)} \\sin\\left(1\\right) + z - 1 = 0$"
      ],
      "text/plain": [
       "<IPython.core.display.Math object>"
      ]
     },
     "metadata": {},
     "output_type": "display_data"
    }
   ],
   "source": [
    "disp((r-R(t_0)).dot_product(v(t_0)) == 0)"
   ]
  },
  {
   "cell_type": "markdown",
   "id": "ef61fe0b",
   "metadata": {},
   "source": [
    "Усяка пряма, що проходить через дану точку М просторової кривої і перпендикулярна дотичній у цій точці, називається нормаллю."
   ]
  },
  {
   "cell_type": "markdown",
   "id": "de9e0f41",
   "metadata": {},
   "source": [
    "Головною нормаллю $\\vec{\\nu}$ просторової кривої в даній точці називається та нормаль, яка лежить у стичній площині. Бінормаллю $\\vec{\\beta}$ називається та нормаль, яка перпендикулярна стичній площини."
   ]
  },
  {
   "cell_type": "markdown",
   "id": "01560278",
   "metadata": {},
   "source": [
    "З означення бінормалі випливає, що напрямок $\\vec{\\beta}$ визначається вектором"
   ]
  },
  {
   "cell_type": "code",
   "execution_count": 38,
   "id": "a39d7c36",
   "metadata": {},
   "outputs": [],
   "source": [
    "binormal = lambda t : v(t).cross_product(w(t))"
   ]
  },
  {
   "cell_type": "code",
   "execution_count": 39,
   "id": "b1ecbeaa",
   "metadata": {},
   "outputs": [
    {
     "data": {
      "text/latex": [
       "$\\displaystyle \\sin\\left(1\\right)$"
      ],
      "text/plain": [
       "<IPython.core.display.Math object>"
      ]
     },
     "metadata": {},
     "output_type": "display_data"
    },
    {
     "data": {
      "text/latex": [
       "$\\displaystyle -\\cos\\left(1\\right)$"
      ],
      "text/plain": [
       "<IPython.core.display.Math object>"
      ]
     },
     "metadata": {},
     "output_type": "display_data"
    },
    {
     "data": {
      "text/latex": [
       "$\\displaystyle 1$"
      ],
      "text/plain": [
       "<IPython.core.display.Math object>"
      ]
     },
     "metadata": {},
     "output_type": "display_data"
    }
   ],
   "source": [
    "disp(binormal(t_0)[0])\n",
    "disp(binormal(t_0)[1])\n",
    "disp(binormal(t_0)[2].trig_simplify())"
   ]
  },
  {
   "cell_type": "code",
   "execution_count": 40,
   "id": "f1079c6a",
   "metadata": {},
   "outputs": [],
   "source": [
    "beta = lambda t : binormal(t) / binormal(t).norm().factor().full_simplify()"
   ]
  },
  {
   "cell_type": "code",
   "execution_count": 41,
   "id": "ceee8fd3",
   "metadata": {},
   "outputs": [
    {
     "data": {
      "text/latex": [
       "$\\displaystyle \\frac{1}{2} \\, \\sqrt{2} \\sin\\left(1\\right)$"
      ],
      "text/plain": [
       "<IPython.core.display.Math object>"
      ]
     },
     "metadata": {},
     "output_type": "display_data"
    },
    {
     "data": {
      "text/latex": [
       "$\\displaystyle -\\frac{1}{2} \\, \\sqrt{2} \\cos\\left(1\\right)$"
      ],
      "text/plain": [
       "<IPython.core.display.Math object>"
      ]
     },
     "metadata": {},
     "output_type": "display_data"
    },
    {
     "data": {
      "text/latex": [
       "$\\displaystyle \\frac{1}{2} \\, \\sqrt{2}$"
      ],
      "text/plain": [
       "<IPython.core.display.Math object>"
      ]
     },
     "metadata": {},
     "output_type": "display_data"
    }
   ],
   "source": [
    "disp(beta(t_0)[0])\n",
    "disp(beta(t_0)[1])\n",
    "disp(beta(t_0)[2].trig_simplify())"
   ]
  },
  {
   "cell_type": "markdown",
   "id": "edc43de6",
   "metadata": {},
   "source": [
    "Канонічне рівняння бінормалі:"
   ]
  },
  {
   "cell_type": "code",
   "execution_count": 42,
   "id": "395a1f35",
   "metadata": {},
   "outputs": [
    {
     "data": {
      "text/latex": [
       "$\\displaystyle \\frac{x - \\cos\\left(1\\right)}{\\sin\\left(1\\right)} = -\\frac{y - \\sin\\left(1\\right)}{\\cos\\left(1\\right)}$"
      ],
      "text/plain": [
       "<IPython.core.display.Math object>"
      ]
     },
     "metadata": {},
     "output_type": "display_data"
    },
    {
     "data": {
      "text/latex": [
       "$\\displaystyle -\\frac{y - \\sin\\left(1\\right)}{\\cos\\left(1\\right)} = z - 1$"
      ],
      "text/plain": [
       "<IPython.core.display.Math object>"
      ]
     },
     "metadata": {},
     "output_type": "display_data"
    }
   ],
   "source": [
    "disp(\n",
    "    (r-R(t_0))[0]/binormal(t_0)[0] == \\\n",
    "    (r-R(t_0))[1]/binormal(t_0)[1]),\n",
    "disp(\n",
    "    (r-R(t_0))[1]/binormal(t_0)[1] == \\\n",
    "    (r-R(t_0))[2]/binormal(t_0)[2].trig_simplify())"
   ]
  },
  {
   "cell_type": "code",
   "execution_count": 43,
   "id": "f01a955e",
   "metadata": {},
   "outputs": [
    {
     "data": {
      "text/latex": [
       "$\\displaystyle \\frac{\\sqrt{2} {\\left(x - \\cos\\left(1\\right)\\right)}}{\\sin\\left(1\\right)} = -\\frac{\\sqrt{2} {\\left(y - \\sin\\left(1\\right)\\right)}}{\\cos\\left(1\\right)}$"
      ],
      "text/plain": [
       "<IPython.core.display.Math object>"
      ]
     },
     "metadata": {},
     "output_type": "display_data"
    },
    {
     "data": {
      "text/latex": [
       "$\\displaystyle -\\frac{\\sqrt{2} {\\left(y - \\sin\\left(1\\right)\\right)}}{\\cos\\left(1\\right)} = \\sqrt{2} {\\left(z - 1\\right)}$"
      ],
      "text/plain": [
       "<IPython.core.display.Math object>"
      ]
     },
     "metadata": {},
     "output_type": "display_data"
    }
   ],
   "source": [
    "disp(\n",
    "    (r-R(t_0))[0]/beta(t_0)[0] == \\\n",
    "    (r-R(t_0))[1]/beta(t_0)[1]),\n",
    "disp(\n",
    "    (r-R(t_0))[1]/beta(t_0)[1] == \\\n",
    "    (r-R(t_0))[2]/beta(t_0)[2].trig_simplify())"
   ]
  },
  {
   "cell_type": "markdown",
   "id": "f7d60b6c",
   "metadata": {},
   "source": [
    "Рівняння стичної площини"
   ]
  },
  {
   "cell_type": "code",
   "execution_count": 44,
   "id": "48d58f4a",
   "metadata": {},
   "outputs": [
    {
     "data": {
      "text/latex": [
       "$\\displaystyle -\\frac{1}{2} \\, \\sqrt{2} {\\left(y \\cos\\left(1\\right) - x \\sin\\left(1\\right) - z + 1\\right)} = 0$"
      ],
      "text/plain": [
       "<IPython.core.display.Math object>"
      ]
     },
     "metadata": {},
     "output_type": "display_data"
    }
   ],
   "source": [
    "disp((r-R(t_0)).dot_product(beta(t_0)).trig_simplify() == 0)"
   ]
  },
  {
   "cell_type": "markdown",
   "id": "7818e6e0",
   "metadata": {},
   "source": [
    "В свою чергу напрямок головної нормалі $\\vec{v}$ визначається вектором"
   ]
  },
  {
   "cell_type": "code",
   "execution_count": 45,
   "id": "75680e2c",
   "metadata": {},
   "outputs": [],
   "source": [
    "main_normal = lambda t : binormal(t).cross_product(v(t))"
   ]
  },
  {
   "cell_type": "code",
   "execution_count": 46,
   "id": "28ed4b25",
   "metadata": {},
   "outputs": [
    {
     "data": {
      "text/latex": [
       "$\\displaystyle -2 \\, \\cos\\left(1\\right)$"
      ],
      "text/plain": [
       "<IPython.core.display.Math object>"
      ]
     },
     "metadata": {},
     "output_type": "display_data"
    },
    {
     "data": {
      "text/latex": [
       "$\\displaystyle -2 \\, \\sin\\left(1\\right)$"
      ],
      "text/plain": [
       "<IPython.core.display.Math object>"
      ]
     },
     "metadata": {},
     "output_type": "display_data"
    },
    {
     "data": {
      "text/latex": [
       "$\\displaystyle 0$"
      ],
      "text/plain": [
       "<IPython.core.display.Math object>"
      ]
     },
     "metadata": {},
     "output_type": "display_data"
    }
   ],
   "source": [
    "disp(main_normal(t_0)[0].trig_simplify())\n",
    "disp(main_normal(t_0)[1].trig_simplify())\n",
    "disp(main_normal(t_0)[2])"
   ]
  },
  {
   "cell_type": "code",
   "execution_count": 47,
   "id": "bab6b41c",
   "metadata": {},
   "outputs": [],
   "source": [
    "nu = lambda t : main_normal(t)/main_normal(t).norm().factor().full_simplify()"
   ]
  },
  {
   "cell_type": "code",
   "execution_count": 48,
   "id": "52692936",
   "metadata": {},
   "outputs": [
    {
     "data": {
      "text/latex": [
       "$\\displaystyle -\\cos\\left(1\\right)$"
      ],
      "text/plain": [
       "<IPython.core.display.Math object>"
      ]
     },
     "metadata": {},
     "output_type": "display_data"
    },
    {
     "data": {
      "text/latex": [
       "$\\displaystyle -\\sin\\left(1\\right)$"
      ],
      "text/plain": [
       "<IPython.core.display.Math object>"
      ]
     },
     "metadata": {},
     "output_type": "display_data"
    },
    {
     "data": {
      "text/latex": [
       "$\\displaystyle 0$"
      ],
      "text/plain": [
       "<IPython.core.display.Math object>"
      ]
     },
     "metadata": {},
     "output_type": "display_data"
    }
   ],
   "source": [
    "disp(nu(t_0)[0].trig_simplify())\n",
    "disp(nu(t_0)[1].trig_simplify())\n",
    "disp(nu(t_0)[2])"
   ]
  },
  {
   "cell_type": "markdown",
   "id": "7356a783",
   "metadata": {},
   "source": [
    "Рівняння головної нормалі"
   ]
  },
  {
   "cell_type": "code",
   "execution_count": 49,
   "id": "bd211897",
   "metadata": {},
   "outputs": [
    {
     "data": {
      "text/latex": [
       "$\\displaystyle -\\frac{x - \\cos\\left(1\\right)}{2 \\, \\cos\\left(1\\right)} = -\\frac{y - \\sin\\left(1\\right)}{2 \\, \\sin\\left(1\\right)}$"
      ],
      "text/plain": [
       "<IPython.core.display.Math object>"
      ]
     },
     "metadata": {},
     "output_type": "display_data"
    },
    {
     "name": "stdout",
     "output_type": "stream",
     "text": [
      "symbolic division by zero\n"
     ]
    }
   ],
   "source": [
    "disp(\n",
    "    (r-R(t_0))[0]/main_normal(t_0)[0].trig_simplify() == \\\n",
    "    (r-R(t_0))[1]/main_normal(t_0)[1].trig_simplify()),\n",
    "try:\n",
    "    (\n",
    "    (r-R(t_0))[1]/main_normal(t_0)[1].trig_simplify() == \\\n",
    "    (r-R(t_0))[2]/main_normal(t_0)[2])\n",
    "except Exception as ex:\n",
    "    print (ex)\n",
    "    "
   ]
  },
  {
   "cell_type": "code",
   "execution_count": null,
   "id": "4b229573",
   "metadata": {},
   "outputs": [],
   "source": []
  }
 ],
 "metadata": {
  "kernelspec": {
   "display_name": "SageMath 9.6.beta7",
   "language": "sage",
   "name": "sagemath"
  },
  "language_info": {
   "codemirror_mode": {
    "name": "ipython",
    "version": 3
   },
   "file_extension": ".py",
   "mimetype": "text/x-python",
   "name": "python",
   "nbconvert_exporter": "python",
   "pygments_lexer": "ipython3",
   "version": "3.10.3"
  }
 },
 "nbformat": 4,
 "nbformat_minor": 5
}

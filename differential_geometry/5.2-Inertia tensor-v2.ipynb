{
 "cells": [
  {
   "cell_type": "markdown",
   "id": "e048d0a3",
   "metadata": {},
   "source": [
    "5. ТЕНЗОР ІНЕРЦІЇ"
   ]
  },
  {
   "cell_type": "markdown",
   "id": "c5f77e0e",
   "metadata": {},
   "source": [
    "Тензор інерції записуються у вигляді матриці"
   ]
  },
  {
   "cell_type": "markdown",
   "id": "44fc2244",
   "metadata": {},
   "source": [
    "$$J=\\left[\\begin{array}{c}\n",
    "    J_{xx} J_{xy} J_{xz}\\\\\n",
    "    J_{yx} J_{yy} J_{yz}\\\\\n",
    "    J_{zx} J_{zy} J_{zz}\\\\\n",
    "\\end{array}\\right]$$"
   ]
  },
  {
   "cell_type": "markdown",
   "id": "f350f5d2",
   "metadata": {},
   "source": [
    "де\n",
    "\n",
    "$$J_{xx} = \\iiint\\limits_{V}^{}(y^2+z^2)\\,\\rho(x,y,z) \\, dx dy dz$$\n",
    "\n",
    "$$J_{xy} = \\iiint\\limits_{V}^{}x y\\,\\rho(x,y,z) \\, dx dy dz$$"
   ]
  },
  {
   "cell_type": "markdown",
   "id": "b086738b",
   "metadata": {},
   "source": [
    "Оператор інерції J – симетричний (більше того, додатний)"
   ]
  },
  {
   "cell_type": "markdown",
   "id": "27980cc7",
   "metadata": {},
   "source": [
    "$$\\left(\\textbf{J}\\,\\vec{\\omega}_{1}, \\vec{\\omega}_{2}\\right) =\n",
    "\\left(\\vec{\\omega}_{1}, \\textbf{J}\\,\\vec{\\omega}_{2}\\right)$$,\n",
    "$$\\left(\\textbf{J}\\,\\vec{\\omega}, \\vec{\\omega}\\right) =\n",
    "2\\,T > 0$$"
   ]
  },
  {
   "cell_type": "markdown",
   "id": "f1840c9c",
   "metadata": {},
   "source": [
    "так що існує ортонормований базис із власних векторів $\\left\\{ \\vec{e}_k \\right\\}$ $\\left(k = 1,2,3 \\right)$"
   ]
  },
  {
   "cell_type": "markdown",
   "id": "37595ebe",
   "metadata": {},
   "source": [
    "$$\\textbf{J}\\,\\vec{e}_k = \\lambda_{k}\\,\\vec{e}_k$$\n",
    "\n",
    "$$\\downarrow$$\n",
    "\n",
    "$$\\lambda_{k} = \\left(\\textbf{J}\\,\\vec{\\lambda}_{k}, \\vec{\\lambda}_{k}\\right) = J_k > 0$$"
   ]
  },
  {
   "cell_type": "markdown",
   "id": "85d980ad",
   "metadata": {},
   "source": [
    "Напрями $\\left\\{ \\vec{e}_k \\right\\}$ отримали назви головних осей інерції. Відповідні власні значення $\\lambda_{k} = J_k$ – це моменти\n",
    "інерції відносно головних осей інерції (головні моменти)"
   ]
  },
  {
   "cell_type": "markdown",
   "id": "a40aaa9d",
   "metadata": {},
   "source": [
    "$$\\left(\\textbf{J}\\,\\vec{\\omega}, \\vec{\\omega}\\right) = 1$$"
   ]
  },
  {
   "cell_type": "markdown",
   "id": "43eeb12a",
   "metadata": {},
   "source": [
    "З тензором інерції $\\textbf{J}$ зручно зв'язати так званий еліпсоїд інерції тіла у точці обертання"
   ]
  },
  {
   "cell_type": "markdown",
   "id": "7abeeca1",
   "metadata": {},
   "source": [
    "що дозволяє геометрично уявити (“побачити”) тензор, що має в системі координат з головних осей\n",
    "$\\left\\{ \\vec{e}_1, \\vec{e}_2, \\vec{e}_3 \\right\\}$\n",
    " канонічний вигляд"
   ]
  },
  {
   "cell_type": "markdown",
   "id": "b469c226",
   "metadata": {},
   "source": [
    "$$J_1 \\omega_1^2 + J_2 \\omega_2^2 + J_3 \\omega_3^2 = 1$$"
   ]
  },
  {
   "cell_type": "markdown",
   "id": "1b4aa589",
   "metadata": {},
   "source": [
    "$$\\frac{\\omega_1^2}{\\frac{1}{\\sqrt{J_1^2}}} +\n",
    "\\frac{\\omega_2^2}{\\frac{1}{\\sqrt{J_2^2}}} +\n",
    "\\frac{\\omega_3^2}{\\frac{1}{\\sqrt{J_3^2}}} = 1$$"
   ]
  },
  {
   "cell_type": "markdown",
   "id": "02ab32a7",
   "metadata": {},
   "source": [
    "Отже, головні осі інерції еліпсоїда одночасно є і головними осями інерції тіла, а їх довжини\n",
    "обернено пропорційні $\\sqrt{J_k}$."
   ]
  },
  {
   "cell_type": "markdown",
   "id": "13a52d40",
   "metadata": {},
   "source": [
    "2. Знайти тензор інерції $J$ твердого тіла $V$ із щільністю $\\rho$ на початку координат,\n",
    "еліпсоїд, головні осі та головні моменти інерції."
   ]
  },
  {
   "cell_type": "markdown",
   "id": "bef33834",
   "metadata": {},
   "source": [
    "$V = \\left\\{c \\left( \\frac{x^2}{a^2} + \\frac{y^2}{b^2} \\right) <= z <= c \\right\\}$"
   ]
  },
  {
   "cell_type": "markdown",
   "id": "3e50e111",
   "metadata": {},
   "source": [
    "$\\rho = \\frac{z}{c}\\sqrt{ \\frac{x^2}{a^2} + \\frac{y^2}{b^2}}$"
   ]
  },
  {
   "cell_type": "markdown",
   "id": "badb8128",
   "metadata": {},
   "source": [
    "Розв’язання. З симетрії геометрії розподілу мас тіла відносно осі $Oz$ та площин\n",
    "$xOz$, $yOz$ (тіло суміщається з собою відповідно при повороті навколо осі та відображенні\n",
    "відносно площин), випливає, що вони є віссю та площинами симетрії і для еліпсоїда\n",
    "інерції, а отже осями еліпсоїда є осі $Ox$, $Oy$, $Oz$ , так що відцентрові моменти дорівнюють\n",
    "нулю $J_{xy} = J_{yz} = J_{zx} = 0$ (що втім, випливає із симетричності області інтегрування та непарності підінтегральних функцій) Отже, тензор інерції має діагональний вигляд. \n",
    "Знайдемо моменти інерції відносно осей координат."
   ]
  },
  {
   "cell_type": "markdown",
   "id": "74cd729b",
   "metadata": {},
   "source": [
    "$$J_{zz} = \\iiint\\limits_{V}^{}(x^2+y^2)\\,\\rho(x,y,z) \\, dx dy dz$$"
   ]
  },
  {
   "cell_type": "markdown",
   "id": "c3898d4c",
   "metadata": {},
   "source": [
    "$$J_{zz} = \\iiint\\limits_{V}^{}(x^2+y^2)\\,\\frac{z}{c}\\sqrt{ \\frac{x^2}{a^2} + \\frac{y^2}{b^2}} \\, dx dy dz$$"
   ]
  },
  {
   "cell_type": "markdown",
   "id": "b413daca",
   "metadata": {},
   "source": [
    "Перейдемо до узагальнених циліндричних координат"
   ]
  },
  {
   "cell_type": "markdown",
   "id": "895a1a19",
   "metadata": {},
   "source": [
    "$$\\rightarrow=\\left[\\begin{array}{c}\n",
    "    x = a u\\\\\n",
    "    y = b v\\\\\n",
    "    z = c w\\\\\n",
    "\\end{array} \\rightarrow \\frac{D(x,y,z)}{D(u,v,w)} = abc\\right] =$$"
   ]
  },
  {
   "cell_type": "markdown",
   "id": "d696345d",
   "metadata": {},
   "source": [
    "$$J_{zz} = abc\\iiint\\limits_{\\Delta}^{}((au)^2+(bv)^2)\\,w \\sqrt{u^2 + v^2}\\, du dv dw$$"
   ]
  },
  {
   "cell_type": "markdown",
   "id": "2e3230af",
   "metadata": {},
   "source": [
    "$$\\rightarrow=\\left[\\begin{array}{c}\n",
    "    u = r\\, cos (\\varphi)\\\\\n",
    "    v = r\\, sin (\\varphi)\\\\\n",
    "    w = w\\\\\n",
    "\\end{array} \\rightarrow \\frac{D(u,v,w)}{D(r,\\varphi,w)} = r\\right] =$$"
   ]
  },
  {
   "cell_type": "markdown",
   "id": "14ebb8c7",
   "metadata": {},
   "source": [
    "$$J_{zz} = abc\\iiint\\limits_{\\Omega}^{}((a\\,r\\,cos(\\varphi))^2+(b\\,r\\,sin(\\varphi))^2)\\,w r\\, dr d\\varphi dw$$"
   ]
  },
  {
   "cell_type": "code",
   "execution_count": 1,
   "id": "8ddb563c",
   "metadata": {},
   "outputs": [],
   "source": [
    "from IPython.display import display, Math, Latex\n",
    "\n",
    "def disp(ex):\n",
    "    display(Math(latex(ex)))"
   ]
  },
  {
   "cell_type": "code",
   "execution_count": 2,
   "id": "8f9ccbc1",
   "metadata": {},
   "outputs": [],
   "source": [
    "a,b,c = var(\"a,b,c\")\n",
    "x,y,z = var(\"x,y,z\")\n",
    "r,phi = var(\"r,phi\")\n",
    "r,phi,w = var(\"r,phi,w\")\n",
    "assume(a, \"real\")\n",
    "assume(b, \"real\")\n",
    "assume(c, \"real\")\n",
    "\n",
    "assume(a>0)\n",
    "assume(b>0)\n",
    "assume(c>0)\n",
    "\n",
    "u = r * cos(phi)\n",
    "v = r * sin(phi)\n",
    "\n",
    "rho_xyz = z/c * sqrt((x^2)/(a^2) + (y^2)/(b^2))\n",
    "rho_uvw = w * sqrt(u^2 + v^2)\n",
    "\n",
    "z_min = c * ((x^2)/(a^2) + (y^2)/(b^2))\n",
    "w_min = ((u^2) + (v^2))\n",
    "z_max = c\n",
    "w_max = 1\n",
    "\n",
    "r_max = 1"
   ]
  },
  {
   "cell_type": "code",
   "execution_count": 3,
   "id": "33f065b6",
   "metadata": {},
   "outputs": [
    {
     "data": {
      "text/latex": [
       "$\\displaystyle \\frac{2}{45} \\, {\\left(\\pi a^{2} + \\pi b^{2}\\right)} a b c$"
      ],
      "text/plain": [
       "<IPython.core.display.Math object>"
      ]
     },
     "metadata": {},
     "output_type": "display_data"
    }
   ],
   "source": [
    "J_zz = a * b * c * (rho_uvw*((a*u)^2+(b*v)^2)*r) \\\n",
    "   .integrate(w, w_min, w_max) \\\n",
    "   .integrate(r, 0, r_max) \\\n",
    "   .integrate(phi, 0, 2*pi)\n",
    "disp(J_zz)"
   ]
  },
  {
   "cell_type": "markdown",
   "id": "8535da27",
   "metadata": {},
   "source": [
    "Далі"
   ]
  },
  {
   "cell_type": "markdown",
   "id": "db95e35f",
   "metadata": {},
   "source": [
    "$$J_{xx} = \\iiint\\limits_{V}^{}(y^2+z^2)\\,\\rho(x,y,z) \\, dx dy dz$$"
   ]
  },
  {
   "cell_type": "markdown",
   "id": "016842f0",
   "metadata": {},
   "source": [
    "$$J_{xx} = \\iiint\\limits_{V}^{}(y^2+z^2)\\,\\frac{z}{c}\\sqrt{ \\frac{x^2}{a^2} + \\frac{y^2}{b^2}} \\, dx dy dz$$"
   ]
  },
  {
   "cell_type": "markdown",
   "id": "27f22b48",
   "metadata": {},
   "source": [
    "$$J_{xx} = abc\\iiint\\limits_{\\Delta}^{}((bv)^2+(cw)^2)\\,w \\sqrt{u^2 + v^2}\\, du dv dw$$"
   ]
  },
  {
   "cell_type": "code",
   "execution_count": 4,
   "id": "cb0604bb",
   "metadata": {},
   "outputs": [
    {
     "data": {
      "text/latex": [
       "$\\displaystyle \\frac{2}{495} \\, {\\left(11 \\, \\pi b^{2} + 30 \\, \\pi c^{2}\\right)} a b c$"
      ],
      "text/plain": [
       "<IPython.core.display.Math object>"
      ]
     },
     "metadata": {},
     "output_type": "display_data"
    }
   ],
   "source": [
    "J_xx = a * b * c*(rho_uvw * ((b*v)^2+(c*w)^2)*r) \\\n",
    "   .integrate(w, w_min, w_max) \\\n",
    "   .integrate(r, 0, r_max) \\\n",
    "   .integrate(phi, 0, 2*pi)\n",
    "disp(J_xx)"
   ]
  },
  {
   "cell_type": "markdown",
   "id": "bca9c58a",
   "metadata": {},
   "source": [
    "Далі"
   ]
  },
  {
   "cell_type": "markdown",
   "id": "2502c341",
   "metadata": {},
   "source": [
    "$$J_{yy} = \\iiint\\limits_{V}^{}(x^2+z^2)\\,\\rho(x,y,z) \\, dx dy dz$$"
   ]
  },
  {
   "cell_type": "markdown",
   "id": "4ea1a2dd",
   "metadata": {},
   "source": [
    "$$J_{yy} = \\iiint\\limits_{V}^{}(x^2+z^2)\\,\\frac{z}{c}\\sqrt{ \\frac{x^2}{a^2} + \\frac{y^2}{b^2}} \\, dx dy dz$$"
   ]
  },
  {
   "cell_type": "markdown",
   "id": "26a24e9b",
   "metadata": {},
   "source": [
    "$$J_{yy} = abc\\iiint\\limits_{\\Delta}^{}((au)^2+(cw)^2)\\,w \\sqrt{u^2 + v^2}\\, du dv dw$$"
   ]
  },
  {
   "cell_type": "code",
   "execution_count": 5,
   "id": "ecfa0c37",
   "metadata": {},
   "outputs": [
    {
     "data": {
      "text/latex": [
       "$\\displaystyle \\frac{2}{495} \\, {\\left(11 \\, \\pi a^{2} + 30 \\, \\pi c^{2}\\right)} a b c$"
      ],
      "text/plain": [
       "<IPython.core.display.Math object>"
      ]
     },
     "metadata": {},
     "output_type": "display_data"
    }
   ],
   "source": [
    "J_yy = a * b * c*(rho_uvw * ((a*u)^2+(c*w)^2)*r) \\\n",
    "   .integrate(w, w_min, w_max) \\\n",
    "   .integrate(r, 0, r_max) \\\n",
    "   .integrate(phi, 0, 2*pi)\n",
    "disp(J_yy)"
   ]
  },
  {
   "cell_type": "markdown",
   "id": "3223197d",
   "metadata": {},
   "source": [
    "Отже, тензор інерції дорівнює"
   ]
  },
  {
   "cell_type": "code",
   "execution_count": 8,
   "id": "c548a292",
   "metadata": {},
   "outputs": [
    {
     "data": {
      "text/latex": [
       "$\\displaystyle \\left(\\begin{array}{rrr}\n",
       "\\frac{2}{495} \\, {\\left(11 \\, \\pi b^{2} + 30 \\, \\pi c^{2}\\right)} a b c & 0 & 0 \\\\\n",
       "0 & \\frac{2}{495} \\, {\\left(11 \\, \\pi a^{2} + 30 \\, \\pi c^{2}\\right)} a b c & 0 \\\\\n",
       "0 & 0 & \\frac{2}{45} \\, {\\left(\\pi a^{2} + \\pi b^{2}\\right)} a b c\n",
       "\\end{array}\\right)$"
      ],
      "text/plain": [
       "<IPython.core.display.Math object>"
      ]
     },
     "metadata": {},
     "output_type": "display_data"
    }
   ],
   "source": [
    "J=matrix(SR,[[J_xx,0,0],[0,J_yy,0],[0,0,J_zz]])\n",
    "disp(J)"
   ]
  },
  {
   "cell_type": "markdown",
   "id": "934fb87c",
   "metadata": {},
   "source": [
    "Діагональність тензора у вихідному базисі $\\left\\{ \\vec{i}, \\vec{j}, \\vec{k} \\right\\}$ означає, що це і є базис з власних векторів\n",
    "$\\left\\{ \\vec{e}_1, \\vec{e}_2, \\vec{e}_3 \\right\\}$, так що головні осі збігаються з осями координат."
   ]
  },
  {
   "cell_type": "markdown",
   "id": "76bb9537",
   "metadata": {},
   "source": [
    "Головні моменти інерції - діагональні компоненти $J_{xx}, J_{yy}, J_{zz}$ ."
   ]
  },
  {
   "cell_type": "markdown",
   "id": "3c0074a1",
   "metadata": {},
   "source": [
    "Рівняння еліпсоїда інерції має канонічний вигляд"
   ]
  },
  {
   "cell_type": "markdown",
   "id": "c6c97872",
   "metadata": {},
   "source": [
    "$$J_{xx} x^2 + J_{yy} y^2 + J_{zz} z^2 = 1$$"
   ]
  },
  {
   "cell_type": "code",
   "execution_count": null,
   "id": "56efdc8b",
   "metadata": {},
   "outputs": [],
   "source": []
  }
 ],
 "metadata": {
  "kernelspec": {
   "display_name": "SageMath 9.6.beta7",
   "language": "sage",
   "name": "sagemath"
  },
  "language_info": {
   "codemirror_mode": {
    "name": "ipython",
    "version": 3
   },
   "file_extension": ".py",
   "mimetype": "text/x-python",
   "name": "python",
   "nbconvert_exporter": "python",
   "pygments_lexer": "ipython3",
   "version": "3.10.3"
  }
 },
 "nbformat": 4,
 "nbformat_minor": 5
}

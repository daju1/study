{
 "cells": [
  {
   "cell_type": "code",
   "execution_count": 15,
   "id": "38412e6e",
   "metadata": {},
   "outputs": [],
   "source": [
    "from IPython.display import display, Math, Latex\n",
    "\n",
    "def disp(ex):\n",
    "    display(Math(latex(ex)))\n",
    "\n",
    "def displ(tex):\n",
    "    display(Math(tex))"
   ]
  },
  {
   "cell_type": "markdown",
   "id": "a1edfbdf",
   "metadata": {},
   "source": [
    "Розв'язати рівняння Пуассона\n",
    "\n",
    "$\\Delta u = A r^2 \\left(r_0 - r\\right) Y_{4,1} \\left( \\theta , \\varphi \\right)$"
   ]
  },
  {
   "cell_type": "markdown",
   "id": "a0fccc6e",
   "metadata": {},
   "source": [
    "$Y_{4,1} \\left( \\theta , \\varphi \\right)$ - сферична функція із заданими індексами $l$ й $m$"
   ]
  },
  {
   "cell_type": "markdown",
   "id": "944d3396",
   "metadata": {},
   "source": [
    "1. Розв'язання рівняння Пуассона в кулі"
   ]
  },
  {
   "cell_type": "markdown",
   "id": "2d5b1597",
   "metadata": {},
   "source": [
    "Розглянемо розв'язання рівняння Пуассона"
   ]
  },
  {
   "cell_type": "markdown",
   "id": "f4e14cd6",
   "metadata": {},
   "source": [
    "$\\Delta u = f \\left( r \\right) g \\left( \\theta , \\varphi \\right)$"
   ]
  },
  {
   "cell_type": "markdown",
   "id": "d162906c",
   "metadata": {},
   "source": [
    "де \n",
    "\n",
    "$\\Delta = \\frac{1}{r^2}\\frac{\\partial}{\\partial r} \\left(r^2 \\frac{\\partial}{\\partial r}\\right)+\\frac{1}{r^2} \\hat \\Lambda$\n",
    "\n",
    "$\\hat \\Lambda = \\frac{1}{sin\\, \\theta} \\frac{\\partial}{\\partial \\theta} \\left( sin\\, \\theta \\frac{\\partial}{\\partial \\theta}\\right) + \\frac{1}{sin^2\\, \\theta}\\frac{\\partial^2}{\\partial \\varphi^2}$"
   ]
  },
  {
   "cell_type": "markdown",
   "id": "bb622a3c",
   "metadata": {},
   "source": [
    "$u = u \\left(r , \\theta , \\varphi \\right)$ , $0 \\leq r \\leq r_0$,\n",
    "\n",
    "$u\\left(0, \\theta, \\varphi \\right) = 0$, $u\\left(r_0 , \\theta , \\varphi \\right) = h \\left(\\theta , \\varphi \\right)$ , $|u( r, \\theta, \\varphi)| < \\infty$, $|u(r , \\pi , \\varphi)| < \\infty$,\n",
    "\n",
    "$u(r, \\theta, \\varphi) = u (r , \\theta, \\varphi + 2 \\pi)$, $u'_{\\varphi}\n",
    "( r , \\theta, \\varphi )  = u'_{\\varphi} ( r , \\theta, \\varphi + 2 \\pi )$ ."
   ]
  },
  {
   "cell_type": "markdown",
   "id": "5163c560",
   "metadata": {},
   "source": [
    "Дія 1. Виконувати не потрібно, оскільки по кутовим змінним граничні умови однорідні. Тому треба\n",
    "саме по цих змінних і слід розв’язувати крайову задачу."
   ]
  },
  {
   "cell_type": "markdown",
   "id": "749008f3",
   "metadata": {},
   "source": [
    "Дія 2. Поділ змінних і відділення залежностей по кутових змінних $\\theta$ і $\\varphi$. Представимо розв'язок у\n",
    "вигляді $u(r, \\theta, \\varphi) = R ( r ) Y ( \\theta, \\varphi )$ . Тоді для функції $Y ( \\theta, \\varphi )$ маємо крайову задачу Штурма-Ліувілля:\n",
    "\n",
    "$$\\hat \\Lambda Y ( \\theta, \\varphi ) = \\lambda Y ( \\theta, \\varphi )$$\n",
    "\n",
    "$$|Y(\\theta, \\varphi)| < \\infty , |Y(\\pi , \\varphi)| < \\infty, $$\n",
    "\n",
    "$$Y(\\theta, \\varphi) = Y(\\theta, \\varphi + 2 \\pi), Y'_{\\varphi}(\\theta, \\varphi) = Y'_{\\varphi}(\\theta, \\varphi + 2 \\pi)$$"
   ]
  },
  {
   "cell_type": "markdown",
   "id": "b20812a9",
   "metadata": {},
   "source": [
    "Розв'язком задачі, власними функціями оператора $\\hat \\Lambda$, є сферичні гармоніки, які з урахуванням\n",
    "нормувального множника записуються так:"
   ]
  },
  {
   "cell_type": "markdown",
   "id": "6d01fa5a",
   "metadata": {},
   "source": [
    "$$Y_{l}^{(m)}(\\theta, \\varphi) = \\sqrt{\\frac{2l+1}{4\\pi}\\frac{(l-m)!}{(l+m)!}}\\,P_{l}^{(m)}(cos\\,\\theta)\\,e^{i\\,m\\,\\varphi}$$"
   ]
  },
  {
   "cell_type": "markdown",
   "id": "465bc450",
   "metadata": {},
   "source": [
    "а власними значеннями є $\\lambda_l = - l ( l + 1 )$, тобто"
   ]
  },
  {
   "cell_type": "markdown",
   "id": "82b13c1c",
   "metadata": {},
   "source": [
    "$$\\hat \\Lambda Y_{l}^{(m)} ( \\theta, \\varphi ) = - l \\left( l + 1 \\right) Y_{l}^{(m)} ( \\theta, \\varphi )$$"
   ]
  },
  {
   "cell_type": "markdown",
   "id": "8245aac2",
   "metadata": {},
   "source": [
    "Тут $P_{l}^{(m)}(x) = \\left(1-x^2 \\right)^{m/2} \\frac{d^m}{dx^m} P_l(x)$ - приєднані функції Лежандра,\n",
    "\n",
    "$m=0,1,2,...,l$\n",
    "\n",
    "$P_{l}(x) = \\frac{1}{2^l l!} \\frac{d^l}{dx^l} \\left(x^2 - 1\\right)^{l}$ - поліноми Лежандра. Таким чином, функції $Y_{l}^{(m)}(\\theta, \\varphi)$ утворюють ортонормований базис у лінійному просторі $L_2 ( 0,2 \\pi| 0, \\pi | sin \\theta )$ зі скалярним добутком\n",
    "\n",
    "$$\\left(f,g\\right) = \\int_{0}^{2 \\pi} d \\varphi \\int_{0}^{\\pi} f \\left(\\theta, \\varphi \\right) \\overline {g \\left(\\theta, \\varphi \\right)}\\, sin\\, \\theta \\, d\\theta$$"
   ]
  },
  {
   "cell_type": "markdown",
   "id": "a1f894c7",
   "metadata": {},
   "source": [
    "і розв'язок задачі можна шукати у вигляді розкладання по даному базису:"
   ]
  },
  {
   "cell_type": "markdown",
   "id": "ad200200",
   "metadata": {},
   "source": [
    "$$u \\left(r , \\theta , \\varphi \\right) = \\sum_{l=0}^{\\infty}\\sum_{m=0}^{l} R_{l,m}Y_{l,m}\\left(\\theta, \\varphi \\right)$$"
   ]
  },
  {
   "cell_type": "markdown",
   "id": "ebc77ce4",
   "metadata": {},
   "source": [
    "Дія 3. Одержання рівняння для функції $R_{l , m}( r )$ . Підставимо розв'язок у початкове рівняння"
   ]
  },
  {
   "cell_type": "markdown",
   "id": "93a0bece",
   "metadata": {},
   "source": [
    "$\\left(\\frac{1}{r^2}\\frac{\\partial}{\\partial r} \\left(r^2 \\frac{\\partial}{\\partial r}\\right)+\\frac{1}{r^2} \\hat \\Lambda\\right)u = \\sum\\limits_{l=0}^{\\infty}\\sum\\limits_{m=0}^{l} \\left(\\frac{1}{r^2}\\frac{\\partial}{\\partial r} \\left(r^2 \\frac{\\partial}{\\partial r}\\right)+\\frac{1}{r^2} \\hat \\Lambda\\right) R_{l,m}Y_{l,m}\\left(\\theta, \\varphi \\right) = f \\left( r \\right) g \\left( \\theta , \\varphi \\right) = A r^2 \\left(r_0 - r\\right) Y_{4,1} \\left( \\theta , \\varphi \\right)$\n",
    "\n",
    "$\\sum\\limits_{l=0}^{\\infty}\\sum\\limits_{m=0}^{l} \\left[\\frac{1}{r^2}\\frac{\\partial}{\\partial r} \\left(r^2 \\frac{\\partial R_{l,m}}{\\partial r}\\right)Y_{l,m}\\left(\\theta, \\varphi \\right)+\\frac{R_{l,m}}{r^2} \\hat \\Lambda Y_{l,m} \\left(\\theta, \\varphi \\right)\\right] = f \\left( r \\right) g \\left( \\theta , \\varphi \\right) = A r^2 \\left(r_0 - r\\right) Y_{4,1} \\left( \\theta , \\varphi \\right)$"
   ]
  },
  {
   "cell_type": "markdown",
   "id": "c7872052",
   "metadata": {},
   "source": [
    "$\\frac{1}{r^2}\\sum\\limits_{l=0}^{\\infty}\\sum\\limits_{m=0}^{l} \\left[\\frac{\\partial}{\\partial r} \\left(r^2 \\frac{\\partial R_{l,m}}{\\partial r}\\right) - l \\left(l + 1\\right) R_{l,m} \\right] Y_{l,m} \\left(\\theta, \\varphi \\right) = f \\left( r \\right) g \\left( \\theta , \\varphi \\right) = A r^2 \\left(r_0 - r\\right) Y_{4,1} \\left( \\theta , \\varphi \\right)$"
   ]
  },
  {
   "cell_type": "markdown",
   "id": "0a40d066",
   "metadata": {},
   "source": [
    "$\\sum\\limits_{l=0}^{\\infty}\\sum\\limits_{m=0}^{l} \\left[\\frac{\\partial}{\\partial r} \\left(r^2 \\frac{\\partial R_{l,m}}{\\partial r}\\right) - l \\left(l + 1\\right) R_{l,m} \\right] Y_{l,m} \\left(\\theta, \\varphi \\right) = {r^2}f \\left( r \\right) g\\left(\\theta , \\varphi \\right) = r^2 A r^2 \\left(r_0 - r\\right) Y_{4,1} \\left( \\theta , \\varphi \\right)$"
   ]
  },
  {
   "cell_type": "markdown",
   "id": "f02f6034",
   "metadata": {},
   "source": [
    "Ліву й праву частини рівняння помножимо скалярно на $Y_{l',m'}\\left(\\theta, \\varphi \\right)$, при цьому використовуємо властивість ортогональности сферичних функцій\n",
    "\n",
    "$$\\left(Y_{l,m},Y_{l',m'}\\right) = \\int_{0}^{2 \\pi} d \\varphi \\int_{0}^{\\pi} Y_{l,m} \\left(\\theta, \\varphi \\right) \\overline {Y_{l',m'} \\left(\\theta, \\varphi \\right)}\\, sin\\, \\theta \\, d\\theta = \\delta_{l,l'}\\delta_{m,m'}$$"
   ]
  },
  {
   "cell_type": "markdown",
   "id": "345d3c75",
   "metadata": {},
   "source": [
    "Тоді одержимо\n",
    "\n",
    "$$\\frac{\\partial}{\\partial r} \\left(r^2 \\frac{\\partial R_{l,m}}{\\partial r}\\right) - l \\left(l + 1\\right) R_{l,m} = {r^2}f \\left( r \\right) \\left(g \\left( \\theta , \\varphi \\right), Y_{l,m}\\left(\\theta, \\varphi \\right)\\right)$$"
   ]
  },
  {
   "cell_type": "markdown",
   "id": "04a1f562",
   "metadata": {},
   "source": [
    "$$r^2 \\frac{d^2 R_{l,m}}{d r^2} + 2 r \\frac{\\partial R_{l,m}}{\\partial r} - l \\left(l + 1\\right) R_{l,m} = {r^2}f \\left( r \\right) \\left(g \\left( \\theta , \\varphi \\right), Y_{l,m}\\left(\\theta, \\varphi \\right)\\right)$$"
   ]
  },
  {
   "cell_type": "markdown",
   "id": "6c3ac666",
   "metadata": {},
   "source": [
    "Тут скалярний добуток $\\left(g \\left( \\theta , \\varphi \\right), Y_{l,m}\\left(\\theta, \\varphi \\right)\\right)$ рівний"
   ]
  },
  {
   "cell_type": "markdown",
   "id": "165f463e",
   "metadata": {},
   "source": [
    "$$\\left(g \\left( \\theta , \\varphi \\right), Y_{l,m}\\left(\\theta, \\varphi \\right)\\right) = \\int_{0}^{2 \\pi} d \\varphi \\int_{0}^{\\pi} g \\left(\\theta, \\varphi \\right) \\overline {Y_{l,m} \\left(\\theta, \\varphi \\right)}\\, sin\\, \\theta \\, d\\theta = G_{l,m}$$"
   ]
  },
  {
   "cell_type": "markdown",
   "id": "cfe35048",
   "metadata": {},
   "source": [
    "$$\\left(Y_{4,1} \\left( \\theta , \\varphi \\right), Y_{l,m}\\left(\\theta, \\varphi \\right)\\right) = \\delta_{l,4}\\delta_{m,1} = G_{l,m}$$"
   ]
  },
  {
   "cell_type": "markdown",
   "id": "4838d4db",
   "metadata": {},
   "source": [
    "$$\\frac{\\partial}{\\partial r} \\left(r^2 \\frac{\\partial R_{l,m}}{\\partial r}\\right) - l \\left(l + 1\\right) R_{l,m} = {r^2} A r^2 \\left(r_0 - r\\right) \\left(Y_{4,1} \\left( \\theta , \\varphi \\right), Y_{l,m}\\left(\\theta, \\varphi \\right)\\right)$$"
   ]
  },
  {
   "cell_type": "markdown",
   "id": "6cc503b3",
   "metadata": {},
   "source": [
    "$$\\frac{\\partial}{\\partial r} \\left(r^2 \\frac{\\partial R_{l,m}}{\\partial r}\\right) - l \\left(l + 1\\right) R_{l,m} = {r^2} A r^2 \\left(r_0 - r\\right) \\delta_{l,4}\\delta_{m,1}$$"
   ]
  },
  {
   "cell_type": "markdown",
   "id": "295f2d24",
   "metadata": {},
   "source": [
    "Дія 4. Розв'язання рівняння для функції $R_{l, m}(r)$."
   ]
  },
  {
   "cell_type": "markdown",
   "id": "3a8af068",
   "metadata": {},
   "source": [
    "$$r^2 \\frac{d^2 R_{l,m}}{d r^2} + 2 r \\frac{\\partial R_{l,m}}{\\partial r} - l \\left(l + 1\\right) R_{l,m} = {r^2} f \\left(r\\right) G_{l,m}$$"
   ]
  },
  {
   "cell_type": "markdown",
   "id": "608df421",
   "metadata": {},
   "source": [
    "$$r^2 \\frac{d^2 R_{l,m}}{d r^2} + 2 r \\frac{\\partial R_{l,m}}{\\partial r} - l \\left(l + 1\\right) R_{l,m} = {r^2} A r^2 \\left(r_0 - r\\right) \\delta_{l,4}\\delta_{m,1}$$"
   ]
  },
  {
   "cell_type": "markdown",
   "id": "e3d189be",
   "metadata": {},
   "source": [
    "Загальний розв'язок рівняння є $R_{l,m} = R_{oo} + \\tilde{R}$. Розглянемо однорідне рівняння"
   ]
  },
  {
   "cell_type": "markdown",
   "id": "d979580d",
   "metadata": {},
   "source": [
    "$$r^2 \\frac{d^2 R_{l,m}}{d r^2} + 2 r \\frac{d R_{l,m}}{d r} - l \\left(l + 1\\right) R_{l,m} = 0$$"
   ]
  },
  {
   "cell_type": "markdown",
   "id": "0bd68138",
   "metadata": {},
   "source": [
    "Дане рівняння являє собою диференціальне рівняння Ейлера, розв'язок якого шукаємо у вигляді $R = r^{\\gamma}$ . Підставляючи розв'язок у рівняння, одержимо:"
   ]
  },
  {
   "cell_type": "markdown",
   "id": "6b81624b",
   "metadata": {},
   "source": [
    "$$r^2 \\gamma(\\gamma - 1)r^{\\gamma-2} + 2 r \\gamma r^{\\gamma-1} - l \\left(l + 1\\right) r^{\\gamma} = 0$$"
   ]
  },
  {
   "cell_type": "markdown",
   "id": "852a03e7",
   "metadata": {},
   "source": [
    "звідки маємо характеристичне рівняння"
   ]
  },
  {
   "cell_type": "markdown",
   "id": "22b21ebc",
   "metadata": {},
   "source": [
    "$$\\gamma(\\gamma - 1) + 2 \\gamma - l \\left(l + 1\\right) = 0$$"
   ]
  },
  {
   "cell_type": "markdown",
   "id": "6754008c",
   "metadata": {},
   "source": [
    "$$\\gamma(\\gamma + 1) - l \\left(l + 1\\right) = 0$$"
   ]
  },
  {
   "cell_type": "markdown",
   "id": "b4bbb0a4",
   "metadata": {},
   "source": [
    "Очевидний розв'язок $\\gamma = 1$. Другий розв'язок (за теоремою Вієта) $\\gamma = - ( l + 1 )$."
   ]
  },
  {
   "cell_type": "markdown",
   "id": "7432a238",
   "metadata": {},
   "source": [
    "Отже, частинні розв'язки рівняння є $r^l$ й $r^{-(l + 1 )}$"
   ]
  },
  {
   "cell_type": "markdown",
   "id": "f9451627",
   "metadata": {},
   "source": [
    "через граничну умову при $r = 0$ випливає залишити тільки перший"
   ]
  },
  {
   "cell_type": "markdown",
   "id": "66133dc4",
   "metadata": {},
   "source": [
    "$$R_{oo} = C r^l$$."
   ]
  },
  {
   "cell_type": "markdown",
   "id": "de32eb81",
   "metadata": {},
   "source": [
    "Розглянемо розв'язання неоднорідного рівняння"
   ]
  },
  {
   "cell_type": "markdown",
   "id": "8a21b9df",
   "metadata": {},
   "source": [
    "$$r^2 \\frac{d^2 R_{l,m}}{d r^2} + 2 r \\frac{\\partial R_{l,m}}{\\partial r} - l \\left(l + 1\\right) R_{l,m} = {r^2} f \\left(r\\right) G_{l,m}$$"
   ]
  },
  {
   "cell_type": "markdown",
   "id": "8e574906",
   "metadata": {},
   "source": [
    "При розв'язанні конкретної задачі $f ( r ) = A r^2 \\left(r_0 - r\\right)$"
   ]
  },
  {
   "cell_type": "markdown",
   "id": "9481b1be",
   "metadata": {},
   "source": [
    "$$r^2 \\frac{d^2 R_{l,m}}{d r^2} + 2 r \\frac{d R_{l,m}}{d r} - l \\left(l + 1\\right) R_{l,m} = {r^2} A r^2 \\left(r_0 - r\\right) \\delta_{l,4}\\delta_{m,1}$$"
   ]
  },
  {
   "cell_type": "markdown",
   "id": "2d0a850b",
   "metadata": {},
   "source": [
    "Розглянемо розв'язання неоднорідного рівняння, вважаючи l = 4 і m = 1"
   ]
  },
  {
   "cell_type": "markdown",
   "id": "27f4087e",
   "metadata": {},
   "source": [
    "$$r^2 \\frac{d^2 R_{4,1}}{d r^2} + 2 r \\frac{d R_{4,1}}{d r} - 4 \\left(4 + 1\\right) R_{4,1} = A r^4 \\left(r_0 - r\\right) \\delta_{4,4}\\delta_{1,1}$$"
   ]
  },
  {
   "cell_type": "markdown",
   "id": "6c7678e0",
   "metadata": {},
   "source": [
    "$$r^2 \\frac{d^2 R_{4,1}}{d r^2} + 2 r \\frac{d R_{4,1}}{d r} - 20 R_{4,1} = A r^4 \\left(r_0 - r\\right)$$"
   ]
  },
  {
   "cell_type": "markdown",
   "id": "ccd72318",
   "metadata": {},
   "source": [
    "Перейдемо до безрозмірної змінної  $x = r /r_0$"
   ]
  },
  {
   "cell_type": "markdown",
   "id": "eae26ba6",
   "metadata": {},
   "source": [
    "$$r_0^2 x^2 \\frac{d^2 R_{4,1}}{d r^2} + 2 r_0 x \\frac{d R_{4,1}}{d r} - 20 R_{4,1} = A x^4 r_0^4 \\left(r_0 - r_0 x\\right)$$"
   ]
  },
  {
   "cell_type": "markdown",
   "id": "58d62b2b",
   "metadata": {},
   "source": [
    "$\\frac{d R_{4,1}}{d r}=\\frac{d R_{4,1}}{d x}\\frac{d x}{d r}=\\frac{d R_{4,1}}{d x}\\frac{1}{r_0}$"
   ]
  },
  {
   "cell_type": "markdown",
   "id": "81b456a5",
   "metadata": {},
   "source": [
    "$$x^2 \\frac{d^2 R_{4,1}}{d x^2} + 2 x \\frac{d R_{4,1}}{d x} - 20 R_{4,1} = A r_0^5 x^4 \\left(1 - x\\right)$$"
   ]
  },
  {
   "cell_type": "markdown",
   "id": "ddfd1016",
   "metadata": {},
   "source": [
    "Дане рівняння являє собою неоднорідне рівняння Ейлера, для розв'язання якого виконаємо заміну змінної $x$ на $t$ : $x = e^t$ і $t = ln \\, x$. Тоді"
   ]
  },
  {
   "cell_type": "markdown",
   "id": "097c00ce",
   "metadata": {},
   "source": [
    "$$\\frac{d}{dx}=\\frac{d}{dt}\\frac{dt}{dx}=\\frac{1}{x}\\frac{d}{dt}=e^{-t}\\frac{d}{dt}$$"
   ]
  },
  {
   "cell_type": "markdown",
   "id": "f9b487d8",
   "metadata": {},
   "source": [
    "$$\\frac{d^2}{dx^2}=\\frac{d}{dx}\\left(\\frac{d}{dx}\\right)=e^{-t}\\frac{d}{dt}\\left(e^{-t}\\frac{d}{dt}\\right)=e^{-2t}\\frac{d^2}{dt^2}-e^{-2t}\\frac{d}{dt}$$"
   ]
  },
  {
   "cell_type": "markdown",
   "id": "0f5247e1",
   "metadata": {},
   "source": [
    "І рівняння стане таким:"
   ]
  },
  {
   "cell_type": "markdown",
   "id": "e675f180",
   "metadata": {},
   "source": [
    "$$\\left(e^{-2t}\\frac{d^2 R_{l,m}}{dt^2}-e^{-2t}\\frac{d R_{l,m}}{dt}\\right)\\,e^{2 t}+2\\,e^{t}\\,e^{-t}\\frac{d R_{l,m}}{dt} - l \\left(l + 1\\right) R_{l,m} = {e^{2 t}} f \\left(e^t\\right) G_{l,m}$$"
   ]
  },
  {
   "cell_type": "markdown",
   "id": "a36564b9",
   "metadata": {},
   "source": [
    "$$\\frac{d^2 R_{l,m}}{dt^2}-\\frac{d R_{l,m}}{dt}+2\\,\\frac{d R_{l,m}}{dt} - l \\left(l + 1\\right) R_{l,m} = {e^{2 t}} f \\left(e^t\\right) G_{l,m}$$"
   ]
  },
  {
   "cell_type": "markdown",
   "id": "728d1bf0",
   "metadata": {},
   "source": [
    "$$\\frac{d^2 R_{l,m}}{dt^2}+\\frac{d R_{l,m}}{dt} - l \\left(l + 1\\right) R_{l,m} = {e^{2 t}} f \\left(e^t\\right) G_{l,m}$$"
   ]
  },
  {
   "cell_type": "markdown",
   "id": "841ed39f",
   "metadata": {},
   "source": [
    "При розв'язанні конкретної задачі $f ( r ) = A r^2 \\left(r_0 - r\\right)$"
   ]
  },
  {
   "cell_type": "markdown",
   "id": "66a1c41f",
   "metadata": {},
   "source": [
    "$$\\frac{d^2 R_{l,m}}{dt^2}+\\frac{d R_{l,m}}{dt} - l \\left(l + 1\\right) R_{l,m} = {e^{2 t}} A {e^{2 t}} \\left(r_0 - {e^{t}}\\right) \\delta_{l,4}\\delta_{m,1}$$"
   ]
  },
  {
   "cell_type": "markdown",
   "id": "7dde9b9c",
   "metadata": {},
   "source": [
    "Розглянемо розв'язання неоднорідного рівняння, вважаючи l = 4 і m = 1"
   ]
  },
  {
   "cell_type": "markdown",
   "id": "d163f450",
   "metadata": {},
   "source": [
    "$$\\frac{d^2 R_{4,1}}{dt^2}+\\frac{d R_{4,1}}{dt} - 4 \\left(4 + 1\\right) R_{4,1} = {e^{2 t}} A {e^{2 t}} \\left(r_0 - {e^{t}}\\right) \\delta_{4,4}\\delta_{1,1}= A r_0^5 x^4 \\left(1 - x\\right)$$"
   ]
  },
  {
   "cell_type": "markdown",
   "id": "73015f03",
   "metadata": {},
   "source": [
    "$$\\frac{d^2 R_{4,1}}{dt^2}+\\frac{d R_{4,1}}{dt} - 20 R_{4,1} = A r_0^5 {e^{4 t}} \\left(1 - {e^{t}}\\right)$$"
   ]
  },
  {
   "cell_type": "markdown",
   "id": "279b8bd7",
   "metadata": {},
   "source": [
    "$$\\frac{d^2 R_{4,1}}{dt^2}+\\frac{d R_{4,1}}{dt} - 20 R_{4,1} = A r_0^5 {e^{4 t}} - A r_0^5 {e^{5 t}}$$"
   ]
  },
  {
   "cell_type": "markdown",
   "id": "974a78bb",
   "metadata": {},
   "source": [
    "Розв'язок неоднорідного рівняння можна записати у вигляді суми $\\tilde{R} = \\tilde{R}_1+\\tilde{R}_2$, де $\\tilde{R}_1,\\tilde{R}_2$ - розв'язки відповідно двох рівнянь:"
   ]
  },
  {
   "cell_type": "markdown",
   "id": "e67bcb0e",
   "metadata": {},
   "source": [
    "$$\\frac{d^2 R_{4,1}}{dt^2}+\\frac{d R_{4,1}}{dt} - 20 R_{4,1} = A r_0^5 {e^{4 t}}$$"
   ]
  },
  {
   "cell_type": "markdown",
   "id": "b352ae63",
   "metadata": {},
   "source": [
    "та"
   ]
  },
  {
   "cell_type": "markdown",
   "id": "0962b66a",
   "metadata": {},
   "source": [
    "$$\\frac{d^2 R_{4,1}}{dt^2}+\\frac{d R_{4,1}}{dt} - 20 R_{4,1} = - A r_0^5 {e^{5 t}}$$"
   ]
  },
  {
   "cell_type": "markdown",
   "id": "2c0b30ef",
   "metadata": {},
   "source": [
    "Знайдемо розв'язки кожного з них.\n",
    "Однорідне рівняння"
   ]
  },
  {
   "cell_type": "markdown",
   "id": "f2b1e87e",
   "metadata": {},
   "source": [
    "$$\\frac{d^2 R_{4,1}}{dt^2}+\\frac{d R_{4,1}}{dt} - 20 R_{4,1} = 0$$"
   ]
  },
  {
   "cell_type": "markdown",
   "id": "f0ddd66f",
   "metadata": {},
   "source": [
    "має характеристичне рівняння"
   ]
  },
  {
   "cell_type": "markdown",
   "id": "5d5d3d19",
   "metadata": {},
   "source": [
    "$$\\gamma(\\gamma + 1) - l \\left(l + 1\\right) = 0$$"
   ]
  },
  {
   "cell_type": "markdown",
   "id": "9f20a5f6",
   "metadata": {},
   "source": [
    "$$\\gamma^2 +\\gamma - 20 = 0$$"
   ]
  },
  {
   "cell_type": "markdown",
   "id": "bdb67eb0",
   "metadata": {},
   "source": [
    "Його корені"
   ]
  },
  {
   "cell_type": "code",
   "execution_count": 16,
   "id": "bdfbd2f3",
   "metadata": {},
   "outputs": [
    {
     "data": {
      "text/plain": [
       "[gamma == -5, gamma == 4]"
      ]
     },
     "execution_count": 16,
     "metadata": {},
     "output_type": "execute_result"
    }
   ],
   "source": [
    "gamma=var(\"gamma\")\n",
    "solve(gamma^2+gamma-20 == 0, gamma)"
   ]
  },
  {
   "cell_type": "markdown",
   "id": "fc24da9d",
   "metadata": {},
   "source": [
    "Тоді"
   ]
  },
  {
   "cell_type": "markdown",
   "id": "66ef82d9",
   "metadata": {},
   "source": [
    "$$R_{oo} = C x^4 = C \\left(\\frac{r}{r_0}\\right)^4$$"
   ]
  },
  {
   "cell_type": "markdown",
   "id": "b275db5a",
   "metadata": {},
   "source": [
    "При розв'язанні неоднорідного рівняння зі спеціальною правою частиною – експонентою,\n",
    "необхідно порівняти показники експоненти в правій частині й корені характеристичного рівняння.\n",
    "Залежно від того, збігаються ці значення чи ні, вибирають вид розв'язку.\n",
    "Для першого рівняння"
   ]
  },
  {
   "cell_type": "markdown",
   "id": "78923ace",
   "metadata": {},
   "source": [
    "$$\\frac{d^2 R_{4,1}}{dt^2}+\\frac{d R_{4,1}}{dt} - 20 R_{4,1} = A r_0^5 {e^{4 t}}$$"
   ]
  },
  {
   "cell_type": "markdown",
   "id": "b743c864",
   "metadata": {},
   "source": [
    "ці значення збігаються. Тоді розв'язок рівняння шукаємо у вигляді $\\tilde{R}_1 = pte^{4t}$, де p деяке число. Підставимо в рівняння. Знайдемо похідні:"
   ]
  },
  {
   "cell_type": "markdown",
   "id": "70e19e35",
   "metadata": {},
   "source": [
    "$$\\tilde{R'}_1 = 4pte^{4t} + pe^{4t}$$"
   ]
  },
  {
   "cell_type": "markdown",
   "id": "2e36d17c",
   "metadata": {},
   "source": [
    "$$\\tilde{R''}_1 = 16pte^{4t} + 4pe^{4t} + 4pe^{4t} = 16pte^{4t} + 8pe^{4t}$$"
   ]
  },
  {
   "cell_type": "markdown",
   "id": "c23f3da1",
   "metadata": {},
   "source": [
    "Тоді, підставляючи похідні"
   ]
  },
  {
   "cell_type": "markdown",
   "id": "6455767b",
   "metadata": {},
   "source": [
    "$$16pte^{4t} + 8pe^{4t}+4pte^{4t} + pe^{4t}-20 \\cdot pte^{4t} = A r_0^5 {e^{4 t}}$$"
   ]
  },
  {
   "cell_type": "markdown",
   "id": "866d9c88",
   "metadata": {},
   "source": [
    "$$20pte^{4t} + 9pe^{4t}-20 \\cdot pte^{4t} = A r_0^5 {e^{4 t}}$$"
   ]
  },
  {
   "cell_type": "markdown",
   "id": "7398d5c0",
   "metadata": {},
   "source": [
    "$$9pe^{4t} = A r_0^5 {e^{4 t}}$$"
   ]
  },
  {
   "cell_type": "markdown",
   "id": "c44f3c3f",
   "metadata": {},
   "source": [
    "$$9p = A r_0^5$$"
   ]
  },
  {
   "cell_type": "markdown",
   "id": "18f93086",
   "metadata": {},
   "source": [
    "$$p = \\frac{A}{9} r_0^5$$"
   ]
  },
  {
   "cell_type": "markdown",
   "id": "dc06500e",
   "metadata": {},
   "source": [
    "$$\\tilde{R}_1 = p t e^{4t} =  \\frac{A}{9} r_0^5 t e^{4t}$$"
   ]
  },
  {
   "cell_type": "markdown",
   "id": "c709193c",
   "metadata": {},
   "source": [
    "$t = ln \\, x$,  $x = r / r_0$, $t = ln \\left( \\frac{r}{r_0}\\right)$, $e^{4t} = \\left( \\frac{r}{r_0}\\right)^4$"
   ]
  },
  {
   "cell_type": "markdown",
   "id": "6407476e",
   "metadata": {},
   "source": [
    "$$\\tilde{R}_1 = \\frac{A}{9}\\cdot r_0^5 \\cdot \\left( \\frac{r}{r_0}\\right)^4 ln \\left( \\frac{r}{r_0}\\right)$$"
   ]
  },
  {
   "cell_type": "markdown",
   "id": "6f161328",
   "metadata": {},
   "source": [
    "Розв'язок другого рівняння"
   ]
  },
  {
   "cell_type": "markdown",
   "id": "06ee2044",
   "metadata": {},
   "source": [
    "$$\\frac{d^2 R_{4,1}}{dt^2}+\\frac{d R_{4,1}}{dt} - 20 R_{4,1} = - A r_0^5 {e^{5 t}}$$"
   ]
  },
  {
   "cell_type": "markdown",
   "id": "789441b0",
   "metadata": {},
   "source": [
    "шукаємо у вигляді $\\tilde{R}_2 = q e^{5t}$"
   ]
  },
  {
   "cell_type": "markdown",
   "id": "77bc560f",
   "metadata": {},
   "source": [
    "$$\\tilde{R'}_2 = 5 q e^{5t}$$"
   ]
  },
  {
   "cell_type": "markdown",
   "id": "247029ee",
   "metadata": {},
   "source": [
    "$$\\tilde{R''}_2 = 25 q e^{5t}$$"
   ]
  },
  {
   "cell_type": "markdown",
   "id": "9da1093c",
   "metadata": {},
   "source": [
    "підставляючи похідні"
   ]
  },
  {
   "cell_type": "markdown",
   "id": "3f9834fc",
   "metadata": {},
   "source": [
    "$$25 q e^{5t} + 5 q e^{5t} - 20 \\cdot q e^{5t} = - A r_0^5 {e^{5 t}}$$"
   ]
  },
  {
   "cell_type": "markdown",
   "id": "8785a307",
   "metadata": {},
   "source": [
    "$$30 q e^{5t} - 20 \\cdot q e^{5t} = - A r_0^5 {e^{5 t}}$$"
   ]
  },
  {
   "cell_type": "markdown",
   "id": "b48aada1",
   "metadata": {},
   "source": [
    "$$30 q - 20 \\cdot q = - A r_0^5$$"
   ]
  },
  {
   "cell_type": "markdown",
   "id": "50274036",
   "metadata": {},
   "source": [
    "$$10 q= - A r_0^5$$"
   ]
  },
  {
   "cell_type": "markdown",
   "id": "51831cdb",
   "metadata": {},
   "source": [
    "$$q= - \\frac{A}{10} r_0^5$$"
   ]
  },
  {
   "cell_type": "markdown",
   "id": "cce5b574",
   "metadata": {},
   "source": [
    "$$\\tilde{R}_2 = q e^{5t} = - \\frac{A}{10} r_0^5 e^{5t}$$"
   ]
  },
  {
   "cell_type": "markdown",
   "id": "9a76e3e1",
   "metadata": {},
   "source": [
    "$t = ln \\, x$,  $x = r / r_0$, $t = ln \\left( \\frac{r}{r_0}\\right)$, $e^{5t} = \\left( \\frac{r}{r_0}\\right)^5$"
   ]
  },
  {
   "cell_type": "markdown",
   "id": "9bfd8f64",
   "metadata": {},
   "source": [
    "$$\\tilde{R}_2 = - \\frac{A}{10} r_0^5 \\left( \\frac{r}{r_0}\\right)^5$$"
   ]
  },
  {
   "cell_type": "markdown",
   "id": "a6715a04",
   "metadata": {},
   "source": [
    "Загальний розв'язок рівняння"
   ]
  },
  {
   "cell_type": "markdown",
   "id": "fef7d202",
   "metadata": {},
   "source": [
    "$R_{4,1} = R_{oo} + \\tilde{R} = R_{oo} + \\tilde{R}_1 + \\tilde{R}_2$"
   ]
  },
  {
   "cell_type": "markdown",
   "id": "f7f982a8",
   "metadata": {},
   "source": [
    "$R_{4,1} = C \\left(\\frac{r}{r_0}\\right)^4 + \\frac{A}{9}\\cdot r_0^5 \\cdot \\left( \\frac{r}{r_0}\\right)^4 ln \\left( \\frac{r}{r_0}\\right) - \\frac{A}{10} r_0^5 \\left( \\frac{r}{r_0}\\right)^5$"
   ]
  },
  {
   "cell_type": "markdown",
   "id": "e9aacfed",
   "metadata": {},
   "source": [
    "$R_{4,1} = \\left(\\frac{r}{r_0}\\right)^4 \\left( C  + \\frac{A}{9}\\cdot r_0^5 ln \\left( \\frac{r}{r_0}\\right) - \\frac{A}{10} r_0^5 \\left( \\frac{r}{r_0}\\right) \\right)$"
   ]
  },
  {
   "cell_type": "markdown",
   "id": "cd69f208",
   "metadata": {},
   "source": [
    "$$u \\left(r, \\theta, \\varphi \\right) = \\sum_{l=0}^{\\infty}\\sum_{m=0}^{l} R_{l,m} \\left(r\\right) Y_{l,m}\\left(\\theta, \\varphi \\right) = \\left(\\frac{r}{r_0}\\right)^4 \\left(C  + \\frac{A}{9}\\cdot r_0^5 \\, ln \\left( \\frac{r}{r_0}\\right) - \\frac{A}{10} r_0^5 \\left(\\frac{r}{r_0}\\right) \\right) Y_{4,1}\\left(\\theta, \\varphi \\right) $$"
   ]
  },
  {
   "cell_type": "markdown",
   "id": "cd79c701",
   "metadata": {},
   "source": [
    "Дія 5. Визначення постійної із граничної умови."
   ]
  },
  {
   "cell_type": "markdown",
   "id": "94bb98aa",
   "metadata": {},
   "source": [
    "$$u \\left(r_0, \\theta, \\varphi \\right) = \\left(1\\right)^4 \\left(C  + \\frac{A}{9}\\cdot r_0^5 \\, ln \\left( 1\\right) - \\frac{A}{10} r_0^5 \\left(1\\right) \\right) Y_{4,1}\\left(\\theta, \\varphi \\right) = 0$$"
   ]
  },
  {
   "cell_type": "markdown",
   "id": "52ca38d4",
   "metadata": {},
   "source": [
    "$$u\\left(r_0, \\theta, \\varphi \\right) = \\left(C - \\frac{A}{10} r_0^5 \\right) Y_{4,1}\\left(\\theta, \\varphi \\right) = 0$$"
   ]
  },
  {
   "cell_type": "markdown",
   "id": "54728aa2",
   "metadata": {},
   "source": [
    "$$C = \\frac{A}{10} r_0^5$$"
   ]
  },
  {
   "cell_type": "markdown",
   "id": "9be50da7",
   "metadata": {},
   "source": [
    "Дія 6. Запис відповіді"
   ]
  },
  {
   "cell_type": "markdown",
   "id": "eccfb491",
   "metadata": {},
   "source": [
    "$$u \\left(r, \\theta, \\varphi \\right) = \\left(\\frac{r}{r_0}\\right)^4 \\left(\\frac{A}{10} \\, r_0^5 + \\frac{A}{9}\\cdot r_0^5 \\, ln \\left( \\frac{r}{r_0}\\right) - \\frac{A}{10} r_0^5 \\left(\\frac{r}{r_0}\\right) \\right) Y_{4,1}\\left(\\theta, \\varphi \\right) $$"
   ]
  },
  {
   "cell_type": "markdown",
   "id": "72bb0c17",
   "metadata": {},
   "source": [
    "$$u \\left(r, \\theta, \\varphi \\right) = r_0^5\\left(\\frac{r}{r_0}\\right)^4 \\left(\\frac{A}{10} + \\frac{A}{9} \\, ln \\left( \\frac{r}{r_0}\\right) - \\frac{A}{10} \\left(\\frac{r}{r_0}\\right) \\right) Y_{4,1}\\left(\\theta, \\varphi \\right) $$"
   ]
  },
  {
   "cell_type": "markdown",
   "id": "f2986600",
   "metadata": {},
   "source": [
    "$$u \\left(r, \\theta, \\varphi \\right) = r_0\\left(r\\right)^4 \\left(\\frac{A}{10} - \\frac{A}{10} \\left(\\frac{r}{r_0}\\right) + \\frac{A}{9} \\, ln \\left( \\frac{r}{r_0}\\right)  \\right) Y_{4,1}\\left(\\theta, \\varphi \\right) $$"
   ]
  },
  {
   "cell_type": "markdown",
   "id": "9b12c08b",
   "metadata": {},
   "source": [
    "$$u \\left(r, \\theta, \\varphi \\right) = r_0\\,r^4 \\left(\\frac{A}{10} \\left(1 - \\left(\\frac{r}{r_0}\\right) \\right) + \\frac{A}{9} \\, ln \\left( \\frac{r}{r_0}\\right)  \\right) Y_{4,1}\\left(\\theta, \\varphi \\right) $$"
   ]
  },
  {
   "cell_type": "markdown",
   "id": "99f5dc8a",
   "metadata": {},
   "source": [
    "сферичні гармоніки\n",
    "\n",
    "$$Y_{l}^{(m)}(\\theta, \\varphi) = \\sqrt{\\frac{2l+1}{4\\pi}\\frac{(l-m)!}{(l+m)!}}\\,P_{l}^{(m)}(cos\\,\\theta)\\,e^{i\\,m\\,\\varphi}$$"
   ]
  },
  {
   "cell_type": "markdown",
   "id": "5650d69b",
   "metadata": {},
   "source": [
    "тут $Y_{4}^{(1)}(\\theta, \\varphi) = \\sqrt{\\frac{2 \\cdot 4+1}{4\\pi}\\frac{(4-1)!}{(4+1)!}}\\,P_{4}^{(1)}(cos\\,\\theta)\\,e^{i\\,\\varphi}$"
   ]
  },
  {
   "cell_type": "markdown",
   "id": "c552835d",
   "metadata": {},
   "source": [
    "$Y_{4}^{(1)}(\\theta, \\varphi) = \\sqrt{\\frac{9}{4\\pi}\\frac{(3)!}{(5)!}}\\,P_{4}^{(1)}(cos\\,\\theta)\\,e^{i\\,\\varphi}$"
   ]
  },
  {
   "cell_type": "code",
   "execution_count": 17,
   "id": "48c4da6c",
   "metadata": {},
   "outputs": [],
   "source": [
    "theta = var(\"theta\")\n",
    "varphi = var(\"varphi\")"
   ]
  },
  {
   "cell_type": "code",
   "execution_count": 18,
   "id": "0ac720be",
   "metadata": {},
   "outputs": [
    {
     "data": {
      "text/latex": [
       "$\\displaystyle \\frac{3 \\, \\sqrt{\\frac{1}{5}}}{4 \\, \\sqrt{\\pi}}$"
      ],
      "text/plain": [
       "<IPython.core.display.Math object>"
      ]
     },
     "metadata": {},
     "output_type": "display_data"
    }
   ],
   "source": [
    "l = 4\n",
    "m = 1\n",
    "s = sqrt((2*l+1)/(4*pi)*factorial(l-m)/factorial(l+m))\n",
    "disp(s)"
   ]
  },
  {
   "cell_type": "markdown",
   "id": "f93eb0ad",
   "metadata": {},
   "source": [
    "Тут $P_{l}^{(m)}(x) = \\left(1-x^2 \\right)^{m/2} \\frac{d^m}{dx^m} P_l(x)$ - приєднані функції Лежандра,\n",
    "\n",
    "$P_{l}(x) = \\frac{1}{2^l l!} \\frac{d^l}{dx^l} \\left(x^2 - 1\\right)^{l}$ - поліноми Лежандра."
   ]
  },
  {
   "cell_type": "markdown",
   "id": "f3e17859",
   "metadata": {},
   "source": [
    "Тут $P_{4}^{(1)}(x) = \\left(1-x^2 \\right)^{1/2} \\frac{d}{dx} P_4(x)$ - приєднані функції Лежандра,\n",
    "\n",
    "$P_{4}(x) = \\frac{1}{2^4 4!} \\frac{d^4}{dx^4} \\left(x^2 - 1\\right)^{4}$ - поліноми Лежандра."
   ]
  },
  {
   "cell_type": "code",
   "execution_count": 19,
   "id": "3e9f68e8",
   "metadata": {},
   "outputs": [
    {
     "data": {
      "text/plain": [
       "20160*x^2 - 2880"
      ]
     },
     "execution_count": 19,
     "metadata": {},
     "output_type": "execute_result"
    }
   ],
   "source": [
    "D5 = ((x^2 - 1)^l).diff(x,l+1)\n",
    "diff(D5)"
   ]
  },
  {
   "cell_type": "code",
   "execution_count": 20,
   "id": "2f6e55ab",
   "metadata": {},
   "outputs": [
    {
     "data": {
      "text/latex": [
       "$\\displaystyle x^{4} + 3 \\, {\\left(x^{2} - 1\\right)} x^{2} + \\frac{3}{8} \\, {\\left(x^{2} - 1\\right)}^{2}$"
      ],
      "text/plain": [
       "<IPython.core.display.Math object>"
      ]
     },
     "metadata": {},
     "output_type": "display_data"
    }
   ],
   "source": [
    "P4 = ((x^2 - 1)^l).diff(x,l) / (2^l * factorial(l))\n",
    "disp(P4)"
   ]
  },
  {
   "cell_type": "code",
   "execution_count": 21,
   "id": "39f93db4",
   "metadata": {},
   "outputs": [
    {
     "data": {
      "text/latex": [
       "$\\displaystyle \\frac{35}{8} \\, x^{4} - \\frac{15}{4} \\, x^{2} + \\frac{3}{8}$"
      ],
      "text/plain": [
       "<IPython.core.display.Math object>"
      ]
     },
     "metadata": {},
     "output_type": "display_data"
    }
   ],
   "source": [
    "P4 = P4.expand()\n",
    "disp(P4)"
   ]
  },
  {
   "cell_type": "code",
   "execution_count": 22,
   "id": "4dcda7eb",
   "metadata": {},
   "outputs": [
    {
     "data": {
      "text/latex": [
       "$\\displaystyle \\frac{5}{2} \\, {\\left(7 \\, x^{3} - 3 \\, x\\right)} \\sqrt{-x^{2} + 1}$"
      ],
      "text/plain": [
       "<IPython.core.display.Math object>"
      ]
     },
     "metadata": {},
     "output_type": "display_data"
    }
   ],
   "source": [
    "P41 = (1-x^2)^(m/2)*P4.diff(x)\n",
    "disp(P41)"
   ]
  },
  {
   "cell_type": "code",
   "execution_count": 23,
   "id": "abb1477a",
   "metadata": {},
   "outputs": [
    {
     "data": {
      "text/latex": [
       "$\\displaystyle \\frac{15 \\, \\sqrt{\\frac{1}{5}} {\\left(7 \\, x^{3} - 3 \\, x\\right)} \\sqrt{-x^{2} + 1}}{8 \\, \\sqrt{\\pi}}$"
      ],
      "text/plain": [
       "<IPython.core.display.Math object>"
      ]
     },
     "metadata": {},
     "output_type": "display_data"
    }
   ],
   "source": [
    "sP41 = s * P41\n",
    "disp(sP41)"
   ]
  },
  {
   "cell_type": "code",
   "execution_count": 24,
   "id": "efcaf20d",
   "metadata": {},
   "outputs": [
    {
     "data": {
      "text/latex": [
       "$\\displaystyle \\frac{15 \\, \\sqrt{\\frac{1}{5}} {\\left(7 \\, \\cos\\left(\\theta\\right)^{3} - 3 \\, \\cos\\left(\\theta\\right)\\right)} \\sqrt{-\\cos\\left(\\theta\\right)^{2} + 1} e^{\\left(i \\, \\varphi\\right)}}{8 \\, \\sqrt{\\pi}}$"
      ],
      "text/plain": [
       "<IPython.core.display.Math object>"
      ]
     },
     "metadata": {},
     "output_type": "display_data"
    }
   ],
   "source": [
    "Y41 = (sP41).subs(x == cos(theta)) * e^(i*m*varphi)\n",
    "disp(Y41)"
   ]
  },
  {
   "cell_type": "code",
   "execution_count": 25,
   "id": "3be9b22a",
   "metadata": {},
   "outputs": [
    {
     "data": {
      "text/latex": [
       "$\\displaystyle \\frac{15 \\, \\sqrt{\\frac{1}{5}} {\\left(7 \\, \\cos\\left(\\theta\\right)^{3} - 3 \\, \\cos\\left(\\theta\\right)\\right)} e^{\\left(i \\, \\varphi\\right)} \\sin\\left(\\theta\\right)}{8 \\, \\sqrt{\\pi}}$"
      ],
      "text/plain": [
       "<IPython.core.display.Math object>"
      ]
     },
     "metadata": {},
     "output_type": "display_data"
    }
   ],
   "source": [
    "Y41 = (Y41).subs(sqrt(1-cos(theta)^2) == sin(theta))\n",
    "disp(Y41)"
   ]
  },
  {
   "cell_type": "code",
   "execution_count": 26,
   "id": "31b679a2",
   "metadata": {},
   "outputs": [
    {
     "data": {
      "text/latex": [
       "$\\displaystyle \\frac{15 \\, \\sqrt{\\frac{1}{5}} {\\left(7 \\, \\cos\\left(\\theta\\right)^{3} - 3 \\, \\cos\\left(\\theta\\right)\\right)} e^{\\left(i \\, \\varphi\\right)} \\sin\\left(\\theta\\right)}{8 \\, \\sqrt{\\pi}}$"
      ],
      "text/plain": [
       "<IPython.core.display.Math object>"
      ]
     },
     "metadata": {},
     "output_type": "display_data"
    }
   ],
   "source": [
    "Y41 = (Y41).subs(cos(theta)^2-1 == sin(theta)^2)\n",
    "disp(Y41)"
   ]
  },
  {
   "cell_type": "code",
   "execution_count": 27,
   "id": "7cf1de4d",
   "metadata": {},
   "outputs": [
    {
     "data": {
      "text/latex": [
       "$\\displaystyle Y_{4,1}\\left(\\theta, \\varphi \\right) = \\frac{3 \\, {\\left(7 \\, \\sqrt{5} \\cos\\left(\\theta\\right) \\sin\\left(\\theta\\right)^{2} - 4 \\, \\sqrt{5} \\cos\\left(\\theta\\right)\\right)} e^{\\left(i \\, \\varphi\\right)} \\sin\\left(\\theta\\right)}{8 \\, \\sqrt{\\pi}}$"
      ],
      "text/plain": [
       "<IPython.core.display.Math object>"
      ]
     },
     "metadata": {},
     "output_type": "display_data"
    }
   ],
   "source": [
    "displ(\"Y_{4,1}\\\\left(\\\\theta, \\\\varphi \\\\right) = \" + latex(spherical_harmonic(4,1,theta,varphi)))"
   ]
  },
  {
   "cell_type": "code",
   "execution_count": 28,
   "id": "be1a8918",
   "metadata": {},
   "outputs": [
    {
     "data": {
      "text/latex": [
       "$\\displaystyle Y_{3,1}\\left(\\theta, \\varphi \\right) = \\frac{{\\left(5 \\, \\sqrt{7} \\sqrt{3} \\sin\\left(\\theta\\right)^{2} - 4 \\, \\sqrt{7} \\sqrt{3}\\right)} e^{\\left(i \\, \\varphi\\right)} \\sin\\left(\\theta\\right)}{8 \\, \\sqrt{\\pi}}$"
      ],
      "text/plain": [
       "<IPython.core.display.Math object>"
      ]
     },
     "metadata": {},
     "output_type": "display_data"
    }
   ],
   "source": [
    "displ(\"Y_{3,1}\\\\left(\\\\theta, \\\\varphi \\\\right) = \" + latex(spherical_harmonic(3,1,theta,varphi)))"
   ]
  }
 ],
 "metadata": {
  "kernelspec": {
   "display_name": "SageMath 9.6.beta7",
   "language": "sage",
   "name": "sagemath"
  },
  "language_info": {
   "codemirror_mode": {
    "name": "ipython",
    "version": 3
   },
   "file_extension": ".py",
   "mimetype": "text/x-python",
   "name": "python",
   "nbconvert_exporter": "python",
   "pygments_lexer": "ipython3",
   "version": "3.10.3"
  }
 },
 "nbformat": 4,
 "nbformat_minor": 5
}

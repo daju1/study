{
 "cells": [
  {
   "cell_type": "code",
   "execution_count": 1,
   "id": "53d33bbe",
   "metadata": {},
   "outputs": [],
   "source": [
    "from IPython.display import display, Math, Latex\n",
    "\n",
    "def disp(ex):\n",
    "    display(Math(latex(ex)))\n",
    "\n",
    "def displ(tex):\n",
    "    display(Math(tex))"
   ]
  },
  {
   "cell_type": "code",
   "execution_count": 2,
   "id": "1bb8f271",
   "metadata": {},
   "outputs": [],
   "source": [
    "t, x, l = var(\"t, x, l\")\n",
    "assume (l > 0)\n",
    "C = var(\"C\")\n",
    "b, mu_k = var(\"b, mu_k\")\n",
    "assume(mu_k, \"real\")\n",
    "assume(x, \"real\")\n",
    "assume(t, \"real\")\n",
    "T_k = function('T_k')(t)\n",
    "X_k = function('X_k')(x)\n",
    "f_k = function('f_k')(t)\n",
    "f = function('f')(x,t)\n",
    "\n",
    "A,B,b = var(\"A,B,b\")\n",
    "u = function('u')(x,t)\n"
   ]
  },
  {
   "cell_type": "markdown",
   "id": "847f68bb",
   "metadata": {},
   "source": [
    "Дія перша. Приведення граничних умов до однорідних"
   ]
  },
  {
   "cell_type": "code",
   "execution_count": 3,
   "id": "d634ba72",
   "metadata": {
    "scrolled": true
   },
   "outputs": [
    {
     "data": {
      "text/latex": [
       "$\\displaystyle \\frac{2 \\, A t}{l} + \\frac{A x - \\frac{A x^{2}}{l} - {\\left(\\frac{x^{2}}{l^{2}} - 1\\right)} \\mathrm{D}_{1}\\left(u\\right)\\left(0, t\\right)}{b^{2}} + \\frac{2 \\, u\\left(0, t\\right)}{l^{2}}$"
      ],
      "text/plain": [
       "<IPython.core.display.Math object>"
      ]
     },
     "metadata": {},
     "output_type": "display_data"
    }
   ],
   "source": [
    "f_xt = 2*(A*t/l+u(x=0,t=t)/l^2) + 1/b^2*(A*x-A*x^2/l + u(x=0,t=t).diff(t) * (1-x^2/l^2))\n",
    "disp(f_xt)"
   ]
  },
  {
   "cell_type": "code",
   "execution_count": 4,
   "id": "ef77c098",
   "metadata": {
    "scrolled": true
   },
   "outputs": [
    {
     "data": {
      "text/latex": [
       "$\\displaystyle \\frac{2 \\, A t}{l} + \\frac{A x - \\frac{A x^{2}}{l}}{b^{2}}$"
      ],
      "text/plain": [
       "<IPython.core.display.Math object>"
      ]
     },
     "metadata": {},
     "output_type": "display_data"
    }
   ],
   "source": [
    "f_xt_ = 2*(A*t/l) + 1/b^2*(A*x-A*x^2/l)\n",
    "disp(f_xt_)"
   ]
  },
  {
   "cell_type": "markdown",
   "id": "98fdc176",
   "metadata": {},
   "source": [
    "Розв'язок задачи Штурма - Ліувілля для рівняння \n",
    "\n",
    "$$\\frac{d^2 X}{dx^2} = \\lambda X$$\n",
    "\n",
    "із однорідними граничними умовами на відрізку $[0,l]$ являє собою набір функцій"
   ]
  },
  {
   "cell_type": "code",
   "execution_count": 5,
   "id": "0073a1eb",
   "metadata": {},
   "outputs": [
    {
     "data": {
      "text/latex": [
       "$\\displaystyle \\frac{\\sqrt{2} \\sin\\left(\\mu_{k} x\\right)}{\\sqrt{l}}$"
      ],
      "text/plain": [
       "<IPython.core.display.Math object>"
      ]
     },
     "metadata": {},
     "output_type": "display_data"
    }
   ],
   "source": [
    "Xk = sqrt(2/l)*sin(mu_k * x)\n",
    "disp(Xk)"
   ]
  },
  {
   "cell_type": "markdown",
   "id": "0046fbaf",
   "metadata": {},
   "source": [
    "де $\\mu_k = \\frac{\\pi k}{l}$\n",
    "\n",
    "$\\lambda_k = -\\mu_k^2 < 0$"
   ]
  },
  {
   "cell_type": "markdown",
   "id": "8b215a74",
   "metadata": {},
   "source": [
    "Дія третя. Вивід диф рівняння для $T_k(t)$"
   ]
  },
  {
   "cell_type": "code",
   "execution_count": 6,
   "id": "8edf14dd",
   "metadata": {},
   "outputs": [
    {
     "data": {
      "text/latex": [
       "$\\displaystyle \\int_{0}^{l} \\overline{X_{k}\\left(x\\right)} f\\left(x, t\\right)\\,{d x}$"
      ],
      "text/plain": [
       "<IPython.core.display.Math object>"
      ]
     },
     "metadata": {},
     "output_type": "display_data"
    }
   ],
   "source": [
    "fk = integrate(f*conjugate(X_k(x=x)),x,0,l)\n",
    "disp(fk)"
   ]
  },
  {
   "cell_type": "code",
   "execution_count": 7,
   "id": "05a0252f",
   "metadata": {},
   "outputs": [
    {
     "data": {
      "text/latex": [
       "$\\displaystyle \\frac{\\sqrt{2} \\int_{0}^{l} f\\left(x, t\\right) \\sin\\left(\\mu_{k} x\\right)\\,{d x}}{\\sqrt{l}}$"
      ],
      "text/plain": [
       "<IPython.core.display.Math object>"
      ]
     },
     "metadata": {},
     "output_type": "display_data"
    }
   ],
   "source": [
    "disp(fk.subs(X_k == Xk))"
   ]
  },
  {
   "cell_type": "markdown",
   "id": "e2fe1594",
   "metadata": {},
   "source": [
    "Дія четверта, розв'язання дифференційного рівняння для $T_k(t)$"
   ]
  },
  {
   "cell_type": "code",
   "execution_count": 8,
   "id": "37fd00b7",
   "metadata": {},
   "outputs": [
    {
     "data": {
      "text/latex": [
       "$\\displaystyle b^{2} \\mu_{k}^{2} T_{k}\\left(t\\right) + \\frac{\\partial}{\\partial t}T_{k}\\left(t\\right) = 0$"
      ],
      "text/plain": [
       "<IPython.core.display.Math object>"
      ]
     },
     "metadata": {},
     "output_type": "display_data"
    }
   ],
   "source": [
    "# однорідне рівняння\n",
    "eq_0 = diff(T_k,t) + b^2*mu_k^2*T_k == 0\n",
    "disp(eq_0)"
   ]
  },
  {
   "cell_type": "code",
   "execution_count": 9,
   "id": "b5dc4dd5",
   "metadata": {},
   "outputs": [
    {
     "data": {
      "text/latex": [
       "$\\displaystyle b^{2} \\mu_{k}^{2} T_{k}\\left(t\\right) + \\frac{\\partial}{\\partial t}T_{k}\\left(t\\right) = -b^{2} f_{k}\\left(t\\right)$"
      ],
      "text/plain": [
       "<IPython.core.display.Math object>"
      ]
     },
     "metadata": {},
     "output_type": "display_data"
    }
   ],
   "source": [
    "# неоднорідне рівняння\n",
    "eq = diff(T_k,t) + b^2*mu_k^2*T_k == -b^2*f_k(t=t)\n",
    "disp(eq)"
   ]
  },
  {
   "cell_type": "markdown",
   "id": "655128f0",
   "metadata": {},
   "source": [
    "Розв'язуємо диф рівняння"
   ]
  },
  {
   "cell_type": "code",
   "execution_count": 10,
   "id": "75978f03",
   "metadata": {},
   "outputs": [
    {
     "data": {
      "text/latex": [
       "$\\displaystyle C e^{\\left(-b^{2} \\mu_{k}^{2} t\\right)}$"
      ],
      "text/plain": [
       "<IPython.core.display.Math object>"
      ]
     },
     "metadata": {},
     "output_type": "display_data"
    }
   ],
   "source": [
    "# загальний розв'язок однорідного рівняння\n",
    "Tk_0 = desolve(eq_0, T_k, ivar=t, contrib_ode = False)\n",
    "disp(Tk_0)"
   ]
  },
  {
   "cell_type": "code",
   "execution_count": 11,
   "id": "a821393e",
   "metadata": {},
   "outputs": [
    {
     "data": {
      "text/latex": [
       "$\\displaystyle -{\\left(b^{2} \\int e^{\\left(b^{2} \\mu_{k}^{2} t\\right)} f_{k}\\left(t\\right)\\,{d t} - C\\right)} e^{\\left(-b^{2} \\mu_{k}^{2} t\\right)}$"
      ],
      "text/plain": [
       "<IPython.core.display.Math object>"
      ]
     },
     "metadata": {},
     "output_type": "display_data"
    }
   ],
   "source": [
    "Tk = desolve(eq, T_k, ivar=t, contrib_ode = False)\n",
    "disp(Tk)"
   ]
  },
  {
   "cell_type": "code",
   "execution_count": 12,
   "id": "52c92b91",
   "metadata": {},
   "outputs": [
    {
     "data": {
      "text/latex": [
       "$\\displaystyle -b^{2} e^{\\left(-b^{2} \\mu_{k}^{2} t\\right)} \\int e^{\\left(b^{2} \\mu_{k}^{2} t\\right)} f_{k}\\left(t\\right)\\,{d t}$"
      ],
      "text/plain": [
       "<IPython.core.display.Math object>"
      ]
     },
     "metadata": {},
     "output_type": "display_data"
    }
   ],
   "source": [
    "# частинний розв'язок неоднорідного рівняння\n",
    "Tk_tilda = (Tk-Tk_0).full_simplify()\n",
    "disp(Tk_tilda)"
   ]
  },
  {
   "cell_type": "markdown",
   "id": "54d0873e",
   "metadata": {},
   "source": [
    "Робимо перевірку розв'язку"
   ]
  },
  {
   "cell_type": "code",
   "execution_count": 13,
   "id": "2d214db4",
   "metadata": {},
   "outputs": [
    {
     "data": {
      "text/latex": [
       "$\\displaystyle -b^{2} f_{k}\\left(t\\right) = -b^{2} f_{k}\\left(t\\right)$"
      ],
      "text/plain": [
       "<IPython.core.display.Math object>"
      ]
     },
     "metadata": {},
     "output_type": "display_data"
    }
   ],
   "source": [
    "disp(eq.subs(T_k == Tk, diff(T_k,t) == Tk.diff(t)))"
   ]
  },
  {
   "cell_type": "markdown",
   "id": "100f4fbf",
   "metadata": {},
   "source": [
    "Підставляемо в розв'язок $f_k$"
   ]
  },
  {
   "cell_type": "code",
   "execution_count": 14,
   "id": "371a35b8",
   "metadata": {},
   "outputs": [
    {
     "data": {
      "text/latex": [
       "$\\displaystyle -b^{2} e^{\\left(-b^{2} \\mu_{k}^{2} t\\right)} \\int e^{\\left(b^{2} \\mu_{k}^{2} t\\right)} \\int_{0}^{l} \\overline{X_{k}\\left(x\\right)} f\\left(x, t\\right)\\,{d x}\\,{d t}$"
      ],
      "text/plain": [
       "<IPython.core.display.Math object>"
      ]
     },
     "metadata": {},
     "output_type": "display_data"
    }
   ],
   "source": [
    "disp(Tk_tilda.subs(f_k == fk))"
   ]
  },
  {
   "cell_type": "code",
   "execution_count": 15,
   "id": "5252bd96",
   "metadata": {},
   "outputs": [
    {
     "data": {
      "text/latex": [
       "$\\displaystyle -\\frac{\\sqrt{2} b^{2} e^{\\left(-b^{2} \\mu_{k}^{2} t\\right)} \\int e^{\\left(b^{2} \\mu_{k}^{2} t\\right)} \\int_{0}^{l} f\\left(x, t\\right) \\sin\\left(\\mu_{k} x\\right)\\,{d x}\\,{d t}}{\\sqrt{l}}$"
      ],
      "text/plain": [
       "<IPython.core.display.Math object>"
      ]
     },
     "metadata": {},
     "output_type": "display_data"
    }
   ],
   "source": [
    "disp(Tk_tilda.subs(f_k == fk.subs(X_k == Xk)))"
   ]
  },
  {
   "cell_type": "code",
   "execution_count": 16,
   "id": "1a792581",
   "metadata": {},
   "outputs": [
    {
     "data": {
      "text/latex": [
       "$\\displaystyle \\frac{\\sqrt{2} b^{2} {\\left(\\frac{A e^{\\left(b^{2} \\mu_{k}^{2} t\\right)} \\sin\\left(l \\mu_{k}\\right)}{b^{4} \\mu_{k}^{4}} + \\frac{2 \\, {\\left(b^{2} \\mu_{k}^{2} t - 1\\right)} A \\cos\\left(l \\mu_{k}\\right) e^{\\left(b^{2} \\mu_{k}^{2} t\\right)}}{b^{4} l \\mu_{k}^{5}} - \\frac{2 \\, {\\left(b^{2} \\mu_{k}^{2} t - 1\\right)} A e^{\\left(b^{2} \\mu_{k}^{2} t\\right)}}{b^{4} l \\mu_{k}^{5}} + \\frac{2 \\, A \\cos\\left(l \\mu_{k}\\right) e^{\\left(b^{2} \\mu_{k}^{2} t\\right)}}{b^{4} l \\mu_{k}^{5}} - \\frac{2 \\, A e^{\\left(b^{2} \\mu_{k}^{2} t\\right)}}{b^{4} l \\mu_{k}^{5}}\\right)} e^{\\left(-b^{2} \\mu_{k}^{2} t\\right)}}{\\sqrt{l}}$"
      ],
      "text/plain": [
       "<IPython.core.display.Math object>"
      ]
     },
     "metadata": {},
     "output_type": "display_data"
    }
   ],
   "source": [
    "Tk_tilda_exact = Tk_tilda.subs(f_k == fk.subs(X_k == Xk).subs(f == f_xt_))\n",
    "disp(Tk_tilda_exact)"
   ]
  },
  {
   "cell_type": "code",
   "execution_count": 17,
   "id": "a563f7a6",
   "metadata": {},
   "outputs": [
    {
     "data": {
      "text/latex": [
       "$\\displaystyle \\frac{\\sqrt{2} {\\left(2 \\, b^{2} \\mu_{k}^{2} \\cos\\left(l \\mu_{k}\\right) \\int e^{\\left(b^{2} \\mu_{k}^{2} t\\right)} u\\left(0, t\\right)\\,{d t} - 2 \\, b^{2} \\mu_{k}^{2} \\int e^{\\left(b^{2} \\mu_{k}^{2} t\\right)} u\\left(0, t\\right)\\,{d t} - l^{2} \\mu_{k}^{2} \\int e^{\\left(b^{2} \\mu_{k}^{2} t\\right)} \\mathrm{D}_{1}\\left(u\\right)\\left(0, t\\right)\\,{d t} + 2 \\, l \\mu_{k} \\int e^{\\left(b^{2} \\mu_{k}^{2} t\\right)} \\mathrm{D}_{1}\\left(u\\right)\\left(0, t\\right)\\,{d t} \\sin\\left(l \\mu_{k}\\right) + 2 \\, \\cos\\left(l \\mu_{k}\\right) \\int e^{\\left(b^{2} \\mu_{k}^{2} t\\right)} \\mathrm{D}_{1}\\left(u\\right)\\left(0, t\\right)\\,{d t} + \\frac{A l^{2} e^{\\left(b^{2} \\mu_{k}^{2} t\\right)} \\sin\\left(l \\mu_{k}\\right)}{b^{2} \\mu_{k}} + \\frac{2 \\, {\\left(b^{2} \\mu_{k}^{2} t - 1\\right)} A l \\cos\\left(l \\mu_{k}\\right) e^{\\left(b^{2} \\mu_{k}^{2} t\\right)}}{b^{2} \\mu_{k}^{2}} - \\frac{2 \\, {\\left(b^{2} \\mu_{k}^{2} t - 1\\right)} A l e^{\\left(b^{2} \\mu_{k}^{2} t\\right)}}{b^{2} \\mu_{k}^{2}} + \\frac{2 \\, A l \\cos\\left(l \\mu_{k}\\right) e^{\\left(b^{2} \\mu_{k}^{2} t\\right)}}{b^{2} \\mu_{k}^{2}} - \\frac{2 \\, A l e^{\\left(b^{2} \\mu_{k}^{2} t\\right)}}{b^{2} \\mu_{k}^{2}} - 2 \\, \\int e^{\\left(b^{2} \\mu_{k}^{2} t\\right)} \\mathrm{D}_{1}\\left(u\\right)\\left(0, t\\right)\\,{d t}\\right)} e^{\\left(-b^{2} \\mu_{k}^{2} t\\right)}}{l^{\\frac{5}{2}} \\mu_{k}^{3}}$"
      ],
      "text/plain": [
       "<IPython.core.display.Math object>"
      ]
     },
     "metadata": {},
     "output_type": "display_data"
    }
   ],
   "source": [
    "disp(Tk_tilda.subs(f_k == fk.subs(X_k == Xk).subs(f == f_xt)))"
   ]
  },
  {
   "cell_type": "markdown",
   "id": "4954f3aa",
   "metadata": {},
   "source": [
    "Дія п'ята. Визначення сталих"
   ]
  },
  {
   "cell_type": "code",
   "execution_count": 18,
   "id": "a06f6e43",
   "metadata": {},
   "outputs": [
    {
     "data": {
      "text/latex": [
       "$\\displaystyle -\\frac{\\sqrt{2} {\\left(l \\mu_{k} \\cos\\left(l \\mu_{k}\\right) - \\sin\\left(l \\mu_{k}\\right)\\right)} B}{\\sqrt{l} \\mu_{k}^{2}}$"
      ],
      "text/plain": [
       "<IPython.core.display.Math object>"
      ]
     },
     "metadata": {},
     "output_type": "display_data"
    }
   ],
   "source": [
    "psi_1k = integrate(B*x*Xk, x, 0, l)\n",
    "disp(psi_1k)"
   ]
  },
  {
   "cell_type": "code",
   "execution_count": 19,
   "id": "02460369",
   "metadata": {},
   "outputs": [
    {
     "data": {
      "text/latex": [
       "$\\displaystyle \\frac{\\sqrt{2} A \\sin\\left(l \\mu_{k}\\right)}{b^{2} \\sqrt{l} \\mu_{k}^{4}}$"
      ],
      "text/plain": [
       "<IPython.core.display.Math object>"
      ]
     },
     "metadata": {},
     "output_type": "display_data"
    }
   ],
   "source": [
    "Tk_tilda_exact_t0 = Tk_tilda_exact.subs(t == 0)\n",
    "disp(Tk_tilda_exact_t0)"
   ]
  },
  {
   "cell_type": "code",
   "execution_count": 20,
   "id": "b719dfea",
   "metadata": {},
   "outputs": [
    {
     "data": {
      "text/latex": [
       "$\\displaystyle -\\frac{\\sqrt{2} {\\left(l \\mu_{k} \\cos\\left(l \\mu_{k}\\right) - \\sin\\left(l \\mu_{k}\\right)\\right)} B}{\\sqrt{l} \\mu_{k}^{2}} - \\frac{\\sqrt{2} A \\sin\\left(l \\mu_{k}\\right)}{b^{2} \\sqrt{l} \\mu_{k}^{4}}$"
      ],
      "text/plain": [
       "<IPython.core.display.Math object>"
      ]
     },
     "metadata": {},
     "output_type": "display_data"
    }
   ],
   "source": [
    "C_k = psi_1k - Tk_tilda_exact_t0\n",
    "disp(C_k)"
   ]
  },
  {
   "cell_type": "code",
   "execution_count": 38,
   "id": "c64b384a",
   "metadata": {},
   "outputs": [
    {
     "data": {
      "text/latex": [
       "$\\displaystyle \\frac{\\sqrt{2} b^{2} {\\left(\\frac{A e^{\\left(b^{2} \\mu_{k}^{2} t\\right)} \\sin\\left(l \\mu_{k}\\right)}{b^{4} \\mu_{k}^{4}} + \\frac{2 \\, {\\left(b^{2} \\mu_{k}^{2} t - 1\\right)} A \\cos\\left(l \\mu_{k}\\right) e^{\\left(b^{2} \\mu_{k}^{2} t\\right)}}{b^{4} l \\mu_{k}^{5}} - \\frac{2 \\, {\\left(b^{2} \\mu_{k}^{2} t - 1\\right)} A e^{\\left(b^{2} \\mu_{k}^{2} t\\right)}}{b^{4} l \\mu_{k}^{5}} + \\frac{2 \\, A \\cos\\left(l \\mu_{k}\\right) e^{\\left(b^{2} \\mu_{k}^{2} t\\right)}}{b^{4} l \\mu_{k}^{5}} - \\frac{2 \\, A e^{\\left(b^{2} \\mu_{k}^{2} t\\right)}}{b^{4} l \\mu_{k}^{5}}\\right)} e^{\\left(-b^{2} \\mu_{k}^{2} t\\right)}}{\\sqrt{l}} - {\\left(\\frac{\\sqrt{2} {\\left(l \\mu_{k} \\cos\\left(l \\mu_{k}\\right) - \\sin\\left(l \\mu_{k}\\right)\\right)} B}{\\sqrt{l} \\mu_{k}^{2}} + \\frac{\\sqrt{2} A \\sin\\left(l \\mu_{k}\\right)}{b^{2} \\sqrt{l} \\mu_{k}^{4}}\\right)} e^{\\left(-b^{2} \\mu_{k}^{2} t\\right)}$"
      ],
      "text/plain": [
       "<IPython.core.display.Math object>"
      ]
     },
     "metadata": {},
     "output_type": "display_data"
    }
   ],
   "source": [
    "Tk = ((Tk_0.subs(var(\"_C\") == C_k)+Tk_tilda_exact))\n",
    "disp(Tk)"
   ]
  },
  {
   "cell_type": "code",
   "execution_count": 39,
   "id": "99d28ae3",
   "metadata": {},
   "outputs": [
    {
     "data": {
      "text/latex": [
       "$\\displaystyle -\\frac{\\sqrt{2} B \\sqrt{l} \\cos\\left(l \\mu_{k}\\right) e^{\\left(-b^{2} \\mu_{k}^{2} t\\right)}}{\\mu_{k}} + \\frac{\\sqrt{2} B e^{\\left(-b^{2} \\mu_{k}^{2} t\\right)} \\sin\\left(l \\mu_{k}\\right)}{\\sqrt{l} \\mu_{k}^{2}} + \\frac{2 \\, \\sqrt{2} A t \\cos\\left(l \\mu_{k}\\right)}{l^{\\frac{3}{2}} \\mu_{k}^{3}} - \\frac{2 \\, \\sqrt{2} A t}{l^{\\frac{3}{2}} \\mu_{k}^{3}} - \\frac{\\sqrt{2} A e^{\\left(-b^{2} \\mu_{k}^{2} t\\right)} \\sin\\left(l \\mu_{k}\\right)}{b^{2} \\sqrt{l} \\mu_{k}^{4}} + \\frac{\\sqrt{2} A \\sin\\left(l \\mu_{k}\\right)}{b^{2} \\sqrt{l} \\mu_{k}^{4}}$"
      ],
      "text/plain": [
       "<IPython.core.display.Math object>"
      ]
     },
     "metadata": {},
     "output_type": "display_data"
    }
   ],
   "source": [
    "Tk=Tk.expand()\n",
    "disp(Tk)"
   ]
  },
  {
   "cell_type": "code",
   "execution_count": null,
   "id": "7a665df8",
   "metadata": {},
   "outputs": [],
   "source": []
  }
 ],
 "metadata": {
  "kernelspec": {
   "display_name": "SageMath 9.6.beta7",
   "language": "sage",
   "name": "sagemath"
  },
  "language_info": {
   "codemirror_mode": {
    "name": "ipython",
    "version": 3
   },
   "file_extension": ".py",
   "mimetype": "text/x-python",
   "name": "python",
   "nbconvert_exporter": "python",
   "pygments_lexer": "ipython3",
   "version": "3.10.3"
  }
 },
 "nbformat": 4,
 "nbformat_minor": 5
}

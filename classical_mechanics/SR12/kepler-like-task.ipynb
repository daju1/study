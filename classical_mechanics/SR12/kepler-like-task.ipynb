{
 "cells": [
  {
   "attachments": {
    "image.png": {
     "image/png": "[encoded data removed]"
    }
   },
   "cell_type": "markdown",
   "id": "e28ca303",
   "metadata": {},
   "source": [
    "![image.png](attachment:image.png)"
   ]
  },
  {
   "cell_type": "markdown",
   "id": "66226928",
   "metadata": {},
   "source": [
    "$E = \\frac{m \\dot{r}^2}{2} + \\frac{m r^2 \\dot{\\varphi}^2}{2} + U(r) = 0$"
   ]
  },
  {
   "cell_type": "markdown",
   "id": "4b71d1a8",
   "metadata": {},
   "source": [
    "Обобщённый импульс по $\\varphi$ он же момент количества движения\n",
    "\n",
    "$P_{\\varphi} = M = m r^2 \\dot{\\varphi}$\n",
    "\n",
    "откуда\n",
    "\n",
    "$\\dot{\\varphi} =\\frac{M}{ m r^2} $\n"
   ]
  },
  {
   "cell_type": "markdown",
   "id": "23d82c82",
   "metadata": {},
   "source": [
    "$U_{eff}(r) = \\frac{M^2}{2 m r^2} + U(r)$"
   ]
  },
  {
   "cell_type": "markdown",
   "id": "1c5aa16b",
   "metadata": {},
   "source": [
    "$E = \\frac{m \\dot{r}^2}{2} + \\frac{M^2}{2 m r^2} + U(r) = 0$"
   ]
  },
  {
   "cell_type": "code",
   "execution_count": 1,
   "id": "b9bda8e5",
   "metadata": {},
   "outputs": [],
   "source": [
    "from IPython.display import display, Math, Latex\n",
    "\n",
    "def disp(ex):\n",
    "    display(Math(latex(ex)))\n",
    "\n",
    "def displ(tex):\n",
    "    display(Math(tex))"
   ]
  },
  {
   "cell_type": "code",
   "execution_count": 72,
   "id": "4f1f027c",
   "metadata": {},
   "outputs": [
    {
     "data": {
      "text/latex": [
       "$\\displaystyle U_{{\\rm eff}}\\left(r\\right)$"
      ],
      "text/plain": [
       "<IPython.core.display.Math object>"
      ]
     },
     "metadata": {},
     "output_type": "display_data"
    },
    {
     "data": {
      "text/latex": [
       "$\\displaystyle \\frac{M^{2}}{2 \\, m r\\left(t\\right)^{2}} - \\frac{1}{r\\left(t\\right)} - \\frac{1}{r\\left(t\\right)^{2}}$"
      ],
      "text/plain": [
       "<IPython.core.display.Math object>"
      ]
     },
     "metadata": {},
     "output_type": "display_data"
    }
   ],
   "source": [
    "t = var(\"t\")\n",
    "R = var(\"r\")\n",
    "r = function(\"r\")(t)\n",
    "M = var(\"M\")\n",
    "E = var(\"E\")\n",
    "\n",
    "m = var(\"m\")\n",
    "\n",
    "U = -1/r - 1/r^2\n",
    "\n",
    "u_eff = function(\"U_eff\")(R)\n",
    "disp(u_eff)\n",
    "\n",
    "U_eff = M^2/(2*m*r^2) + U\n",
    "disp(U_eff)"
   ]
  },
  {
   "cell_type": "code",
   "execution_count": 73,
   "id": "fd6b9a88",
   "metadata": {},
   "outputs": [
    {
     "data": {
      "text/latex": [
       "$\\displaystyle E = m \\frac{\\partial}{\\partial t}r\\left(t\\right)^{2} + \\frac{M^{2}}{2 \\, m r\\left(t\\right)^{2}} - \\frac{1}{r\\left(t\\right)} - \\frac{1}{r\\left(t\\right)^{2}}$"
      ],
      "text/plain": [
       "<IPython.core.display.Math object>"
      ]
     },
     "metadata": {},
     "output_type": "display_data"
    }
   ],
   "source": [
    "eq_E = E == m * r.diff(t)^2 + U_eff\n",
    "disp(eq_E)"
   ]
  },
  {
   "cell_type": "code",
   "execution_count": 74,
   "id": "e944b461",
   "metadata": {},
   "outputs": [
    {
     "data": {
      "text/latex": [
       "$\\displaystyle E = m \\frac{\\partial}{\\partial t}r\\left(t\\right)^{2} + U_{{\\rm eff}}\\left(r\\right)$"
      ],
      "text/plain": [
       "<IPython.core.display.Math object>"
      ]
     },
     "metadata": {},
     "output_type": "display_data"
    }
   ],
   "source": [
    "eq_Eu = E == m * r.diff(t)^2 + u_eff\n",
    "disp(eq_Eu)"
   ]
  },
  {
   "cell_type": "code",
   "execution_count": 75,
   "id": "0066d94b",
   "metadata": {},
   "outputs": [
    {
     "data": {
      "text/latex": [
       "$\\displaystyle \\left[\\frac{\\partial}{\\partial t}r\\left(t\\right) = -\\sqrt{\\frac{E}{m} - \\frac{U_{{\\rm eff}}\\left(r\\right)}{m}}, \\frac{\\partial}{\\partial t}r\\left(t\\right) = \\sqrt{\\frac{E}{m} - \\frac{U_{{\\rm eff}}\\left(r\\right)}{m}}\\right]$"
      ],
      "text/plain": [
       "<IPython.core.display.Math object>"
      ]
     },
     "metadata": {},
     "output_type": "display_data"
    }
   ],
   "source": [
    "sol_ru_diff_t = solve(eq_Eu, r.diff(t))\n",
    "disp(sol_ru_diff_t)"
   ]
  },
  {
   "cell_type": "code",
   "execution_count": 76,
   "id": "1556fa26",
   "metadata": {},
   "outputs": [
    {
     "data": {
      "text/latex": [
       "$\\displaystyle \\left[\\frac{\\partial}{\\partial t}r\\left(t\\right) = -\\frac{\\sqrt{E m r\\left(t\\right)^{2} - \\frac{1}{2} \\, M^{2} + m r\\left(t\\right) + m}}{m r\\left(t\\right)}, \\frac{\\partial}{\\partial t}r\\left(t\\right) = \\frac{\\sqrt{E m r\\left(t\\right)^{2} - \\frac{1}{2} \\, M^{2} + m r\\left(t\\right) + m}}{m r\\left(t\\right)}\\right]$"
      ],
      "text/plain": [
       "<IPython.core.display.Math object>"
      ]
     },
     "metadata": {},
     "output_type": "display_data"
    }
   ],
   "source": [
    "sol_r_diff_t = solve(eq_E, r.diff(t))\n",
    "disp(sol_r_diff_t)"
   ]
  },
  {
   "cell_type": "code",
   "execution_count": 77,
   "id": "f9edb394",
   "metadata": {},
   "outputs": [
    {
     "data": {
      "text/latex": [
       "$\\displaystyle \\frac{dr}{dt} = \\sqrt{\\frac{E}{m} - \\frac{U_{{\\rm eff}}\\left(r\\right)}{m}}$"
      ],
      "text/plain": [
       "<IPython.core.display.Math object>"
      ]
     },
     "metadata": {},
     "output_type": "display_data"
    }
   ],
   "source": [
    "dru_dt = sol_ru_diff_t[1].rhs()\n",
    "displ(\"\\\\frac{dr}{dt} =\" + latex(dru_dt))"
   ]
  },
  {
   "cell_type": "markdown",
   "id": "3b890e0b",
   "metadata": {},
   "source": [
    "условие $E > U_{eff}(r)$ является необходимым для получения действительных решений задачи поиска максимального и минимального радиуса"
   ]
  },
  {
   "cell_type": "code",
   "execution_count": 84,
   "id": "a6b016b3",
   "metadata": {},
   "outputs": [
    {
     "data": {
      "text/latex": [
       "$\\displaystyle \\left[r = -\\frac{m + \\sqrt{2 \\, E M^{2} m - {\\left(4 \\, E - 1\\right)} m^{2}}}{2 \\, E m}, r = -\\frac{m - \\sqrt{2 \\, E M^{2} m - {\\left(4 \\, E - 1\\right)} m^{2}}}{2 \\, E m}\\right]$"
      ],
      "text/plain": [
       "<IPython.core.display.Math object>"
      ]
     },
     "metadata": {},
     "output_type": "display_data"
    }
   ],
   "source": [
    "sol_real = solve(E - U_eff.subs(r == R) == 0, R)\n",
    "disp(sol_real)"
   ]
  },
  {
   "cell_type": "code",
   "execution_count": 56,
   "id": "2ec7e9b1",
   "metadata": {},
   "outputs": [
    {
     "data": {
      "text/latex": [
       "$\\displaystyle \\frac{dr}{dt} = \\frac{\\sqrt{E m r\\left(t\\right)^{2} - \\frac{1}{2} \\, M^{2} + m r\\left(t\\right) + m}}{m r\\left(t\\right)}$"
      ],
      "text/plain": [
       "<IPython.core.display.Math object>"
      ]
     },
     "metadata": {},
     "output_type": "display_data"
    }
   ],
   "source": [
    "dr_dt = sol_r_diff_t[1].rhs()\n",
    "displ(\"\\\\frac{dr}{dt} =\" + latex(dr_dt))"
   ]
  },
  {
   "cell_type": "code",
   "execution_count": 57,
   "id": "306772a5",
   "metadata": {},
   "outputs": [
    {
     "data": {
      "text/latex": [
       "$\\displaystyle dt = \\frac{m r\\left(t\\right)}{\\sqrt{E m r\\left(t\\right)^{2} - \\frac{1}{2} \\, M^{2} + m r\\left(t\\right) + m}} \\, dr$"
      ],
      "text/plain": [
       "<IPython.core.display.Math object>"
      ]
     },
     "metadata": {},
     "output_type": "display_data"
    }
   ],
   "source": [
    "(dt_dr) = (1/dr_dt)\n",
    "displ(\"dt = \" + latex(dt_dr) + \"\\\\, dr\")"
   ]
  },
  {
   "cell_type": "markdown",
   "id": "337e0985",
   "metadata": {},
   "source": [
    "поскольку\n",
    "\n",
    "$\\dot{\\varphi} =\\frac{M}{ m r^2} $\n",
    "\n",
    "\n",
    "$d{\\varphi} =\\frac{M}{ m r^2}\\,dt$"
   ]
  },
  {
   "cell_type": "code",
   "execution_count": 58,
   "id": "612f36c4",
   "metadata": {},
   "outputs": [
    {
     "data": {
      "text/latex": [
       "$\\displaystyle d{\\varphi} = \\frac{M}{\\sqrt{E m r\\left(t\\right)^{2} - \\frac{1}{2} \\, M^{2} + m r\\left(t\\right) + m} r\\left(t\\right)} \\, dr$"
      ],
      "text/plain": [
       "<IPython.core.display.Math object>"
      ]
     },
     "metadata": {},
     "output_type": "display_data"
    }
   ],
   "source": [
    "dphi_dr = M/(m*r^2) * dt_dr\n",
    "displ(\"d{\\\\varphi} = \" +latex(dphi_dr) + \"\\\\, dr\")"
   ]
  },
  {
   "cell_type": "markdown",
   "id": "7c64458e",
   "metadata": {},
   "source": [
    "точки перигея и эпогея определяются \n",
    "\n",
    "$\\frac{dr}{d{\\varphi}} = 0$"
   ]
  },
  {
   "cell_type": "code",
   "execution_count": 59,
   "id": "da32cc0f",
   "metadata": {},
   "outputs": [
    {
     "data": {
      "text/latex": [
       "$\\displaystyle \\frac{dr}{d{\\varphi}} = \\frac{\\sqrt{E m r\\left(t\\right)^{2} - \\frac{1}{2} \\, M^{2} + m r\\left(t\\right) + m} r\\left(t\\right)}{M}$"
      ],
      "text/plain": [
       "<IPython.core.display.Math object>"
      ]
     },
     "metadata": {},
     "output_type": "display_data"
    }
   ],
   "source": [
    "dr_dphi = 1/dphi_dr\n",
    "displ(\"\\\\frac{dr}{d{\\\\varphi}} =\" + latex(dr_dphi))"
   ]
  },
  {
   "cell_type": "code",
   "execution_count": 60,
   "id": "07e09b6c",
   "metadata": {},
   "outputs": [
    {
     "data": {
      "text/latex": [
       "$\\displaystyle \\frac{dr}{d{\\varphi}} = \\frac{\\sqrt{E m r^{2} - \\frac{1}{2} \\, M^{2} + m r + m} r}{M}$"
      ],
      "text/plain": [
       "<IPython.core.display.Math object>"
      ]
     },
     "metadata": {},
     "output_type": "display_data"
    }
   ],
   "source": [
    "dR_dphi = dr_dphi.subs(r == R)\n",
    "displ(\"\\\\frac{dr}{d{\\\\varphi}} =\" + latex(dR_dphi))"
   ]
  },
  {
   "cell_type": "code",
   "execution_count": 61,
   "id": "a90e097f",
   "metadata": {},
   "outputs": [
    {
     "data": {
      "text/latex": [
       "$\\displaystyle \\left[r = -\\frac{m + \\sqrt{2 \\, E M^{2} m - {\\left(4 \\, E - 1\\right)} m^{2}}}{2 \\, E m}, r = -\\frac{m - \\sqrt{2 \\, E M^{2} m - {\\left(4 \\, E - 1\\right)} m^{2}}}{2 \\, E m}, r = 0\\right]$"
      ],
      "text/plain": [
       "<IPython.core.display.Math object>"
      ]
     },
     "metadata": {},
     "output_type": "display_data"
    }
   ],
   "source": [
    "sol_R_min_max = solve(dR_dphi == 0, R)\n",
    "disp(sol_R_min_max)"
   ]
  },
  {
   "cell_type": "code",
   "execution_count": 64,
   "id": "a66a9df1",
   "metadata": {},
   "outputs": [],
   "source": [
    "values = [\n",
    "    E == -1,\n",
    "    M == 1,\n",
    "    m == 1\n",
    "]"
   ]
  },
  {
   "cell_type": "code",
   "execution_count": 65,
   "id": "151ecaf8",
   "metadata": {},
   "outputs": [
    {
     "data": {
      "text/latex": [
       "$\\displaystyle r = \\frac{1}{2} \\, \\sqrt{3} + \\frac{1}{2}$"
      ],
      "text/plain": [
       "<IPython.core.display.Math object>"
      ]
     },
     "metadata": {},
     "output_type": "display_data"
    },
    {
     "data": {
      "text/latex": [
       "$\\displaystyle 1.36602540378444$"
      ],
      "text/plain": [
       "<IPython.core.display.Math object>"
      ]
     },
     "metadata": {},
     "output_type": "display_data"
    },
    {
     "data": {
      "text/latex": [
       "$\\displaystyle r = -\\frac{1}{2} \\, \\sqrt{3} + \\frac{1}{2}$"
      ],
      "text/plain": [
       "<IPython.core.display.Math object>"
      ]
     },
     "metadata": {},
     "output_type": "display_data"
    },
    {
     "data": {
      "text/latex": [
       "$\\displaystyle -0.366025403784439$"
      ],
      "text/plain": [
       "<IPython.core.display.Math object>"
      ]
     },
     "metadata": {},
     "output_type": "display_data"
    },
    {
     "data": {
      "text/latex": [
       "$\\displaystyle r = 0$"
      ],
      "text/plain": [
       "<IPython.core.display.Math object>"
      ]
     },
     "metadata": {},
     "output_type": "display_data"
    },
    {
     "data": {
      "text/latex": [
       "$\\displaystyle 0.000000000000000$"
      ],
      "text/plain": [
       "<IPython.core.display.Math object>"
      ]
     },
     "metadata": {},
     "output_type": "display_data"
    }
   ],
   "source": [
    "for sol_i_R_min_max in sol_R_min_max:\n",
    "    disp(sol_i_R_min_max.subs(values))\n",
    "    disp(sol_i_R_min_max.subs(values).rhs().n())"
   ]
  },
  {
   "cell_type": "code",
   "execution_count": null,
   "id": "0371648e",
   "metadata": {},
   "outputs": [],
   "source": []
  }
 ],
 "metadata": {
  "kernelspec": {
   "display_name": "SageMath 9.6.beta7",
   "language": "sage",
   "name": "sagemath"
  },
  "language_info": {
   "codemirror_mode": {
    "name": "ipython",
    "version": 3
   },
   "file_extension": ".py",
   "mimetype": "text/x-python",
   "name": "python",
   "nbconvert_exporter": "python",
   "pygments_lexer": "ipython3",
   "version": "3.10.3"
  }
 },
 "nbformat": 4,
 "nbformat_minor": 5
}

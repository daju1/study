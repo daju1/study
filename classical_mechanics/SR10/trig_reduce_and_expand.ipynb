{
 "cells": [
  {
   "cell_type": "code",
   "execution_count": 1,
   "id": "7c8043a6",
   "metadata": {},
   "outputs": [],
   "source": [
    "alpha, beta = var(\"alpha, beta\")"
   ]
  },
  {
   "cell_type": "code",
   "execution_count": 2,
   "id": "e650a4cb",
   "metadata": {},
   "outputs": [
    {
     "data": {
      "text/plain": [
       "cos(alpha + beta)"
      ]
     },
     "execution_count": 2,
     "metadata": {},
     "output_type": "execute_result"
    }
   ],
   "source": [
    "(cos(alpha)*cos(beta) - sin(alpha)*sin(beta)).trig_reduce()"
   ]
  },
  {
   "cell_type": "code",
   "execution_count": 3,
   "id": "b5cf4594",
   "metadata": {},
   "outputs": [
    {
     "data": {
      "text/plain": [
       "cos(alpha)*cos(beta) - sin(alpha)*sin(beta)"
      ]
     },
     "execution_count": 3,
     "metadata": {},
     "output_type": "execute_result"
    }
   ],
   "source": [
    "cos(alpha + beta).trig_expand()"
   ]
  },
  {
   "cell_type": "code",
   "execution_count": 4,
   "id": "a068ad45",
   "metadata": {},
   "outputs": [
    {
     "data": {
      "text/plain": [
       "cos(alpha)*cos(beta) + sin(alpha)*sin(beta)"
      ]
     },
     "execution_count": 4,
     "metadata": {},
     "output_type": "execute_result"
    }
   ],
   "source": [
    "cos(alpha - beta).trig_simplify()"
   ]
  },
  {
   "cell_type": "code",
   "execution_count": 5,
   "id": "f6703866",
   "metadata": {},
   "outputs": [
    {
     "data": {
      "text/plain": [
       "2*cos(alpha)*cos(beta)"
      ]
     },
     "execution_count": 5,
     "metadata": {},
     "output_type": "execute_result"
    }
   ],
   "source": [
    "(cos(alpha + beta) + cos(alpha - beta)).trig_simplify()"
   ]
  },
  {
   "cell_type": "code",
   "execution_count": 6,
   "id": "a5530fad",
   "metadata": {},
   "outputs": [
    {
     "data": {
      "text/plain": [
       "2*cos(alpha)*cos(beta)"
      ]
     },
     "execution_count": 6,
     "metadata": {},
     "output_type": "execute_result"
    }
   ],
   "source": [
    "(cos(alpha + beta) + cos(alpha - beta)).trig_expand()"
   ]
  },
  {
   "cell_type": "code",
   "execution_count": 7,
   "id": "56d4c945",
   "metadata": {},
   "outputs": [
    {
     "data": {
      "text/plain": [
       "cos(alpha + beta) + cos(-alpha + beta)"
      ]
     },
     "execution_count": 7,
     "metadata": {},
     "output_type": "execute_result"
    }
   ],
   "source": [
    "(2*cos(alpha)*cos(beta)).trig_reduce()"
   ]
  },
  {
   "cell_type": "code",
   "execution_count": 8,
   "id": "e80b74d5",
   "metadata": {},
   "outputs": [
    {
     "data": {
      "text/plain": [
       "cos(beta)*sin(alpha) + cos(alpha)*sin(beta)"
      ]
     },
     "execution_count": 8,
     "metadata": {},
     "output_type": "execute_result"
    }
   ],
   "source": [
    "sin(alpha + beta).trig_simplify()"
   ]
  },
  {
   "cell_type": "code",
   "execution_count": null,
   "id": "d0f8c251",
   "metadata": {},
   "outputs": [],
   "source": []
  }
 ],
 "metadata": {
  "kernelspec": {
   "display_name": "SageMath 9.6.beta7",
   "language": "sage",
   "name": "sagemath"
  },
  "language_info": {
   "codemirror_mode": {
    "name": "ipython",
    "version": 3
   },
   "file_extension": ".py",
   "mimetype": "text/x-python",
   "name": "python",
   "nbconvert_exporter": "python",
   "pygments_lexer": "ipython3",
   "version": "3.10.3"
  }
 },
 "nbformat": 4,
 "nbformat_minor": 5
}

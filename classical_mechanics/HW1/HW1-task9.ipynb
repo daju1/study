{
 "cells": [
  {
   "cell_type": "code",
   "execution_count": 28,
   "id": "c4c0f744",
   "metadata": {},
   "outputs": [],
   "source": [
    "from IPython.display import display, Math, Latex\n",
    "\n",
    "def disp(ex):\n",
    "    display(Math(latex(ex)))\n",
    "\n",
    "def displ(tex):\n",
    "    display(Math(tex))"
   ]
  },
  {
   "cell_type": "markdown",
   "id": "022f613a",
   "metadata": {},
   "source": [
    "9. Рівняння Ейлера-Лагранжа має вигляд \n",
    "\n",
    "$$\\left(m+\\alpha x\\right)\\, \\ddot{x}+\\alpha\\,\\dot{x}^2+3\\,\\beta\\,x^2 = 0$$\n",
    "\n",
    "Запишіть функцію Лагранжа системи. Чи однозначно ви змогли її відновити?\n",
    "Отримайте якомога ширший клас функцій, що будуть давати це рівняння Ейлера-\n",
    "Лагранжа."
   ]
  },
  {
   "cell_type": "code",
   "execution_count": 29,
   "id": "fdd51378",
   "metadata": {},
   "outputs": [],
   "source": [
    "# Объявление переменных и функций\n",
    "m,t = var(\"m,t\")\n",
    "\n",
    "X = var(\"x\")\n",
    "x = function(\"x\")(t)\n",
    "V = var(\"v\")\n",
    "\n",
    "alpha = var(\"alpha\")\n",
    "beta = var(\"beta\")"
   ]
  },
  {
   "cell_type": "markdown",
   "id": "66d61245",
   "metadata": {},
   "source": [
    "уравнения Эйлера-Лагранжа\n",
    "\n",
    "$\\frac{d}{dt}\\frac{\\partial L}{\\partial \\dot{x}} = \\frac{\\partial L}{\\partial {x}}$"
   ]
  },
  {
   "cell_type": "markdown",
   "id": "90740178",
   "metadata": {},
   "source": [
    "$L = \\int\\limits_{t_0}^{t}\\left(\\int\\limits_{\\dot{x}_0}^{\\dot{x}}\\frac{d}{dt}\\frac{\\partial L}{\\partial \\dot{x}}\\,d\\dot{x}+\\varphi(x) \\right)dt = \\int\\limits_{x_0}^{x}\\frac{\\partial L}{\\partial {x}} dx+\\psi(\\dot{x})$"
   ]
  },
  {
   "cell_type": "markdown",
   "id": "ba21b1bf",
   "metadata": {},
   "source": [
    "$\\left(m+\\alpha x\\right)\\, \\ddot{x}+\\alpha\\,\\dot{x}^2+3\\,\\beta\\,x^2 = 0$"
   ]
  },
  {
   "cell_type": "markdown",
   "id": "bfe27f1e",
   "metadata": {},
   "source": [
    "$m\\ddot{x}+\\alpha x\\,\\ddot{x} +\\alpha\\,\\dot{x}^2+3\\,\\beta\\,x^2 = 0$"
   ]
  },
  {
   "cell_type": "code",
   "execution_count": 30,
   "id": "3be0a414",
   "metadata": {},
   "outputs": [
    {
     "data": {
      "text/latex": [
       "$\\displaystyle 3 \\, \\beta x\\left(t\\right)^{2} + \\alpha \\frac{\\partial}{\\partial t}x\\left(t\\right)^{2} + \\alpha x\\left(t\\right) \\frac{\\partial^{2}}{(\\partial t)^{2}}x\\left(t\\right) + m \\frac{\\partial^{2}}{(\\partial t)^{2}}x\\left(t\\right)$"
      ],
      "text/plain": [
       "<IPython.core.display.Math object>"
      ]
     },
     "metadata": {},
     "output_type": "display_data"
    }
   ],
   "source": [
    "# все слагаемые уравнения Эйлера-Лагранжа\n",
    "eqEulerLagrange = m * x.diff(t,2) + alpha * x * x.diff(t,2) + alpha*x.diff(t)^2 + 3 * beta*x^2\n",
    "disp(eqEulerLagrange)"
   ]
  },
  {
   "cell_type": "code",
   "execution_count": 31,
   "id": "9e46716e",
   "metadata": {},
   "outputs": [
    {
     "data": {
      "text/latex": [
       "$\\displaystyle \\alpha \\frac{\\partial}{\\partial t}x\\left(t\\right)^{2} + \\alpha x\\left(t\\right) \\frac{\\partial^{2}}{(\\partial t)^{2}}x\\left(t\\right) + m \\frac{\\partial^{2}}{(\\partial t)^{2}}x\\left(t\\right)$"
      ],
      "text/plain": [
       "<IPython.core.display.Math object>"
      ]
     },
     "metadata": {},
     "output_type": "display_data"
    }
   ],
   "source": [
    "# возьмем слагаемые уравнения Эйлера-Лагранжа, зависящие от скорости\n",
    "eqEulerLagrange_v = m * x.diff(t,2) + alpha * x * x.diff(t,2) + alpha*x.diff(t)^2\n",
    "disp(eqEulerLagrange_v)"
   ]
  },
  {
   "cell_type": "markdown",
   "id": "71587bf9",
   "metadata": {},
   "source": [
    "$L = \\int\\limits_{\\dot{x}_0}^{\\dot{x}}\n",
    "\\left(\\int\\limits_{t_0}^{t}\\frac{d}{dt}\\frac{\\partial L}{\\partial \\dot{x}}dt\\right)\\,d\\dot{x}+\\varphi(x)$"
   ]
  },
  {
   "cell_type": "code",
   "execution_count": 32,
   "id": "ca5a19ce",
   "metadata": {},
   "outputs": [
    {
     "data": {
      "text/latex": [
       "$\\displaystyle {\\left(\\alpha x\\left(t\\right) + m\\right)} \\frac{\\partial}{\\partial t}x\\left(t\\right)$"
      ],
      "text/plain": [
       "<IPython.core.display.Math object>"
      ]
     },
     "metadata": {},
     "output_type": "display_data"
    }
   ],
   "source": [
    "# интегрируем по времени все слагаемые уравнения Эйлера-Лагранжа, зависящие от скорости\n",
    "eqEulerLagrange_v_integrate_t = eqEulerLagrange_v.integrate(t,algorithm=\"fricas\")\n",
    "disp(eqEulerLagrange_v_integrate_t)"
   ]
  },
  {
   "cell_type": "code",
   "execution_count": 33,
   "id": "573367d8",
   "metadata": {},
   "outputs": [
    {
     "data": {
      "text/latex": [
       "$\\displaystyle \\alpha \\frac{\\partial}{\\partial t}x\\left(t\\right)^{2} + {\\left(\\alpha x\\left(t\\right) + m\\right)} \\frac{\\partial^{2}}{(\\partial t)^{2}}x\\left(t\\right)$"
      ],
      "text/plain": [
       "<IPython.core.display.Math object>"
      ]
     },
     "metadata": {},
     "output_type": "display_data"
    }
   ],
   "source": [
    "# проверка дифференцированием интегрирования по времени\n",
    "# всех слагаемых уравнения Эйлера-Лагранжа, зависящих от скорости\n",
    "disp(eqEulerLagrange_v_integrate_t.diff(t))"
   ]
  },
  {
   "cell_type": "code",
   "execution_count": 34,
   "id": "5895c80c",
   "metadata": {},
   "outputs": [
    {
     "data": {
      "text/latex": [
       "$\\displaystyle {\\left(\\alpha x\\left(t\\right) + m\\right)} v$"
      ],
      "text/plain": [
       "<IPython.core.display.Math object>"
      ]
     },
     "metadata": {},
     "output_type": "display_data"
    }
   ],
   "source": [
    "# таким образом получаем обобщённый импульс\n",
    "disp(eqEulerLagrange_v_integrate_t.subs(x.diff(t) == V))"
   ]
  },
  {
   "cell_type": "code",
   "execution_count": 35,
   "id": "14163285",
   "metadata": {},
   "outputs": [
    {
     "data": {
      "text/latex": [
       "$\\displaystyle \\frac{1}{2} \\, \\alpha v^{2} x\\left(t\\right) + \\frac{1}{2} \\, m v^{2}$"
      ],
      "text/plain": [
       "<IPython.core.display.Math object>"
      ]
     },
     "metadata": {},
     "output_type": "display_data"
    }
   ],
   "source": [
    "# теперь интегрируем полученный обобщённый импульс по скорости\n",
    "eqEulerLagrange_v_integrate_t_v = \\\n",
    "eqEulerLagrange_v_integrate_t.subs(x.diff(t) == V).integrate(v,algorithm=\"fricas\")\n",
    "\n",
    "# таким образом получаем кинетическую энергию\n",
    "disp(eqEulerLagrange_v_integrate_t_v)"
   ]
  },
  {
   "cell_type": "code",
   "execution_count": 36,
   "id": "505dcbac",
   "metadata": {},
   "outputs": [
    {
     "data": {
      "text/latex": [
       "$\\displaystyle -3 \\, \\beta x\\left(t\\right)^{2}$"
      ],
      "text/plain": [
       "<IPython.core.display.Math object>"
      ]
     },
     "metadata": {},
     "output_type": "display_data"
    }
   ],
   "source": [
    "# возьмем оставшиеся слагаемые уравнения Эйлера-Лагранжа, зависящие от координаты\n",
    "eqEulerLagrange_x = -eqEulerLagrange + eqEulerLagrange_v\n",
    "disp(eqEulerLagrange_x)"
   ]
  },
  {
   "cell_type": "markdown",
   "id": "b825bbdd",
   "metadata": {},
   "source": [
    "$L = \\int\\limits_{x_0}^{x}\\frac{\\partial L}{\\partial {x}} dx+\\psi(\\dot{x})$"
   ]
  },
  {
   "cell_type": "code",
   "execution_count": 37,
   "id": "a10bf989",
   "metadata": {},
   "outputs": [
    {
     "data": {
      "text/latex": [
       "$\\displaystyle -\\beta x^{3}$"
      ],
      "text/plain": [
       "<IPython.core.display.Math object>"
      ]
     },
     "metadata": {},
     "output_type": "display_data"
    }
   ],
   "source": [
    "# интегрируем по координате оставшиеся \n",
    "# слагаемые уравнения Эйлера-Лагранжа,\n",
    "# зависящие от координаты\n",
    "eqEulerLagrange_x_integrate_x = eqEulerLagrange_x.subs(x == X).integrate(X)\n",
    "disp(eqEulerLagrange_x_integrate_x)"
   ]
  },
  {
   "cell_type": "code",
   "execution_count": 38,
   "id": "9cb5bda0",
   "metadata": {},
   "outputs": [],
   "source": [
    "# Объявление переменных и функций\n",
    "v = function(\"v\")(t)\n",
    "phi = function(\"phi\")(X,V)\n",
    "phi = function(\"phi\")(X)\n",
    "psi = function(\"psi\")(X,V)"
   ]
  },
  {
   "cell_type": "code",
   "execution_count": 39,
   "id": "eb0e2cbc",
   "metadata": {},
   "outputs": [
    {
     "data": {
      "text/latex": [
       "$\\displaystyle -\\beta x^{3} + \\frac{1}{2} \\, \\alpha v^{2} x\\left(t\\right) + \\frac{1}{2} \\, m v^{2}$"
      ],
      "text/plain": [
       "<IPython.core.display.Math object>"
      ]
     },
     "metadata": {},
     "output_type": "display_data"
    }
   ],
   "source": [
    "# тестируем следующий вид лагранжиана\n",
    "# состоящий из полученной\n",
    "# кинетической энергии и полученной\n",
    "# потенциальной функции\n",
    "\n",
    "L_test = eqEulerLagrange_v_integrate_t_v \\\n",
    "       + eqEulerLagrange_x_integrate_x\n",
    "disp(L_test)"
   ]
  },
  {
   "cell_type": "code",
   "execution_count": 40,
   "id": "cb19ae33",
   "metadata": {},
   "outputs": [
    {
     "data": {
      "text/latex": [
       "$\\displaystyle -\\beta x^{3} + \\frac{1}{2} \\, \\alpha v^{2} x\\left(t\\right) + \\frac{1}{2} \\, m v^{2} + \\phi\\left(x\\right)$"
      ],
      "text/plain": [
       "<IPython.core.display.Math object>"
      ]
     },
     "metadata": {},
     "output_type": "display_data"
    }
   ],
   "source": [
    "# тестируем следующий вид лагранжиана\n",
    "# состоящий из полученной\n",
    "# кинетической энергии и неизвестной\n",
    "# пока потенциальной функцией phi\n",
    "# зависящей от координаты\n",
    "\n",
    "L_test_phi = eqEulerLagrange_v_integrate_t_v + eqEulerLagrange_x_integrate_x + phi\n",
    "disp(L_test_phi)"
   ]
  },
  {
   "cell_type": "code",
   "execution_count": 41,
   "id": "3b05fe85",
   "metadata": {},
   "outputs": [
    {
     "data": {
      "text/latex": [
       "$\\displaystyle -\\beta x^{3} + \\frac{1}{2} \\, \\alpha v^{2} x\\left(t\\right) + \\frac{1}{2} \\, m v^{2} + \\psi\\left(x, v\\right)$"
      ],
      "text/plain": [
       "<IPython.core.display.Math object>"
      ]
     },
     "metadata": {},
     "output_type": "display_data"
    }
   ],
   "source": [
    "# также тестируем следующий вид лагранжиана\n",
    "# состоящий из полученной\n",
    "# потенциальной функции и неизвестной\n",
    "# пока функции psi\n",
    "# зависящей от координаты и скорости\n",
    "\n",
    "L_test_psi = eqEulerLagrange_v_integrate_t_v + eqEulerLagrange_x_integrate_x + psi\n",
    "disp(L_test_psi)"
   ]
  },
  {
   "cell_type": "code",
   "execution_count": 42,
   "id": "77504b60",
   "metadata": {},
   "outputs": [],
   "source": [
    "def EulerLagrengeEquation(L):\n",
    "    displ(\"L = \" + latex(L))\n",
    "\n",
    "    # в Лагранжиане производим замену производных обобщенных координат на v\n",
    "    # Найдем обобщенные импульсы\n",
    "    P1 = L.subs(x.diff(t) == V).diff(V)\n",
    "    displ(\"L = \" + latex(L.subs(x.diff(t) == V)))\n",
    "    displ(\"P = \" + latex(L.subs(x.diff(t) == V).diff(V)))\n",
    "    displ(\"P = \" + latex(P1))\n",
    "\n",
    "    # Найдем обобщенные силы\n",
    "    F1 = L.subs(x == X).diff(X).subs(x.diff(t) == V)\n",
    "    displ(\"L = \" + latex(L.subs(x == X)))\n",
    "    displ(\"F = \" + latex(L.subs(x == X).diff(X)))\n",
    "    displ(\"F = \" + latex(F1))\n",
    "    \n",
    "    P_diff_t = P1.subs(V == x.diff(t)) \\\n",
    "                 .subs(X == x) \\\n",
    "                 .diff(t) \\\n",
    "                 .subs(x.diff(t) == V) \\\n",
    "                 .subs(x == X)\n",
    "\n",
    "    displ(\"\\\\frac{d}{dt}P = \" + latex(P_diff_t))\n",
    "\n",
    "    # Запишем уравнения Эйлера-Лагранжа\n",
    "    de1 = P_diff_t - F1\n",
    "    disp(de1.expand())\n",
    "    \n",
    "    return de1"
   ]
  },
  {
   "cell_type": "code",
   "execution_count": 43,
   "id": "cebe671b",
   "metadata": {},
   "outputs": [
    {
     "data": {
      "text/latex": [
       "$\\displaystyle L = -\\beta x^{3} + \\frac{1}{2} \\, \\alpha v^{2} x\\left(t\\right) + \\frac{1}{2} \\, m v^{2}$"
      ],
      "text/plain": [
       "<IPython.core.display.Math object>"
      ]
     },
     "metadata": {},
     "output_type": "display_data"
    },
    {
     "data": {
      "text/latex": [
       "$\\displaystyle L = -\\beta x^{3} + \\frac{1}{2} \\, \\alpha v^{2} x\\left(t\\right) + \\frac{1}{2} \\, m v^{2}$"
      ],
      "text/plain": [
       "<IPython.core.display.Math object>"
      ]
     },
     "metadata": {},
     "output_type": "display_data"
    },
    {
     "data": {
      "text/latex": [
       "$\\displaystyle P = \\alpha v x\\left(t\\right) + m v$"
      ],
      "text/plain": [
       "<IPython.core.display.Math object>"
      ]
     },
     "metadata": {},
     "output_type": "display_data"
    },
    {
     "data": {
      "text/latex": [
       "$\\displaystyle P = \\alpha v x\\left(t\\right) + m v$"
      ],
      "text/plain": [
       "<IPython.core.display.Math object>"
      ]
     },
     "metadata": {},
     "output_type": "display_data"
    },
    {
     "data": {
      "text/latex": [
       "$\\displaystyle L = \\frac{1}{2} \\, \\alpha v^{2} x - \\beta x^{3} + \\frac{1}{2} \\, m v^{2}$"
      ],
      "text/plain": [
       "<IPython.core.display.Math object>"
      ]
     },
     "metadata": {},
     "output_type": "display_data"
    },
    {
     "data": {
      "text/latex": [
       "$\\displaystyle F = \\frac{1}{2} \\, \\alpha v^{2} - 3 \\, \\beta x^{2}$"
      ],
      "text/plain": [
       "<IPython.core.display.Math object>"
      ]
     },
     "metadata": {},
     "output_type": "display_data"
    },
    {
     "data": {
      "text/latex": [
       "$\\displaystyle F = \\frac{1}{2} \\, \\alpha v^{2} - 3 \\, \\beta x^{2}$"
      ],
      "text/plain": [
       "<IPython.core.display.Math object>"
      ]
     },
     "metadata": {},
     "output_type": "display_data"
    },
    {
     "data": {
      "text/latex": [
       "$\\displaystyle \\frac{d}{dt}P = \\alpha v^{2} + \\alpha x \\frac{\\partial^{2}}{(\\partial t)^{2}}x\\left(t\\right) + m \\frac{\\partial^{2}}{(\\partial t)^{2}}x\\left(t\\right)$"
      ],
      "text/plain": [
       "<IPython.core.display.Math object>"
      ]
     },
     "metadata": {},
     "output_type": "display_data"
    },
    {
     "data": {
      "text/latex": [
       "$\\displaystyle \\frac{1}{2} \\, \\alpha v^{2} + 3 \\, \\beta x^{2} + \\alpha x \\frac{\\partial^{2}}{(\\partial t)^{2}}x\\left(t\\right) + m \\frac{\\partial^{2}}{(\\partial t)^{2}}x\\left(t\\right)$"
      ],
      "text/plain": [
       "<IPython.core.display.Math object>"
      ]
     },
     "metadata": {},
     "output_type": "display_data"
    }
   ],
   "source": [
    "# из тестового лагранжиана\n",
    "# состоящего из полученной\n",
    "# кинетической энергии и полученной\n",
    "# потенциальной функции\n",
    "# зависящей от координаты\n",
    "# получаем уравнение Эйлера Лагранжа\n",
    "\n",
    "eq_test = EulerLagrengeEquation(L_test)"
   ]
  },
  {
   "cell_type": "markdown",
   "id": "ed47802d",
   "metadata": {},
   "source": [
    "$m\\ddot{x}+\\alpha x\\,\\ddot{x} +\\alpha\\,\\dot{x}^2+3\\,\\beta\\,x^2 = 0$"
   ]
  },
  {
   "cell_type": "code",
   "execution_count": 44,
   "id": "665819a4",
   "metadata": {},
   "outputs": [
    {
     "data": {
      "text/latex": [
       "$\\displaystyle -\\frac{1}{2} \\, \\alpha v^{2}$"
      ],
      "text/plain": [
       "<IPython.core.display.Math object>"
      ]
     },
     "metadata": {},
     "output_type": "display_data"
    }
   ],
   "source": [
    "# находим разницу тестового уравнений Эйлера Лагранжа\n",
    "# и исходным уравнением Эйлера Лагранжа\n",
    "eq_test_2 = (eq_test - eqEulerLagrange.subs(x.diff(t) == V).subs(x == X))\n",
    "disp(eq_test_2)"
   ]
  },
  {
   "cell_type": "code",
   "execution_count": 45,
   "id": "48023f8c",
   "metadata": {},
   "outputs": [
    {
     "data": {
      "text/latex": [
       "$\\displaystyle L = -\\beta x^{3} + \\frac{1}{2} \\, \\alpha v^{2} x\\left(t\\right) + \\frac{1}{2} \\, m v^{2} + \\phi\\left(x\\right)$"
      ],
      "text/plain": [
       "<IPython.core.display.Math object>"
      ]
     },
     "metadata": {},
     "output_type": "display_data"
    },
    {
     "data": {
      "text/latex": [
       "$\\displaystyle L = -\\beta x^{3} + \\frac{1}{2} \\, \\alpha v^{2} x\\left(t\\right) + \\frac{1}{2} \\, m v^{2} + \\phi\\left(x\\right)$"
      ],
      "text/plain": [
       "<IPython.core.display.Math object>"
      ]
     },
     "metadata": {},
     "output_type": "display_data"
    },
    {
     "data": {
      "text/latex": [
       "$\\displaystyle P = \\alpha v x\\left(t\\right) + m v$"
      ],
      "text/plain": [
       "<IPython.core.display.Math object>"
      ]
     },
     "metadata": {},
     "output_type": "display_data"
    },
    {
     "data": {
      "text/latex": [
       "$\\displaystyle P = \\alpha v x\\left(t\\right) + m v$"
      ],
      "text/plain": [
       "<IPython.core.display.Math object>"
      ]
     },
     "metadata": {},
     "output_type": "display_data"
    },
    {
     "data": {
      "text/latex": [
       "$\\displaystyle L = \\frac{1}{2} \\, \\alpha v^{2} x - \\beta x^{3} + \\frac{1}{2} \\, m v^{2} + \\phi\\left(x\\right)$"
      ],
      "text/plain": [
       "<IPython.core.display.Math object>"
      ]
     },
     "metadata": {},
     "output_type": "display_data"
    },
    {
     "data": {
      "text/latex": [
       "$\\displaystyle F = \\frac{1}{2} \\, \\alpha v^{2} - 3 \\, \\beta x^{2} + \\frac{\\partial}{\\partial x}\\phi\\left(x\\right)$"
      ],
      "text/plain": [
       "<IPython.core.display.Math object>"
      ]
     },
     "metadata": {},
     "output_type": "display_data"
    },
    {
     "data": {
      "text/latex": [
       "$\\displaystyle F = \\frac{1}{2} \\, \\alpha v^{2} - 3 \\, \\beta x^{2} + \\frac{\\partial}{\\partial x}\\phi\\left(x\\right)$"
      ],
      "text/plain": [
       "<IPython.core.display.Math object>"
      ]
     },
     "metadata": {},
     "output_type": "display_data"
    },
    {
     "data": {
      "text/latex": [
       "$\\displaystyle \\frac{d}{dt}P = \\alpha v^{2} + \\alpha x \\frac{\\partial^{2}}{(\\partial t)^{2}}x\\left(t\\right) + m \\frac{\\partial^{2}}{(\\partial t)^{2}}x\\left(t\\right)$"
      ],
      "text/plain": [
       "<IPython.core.display.Math object>"
      ]
     },
     "metadata": {},
     "output_type": "display_data"
    },
    {
     "data": {
      "text/latex": [
       "$\\displaystyle \\frac{1}{2} \\, \\alpha v^{2} + 3 \\, \\beta x^{2} + \\alpha x \\frac{\\partial^{2}}{(\\partial t)^{2}}x\\left(t\\right) + m \\frac{\\partial^{2}}{(\\partial t)^{2}}x\\left(t\\right) - \\frac{\\partial}{\\partial x}\\phi\\left(x\\right)$"
      ],
      "text/plain": [
       "<IPython.core.display.Math object>"
      ]
     },
     "metadata": {},
     "output_type": "display_data"
    }
   ],
   "source": [
    "# из тестового лагранжиана\n",
    "# состоящего из полученной\n",
    "# кинетической энергии и неизвестной\n",
    "# потенциальной функцией phi\n",
    "# зависящей от координаты\n",
    "# получаем уравнение Эйлера Лагранжа, содержащее неизвестную функцию phi(x)\n",
    "\n",
    "eq_phi = EulerLagrengeEquation(L_test_phi)"
   ]
  },
  {
   "cell_type": "markdown",
   "id": "9ae30871",
   "metadata": {},
   "source": [
    "$m\\ddot{x}+\\alpha x\\,\\ddot{x} +\\alpha\\,\\dot{x}^2+3\\,\\beta\\,x^2 = 0$"
   ]
  },
  {
   "cell_type": "code",
   "execution_count": 46,
   "id": "7454714a",
   "metadata": {},
   "outputs": [
    {
     "data": {
      "text/latex": [
       "$\\displaystyle \\alpha v^{2} + 3 \\, \\beta x^{2} + \\alpha x \\frac{\\partial^{2}}{(\\partial t)^{2}}x\\left(t\\right) + m \\frac{\\partial^{2}}{(\\partial t)^{2}}x\\left(t\\right)$"
      ],
      "text/plain": [
       "<IPython.core.display.Math object>"
      ]
     },
     "metadata": {},
     "output_type": "display_data"
    }
   ],
   "source": [
    "# теперь сравниваем уравнение Эйлера Лагранжа, содержащее неизвестную функцию phi(x)\n",
    "# с исходным уравнением Эйлера Лагранжа\n",
    "disp(eqEulerLagrange.subs(x.diff(t) == V) \\\n",
    "                 .subs(x == X))"
   ]
  },
  {
   "cell_type": "code",
   "execution_count": 47,
   "id": "b17e59fa",
   "metadata": {},
   "outputs": [
    {
     "data": {
      "text/latex": [
       "$\\displaystyle -\\frac{1}{2} \\, \\alpha v^{2} - \\frac{\\partial}{\\partial x}\\phi\\left(x\\right)$"
      ],
      "text/plain": [
       "<IPython.core.display.Math object>"
      ]
     },
     "metadata": {},
     "output_type": "display_data"
    }
   ],
   "source": [
    "# находим разницу уравнений Эйлера Лагранжа, содержащего неизвестную функцию phi(x)\n",
    "# и исходным уравнением Эйлера Лагранжа\n",
    "eq_phi_diff = (eq_phi - eqEulerLagrange.subs(x.diff(t) == V).subs(x == X))\n",
    "disp(eq_phi_diff)"
   ]
  },
  {
   "cell_type": "code",
   "execution_count": 48,
   "id": "4f5ba32d",
   "metadata": {},
   "outputs": [
    {
     "data": {
      "text/latex": [
       "$\\displaystyle -\\frac{1}{2} \\, \\alpha v^{2} x\\left(t\\right) + C$"
      ],
      "text/plain": [
       "<IPython.core.display.Math object>"
      ]
     },
     "metadata": {},
     "output_type": "display_data"
    }
   ],
   "source": [
    "# интегрируя полученную разницу находим решение для функции phi(x)\n",
    "sol_phi = desolve(eq_phi_diff == 0, phi, ivar=X)\n",
    "disp(sol_phi.subs(X==x))"
   ]
  },
  {
   "cell_type": "code",
   "execution_count": 49,
   "id": "bc3ca657",
   "metadata": {},
   "outputs": [
    {
     "data": {
      "text/latex": [
       "$\\displaystyle \\frac{1}{2} \\, \\alpha v^{2} x - \\beta x^{3} + \\frac{1}{2} \\, \\alpha v^{2} x\\left(t\\right) + \\frac{1}{2} \\, m v^{2} - C$"
      ],
      "text/plain": [
       "<IPython.core.display.Math object>"
      ]
     },
     "metadata": {},
     "output_type": "display_data"
    }
   ],
   "source": [
    "# из тестового лагранжиана\n",
    "# состоящего из полученной\n",
    "# кинетической энергии и\n",
    "# уже найденной функции phi\n",
    "# получаем первый вариант искомого лагранжиана\n",
    "\n",
    "# L_test_phi = eqEulerLagrange_v_integrate_t_v + phi\n",
    "L_phi = eqEulerLagrange_v_integrate_t_v + eqEulerLagrange_x_integrate_x - sol_phi\n",
    "disp(L_phi)"
   ]
  },
  {
   "cell_type": "code",
   "execution_count": 50,
   "id": "8b58f218",
   "metadata": {},
   "outputs": [
    {
     "data": {
      "text/latex": [
       "$\\displaystyle L = \\frac{1}{2} \\, \\alpha v^{2} x - \\beta x^{3} + \\frac{1}{2} \\, \\alpha v^{2} x\\left(t\\right) + \\frac{1}{2} \\, m v^{2} - C$"
      ],
      "text/plain": [
       "<IPython.core.display.Math object>"
      ]
     },
     "metadata": {},
     "output_type": "display_data"
    },
    {
     "data": {
      "text/latex": [
       "$\\displaystyle L = \\frac{1}{2} \\, \\alpha v^{2} x - \\beta x^{3} + \\frac{1}{2} \\, \\alpha v^{2} x\\left(t\\right) + \\frac{1}{2} \\, m v^{2} - C$"
      ],
      "text/plain": [
       "<IPython.core.display.Math object>"
      ]
     },
     "metadata": {},
     "output_type": "display_data"
    },
    {
     "data": {
      "text/latex": [
       "$\\displaystyle P = \\alpha v x + \\alpha v x\\left(t\\right) + m v$"
      ],
      "text/plain": [
       "<IPython.core.display.Math object>"
      ]
     },
     "metadata": {},
     "output_type": "display_data"
    },
    {
     "data": {
      "text/latex": [
       "$\\displaystyle P = \\alpha v x + \\alpha v x\\left(t\\right) + m v$"
      ],
      "text/plain": [
       "<IPython.core.display.Math object>"
      ]
     },
     "metadata": {},
     "output_type": "display_data"
    },
    {
     "data": {
      "text/latex": [
       "$\\displaystyle L = \\alpha v^{2} x - \\beta x^{3} + \\frac{1}{2} \\, m v^{2} - C$"
      ],
      "text/plain": [
       "<IPython.core.display.Math object>"
      ]
     },
     "metadata": {},
     "output_type": "display_data"
    },
    {
     "data": {
      "text/latex": [
       "$\\displaystyle F = \\alpha v^{2} - 3 \\, \\beta x^{2}$"
      ],
      "text/plain": [
       "<IPython.core.display.Math object>"
      ]
     },
     "metadata": {},
     "output_type": "display_data"
    },
    {
     "data": {
      "text/latex": [
       "$\\displaystyle F = \\alpha v^{2} - 3 \\, \\beta x^{2}$"
      ],
      "text/plain": [
       "<IPython.core.display.Math object>"
      ]
     },
     "metadata": {},
     "output_type": "display_data"
    },
    {
     "data": {
      "text/latex": [
       "$\\displaystyle \\frac{d}{dt}P = 2 \\, \\alpha v^{2} + 2 \\, \\alpha x \\frac{\\partial^{2}}{(\\partial t)^{2}}x\\left(t\\right) + m \\frac{\\partial^{2}}{(\\partial t)^{2}}x\\left(t\\right)$"
      ],
      "text/plain": [
       "<IPython.core.display.Math object>"
      ]
     },
     "metadata": {},
     "output_type": "display_data"
    },
    {
     "data": {
      "text/latex": [
       "$\\displaystyle \\alpha v^{2} + 3 \\, \\beta x^{2} + 2 \\, \\alpha x \\frac{\\partial^{2}}{(\\partial t)^{2}}x\\left(t\\right) + m \\frac{\\partial^{2}}{(\\partial t)^{2}}x\\left(t\\right)$"
      ],
      "text/plain": [
       "<IPython.core.display.Math object>"
      ]
     },
     "metadata": {},
     "output_type": "display_data"
    }
   ],
   "source": [
    "# тестируем полученный первый вариант искомого лагранжиана\n",
    "# получив из него уравнение Эйлера Лагранжа\n",
    "eq_phi_sol = EulerLagrengeEquation(L_phi)"
   ]
  },
  {
   "cell_type": "code",
   "execution_count": 51,
   "id": "3899a160",
   "metadata": {},
   "outputs": [
    {
     "data": {
      "text/latex": [
       "$\\displaystyle \\alpha x \\frac{\\partial^{2}}{(\\partial t)^{2}}x\\left(t\\right)$"
      ],
      "text/plain": [
       "<IPython.core.display.Math object>"
      ]
     },
     "metadata": {},
     "output_type": "display_data"
    }
   ],
   "source": [
    "# находим разницу уравнений Эйлера Лагранжа,\n",
    "# и исходным уравнением Эйлера Лагранжа\n",
    "eq_phi_sol_diff = (eq_phi_sol - eqEulerLagrange.subs(x.diff(t) == V).subs(x == X))\n",
    "disp(eq_phi_sol_diff)"
   ]
  },
  {
   "cell_type": "code",
   "execution_count": 52,
   "id": "5d1e0965",
   "metadata": {},
   "outputs": [
    {
     "data": {
      "text/latex": [
       "$\\displaystyle L = -\\beta x^{3} + \\frac{1}{2} \\, \\alpha v^{2} x\\left(t\\right) + \\frac{1}{2} \\, m v^{2} + \\psi\\left(x, v\\right)$"
      ],
      "text/plain": [
       "<IPython.core.display.Math object>"
      ]
     },
     "metadata": {},
     "output_type": "display_data"
    },
    {
     "data": {
      "text/latex": [
       "$\\displaystyle L = -\\beta x^{3} + \\frac{1}{2} \\, \\alpha v^{2} x\\left(t\\right) + \\frac{1}{2} \\, m v^{2} + \\psi\\left(x, v\\right)$"
      ],
      "text/plain": [
       "<IPython.core.display.Math object>"
      ]
     },
     "metadata": {},
     "output_type": "display_data"
    },
    {
     "data": {
      "text/latex": [
       "$\\displaystyle P = \\alpha v x\\left(t\\right) + m v + \\frac{\\partial}{\\partial v}\\psi\\left(x, v\\right)$"
      ],
      "text/plain": [
       "<IPython.core.display.Math object>"
      ]
     },
     "metadata": {},
     "output_type": "display_data"
    },
    {
     "data": {
      "text/latex": [
       "$\\displaystyle P = \\alpha v x\\left(t\\right) + m v + \\frac{\\partial}{\\partial v}\\psi\\left(x, v\\right)$"
      ],
      "text/plain": [
       "<IPython.core.display.Math object>"
      ]
     },
     "metadata": {},
     "output_type": "display_data"
    },
    {
     "data": {
      "text/latex": [
       "$\\displaystyle L = \\frac{1}{2} \\, \\alpha v^{2} x - \\beta x^{3} + \\frac{1}{2} \\, m v^{2} + \\psi\\left(x, v\\right)$"
      ],
      "text/plain": [
       "<IPython.core.display.Math object>"
      ]
     },
     "metadata": {},
     "output_type": "display_data"
    },
    {
     "data": {
      "text/latex": [
       "$\\displaystyle F = \\frac{1}{2} \\, \\alpha v^{2} - 3 \\, \\beta x^{2} + \\frac{\\partial}{\\partial x}\\psi\\left(x, v\\right)$"
      ],
      "text/plain": [
       "<IPython.core.display.Math object>"
      ]
     },
     "metadata": {},
     "output_type": "display_data"
    },
    {
     "data": {
      "text/latex": [
       "$\\displaystyle F = \\frac{1}{2} \\, \\alpha v^{2} - 3 \\, \\beta x^{2} + \\frac{\\partial}{\\partial x}\\psi\\left(x, v\\right)$"
      ],
      "text/plain": [
       "<IPython.core.display.Math object>"
      ]
     },
     "metadata": {},
     "output_type": "display_data"
    },
    {
     "data": {
      "text/latex": [
       "$\\displaystyle \\frac{d}{dt}P = \\alpha v^{2} + \\alpha x \\frac{\\partial^{2}}{(\\partial t)^{2}}x\\left(t\\right) + v \\frac{\\partial^{2}}{\\partial x\\partial v}\\psi\\left(x, v\\right) + m \\frac{\\partial^{2}}{(\\partial t)^{2}}x\\left(t\\right) + \\frac{\\partial^{2}}{(\\partial v)^{2}}\\psi\\left(x, v\\right) \\frac{\\partial^{2}}{(\\partial t)^{2}}x\\left(t\\right)$"
      ],
      "text/plain": [
       "<IPython.core.display.Math object>"
      ]
     },
     "metadata": {},
     "output_type": "display_data"
    },
    {
     "data": {
      "text/latex": [
       "$\\displaystyle \\frac{1}{2} \\, \\alpha v^{2} + 3 \\, \\beta x^{2} + \\alpha x \\frac{\\partial^{2}}{(\\partial t)^{2}}x\\left(t\\right) + v \\frac{\\partial^{2}}{\\partial x\\partial v}\\psi\\left(x, v\\right) + m \\frac{\\partial^{2}}{(\\partial t)^{2}}x\\left(t\\right) + \\frac{\\partial^{2}}{(\\partial v)^{2}}\\psi\\left(x, v\\right) \\frac{\\partial^{2}}{(\\partial t)^{2}}x\\left(t\\right) - \\frac{\\partial}{\\partial x}\\psi\\left(x, v\\right)$"
      ],
      "text/plain": [
       "<IPython.core.display.Math object>"
      ]
     },
     "metadata": {},
     "output_type": "display_data"
    }
   ],
   "source": [
    "# также из тестового лагранжиана\n",
    "# состоящего из полученной\n",
    "# потенциальной функции и неизвестной\n",
    "# функции psi\n",
    "# зависящей от координаты и скорости\n",
    "# получаем уравнение Эйлера Лагранжа\n",
    "\n",
    "eq_psi = EulerLagrengeEquation(L_test_psi)"
   ]
  },
  {
   "cell_type": "code",
   "execution_count": 53,
   "id": "5170557a",
   "metadata": {},
   "outputs": [
    {
     "data": {
      "text/latex": [
       "$\\displaystyle -\\frac{1}{2} \\, \\alpha v^{2} + v \\frac{\\partial^{2}}{\\partial x\\partial v}\\psi\\left(x, v\\right) + \\frac{\\partial^{2}}{(\\partial v)^{2}}\\psi\\left(x, v\\right) \\frac{\\partial^{2}}{(\\partial t)^{2}}x\\left(t\\right) - \\frac{\\partial}{\\partial x}\\psi\\left(x, v\\right)$"
      ],
      "text/plain": [
       "<IPython.core.display.Math object>"
      ]
     },
     "metadata": {},
     "output_type": "display_data"
    }
   ],
   "source": [
    "eq_psi_diff = (eq_psi - eqEulerLagrange.subs(x.diff(t) == V).subs(x == X)).full_simplify().subs(x.diff(t) == V).subs(x == X)\n",
    "disp(eq_psi_diff)"
   ]
  },
  {
   "cell_type": "code",
   "execution_count": 54,
   "id": "547a6ed0",
   "metadata": {},
   "outputs": [
    {
     "data": {
      "text/latex": [
       "$\\displaystyle -\\frac{1}{2} \\, \\alpha v^{2}$"
      ],
      "text/plain": [
       "<IPython.core.display.Math object>"
      ]
     },
     "metadata": {},
     "output_type": "display_data"
    }
   ],
   "source": [
    "# анализ полученного уравнения показывает, что\n",
    "# во первых вторая производная psi по скорости равна нулю\n",
    "# то есть psi это функция скорости первого порядка\n",
    "\n",
    "disp(eq_psi_diff.substitute_function(psi == -alpha * V*X))"
   ]
  },
  {
   "cell_type": "markdown",
   "id": "30aa87bb",
   "metadata": {},
   "source": [
    "$m\\ddot{x}+\\alpha x\\,\\ddot{x} +\\alpha\\,\\dot{x}^2+3\\,\\beta\\,x^2 = 0$"
   ]
  },
  {
   "cell_type": "code",
   "execution_count": null,
   "id": "15e4c77c",
   "metadata": {},
   "outputs": [],
   "source": []
  }
 ],
 "metadata": {
  "kernelspec": {
   "display_name": "SageMath 9.6.beta7",
   "language": "sage",
   "name": "sagemath"
  },
  "language_info": {
   "codemirror_mode": {
    "name": "ipython",
    "version": 3
   },
   "file_extension": ".py",
   "mimetype": "text/x-python",
   "name": "python",
   "nbconvert_exporter": "python",
   "pygments_lexer": "ipython3",
   "version": "3.10.3"
  }
 },
 "nbformat": 4,
 "nbformat_minor": 5
}

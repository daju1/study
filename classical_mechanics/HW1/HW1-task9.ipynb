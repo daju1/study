{
 "cells": [
  {
   "cell_type": "code",
   "execution_count": 1,
   "id": "c4c0f744",
   "metadata": {},
   "outputs": [],
   "source": [
    "from IPython.display import display, Math, Latex\n",
    "\n",
    "def disp(ex):\n",
    "    display(Math(latex(ex)))\n",
    "\n",
    "def displ(tex):\n",
    "    display(Math(tex))"
   ]
  },
  {
   "cell_type": "markdown",
   "id": "022f613a",
   "metadata": {},
   "source": [
    "9. Рівняння Ейлера-Лагранжа має вигляд \n",
    "\n",
    "$$\\left(m+\\alpha x\\right)\\, \\ddot{x}+\\alpha\\,\\dot{x}^2+3\\,\\beta\\,x^2 = 0$$\n",
    "\n",
    "Запишіть функцію Лагранжа системи. Чи однозначно ви змогли її відновити?\n",
    "Отримайте якомога ширший клас функцій, що будуть давати це рівняння Ейлера-\n",
    "Лагранжа."
   ]
  },
  {
   "cell_type": "code",
   "execution_count": 2,
   "id": "fdd51378",
   "metadata": {},
   "outputs": [],
   "source": [
    "# Объявление переменных и функций\n",
    "m,t = var(\"m,t\")\n",
    "\n",
    "X = var(\"x\")\n",
    "x = function(\"x\")(t)\n",
    "V = var(\"v\")\n",
    "\n",
    "alpha = var(\"alpha\")\n",
    "beta = var(\"beta\")"
   ]
  },
  {
   "cell_type": "markdown",
   "id": "66d61245",
   "metadata": {},
   "source": [
    "уравнения Эйлера-Лагранжа\n",
    "\n",
    "$\\frac{d}{dt}\\frac{\\partial L}{\\partial \\dot{x}} = \\frac{\\partial L}{\\partial {x}}$"
   ]
  },
  {
   "cell_type": "markdown",
   "id": "90740178",
   "metadata": {},
   "source": [
    "$L = \\int\\limits_{\\dot{x}_0}^{\\dot{x}}\\int\\limits_{t_0}^{t}\\frac{d}{dt}\\frac{\\partial L}{\\partial \\dot{x}}dt\\,d\\dot{x}+\\varphi(x) = \\int\\limits_{x_0}^{x}\\frac{\\partial L}{\\partial {x}} dx+\\psi(\\dot{x})$"
   ]
  },
  {
   "cell_type": "markdown",
   "id": "ba21b1bf",
   "metadata": {},
   "source": [
    "$\\left(m+\\alpha x\\right)\\, \\ddot{x}+\\alpha\\,\\dot{x}^2+3\\,\\beta\\,x^2 = 0$"
   ]
  },
  {
   "cell_type": "markdown",
   "id": "bfe27f1e",
   "metadata": {},
   "source": [
    "$m\\ddot{x}+\\alpha x\\,\\ddot{x} +\\alpha\\,\\dot{x}^2+3\\,\\beta\\,x^2 = 0$"
   ]
  },
  {
   "cell_type": "code",
   "execution_count": 35,
   "id": "3be0a414",
   "metadata": {},
   "outputs": [
    {
     "data": {
      "text/latex": [
       "$\\displaystyle 3 \\, \\beta x\\left(t\\right)^{2} + \\alpha \\frac{\\partial}{\\partial t}x\\left(t\\right)^{2} + \\alpha x\\left(t\\right) \\frac{\\partial^{2}}{(\\partial t)^{2}}x\\left(t\\right) + m \\frac{\\partial^{2}}{(\\partial t)^{2}}x\\left(t\\right)$"
      ],
      "text/plain": [
       "<IPython.core.display.Math object>"
      ]
     },
     "metadata": {},
     "output_type": "display_data"
    }
   ],
   "source": [
    "# все слагаемые уравнения Эйлера-Лагранжа\n",
    "eqEulerLagrange = m * x.diff(t,2) + alpha * x * x.diff(t,2) + alpha*x.diff(t)^2 + 3 * beta*x^2\n",
    "disp(eqEulerLagrange)"
   ]
  },
  {
   "cell_type": "code",
   "execution_count": 3,
   "id": "34d35c23",
   "metadata": {},
   "outputs": [],
   "source": [
    "# возьмем слагаемые уравнения Эйлера-Лагранжа, зависящие от скорости\n",
    "eqEulerLagrange_v = m * x.diff(t,2) + alpha * x * x.diff(t,2) + alpha*x.diff(t)^2"
   ]
  },
  {
   "cell_type": "code",
   "execution_count": 4,
   "id": "f26bac41",
   "metadata": {},
   "outputs": [
    {
     "data": {
      "text/latex": [
       "$\\displaystyle \\alpha \\frac{\\partial}{\\partial t}x\\left(t\\right)^{2} + \\alpha x\\left(t\\right) \\frac{\\partial^{2}}{(\\partial t)^{2}}x\\left(t\\right) + m \\frac{\\partial^{2}}{(\\partial t)^{2}}x\\left(t\\right)$"
      ],
      "text/plain": [
       "<IPython.core.display.Math object>"
      ]
     },
     "metadata": {},
     "output_type": "display_data"
    }
   ],
   "source": [
    "disp(eqEulerLagrange_v)"
   ]
  },
  {
   "cell_type": "markdown",
   "id": "71587bf9",
   "metadata": {},
   "source": [
    "$L = \\int\\limits_{\\dot{x}_0}^{\\dot{x}}\n",
    "\\left(\\int\\limits_{t_0}^{t}\\frac{d}{dt}\\frac{\\partial L}{\\partial \\dot{x}}dt\\right)\\,d\\dot{x}+\\varphi(x)$"
   ]
  },
  {
   "cell_type": "code",
   "execution_count": 5,
   "id": "ca5a19ce",
   "metadata": {},
   "outputs": [
    {
     "data": {
      "text/latex": [
       "$\\displaystyle {\\left(\\alpha x\\left(t\\right) + m\\right)} \\frac{\\partial}{\\partial t}x\\left(t\\right)$"
      ],
      "text/plain": [
       "<IPython.core.display.Math object>"
      ]
     },
     "metadata": {},
     "output_type": "display_data"
    }
   ],
   "source": [
    "# интегрируем по времени все слагаемые уравнения Эйлера-Лагранжа, зависящие от скорости \n",
    "eqEulerLagrange_v_integrate_t = eqEulerLagrange_v.integrate(t,algorithm=\"fricas\")\n",
    "disp(eqEulerLagrange_v_integrate_t)"
   ]
  },
  {
   "cell_type": "code",
   "execution_count": 6,
   "id": "5895c80c",
   "metadata": {},
   "outputs": [
    {
     "data": {
      "text/latex": [
       "$\\displaystyle {\\left(\\alpha x\\left(t\\right) + m\\right)} v$"
      ],
      "text/plain": [
       "<IPython.core.display.Math object>"
      ]
     },
     "metadata": {},
     "output_type": "display_data"
    }
   ],
   "source": [
    "disp(eqEulerLagrange_v_integrate_t.subs(x.diff(t) == V))"
   ]
  },
  {
   "cell_type": "code",
   "execution_count": 7,
   "id": "14163285",
   "metadata": {},
   "outputs": [
    {
     "data": {
      "text/latex": [
       "$\\displaystyle \\frac{1}{2} \\, \\alpha v^{2} x\\left(t\\right) + \\frac{1}{2} \\, m v^{2}$"
      ],
      "text/plain": [
       "<IPython.core.display.Math object>"
      ]
     },
     "metadata": {},
     "output_type": "display_data"
    }
   ],
   "source": [
    "# теперь интегрируем полученный интеграл также и по скорости\n",
    "eqEulerLagrange_v_integrate_t_v = \\\n",
    "eqEulerLagrange_v_integrate_t.subs(x.diff(t) == V).integrate(v,algorithm=\"fricas\")\n",
    "disp(eqEulerLagrange_v_integrate_t_v)"
   ]
  },
  {
   "cell_type": "code",
   "execution_count": 8,
   "id": "505dcbac",
   "metadata": {},
   "outputs": [
    {
     "data": {
      "text/latex": [
       "$\\displaystyle 3 \\, \\beta x^{2} + \\alpha x \\frac{\\partial^{2}}{(\\partial t)^{2}}x\\left(t\\right)$"
      ],
      "text/plain": [
       "<IPython.core.display.Math object>"
      ]
     },
     "metadata": {},
     "output_type": "display_data"
    }
   ],
   "source": [
    "# возьмем слагаемые уравнения Эйлера-Лагранжа, зависящие от координаты\n",
    "eqEulerLagrange_x = 3 * beta*X^2 + alpha * X * x.diff(t,2)\n",
    "disp(eqEulerLagrange_x)"
   ]
  },
  {
   "cell_type": "markdown",
   "id": "b825bbdd",
   "metadata": {},
   "source": [
    "$L = \\int\\limits_{x_0}^{x}\\frac{\\partial L}{\\partial {x}} dx+\\psi(\\dot{x})$"
   ]
  },
  {
   "cell_type": "code",
   "execution_count": 9,
   "id": "a10bf989",
   "metadata": {},
   "outputs": [
    {
     "data": {
      "text/latex": [
       "$\\displaystyle \\beta x^{3} + \\frac{1}{2} \\, \\alpha x^{2} \\frac{\\partial^{2}}{(\\partial t)^{2}}x\\left(t\\right)$"
      ],
      "text/plain": [
       "<IPython.core.display.Math object>"
      ]
     },
     "metadata": {},
     "output_type": "display_data"
    }
   ],
   "source": [
    "# интегрируем по координате все слагаемые уравнения Эйлера-Лагранжа,\n",
    "# зависящие от координаты\n",
    "eqEulerLagrange_x_integrate_x = eqEulerLagrange_x.integrate(X)\n",
    "disp(eqEulerLagrange_x_integrate_x)"
   ]
  },
  {
   "cell_type": "code",
   "execution_count": 16,
   "id": "9cb5bda0",
   "metadata": {},
   "outputs": [],
   "source": [
    "# Объявление переменных и функций\n",
    "v = function(\"v\")(t)\n",
    "phi = function(\"phi\")(x)\n",
    "psi = function(\"psi\")(v)"
   ]
  },
  {
   "cell_type": "code",
   "execution_count": 40,
   "id": "eb0e2cbc",
   "metadata": {},
   "outputs": [
    {
     "data": {
      "text/latex": [
       "$\\displaystyle \\frac{1}{2} \\, \\alpha x\\left(t\\right) \\frac{\\partial}{\\partial t}x\\left(t\\right)^{2} + \\frac{1}{2} \\, m \\frac{\\partial}{\\partial t}x\\left(t\\right)^{2} + \\phi\\left(x\\left(t\\right)\\right)$"
      ],
      "text/plain": [
       "<IPython.core.display.Math object>"
      ]
     },
     "metadata": {},
     "output_type": "display_data"
    }
   ],
   "source": [
    "L_test_phi = eqEulerLagrange_v_integrate_t_v + phi\n",
    "L_test_phi = L_test_phi.subs(V == x.diff(t), X == x)\n",
    "disp(L_test_phi)"
   ]
  },
  {
   "cell_type": "code",
   "execution_count": 41,
   "id": "3b05fe85",
   "metadata": {},
   "outputs": [
    {
     "data": {
      "text/latex": [
       "$\\displaystyle \\beta x\\left(t\\right)^{3} + \\frac{1}{2} \\, \\alpha x\\left(t\\right)^{2} \\frac{\\partial^{2}}{(\\partial t)^{2}}x\\left(t\\right) + \\psi\\left(\\frac{\\partial}{\\partial t}x\\left(t\\right)\\right)$"
      ],
      "text/plain": [
       "<IPython.core.display.Math object>"
      ]
     },
     "metadata": {},
     "output_type": "display_data"
    }
   ],
   "source": [
    "L_test_psi = eqEulerLagrange_x_integrate_x + psi\n",
    "L_test_psi = L_test_psi.subs(V == x.diff(t), v == x.diff(t), X == x)\n",
    "disp(L_test_psi)"
   ]
  },
  {
   "cell_type": "code",
   "execution_count": 58,
   "id": "0133f361",
   "metadata": {},
   "outputs": [],
   "source": [
    "def EulerLagrengeEquation(L):\n",
    "    displ(\"L = \" + latex(L))\n",
    "\n",
    "    # в Лагранжиане производим замену производных обобщенных координат на v\n",
    "    # Найдем обобщенные импульсы\n",
    "    P1 = L.subs(x.diff(t) == V).diff(V).subs(V == x.diff(t))\n",
    "    displ(\"L = \" + latex(L.subs(x.diff(t) == V)))\n",
    "    displ(\"P = \" + latex(L.subs(x.diff(t) == V).diff(V)))\n",
    "    displ(\"P = \" + latex(P1))\n",
    "\n",
    "    # Найдем обобщенные силы\n",
    "    F1 = L.subs(x == X).diff(X)#subs(X == x).subs(V == x.diff(t))\n",
    "    displ(\"L = \" + latex(L.subs(x == X)))\n",
    "    displ(\"F = \" + latex(L.subs(x == X).diff(X)))\n",
    "    displ(\"F = \" + latex(F1))\n",
    "\n",
    "    displ(\"\\\\frac{d}{dt}P = \" + latex(P1.diff(t)))\n",
    "\n",
    "    # Запишем уравнения Эйлера-Лагранжа\n",
    "    de1 = P1.diff(t) - F1\n",
    "    disp(de1.full_simplify())\n",
    "    \n",
    "    return de1"
   ]
  },
  {
   "cell_type": "code",
   "execution_count": 59,
   "id": "cebe671b",
   "metadata": {},
   "outputs": [
    {
     "data": {
      "text/latex": [
       "$\\displaystyle L = \\frac{1}{2} \\, \\alpha x\\left(t\\right) \\frac{\\partial}{\\partial t}x\\left(t\\right)^{2} + \\frac{1}{2} \\, m \\frac{\\partial}{\\partial t}x\\left(t\\right)^{2} + \\phi\\left(x\\left(t\\right)\\right)$"
      ],
      "text/plain": [
       "<IPython.core.display.Math object>"
      ]
     },
     "metadata": {},
     "output_type": "display_data"
    },
    {
     "data": {
      "text/latex": [
       "$\\displaystyle L = \\frac{1}{2} \\, \\alpha v^{2} x\\left(t\\right) + \\frac{1}{2} \\, m v^{2} + \\phi\\left(x\\left(t\\right)\\right)$"
      ],
      "text/plain": [
       "<IPython.core.display.Math object>"
      ]
     },
     "metadata": {},
     "output_type": "display_data"
    },
    {
     "data": {
      "text/latex": [
       "$\\displaystyle P = \\alpha v x\\left(t\\right) + m v$"
      ],
      "text/plain": [
       "<IPython.core.display.Math object>"
      ]
     },
     "metadata": {},
     "output_type": "display_data"
    },
    {
     "data": {
      "text/latex": [
       "$\\displaystyle P = \\alpha x\\left(t\\right) \\frac{\\partial}{\\partial t}x\\left(t\\right) + m \\frac{\\partial}{\\partial t}x\\left(t\\right)$"
      ],
      "text/plain": [
       "<IPython.core.display.Math object>"
      ]
     },
     "metadata": {},
     "output_type": "display_data"
    },
    {
     "data": {
      "text/latex": [
       "$\\displaystyle L = \\frac{1}{2} \\, \\alpha x \\frac{\\partial}{\\partial t}x\\left(t\\right)^{2} + \\frac{1}{2} \\, m \\frac{\\partial}{\\partial t}x\\left(t\\right)^{2} + \\phi\\left(x\\right)$"
      ],
      "text/plain": [
       "<IPython.core.display.Math object>"
      ]
     },
     "metadata": {},
     "output_type": "display_data"
    },
    {
     "data": {
      "text/latex": [
       "$\\displaystyle F = \\frac{1}{2} \\, \\alpha \\frac{\\partial}{\\partial t}x\\left(t\\right)^{2} + \\frac{\\partial}{\\partial x}\\phi\\left(x\\right)$"
      ],
      "text/plain": [
       "<IPython.core.display.Math object>"
      ]
     },
     "metadata": {},
     "output_type": "display_data"
    },
    {
     "data": {
      "text/latex": [
       "$\\displaystyle F = \\frac{1}{2} \\, \\alpha \\frac{\\partial}{\\partial t}x\\left(t\\right)^{2} + \\frac{\\partial}{\\partial x}\\phi\\left(x\\right)$"
      ],
      "text/plain": [
       "<IPython.core.display.Math object>"
      ]
     },
     "metadata": {},
     "output_type": "display_data"
    },
    {
     "data": {
      "text/latex": [
       "$\\displaystyle \\frac{d}{dt}P = \\alpha \\frac{\\partial}{\\partial t}x\\left(t\\right)^{2} + \\alpha x\\left(t\\right) \\frac{\\partial^{2}}{(\\partial t)^{2}}x\\left(t\\right) + m \\frac{\\partial^{2}}{(\\partial t)^{2}}x\\left(t\\right)$"
      ],
      "text/plain": [
       "<IPython.core.display.Math object>"
      ]
     },
     "metadata": {},
     "output_type": "display_data"
    },
    {
     "data": {
      "text/latex": [
       "$\\displaystyle \\frac{1}{2} \\, \\alpha \\frac{\\partial}{\\partial t}x\\left(t\\right)^{2} + {\\left(\\alpha x\\left(t\\right) + m\\right)} \\frac{\\partial^{2}}{(\\partial t)^{2}}x\\left(t\\right) - \\frac{\\partial}{\\partial x}\\phi\\left(x\\right)$"
      ],
      "text/plain": [
       "<IPython.core.display.Math object>"
      ]
     },
     "metadata": {},
     "output_type": "display_data"
    }
   ],
   "source": [
    "eq_phi = EulerLagrengeEquation(L_test_phi)"
   ]
  },
  {
   "cell_type": "code",
   "execution_count": 60,
   "id": "5d1e0965",
   "metadata": {},
   "outputs": [
    {
     "data": {
      "text/latex": [
       "$\\displaystyle L = \\beta x\\left(t\\right)^{3} + \\frac{1}{2} \\, \\alpha x\\left(t\\right)^{2} \\frac{\\partial^{2}}{(\\partial t)^{2}}x\\left(t\\right) + \\psi\\left(\\frac{\\partial}{\\partial t}x\\left(t\\right)\\right)$"
      ],
      "text/plain": [
       "<IPython.core.display.Math object>"
      ]
     },
     "metadata": {},
     "output_type": "display_data"
    },
    {
     "data": {
      "text/latex": [
       "$\\displaystyle L = \\beta x\\left(t\\right)^{3} + \\frac{1}{2} \\, \\alpha x\\left(t\\right)^{2} \\frac{\\partial^{2}}{(\\partial t)^{2}}x\\left(t\\right) + \\psi\\left(v\\right)$"
      ],
      "text/plain": [
       "<IPython.core.display.Math object>"
      ]
     },
     "metadata": {},
     "output_type": "display_data"
    },
    {
     "data": {
      "text/latex": [
       "$\\displaystyle P = \\frac{\\partial}{\\partial v}\\psi\\left(v\\right)$"
      ],
      "text/plain": [
       "<IPython.core.display.Math object>"
      ]
     },
     "metadata": {},
     "output_type": "display_data"
    },
    {
     "data": {
      "text/latex": [
       "$\\displaystyle P = \\mathrm{D}_{0}\\left(\\psi\\right)\\left(\\frac{\\partial}{\\partial t}x\\left(t\\right)\\right)$"
      ],
      "text/plain": [
       "<IPython.core.display.Math object>"
      ]
     },
     "metadata": {},
     "output_type": "display_data"
    },
    {
     "data": {
      "text/latex": [
       "$\\displaystyle L = \\beta x^{3} + \\frac{1}{2} \\, \\alpha x^{2} \\frac{\\partial^{2}}{(\\partial t)^{2}}x\\left(t\\right) + \\psi\\left(\\frac{\\partial}{\\partial t}x\\left(t\\right)\\right)$"
      ],
      "text/plain": [
       "<IPython.core.display.Math object>"
      ]
     },
     "metadata": {},
     "output_type": "display_data"
    },
    {
     "data": {
      "text/latex": [
       "$\\displaystyle F = 3 \\, \\beta x^{2} + \\alpha x \\frac{\\partial^{2}}{(\\partial t)^{2}}x\\left(t\\right)$"
      ],
      "text/plain": [
       "<IPython.core.display.Math object>"
      ]
     },
     "metadata": {},
     "output_type": "display_data"
    },
    {
     "data": {
      "text/latex": [
       "$\\displaystyle F = 3 \\, \\beta x^{2} + \\alpha x \\frac{\\partial^{2}}{(\\partial t)^{2}}x\\left(t\\right)$"
      ],
      "text/plain": [
       "<IPython.core.display.Math object>"
      ]
     },
     "metadata": {},
     "output_type": "display_data"
    },
    {
     "data": {
      "text/latex": [
       "$\\displaystyle \\frac{d}{dt}P = \\mathrm{D}_{0, 0}\\left(\\psi\\right)\\left(\\frac{\\partial}{\\partial t}x\\left(t\\right)\\right) \\frac{\\partial^{2}}{(\\partial t)^{2}}x\\left(t\\right)$"
      ],
      "text/plain": [
       "<IPython.core.display.Math object>"
      ]
     },
     "metadata": {},
     "output_type": "display_data"
    },
    {
     "data": {
      "text/latex": [
       "$\\displaystyle -3 \\, \\beta x^{2} - \\alpha x \\frac{\\partial^{2}}{(\\partial t)^{2}}x\\left(t\\right) + \\mathrm{D}_{0, 0}\\left(\\psi\\right)\\left(\\frac{\\partial}{\\partial t}x\\left(t\\right)\\right) \\frac{\\partial^{2}}{(\\partial t)^{2}}x\\left(t\\right)$"
      ],
      "text/plain": [
       "<IPython.core.display.Math object>"
      ]
     },
     "metadata": {},
     "output_type": "display_data"
    }
   ],
   "source": [
    "eq_psi = EulerLagrengeEquation(L_test_psi)"
   ]
  },
  {
   "cell_type": "code",
   "execution_count": 86,
   "id": "b4ad3810",
   "metadata": {},
   "outputs": [
    {
     "data": {
      "text/latex": [
       "$\\displaystyle -\\frac{1}{2} \\, \\alpha v^{2} - 3 \\, \\beta x^{2} - \\frac{\\partial}{\\partial x}\\phi\\left(x\\right)$"
      ],
      "text/plain": [
       "<IPython.core.display.Math object>"
      ]
     },
     "metadata": {},
     "output_type": "display_data"
    }
   ],
   "source": [
    "eq_phi_2 = (eq_phi - eqEulerLagrange).full_simplify().subs(x == X).subs(x.diff(t) == V)\n",
    "disp(eq_phi_2)"
   ]
  },
  {
   "cell_type": "code",
   "execution_count": 87,
   "id": "5170557a",
   "metadata": {},
   "outputs": [
    {
     "data": {
      "text/latex": [
       "$\\displaystyle -\\alpha v^{2} - 6 \\, \\beta x^{2} - \\alpha x \\frac{\\partial^{2}}{(\\partial t)^{2}}x\\left(t\\right) - {\\left(\\alpha x + m - \\frac{\\partial^{2}}{(\\partial v)^{2}}\\psi\\left(v\\right)\\right)} \\frac{\\partial^{2}}{(\\partial t)^{2}}x\\left(t\\right)$"
      ],
      "text/plain": [
       "<IPython.core.display.Math object>"
      ]
     },
     "metadata": {},
     "output_type": "display_data"
    }
   ],
   "source": [
    "eq_psi_2 = (eq_psi - eqEulerLagrange).full_simplify().subs(x.diff(t) == V).subs(x == X)\n",
    "disp(eq_psi_2)"
   ]
  },
  {
   "cell_type": "code",
   "execution_count": 100,
   "id": "4f5ba32d",
   "metadata": {},
   "outputs": [
    {
     "data": {
      "text/latex": [
       "$\\displaystyle \\phi\\left(x\\left(t\\right)\\right) = -\\frac{1}{2} \\, \\alpha v^{2} x\\left(t\\right) - \\beta x\\left(t\\right)^{3} + C$"
      ],
      "text/plain": [
       "<IPython.core.display.Math object>"
      ]
     },
     "metadata": {},
     "output_type": "display_data"
    }
   ],
   "source": [
    "sol_phi = desolve(eq_phi_2 == 0, phi, ivar=X)\n",
    "disp(sol_phi.subs(X==x))"
   ]
  },
  {
   "cell_type": "code",
   "execution_count": 101,
   "id": "128e4717",
   "metadata": {},
   "outputs": [
    {
     "data": {
      "text/latex": [
       "$\\displaystyle \\psi\\left(v\\right) = K_{2} v + K_{1} + \\frac{\\alpha v^{4} + 36 \\, \\beta v^{2} x^{2} + 12 \\, \\alpha v^{2} x \\frac{\\partial^{2}}{(\\partial t)^{2}}x\\left(t\\right) + 6 \\, m v^{2} \\frac{\\partial^{2}}{(\\partial t)^{2}}x\\left(t\\right)}{12 \\, \\frac{\\partial^{2}}{(\\partial t)^{2}}x\\left(t\\right)}$"
      ],
      "text/plain": [
       "<IPython.core.display.Math object>"
      ]
     },
     "metadata": {},
     "output_type": "display_data"
    }
   ],
   "source": [
    "sol_psi = desolve(eq_psi_2 == 0, psi, ivar=V)\n",
    "disp(sol_psi)"
   ]
  },
  {
   "cell_type": "code",
   "execution_count": 102,
   "id": "bc3ca657",
   "metadata": {},
   "outputs": [
    {
     "data": {
      "text/latex": [
       "$\\displaystyle -\\frac{1}{2} \\, \\alpha v^{2} x\\left(t\\right) - \\beta x\\left(t\\right)^{3} + \\frac{1}{2} \\, \\alpha x\\left(t\\right) \\frac{\\partial}{\\partial t}x\\left(t\\right)^{2} + \\frac{1}{2} \\, m \\frac{\\partial}{\\partial t}x\\left(t\\right)^{2} + C$"
      ],
      "text/plain": [
       "<IPython.core.display.Math object>"
      ]
     },
     "metadata": {},
     "output_type": "display_data"
    }
   ],
   "source": [
    "L_phi = L_test_phi.subs(sol_phi.subs(X==x))\n",
    "disp(L_phi)"
   ]
  },
  {
   "cell_type": "code",
   "execution_count": 103,
   "id": "8b58f218",
   "metadata": {},
   "outputs": [
    {
     "data": {
      "text/latex": [
       "$\\displaystyle L = -\\frac{1}{2} \\, \\alpha v^{2} x\\left(t\\right) - \\beta x\\left(t\\right)^{3} + \\frac{1}{2} \\, \\alpha x\\left(t\\right) \\frac{\\partial}{\\partial t}x\\left(t\\right)^{2} + \\frac{1}{2} \\, m \\frac{\\partial}{\\partial t}x\\left(t\\right)^{2} + C$"
      ],
      "text/plain": [
       "<IPython.core.display.Math object>"
      ]
     },
     "metadata": {},
     "output_type": "display_data"
    },
    {
     "data": {
      "text/latex": [
       "$\\displaystyle L = -\\beta x\\left(t\\right)^{3} + \\frac{1}{2} \\, m v^{2} + C$"
      ],
      "text/plain": [
       "<IPython.core.display.Math object>"
      ]
     },
     "metadata": {},
     "output_type": "display_data"
    },
    {
     "data": {
      "text/latex": [
       "$\\displaystyle P = m v$"
      ],
      "text/plain": [
       "<IPython.core.display.Math object>"
      ]
     },
     "metadata": {},
     "output_type": "display_data"
    },
    {
     "data": {
      "text/latex": [
       "$\\displaystyle P = m \\frac{\\partial}{\\partial t}x\\left(t\\right)$"
      ],
      "text/plain": [
       "<IPython.core.display.Math object>"
      ]
     },
     "metadata": {},
     "output_type": "display_data"
    },
    {
     "data": {
      "text/latex": [
       "$\\displaystyle L = -\\frac{1}{2} \\, \\alpha v^{2} x - \\beta x^{3} + \\frac{1}{2} \\, \\alpha x \\frac{\\partial}{\\partial t}x\\left(t\\right)^{2} + \\frac{1}{2} \\, m \\frac{\\partial}{\\partial t}x\\left(t\\right)^{2} + C$"
      ],
      "text/plain": [
       "<IPython.core.display.Math object>"
      ]
     },
     "metadata": {},
     "output_type": "display_data"
    },
    {
     "data": {
      "text/latex": [
       "$\\displaystyle F = -\\frac{1}{2} \\, \\alpha v^{2} - 3 \\, \\beta x^{2} + \\frac{1}{2} \\, \\alpha \\frac{\\partial}{\\partial t}x\\left(t\\right)^{2}$"
      ],
      "text/plain": [
       "<IPython.core.display.Math object>"
      ]
     },
     "metadata": {},
     "output_type": "display_data"
    },
    {
     "data": {
      "text/latex": [
       "$\\displaystyle F = -\\frac{1}{2} \\, \\alpha v^{2} - 3 \\, \\beta x^{2} + \\frac{1}{2} \\, \\alpha \\frac{\\partial}{\\partial t}x\\left(t\\right)^{2}$"
      ],
      "text/plain": [
       "<IPython.core.display.Math object>"
      ]
     },
     "metadata": {},
     "output_type": "display_data"
    },
    {
     "data": {
      "text/latex": [
       "$\\displaystyle \\frac{d}{dt}P = m \\frac{\\partial^{2}}{(\\partial t)^{2}}x\\left(t\\right)$"
      ],
      "text/plain": [
       "<IPython.core.display.Math object>"
      ]
     },
     "metadata": {},
     "output_type": "display_data"
    },
    {
     "data": {
      "text/latex": [
       "$\\displaystyle \\frac{1}{2} \\, \\alpha v^{2} + 3 \\, \\beta x^{2} - \\frac{1}{2} \\, \\alpha \\frac{\\partial}{\\partial t}x\\left(t\\right)^{2} + m \\frac{\\partial^{2}}{(\\partial t)^{2}}x\\left(t\\right)$"
      ],
      "text/plain": [
       "<IPython.core.display.Math object>"
      ]
     },
     "metadata": {},
     "output_type": "display_data"
    },
    {
     "data": {
      "text/plain": [
       "1/2*alpha*v^2 + 3*beta*x^2 - 1/2*alpha*diff(x(t), t)^2 + m*diff(x(t), t, t)"
      ]
     },
     "execution_count": 103,
     "metadata": {},
     "output_type": "execute_result"
    }
   ],
   "source": [
    "EulerLagrengeEquation(L_phi)"
   ]
  },
  {
   "cell_type": "markdown",
   "id": "30aa87bb",
   "metadata": {},
   "source": [
    "$m\\ddot{x}+\\alpha x\\,\\ddot{x} +\\alpha\\,\\dot{x}^2+3\\,\\beta\\,x^2 = 0$"
   ]
  }
 ],
 "metadata": {
  "kernelspec": {
   "display_name": "SageMath 9.6.beta7",
   "language": "sage",
   "name": "sagemath"
  },
  "language_info": {
   "codemirror_mode": {
    "name": "ipython",
    "version": 3
   },
   "file_extension": ".py",
   "mimetype": "text/x-python",
   "name": "python",
   "nbconvert_exporter": "python",
   "pygments_lexer": "ipython3",
   "version": "3.10.3"
  }
 },
 "nbformat": 4,
 "nbformat_minor": 5
}

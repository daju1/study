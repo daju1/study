{
 "cells": [
  {
   "cell_type": "code",
   "execution_count": 1,
   "id": "8ddbc9aa",
   "metadata": {},
   "outputs": [],
   "source": [
    "from IPython.display import display, Math, Latex\n",
    "\n",
    "def disp(ex):\n",
    "    display(Math(latex(ex)))\n",
    "\n",
    "def displ(tex):\n",
    "    display(Math(tex))"
   ]
  },
  {
   "cell_type": "markdown",
   "id": "2c92e45b",
   "metadata": {},
   "source": [
    "9. Рівняння Ейлера-Лагранжа має вигляд \n",
    "\n",
    "$$\\left(m+\\alpha x\\right)\\, \\ddot{x}+\\alpha\\,\\dot{x}^2+3\\,\\beta\\,x^2 = 0$$\n",
    "\n",
    "Запишіть функцію Лагранжа системи. Чи однозначно ви змогли її відновити?\n",
    "Отримайте якомога ширший клас функцій, що будуть давати це рівняння Ейлера-\n",
    "Лагранжа."
   ]
  },
  {
   "cell_type": "code",
   "execution_count": 2,
   "id": "9383d084",
   "metadata": {},
   "outputs": [],
   "source": [
    "# Объявление переменных и функций\n",
    "m,t = var(\"m,t\")\n",
    "\n",
    "X = var(\"x\")\n",
    "x = function(\"x\")(t)\n",
    "v = var(\"v\")\n",
    "\n",
    "alpha = var(\"alpha\")\n",
    "beta = var(\"beta\")"
   ]
  },
  {
   "cell_type": "markdown",
   "id": "cbd9166b",
   "metadata": {},
   "source": [
    "уравнения Эйлера-Лагранжа\n",
    "\n",
    "$\\frac{d}{dt}\\frac{\\partial L}{\\partial \\dot{x}} = \\frac{\\partial L}{\\partial {x}}$"
   ]
  },
  {
   "cell_type": "markdown",
   "id": "e2e59420",
   "metadata": {},
   "source": [
    "$L = \\int\\limits_{\\dot{x}_0}^{\\dot{x}}\\int\\limits_{t_0}^{t}\\frac{d}{dt}\\frac{\\partial L}{\\partial \\dot{x}}dt\\,d\\dot{x} = \\int\\limits_{x_0}^{x}\\frac{\\partial L}{\\partial {x}} dx$"
   ]
  },
  {
   "cell_type": "markdown",
   "id": "249f65b5",
   "metadata": {},
   "source": [
    "$\\left(m+\\alpha x\\right)\\, \\ddot{x}+\\alpha\\,\\dot{x}^2+3\\,\\beta\\,x^2 = 0$"
   ]
  },
  {
   "cell_type": "markdown",
   "id": "062eb7f5",
   "metadata": {},
   "source": [
    "$m\\ddot{x}+\\alpha x\\,\\ddot{x} +\\alpha\\,\\dot{x}^2+3\\,\\beta\\,x^2 = 0$"
   ]
  },
  {
   "cell_type": "code",
   "execution_count": 3,
   "id": "d8ba9542",
   "metadata": {},
   "outputs": [],
   "source": [
    "# возьмем слагаемые уравнения Эйлера-Лагранжа, зависящие от скорости\n",
    "eqEulerLagrange_v = m * x.diff(t,2) + alpha * x * x.diff(t,2) + alpha*x.diff(t)^2"
   ]
  },
  {
   "cell_type": "code",
   "execution_count": 4,
   "id": "4abf9b87",
   "metadata": {},
   "outputs": [
    {
     "data": {
      "text/latex": [
       "$\\displaystyle \\alpha \\frac{\\partial}{\\partial t}x\\left(t\\right)^{2} + \\alpha x\\left(t\\right) \\frac{\\partial^{2}}{(\\partial t)^{2}}x\\left(t\\right) + m \\frac{\\partial^{2}}{(\\partial t)^{2}}x\\left(t\\right)$"
      ],
      "text/plain": [
       "<IPython.core.display.Math object>"
      ]
     },
     "metadata": {},
     "output_type": "display_data"
    }
   ],
   "source": [
    "disp(eqEulerLagrange_v)"
   ]
  },
  {
   "cell_type": "markdown",
   "id": "884ef929",
   "metadata": {},
   "source": [
    "$L = \\int\\limits_{\\dot{x}_0}^{\\dot{x}}\\int\\limits_{t_0}^{t}\\frac{d}{dt}\\frac{\\partial L}{\\partial \\dot{x}}dt\\,d\\dot{x}$"
   ]
  },
  {
   "cell_type": "code",
   "execution_count": 5,
   "id": "2453430b",
   "metadata": {},
   "outputs": [
    {
     "data": {
      "text/latex": [
       "$\\displaystyle {\\left(\\alpha x\\left(t\\right) + m\\right)} \\frac{\\partial}{\\partial t}x\\left(t\\right)$"
      ],
      "text/plain": [
       "<IPython.core.display.Math object>"
      ]
     },
     "metadata": {},
     "output_type": "display_data"
    }
   ],
   "source": [
    "# интегрируем по времени все слагаемые уравнения Эйлера-Лагранжа, зависящие от скорости \n",
    "eqEulerLagrange_v_integrate_t = eqEulerLagrange_v.integrate(t,algorithm=\"fricas\")\n",
    "disp(eqEulerLagrange_v_integrate_t)"
   ]
  },
  {
   "cell_type": "code",
   "execution_count": 6,
   "id": "c78c819f",
   "metadata": {},
   "outputs": [
    {
     "data": {
      "text/latex": [
       "$\\displaystyle {\\left(\\alpha x\\left(t\\right) + m\\right)} v$"
      ],
      "text/plain": [
       "<IPython.core.display.Math object>"
      ]
     },
     "metadata": {},
     "output_type": "display_data"
    }
   ],
   "source": [
    "disp(eqEulerLagrange_v_integrate_t.subs(x.diff(t) == v))"
   ]
  },
  {
   "cell_type": "code",
   "execution_count": 7,
   "id": "6422faae",
   "metadata": {},
   "outputs": [
    {
     "data": {
      "text/latex": [
       "$\\displaystyle \\frac{1}{2} \\, \\alpha v^{2} x\\left(t\\right) + \\frac{1}{2} \\, m v^{2}$"
      ],
      "text/plain": [
       "<IPython.core.display.Math object>"
      ]
     },
     "metadata": {},
     "output_type": "display_data"
    }
   ],
   "source": [
    "# теперь интегрируем полученный интеграл также и по скорости\n",
    "eqEulerLagrange_v_integrate_t_v = \\\n",
    "eqEulerLagrange_v_integrate_t.subs(x.diff(t) == v).integrate(v,algorithm=\"fricas\")\n",
    "disp(eqEulerLagrange_v_integrate_t_v)"
   ]
  },
  {
   "cell_type": "code",
   "execution_count": 8,
   "id": "938dbcdb",
   "metadata": {},
   "outputs": [
    {
     "data": {
      "text/latex": [
       "$\\displaystyle 3 \\, \\beta x^{2} + \\alpha x \\frac{\\partial^{2}}{(\\partial t)^{2}}x\\left(t\\right)$"
      ],
      "text/plain": [
       "<IPython.core.display.Math object>"
      ]
     },
     "metadata": {},
     "output_type": "display_data"
    }
   ],
   "source": [
    "# возьмем слагаемые уравнения Эйлера-Лагранжа, зависящие от координаты\n",
    "eqEulerLagrange_x = 3 * beta*X^2 + alpha * X * x.diff(t,2)\n",
    "disp(eqEulerLagrange_x)"
   ]
  },
  {
   "cell_type": "code",
   "execution_count": 9,
   "id": "3e738da2",
   "metadata": {},
   "outputs": [
    {
     "data": {
      "text/latex": [
       "$\\displaystyle \\beta x^{3} + \\frac{1}{2} \\, \\alpha x^{2} \\frac{\\partial^{2}}{(\\partial t)^{2}}x\\left(t\\right)$"
      ],
      "text/plain": [
       "<IPython.core.display.Math object>"
      ]
     },
     "metadata": {},
     "output_type": "display_data"
    }
   ],
   "source": [
    "# интегрируем по координате все слагаемые уравнения Эйлера-Лагранжа,\n",
    "# зависящие от координаты\n",
    "eqEulerLagrange_x_integrate_x = eqEulerLagrange_x.integrate(X)\n",
    "disp(eqEulerLagrange_x_integrate_x)"
   ]
  },
  {
   "cell_type": "code",
   "execution_count": 10,
   "id": "3fceaa6e",
   "metadata": {},
   "outputs": [
    {
     "data": {
      "text/latex": [
       "$\\displaystyle -\\beta x\\left(t\\right)^{3} + \\frac{1}{2} \\, \\alpha x\\left(t\\right) \\frac{\\partial}{\\partial t}x\\left(t\\right)^{2} + \\frac{1}{2} \\, m \\frac{\\partial}{\\partial t}x\\left(t\\right)^{2}$"
      ],
      "text/plain": [
       "<IPython.core.display.Math object>"
      ]
     },
     "metadata": {},
     "output_type": "display_data"
    }
   ],
   "source": [
    "L_test = eqEulerLagrange_v_integrate_t_v - eqEulerLagrange_x_integrate_x.operands()[0]\n",
    "L_test = L_test.subs(v == x.diff(t), X == x)\n",
    "disp(L_test)"
   ]
  },
  {
   "cell_type": "code",
   "execution_count": 15,
   "id": "757dc188",
   "metadata": {},
   "outputs": [],
   "source": [
    "def EulerLagrengeEquation(L):\n",
    "    displ(\"L = \" + latex(L))\n",
    "\n",
    "    # в Лагранжиане производим замену производных обобщенных координат на v\n",
    "    # Найдем обобщенные импульсы\n",
    "    P1 = L.subs(x.diff(t) == v).diff(v).subs(v == x.diff(t))\n",
    "    displ(\"P = \" + latex(P1))\n",
    "\n",
    "    # Найдем обобщенные силы\n",
    "    F1 = L.subs(x == X).diff(X).subs(X == x).subs(v == x.diff(t))\n",
    "    displ(\"F = \" + latex(F1))\n",
    "\n",
    "    displ(\"\\\\frac{d}{dt}P = \" + latex(P1.diff(t)))\n",
    "\n",
    "    # Запишем уравнения Эйлера-Лагранжа\n",
    "    de1 = P1.diff(t) - F1 == 0\n",
    "    disp(de1.full_simplify())"
   ]
  },
  {
   "cell_type": "code",
   "execution_count": 16,
   "id": "8fa6dcf7",
   "metadata": {},
   "outputs": [
    {
     "data": {
      "text/latex": [
       "$\\displaystyle L = -\\beta x\\left(t\\right)^{3} + \\frac{1}{2} \\, \\alpha x\\left(t\\right) \\frac{\\partial}{\\partial t}x\\left(t\\right)^{2} + \\frac{1}{2} \\, m \\frac{\\partial}{\\partial t}x\\left(t\\right)^{2}$"
      ],
      "text/plain": [
       "<IPython.core.display.Math object>"
      ]
     },
     "metadata": {},
     "output_type": "display_data"
    },
    {
     "data": {
      "text/latex": [
       "$\\displaystyle P = \\alpha x\\left(t\\right) \\frac{\\partial}{\\partial t}x\\left(t\\right) + m \\frac{\\partial}{\\partial t}x\\left(t\\right)$"
      ],
      "text/plain": [
       "<IPython.core.display.Math object>"
      ]
     },
     "metadata": {},
     "output_type": "display_data"
    },
    {
     "data": {
      "text/latex": [
       "$\\displaystyle F = -3 \\, \\beta x\\left(t\\right)^{2} + \\frac{1}{2} \\, \\alpha \\frac{\\partial}{\\partial t}x\\left(t\\right)^{2}$"
      ],
      "text/plain": [
       "<IPython.core.display.Math object>"
      ]
     },
     "metadata": {},
     "output_type": "display_data"
    },
    {
     "data": {
      "text/latex": [
       "$\\displaystyle \\frac{d}{dt}P = \\alpha \\frac{\\partial}{\\partial t}x\\left(t\\right)^{2} + \\alpha x\\left(t\\right) \\frac{\\partial^{2}}{(\\partial t)^{2}}x\\left(t\\right) + m \\frac{\\partial^{2}}{(\\partial t)^{2}}x\\left(t\\right)$"
      ],
      "text/plain": [
       "<IPython.core.display.Math object>"
      ]
     },
     "metadata": {},
     "output_type": "display_data"
    },
    {
     "data": {
      "text/latex": [
       "$\\displaystyle 3 \\, \\beta x\\left(t\\right)^{2} + \\frac{1}{2} \\, \\alpha \\frac{\\partial}{\\partial t}x\\left(t\\right)^{2} + {\\left(\\alpha x\\left(t\\right) + m\\right)} \\frac{\\partial^{2}}{(\\partial t)^{2}}x\\left(t\\right) = 0$"
      ],
      "text/plain": [
       "<IPython.core.display.Math object>"
      ]
     },
     "metadata": {},
     "output_type": "display_data"
    }
   ],
   "source": [
    "EulerLagrengeEquation(L_test)"
   ]
  },
  {
   "cell_type": "markdown",
   "id": "4f15fb6b",
   "metadata": {},
   "source": [
    "$\\left(m+\\alpha x\\right)\\, \\ddot{x}+\\alpha\\,\\dot{x}^2+3\\,\\beta\\,x^2 = 0$"
   ]
  },
  {
   "cell_type": "code",
   "execution_count": 17,
   "id": "59aae0d7",
   "metadata": {},
   "outputs": [
    {
     "data": {
      "text/latex": [
       "$\\displaystyle -\\beta x^{3} + \\frac{1}{2} \\, \\alpha v^{2} x\\left(t\\right) - \\frac{1}{2} \\, \\alpha x^{2} \\frac{\\partial^{2}}{(\\partial t)^{2}}x\\left(t\\right) + \\frac{1}{2} \\, m v^{2}$"
      ],
      "text/plain": [
       "<IPython.core.display.Math object>"
      ]
     },
     "metadata": {},
     "output_type": "display_data"
    }
   ],
   "source": [
    "L_test2 = eqEulerLagrange_v_integrate_t_v.operands()[0] \\\n",
    "        + eqEulerLagrange_v_integrate_t_v.operands()[1] \\\n",
    "        - eqEulerLagrange_x_integrate_x\n",
    "disp(L_test2)"
   ]
  },
  {
   "cell_type": "code",
   "execution_count": 18,
   "id": "d3ffed44",
   "metadata": {},
   "outputs": [
    {
     "data": {
      "text/latex": [
       "$\\displaystyle L = -\\beta x^{3} + \\frac{1}{2} \\, \\alpha v^{2} x\\left(t\\right) - \\frac{1}{2} \\, \\alpha x^{2} \\frac{\\partial^{2}}{(\\partial t)^{2}}x\\left(t\\right) + \\frac{1}{2} \\, m v^{2}$"
      ],
      "text/plain": [
       "<IPython.core.display.Math object>"
      ]
     },
     "metadata": {},
     "output_type": "display_data"
    },
    {
     "data": {
      "text/latex": [
       "$\\displaystyle P = \\alpha x\\left(t\\right) \\frac{\\partial}{\\partial t}x\\left(t\\right) + m \\frac{\\partial}{\\partial t}x\\left(t\\right)$"
      ],
      "text/plain": [
       "<IPython.core.display.Math object>"
      ]
     },
     "metadata": {},
     "output_type": "display_data"
    },
    {
     "data": {
      "text/latex": [
       "$\\displaystyle F = -3 \\, \\beta x\\left(t\\right)^{2} + \\frac{1}{2} \\, \\alpha \\frac{\\partial}{\\partial t}x\\left(t\\right)^{2} - \\alpha x\\left(t\\right) \\frac{\\partial^{2}}{(\\partial t)^{2}}x\\left(t\\right)$"
      ],
      "text/plain": [
       "<IPython.core.display.Math object>"
      ]
     },
     "metadata": {},
     "output_type": "display_data"
    },
    {
     "data": {
      "text/latex": [
       "$\\displaystyle \\frac{d}{dt}P = \\alpha \\frac{\\partial}{\\partial t}x\\left(t\\right)^{2} + \\alpha x\\left(t\\right) \\frac{\\partial^{2}}{(\\partial t)^{2}}x\\left(t\\right) + m \\frac{\\partial^{2}}{(\\partial t)^{2}}x\\left(t\\right)$"
      ],
      "text/plain": [
       "<IPython.core.display.Math object>"
      ]
     },
     "metadata": {},
     "output_type": "display_data"
    },
    {
     "data": {
      "text/latex": [
       "$\\displaystyle 3 \\, \\beta x\\left(t\\right)^{2} + \\frac{1}{2} \\, \\alpha \\frac{\\partial}{\\partial t}x\\left(t\\right)^{2} + {\\left(2 \\, \\alpha x\\left(t\\right) + m\\right)} \\frac{\\partial^{2}}{(\\partial t)^{2}}x\\left(t\\right) = 0$"
      ],
      "text/plain": [
       "<IPython.core.display.Math object>"
      ]
     },
     "metadata": {},
     "output_type": "display_data"
    }
   ],
   "source": [
    "EulerLagrengeEquation(L_test2)"
   ]
  },
  {
   "cell_type": "markdown",
   "id": "848ebe9b",
   "metadata": {},
   "source": [
    "$\\left(m+\\alpha x\\right)\\, \\ddot{x}+\\alpha\\,\\dot{x}^2+3\\,\\beta\\,x^2 = 0$"
   ]
  },
  {
   "cell_type": "code",
   "execution_count": null,
   "id": "ad336d54",
   "metadata": {},
   "outputs": [],
   "source": []
  }
 ],
 "metadata": {
  "kernelspec": {
   "display_name": "SageMath 9.6.beta7",
   "language": "sage",
   "name": "sagemath"
  },
  "language_info": {
   "codemirror_mode": {
    "name": "ipython",
    "version": 3
   },
   "file_extension": ".py",
   "mimetype": "text/x-python",
   "name": "python",
   "nbconvert_exporter": "python",
   "pygments_lexer": "ipython3",
   "version": "3.10.3"
  }
 },
 "nbformat": 4,
 "nbformat_minor": 5
}

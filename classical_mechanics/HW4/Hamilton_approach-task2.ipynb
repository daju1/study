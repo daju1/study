{
 "cells": [
  {
   "cell_type": "markdown",
   "id": "bac8d8a9",
   "metadata": {},
   "source": [
    "1. Знайдіть функцію Лагранжа системи, для якої функція Гамільтона має вигляд\n",
    "\n",
    "$$H = x^2 p_x^2 - F x - \\alpha x^2$$\n",
    "\n",
    "Напишіть рівняння Ейлера-Лагранжа і Гамільтона, впевніться в їх еквівалентності."
   ]
  },
  {
   "cell_type": "code",
   "execution_count": 1,
   "id": "07e40f2e",
   "metadata": {},
   "outputs": [],
   "source": [
    "from IPython.display import display, Math, Latex\n",
    "\n",
    "def disp(ex):\n",
    "    display(Math(latex(ex)))\n",
    "\n",
    "def displ(tex):\n",
    "    display(Math(tex))"
   ]
  },
  {
   "cell_type": "code",
   "execution_count": 2,
   "id": "f767274b",
   "metadata": {},
   "outputs": [],
   "source": [
    "# Объявление переменных и функций\n",
    "\n",
    "t = var(\"t\")\n",
    "\n",
    "V = var(\"v\")\n",
    "v = function(\"v\")(t)\n",
    "\n",
    "X = var(\"x\")\n",
    "x = function(\"x\")(t)\n",
    "\n",
    "P = var(\"p\")\n",
    "p = function(\"p\")(t)\n",
    "\n",
    "alpha = var(\"alpha\")\n",
    "F = var(\"F\")"
   ]
  },
  {
   "cell_type": "code",
   "execution_count": 3,
   "id": "6714061d",
   "metadata": {},
   "outputs": [],
   "source": [
    "# Объявление переменных - обобщенные импульсы\n",
    "\n",
    "p_x = var(\"p_x\")"
   ]
  },
  {
   "cell_type": "code",
   "execution_count": 4,
   "id": "c54f2192",
   "metadata": {},
   "outputs": [
    {
     "data": {
      "text/latex": [
       "$\\displaystyle H = p_{x}^{2} x\\left(t\\right)^{2} - \\alpha x\\left(t\\right)^{2} - F x\\left(t\\right)$"
      ],
      "text/plain": [
       "<IPython.core.display.Math object>"
      ]
     },
     "metadata": {},
     "output_type": "display_data"
    }
   ],
   "source": [
    "H = x^2 * p_x^2 - F * x - alpha * x^2\n",
    "displ(\"H = \" + latex(H))"
   ]
  },
  {
   "cell_type": "markdown",
   "id": "272b9841",
   "metadata": {},
   "source": [
    "Записываем уравнения Гамильтона\n",
    "\n",
    "$\\dot{p}_i = - \\frac{\\partial H}{\\partial x_i}$\n",
    "\n",
    "$\\dot{x}_i = \\frac{\\partial H}{\\partial p_i}$"
   ]
  },
  {
   "cell_type": "code",
   "execution_count": 5,
   "id": "89af2349",
   "metadata": {},
   "outputs": [],
   "source": [
    "dot_px = - H.subs(x == X).diff(X)\n",
    "dot_x = H.diff(p_x).subs(x == X)"
   ]
  },
  {
   "cell_type": "code",
   "execution_count": 6,
   "id": "ee4e5f85",
   "metadata": {
    "scrolled": true
   },
   "outputs": [
    {
     "data": {
      "text/latex": [
       "$\\displaystyle \\dot{p}_x = -2 \\, p_{x}^{2} x + 2 \\, \\alpha x + F$"
      ],
      "text/plain": [
       "<IPython.core.display.Math object>"
      ]
     },
     "metadata": {},
     "output_type": "display_data"
    }
   ],
   "source": [
    "displ(\"\\\\dot{p}_x =\" + latex(dot_px))"
   ]
  },
  {
   "cell_type": "code",
   "execution_count": 7,
   "id": "1e7ebe73",
   "metadata": {
    "scrolled": true
   },
   "outputs": [
    {
     "data": {
      "text/latex": [
       "$\\displaystyle \\dot{x} = 2 \\, p_{x} x^{2}$"
      ],
      "text/plain": [
       "<IPython.core.display.Math object>"
      ]
     },
     "metadata": {},
     "output_type": "display_data"
    }
   ],
   "source": [
    "displ(\"\\\\dot{x} =\" + latex(dot_x))"
   ]
  },
  {
   "cell_type": "code",
   "execution_count": 8,
   "id": "2c20f4b5",
   "metadata": {},
   "outputs": [
    {
     "data": {
      "text/latex": [
       "$\\displaystyle v = 2 \\, p_{x} x^{2}$"
      ],
      "text/plain": [
       "<IPython.core.display.Math object>"
      ]
     },
     "metadata": {},
     "output_type": "display_data"
    }
   ],
   "source": [
    "eq_dot_x = V == dot_x\n",
    "disp(eq_dot_x)"
   ]
  },
  {
   "cell_type": "code",
   "execution_count": 9,
   "id": "9143c78a",
   "metadata": {},
   "outputs": [
    {
     "data": {
      "text/latex": [
       "$\\displaystyle \\left[p_{x} = \\frac{v}{2 \\, x^{2}}\\right]$"
      ],
      "text/plain": [
       "<IPython.core.display.Math object>"
      ]
     },
     "metadata": {},
     "output_type": "display_data"
    }
   ],
   "source": [
    "px_sol = solve(eq_dot_x, p_x)\n",
    "disp(px_sol)"
   ]
  },
  {
   "cell_type": "markdown",
   "id": "35ad1c09",
   "metadata": {},
   "source": [
    "Выразим энергию через Гамильтониан"
   ]
  },
  {
   "cell_type": "code",
   "execution_count": 10,
   "id": "83662564",
   "metadata": {},
   "outputs": [
    {
     "data": {
      "text/latex": [
       "$\\displaystyle p_{x}^{2} x\\left(t\\right)^{2} - \\alpha x\\left(t\\right)^{2} - F x\\left(t\\right)$"
      ],
      "text/plain": [
       "<IPython.core.display.Math object>"
      ]
     },
     "metadata": {},
     "output_type": "display_data"
    },
    {
     "data": {
      "text/latex": [
       "$\\displaystyle -\\alpha x\\left(t\\right)^{2} - F x\\left(t\\right) + \\frac{v\\left(t\\right)^{2} x\\left(t\\right)^{2}}{4 \\, x^{4}}$"
      ],
      "text/plain": [
       "<IPython.core.display.Math object>"
      ]
     },
     "metadata": {},
     "output_type": "display_data"
    }
   ],
   "source": [
    "E = H.subs(px_sol).subs(V == v)\n",
    "disp(H)\n",
    "disp(E)"
   ]
  },
  {
   "cell_type": "markdown",
   "id": "5ba50f94",
   "metadata": {},
   "source": [
    "Выразим Лагранжиан через энергию \n",
    "\n",
    "$L = \\Sigma_{i}^{} \\frac {\\partial L}{\\partial \\dot{q}_i} \\frac {q_i}{dt} - E$"
   ]
  },
  {
   "cell_type": "code",
   "execution_count": 11,
   "id": "6d1e80ae",
   "metadata": {},
   "outputs": [
    {
     "data": {
      "text/latex": [
       "$\\displaystyle \\alpha x\\left(t\\right)^{2} + F x\\left(t\\right) + \\frac{v\\left(t\\right)^{2}}{2 \\, x^{2}} - \\frac{v\\left(t\\right)^{2} x\\left(t\\right)^{2}}{4 \\, x^{4}}$"
      ],
      "text/plain": [
       "<IPython.core.display.Math object>"
      ]
     },
     "metadata": {},
     "output_type": "display_data"
    }
   ],
   "source": [
    "L = (px_sol[0].rhs() * v - E).subs(V == v)\n",
    "disp (L)"
   ]
  },
  {
   "cell_type": "markdown",
   "id": "2dcbd5fe",
   "metadata": {},
   "source": [
    "# Интегрирование уравнений Гамильтона"
   ]
  },
  {
   "cell_type": "code",
   "execution_count": 12,
   "id": "2f765687",
   "metadata": {},
   "outputs": [
    {
     "data": {
      "text/latex": [
       "$\\displaystyle \\left[-2 \\, p_{x}^{2} x + 2 \\, \\alpha x + F, 2 \\, p_{x} x^{2}\\right]$"
      ],
      "text/plain": [
       "<IPython.core.display.Math object>"
      ]
     },
     "metadata": {},
     "output_type": "display_data"
    }
   ],
   "source": [
    "# полученные уравнения Гамильтона обьединяем в систему из 2 уравнений\n",
    "des = [dot_px, dot_x]\n",
    "disp(des)"
   ]
  },
  {
   "cell_type": "code",
   "execution_count": 13,
   "id": "d2a31f5a",
   "metadata": {},
   "outputs": [
    {
     "data": {
      "text/plain": [
       "[F == 0.0100000000000000, alpha == 0.0100000000000000]"
      ]
     },
     "execution_count": 13,
     "metadata": {},
     "output_type": "execute_result"
    }
   ],
   "source": [
    "values1 = [F == 0.01, alpha == 0.01]\n",
    "values1"
   ]
  },
  {
   "cell_type": "code",
   "execution_count": 14,
   "id": "476ed590",
   "metadata": {},
   "outputs": [
    {
     "data": {
      "text/latex": [
       "$\\displaystyle \\left[-2 \\, p_{x}^{2} x + 0.0200000000000000 \\, x + 0.0100000000000000, 2 \\, p_{x} x^{2}\\right]$"
      ],
      "text/plain": [
       "<IPython.core.display.Math object>"
      ]
     },
     "metadata": {},
     "output_type": "display_data"
    }
   ],
   "source": [
    "# в которой делаем подстановку численных значений\n",
    "f1 = [de_i.subs(values1) for de_i in des]\n",
    "disp(f1)"
   ]
  },
  {
   "cell_type": "code",
   "execution_count": 15,
   "id": "96e19ba2",
   "metadata": {},
   "outputs": [],
   "source": [
    "# Solve numerically a system of first-order ordinary differential equations\n",
    "# using odeint from scipy.integrate module.\n",
    "\n",
    "# des – right hand sides of the system\n",
    "# ics – initial conditions\n",
    "# times – a sequence of time points in which the solution must be found\n",
    "# dvars – dependent variables. ATTENTION: the order must be the same as in des, that means: d(dvars[i])/dt=des[i]\n",
    "# ivar – independent variable, optional.\n",
    "\n",
    "times1 = srange(0, 0.425, 0.000001)\n",
    "\n",
    "p0 = 0\n",
    "x0 = 0.01\n",
    "\n",
    "sol1 = desolve_odeint(des=f1, ics=[p0,x0], times=times1, dvars=[p_x, X], ivar=t)"
   ]
  },
  {
   "cell_type": "markdown",
   "id": "2b355a9a",
   "metadata": {},
   "source": [
    "# Построение фазовых диаграмм ($p(x)$)"
   ]
  },
  {
   "cell_type": "code",
   "execution_count": 16,
   "id": "b9488b21",
   "metadata": {},
   "outputs": [
    {
     "data": {
      "image/png": "[encoded data removed]",
      "text/plain": [
       "Graphics object consisting of 1 graphics primitive"
      ]
     },
     "metadata": {},
     "output_type": "display_data"
    }
   ],
   "source": [
    "p = line(zip(sol1[:,1],sol1[:,0]), axes_labels=['$x$','$p_x$',])\n",
    "p.show()"
   ]
  },
  {
   "cell_type": "markdown",
   "id": "5d51ab2d",
   "metadata": {},
   "source": [
    "# Построение зависимости обобщённых координат и импульсов от времени"
   ]
  },
  {
   "cell_type": "code",
   "execution_count": 17,
   "id": "e322006d",
   "metadata": {},
   "outputs": [
    {
     "data": {
      "image/png": "[encoded data removed]",
      "text/plain": [
       "Graphics object consisting of 1 graphics primitive"
      ]
     },
     "metadata": {},
     "output_type": "display_data"
    }
   ],
   "source": [
    "p = line(zip(times1,sol1[:,0]))\n",
    "p.show(title=\"$p_1$\")"
   ]
  },
  {
   "cell_type": "code",
   "execution_count": 18,
   "id": "1d248c0f",
   "metadata": {},
   "outputs": [
    {
     "data": {
      "image/png": "[encoded data removed]",
      "text/plain": [
       "Graphics object consisting of 1 graphics primitive"
      ]
     },
     "metadata": {},
     "output_type": "display_data"
    }
   ],
   "source": [
    "p = line(zip(times1,sol1[:,1]))\n",
    "p.show(title=\"$x_1$\")"
   ]
  }
 ],
 "metadata": {
  "kernelspec": {
   "display_name": "SageMath 9.6.beta7",
   "language": "sage",
   "name": "sagemath"
  },
  "language_info": {
   "codemirror_mode": {
    "name": "ipython",
    "version": 3
   },
   "file_extension": ".py",
   "mimetype": "text/x-python",
   "name": "python",
   "nbconvert_exporter": "python",
   "pygments_lexer": "ipython3",
   "version": "3.10.3"
  }
 },
 "nbformat": 4,
 "nbformat_minor": 5
}

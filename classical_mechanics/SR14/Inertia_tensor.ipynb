{
 "cells": [
  {
   "attachments": {
    "image.png": {
     "image/png": "[encoded data removed]"
    }
   },
   "cell_type": "markdown",
   "id": "1c09b0f6",
   "metadata": {},
   "source": [
    "![image.png](attachment:image.png)"
   ]
  },
  {
   "cell_type": "code",
   "execution_count": 1,
   "id": "c684aa69",
   "metadata": {},
   "outputs": [],
   "source": [
    "phi = var(\"phi\")\n",
    "m = var(\"m\")"
   ]
  },
  {
   "cell_type": "code",
   "execution_count": 2,
   "id": "5b8c63ef",
   "metadata": {},
   "outputs": [],
   "source": [
    "N = 3\n",
    "mi = [m, 2*m, 4*m]\n",
    "xi = [1, 0, 0]\n",
    "yi = [0, 1, 0]\n",
    "zi = [0, 0, 0]"
   ]
  },
  {
   "cell_type": "markdown",
   "id": "36a07727",
   "metadata": {},
   "source": [
    "Тензор інерції записуються у вигляді матриці"
   ]
  },
  {
   "cell_type": "markdown",
   "id": "505aa08f",
   "metadata": {},
   "source": [
    "$$J=\\left[\\begin{array}{c}\n",
    "    J_{xx} & J_{xy} & J_{xz}\\\\\n",
    "    J_{yx} & J_{yy} & J_{yz}\\\\\n",
    "    J_{zx} & J_{zy} & J_{zz}\\\\\n",
    "\\end{array}\\right]$$"
   ]
  },
  {
   "cell_type": "markdown",
   "id": "33b6f198",
   "metadata": {},
   "source": [
    "де\n",
    "\n",
    "$$J_{xx} = \\iiint\\limits_{V}^{}(y^2+z^2)\\,\\rho(x,y,z) \\, dx dy dz$$\n",
    "\n",
    "$$J_{xy} = \\iiint\\limits_{V}^{}x y\\,\\rho(x,y,z) \\, dx dy dz$$"
   ]
  },
  {
   "cell_type": "markdown",
   "id": "5ef513d1",
   "metadata": {},
   "source": [
    "де\n",
    "\n",
    "$$J_{xx} = \\sum\\limits_{i}^{}\\left(y_i^2+z_i^2\\right)\\,m_i $$\n",
    "\n",
    "$$J_{xy} = \\sum\\limits_{i}^{}x_i y_i\\,m_i$$"
   ]
  },
  {
   "cell_type": "markdown",
   "id": "79e47d63",
   "metadata": {},
   "source": [
    "$$J=\\left[\\begin{array}{c}\n",
    "    \\sum\\limits_{i}^{}\\left(y_i^2+z_i^2\\right)\\,m_i & \\sum\\limits_{i}^{}x_i y_i\\,m_i & \\sum\\limits_{i}^{}x_i z_i\\,m_i\\\\\n",
    "    \\sum\\limits_{i}^{}y_i x_i\\,m_i & \\sum\\limits_{i}^{}\\left(x_i^2+z_i^2\\right)\\,m_i & \\sum\\limits_{i}^{}y_i z_i\\,m_i\\\\\n",
    "    \\sum\\limits_{i}^{}z_i x_i\\,m_i & \\sum\\limits_{i}^{}z_i y_i\\,m_i & \\sum\\limits_{i}^{}\\left(x_i^2+y_i^2\\right)\\\\\n",
    "\\end{array}\\right]$$"
   ]
  },
  {
   "cell_type": "code",
   "execution_count": 3,
   "id": "c0f8b8bf",
   "metadata": {},
   "outputs": [],
   "source": [
    "from IPython.display import display, Math, Latex\n",
    "\n",
    "def disp(ex):\n",
    "    display(Math(latex(ex)))\n",
    "\n",
    "def displ(tex):\n",
    "    display(Math(tex))"
   ]
  },
  {
   "cell_type": "code",
   "execution_count": 4,
   "id": "2f5ee299",
   "metadata": {},
   "outputs": [
    {
     "data": {
      "text/latex": [
       "$\\displaystyle 7 \\, m$"
      ],
      "text/plain": [
       "<IPython.core.display.Math object>"
      ]
     },
     "metadata": {},
     "output_type": "display_data"
    }
   ],
   "source": [
    "sum_m = sum([mi[i] for i in range(N)])\n",
    "disp(sum_m)"
   ]
  },
  {
   "cell_type": "code",
   "execution_count": 5,
   "id": "468656ff",
   "metadata": {},
   "outputs": [
    {
     "data": {
      "text/latex": [
       "$\\displaystyle \\left[\\frac{1}{7}, \\frac{2}{7}, 0\\right]$"
      ],
      "text/plain": [
       "<IPython.core.display.Math object>"
      ]
     },
     "metadata": {},
     "output_type": "display_data"
    }
   ],
   "source": [
    "xc = sum([mi[i]*xi[i] for i in range(N)])/sum_m\n",
    "yc = sum([mi[i]*yi[i] for i in range(N)])/sum_m\n",
    "zc = sum([mi[i]*zi[i] for i in range(N)])/sum_m\n",
    "disp([xc,yc,zc])"
   ]
  },
  {
   "cell_type": "code",
   "execution_count": 6,
   "id": "9249305e",
   "metadata": {},
   "outputs": [],
   "source": [
    "x1i = [xi[i] - xc for i in range(N)]\n",
    "y1i = [yi[i] - yc for i in range(N)]\n",
    "z1i = [zi[i] - zc for i in range(N)]"
   ]
  },
  {
   "cell_type": "code",
   "execution_count": 7,
   "id": "cb97927e",
   "metadata": {},
   "outputs": [
    {
     "data": {
      "text/latex": [
       "$\\displaystyle \\left[\\left[\\frac{6}{7}, -\\frac{1}{7}, -\\frac{1}{7}\\right], \\left[-\\frac{2}{7}, \\frac{5}{7}, -\\frac{2}{7}\\right]\\right]$"
      ],
      "text/plain": [
       "<IPython.core.display.Math object>"
      ]
     },
     "metadata": {},
     "output_type": "display_data"
    }
   ],
   "source": [
    "disp([x1i, y1i])"
   ]
  },
  {
   "cell_type": "code",
   "execution_count": 8,
   "id": "06bb5231",
   "metadata": {},
   "outputs": [],
   "source": [
    "Jxx = sum([mi[i]*(y1i[i]^2+z1i[i]^2) for i in range(N)])\n",
    "Jyy = sum([mi[i]*(x1i[i]^2+z1i[i]^2) for i in range(N)])\n",
    "Jzz = sum([mi[i]*(x1i[i]^2+y1i[i]^2) for i in range(N)])"
   ]
  },
  {
   "cell_type": "code",
   "execution_count": 9,
   "id": "1124c512",
   "metadata": {},
   "outputs": [],
   "source": [
    "Jxy = sum([mi[i]*(x1i[i]*y1i[i]) for i in range(N)])"
   ]
  },
  {
   "cell_type": "code",
   "execution_count": 10,
   "id": "45eed191",
   "metadata": {},
   "outputs": [
    {
     "data": {
      "text/latex": [
       "$\\displaystyle \\left(\\begin{array}{rrr}\n",
       "\\frac{10}{7} \\, m & -\\frac{2}{7} \\, m & 0 \\\\\n",
       "-\\frac{2}{7} \\, m & \\frac{6}{7} \\, m & 0 \\\\\n",
       "0 & 0 & \\frac{16}{7} \\, m\n",
       "\\end{array}\\right)$"
      ],
      "text/plain": [
       "<IPython.core.display.Math object>"
      ]
     },
     "metadata": {},
     "output_type": "display_data"
    }
   ],
   "source": [
    "J=matrix(SR,[[Jxx,Jxy,0],[Jxy,Jyy,0],[0,0,Jzz]])\n",
    "disp(J)"
   ]
  },
  {
   "cell_type": "markdown",
   "id": "d526a6b2",
   "metadata": {},
   "source": [
    "$x'' = x'cos(\\varphi)+y'sin(\\varphi)$\n",
    "\n",
    "$y'' = y'cos(\\varphi)-x'sin(\\varphi)$"
   ]
  },
  {
   "cell_type": "code",
   "execution_count": 18,
   "id": "05d55140",
   "metadata": {},
   "outputs": [],
   "source": [
    "x, y = var(\"x,y\")\n",
    "x2 = x*cos(phi) + y*sin(phi)\n",
    "y2 = y*cos(phi) - x*sin(phi)"
   ]
  },
  {
   "cell_type": "markdown",
   "id": "04df4f4b",
   "metadata": {},
   "source": [
    "$$J''=\\left[\\begin{array}{c}\n",
    "    \\sum\\limits_{i}^{}\\left(y_i''^2+z_i''^2\\right)\\,m_i & \\sum\\limits_{i}^{}x_i'' y_i''\\,m_i & \\sum\\limits_{i}^{}x_i'' z_i''\\,m_i\\\\\n",
    "    \\sum\\limits_{i}^{}y_i'' x_i''\\,m_i & \\sum\\limits_{i}^{}\\left(x_i''^2+z_i''^2\\right)\\,m_i & \\sum\\limits_{i}^{}y_i'' z_i''\\,m_i\\\\\n",
    "    \\sum\\limits_{i}^{}z_i'' x_i''\\,m_i & \\sum\\limits_{i}^{}z_i'' y_i''\\,m_i & \\sum\\limits_{i}^{}\\left(x_i''^2+y_i''^2\\right)\\\\\n",
    "\\end{array}\\right]$$"
   ]
  },
  {
   "cell_type": "markdown",
   "id": "7f48a1ce",
   "metadata": {},
   "source": [
    "$$J''_{xx} = \\sum\\limits_{i}^{}\\left(y_i''^2+z_i''^2\\right)\\,m_i $$\n",
    "\n",
    "$$J''_{yy} = \\sum\\limits_{i}^{}\\left(x_i''^2+z_i''^2\\right)\\,m_i $$\n",
    "\n",
    "$$J''_{zz} = \\sum\\limits_{i}^{}\\left(x_i''^2+y_i''^2\\right)\\,m_i $$\n",
    "\n",
    "$$J''_{xy} = \\sum\\limits_{i}^{}x_i'' y_i''\\,m_i$$"
   ]
  },
  {
   "cell_type": "markdown",
   "id": "2e42a19e",
   "metadata": {},
   "source": [
    "$$J''_{xx} = \\sum\\limits_{i}^{}\\left((y'cos(\\varphi)-x'sin(\\varphi))^2+z_i^2\\right)\\,m_i $$"
   ]
  },
  {
   "cell_type": "markdown",
   "id": "c08d02e4",
   "metadata": {},
   "source": [
    "$$J''_{xx} = \\sum\\limits_{i}^{}\\left(y'^2 cos(\\varphi)^2-2\\,y'x'cos(\\varphi)sin(\\varphi)+x'^2\\,sin(\\varphi)^2+z_i^2\\right)\\,m_i $$"
   ]
  },
  {
   "cell_type": "markdown",
   "id": "973c16ef",
   "metadata": {},
   "source": [
    "$$J''_{xx} = \\sum\\limits_{i}^{}\\left(y'^2 cos(\\varphi)^2-2\\,y'x'cos(\\varphi)sin(\\varphi)+x'^2\\,sin(\\varphi)^2+z_i^2\\right)\\,m_i $$"
   ]
  },
  {
   "cell_type": "code",
   "execution_count": 43,
   "id": "0052dc18",
   "metadata": {},
   "outputs": [
    {
     "data": {
      "text/latex": [
       "$\\displaystyle y^{2} \\cos\\left(\\phi\\right)^{2} - 2 \\, x y \\cos\\left(\\phi\\right) \\sin\\left(\\phi\\right) + x^{2} \\sin\\left(\\phi\\right)^{2}$"
      ],
      "text/plain": [
       "<IPython.core.display.Math object>"
      ]
     },
     "metadata": {},
     "output_type": "display_data"
    }
   ],
   "source": [
    "disp((y2*y2).expand())"
   ]
  },
  {
   "cell_type": "markdown",
   "id": "f34081a4",
   "metadata": {},
   "source": [
    "$$z=0$$\n",
    "\n",
    "$$J''_{xx} = J'_{xx} cos(\\varphi)^2-2\\,J'_{yx}cos(\\varphi)sin(\\varphi)+J'_{yy}\\,sin(\\varphi)^2$$"
   ]
  },
  {
   "cell_type": "code",
   "execution_count": null,
   "id": "5289fff1",
   "metadata": {},
   "outputs": [],
   "source": []
  },
  {
   "cell_type": "markdown",
   "id": "fe0550f0",
   "metadata": {},
   "source": [
    "$$J''_{yy} = \\sum\\limits_{i}^{}\\left(x_i''^2+z_i''^2\\right)\\,m_i $$"
   ]
  },
  {
   "cell_type": "markdown",
   "id": "afbe5d4b",
   "metadata": {},
   "source": [
    "$$J''_{yy} = \\sum\\limits_{i}^{}\\left((x'cos(\\varphi)+y'sin(\\varphi))^2+z_i''^2\\right)\\,m_i $$"
   ]
  },
  {
   "cell_type": "markdown",
   "id": "db934904",
   "metadata": {},
   "source": [
    "$$J''_{yy} = \\sum\\limits_{i}^{}\\left(x'^2\\,cos(\\varphi)^2+2\\,x'y'cos(\\varphi)sin(\\varphi)+y'^2\\,sin(\\varphi)^2+z_i''^2\\right)\\,m_i $$"
   ]
  },
  {
   "cell_type": "code",
   "execution_count": 42,
   "id": "4fd57358",
   "metadata": {},
   "outputs": [
    {
     "data": {
      "text/latex": [
       "$\\displaystyle x^{2} \\cos\\left(\\phi\\right)^{2} + 2 \\, x y \\cos\\left(\\phi\\right) \\sin\\left(\\phi\\right) + y^{2} \\sin\\left(\\phi\\right)^{2}$"
      ],
      "text/plain": [
       "<IPython.core.display.Math object>"
      ]
     },
     "metadata": {},
     "output_type": "display_data"
    }
   ],
   "source": [
    "disp((x2*x2).expand())"
   ]
  },
  {
   "cell_type": "markdown",
   "id": "9cabc93b",
   "metadata": {},
   "source": [
    "$$z=0$$\n",
    "\n",
    "$$J''_{yy} = J'_{yy}\\,cos(\\varphi)^2+2\\,J'_{xy}\\,cos(\\varphi)sin(\\varphi)+J'_{xx}\\,sin(\\varphi)^2 $$"
   ]
  },
  {
   "cell_type": "markdown",
   "id": "0debc93f",
   "metadata": {},
   "source": [
    "$$J''_{xy} = \\sum\\limits_{i}^{}(x'cos(\\varphi)+y'sin(\\varphi)) (y'cos(\\varphi)-x'sin(\\varphi))\\,m_i$$\n",
    "\n",
    "$$J''_{xy} = \\sum\\limits_{i}^{}(x'y'cos(\\varphi)cos(\\varphi)+y'y'sin(\\varphi)cos(\\varphi)-x'x'cos(\\varphi)sin(\\varphi)-y'x'sin(\\varphi)sin(\\varphi)) \\,m_i$$\n",
    "\n",
    "\n",
    "$$J''_{xy} = \\sum\\limits_{i}^{}(x'y'cos(\\varphi)cos(\\varphi)-y'x'sin(\\varphi)sin(\\varphi)-x'x'cos(\\varphi)sin(\\varphi)+y'y'sin(\\varphi)cos(\\varphi)) \\,m_i$$\n",
    "\n",
    "\n",
    "$$J''_{xy} = \\sum\\limits_{i}^{}(x'y'cos(\\varphi)^2-y'x'sin(\\varphi)^2+y'y'sin(\\varphi)cos(\\varphi)-x'x'cos(\\varphi)sin(\\varphi)) \\,m_i$$\n",
    "\n",
    "$$J''_{xy} = \\sum\\limits_{i}^{}(x'y'cos(\\varphi)^2-y'x'sin(\\varphi)^2+(y'y'-x'x')cos(\\varphi)sin(\\varphi)) \\,m_i$$\n",
    "\n",
    "\n",
    "$$J''_{xy} = \\sum\\limits_{i}^{}(x'y'(cos(\\varphi)^2-sin(\\varphi)^2)+(y'^2-x'^2)cos(\\varphi)sin(\\varphi)) \\,m_i$$"
   ]
  },
  {
   "cell_type": "code",
   "execution_count": 22,
   "id": "eaf63dfc",
   "metadata": {},
   "outputs": [
    {
     "data": {
      "text/latex": [
       "$\\displaystyle x y \\cos\\left(\\phi\\right)^{2} - x^{2} \\cos\\left(\\phi\\right) \\sin\\left(\\phi\\right) + y^{2} \\cos\\left(\\phi\\right) \\sin\\left(\\phi\\right) - x y \\sin\\left(\\phi\\right)^{2}$"
      ],
      "text/plain": [
       "<IPython.core.display.Math object>"
      ]
     },
     "metadata": {},
     "output_type": "display_data"
    }
   ],
   "source": [
    "disp((x2*y2).expand())"
   ]
  },
  {
   "cell_type": "markdown",
   "id": "ac541d08",
   "metadata": {},
   "source": [
    "$$J''_{xy} = J'_{xy}(cos(\\varphi)^2-sin(\\varphi)^2)+(J'_{xx}-J'_{yy})cos(\\varphi)sin(\\varphi))$$\n",
    "\n",
    "$$J''_{xy} = 0$$\n",
    "\n",
    "$$0 = J'_{xy}(cos(\\varphi)^2-sin(\\varphi)^2)+(J'_{xx}-J'_{yy})cos(\\varphi)sin(\\varphi))$$"
   ]
  },
  {
   "cell_type": "code",
   "execution_count": 23,
   "id": "7e457fb6",
   "metadata": {},
   "outputs": [
    {
     "data": {
      "text/latex": [
       "$\\displaystyle \\frac{4}{7} \\, m \\cos\\left(\\phi\\right) \\sin\\left(\\phi\\right) - \\frac{2}{7} \\, {\\left(\\cos\\left(\\phi\\right)^{2} - \\sin\\left(\\phi\\right)^{2}\\right)} m = 0$"
      ],
      "text/plain": [
       "<IPython.core.display.Math object>"
      ]
     },
     "metadata": {},
     "output_type": "display_data"
    }
   ],
   "source": [
    "eq = sin(phi)*cos(phi)*(Jxx-Jyy) + (cos(phi)^2 - sin(phi)^2)*(Jxy) == 0\n",
    "disp(eq)"
   ]
  },
  {
   "cell_type": "code",
   "execution_count": 24,
   "id": "6b8d396b",
   "metadata": {},
   "outputs": [
    {
     "data": {
      "text/latex": [
       "$\\displaystyle \\left[\\sin\\left(\\phi\\right) = -{\\left(\\sqrt{2} + 1\\right)} \\cos\\left(\\phi\\right), \\sin\\left(\\phi\\right) = {\\left(\\sqrt{2} - 1\\right)} \\cos\\left(\\phi\\right)\\right]$"
      ],
      "text/plain": [
       "<IPython.core.display.Math object>"
      ]
     },
     "metadata": {},
     "output_type": "display_data"
    }
   ],
   "source": [
    "sol_phi = solve (eq, phi)\n",
    "disp(sol_phi)"
   ]
  },
  {
   "cell_type": "code",
   "execution_count": 29,
   "id": "83f55eec",
   "metadata": {},
   "outputs": [
    {
     "data": {
      "text/latex": [
       "$\\displaystyle \\frac{\\sin\\left(\\phi\\right)}{\\cos\\left(\\phi\\right)} = -\\sqrt{2} - 1$"
      ],
      "text/plain": [
       "<IPython.core.display.Math object>"
      ]
     },
     "metadata": {},
     "output_type": "display_data"
    }
   ],
   "source": [
    "disp(sol_phi[0]/cos(phi))"
   ]
  },
  {
   "cell_type": "code",
   "execution_count": 30,
   "id": "41184165",
   "metadata": {},
   "outputs": [
    {
     "data": {
      "text/latex": [
       "$\\displaystyle \\frac{\\sin\\left(\\phi\\right)}{\\cos\\left(\\phi\\right)} = \\sqrt{2} - 1$"
      ],
      "text/plain": [
       "<IPython.core.display.Math object>"
      ]
     },
     "metadata": {},
     "output_type": "display_data"
    }
   ],
   "source": [
    "disp(sol_phi[1]/cos(phi))"
   ]
  },
  {
   "cell_type": "code",
   "execution_count": 44,
   "id": "8c3fa3d2",
   "metadata": {},
   "outputs": [
    {
     "data": {
      "text/plain": [
       "-arctan(sqrt(2) + 1)"
      ]
     },
     "execution_count": 44,
     "metadata": {},
     "output_type": "execute_result"
    }
   ],
   "source": [
    "sol_phi_0 = (atan((sol_phi[0]/cos(phi)).rhs()))\n",
    "sol_phi_0"
   ]
  },
  {
   "cell_type": "code",
   "execution_count": 45,
   "id": "e9eefc04",
   "metadata": {},
   "outputs": [
    {
     "data": {
      "text/plain": [
       "arctan(sqrt(2) - 1)"
      ]
     },
     "execution_count": 45,
     "metadata": {},
     "output_type": "execute_result"
    }
   ],
   "source": [
    "sol_phi_1 = (atan((sol_phi[1]/cos(phi)).rhs()))\n",
    "sol_phi_1"
   ]
  },
  {
   "cell_type": "code",
   "execution_count": 40,
   "id": "8fdffe83",
   "metadata": {},
   "outputs": [
    {
     "data": {
      "text/plain": [
       "-90.0000000000000"
      ]
     },
     "execution_count": 40,
     "metadata": {},
     "output_type": "execute_result"
    }
   ],
   "source": [
    "sol_phi_0-sol_phi_1"
   ]
  },
  {
   "cell_type": "code",
   "execution_count": null,
   "id": "6ecd9f12",
   "metadata": {},
   "outputs": [],
   "source": []
  },
  {
   "cell_type": "markdown",
   "id": "ac43ab75",
   "metadata": {},
   "source": [
    "$$z=0$$\n",
    "\n",
    "$$J''_{xx} = J'_{xx} cos(\\varphi)^2-2\\,J'_{yx}cos(\\varphi)sin(\\varphi)+J'_{yy}\\,sin(\\varphi)^2$$"
   ]
  },
  {
   "cell_type": "code",
   "execution_count": 48,
   "id": "5b231524",
   "metadata": {},
   "outputs": [
    {
     "data": {
      "text/latex": [
       "$\\displaystyle \\frac{6 \\, m {\\left(\\sqrt{2} - 1\\right)}^{2}}{7 \\, {\\left({\\left(\\sqrt{2} - 1\\right)}^{2} + 1\\right)}} + \\frac{4 \\, m {\\left(\\sqrt{2} - 1\\right)}}{7 \\, {\\left({\\left(\\sqrt{2} - 1\\right)}^{2} + 1\\right)}} + \\frac{10 \\, m}{7 \\, {\\left({\\left(\\sqrt{2} - 1\\right)}^{2} + 1\\right)}}$"
      ],
      "text/plain": [
       "<IPython.core.display.Math object>"
      ]
     },
     "metadata": {},
     "output_type": "display_data"
    }
   ],
   "source": [
    "J2_xx = Jxx*cos(sol_phi_1)^2 - 2*Jxy*cos(sol_phi_1)*sin(sol_phi_1) + Jyy*sin(sol_phi_1)^2\n",
    "disp(J2_xx)"
   ]
  },
  {
   "cell_type": "code",
   "execution_count": null,
   "id": "3f3f0636",
   "metadata": {},
   "outputs": [],
   "source": []
  },
  {
   "cell_type": "markdown",
   "id": "fc845005",
   "metadata": {},
   "source": [
    "$$z=0$$\n",
    "\n",
    "$$J''_{yy} = J'_{yy}\\,cos(\\varphi)^2+2\\,J'_{xy}\\,cos(\\varphi)sin(\\varphi)+J'_{xx}\\,sin(\\varphi)^2 $$"
   ]
  },
  {
   "cell_type": "code",
   "execution_count": 50,
   "id": "ea356d3d",
   "metadata": {},
   "outputs": [
    {
     "data": {
      "text/latex": [
       "$\\displaystyle \\frac{10 \\, m {\\left(\\sqrt{2} - 1\\right)}^{2}}{7 \\, {\\left({\\left(\\sqrt{2} - 1\\right)}^{2} + 1\\right)}} - \\frac{4 \\, m {\\left(\\sqrt{2} - 1\\right)}}{7 \\, {\\left({\\left(\\sqrt{2} - 1\\right)}^{2} + 1\\right)}} + \\frac{6 \\, m}{7 \\, {\\left({\\left(\\sqrt{2} - 1\\right)}^{2} + 1\\right)}}$"
      ],
      "text/plain": [
       "<IPython.core.display.Math object>"
      ]
     },
     "metadata": {},
     "output_type": "display_data"
    }
   ],
   "source": [
    "J2_yy = Jyy*cos(sol_phi_1)^2 + 2*Jxy*cos(sol_phi_1)*sin(sol_phi_1) + Jxx*sin(sol_phi_1)^2\n",
    "disp(J2_yy)"
   ]
  },
  {
   "cell_type": "code",
   "execution_count": 52,
   "id": "dbf66706",
   "metadata": {},
   "outputs": [
    {
     "data": {
      "text/latex": [
       "$\\displaystyle \\frac{16 \\, m {\\left(\\sqrt{2} - 1\\right)}^{2}}{7 \\, {\\left({\\left(\\sqrt{2} - 1\\right)}^{2} + 1\\right)}} + \\frac{16 \\, m}{7 \\, {\\left({\\left(\\sqrt{2} - 1\\right)}^{2} + 1\\right)}}$"
      ],
      "text/plain": [
       "<IPython.core.display.Math object>"
      ]
     },
     "metadata": {},
     "output_type": "display_data"
    }
   ],
   "source": [
    "J2_zz = J2_xx + J2_yy\n",
    "disp(J2_zz)"
   ]
  },
  {
   "cell_type": "code",
   "execution_count": 53,
   "id": "e24b540d",
   "metadata": {},
   "outputs": [
    {
     "data": {
      "text/latex": [
       "$\\displaystyle \\left(\\begin{array}{rrr}\n",
       "\\frac{6 \\, m {\\left(\\sqrt{2} - 1\\right)}^{2}}{7 \\, {\\left({\\left(\\sqrt{2} - 1\\right)}^{2} + 1\\right)}} + \\frac{4 \\, m {\\left(\\sqrt{2} - 1\\right)}}{7 \\, {\\left({\\left(\\sqrt{2} - 1\\right)}^{2} + 1\\right)}} + \\frac{10 \\, m}{7 \\, {\\left({\\left(\\sqrt{2} - 1\\right)}^{2} + 1\\right)}} & 0 & 0 \\\\\n",
       "0 & \\frac{10 \\, m {\\left(\\sqrt{2} - 1\\right)}^{2}}{7 \\, {\\left({\\left(\\sqrt{2} - 1\\right)}^{2} + 1\\right)}} - \\frac{4 \\, m {\\left(\\sqrt{2} - 1\\right)}}{7 \\, {\\left({\\left(\\sqrt{2} - 1\\right)}^{2} + 1\\right)}} + \\frac{6 \\, m}{7 \\, {\\left({\\left(\\sqrt{2} - 1\\right)}^{2} + 1\\right)}} & 0 \\\\\n",
       "0 & 0 & \\frac{16 \\, m {\\left(\\sqrt{2} - 1\\right)}^{2}}{7 \\, {\\left({\\left(\\sqrt{2} - 1\\right)}^{2} + 1\\right)}} + \\frac{16 \\, m}{7 \\, {\\left({\\left(\\sqrt{2} - 1\\right)}^{2} + 1\\right)}}\n",
       "\\end{array}\\right)$"
      ],
      "text/plain": [
       "<IPython.core.display.Math object>"
      ]
     },
     "metadata": {},
     "output_type": "display_data"
    }
   ],
   "source": [
    "J2=matrix(SR,[[J2_xx,0,0],[0,J2_yy,0],[0,0,J2_zz]])\n",
    "disp(J2)"
   ]
  },
  {
   "cell_type": "code",
   "execution_count": null,
   "id": "bb37a8b6",
   "metadata": {},
   "outputs": [],
   "source": []
  }
 ],
 "metadata": {
  "kernelspec": {
   "display_name": "SageMath 9.6.beta7",
   "language": "sage",
   "name": "sagemath"
  },
  "language_info": {
   "codemirror_mode": {
    "name": "ipython",
    "version": 3
   },
   "file_extension": ".py",
   "mimetype": "text/x-python",
   "name": "python",
   "nbconvert_exporter": "python",
   "pygments_lexer": "ipython3",
   "version": "3.10.3"
  }
 },
 "nbformat": 4,
 "nbformat_minor": 5
}

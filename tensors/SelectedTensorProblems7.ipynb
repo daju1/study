{
 "cells": [
  {
   "cell_type": "markdown",
   "id": "9dfb8820",
   "metadata": {},
   "source": [
    "# Problems 1.7.3\n",
    "\n",
    "# № 7"
   ]
  },
  {
   "cell_type": "markdown",
   "id": "8bc587e4",
   "metadata": {},
   "source": [
    "\n",
    "Пусть $\\xi^{i},\\ T_{ij}$ --- тензоры. Является ли выражение\n",
    "\n",
    "\\begin{equation}\\label{eq:b_jk}\n",
    "  b_{jk} \\equiv\n",
    "  \\xi^{i} \\frac{\\partial T_{jk}}{\\partial x^{i}}\n",
    "  +\n",
    "  T_{ik} \\frac{\\partial \\xi^{i}}{\\partial x^{j}}\n",
    "  +\n",
    "  T_{ji} \\frac{\\partial \\xi^{i}}{\\partial x^{k}}\n",
    "  \\equiv\n",
    "  \\xi^{i} T_{jk,i} + T_{ik} \\xi^{i}_{\\ ,k} + T_{ji} \\xi^{i}_{\\ ,k}\\,\\,\\,(4)\n",
    "\\end{equation}\n",
    "\n",
    "тензором?"
   ]
  },
  {
   "cell_type": "markdown",
   "id": "1106028f",
   "metadata": {},
   "source": [
    "# Справочные формулы"
   ]
  },
  {
   "cell_type": "markdown",
   "id": "92929682",
   "metadata": {},
   "source": [
    "Эта формула в методичке имеет номер (1.148):\n",
    "\n",
    "\\begin{equation}\n",
    "A^{i'}=\\frac{\\partial x^{i'}}{\\partial x^{j}}A^j,\n",
    "\\label{lawContrT}\n",
    "\\end{equation}"
   ]
  },
  {
   "cell_type": "markdown",
   "id": "6a3a6072",
   "metadata": {},
   "source": [
    "Эта формула в методичке имеет номер (1.166):\n",
    "\n",
    "\\begin{equation}\n",
    " T_{i'j'}=\n",
    " \\frac{\\partial x^k}{\\partial x^{i'}}\\frac{\\partial x^l}{\\partial x^{j'}} T_{kl}\n",
    " \\label{Tijtransform}\n",
    "\\end{equation} "
   ]
  },
  {
   "cell_type": "markdown",
   "id": "28607885",
   "metadata": {},
   "source": [
    "Ця формула у методичці має номер (1.195):\n",
    "\n",
    "\\begin{equation}\\label{TgeneralTransf}\n",
    "\\boxed{\n",
    "T_{l_1'l_2'...l_q'}^{k_1'k_2'...k_p'} = \n",
    "\\underbrace{\\frac{\\partial x^{k_1'}}{\\partial x^{i_1}} \n",
    "{\\dfrac{\\partial x^{k_2'}}{\\partial x^{i_2}}}\n",
    "...\\frac{\\partial x^{k_p'}}{\\partial x^{i_p}}}_{\\text{$p$ factors}}\n",
    "\\underbrace{\\frac{\\partial x^{j_1}}{\\partial x^{l_1'}} \\frac{\\partial x^{j_2}}{\\partial x^{l_2'}}...\\frac{\\partial x^{j_q}}{\\partial x^{l_q'}}}_{\\text{$q$ factors}}\n",
    "T_{j_1 j_2 ... j_q}^{i_1 i_2 ... i_p}.\n",
    "}\n",
    "\\end{equation} "
   ]
  },
  {
   "cell_type": "markdown",
   "id": "4cde7822",
   "metadata": {},
   "source": [
    "# Решение:\n"
   ]
  },
  {
   "cell_type": "markdown",
   "id": "6eb67a2a",
   "metadata": {},
   "source": [
    "Запишем выражение (4) произ\\-воль\\-ной (штрих\\-овaн\\-ной) сис\\-теме коор\\-динат\n",
    "\n",
    "\\begin{equation}\\label{eq:b_jk_prime}\n",
    "  b_{j'k'} \\equiv\n",
    "  \\xi^{i'} \\frac{\\partial T_{j'k'}}{\\partial x^{i'}}\n",
    "  +\n",
    "  T_{i'k'} \\frac{\\partial \\xi^{i'}}{\\partial x^{j'}}\n",
    "  +\n",
    "  T_{j'i'} \\frac{\\partial \\xi^{i'}}{\\partial x^{k'}}.\\,\\,\\,(5)\n",
    "\\end{equation}"
   ]
  },
  {
   "cell_type": "markdown",
   "id": "3e36d14a",
   "metadata": {},
   "source": [
    "Рассмотрим каждое слагаемое по-отдельности."
   ]
  },
  {
   "cell_type": "markdown",
   "id": "a8994000",
   "metadata": {},
   "source": [
    "Для первого слагаемого в (5) имеем\n",
    "\n",
    "$$\\xi^{i'} \\frac{\\partial T_{j'k'}}{\\partial x^{i'}}\n",
    "  =\n",
    "  \\underbrace{\\xi^{i} \\frac{\\partial x^{i'}}{\\partial x^{i}}}_{\\xi^{i'}}\n",
    "  \\underbrace{\\frac{\\partial x^{l}}{\\partial x^{i'}}\\frac{\\partial }{\\partial x^{l}}}_{\\partial_{i'}}\n",
    "  \\left( \\underbrace{\\frac{\\partial x^{j}}{\\partial x^{j'}} \\frac{\\partial x^{k}}{\\partial x^{k'}}\n",
    "    T_{jk}}_{T_{j'k'}}\n",
    "  \\right)\n",
    "  =\\\\=\n",
    "  ... \\frac{\\partial}{\\partial x^{i}}\n",
    "  \\Bigl( T_{jk} \\Bigr).$$\n"
   ]
  },
  {
   "cell_type": "markdown",
   "id": "d7fceca4",
   "metadata": {},
   "source": [
    "Для первого слагаемого в (5) имеем\n",
    "\\begin{gather*}\n",
    "  \\xi^{i'} \\frac{\\partial T_{j'k'}}{\\partial x^{i'}}\n",
    "  =\n",
    "  \\underbrace{\\xi^{i} \\frac{\\partial x^{i'}}{\\partial x^{i}}}_{\\xi^{i'}}\n",
    "  \\underbrace{\\frac{\\partial x^{l}}{\\partial x^{i'}}\\frac{\\partial }{\\partial x^{l}}}_{\\partial_{i'}}\n",
    "  \\left( \\underbrace{\\frac{\\partial x^{j}}{\\partial x^{j'}} \\frac{\\partial x^{k}}{\\partial x^{k'}}\n",
    "    T_{jk}}_{T_{j'k'}}\n",
    "  \\right)\n",
    "  =\\\\=\n",
    "  \\xi^{i} \\frac{\\partial x^{l}}{\\partial x^{i}}\n",
    "   \\frac{\\partial }{\\partial x^{l}}\n",
    "    \\left( \\frac{\\partial x^{j}}{\\partial x^{j'}} \\frac{\\partial x^{k}}{\\partial x^{k'}}\n",
    "    T_{jk}\n",
    "  \\right)\n",
    "    =\\\\=\n",
    "  \\xi^{i} \\delta_{i}^{l}\n",
    "   \\frac{\\partial }{\\partial x^{l}}\n",
    "    \\left( \\frac{\\partial x^{j}}{\\partial x^{j'}} \\frac{\\partial x^{k}}{\\partial x^{k'}}\n",
    "    T_{jk}\n",
    "  \\right)\n",
    "  =\\\\=\n",
    "   \\xi^{i}\n",
    "   \\frac{\\partial }{\\partial x^{i}}\n",
    "    \\left( \\frac{\\partial x^{j}}{\\partial x^{j'}} \\frac{\\partial x^{k}}{\\partial x^{k'}}\n",
    "    T_{jk}\n",
    "  \\right)\n",
    "  =\\\\=\n",
    "   \\xi^{i}\n",
    "    \\left(\n",
    "    \\frac{\\partial }{\\partial x^{i}}\\left(\\frac{\\partial x^{j}}{\\partial x^{j'}}\\right)\n",
    "    \\frac{\\partial x^{k}}{\\partial x^{k'}}\n",
    "    T_{jk} +\n",
    "    \\frac{\\partial x^{j}}{\\partial x^{j'}}\n",
    "    \\frac{\\partial }{\\partial x^{i}}\\left(\\frac{\\partial x^{k}}{\\partial x^{k'}}\\right)\n",
    "    T_{jk} +\n",
    "    \\frac{\\partial x^{j}}{\\partial x^{j'}}\n",
    "    \\frac{\\partial x^{k}}{\\partial x^{k'}}\n",
    "    \\frac{\\partial }{\\partial x^{i}}\\left(T_{jk}\\right)\n",
    "  \\right)\n",
    "  =\\\\=\n",
    "   \\xi^{i}\n",
    "    \\left(\n",
    "    \\left(\\frac{\\partial^2 x^{j}}{\\partial x^{j'}{\\partial x^{i}}}\\right)\n",
    "    \\frac{\\partial x^{k}}{\\partial x^{k'}}\n",
    "    T_{jk} +\n",
    "    \\frac{\\partial x^{j}}{\\partial x^{j'}}\n",
    "    \\left(\\frac{\\partial^2 x^{k}}{\\partial x^{k'}{\\partial x^{i}}}\\right)\n",
    "    T_{jk} +\n",
    "    \\frac{\\partial x^{j}}{\\partial x^{j'}}\n",
    "    \\frac{\\partial x^{k}}{\\partial x^{k'}}\n",
    "    \\frac{\\partial }{\\partial x^{i}}\\left(T_{jk}\\right)\n",
    "  \\right).\n",
    "\\end{gather*}\n"
   ]
  },
  {
   "cell_type": "markdown",
   "id": "568e4028",
   "metadata": {},
   "source": [
    "Для второго слагаемого $T_{i'k'} \\frac{\\partial \\xi^{i'}}{\\partial x^{j'}}$ в (5) имеем\n",
    "\\begin{equation}\n",
    "   T_{i' k'} \\frac{\\partial \\xi^{i'}}{\\partial x^{j'}}\n",
    "    =\n",
    "    \\frac{\\partial x^{l}}{\\partial x^{i'}}\\frac{\\partial x^{p}}{\\partial x^{k'}}T_{lp}\\frac{\\partial x^{n}}{\\partial x^{j'}}\\frac{\\partial}{\\partial x^{n}} \\left({\\xi^{m}} \\frac{\\partial x^{i'}}{\\partial x^{m}} \\right) \n",
    "\\end{equation}\n"
   ]
  },
  {
   "cell_type": "markdown",
   "id": "a342b4e0",
   "metadata": {},
   "source": [
    "Эта формула в методичке имеет номер (1.166):\n",
    "\n",
    "\\begin{equation}\n",
    " T_{i'j'}=\n",
    " \\frac{\\partial x^k}{\\partial x^{i'}}\\frac{\\partial x^l}{\\partial x^{j'}} T_{kl}\n",
    " \\label{Tijtransform}\n",
    "\\end{equation} "
   ]
  },
  {
   "cell_type": "markdown",
   "id": "439a0ba8",
   "metadata": {},
   "source": [
    "Эта формула в методичке имеет номер (1.166):\n",
    "\n",
    "\\begin{equation}\n",
    " T_{i'j'}=\n",
    " \\frac{\\partial x^k}{\\partial x^{i'}}\\frac{\\partial x^l}{\\partial x^{j'}} T_{kl}\n",
    " \\label{Tijtransform}\n",
    "\\end{equation}"
   ]
  },
  {
   "cell_type": "markdown",
   "id": "225a1592",
   "metadata": {},
   "source": [
    "$j'\\rightarrow k'$\n",
    "\n",
    "\\begin{equation}\n",
    " T_{i'k'}=\n",
    " \\frac{\\partial x^k}{\\partial x^{i'}}\\frac{\\partial x^l}{\\partial x^{k'}} T_{kl}\n",
    "\\end{equation} "
   ]
  },
  {
   "cell_type": "markdown",
   "id": "b24006e4",
   "metadata": {},
   "source": [
    "$k\\rightarrow i$\n",
    "\n",
    "\\begin{equation}\n",
    " T_{i'k'}=\n",
    " \\frac{\\partial x^i}{\\partial x^{i'}}\\frac{\\partial x^l}{\\partial x^{k'}} T_{il}\n",
    "\\end{equation} "
   ]
  },
  {
   "cell_type": "markdown",
   "id": "13d52272",
   "metadata": {},
   "source": [
    "$l \\rightarrow k$\n",
    "\n",
    "\\begin{equation}\n",
    " T_{i'k'}=\n",
    " \\frac{\\partial x^i}{\\partial x^{i'}}\\frac{\\partial x^k}{\\partial x^{k'}} T_{ik}\n",
    "\\end{equation} "
   ]
  },
  {
   "cell_type": "markdown",
   "id": "5130afe8",
   "metadata": {},
   "source": [
    "\n",
    "Для второго слагаемого в (5) имеем\n",
    "\n",
    "\\begin{equation}\n",
    "   T_{i' k'} \\frac{\\partial \\xi^{i'}}{\\partial x^{j'}}\n",
    "    =\\\\=\n",
    "    \\frac{\\partial x^{i}}{\\partial x^{i'}}\n",
    "    \\frac{\\partial x^{k}}{\\partial x^{k'}}\n",
    "    T_{ik}\n",
    "    \\frac{\\partial \\xi^{i'}}{\\partial x^{j'}}\n",
    "    =\\\\=\n",
    "    \\frac{\\partial x^{i}}{\\partial x^{i'}}\n",
    "    \\frac{\\partial x^{k}}{\\partial x^{k'}}\n",
    "    T_{ik}\n",
    "    \\frac{\\partial}{\\partial x^{j'}} \\left( \\xi^{i'} \\right)\n",
    "    =\\\\=    =\n",
    "    \\frac{\\partial x^{i}}{\\partial x^{i'}}\\frac{\\partial x^{k}}{\\partial x^{k'}}T_{ik}\\frac{\\partial x^{j}}{\\partial x^{j'}}\\frac{\\partial}{\\partial x^{j}} \\left({\\xi^{m}} \\frac{\\partial x^{i'}}{\\partial x^{m}} \\right)\n",
    "    =\n",
    "\\end{equation}\n",
    "\\begin{equation}\n",
    "    =\n",
    "    \\frac{\\partial x^{i}}{\\partial x^{i'}}\\frac{\\partial x^{k}}{\\partial x^{k'}}T_{ik}\\frac{\\partial x^{j}}{\\partial x^{j'}}\\frac{\\partial x^{i'}}{\\partial x^{m}} \\frac{\\partial \n",
    " \\xi^{m}}{\\partial x^{j}} + \n",
    " \\frac{\\partial x^{i}}{\\partial x^{i'}}\\frac{\\partial x^{k}}{\\partial x^{k'}}T_{ik}\\frac{\\partial x^{j}}{\\partial x^{j'}}\\frac{\\partial^2 x^{i'}}{\\partial x^{j} \\partial x^{m}}  \n",
    " \\xi^{m}\n",
    "    =\n",
    "\\end{equation}\n",
    "    "
   ]
  },
  {
   "cell_type": "markdown",
   "id": "af9b2b33",
   "metadata": {},
   "source": [
    "Для второго слагаемого в (5) имеем\n",
    "\n",
    "\\begin{equation}\n",
    "   T_{i' k'} \\frac{\\partial \\xi^{i'}}{\\partial x^{j'}}\n",
    "    =\\\\=\n",
    "    \\frac{\\partial x^{i}}{\\partial x^{i'}}\n",
    "    \\frac{\\partial x^{k}}{\\partial x^{k'}}\n",
    "    T_{ik}\n",
    "    \\frac{\\partial \\xi^{i'}}{\\partial x^{j'}}\n",
    "    =\\\\=\n",
    "    \\frac{\\partial x^{i}}{\\partial x^{i'}}\n",
    "    \\frac{\\partial x^{k}}{\\partial x^{k'}}\n",
    "    T_{ik}\n",
    "    \\frac{\\partial}{\\partial x^{j'}} \\left( \\xi^{i'} \\right)\n",
    "\\end{equation}\n",
    "\n",
    "    "
   ]
  },
  {
   "cell_type": "markdown",
   "id": "ac2a027d",
   "metadata": {},
   "source": [
    "\\begin{equation}\n",
    "\\left(\\xi^{i'}=\\frac{\\partial x^{i'}}{\\partial x^{m}}\\xi^m \\right)\n",
    "\\end{equation}"
   ]
  },
  {
   "cell_type": "markdown",
   "id": "09bd1cbc",
   "metadata": {},
   "source": [
    "\n",
    "\\begin{equation}\n",
    "    = \n",
    "    \\frac{\\partial x^{i}}{\\partial x^{i'}}\n",
    "    \\frac{\\partial x^{k}}{\\partial x^{k'}}\n",
    "    T_{ik}\n",
    "    \\frac{\\partial}{\\partial x^{j'}} \\left(\\frac{\\partial x^{i'}}{\\partial x^{m}}\\xi^m \\right)\n",
    "\\end{equation}\n",
    "\n",
    "    "
   ]
  },
  {
   "cell_type": "markdown",
   "id": "d3629a79",
   "metadata": {},
   "source": [
    "$$\\frac{\\partial}{\\partial x^{j'}} = \\frac{\\partial x^{j}}{\\partial x^{j'}}\\frac{\\partial}{\\partial x^{j}}$$"
   ]
  },
  {
   "cell_type": "markdown",
   "id": "34a732d3",
   "metadata": {},
   "source": [
    "$$\\frac{\\partial x^{i}}{\\partial x^{i'}}\n",
    "    \\frac{\\partial x^{k}}{\\partial x^{k'}}\n",
    "    T_{ik}\n",
    "    \\frac{\\partial}{\\partial x^{j'}}\n",
    "    \\left(\n",
    "        \\frac{\\partial x^{i'}}{\\partial x^{m}}\\xi^m\n",
    "    \\right)\n",
    "    =\\\\=\n",
    "\\frac{\\partial x^{i}}{\\partial x^{i'}}\n",
    "    \\frac{\\partial x^{k}}{\\partial x^{k'}}\n",
    "    T_{ik}\n",
    "    \\frac{\\partial x^{j}}{\\partial x^{j'}}\n",
    "    \\frac{\\partial}{\\partial x^{j}}\n",
    "    \\left(\n",
    "        \\frac{\\partial x^{i'}}{\\partial x^{m}}\\xi^m\n",
    "    \\right)\n",
    "    =\\\\=\n",
    "\\frac{\\partial x^{i}}{\\partial x^{i'}}\n",
    "    \\frac{\\partial x^{k}}{\\partial x^{k'}}\n",
    "    T_{ik}\n",
    "    \\frac{\\partial x^{j}}{\\partial x^{j'}}\n",
    "    \\left(\n",
    "        \\frac{\\partial}{\\partial x^{j}} \\left(\\frac{\\partial x^{i'}}{\\partial x^{m}}\\right)\\xi^m +\n",
    "        \\frac{\\partial x^{i'}}{\\partial x^{m}}  \\frac{\\partial}{\\partial x^{j}} \\xi^m\n",
    "    \\right)\n",
    "    =\\\\=\n",
    "\\frac{\\partial x^{i}}{\\partial x^{i'}}\n",
    "    \\frac{\\partial x^{k}}{\\partial x^{k'}}\n",
    "    T_{ik}\n",
    "    \\frac{\\partial x^{j}}{\\partial x^{j'}}\n",
    "    \\left(\n",
    "        \\frac{\\partial^2 x^{i'}}{\\partial x^{j}\\partial x^{m}}\\xi^m +\n",
    "        \\frac{\\partial x^{i'}}{\\partial x^{m}}  \\frac{\\partial}{\\partial x^{j}} \\xi^m\n",
    "    \\right)=\n",
    "    $$"
   ]
  },
  {
   "cell_type": "markdown",
   "id": "dd0ce35f",
   "metadata": {},
   "source": [
    "$$=\n",
    "\\frac{\\partial x^{i}}{\\partial x^{i'}}\n",
    "    \\frac{\\partial x^{k}}{\\partial x^{k'}}\n",
    "    T_{ik}\n",
    "    \\frac{\\partial x^{j}}{\\partial x^{j'}}\n",
    "        \\frac{\\partial^2 x^{i'}}{\\partial x^{j}\\partial x^{m}}\\xi^m +\n",
    "\\frac{\\partial x^{i}}{\\partial x^{i'}}\n",
    "    \\frac{\\partial x^{k}}{\\partial x^{k'}}\n",
    "    T_{ik}\n",
    "    \\frac{\\partial x^{j}}{\\partial x^{j'}}\n",
    "        \\frac{\\partial x^{i'}}{\\partial x^{m}}  \\frac{\\partial}{\\partial x^{j}} \\xi^m\n",
    "    $$"
   ]
  },
  {
   "cell_type": "markdown",
   "id": "3d2913e4",
   "metadata": {},
   "source": [
    "суммируем по $j$ в первом слагаемом второго слагаемого"
   ]
  },
  {
   "cell_type": "markdown",
   "id": "155acd8c",
   "metadata": {},
   "source": [
    "$$=\n",
    "\\frac{\\partial x^{i}}{\\partial x^{i'}}\n",
    "    \\frac{\\partial x^{k}}{\\partial x^{k'}}\n",
    "    T_{ik}\n",
    "    \\frac{\\partial }{\\partial x^{j'}}\n",
    "        \\left(\\frac{\\partial x^{i'}}{\\partial x^{m}}\\right)\n",
    "        \\xi^m +\n",
    "\\frac{\\partial x^{i}}{\\partial x^{i'}}\n",
    "    \\frac{\\partial x^{k}}{\\partial x^{k'}}\n",
    "    T_{ik}\n",
    "    \\frac{\\partial x^{j}}{\\partial x^{j'}}\n",
    "        \\frac{\\partial x^{i'}}{\\partial x^{m}}  \\frac{\\partial}{\\partial x^{j}} \\xi^m\n",
    "    $$"
   ]
  },
  {
   "cell_type": "markdown",
   "id": "8bf0547a",
   "metadata": {},
   "source": [
    "вносим матрицу $\\frac{\\partial x^{i}}{\\partial x^{i'}}$ под действие производной"
   ]
  },
  {
   "cell_type": "markdown",
   "id": "3316959a",
   "metadata": {},
   "source": [
    "$$=\n",
    "    \\frac{\\partial x^{k}}{\\partial x^{k'}}\n",
    "    T_{ik}\n",
    "    \\frac{\\partial }{\\partial x^{j'}}\n",
    "    \\left(\n",
    "        \\frac{\\partial x^{i}}{\\partial x^{i'}}\n",
    "        \\frac{\\partial x^{i'}}{\\partial x^{m}}\n",
    "    \\right)\n",
    "    \\xi^m\n",
    "-\n",
    "\\frac{\\partial x^{i'}}{\\partial x^{m}}\n",
    "    \\frac{\\partial x^{k}}{\\partial x^{k'}}\n",
    "    T_{ik}\n",
    "    \\frac{\\partial }{\\partial x^{j'}}\n",
    "        \\left(\\frac{\\partial x^{i}}{\\partial x^{i'}}\\right)\n",
    "        \\xi^m\n",
    "+\n",
    "\\frac{\\partial x^{i}}{\\partial x^{i'}}\n",
    "    \\frac{\\partial x^{k}}{\\partial x^{k'}}\n",
    "    T_{ik}\n",
    "    \\frac{\\partial x^{j}}{\\partial x^{j'}}\n",
    "        \\frac{\\partial x^{i'}}{\\partial x^{m}}  \\frac{\\partial}{\\partial x^{j}} \\xi^m\n",
    "    $$"
   ]
  },
  {
   "cell_type": "markdown",
   "id": "c2151a2f",
   "metadata": {},
   "source": [
    "суммируем по $i′$ в первом слагаемом"
   ]
  },
  {
   "cell_type": "markdown",
   "id": "fd6a4acd",
   "metadata": {},
   "source": [
    "$$=\n",
    "    \\frac{\\partial x^{k}}{\\partial x^{k'}}\n",
    "    T_{ik}\n",
    "    \\frac{\\partial }{\\partial x^{j'}}\n",
    "    \\left(\n",
    "        \\frac{\\partial x^{i}}{\\partial x^{m}}\n",
    "    \\right)\n",
    "    \\xi^m\n",
    "-\n",
    "\\frac{\\partial x^{i'}}{\\partial x^{m}}\n",
    "    \\frac{\\partial x^{k}}{\\partial x^{k'}}\n",
    "    T_{ik}\n",
    "    \\frac{\\partial }{\\partial x^{j'}}\n",
    "        \\left(\\frac{\\partial x^{i}}{\\partial x^{i'}}\\right)\n",
    "        \\xi^m\n",
    "+\n",
    "\\frac{\\partial x^{i}}{\\partial x^{i'}}\n",
    "    \\frac{\\partial x^{k}}{\\partial x^{k'}}\n",
    "    T_{ik}\n",
    "    \\frac{\\partial x^{j}}{\\partial x^{j'}}\n",
    "        \\frac{\\partial x^{i'}}{\\partial x^{m}}  \\frac{\\partial}{\\partial x^{j}} \\xi^m\n",
    "    $$"
   ]
  },
  {
   "cell_type": "markdown",
   "id": "0587893e",
   "metadata": {},
   "source": [
    "делаем замену на символ Кронекера"
   ]
  },
  {
   "cell_type": "markdown",
   "id": "1288537a",
   "metadata": {},
   "source": [
    "$$=\n",
    "    \\frac{\\partial x^{k}}{\\partial x^{k'}}\n",
    "    T_{ik}\n",
    "    \\frac{\\partial }{\\partial x^{j'}}\n",
    "    \\left(\n",
    "        \\delta_{m}^{i}\n",
    "    \\right)\n",
    "    \\xi^m\n",
    "-\n",
    "\\frac{\\partial x^{i'}}{\\partial x^{m}}\n",
    "    \\frac{\\partial x^{k}}{\\partial x^{k'}}\n",
    "    T_{ik}\n",
    "    \\frac{\\partial }{\\partial x^{j'}}\n",
    "        \\left(\\frac{\\partial x^{i}}{\\partial x^{i'}}\\right)\n",
    "        \\xi^m\n",
    "+\n",
    "\\frac{\\partial x^{i}}{\\partial x^{i'}}\n",
    "    \\frac{\\partial x^{k}}{\\partial x^{k'}}\n",
    "    T_{ik}\n",
    "    \\frac{\\partial x^{j}}{\\partial x^{j'}}\n",
    "        \\frac{\\partial x^{i'}}{\\partial x^{m}}  \\frac{\\partial}{\\partial x^{j}} \\xi^m\n",
    "    $$"
   ]
  },
  {
   "cell_type": "markdown",
   "id": "80e8df10",
   "metadata": {},
   "source": [
    "поскольку производная от симвла Кроненкера как производная от константы равна нулю"
   ]
  },
  {
   "cell_type": "markdown",
   "id": "690955c6",
   "metadata": {},
   "source": [
    "$$=\n",
    "-\n",
    "\\frac{\\partial x^{i'}}{\\partial x^{m}}\n",
    "    \\frac{\\partial x^{k}}{\\partial x^{k'}}\n",
    "    T_{ik}\n",
    "    \\frac{\\partial }{\\partial x^{j'}}\n",
    "        \\left(\\frac{\\partial x^{i}}{\\partial x^{i'}}\\right)\n",
    "        \\xi^m\n",
    "+\n",
    "\\frac{\\partial x^{i}}{\\partial x^{i'}}\n",
    "    \\frac{\\partial x^{k}}{\\partial x^{k'}}\n",
    "    T_{ik}\n",
    "    \\frac{\\partial x^{j}}{\\partial x^{j'}}\n",
    "        \\frac{\\partial x^{i'}}{\\partial x^{m}}  \\frac{\\partial}{\\partial x^{j}} \\xi^m\n",
    "    $$"
   ]
  },
  {
   "cell_type": "markdown",
   "id": "d8ec2937",
   "metadata": {},
   "source": [
    "Эта формула в методичке имеет номер (1.148):\n",
    "\\begin{equation}\n",
    "\\xi^{i'}=\\frac{\\partial x^{i'}}{\\partial x^{m}}\\xi^m,\n",
    "\\end{equation}"
   ]
  },
  {
   "cell_type": "markdown",
   "id": "5b96a013",
   "metadata": {},
   "source": [
    "Для третьего слагаемого в (5) имеем\n",
    "\n",
    "\\begin{equation}\n",
    "   T_{j' i'} \\frac{\\partial \\xi^{i'}}{\\partial x^{k'}}\n",
    "    =\\\\=\n",
    "    \\frac{\\partial x^{j}}{\\partial x^{j'}}\n",
    "    \\frac{\\partial x^{i}}{\\partial x^{i'}}\n",
    "    T_{ji}\n",
    "    \\frac{\\partial \\xi^{i'}}{\\partial x^{k'}}\n",
    "    =\\\\=\n",
    "    \\frac{\\partial x^{j}}{\\partial x^{j'}}\n",
    "    \\frac{\\partial x^{i}}{\\partial x^{i'}}\n",
    "    T_{ji}\n",
    "    \\frac{\\partial}{\\partial x^{k'}} \\left( \\xi^{i'} \\right)\n",
    "\\end{equation}"
   ]
  },
  {
   "cell_type": "markdown",
   "id": "76fd284d",
   "metadata": {},
   "source": [
    "\\begin{equation}\n",
    "\\left(\\xi^{i'}=\\frac{\\partial x^{i'}}{\\partial x^{m}}\\xi^m \\right)\n",
    "\\end{equation}"
   ]
  },
  {
   "cell_type": "markdown",
   "id": "4703b48d",
   "metadata": {},
   "source": [
    "\\begin{equation}\n",
    "    = \n",
    "    \\frac{\\partial x^{j}}{\\partial x^{j'}}\n",
    "    \\frac{\\partial x^{i}}{\\partial x^{i'}}\n",
    "    T_{ji}\n",
    "    \\frac{\\partial}{\\partial x^{k'}} \\left(\\frac{\\partial x^{i'}}{\\partial x^{m}}\\xi^m \\right)\n",
    "\\end{equation}"
   ]
  },
  {
   "cell_type": "markdown",
   "id": "34602501",
   "metadata": {},
   "source": [
    "\\begin{equation}\n",
    "    = \n",
    "    \\frac{\\partial x^{j}}{\\partial x^{j'}}\n",
    "    \\frac{\\partial x^{i}}{\\partial x^{i'}}\n",
    "    T_{ji}\n",
    "    \\frac{\\partial x^{k}}{\\partial x^{k'}}\n",
    "        \\frac{\\partial}{\\partial x^{k}}\n",
    "            \\left(\\frac{\\partial x^{i'}}{\\partial x^{m}}\\xi^m \\right)\n",
    "\\end{equation}"
   ]
  },
  {
   "cell_type": "markdown",
   "id": "c51d4355",
   "metadata": {},
   "source": [
    "\\begin{equation}\n",
    "    = \n",
    "    \\frac{\\partial x^{j}}{\\partial x^{j'}}\n",
    "    \\frac{\\partial x^{i}}{\\partial x^{i'}}\n",
    "    T_{ji}\n",
    "    \\frac{\\partial x^{k}}{\\partial x^{k'}}\n",
    "        \\left(\n",
    "            \\frac{\\partial}{\\partial x^{k}}\n",
    "                \\left(\\frac{\\partial x^{i'}}{\\partial x^{m}}\\right)\n",
    "                \\xi^m \n",
    "                +\n",
    "                \\frac{\\partial x^{i'}}{\\partial x^{m}}\n",
    "            \\frac{\\partial}{\\partial x^{k}}\n",
    "                \\xi^m\n",
    "        \\right)\n",
    "\\end{equation}"
   ]
  },
  {
   "cell_type": "markdown",
   "id": "4e862426",
   "metadata": {},
   "source": [
    "\\begin{equation}\n",
    "    = \n",
    "    \\frac{\\partial x^{j}}{\\partial x^{j'}}\n",
    "    \\frac{\\partial x^{i}}{\\partial x^{i'}}\n",
    "    T_{ji}\n",
    "    \\frac{\\partial x^{k}}{\\partial x^{k'}}\n",
    "        \\left(\n",
    "            \\frac{\\partial^2 x^{i'}}{\\partial x^{k}\\partial x^{m}}\n",
    "                \\xi^m \n",
    "                +\n",
    "                \\frac{\\partial x^{i'}}{\\partial x^{m}}\n",
    "            \\frac{\\partial}{\\partial x^{k}}\n",
    "                \\xi^m\n",
    "        \\right)\n",
    "\\end{equation}"
   ]
  },
  {
   "cell_type": "markdown",
   "id": "760e604b",
   "metadata": {},
   "source": [
    "\\begin{equation}\n",
    "    = \n",
    "    \\frac{\\partial x^{j}}{\\partial x^{j'}}\n",
    "    \\frac{\\partial x^{i}}{\\partial x^{i'}}\n",
    "    T_{ji}\n",
    "    \\frac{\\partial x^{k}}{\\partial x^{k'}}\n",
    "            \\frac{\\partial^2 x^{i'}}{\\partial x^{k}\\partial x^{m}}\n",
    "                \\xi^m \n",
    "                +\n",
    "    \\frac{\\partial x^{j}}{\\partial x^{j'}}\n",
    "    \\frac{\\partial x^{i}}{\\partial x^{i'}}\n",
    "    T_{ji}\n",
    "    \\frac{\\partial x^{k}}{\\partial x^{k'}}\n",
    "                \\frac{\\partial x^{i'}}{\\partial x^{m}}\n",
    "            \\frac{\\partial}{\\partial x^{k}}\n",
    "                \\xi^m\n",
    "\\end{equation}"
   ]
  },
  {
   "cell_type": "markdown",
   "id": "a43d3427",
   "metadata": {},
   "source": [
    "суммируем по $k$ в первом слагаемом третьего слагаемого"
   ]
  },
  {
   "cell_type": "markdown",
   "id": "8c90cf14",
   "metadata": {},
   "source": [
    "\\begin{equation}\n",
    "    = \n",
    "    \\frac{\\partial x^{j}}{\\partial x^{j'}}\n",
    "    \\frac{\\partial x^{i}}{\\partial x^{i'}}\n",
    "    T_{ji}\n",
    "    \\frac{\\partial}{\\partial x^{k'}}\n",
    "            \\left(\n",
    "            \\frac{\\partial x^{i'}}{\\partial x^{m}}\n",
    "            \\right)\n",
    "       \\xi^m \n",
    "    +\n",
    "    \\frac{\\partial x^{j}}{\\partial x^{j'}}\n",
    "    \\frac{\\partial x^{i}}{\\partial x^{i'}}\n",
    "    T_{ji}\n",
    "    \\frac{\\partial x^{k}}{\\partial x^{k'}}\n",
    "                \\frac{\\partial x^{i'}}{\\partial x^{m}}\n",
    "            \\frac{\\partial}{\\partial x^{k}}\n",
    "                \\xi^m\n",
    "\\end{equation}"
   ]
  },
  {
   "cell_type": "markdown",
   "id": "099e86cb",
   "metadata": {},
   "source": [
    "вносим матрицу $\\frac{\\partial x^{i}}{\\partial x^{i'}}$ под действие производной"
   ]
  },
  {
   "cell_type": "markdown",
   "id": "5c6f5c63",
   "metadata": {},
   "source": [
    "\\begin{equation}\n",
    "    = \n",
    "    \\frac{\\partial x^{j}}{\\partial x^{j'}}\n",
    "    T_{ji}\n",
    "    \\frac{\\partial}{\\partial x^{k'}}\n",
    "        \\left(\n",
    "            \\frac{\\partial x^{i}}{\\partial x^{i'}}\n",
    "            \\frac{\\partial x^{i'}}{\\partial x^{m}}\n",
    "        \\right)\n",
    "    \\xi^m \n",
    "    -\n",
    "            \\frac{\\partial x^{i'}}{\\partial x^{m}}\n",
    "    \\frac{\\partial x^{i}}{\\partial x^{i'}}\n",
    "    T_{ji}\n",
    "    \\frac{\\partial}{\\partial x^{k'}}\n",
    "        \\left(\n",
    "            \\frac{\\partial x^{i}}{\\partial x^{i'}}\n",
    "        \\right)\n",
    "    \\xi^m \n",
    "    +\n",
    "    \\frac{\\partial x^{j}}{\\partial x^{j'}}\n",
    "    \\frac{\\partial x^{i}}{\\partial x^{i'}}\n",
    "    T_{ji}\n",
    "    \\frac{\\partial x^{k}}{\\partial x^{k'}}\n",
    "                \\frac{\\partial x^{i'}}{\\partial x^{m}}\n",
    "            \\frac{\\partial}{\\partial x^{k}}\n",
    "                \\xi^m\n",
    "\\end{equation}"
   ]
  },
  {
   "cell_type": "markdown",
   "id": "33b72001",
   "metadata": {},
   "source": [
    "суммируем по $i′$ в первом слагаемом"
   ]
  },
  {
   "cell_type": "markdown",
   "id": "253419d6",
   "metadata": {},
   "source": [
    "\\begin{equation}\n",
    "    = \n",
    "    \\frac{\\partial x^{j}}{\\partial x^{j'}}\n",
    "    T_{ji}\n",
    "    \\frac{\\partial}{\\partial x^{k'}}\n",
    "        \\left(\n",
    "            \\frac{\\partial x^{i}}{\\partial x^{m}}\n",
    "        \\right)\n",
    "    \\xi^m \n",
    "    -\n",
    "            \\frac{\\partial x^{i'}}{\\partial x^{m}}\n",
    "    \\frac{\\partial x^{i}}{\\partial x^{i'}}\n",
    "    T_{ji}\n",
    "    \\frac{\\partial}{\\partial x^{k'}}\n",
    "        \\left(\n",
    "            \\frac{\\partial x^{i}}{\\partial x^{i'}}\n",
    "        \\right)\n",
    "    \\xi^m \n",
    "    +\n",
    "    \\frac{\\partial x^{j}}{\\partial x^{j'}}\n",
    "    \\frac{\\partial x^{i}}{\\partial x^{i'}}\n",
    "    T_{ji}\n",
    "    \\frac{\\partial x^{k}}{\\partial x^{k'}}\n",
    "                \\frac{\\partial x^{i'}}{\\partial x^{m}}\n",
    "            \\frac{\\partial}{\\partial x^{k}}\n",
    "                \\xi^m\n",
    "\\end{equation}"
   ]
  },
  {
   "cell_type": "markdown",
   "id": "875161a5",
   "metadata": {},
   "source": [
    "делаем замену на символ Кронекера"
   ]
  },
  {
   "cell_type": "markdown",
   "id": "49d9a7fc",
   "metadata": {},
   "source": [
    "\\begin{equation}\n",
    "    = \n",
    "    \\frac{\\partial x^{j}}{\\partial x^{j'}}\n",
    "    T_{ji}\n",
    "    \\frac{\\partial}{\\partial x^{k'}}\n",
    "        \\left(\n",
    "            \\delta^{i}_{m}\n",
    "        \\right)\n",
    "    \\xi^m \n",
    "    -\n",
    "            \\frac{\\partial x^{i'}}{\\partial x^{m}}\n",
    "    \\frac{\\partial x^{i}}{\\partial x^{i'}}\n",
    "    T_{ji}\n",
    "    \\frac{\\partial}{\\partial x^{k'}}\n",
    "        \\left(\n",
    "            \\frac{\\partial x^{i}}{\\partial x^{i'}}\n",
    "        \\right)\n",
    "    \\xi^m \n",
    "    +\n",
    "    \\frac{\\partial x^{j}}{\\partial x^{j'}}\n",
    "    \\frac{\\partial x^{i}}{\\partial x^{i'}}\n",
    "    T_{ji}\n",
    "    \\frac{\\partial x^{k}}{\\partial x^{k'}}\n",
    "                \\frac{\\partial x^{i'}}{\\partial x^{m}}\n",
    "            \\frac{\\partial}{\\partial x^{k}}\n",
    "                \\xi^m\n",
    "\\end{equation}"
   ]
  },
  {
   "cell_type": "markdown",
   "id": "905637b8",
   "metadata": {},
   "source": [
    "поскольку производная от симвла Кроненкера как производная от константы равна нулю"
   ]
  },
  {
   "cell_type": "markdown",
   "id": "f7b627e5",
   "metadata": {},
   "source": [
    "\\begin{equation}\n",
    "    = \n",
    "    -\n",
    "            \\frac{\\partial x^{i'}}{\\partial x^{m}}\n",
    "    \\frac{\\partial x^{i}}{\\partial x^{i'}}\n",
    "    T_{ji}\n",
    "    \\frac{\\partial}{\\partial x^{k'}}\n",
    "        \\left(\n",
    "            \\frac{\\partial x^{i}}{\\partial x^{i'}}\n",
    "        \\right)\n",
    "    \\xi^m \n",
    "    +\n",
    "    \\frac{\\partial x^{j}}{\\partial x^{j'}}\n",
    "    \\frac{\\partial x^{i}}{\\partial x^{i'}}\n",
    "    T_{ji}\n",
    "    \\frac{\\partial x^{k}}{\\partial x^{k'}}\n",
    "                \\frac{\\partial x^{i'}}{\\partial x^{m}}\n",
    "            \\frac{\\partial}{\\partial x^{k}}\n",
    "                \\xi^m\n",
    "\\end{equation}"
   ]
  },
  {
   "cell_type": "markdown",
   "id": "d596f463",
   "metadata": {},
   "source": [
    "Запишем общее выражение\n",
    "\n",
    "\\begin{equation}\\label{eq:b_jk_prime}\n",
    "  b_{j'k'} \\equiv\n",
    "  \\xi^{i'} \\frac{\\partial T_{j'k'}}{\\partial x^{i'}}\n",
    "  +\n",
    "  T_{i'k'} \\frac{\\partial \\xi^{i'}}{\\partial x^{j'}}\n",
    "  +\n",
    "  T_{j'i'} \\frac{\\partial \\xi^{i'}}{\\partial x^{k'}}\n",
    "  =\\\\=\n",
    "         \\xi^{i}\\left(\\frac{\\partial^2 x^{j}}{\\partial x^{j'}{\\partial x^{i}}}\\right)\n",
    "    \\frac{\\partial x^{k}}{\\partial x^{k'}}\n",
    "    T_{jk} +\n",
    "         \\xi^{i}\\frac{\\partial x^{j}}{\\partial x^{j'}}\n",
    "    \\left(\\frac{\\partial^2 x^{k}}{\\partial x^{k'}{\\partial x^{i}}}\\right)\n",
    "    T_{jk} +\n",
    "         \\xi^{i}\\frac{\\partial x^{j}}{\\partial x^{j'}}\n",
    "    \\frac{\\partial x^{k}}{\\partial x^{k'}}\n",
    "    \\frac{\\partial }{\\partial x^{i}}\\left(T_{jk}\\right)\n",
    "  +\\\\\n",
    "-\n",
    "\\frac{\\partial x^{i'}}{\\partial x^{m}}\n",
    "    \\frac{\\partial x^{k}}{\\partial x^{k'}}\n",
    "    T_{ik}\n",
    "    \\frac{\\partial }{\\partial x^{j'}}\n",
    "        \\left(\\frac{\\partial x^{i}}{\\partial x^{i'}}\\right)\n",
    "        \\xi^m\n",
    "+\n",
    "\\frac{\\partial x^{i}}{\\partial x^{i'}}\n",
    "    \\frac{\\partial x^{k}}{\\partial x^{k'}}\n",
    "    T_{ik}\n",
    "    \\frac{\\partial x^{j}}{\\partial x^{j'}}\n",
    "        \\frac{\\partial x^{i'}}{\\partial x^{m}}  \\frac{\\partial}{\\partial x^{j}} \\xi^m\n",
    "    +\\\\\n",
    "    -\n",
    "            \\frac{\\partial x^{i'}}{\\partial x^{m}}\n",
    "    \\frac{\\partial x^{i}}{\\partial x^{i'}}\n",
    "    T_{ji}\n",
    "    \\frac{\\partial}{\\partial x^{k'}}\n",
    "        \\left(\n",
    "            \\frac{\\partial x^{i}}{\\partial x^{i'}}\n",
    "        \\right)\n",
    "    \\xi^m \n",
    "    +\n",
    "    \\frac{\\partial x^{j}}{\\partial x^{j'}}\n",
    "    \\frac{\\partial x^{i}}{\\partial x^{i'}}\n",
    "    T_{ji}\n",
    "    \\frac{\\partial x^{k}}{\\partial x^{k'}}\n",
    "                \\frac{\\partial x^{i'}}{\\partial x^{m}}\n",
    "            \\frac{\\partial}{\\partial x^{k}}\n",
    "                \\xi^m\n",
    "\\end{equation}"
   ]
  },
  {
   "cell_type": "markdown",
   "id": "60511056",
   "metadata": {},
   "source": [
    "в первой строчке в двух слагаемых вторую производную запишем по другому\n",
    "\n",
    "\\begin{equation}\\label{eq:b_jk_prime}\n",
    "  =  \\xi^{i}\\left(\\frac{\\partial x^{i'}}{\\partial x^{i}}\n",
    "    \\frac{\\partial^2 x^{j}}{\\partial x^{j'}{\\partial x^{i'}}}\\right)\n",
    "    \\frac{\\partial x^{k}}{\\partial x^{k'}}\n",
    "    T_{jk} +\n",
    "    \\xi^{i}\\frac{\\partial x^{j}}{\\partial x^{j'}}\n",
    "    \\left(\\frac{\\partial x^{i'}}{\\partial x^{i}}\n",
    "    \\frac{\\partial^2 x^{k}}{\\partial x^{k'}{\\partial x^{i'}}}\\right)\n",
    "    T_{jk} +\n",
    "    \\xi^{i}\\frac{\\partial x^{j}}{\\partial x^{j'}}\n",
    "    \\frac{\\partial x^{k}}{\\partial x^{k'}}\n",
    "    \\frac{\\partial }{\\partial x^{i}}\\left(T_{jk}\\right)\n",
    "  +\\\\\n",
    "-\n",
    "\\frac{\\partial x^{i'}}{\\partial x^{m}}\n",
    "    \\frac{\\partial x^{k}}{\\partial x^{k'}}\n",
    "    T_{ik}\n",
    "    \\frac{\\partial }{\\partial x^{j'}}\n",
    "        \\left(\\frac{\\partial x^{i}}{\\partial x^{i'}}\\right)\n",
    "        \\xi^m\n",
    "+\n",
    "\\frac{\\partial x^{i}}{\\partial x^{i'}}\n",
    "    \\frac{\\partial x^{k}}{\\partial x^{k'}}\n",
    "    T_{ik}\n",
    "    \\frac{\\partial x^{j}}{\\partial x^{j'}}\n",
    "        \\frac{\\partial x^{i'}}{\\partial x^{m}}  \\frac{\\partial}{\\partial x^{j}} \\xi^m\n",
    "    +\\\\\n",
    "    -\n",
    "            \\frac{\\partial x^{i'}}{\\partial x^{m}}\n",
    "    \\frac{\\partial x^{i}}{\\partial x^{i'}}\n",
    "    T_{ji}\n",
    "    \\frac{\\partial}{\\partial x^{k'}}\n",
    "        \\left(\n",
    "            \\frac{\\partial x^{i}}{\\partial x^{i'}}\n",
    "        \\right)\n",
    "    \\xi^m \n",
    "    +\n",
    "    \\frac{\\partial x^{j}}{\\partial x^{j'}}\n",
    "    \\frac{\\partial x^{i}}{\\partial x^{i'}}\n",
    "    T_{ji}\n",
    "    \\frac{\\partial x^{k}}{\\partial x^{k'}}\n",
    "                \\frac{\\partial x^{i'}}{\\partial x^{m}}\n",
    "            \\frac{\\partial}{\\partial x^{k}}\n",
    "                \\xi^m\n",
    "\\end{equation}"
   ]
  },
  {
   "cell_type": "markdown",
   "id": "0766ea08",
   "metadata": {},
   "source": [
    "немой индекс $i$ заменим на $m$"
   ]
  },
  {
   "cell_type": "markdown",
   "id": "21b8e24b",
   "metadata": {},
   "source": [
    "\n",
    "\\begin{equation}\\label{eq:b_jk_prime}\n",
    "  =  \\xi^{m}\\left(\\frac{\\partial x^{i'}}{\\partial x^{m}}\n",
    "    \\frac{\\partial^2 x^{j}}{\\partial x^{j'}{\\partial x^{i'}}}\\right)\n",
    "    \\frac{\\partial x^{k}}{\\partial x^{k'}}\n",
    "    T_{jk} +\n",
    "    \\xi^{m}\\frac{\\partial x^{j}}{\\partial x^{j'}}\n",
    "    \\left(\\frac{\\partial x^{i'}}{\\partial x^{m}}\n",
    "    \\frac{\\partial^2 x^{k}}{\\partial x^{k'}{\\partial x^{i'}}}\\right)\n",
    "    T_{jk} +\n",
    "    \\xi^{m}\\frac{\\partial x^{j}}{\\partial x^{j'}}\n",
    "    \\frac{\\partial x^{k}}{\\partial x^{k'}}\n",
    "    \\frac{\\partial }{\\partial x^{m}}\\left(T_{jk}\\right)\n",
    "  +\\\\\n",
    "-\n",
    "\\frac{\\partial x^{i'}}{\\partial x^{m}}\n",
    "    \\frac{\\partial x^{k}}{\\partial x^{k'}}\n",
    "    T_{ik}\n",
    "    \\frac{\\partial }{\\partial x^{j'}}\n",
    "        \\left(\\frac{\\partial x^{i}}{\\partial x^{i'}}\\right)\n",
    "        \\xi^m\n",
    "+\n",
    "\\frac{\\partial x^{i}}{\\partial x^{i'}}\n",
    "    \\frac{\\partial x^{k}}{\\partial x^{k'}}\n",
    "    T_{ik}\n",
    "    \\frac{\\partial x^{j}}{\\partial x^{j'}}\n",
    "        \\frac{\\partial x^{i'}}{\\partial x^{m}}  \\frac{\\partial}{\\partial x^{j}} \\xi^m\n",
    "    +\\\\\n",
    "    -\n",
    "            \\frac{\\partial x^{i'}}{\\partial x^{m}}\n",
    "    \\frac{\\partial x^{i}}{\\partial x^{i'}}\n",
    "    T_{ji}\n",
    "    \\frac{\\partial}{\\partial x^{k'}}\n",
    "        \\left(\n",
    "            \\frac{\\partial x^{i}}{\\partial x^{i'}}\n",
    "        \\right)\n",
    "    \\xi^m \n",
    "    +\n",
    "    \\frac{\\partial x^{j}}{\\partial x^{j'}}\n",
    "    \\frac{\\partial x^{i}}{\\partial x^{i'}}\n",
    "    T_{ji}\n",
    "    \\frac{\\partial x^{k}}{\\partial x^{k'}}\n",
    "                \\frac{\\partial x^{i'}}{\\partial x^{m}}\n",
    "            \\frac{\\partial}{\\partial x^{k}}\n",
    "                \\xi^m\n",
    "\\end{equation}"
   ]
  },
  {
   "cell_type": "markdown",
   "id": "3d8b6c45",
   "metadata": {},
   "source": [
    "Далее в первом слагаемом первой строки немой индекс $j$ заменим на $i$\n",
    "\n",
    "а во втором слагаемом первой строчки немой индекс $k$ заменим на $i$"
   ]
  },
  {
   "cell_type": "markdown",
   "id": "ac95e906",
   "metadata": {},
   "source": [
    "\n",
    "\\begin{equation}\\label{eq:b_jk_prime}\n",
    "  =  \\xi^{m}\\left(\\frac{\\partial x^{i'}}{\\partial x^{m}}\n",
    "    \\frac{\\partial^2 x^{i}}{\\partial x^{j'}{\\partial x^{i'}}}\\right)\n",
    "    \\frac{\\partial x^{k}}{\\partial x^{k'}}\n",
    "    T_{ik} +\n",
    "    \\xi^{m}\\frac{\\partial x^{j}}{\\partial x^{j'}}\n",
    "    \\left(\\frac{\\partial x^{i'}}{\\partial x^{m}}\n",
    "    \\frac{\\partial^2 x^{i}}{\\partial x^{k'}{\\partial x^{i'}}}\\right)\n",
    "    T_{ji} +\n",
    "    \\xi^{m}\\frac{\\partial x^{j}}{\\partial x^{j'}}\n",
    "    \\frac{\\partial x^{k}}{\\partial x^{k'}}\n",
    "    \\frac{\\partial }{\\partial x^{m}}\\left(T_{jk}\\right)\n",
    "  +\\\\\n",
    "-\n",
    "\\frac{\\partial x^{i'}}{\\partial x^{m}}\n",
    "    \\frac{\\partial x^{k}}{\\partial x^{k'}}\n",
    "    T_{ik}\n",
    "    \\frac{\\partial }{\\partial x^{j'}}\n",
    "        \\left(\\frac{\\partial x^{i}}{\\partial x^{i'}}\\right)\n",
    "        \\xi^m\n",
    "+\n",
    "\\frac{\\partial x^{i}}{\\partial x^{i'}}\n",
    "    \\frac{\\partial x^{k}}{\\partial x^{k'}}\n",
    "    T_{ik}\n",
    "    \\frac{\\partial x^{j}}{\\partial x^{j'}}\n",
    "        \\frac{\\partial x^{i'}}{\\partial x^{m}}  \\frac{\\partial}{\\partial x^{j}} \\xi^m\n",
    "    +\\\\\n",
    "    -\n",
    "            \\frac{\\partial x^{i'}}{\\partial x^{m}}\n",
    "    \\frac{\\partial x^{i}}{\\partial x^{i'}}\n",
    "    T_{ji}\n",
    "    \\frac{\\partial}{\\partial x^{k'}}\n",
    "        \\left(\n",
    "            \\frac{\\partial x^{i}}{\\partial x^{i'}}\n",
    "        \\right)\n",
    "    \\xi^m \n",
    "    +\n",
    "    \\frac{\\partial x^{j}}{\\partial x^{j'}}\n",
    "    \\frac{\\partial x^{i}}{\\partial x^{i'}}\n",
    "    T_{ji}\n",
    "    \\frac{\\partial x^{k}}{\\partial x^{k'}}\n",
    "                \\frac{\\partial x^{i'}}{\\partial x^{m}}\n",
    "            \\frac{\\partial}{\\partial x^{k}}\n",
    "                \\xi^m\n",
    "\\end{equation}"
   ]
  },
  {
   "cell_type": "markdown",
   "id": "477c854e",
   "metadata": {},
   "source": [
    "Таким образом первое и второе слагаемое первой строчки компенсируются первыми слагаемыми во второй и третьех строчках"
   ]
  },
  {
   "cell_type": "markdown",
   "id": "ebb1b6d2",
   "metadata": {},
   "source": [
    "\\begin{equation}\\label{eq:b_jk_prime}\n",
    "  =  \\xi^{m}\\frac{\\partial x^{j}}{\\partial x^{j'}}\n",
    "    \\frac{\\partial x^{k}}{\\partial x^{k'}}\n",
    "    \\frac{\\partial }{\\partial x^{m}}\\left(T_{jk}\\right)\n",
    "  +\\\\\n",
    "\\frac{\\partial x^{i}}{\\partial x^{i'}}\n",
    "    \\frac{\\partial x^{k}}{\\partial x^{k'}}\n",
    "    T_{ik}\n",
    "    \\frac{\\partial x^{j}}{\\partial x^{j'}}\n",
    "        \\frac{\\partial x^{i'}}{\\partial x^{m}}  \\frac{\\partial}{\\partial x^{j}} \\xi^m\n",
    "    +\\\\\n",
    "    \\frac{\\partial x^{j}}{\\partial x^{j'}}\n",
    "    \\frac{\\partial x^{i}}{\\partial x^{i'}}\n",
    "    T_{ji}\n",
    "    \\frac{\\partial x^{k}}{\\partial x^{k'}}\n",
    "                \\frac{\\partial x^{i'}}{\\partial x^{m}}\n",
    "            \\frac{\\partial}{\\partial x^{k}}\n",
    "                \\xi^m\n",
    "\\end{equation}"
   ]
  },
  {
   "cell_type": "markdown",
   "id": "d0bbfc22",
   "metadata": {},
   "source": [
    "выносим слагаемые $\\frac{\\partial x^{j}}{\\partial x^{j'}}\n",
    "    \\frac{\\partial x^{k}}{\\partial x^{k'}}$ за скобки"
   ]
  },
  {
   "cell_type": "markdown",
   "id": "824898df",
   "metadata": {},
   "source": [
    "\\begin{equation}\\label{eq:b_jk_prime}\n",
    "  =  \n",
    "  \\frac{\\partial x^{j}}{\\partial x^{j'}}\n",
    "  \\frac{\\partial x^{k}}{\\partial x^{k'}}\n",
    "  \\left(\n",
    "       \\xi^{m}\n",
    "       \\frac{\\partial }{\\partial x^{m}}\\left(T_{jk}\\right)\n",
    "    +\n",
    "       \\frac{\\partial x^{i}}{\\partial x^{i'}}\n",
    "       T_{ik}\n",
    "        \\frac{\\partial x^{i'}}{\\partial x^{m}}\n",
    "        \\frac{\\partial}{\\partial x^{j}} \\xi^m\n",
    "    +\n",
    "    \\frac{\\partial x^{i}}{\\partial x^{i'}}\n",
    "    T_{ji}\n",
    "    \\frac{\\partial x^{i'}}{\\partial x^{m}}\n",
    "    \\frac{\\partial}{\\partial x^{k}}\n",
    "    \\xi^m\n",
    "  \\right)\n",
    "\\end{equation}"
   ]
  },
  {
   "cell_type": "markdown",
   "id": "791fce81",
   "metadata": {},
   "source": [
    "суммируем по $i′$ во втором и третьем слагаемом"
   ]
  },
  {
   "cell_type": "markdown",
   "id": "258c0c1e",
   "metadata": {},
   "source": [
    "\\begin{equation}\\label{eq:b_jk_prime}\n",
    "  =  \n",
    "  \\frac{\\partial x^{j}}{\\partial x^{j'}}\n",
    "  \\frac{\\partial x^{k}}{\\partial x^{k'}}\n",
    "  \\left(\n",
    "       \\xi^{m}\n",
    "       \\frac{\\partial }{\\partial x^{m}}\\left(T_{jk}\\right)\n",
    "    +\n",
    "       T_{ik}\n",
    "        \\frac{\\partial x^{i}}{\\partial x^{m}}\n",
    "        \\frac{\\partial}{\\partial x^{j}} \\xi^m\n",
    "    +\n",
    "    T_{ji}\n",
    "    \\frac{\\partial x^{i}}{\\partial x^{m}}\n",
    "    \\frac{\\partial}{\\partial x^{k}}\n",
    "    \\xi^m\n",
    "  \\right)\n",
    "\\end{equation}"
   ]
  },
  {
   "cell_type": "markdown",
   "id": "4a05a0f4",
   "metadata": {},
   "source": [
    "делаем замену на символ Кронекера"
   ]
  },
  {
   "cell_type": "markdown",
   "id": "41e7e6d4",
   "metadata": {},
   "source": [
    "\\begin{equation}\\label{eq:b_jk_prime}\n",
    "  =  \n",
    "  \\frac{\\partial x^{j}}{\\partial x^{j'}}\n",
    "  \\frac{\\partial x^{k}}{\\partial x^{k'}}\n",
    "  \\left(\n",
    "       \\xi^{m}\n",
    "       \\frac{\\partial }{\\partial x^{m}}\\left(T_{jk}\\right)\n",
    "    +\n",
    "       T_{ik}\n",
    "        \\delta^{i}_{m}\n",
    "        \\frac{\\partial}{\\partial x^{j}} \\xi^m\n",
    "    +\n",
    "    T_{ji}\n",
    "    \\delta^{i}_{m}\n",
    "    \\frac{\\partial}{\\partial x^{k}}\n",
    "    \\xi^m\n",
    "  \\right)\n",
    "\\end{equation}"
   ]
  },
  {
   "cell_type": "markdown",
   "id": "e1334878",
   "metadata": {},
   "source": [
    "заменяем индекс с помощью символа Кронекера"
   ]
  },
  {
   "cell_type": "markdown",
   "id": "69a8a32e",
   "metadata": {},
   "source": [
    "\\begin{equation}\\label{eq:b_jk_prime}\n",
    "  =  \n",
    "  \\frac{\\partial x^{j}}{\\partial x^{j'}}\n",
    "  \\frac{\\partial x^{k}}{\\partial x^{k'}}\n",
    "  \\left(\n",
    "       \\xi^{m}\n",
    "       \\frac{\\partial }{\\partial x^{m}}\\left(T_{jk}\\right)\n",
    "    +\n",
    "       T_{ik}\n",
    "        \\frac{\\partial}{\\partial x^{j}} \\xi^i\n",
    "    +\n",
    "    \\frac{\\partial}{\\partial x^{k}}\n",
    "    \\xi^i\n",
    "  \\right)\n",
    "\\end{equation}"
   ]
  },
  {
   "cell_type": "markdown",
   "id": "93c5a61f",
   "metadata": {},
   "source": [
    "немой индекс $m$ заменим на $i$"
   ]
  },
  {
   "cell_type": "markdown",
   "id": "aec40e8b",
   "metadata": {},
   "source": [
    "\\begin{equation}\\label{eq:b_jk_prime}\n",
    "   b_{j'k'} \\equiv\n",
    "  \\xi^{i'} \\frac{\\partial T_{j'k'}}{\\partial x^{i'}}\n",
    "  +\n",
    "  T_{i'k'} \\frac{\\partial \\xi^{i'}}{\\partial x^{j'}}\n",
    "  +\n",
    "  T_{j'i'} \\frac{\\partial \\xi^{i'}}{\\partial x^{k'}}=  \n",
    "  \\frac{\\partial x^{j}}{\\partial x^{j'}}\n",
    "  \\frac{\\partial x^{k}}{\\partial x^{k'}}\n",
    "  \\left(\n",
    "       \\xi^{i}\n",
    "       \\frac{\\partial }{\\partial x^{i}}\\left(T_{jk}\\right)\n",
    "    +\n",
    "       T_{ik}\n",
    "        \\frac{\\partial}{\\partial x^{j}} \\xi^i\n",
    "    +\n",
    "    \\frac{\\partial}{\\partial x^{k}}\n",
    "    \\xi^i\n",
    "    \\right) =\n",
    "    \\frac{\\partial x^{j}}{\\partial x^{j'}}\n",
    "    \\frac{\\partial x^{k}}{\\partial x^{k'}}\n",
    "    b_{jk}\n",
    "\\end{equation}"
   ]
  },
  {
   "cell_type": "markdown",
   "id": "a6a3d0d4",
   "metadata": {},
   "source": [
    "\\begin{equation}\\label{eq:b_jk_prime}\n",
    "   b_{j'k'} =\n",
    "    \\frac{\\partial x^{j}}{\\partial x^{j'}}\n",
    "    \\frac{\\partial x^{k}}{\\partial x^{k'}}\n",
    "    b_{jk}\n",
    "\\end{equation}"
   ]
  },
  {
   "cell_type": "code",
   "execution_count": null,
   "id": "b210f3b8",
   "metadata": {},
   "outputs": [],
   "source": []
  }
 ],
 "metadata": {
  "kernelspec": {
   "display_name": "SageMath 9.6.beta7",
   "language": "sage",
   "name": "sagemath"
  },
  "language_info": {
   "codemirror_mode": {
    "name": "ipython",
    "version": 3
   },
   "file_extension": ".py",
   "mimetype": "text/x-python",
   "name": "python",
   "nbconvert_exporter": "python",
   "pygments_lexer": "ipython3",
   "version": "3.10.3"
  }
 },
 "nbformat": 4,
 "nbformat_minor": 5
}

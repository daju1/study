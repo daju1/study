{
 "cells": [
  {
   "cell_type": "markdown",
   "id": "29895e1f",
   "metadata": {},
   "source": [
    "# Перетворення криволінійних координат. Формальне визначення коваріантних та контраваріантних компонентів"
   ]
  },
  {
   "cell_type": "markdown",
   "id": "93eec4af",
   "metadata": {},
   "source": [
    "Припустимо, що ми працюємо в криволінійній системі координат, визначеній\n",
    "вектором $\\vec q$. Перейдемо до іншої системи координат, положення точок якої\n",
    "визначається вектором $\\vec p$, таким, що перетворення від старої системи координат до\n",
    "нової визначається рівняннями"
   ]
  },
  {
   "cell_type": "markdown",
   "id": "fbe15536",
   "metadata": {},
   "source": [
    "$p^j = p^j(q^1, q^2, q^3)$"
   ]
  },
  {
   "cell_type": "markdown",
   "id": "1784adc8",
   "metadata": {},
   "source": [
    "Вважатимемо перетворення (16) оборотним, тобто, припустимо існування\n",
    "функції"
   ]
  },
  {
   "cell_type": "markdown",
   "id": "4871e37e",
   "metadata": {},
   "source": [
    "$q^j = q^j(p^1, p^2, p^3)$"
   ]
  },
  {
   "cell_type": "markdown",
   "id": "5d0f0fdb",
   "metadata": {},
   "source": [
    "# Коваріантна похідна.\n",
    "\n",
    "# Символи Крістоффеля 2-го роду\n",
    "\n",
    "\n",
    "Треба, продиференціювати вектор, заданий довільними координатами по одній\n",
    "із координат."
   ]
  },
  {
   "cell_type": "markdown",
   "id": "21ba9df9",
   "metadata": {},
   "source": [
    "$$\n",
    "\\frac{\\partial \\vec a}{\\partial q^j} = \n",
    "\\frac{\\partial}{\\partial q^j}\n",
    "\\left(a^i \\vec e_i \\right) =\n",
    "\\frac{\\partial a^i}{\\partial q^j}\\vec e_i\n",
    "+\n",
    "a^i \\frac{\\partial \\vec e_i}{\\partial q^j}\n",
    "$$"
   ]
  },
  {
   "cell_type": "markdown",
   "id": "9dd2a3e4",
   "metadata": {},
   "source": [
    "Например если рассмотреть сферическую систему координат\n",
    "\n",
    "$q^j = (r, \\theta, \\varphi)$"
   ]
  },
  {
   "cell_type": "markdown",
   "id": "4005a4c2",
   "metadata": {},
   "source": [
    "$$\n",
    "{\\vec a} = \n",
    "\\left(a^i \\vec e_i \\right) =\n",
    "\\left(a^r \\vec e_r + a^{\\theta} \\vec e_{\\theta} + a^{\\varphi} \\vec e_{\\varphi} \\right)\n",
    "$$"
   ]
  },
  {
   "cell_type": "markdown",
   "id": "92ef5c58",
   "metadata": {},
   "source": [
    "$$\\vec e_i =\n",
    "\\left( \\vec e_r, \\vec e_{\\theta}, \\vec e_{\\varphi} \\right)$$"
   ]
  },
  {
   "cell_type": "markdown",
   "id": "2f6bd4b2",
   "metadata": {},
   "source": [
    "Похідна від базисного вектора $\\frac{\\partial \\vec e_i}{\\partial q^j}$ складена на підставі того, що базис у\n",
    "криволінійних координатах залежить від них, а значить, його похідна від координати\n",
    "відмінна від нуля. Ця похідна теж буде вектором, а значить її можна розкласти по\n",
    "локальному базису, наприклад так"
   ]
  },
  {
   "cell_type": "markdown",
   "id": "42e7d130",
   "metadata": {},
   "source": [
    "$$\n",
    "\\frac{\\partial \\vec e_i}{\\partial q^j} = \\Gamma^k_{ij} \\vec e_k\n",
    "$$"
   ]
  },
  {
   "cell_type": "markdown",
   "id": "31462374",
   "metadata": {},
   "source": [
    "Символ Кристоффеля (коефіцієнти координатного вираження\n",
    "афінної зв'язності, зокрема, зв'язності Леві-Чівіти)."
   ]
  },
  {
   "cell_type": "markdown",
   "id": "ad8b2d4b",
   "metadata": {},
   "source": [
    "Знайдемо коефіцієнти розкладання $\\Gamma^k_{ij}$: \n",
    "\n",
    "коваріантний метричний тензор $g_{ij}=  \\vec e_i \\cdot \\vec e_j$ \n",
    "продиференціюємо за вказаною координатою"
   ]
  },
  {
   "cell_type": "markdown",
   "id": "0d15fe00",
   "metadata": {},
   "source": [
    "$$\n",
    "\\frac{\\partial g_{ij}}{\\partial q^k} =\n",
    "\\frac{\\partial \\vec e_i}{\\partial q^k}\\vec e_j\n",
    "+\n",
    "\\vec e_i \\frac{\\partial \\vec e_j}{\\partial q^k}\n",
    "$$"
   ]
  },
  {
   "cell_type": "markdown",
   "id": "0a40cbf9",
   "metadata": {},
   "source": [
    "Підставимо (25) у (26)"
   ]
  },
  {
   "cell_type": "markdown",
   "id": "98e27df7",
   "metadata": {},
   "source": [
    "$$\n",
    "\\frac{\\partial g_{ij}}{\\partial q^k} =\n",
    "\\Gamma^m_{ik} \\left(\\vec e_m \\cdot \\vec e_j\\right)\n",
    "+\n",
    "\\Gamma^m_{jk} \\left(\\vec e_m \\cdot \\vec e_i \\right)\n",
    "$$"
   ]
  },
  {
   "cell_type": "markdown",
   "id": "847addbb",
   "metadata": {},
   "source": [
    "Очевидна присутність компонентів метричного тензора, тому виконуємо заміну"
   ]
  },
  {
   "cell_type": "markdown",
   "id": "62c52c28",
   "metadata": {},
   "source": [
    "$$\n",
    "\\frac{\\partial g_{ij}}{\\partial q^k} =\n",
    "\\Gamma^m_{ik} g_{mj}\n",
    "+\n",
    "\\Gamma^m_{jk} g_{mi}\n",
    "$$"
   ]
  },
  {
   "cell_type": "markdown",
   "id": "4e1cf6a3",
   "metadata": {},
   "source": [
    "Знайдені коефіцієнти розкладання симетричні щодо нижніх індексів, оскільки\n",
    "провівши пряме диференціювання базисного вектора приходимо до виразу"
   ]
  },
  {
   "cell_type": "markdown",
   "id": "913a76a0",
   "metadata": {},
   "source": [
    "$$\n",
    "\\frac{\\partial \\vec e_i}{\\partial q^j} = \\frac{\\partial^2 \\vec r}{\\partial q^i \\partial q^j} = \\Gamma^k_{ij} \\vec e_k\n",
    "$$"
   ]
  },
  {
   "cell_type": "markdown",
   "id": "1c56b4f2",
   "metadata": {},
   "source": [
    "$$\n",
    "\\frac{\\partial \\vec e_j}{\\partial q^i} = \\frac{\\partial^2 \\vec r}{\\partial q^j \\partial q^i} = \\Gamma^k_{ji} \\vec e_k\n",
    "$$"
   ]
  },
  {
   "cell_type": "markdown",
   "id": "b5f04dcb",
   "metadata": {},
   "source": [
    "Звідки, через безперервність функцій, що розглядаються, укладаємо, що"
   ]
  },
  {
   "cell_type": "markdown",
   "id": "4f0700f5",
   "metadata": {},
   "source": [
    "$$\n",
    "\\Gamma^k_{ij} = \\Gamma^k_{ji}\n",
    "$$"
   ]
  },
  {
   "cell_type": "markdown",
   "id": "dc60802e",
   "metadata": {},
   "source": [
    "Тепер, переставляючи індекси"
   ]
  },
  {
   "cell_type": "markdown",
   "id": "9362767f",
   "metadata": {},
   "source": [
    "$$\n",
    "\\frac{\\partial g_{ij}}{\\partial q^k} =\n",
    "\\Gamma^m_{ik} g_{mj}\n",
    "+\n",
    "\\Gamma^m_{jk} g_{mi}\n",
    "$$"
   ]
  },
  {
   "cell_type": "markdown",
   "id": "33f0582e",
   "metadata": {},
   "source": [
    "$$\n",
    "\\frac{\\partial g_{jk}}{\\partial q^i} =\n",
    "\\Gamma^m_{ki} g_{mj}\n",
    "+\n",
    "\\Gamma^m_{ji} g_{mk}\n",
    "$$"
   ]
  },
  {
   "cell_type": "markdown",
   "id": "feddcabf",
   "metadata": {},
   "source": [
    "$$\n",
    "\\frac{\\partial g_{ki}}{\\partial q^j} =\n",
    "\\Gamma^m_{ij} g_{mk}\n",
    "+\n",
    "\\Gamma^m_{kj} g_{mi}\n",
    "$$"
   ]
  },
  {
   "cell_type": "markdown",
   "id": "1f29280a",
   "metadata": {},
   "source": [
    "Тепер складемо (29) і (30), врахувавши при цьому симетричність (28)"
   ]
  },
  {
   "cell_type": "markdown",
   "id": "21bdcb36",
   "metadata": {},
   "source": [
    "$$\n",
    "\\frac{\\partial g_{jk}}{\\partial q^i} + \\frac{\\partial g_{ki}}{\\partial q^j} =\n",
    "\\Gamma^m_{ki} g_{mj}\n",
    "+\n",
    "\\Gamma^m_{ji} g_{mk}\n",
    "+\n",
    "\\Gamma^m_{ij} g_{mk}\n",
    "+\n",
    "\\Gamma^m_{kj} g_{mi}\n",
    "$$"
   ]
  },
  {
   "cell_type": "markdown",
   "id": "bedd6db2",
   "metadata": {},
   "source": [
    "$$\n",
    "\\frac{\\partial g_{jk}}{\\partial q^i} + \\frac{\\partial g_{ki}}{\\partial q^j} =\n",
    "\\Gamma^m_{ki} g_{mj}\n",
    "+\n",
    "2\\,\n",
    "\\Gamma^m_{ij} g_{mk}\n",
    "+\n",
    "\\Gamma^m_{kj} g_{mi}\n",
    "$$"
   ]
  },
  {
   "cell_type": "markdown",
   "id": "7b528b60",
   "metadata": {},
   "source": [
    "Віднімаємо (27) з (31), знову враховуючи (28)"
   ]
  },
  {
   "cell_type": "markdown",
   "id": "4d5ce2a6",
   "metadata": {},
   "source": [
    "$$\n",
    "\\frac{\\partial g_{jk}}{\\partial q^i} + \\frac{\\partial g_{ki}}{\\partial q^j} -\\frac{\\partial g_{ij}}{\\partial q^k} =\n",
    "\\Gamma^m_{ki} g_{mj}\n",
    "+\n",
    "2\\,\n",
    "\\Gamma^m_{ij} g_{mk}\n",
    "+\n",
    "\\Gamma^m_{kj} g_{mi}\n",
    "-\n",
    "\\Gamma^m_{ik} g_{mj}\n",
    "-\n",
    "\\Gamma^m_{jk} g_{mi}\n",
    "$$"
   ]
  },
  {
   "cell_type": "markdown",
   "id": "0dc94d5b",
   "metadata": {},
   "source": [
    "$$\n",
    "\\frac{\\partial g_{jk}}{\\partial q^i} + \\frac{\\partial g_{ki}}{\\partial q^j} -\\frac{\\partial g_{ij}}{\\partial q^k} =\n",
    "2\\,\n",
    "\\Gamma^m_{ij} g_{mk}\n",
    "$$"
   ]
  },
  {
   "cell_type": "markdown",
   "id": "e7fd1ce2",
   "metadata": {},
   "source": [
    "Помножуємо (32) на $\\frac{1}{2} g^{mk}$\n",
    "і отримуємо остаточно"
   ]
  },
  {
   "cell_type": "markdown",
   "id": "a14067ed",
   "metadata": {},
   "source": [
    "$$\n",
    "\\Gamma^m_{ij}\n",
    "=\n",
    "\\frac{1}{2} g^{mk}\n",
    "\\left(\n",
    "\\frac{\\partial g_{jk}}{\\partial q^i} + \\frac{\\partial g_{ki}}{\\partial q^j} -\\frac{\\partial g_{ij}}{\\partial q^k}\n",
    "\\right) \n",
    "$$"
   ]
  },
  {
   "cell_type": "markdown",
   "id": "c1e8eaf0",
   "metadata": {},
   "source": [
    "<b>символ Кристоффеля 2-го роду</b>"
   ]
  },
  {
   "cell_type": "markdown",
   "id": "dad19b29",
   "metadata": {},
   "source": [
    "$$\n",
    "\\frac{\\partial \\vec a}{\\partial q^j} = \n",
    "\\frac{\\partial a^m}{\\partial q^j}\\vec e_m\n",
    "+\n",
    "a^i \\Gamma^m_{ij} \\vec e_m =\n",
    "\\left(\n",
    "\\frac{\\partial a^m}{\\partial q^j}\n",
    "+\n",
    "a^i \\Gamma^m_{ij}\\right) \\cdot \\vec e_m\n",
    "$$"
   ]
  },
  {
   "cell_type": "markdown",
   "id": "8b62cd49",
   "metadata": {},
   "source": [
    "Вираз в дужках - <b>ковариантна похідна контравариантних компонент\n",
    "вектору</b>"
   ]
  },
  {
   "cell_type": "markdown",
   "id": "c71db5ce",
   "metadata": {},
   "source": [
    "$$\n",
    "\\nabla_j a^m =\n",
    "\\left(\n",
    "\\frac{\\partial a^m}{\\partial q^j}\n",
    "+\n",
    "a^i \\Gamma^m_{ij}\\right) \\cdot \\vec e_m\n",
    "$$"
   ]
  },
  {
   "cell_type": "markdown",
   "id": "001402db",
   "metadata": {},
   "source": [
    "Виходячи з (35) зрозуміло, що намагаючись диференціювати по криволінійній\n",
    "координаті, треба враховувати залежність базису від координат. Якщо метрика\n",
    "залежить від положення точки прикладання вектора у просторі, то (35)\n",
    "перетворюється на часткову похідну, оскільки всі символи Крістоффеля\n",
    "дорівнюватимуть нулю, бо метричний тензор залежить від координат. У будь-якій\n",
    "косокутній системі координат, і в їхньому окремому випадку — декартових\n",
    "координатах, символи Крістоффеля, згідно (33) дорівнюють нулю. Отже, згідно (35)\n",
    "коваріантна похідна від вектора по координаті буде збігатися з його частковою\n",
    "похідною за цією координатою, що було відомо. Але якби (33) (символ Крістоффеля)\n",
    "був тензором, то він, рівний нулю, залишився б нульовим у будь-якій іншій системі\n",
    "координат. Але у криволінійних координатах (33) нулю не рівні. Отже <b>символи\n",
    "Крістоффеля не є тензором</b>. При перетворенні системи координат змінюються\n",
    "компоненти, але з сутність тензора. Нульовий тензор повинен бути таким у будь-якій\n",
    "системі координат."
   ]
  },
  {
   "cell_type": "markdown",
   "id": "0d485a10",
   "metadata": {},
   "source": [
    "Сферические координаты являются ортогональными, поэтому метрический тензор имеет в них диагональный вид:"
   ]
  },
  {
   "cell_type": "markdown",
   "id": "ce9e82dc",
   "metadata": {},
   "source": [
    "$${\\displaystyle\n",
    "g_{ij}={\\begin{pmatrix}\n",
    "1 &  0   & 0 \\\\\n",
    "0 &r^{2} & 0 \\\\\n",
    "0 &  0   & r^{2}\\sin ^{2}\\theta \\end{pmatrix}},\n",
    "\\quad g^{ij}={\\begin{pmatrix}\n",
    "1 &      0              & 0 \\\\\n",
    "0 & {\\dfrac {1}{r^{2}}} & 0 \\\\\n",
    "0 &      0              & {\\dfrac {1}{r^{2}\\sin ^{2}\\theta }}\n",
    "\\end{pmatrix}}}$$"
   ]
  },
  {
   "cell_type": "code",
   "execution_count": 1,
   "id": "562c7fff",
   "metadata": {},
   "outputs": [],
   "source": [
    "from IPython.display import display, Math, Latex\n",
    "\n",
    "def disp(ex):\n",
    "    display(Math(latex(ex)))\n",
    "    \n",
    "def displ(tex):\n",
    "    display(Math(tex))\n",
    "    \n",
    "r = var(\"r\")\n",
    "theta = var(\"theta\")\n",
    "phi = var(\"phi\")"
   ]
  },
  {
   "cell_type": "code",
   "execution_count": 2,
   "id": "24c910f0",
   "metadata": {},
   "outputs": [],
   "source": [
    "g_ij = Matrix(\n",
    "    [[1, 0, 0],\n",
    "     [0, r^2, 0],\n",
    "     [0,0,r^2*sin(theta)^2]\n",
    "    ])"
   ]
  },
  {
   "cell_type": "code",
   "execution_count": 3,
   "id": "21da7c30",
   "metadata": {},
   "outputs": [],
   "source": [
    "gij = Matrix(\n",
    "    [[1, 0, 0],\n",
    "     [0, 1/r^2, 0],\n",
    "     [0,0,1/(r^2*sin(theta)^2)]\n",
    "    ])"
   ]
  },
  {
   "cell_type": "code",
   "execution_count": 4,
   "id": "9c2b3bc6",
   "metadata": {},
   "outputs": [
    {
     "data": {
      "text/latex": [
       "$\\displaystyle \\left(\\begin{array}{rrr}\n",
       "1 & 0 & 0 \\\\\n",
       "0 & r^{2} & 0 \\\\\n",
       "0 & 0 & r^{2} \\sin\\left(\\theta\\right)^{2}\n",
       "\\end{array}\\right)$"
      ],
      "text/plain": [
       "<IPython.core.display.Math object>"
      ]
     },
     "metadata": {},
     "output_type": "display_data"
    }
   ],
   "source": [
    "disp(g_ij)"
   ]
  },
  {
   "cell_type": "code",
   "execution_count": 5,
   "id": "22b3dced",
   "metadata": {},
   "outputs": [
    {
     "data": {
      "text/latex": [
       "$\\displaystyle \\left(\\begin{array}{rrr}\n",
       "1 & 0 & 0 \\\\\n",
       "0 & \\frac{1}{r^{2}} & 0 \\\\\n",
       "0 & 0 & \\frac{1}{r^{2} \\sin\\left(\\theta\\right)^{2}}\n",
       "\\end{array}\\right)$"
      ],
      "text/plain": [
       "<IPython.core.display.Math object>"
      ]
     },
     "metadata": {},
     "output_type": "display_data"
    }
   ],
   "source": [
    "disp(gij)"
   ]
  },
  {
   "cell_type": "code",
   "execution_count": 6,
   "id": "375db97e",
   "metadata": {},
   "outputs": [
    {
     "data": {
      "text/plain": [
       "[1 0 0]\n",
       "[0 1 0]\n",
       "[0 0 1]"
      ]
     },
     "execution_count": 6,
     "metadata": {},
     "output_type": "execute_result"
    }
   ],
   "source": [
    "g_ij*gij"
   ]
  },
  {
   "cell_type": "markdown",
   "id": "c3f765fe",
   "metadata": {},
   "source": [
    "если рассмотреть сферическую систему координат\n",
    "\n",
    "$q^j = (r, \\theta, \\varphi)$"
   ]
  },
  {
   "cell_type": "code",
   "execution_count": 7,
   "id": "0736f4f6",
   "metadata": {},
   "outputs": [],
   "source": [
    "q = [r, theta, phi]"
   ]
  },
  {
   "cell_type": "markdown",
   "id": "60ccf194",
   "metadata": {},
   "source": [
    "$$\n",
    "\\Gamma^m_{ij}\n",
    "=\n",
    "\\frac{1}{2} g^{mk}\n",
    "\\left(\n",
    "\\frac{\\partial g_{jk}}{\\partial q^i} + \\frac{\\partial g_{ki}}{\\partial q^j} -\\frac{\\partial g_{ij}}{\\partial q^k}\n",
    "\\right) \n",
    "$$"
   ]
  },
  {
   "cell_type": "code",
   "execution_count": 8,
   "id": "6f933662",
   "metadata": {},
   "outputs": [],
   "source": [
    "def calc_Gamma(m, i, j):\n",
    "    Gamma = 0\n",
    "    for k in range(0, 3):\n",
    "        Gamma += gij[m][k] * g_ij[j][k].diff(q[i])\n",
    "        Gamma += gij[m][k] * g_ij[k][i].diff(q[j])\n",
    "        Gamma -= gij[m][k] * g_ij[i][j].diff(q[k])\n",
    "    Gamma *= 1/2\n",
    "    return Gamma"
   ]
  },
  {
   "cell_type": "code",
   "execution_count": 10,
   "id": "fa66afd9",
   "metadata": {},
   "outputs": [
    {
     "data": {
      "text/latex": [
       "$\\displaystyle \\Gamma^{1}_{11} = 0$"
      ],
      "text/plain": [
       "<IPython.core.display.Math object>"
      ]
     },
     "metadata": {},
     "output_type": "display_data"
    },
    {
     "data": {
      "text/latex": [
       "$\\displaystyle \\Gamma^{1}_{12} = 0$"
      ],
      "text/plain": [
       "<IPython.core.display.Math object>"
      ]
     },
     "metadata": {},
     "output_type": "display_data"
    },
    {
     "data": {
      "text/latex": [
       "$\\displaystyle \\Gamma^{1}_{13} = 0$"
      ],
      "text/plain": [
       "<IPython.core.display.Math object>"
      ]
     },
     "metadata": {},
     "output_type": "display_data"
    },
    {
     "data": {
      "text/latex": [
       "$\\displaystyle \\Gamma^{1}_{21} = 0$"
      ],
      "text/plain": [
       "<IPython.core.display.Math object>"
      ]
     },
     "metadata": {},
     "output_type": "display_data"
    },
    {
     "data": {
      "text/latex": [
       "$\\displaystyle \\Gamma^{1}_{22} = -r$"
      ],
      "text/plain": [
       "<IPython.core.display.Math object>"
      ]
     },
     "metadata": {},
     "output_type": "display_data"
    },
    {
     "data": {
      "text/latex": [
       "$\\displaystyle \\Gamma^{1}_{23} = 0$"
      ],
      "text/plain": [
       "<IPython.core.display.Math object>"
      ]
     },
     "metadata": {},
     "output_type": "display_data"
    },
    {
     "data": {
      "text/latex": [
       "$\\displaystyle \\Gamma^{1}_{31} = 0$"
      ],
      "text/plain": [
       "<IPython.core.display.Math object>"
      ]
     },
     "metadata": {},
     "output_type": "display_data"
    },
    {
     "data": {
      "text/latex": [
       "$\\displaystyle \\Gamma^{1}_{32} = 0$"
      ],
      "text/plain": [
       "<IPython.core.display.Math object>"
      ]
     },
     "metadata": {},
     "output_type": "display_data"
    },
    {
     "data": {
      "text/latex": [
       "$\\displaystyle \\Gamma^{1}_{33} = -r \\sin\\left(\\theta\\right)^{2}$"
      ],
      "text/plain": [
       "<IPython.core.display.Math object>"
      ]
     },
     "metadata": {},
     "output_type": "display_data"
    },
    {
     "data": {
      "text/latex": [
       "$\\displaystyle \\Gamma^{2}_{11} = 0$"
      ],
      "text/plain": [
       "<IPython.core.display.Math object>"
      ]
     },
     "metadata": {},
     "output_type": "display_data"
    },
    {
     "data": {
      "text/latex": [
       "$\\displaystyle \\Gamma^{2}_{12} = \\frac{1}{r}$"
      ],
      "text/plain": [
       "<IPython.core.display.Math object>"
      ]
     },
     "metadata": {},
     "output_type": "display_data"
    },
    {
     "data": {
      "text/latex": [
       "$\\displaystyle \\Gamma^{2}_{13} = 0$"
      ],
      "text/plain": [
       "<IPython.core.display.Math object>"
      ]
     },
     "metadata": {},
     "output_type": "display_data"
    },
    {
     "data": {
      "text/latex": [
       "$\\displaystyle \\Gamma^{2}_{21} = \\frac{1}{r}$"
      ],
      "text/plain": [
       "<IPython.core.display.Math object>"
      ]
     },
     "metadata": {},
     "output_type": "display_data"
    },
    {
     "data": {
      "text/latex": [
       "$\\displaystyle \\Gamma^{2}_{22} = 0$"
      ],
      "text/plain": [
       "<IPython.core.display.Math object>"
      ]
     },
     "metadata": {},
     "output_type": "display_data"
    },
    {
     "data": {
      "text/latex": [
       "$\\displaystyle \\Gamma^{2}_{23} = 0$"
      ],
      "text/plain": [
       "<IPython.core.display.Math object>"
      ]
     },
     "metadata": {},
     "output_type": "display_data"
    },
    {
     "data": {
      "text/latex": [
       "$\\displaystyle \\Gamma^{2}_{31} = 0$"
      ],
      "text/plain": [
       "<IPython.core.display.Math object>"
      ]
     },
     "metadata": {},
     "output_type": "display_data"
    },
    {
     "data": {
      "text/latex": [
       "$\\displaystyle \\Gamma^{2}_{32} = 0$"
      ],
      "text/plain": [
       "<IPython.core.display.Math object>"
      ]
     },
     "metadata": {},
     "output_type": "display_data"
    },
    {
     "data": {
      "text/latex": [
       "$\\displaystyle \\Gamma^{2}_{33} = -\\cos\\left(\\theta\\right) \\sin\\left(\\theta\\right)$"
      ],
      "text/plain": [
       "<IPython.core.display.Math object>"
      ]
     },
     "metadata": {},
     "output_type": "display_data"
    },
    {
     "data": {
      "text/latex": [
       "$\\displaystyle \\Gamma^{3}_{11} = 0$"
      ],
      "text/plain": [
       "<IPython.core.display.Math object>"
      ]
     },
     "metadata": {},
     "output_type": "display_data"
    },
    {
     "data": {
      "text/latex": [
       "$\\displaystyle \\Gamma^{3}_{12} = 0$"
      ],
      "text/plain": [
       "<IPython.core.display.Math object>"
      ]
     },
     "metadata": {},
     "output_type": "display_data"
    },
    {
     "data": {
      "text/latex": [
       "$\\displaystyle \\Gamma^{3}_{13} = \\frac{1}{r}$"
      ],
      "text/plain": [
       "<IPython.core.display.Math object>"
      ]
     },
     "metadata": {},
     "output_type": "display_data"
    },
    {
     "data": {
      "text/latex": [
       "$\\displaystyle \\Gamma^{3}_{21} = 0$"
      ],
      "text/plain": [
       "<IPython.core.display.Math object>"
      ]
     },
     "metadata": {},
     "output_type": "display_data"
    },
    {
     "data": {
      "text/latex": [
       "$\\displaystyle \\Gamma^{3}_{22} = 0$"
      ],
      "text/plain": [
       "<IPython.core.display.Math object>"
      ]
     },
     "metadata": {},
     "output_type": "display_data"
    },
    {
     "data": {
      "text/latex": [
       "$\\displaystyle \\Gamma^{3}_{23} = \\frac{\\cos\\left(\\theta\\right)}{\\sin\\left(\\theta\\right)}$"
      ],
      "text/plain": [
       "<IPython.core.display.Math object>"
      ]
     },
     "metadata": {},
     "output_type": "display_data"
    },
    {
     "data": {
      "text/latex": [
       "$\\displaystyle \\Gamma^{3}_{31} = \\frac{1}{r}$"
      ],
      "text/plain": [
       "<IPython.core.display.Math object>"
      ]
     },
     "metadata": {},
     "output_type": "display_data"
    },
    {
     "data": {
      "text/latex": [
       "$\\displaystyle \\Gamma^{3}_{32} = \\frac{\\cos\\left(\\theta\\right)}{\\sin\\left(\\theta\\right)}$"
      ],
      "text/plain": [
       "<IPython.core.display.Math object>"
      ]
     },
     "metadata": {},
     "output_type": "display_data"
    },
    {
     "data": {
      "text/latex": [
       "$\\displaystyle \\Gamma^{3}_{33} = 0$"
      ],
      "text/plain": [
       "<IPython.core.display.Math object>"
      ]
     },
     "metadata": {},
     "output_type": "display_data"
    }
   ],
   "source": [
    "for m in range (0, 3):\n",
    "    for i in range (0, 3):\n",
    "        for j in range (0, 3):\n",
    "            Gamma_m_ij = calc_Gamma(m, i, j)\n",
    "            #print(\"m =\", m,\n",
    "            #      \"i =\", i,\n",
    "            #      \"j =\", j,\n",
    "            #      \"Gamma_m_ij =\", Gamma_m_ij)\n",
    "            tex = \"\\\\Gamma^{\"+ str(m+1)+ \"}_{\" + \"{:}{:}\".format(i+1, j+1) + \"} =\" + latex(Gamma_m_ij)\n",
    "            displ(tex)"
   ]
  },
  {
   "cell_type": "code",
   "execution_count": null,
   "id": "fcdd7d4f",
   "metadata": {},
   "outputs": [],
   "source": []
  }
 ],
 "metadata": {
  "kernelspec": {
   "display_name": "SageMath 9.6.beta7",
   "language": "sage",
   "name": "sagemath"
  },
  "language_info": {
   "codemirror_mode": {
    "name": "ipython",
    "version": 3
   },
   "file_extension": ".py",
   "mimetype": "text/x-python",
   "name": "python",
   "nbconvert_exporter": "python",
   "pygments_lexer": "ipython3",
   "version": "3.10.3"
  }
 },
 "nbformat": 4,
 "nbformat_minor": 5
}

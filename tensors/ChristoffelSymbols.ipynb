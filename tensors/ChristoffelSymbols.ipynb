{
 "cells": [
  {
   "cell_type": "markdown",
   "id": "0eb3364c",
   "metadata": {},
   "source": [
    "# Перетворення криволінійних координат. Формальне визначення коваріантних та контраваріантних компонентів"
   ]
  },
  {
   "cell_type": "markdown",
   "id": "53f82358",
   "metadata": {},
   "source": [
    "Припустимо, що ми працюємо в криволінійній системі координат, визначеній\n",
    "вектором $\\vec q$. Перейдемо до іншої системи координат, положення точок якої\n",
    "визначається вектором $\\vec p$, таким, що перетворення від старої системи координат до\n",
    "нової визначається рівняннями"
   ]
  },
  {
   "cell_type": "markdown",
   "id": "d7df3f26",
   "metadata": {},
   "source": [
    "$p^j = p^j(q^1, q^2, q^3)$"
   ]
  },
  {
   "cell_type": "markdown",
   "id": "fd403feb",
   "metadata": {},
   "source": [
    "Вважатимемо перетворення (16) оборотним, тобто, припустимо існування\n",
    "функції"
   ]
  },
  {
   "cell_type": "markdown",
   "id": "c4afb21e",
   "metadata": {},
   "source": [
    "$q^j = q^j(p^1, p^2, p^3)$"
   ]
  },
  {
   "cell_type": "markdown",
   "id": "85d358d1",
   "metadata": {},
   "source": [
    "# Коваріантна похідна.\n",
    "\n",
    "# Символи Крістоффеля 2-го роду\n",
    "\n",
    "\n",
    "Треба, продиференціювати вектор, заданий довільними координатами по одній\n",
    "із координат."
   ]
  },
  {
   "cell_type": "markdown",
   "id": "d808ab12",
   "metadata": {},
   "source": [
    "$$\n",
    "\\frac{\\partial \\vec a}{\\partial q^j} = \n",
    "\\frac{\\partial}{\\partial q^j}\n",
    "\\left(a^i \\vec e_i \\right) =\n",
    "\\frac{\\partial a^i}{\\partial q^j}\\vec e_i\n",
    "+\n",
    "a^i \\frac{\\partial \\vec e_i}{\\partial q^j}\n",
    "$$"
   ]
  },
  {
   "cell_type": "markdown",
   "id": "15a60a29",
   "metadata": {},
   "source": [
    "Например если рассмотреть сферическую систему координат\n",
    "\n",
    "$q^j = (r, \\theta, \\varphi)$"
   ]
  },
  {
   "cell_type": "markdown",
   "id": "48a2c4c6",
   "metadata": {},
   "source": [
    "$$\n",
    "{\\vec a} = \n",
    "\\left(a^i \\vec e_i \\right) =\n",
    "\\left(a^r \\vec e_r + a^{\\theta} \\vec e_{\\theta} + a^{\\varphi} \\vec e_{\\varphi} \\right)\n",
    "$$"
   ]
  },
  {
   "cell_type": "markdown",
   "id": "0f3144b1",
   "metadata": {},
   "source": [
    "$$\\vec e_i =\n",
    "\\left( \\vec e_r, \\vec e_{\\theta}, \\vec e_{\\varphi} \\right)$$"
   ]
  },
  {
   "cell_type": "markdown",
   "id": "80240aef",
   "metadata": {},
   "source": [
    "Похідна від базисного вектора $\\frac{\\partial \\vec e_i}{\\partial q^j}$ складена на підставі того, що базис у\n",
    "криволінійних координатах залежить від них, а значить, його похідна від координати\n",
    "відмінна від нуля. Ця похідна теж буде вектором, а значить її можна розкласти по\n",
    "локальному базису, наприклад так"
   ]
  },
  {
   "cell_type": "markdown",
   "id": "d0621f76",
   "metadata": {},
   "source": [
    "$$\n",
    "\\frac{\\partial \\vec e_i}{\\partial q^j} = \\Gamma^k_{ij} \\vec e_k\n",
    "$$"
   ]
  },
  {
   "cell_type": "markdown",
   "id": "67557f63",
   "metadata": {},
   "source": [
    "Символ Кристоффеля (коефіцієнти координатного вираження\n",
    "афінної зв'язності, зокрема, зв'язності Леві-Чівіти)."
   ]
  },
  {
   "cell_type": "markdown",
   "id": "6e179255",
   "metadata": {},
   "source": [
    "Знайдемо коефіцієнти розкладання $\\Gamma^k_{ij}$: \n",
    "\n",
    "коваріантний метричний тензор $g_{ij}=  \\vec e_i \\cdot \\vec e_j$ \n",
    "продиференціюємо за вказаною координатою"
   ]
  },
  {
   "cell_type": "markdown",
   "id": "3d4091a2",
   "metadata": {},
   "source": [
    "$$\n",
    "\\frac{\\partial g_{ij}}{\\partial q^k} =\n",
    "\\frac{\\partial \\vec e_i}{\\partial q^k}\\vec e_j\n",
    "+\n",
    "\\vec e_i \\frac{\\partial \\vec e_j}{\\partial q^k}\n",
    "$$"
   ]
  },
  {
   "cell_type": "markdown",
   "id": "5a83257d",
   "metadata": {},
   "source": [
    "Підставимо (25) у (26)"
   ]
  },
  {
   "cell_type": "markdown",
   "id": "3468810b",
   "metadata": {},
   "source": [
    "$$\n",
    "\\frac{\\partial g_{ij}}{\\partial q^k} =\n",
    "\\Gamma^m_{ik} \\left(\\vec e_m \\cdot \\vec e_j\\right)\n",
    "+\n",
    "\\Gamma^m_{jk} \\left(\\vec e_m \\cdot \\vec e_i \\right)\n",
    "$$"
   ]
  },
  {
   "cell_type": "markdown",
   "id": "08d6ec23",
   "metadata": {},
   "source": [
    "Очевидна присутність компонентів метричного тензора, тому виконуємо заміну"
   ]
  },
  {
   "cell_type": "markdown",
   "id": "312341af",
   "metadata": {},
   "source": [
    "$$\n",
    "\\frac{\\partial g_{ij}}{\\partial q^k} =\n",
    "\\Gamma^m_{ik} g_{mj}\n",
    "+\n",
    "\\Gamma^m_{jk} g_{mi}\n",
    "$$"
   ]
  },
  {
   "cell_type": "markdown",
   "id": "28e37a74",
   "metadata": {},
   "source": [
    "Знайдені коефіцієнти розкладання симетричні щодо нижніх індексів, оскільки\n",
    "провівши пряме диференціювання базисного вектора приходимо до виразу"
   ]
  },
  {
   "cell_type": "markdown",
   "id": "e8635a20",
   "metadata": {},
   "source": [
    "$$\n",
    "\\frac{\\partial \\vec e_i}{\\partial q^j} = \\frac{\\partial^2 \\vec r}{\\partial q^i \\partial q^j} = \\Gamma^k_{ij} \\vec e_k\n",
    "$$"
   ]
  },
  {
   "cell_type": "markdown",
   "id": "9d0bb9d3",
   "metadata": {},
   "source": [
    "$$\n",
    "\\frac{\\partial \\vec e_j}{\\partial q^i} = \\frac{\\partial^2 \\vec r}{\\partial q^j \\partial q^i} = \\Gamma^k_{ji} \\vec e_k\n",
    "$$"
   ]
  },
  {
   "cell_type": "markdown",
   "id": "320326c6",
   "metadata": {},
   "source": [
    "Звідки, через безперервність функцій, що розглядаються, укладаємо, що"
   ]
  },
  {
   "cell_type": "markdown",
   "id": "75507586",
   "metadata": {},
   "source": [
    "$$\n",
    "\\Gamma^k_{ij} = \\Gamma^k_{ji}\n",
    "$$"
   ]
  },
  {
   "cell_type": "markdown",
   "id": "ca3ac265",
   "metadata": {},
   "source": [
    "Тепер, переставляючи індекси"
   ]
  },
  {
   "cell_type": "markdown",
   "id": "1f03c57f",
   "metadata": {},
   "source": [
    "$$\n",
    "\\frac{\\partial g_{ij}}{\\partial q^k} =\n",
    "\\Gamma^m_{ik} g_{mj}\n",
    "+\n",
    "\\Gamma^m_{jk} g_{mi}\n",
    "$$"
   ]
  },
  {
   "cell_type": "markdown",
   "id": "3758a7b7",
   "metadata": {},
   "source": [
    "$$\n",
    "\\frac{\\partial g_{jk}}{\\partial q^i} =\n",
    "\\Gamma^m_{ki} g_{mj}\n",
    "+\n",
    "\\Gamma^m_{ji} g_{mk}\n",
    "$$"
   ]
  },
  {
   "cell_type": "markdown",
   "id": "fff026a5",
   "metadata": {},
   "source": [
    "$$\n",
    "\\frac{\\partial g_{ki}}{\\partial q^j} =\n",
    "\\Gamma^m_{ij} g_{mk}\n",
    "+\n",
    "\\Gamma^m_{kj} g_{mi}\n",
    "$$"
   ]
  },
  {
   "cell_type": "markdown",
   "id": "eaf90eab",
   "metadata": {},
   "source": [
    "Тепер складемо (29) і (30), врахувавши при цьому симетричність (28)"
   ]
  },
  {
   "cell_type": "markdown",
   "id": "167820cd",
   "metadata": {},
   "source": [
    "$$\n",
    "\\frac{\\partial g_{jk}}{\\partial q^i} + \\frac{\\partial g_{ki}}{\\partial q^j} =\n",
    "\\Gamma^m_{ki} g_{mj}\n",
    "+\n",
    "\\Gamma^m_{ji} g_{mk}\n",
    "+\n",
    "\\Gamma^m_{ij} g_{mk}\n",
    "+\n",
    "\\Gamma^m_{kj} g_{mi}\n",
    "$$"
   ]
  },
  {
   "cell_type": "markdown",
   "id": "dd8b8b38",
   "metadata": {},
   "source": [
    "$$\n",
    "\\frac{\\partial g_{jk}}{\\partial q^i} + \\frac{\\partial g_{ki}}{\\partial q^j} =\n",
    "\\Gamma^m_{ki} g_{mj}\n",
    "+\n",
    "2\\,\n",
    "\\Gamma^m_{ij} g_{mk}\n",
    "+\n",
    "\\Gamma^m_{kj} g_{mi}\n",
    "$$"
   ]
  },
  {
   "cell_type": "markdown",
   "id": "126b9060",
   "metadata": {},
   "source": [
    "Віднімаємо (27) з (31), знову враховуючи (28)"
   ]
  },
  {
   "cell_type": "markdown",
   "id": "4fb80a3c",
   "metadata": {},
   "source": [
    "$$\n",
    "\\frac{\\partial g_{jk}}{\\partial q^i} + \\frac{\\partial g_{ki}}{\\partial q^j} -\\frac{\\partial g_{ij}}{\\partial q^k} =\n",
    "\\Gamma^m_{ki} g_{mj}\n",
    "+\n",
    "2\\,\n",
    "\\Gamma^m_{ij} g_{mk}\n",
    "+\n",
    "\\Gamma^m_{kj} g_{mi}\n",
    "-\n",
    "\\Gamma^m_{ik} g_{mj}\n",
    "-\n",
    "\\Gamma^m_{jk} g_{mi}\n",
    "$$"
   ]
  },
  {
   "cell_type": "markdown",
   "id": "5475e2d8",
   "metadata": {},
   "source": [
    "$$\n",
    "\\frac{\\partial g_{jk}}{\\partial q^i} + \\frac{\\partial g_{ki}}{\\partial q^j} -\\frac{\\partial g_{ij}}{\\partial q^k} =\n",
    "2\\,\n",
    "\\Gamma^m_{ij} g_{mk}\n",
    "$$"
   ]
  },
  {
   "cell_type": "markdown",
   "id": "bcd3fb89",
   "metadata": {},
   "source": [
    "Помножуємо (32) на $\\frac{1}{2} g^{mk}$\n",
    "і отримуємо остаточно"
   ]
  },
  {
   "cell_type": "markdown",
   "id": "0279012e",
   "metadata": {},
   "source": [
    "$$\n",
    "\\Gamma^m_{ij}\n",
    "=\n",
    "\\frac{1}{2} g^{mk}\n",
    "\\left(\n",
    "\\frac{\\partial g_{jk}}{\\partial q^i} + \\frac{\\partial g_{ki}}{\\partial q^j} -\\frac{\\partial g_{ij}}{\\partial q^k}\n",
    "\\right) \n",
    "$$"
   ]
  },
  {
   "cell_type": "markdown",
   "id": "745a1bca",
   "metadata": {},
   "source": [
    "<b>символ Кристоффеля 2-го роду</b>"
   ]
  },
  {
   "cell_type": "markdown",
   "id": "cf23115d",
   "metadata": {},
   "source": [
    "$$\n",
    "\\frac{\\partial \\vec a}{\\partial q^j} = \n",
    "\\frac{\\partial a^m}{\\partial q^j}\\vec e_m\n",
    "+\n",
    "a^i \\Gamma^m_{ij} \\vec e_m =\n",
    "\\left(\n",
    "\\frac{\\partial a^m}{\\partial q^j}\n",
    "+\n",
    "a^i \\Gamma^m_{ij}\\right) \\cdot \\vec e_m\n",
    "$$"
   ]
  },
  {
   "cell_type": "markdown",
   "id": "cddbd340",
   "metadata": {},
   "source": [
    "Вираз в дужках - <b>ковариантна похідна контравариантних компонент\n",
    "вектору</b>"
   ]
  },
  {
   "cell_type": "markdown",
   "id": "e65a29c0",
   "metadata": {},
   "source": [
    "$$\n",
    "\\nabla_j a^m =\n",
    "\\left(\n",
    "\\frac{\\partial a^m}{\\partial q^j}\n",
    "+\n",
    "a^i \\Gamma^m_{ij}\\right) \\cdot \\vec e_m\n",
    "$$"
   ]
  },
  {
   "cell_type": "markdown",
   "id": "e276415a",
   "metadata": {},
   "source": [
    "Виходячи з (35) зрозуміло, що намагаючись диференціювати по криволінійній\n",
    "координаті, треба враховувати залежність базису від координат. Якщо метрика\n",
    "залежить від положення точки прикладання вектора у просторі, то (35)\n",
    "перетворюється на часткову похідну, оскільки всі символи Крістоффеля\n",
    "дорівнюватимуть нулю, бо метричний тензор залежить від координат. У будь-якій\n",
    "косокутній системі координат, і в їхньому окремому випадку — декартових\n",
    "координатах, символи Крістоффеля, згідно (33) дорівнюють нулю. Отже, згідно (35)\n",
    "коваріантна похідна від вектора по координаті буде збігатися з його частковою\n",
    "похідною за цією координатою, що було відомо. Але якби (33) (символ Крістоффеля)\n",
    "був тензором, то він, рівний нулю, залишився б нульовим у будь-якій іншій системі\n",
    "координат. Але у криволінійних координатах (33) нулю не рівні. Отже <b>символи\n",
    "Крістоффеля не є тензором</b>. При перетворенні системи координат змінюються\n",
    "компоненти, але з сутність тензора. Нульовий тензор повинен бути таким у будь-якій\n",
    "системі координат."
   ]
  },
  {
   "cell_type": "code",
   "execution_count": null,
   "id": "21825ca0",
   "metadata": {},
   "outputs": [],
   "source": []
  }
 ],
 "metadata": {
  "kernelspec": {
   "display_name": "SageMath 9.6.beta7",
   "language": "sage",
   "name": "sagemath"
  },
  "language_info": {
   "codemirror_mode": {
    "name": "ipython",
    "version": 3
   },
   "file_extension": ".py",
   "mimetype": "text/x-python",
   "name": "python",
   "nbconvert_exporter": "python",
   "pygments_lexer": "ipython3",
   "version": "3.10.3"
  }
 },
 "nbformat": 4,
 "nbformat_minor": 5
}

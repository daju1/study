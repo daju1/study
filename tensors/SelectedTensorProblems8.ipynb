{
 "cells": [
  {
   "cell_type": "markdown",
   "id": "9dfb8820",
   "metadata": {},
   "source": [
    "# Problems 1.7.3\n",
    "\n",
    "# № 8"
   ]
  },
  {
   "cell_type": "markdown",
   "id": "8bc587e4",
   "metadata": {},
   "source": [
    "Let $A_{ij}$ be an antisymmetric tensor. Prove that the expression\n",
    "\n",
    "\\begin{equation}\\label{eq:b_jk}\n",
    "  T_{ijk} \\equiv\n",
    "  \\frac{\\partial A_{ij}}{\\partial x^{k}}\n",
    "  +\n",
    "  \\frac{\\partial A_{ki}}{\\partial x^{j}}\n",
    "  +\n",
    "  \\frac{\\partial A_{jk}}{\\partial x^{i}}\n",
    "  \\equiv\n",
    "  A_{ij,k} + A_{ki,j} + A_{jk,i}\n",
    "\\end{equation}\n",
    "\n",
    "is a tensor?"
   ]
  },
  {
   "cell_type": "markdown",
   "id": "d65d082d",
   "metadata": {},
   "source": [
    "# Справочные формулы"
   ]
  },
  {
   "cell_type": "markdown",
   "id": "92929682",
   "metadata": {},
   "source": [
    "Эта формула в методичке имеет номер (1.148):\n",
    "\n",
    "\\begin{equation}\n",
    "A^{i'}=\\frac{\\partial x^{i'}}{\\partial x^{j}}A^j,\n",
    "\\label{lawContrT}\n",
    "\\end{equation}"
   ]
  },
  {
   "cell_type": "markdown",
   "id": "6a3a6072",
   "metadata": {},
   "source": [
    "Эта формула в методичке имеет номер (1.166):\n",
    "\n",
    "\\begin{equation}\n",
    " T_{i'j'}=\n",
    " \\frac{\\partial x^k}{\\partial x^{i'}}\\frac{\\partial x^l}{\\partial x^{j'}} T_{kl}\n",
    " \\label{Tijtransform}\n",
    "\\end{equation} "
   ]
  },
  {
   "cell_type": "markdown",
   "id": "28607885",
   "metadata": {},
   "source": [
    "Ця формула у методичці має номер (1.195):\n",
    "\n",
    "\\begin{equation}\\label{TgeneralTransf}\n",
    "\\boxed{\n",
    "T_{l_1'l_2'...l_q'}^{k_1'k_2'...k_p'} = \n",
    "\\underbrace{\\frac{\\partial x^{k_1'}}{\\partial x^{i_1}} \n",
    "{\\dfrac{\\partial x^{k_2'}}{\\partial x^{i_2}}}\n",
    "...\\frac{\\partial x^{k_p'}}{\\partial x^{i_p}}}_{\\text{$p$ factors}}\n",
    "\\underbrace{\\frac{\\partial x^{j_1}}{\\partial x^{l_1'}} \\frac{\\partial x^{j_2}}{\\partial x^{l_2'}}...\\frac{\\partial x^{j_q}}{\\partial x^{l_q'}}}_{\\text{$q$ factors}}\n",
    "T_{j_1 j_2 ... j_q}^{i_1 i_2 ... i_p}.\n",
    "}\n",
    "\\end{equation} "
   ]
  },
  {
   "cell_type": "markdown",
   "id": "4cde7822",
   "metadata": {},
   "source": [
    "# Решение:\n"
   ]
  },
  {
   "cell_type": "markdown",
   "id": "6eb67a2a",
   "metadata": {},
   "source": [
    "Запишем выражение (4) произ\\-воль\\-ной (штрих\\-овaн\\-ной) сис\\-теме коор\\-динат\n",
    "\n",
    "$$\n",
    "  T_{i'j'k'} \\equiv\n",
    "  \\frac{\\partial A_{i'j'}}{\\partial x^{k'}}\n",
    "  +\n",
    "  \\frac{\\partial A_{k'i'}}{\\partial x^{j'}}\n",
    "  +\n",
    "  \\frac{\\partial A_{j'k'}}{\\partial x^{i'}}\n",
    "  \\equiv\n",
    "  A_{i'j',k'} + A_{k'i',j'} + A_{j'k',i'}\n",
    "$$"
   ]
  },
  {
   "cell_type": "markdown",
   "id": "3e36d14a",
   "metadata": {},
   "source": [
    "Рассмотрим каждое слагаемое по-отдельности."
   ]
  },
  {
   "cell_type": "markdown",
   "id": "0f694249",
   "metadata": {},
   "source": [
    "Для первого слагаемого в (5) имеем\n",
    "\n",
    "$$\\frac{\\partial A_{i'j'}}{\\partial x^{k'}}\n",
    "  =\n",
    "  \\frac{\\partial }{\\partial x^{k'}} \\left(A_{i'j'}\\right)\n",
    "  =\n",
    "  \\frac{\\partial x^{n}}{\\partial x^{k'}}\n",
    "  \\frac{\\partial }{\\partial x^{n}} \\left(A_{i'j'}\\right)\n",
    "  =\n",
    "  \\frac{\\partial x^{n}}{\\partial x^{k'}}\n",
    "  \\frac{\\partial }{\\partial x^{n}} \\left(\n",
    "  \\frac{\\partial x^{i}}{\\partial x^{i'}}\n",
    "  \\frac{\\partial x^{j}}{\\partial x^{j'}}\n",
    "  A_{ij}\n",
    "  \\right)\n",
    "$$"
   ]
  },
  {
   "cell_type": "markdown",
   "id": "ff6a878a",
   "metadata": {},
   "source": [
    "Для второго слагаемого в (5) имеем\n",
    "\n",
    "$$\\frac{\\partial A_{k'i'}}{\\partial x^{j'}}\n",
    "  =\n",
    "  \\frac{\\partial }{\\partial x^{j'}} \\left(A_{k'i'}\\right)\n",
    "  =\n",
    "  \\frac{\\partial x^{n}}{\\partial x^{j'}}\n",
    "  \\frac{\\partial }{\\partial x^{n}} \\left(A_{k'i'}\\right)\n",
    "  =\n",
    "  \\frac{\\partial x^{n}}{\\partial x^{j'}}\n",
    "  \\frac{\\partial }{\\partial x^{n}} \\left(\n",
    "  \\frac{\\partial x^{k}}{\\partial x^{k'}}\n",
    "  \\frac{\\partial x^{i}}{\\partial x^{i'}}\n",
    "  A_{ki}\n",
    "  \\right)\n",
    "$$"
   ]
  },
  {
   "cell_type": "markdown",
   "id": "e448e2a2",
   "metadata": {},
   "source": [
    "Для третьего слагаемого в (5) имеем\n",
    "\n",
    "$$\\frac{\\partial A_{j'k'}}{\\partial x^{i'}}\n",
    "  =\n",
    "  \\frac{\\partial }{\\partial x^{i'}} \\left(A_{j'k'}\\right)\n",
    "  =\n",
    "  \\frac{\\partial x^{n}}{\\partial x^{i'}}\n",
    "  \\frac{\\partial }{\\partial x^{n}} \\left(A_{j'k'}\\right)\n",
    "  =\n",
    "  \\frac{\\partial x^{n}}{\\partial x^{i'}}\n",
    "  \\frac{\\partial }{\\partial x^{n}} \\left(\n",
    "  \\frac{\\partial x^{j}}{\\partial x^{j'}}\n",
    "  \\frac{\\partial x^{k}}{\\partial x^{k'}}\n",
    "  A_{jk}\n",
    "  \\right)\n",
    "$$"
   ]
  },
  {
   "cell_type": "code",
   "execution_count": null,
   "id": "7ee8bc52",
   "metadata": {},
   "outputs": [],
   "source": []
  },
  {
   "cell_type": "markdown",
   "id": "fe2d3f3b",
   "metadata": {},
   "source": [
    "Для первого слагаемого в (5) имеем\n",
    "\n",
    "$$\\frac{\\partial A_{i'j'}}{\\partial x^{k'}}\n",
    "  =\n",
    "  \\frac{\\partial x^{n}}{\\partial x^{k'}}\n",
    "  \\frac{\\partial }{\\partial x^{n}} \\left(\n",
    "  \\frac{\\partial x^{i}}{\\partial x^{i'}}\n",
    "  \\frac{\\partial x^{j}}{\\partial x^{j'}}\n",
    "  A_{ij}\n",
    "  \\right)\n",
    "  =\\\\=\n",
    "  \\frac{\\partial x^{n}}{\\partial x^{k'}}\n",
    "  \\left(\n",
    "  \\frac{\\partial }{\\partial x^{n}}\\left(\n",
    "  \\frac{\\partial x^{i}}{\\partial x^{i'}}\n",
    "  \\right)\n",
    "  \\frac{\\partial x^{j}}{\\partial x^{j'}}\n",
    "  A_{ij} +\n",
    "  \\frac{\\partial x^{i}}{\\partial x^{i'}}\n",
    "  \\frac{\\partial }{\\partial x^{n}} \\left(\n",
    "  \\frac{\\partial x^{j}}{\\partial x^{j'}}\n",
    "  \\right)\n",
    "  A_{ij} +\n",
    "  \\frac{\\partial x^{i}}{\\partial x^{i'}}\n",
    "  \\frac{\\partial x^{j}}{\\partial x^{j'}}\n",
    "  \\frac{\\partial }{\\partial x^{n}}\\left(\n",
    "  A_{ij}\n",
    "  \\right)\n",
    "  \\right)\n",
    "$$"
   ]
  },
  {
   "cell_type": "markdown",
   "id": "a4fdae6b",
   "metadata": {},
   "source": [
    "Для второго слагаемого в (5) имеем\n",
    "\n",
    "$$\\frac{\\partial A_{k'i'}}{\\partial x^{j'}}\n",
    "  =\n",
    "  \\frac{\\partial x^{n}}{\\partial x^{j'}}\n",
    "  \\frac{\\partial }{\\partial x^{n}} \\left(\n",
    "  \\frac{\\partial x^{k}}{\\partial x^{k'}}\n",
    "  \\frac{\\partial x^{i}}{\\partial x^{i'}}\n",
    "  A_{ki}\n",
    "  \\right)\n",
    "  =\\\\=\n",
    "  \\frac{\\partial x^{n}}{\\partial x^{j'}}\n",
    "   \\left(\n",
    "  \\frac{\\partial }{\\partial x^{n}}\\left(\n",
    "  \\frac{\\partial x^{k}}{\\partial x^{k'}}\n",
    "  \\right)\n",
    "  \\frac{\\partial x^{i}}{\\partial x^{i'}}\n",
    "  A_{ki}\n",
    "  +\n",
    "  \\frac{\\partial x^{k}}{\\partial x^{k'}}\n",
    "    \\frac{\\partial }{\\partial x^{n}}\\left(\n",
    "  \\frac{\\partial x^{i}}{\\partial x^{i'}}\n",
    "  \\right)\n",
    "  A_{ki}\n",
    "+\n",
    "  \\frac{\\partial x^{k}}{\\partial x^{k'}}\n",
    "  \\frac{\\partial x^{i}}{\\partial x^{i'}}\n",
    "  \\frac{\\partial }{\\partial x^{n}}\n",
    "  \\left(\n",
    "  A_{ki}\n",
    "  \\right)\n",
    "  \\right)$$"
   ]
  },
  {
   "cell_type": "markdown",
   "id": "9597d482",
   "metadata": {},
   "source": [
    "Для третьего слагаемого в (5) имеем\n",
    "\n",
    "$$\\frac{\\partial A_{j'k'}}{\\partial x^{i'}}\n",
    "  =\n",
    "  \\frac{\\partial x^{n}}{\\partial x^{i'}}\n",
    "  \\frac{\\partial }{\\partial x^{n}}\n",
    "   \\left(\n",
    "  \\frac{\\partial x^{j}}{\\partial x^{j'}}\n",
    "  \\frac{\\partial x^{k}}{\\partial x^{k'}}\n",
    "  A_{jk}\n",
    "  \\right)\n",
    "  =\\\\=\n",
    "  \\frac{\\partial x^{n}}{\\partial x^{i'}}\n",
    "  \\left(\n",
    "  \\frac{\\partial }{\\partial x^{n}}\\left(\n",
    "  \\frac{\\partial x^{j}}{\\partial x^{j'}}\n",
    "  \\right)\n",
    "  \\frac{\\partial x^{k}}{\\partial x^{k'}}\n",
    "  A_{jk}+\n",
    "  \\frac{\\partial x^{j}}{\\partial x^{j'}}\n",
    "  \\frac{\\partial }{\\partial x^{n}} \\left(\n",
    "  \\frac{\\partial x^{k}}{\\partial x^{k'}}\n",
    "  \\right)\n",
    "  A_{jk}+\n",
    "  \\frac{\\partial x^{j}}{\\partial x^{j'}}\n",
    "  \\frac{\\partial x^{k}}{\\partial x^{k'}}\n",
    "  \\frac{\\partial }{\\partial x^{n}}\\left(\n",
    "  A_{jk}\\right)\n",
    "  \\right)$$"
   ]
  },
  {
   "cell_type": "markdown",
   "id": "27e0c58a",
   "metadata": {},
   "source": [
    "$$\n",
    "  T_{i'j'k'} ==\n",
    "  \\frac{\\partial x^{n}}{\\partial x^{k'}}\n",
    "  \\left(\n",
    "  \\frac{\\partial }{\\partial x^{n}}\\left(\n",
    "  \\frac{\\partial x^{i}}{\\partial x^{i'}}\n",
    "  \\right)\n",
    "  \\frac{\\partial x^{j}}{\\partial x^{j'}}\n",
    "  A_{ij} +\n",
    "  \\frac{\\partial x^{i}}{\\partial x^{i'}}\n",
    "  \\frac{\\partial }{\\partial x^{n}} \\left(\n",
    "  \\frac{\\partial x^{j}}{\\partial x^{j'}}\n",
    "  \\right)\n",
    "  A_{ij} +\n",
    "  \\frac{\\partial x^{i}}{\\partial x^{i'}}\n",
    "  \\frac{\\partial x^{j}}{\\partial x^{j'}}\n",
    "  \\frac{\\partial }{\\partial x^{n}}\\left(\n",
    "  A_{ij}\n",
    "  \\right)\n",
    "  \\right)\n",
    "  +\\\\+\n",
    "  \\frac{\\partial A_{k'i'}}{\\partial x^{j'}}\n",
    "  +\\\\+\n",
    "  \\frac{\\partial A_{j'k'}}{\\partial x^{i'}}\n",
    "  \\equiv\n",
    "  A_{i'j',k'} + A_{k'i',j'} + A_{j'k',i'}\n",
    "$$"
   ]
  }
 ],
 "metadata": {
  "kernelspec": {
   "display_name": "SageMath 9.6.beta7",
   "language": "sage",
   "name": "sagemath"
  },
  "language_info": {
   "codemirror_mode": {
    "name": "ipython",
    "version": 3
   },
   "file_extension": ".py",
   "mimetype": "text/x-python",
   "name": "python",
   "nbconvert_exporter": "python",
   "pygments_lexer": "ipython3",
   "version": "3.10.3"
  }
 },
 "nbformat": 4,
 "nbformat_minor": 5
}

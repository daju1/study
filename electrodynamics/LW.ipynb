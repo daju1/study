{
 "cells": [
  {
   "cell_type": "markdown",
   "id": "d9cd2868",
   "metadata": {},
   "source": [
    "# Электрическое и магнитное поля в соответсвии с потенциалом Лиенара Вихерта"
   ]
  },
  {
   "cell_type": "markdown",
   "id": "70ecb060",
   "metadata": {},
   "source": [
    "А.Дроздов"
   ]
  },
  {
   "cell_type": "markdown",
   "id": "5478c40b",
   "metadata": {},
   "source": [
    "Рассмотрим модель движущихся зарядов и рассчитаем поля движущихся по заданным траекториям зарядов в соответствии с потенциалами Лиенара-Вихерта с учётом запаздывания"
   ]
  },
  {
   "cell_type": "markdown",
   "id": "c025f04b",
   "metadata": {},
   "source": [
    "Для решения этой задачи выразим электрическое поле исходя из выражения потенциалов Лиенара Вихерта \\cite{LL2}, как известно, дифференцированием скалярного потенциала ЛВ по координатам точки наблюдения $\\overrightarrow{E_1} = - \\nabla\\varphi$ и дифференцированием векторного потенциала по времени $\\overrightarrow{E_2}=-\\frac{1}{c}\\frac{\\partial \\overrightarrow{A}}{\\partial t}$, где\n",
    "$\\varphi=\\frac{q}{{{R}^{*}}}$\n",
    "и\n",
    "$\\overrightarrow{A}=\\frac{\\overrightarrow{v}}{c}\\frac{q}{{{R}^{*}}}$\n",
    "где ${{R}^{*}}=\\left( R-\\frac{\\overrightarrow{v}\\cdot \\overrightarrow{R}}{c} \\right)$ - радиус Лиенара Вихерта."
   ]
  },
  {
   "cell_type": "markdown",
   "id": "244b51af",
   "metadata": {},
   "source": [
    "радиус вектор из запаздывающей координаты заряда $(x', y', z')$ в запаздывающий момент $t'$ в точку наблюдения $(x, y, z)$ в момент наблюдения $t$ \n",
    "\n",
    "$\\vec R = \\vec R\\left(t'\\right)\n",
    "        = \\vec i \\left(x-x'\\left(t'\\right)\\right)\n",
    "        + \\vec j \\left(y-y'\\left(t'\\right)\\right)\n",
    "        + \\vec k \\left(z-z'\\left(t'\\right)\\right)$\n",
    "\n",
    "\n",
    "расстояние от точки наблюдения $(x, y, z)$ в момент наблюдения $t$ к запаздывающей координате заряда $(x', y', z')$ в запаздывающий момент $t'$\n",
    "\n",
    "$R = R\\left(t'\\right) = c \\left(t-t'\\right)$\n",
    "\n",
    "скорость заряда в запаздывающий момент времени $t'$\n",
    "\n",
    "$\\vec v = \\vec v\\left(t'\\right) = \\frac {\\partial}{\\partial t'}(x', y', z')$"
   ]
  },
  {
   "cell_type": "markdown",
   "id": "8b4df46f",
   "metadata": {},
   "source": [
    "Дифференцируем $R\\left(t'\\right) = c \\left(t-t'\\right)$ по $t$\n",
    "\n",
    "$\\frac{\\partial R\\left(t'\\right)}{\\partial t} = \\frac{\\partial R\\left(t'\\right)}{\\partial t'} \\frac{\\partial t'}{\\partial t}$"
   ]
  },
  {
   "cell_type": "markdown",
   "id": "944e86cf",
   "metadata": {},
   "source": [
    "Дифференцируем тождество $R\\left(t'\\right)^2 = \\left(\\vec R\\left(t'\\right)^2\\right)$ по $t'$\n",
    "\n",
    "$\\frac{\\partial}{\\partial t'}\\left(R\\left(t'\\right)^2\\right) = \\frac{\\partial}{\\partial t'} \\left(\\vec R\\left(t'\\right)^2\\right)$"
   ]
  },
  {
   "cell_type": "markdown",
   "id": "b3fe4fde",
   "metadata": {},
   "source": [
    "$\\frac{\\partial}{\\partial t'}R^2 = \\frac{\\partial}{\\partial t'} \\left(\\left(\\vec i \\left(x-x'\\left(t'\\right)\\right)\n",
    "        + \\vec j \\left(y-y'\\left(t'\\right)\\right)\n",
    "        + \\vec k \\left(z-z'\\left(t'\\right)\\right)\\right)^2\\right)$"
   ]
  },
  {
   "cell_type": "markdown",
   "id": "1b924ebc",
   "metadata": {},
   "source": [
    "$2\\,R\\left(t'\\right)\\frac{\\partial R\\left(t'\\right)}{\\partial t'} = 2\\,\\vec R\\left(t'\\right)\\frac{\\partial \\vec R\\left(t'\\right)}{\\partial t'}$"
   ]
  },
  {
   "cell_type": "markdown",
   "id": "f38aa57e",
   "metadata": {},
   "source": [
    "Учитывая что $\\frac{\\partial \\vec R\\left(t'\\right)}{\\partial t'} = -\\vec v\\left(t'\\right)$ (знак минус связан с тем что $R\\left(t'\\right)$ есть радиус вектор из запаздывающей координаты заряда $(x', y', z')$ в точку наблюдения $(x, y, z)$ а не наоборот)"
   ]
  },
  {
   "cell_type": "markdown",
   "id": "6bef60da",
   "metadata": {},
   "source": [
    "$R\\left(t'\\right)\\frac{\\partial R\\left(t'\\right)}{\\partial t'} = -\\vec R\\left(t'\\right)\\vec v\\left(t'\\right)$"
   ]
  },
  {
   "cell_type": "markdown",
   "id": "36dc01c7",
   "metadata": {},
   "source": [
    "$\\frac{\\partial R\\left(t'\\right)}{\\partial t'} = -\\frac{\\vec R\\left(t'\\right)\\vec v\\left(t'\\right)}{R\\left(t'\\right)}$"
   ]
  },
  {
   "cell_type": "markdown",
   "id": "d24956c6",
   "metadata": {},
   "source": [
    "Получаем\n",
    "\n",
    "$\\frac{\\partial R\\left(t'\\right)}{\\partial t} = \\frac{\\partial R\\left(t'\\right)}{\\partial t'} \\frac{\\partial t'}{\\partial t} = -\\frac{\\vec R\\left(t'\\right)\\vec v\\left(t'\\right)}{R\\left(t'\\right)} \\frac{\\partial t'}{\\partial t} = c\\left(1-\\frac{\\partial t'}{\\partial t}\\right)$\n",
    "\n",
    "Отсюда\n",
    "\n",
    "$$\\frac{\\partial t'}{\\partial t} = \\frac{1}{1 -\\frac{\\vec R\\left(t'\\right)\\vec v\\left(t'\\right)}{R\\left(t'\\right)\\,c}} = \\frac{R\\left(t'\\right)}{{{R}^{*}}\\left(t'\\right)}$$"
   ]
  },
  {
   "cell_type": "markdown",
   "id": "2ca2b9af",
   "metadata": {},
   "source": [
    "Дифференцируем $R\\left(t'\\right) = c \\left(t-t'\\right)$ по координатам наблюдения\n",
    "\n",
    "$\\frac{\\frac{\\partial}{\\partial x} R\\left(t'\\right)}{c} = \\frac{\\partial}{\\partial x} \\left(t-t'\\right)$\n",
    "\n",
    "$\\frac{\\partial}{\\partial x} t' = -\\frac{\\frac{\\partial}{\\partial x} R\\left(t'\\right)}{c} = - \\frac{1}{c}\\left(\\frac{\\partial R\\left(t'\\right)}{\\partial t'} \\frac{\\partial}{\\partial x} t' + \\frac{R_x}{R}\\right)$"
   ]
  },
  {
   "cell_type": "markdown",
   "id": "8a3ae8bc",
   "metadata": {},
   "source": [
    "$\\frac{\\partial}{\\partial x} t' = - \\frac{1}{c}\\left(-\\frac{\\vec R\\left(t'\\right)\\vec v\\left(t'\\right)}{R\\left(t'\\right)} \\frac{\\partial}{\\partial x} t' + \\frac{R_x}{R}\\right)$\n",
    "\n",
    "Отсюда\n",
    "\n",
    "$$\\frac{\\partial  t'}{\\partial x} = - \\frac{R_x\\left(t'\\right)}{c\\,\\left(R\\left(t'\\right) -\\frac{\\vec R\\left(t'\\right)\\vec v\\left(t'\\right)}{c}\\right)} = - \\frac{R_x\\left(t'\\right)}{c\\,{{R}^{*}}\\left(t'\\right)}$$"
   ]
  },
  {
   "cell_type": "markdown",
   "id": "67cb44a2",
   "metadata": {},
   "source": [
    "Дифференцируем $R\\left(t'\\right) = c \\left(t-t'\\right)$ по координатам наблюдения\n",
    "\n",
    "$\\frac{\\nabla R\\left(t'\\right)}{c} = \\nabla \\left(t-t'\\right)$\n",
    "\n",
    "$\\nabla t' = -\\frac{\\nabla R\\left(t'\\right)}{c} = - \\frac{1}{c}\\left(\\frac{\\partial R\\left(t'\\right)}{\\partial t'} \\nabla t' + \\frac{\\vec R}{R}\\right)$"
   ]
  },
  {
   "cell_type": "markdown",
   "id": "94580991",
   "metadata": {},
   "source": [
    "$\\nabla t' = - \\frac{1}{c}\\left(-\\frac{\\vec R\\left(t'\\right)\\vec v\\left(t'\\right)}{R\\left(t'\\right)} \\nabla t' + \\frac{\\vec R}{R}\\right)$\n",
    "\n",
    "Отсюда\n",
    "\n",
    "$$\\nabla t' = - \\frac{\\vec R\\left(t'\\right)}{c\\,\\left(R\\left(t'\\right) -\\frac{\\vec R\\left(t'\\right)\\vec v\\left(t'\\right)}{c}\\right)}  = - \\frac{\\vec R\\left(t'\\right)}{c\\,{{R}^{*}}\\left(t'\\right)}$$"
   ]
  },
  {
   "cell_type": "markdown",
   "id": "1a0a9191",
   "metadata": {},
   "source": [
    "С помощью этих формул вычисляем поля\n",
    "\n",
    "электрическое поле:\n",
    "\n",
    "$\\vec{E} = -\\nabla\\varphi - \\frac{1}{c}\\frac{\\partial}{\\partial t}\\vec{A}$\n",
    "\n",
    "где\n",
    "\n",
    "$\\varphi=\\frac{q}{{R}^{*}}$, $\\vec{A}=\\frac{\\vec{v}}{c}\\frac{q}{{R}^{*}}$\n",
    "\n",
    "и\n",
    "\n",
    "${R}^{*} = R - \\frac{\\vec{v}\\vec{R}}{c}$\n",
    "\n",
    "Итак, поскольку\n",
    "\n",
    "$\\nabla\\frac{1}{{{R}^{*}}} = \\left(\\frac{d}{d{{R}^{*}}}\\frac{1}{{{R}^{*}}}\\right)\\left(\\nabla {{R}^{*}}\\right) = -\\frac{1}{{{R}^{*}}^2}\\nabla {{R}^{*}}$\n"
   ]
  },
  {
   "cell_type": "markdown",
   "id": "3869e8d3",
   "metadata": {},
   "source": [
    "Нам теперь нужен градиент по координатам наблюдения радиуса Лиенара Вихерта\n",
    "\n",
    "$\\nabla {{R}^{*}} = \\nabla {\\left( R-\\frac{\\overrightarrow{v}\\cdot \\overrightarrow{R}}{c} \\right)} =  {\\left( \\nabla R-\\nabla \\frac{\\overrightarrow{v}\\cdot \\overrightarrow{R}}{c} \\right)}$"
   ]
  },
  {
   "cell_type": "markdown",
   "id": "e7b5c669",
   "metadata": {},
   "source": [
    "находим градиент расстояния\n",
    "\n",
    "$\\nabla R = -\\,с \\,\\nabla t' = \\,c\\,\\frac{\\vec R}{c\\,\\left(R -\\frac{\\vec R\\vec v}{c}\\right)} = \\frac{\\vec R}{R -\\frac{\\vec R\\vec v}{c}}=\\frac{\\vec R}{{R}^{*}}$"
   ]
  },
  {
   "cell_type": "markdown",
   "id": "7ec78ab0",
   "metadata": {},
   "source": [
    "Далее учитывая формулу для градиента скалярного произведения\n",
    "\n",
    "$\\nabla \\left(\\overrightarrow{v}\\cdot \\overrightarrow{R}\\right)\n",
    "    = \\overrightarrow{v} \\times \\left(\\nabla \\times \\overrightarrow{R}\\right)\n",
    "    + \\overrightarrow{R} \\times \\left(\\nabla \\times \\overrightarrow{v}\\right)\n",
    "    + \\left(\\overrightarrow{v} \\cdot \\nabla\\right) \\overrightarrow{R}\n",
    "    + \\left(\\overrightarrow{R} \\cdot \\nabla\\right) \\overrightarrow{v}$\n",
    "    \n",
    "Для первого слагаемого находим"
   ]
  },
  {
   "cell_type": "markdown",
   "id": "8301ddbd",
   "metadata": {},
   "source": [
    "$\\left(\\nabla \\times \\overrightarrow{R}\\right) = rot \\overrightarrow{R}$"
   ]
  },
  {
   "cell_type": "markdown",
   "id": "b0f89710",
   "metadata": {},
   "source": [
    "$rot \\overrightarrow{R}\\left(t'\\right)=\\left|\\begin{array}{ccc}\n",
    "    \\vec i & \\vec j & \\vec k\\\\\n",
    "    \\frac{\\partial}{\\partial x} & \\frac{\\partial}{\\partial y} & \\frac{\\partial}{\\partial z}\\\\\n",
    "    R_{x}\\left(t'\\right) & R_{y}\\left(t'\\right) & R_{z}\\left(t'\\right)\\\\\n",
    "\\end{array}\\right|$"
   ]
  },
  {
   "cell_type": "markdown",
   "id": "b5ca4347",
   "metadata": {},
   "source": [
    "$rot \\overrightarrow{R}\\left(t'\\right)=\\left|\\begin{array}{ccc}\n",
    "    \\vec i & \\vec j & \\vec k\\\\\n",
    "    \\frac{\\partial}{\\partial t'}\\frac{\\partial t'}{\\partial x} & \\frac{\\partial}{\\partial t'}\\frac{\\partial t'}{\\partial y} & \\frac{\\partial}{\\partial t'}\\frac{\\partial t'}{\\partial z}\\\\\n",
    "    R_{x}\\left(t'\\right) & R_{y}\\left(t'\\right) & R_{z}\\left(t'\\right)\\\\\n",
    "\\end{array}\\right|$"
   ]
  },
  {
   "cell_type": "markdown",
   "id": "3451c258",
   "metadata": {},
   "source": [
    "$rot \\overrightarrow{R}\\left(t'\\right)=\\left|\\begin{array}{ccc}\n",
    "    \\vec i & \\vec j & \\vec k \\\\\n",
    "      -\\frac{R_x\\left(t'\\right)}{c\\,{{R}^{*}}\\left(t'\\right)}\\frac{\\partial}{\\partial t'}\n",
    "    & -\\frac{R_y\\left(t'\\right)}{c\\,{{R}^{*}}\\left(t'\\right)}\\frac{\\partial}{\\partial t'}\n",
    "    & -\\frac{R_z\\left(t'\\right)}{c\\,{{R}^{*}}\\left(t'\\right)}\\frac{\\partial}{\\partial t'} \\\\\n",
    "    R_{x}\\left(t'\\right) & R_{y}\\left(t'\\right) & R_{z}\\left(t'\\right)\\\\\n",
    "\\end{array}\\right|$"
   ]
  },
  {
   "cell_type": "markdown",
   "id": "657b9a84",
   "metadata": {},
   "source": [
    "$rot \\overrightarrow{R}\\left(t'\\right)=-\\frac{1}{c\\,{{R}^{*}}\\left(t'\\right)}\\left|\\begin{array}{ccc}\n",
    "    \\vec i & \\vec j & \\vec k \\\\\n",
    "      R_x\\left(t'\\right)\\frac{\\partial}{\\partial t'}\n",
    "    & R_y\\left(t'\\right)\\frac{\\partial}{\\partial t'}\n",
    "    & R_z\\left(t'\\right)\\frac{\\partial}{\\partial t'} \\\\\n",
    "    R_{x}\\left(t'\\right) & R_{y}\\left(t'\\right) & R_{z}\\left(t'\\right)\\\\\n",
    "\\end{array}\\right|$"
   ]
  },
  {
   "cell_type": "markdown",
   "id": "98b5d9ce",
   "metadata": {},
   "source": [
    "$rot \\overrightarrow{R}\\left(t'\\right)=-\\frac{1}{c\\,{{R}^{*}}\\left(t'\\right)}\\left|\\begin{array}{ccc}\n",
    "    \\vec i & \\vec j & \\vec k \\\\\n",
    "      R_x\\left(t'\\right)\n",
    "    & R_y\\left(t'\\right)\n",
    "    & R_z\\left(t'\\right) \\\\\n",
    "    \\frac{\\partial}{\\partial t'}R_{x}\\left(t'\\right)\n",
    "    & \\frac{\\partial}{\\partial t'} R_{y}\\left(t'\\right)\n",
    "    & \\frac{\\partial}{\\partial t'} R_{z}\\left(t'\\right)\\\\\n",
    "\\end{array}\\right|$"
   ]
  },
  {
   "cell_type": "markdown",
   "id": "85378b48",
   "metadata": {},
   "source": [
    "$rot \\overrightarrow{R}\\left(t'\\right)=-\\frac{1}{c\\,{{R}^{*}}\\left(t'\\right)}\\left|\\begin{array}{ccc}\n",
    "    \\vec i & \\vec j & \\vec k \\\\\n",
    "      R_x\\left(t'\\right)\n",
    "    & R_y\\left(t'\\right)\n",
    "    & R_z\\left(t'\\right) \\\\\n",
    "    -v_{x}\\left(t'\\right)\n",
    "    & -v_{y}\\left(t'\\right)\n",
    "    & -v_{z}\\left(t'\\right)\\\\\n",
    "\\end{array}\\right|$"
   ]
  },
  {
   "cell_type": "markdown",
   "id": "afe38315",
   "metadata": {},
   "source": [
    "$rot \\overrightarrow{R}=\\frac{1}{c\\,{{R}^{*}}}\\left(\n",
    "    \\vec i \\left(v_z R_y - v_y R_z\\right) +\n",
    "    \\vec j \\left(v_x R_z - v_z R_x\\right) +\n",
    "    \\vec k \\left(v_y R_x - v_x R_y\\right)\\right)$"
   ]
  },
  {
   "cell_type": "markdown",
   "id": "9c3b6c85",
   "metadata": {},
   "source": [
    "Далее\n",
    "\n",
    "$\\vec v \\times rot \\overrightarrow{R}=\\frac{1}{c\\,{{R}^{*}}}\\left|\\begin{array}{ccc}\n",
    "    \\vec i & \\vec j & \\vec k \\\\\n",
    "      v_x\n",
    "    & v_y\n",
    "    & v_z \\\\\n",
    "    \\left(v_z R_y - v_y R_z\\right)\n",
    "    & \\left(v_x R_z - v_z R_x\\right)\n",
    "    & \\left(v_y R_x - v_x R_y\\right)\\\\\n",
    "\\end{array}\\right|$"
   ]
  },
  {
   "cell_type": "markdown",
   "id": "8fc2e7e6",
   "metadata": {},
   "source": [
    "$\\vec v \\times rot \\overrightarrow{R}=\\frac{1}{c\\,{{R}^{*}}}\\left(\\begin{array}{c}\n",
    "    +\\vec i \\left( v_y \\left(v_y R_x - v_x R_y\\right) - v_z \\left(v_x R_z - v_z R_x\\right) \\right)  \\\\\n",
    "    +\\vec j \\left( v_z \\left(v_z R_y - v_y R_z\\right) - v_x \\left(v_y R_x - v_x R_y\\right) \\right) \\\\\n",
    "    +\\vec k \\left( v_x \\left(v_x R_z - v_z R_x\\right) - v_y \\left(v_z R_y - v_y R_z\\right) \\right)\n",
    "\\end{array}\\right)$"
   ]
  },
  {
   "cell_type": "markdown",
   "id": "2cb5892a",
   "metadata": {},
   "source": [
    "$\\vec v \\times rot \\overrightarrow{R}=\\frac{1}{c\\,{{R}^{*}}}\\left(\\begin{array}{c}\n",
    "    +\\vec i  \\left(R_x\\left( v_y^2 + v_z^2\\right) - v_x v_y R_y - v_x v_z R_z \\right)  \\\\\n",
    "    +\\vec i  \\left(R_y\\left( v_z^2 + v_x^2\\right) - v_y v_z R_z - v_y v_x R_x  \\right)  \\\\\n",
    "    +\\vec i  \\left(R_z\\left( v_x^2 + v_y^2\\right) - v_z v_x R_x - v_z v_y R_y \\right)  \\\\\n",
    "\\end{array}\\right)$"
   ]
  },
  {
   "cell_type": "markdown",
   "id": "74ec17e4",
   "metadata": {},
   "source": [
    "$\\vec v \\times rot \\overrightarrow{R}=\\frac{1}{c\\,{{R}^{*}}}\\left(\\begin{array}{c}\n",
    "    +\\vec i  \\left(R_x\\left( v_y^2 + v_z^2\\right) - v_x \\left(v_y R_y + v_z R_z \\right) \\right)  \\\\\n",
    "    +\\vec i  \\left(R_y\\left( v_z^2 + v_x^2\\right) - v_y \\left(v_z R_z + v_x R_x \\right) \\right)  \\\\\n",
    "    +\\vec i  \\left(R_z\\left( v_x^2 + v_y^2\\right) - v_z \\left(v_x R_x + v_y R_y \\right) \\right)  \\\\\n",
    "\\end{array}\\right)$"
   ]
  },
  {
   "cell_type": "markdown",
   "id": "57557d7c",
   "metadata": {},
   "source": [
    "$\\vec v \\times rot \\overrightarrow{R}=\\frac{1}{c\\,{{R}^{*}}}\\left(\\begin{array}{c}\n",
    "    +\\vec i \\left(R_x\\left(v_x^2 + v_y^2 + v_z^2\\right) - v_x \\left(v_x R_x + v_y R_y + v_z R_z \\right) \\right)  \\\\\n",
    "    +\\vec i \\left(R_y\\left(v_y^2 + v_z^2 + v_x^2\\right) - v_y \\left(v_y R_y + v_z R_z + v_x R_x \\right) \\right)  \\\\\n",
    "    +\\vec i \\left(R_z\\left(v_z^2 + v_x^2 + v_y^2\\right) - v_z \\left(v_z R_z + v_x R_x + v_y R_y \\right) \\right)  \\\\\n",
    "\\end{array}\\right)$"
   ]
  },
  {
   "cell_type": "markdown",
   "id": "7034a07c",
   "metadata": {},
   "source": [
    "Переходя к векторным обозначениям\n",
    "\n",
    "$\\vec v \\times rot \\overrightarrow{R}=\\frac{1}{c\\,{{R}^{*}}}\\left(v^2 \\vec R - \\left(\\vec v \\vec R\\right) \\vec v\\right)$"
   ]
  },
  {
   "cell_type": "markdown",
   "id": "870d0e77",
   "metadata": {},
   "source": [
    "Для второго слагаемого находим\n",
    "\n",
    "$\\left(\\nabla \\times \\overrightarrow{v}\\right) = rot \\overrightarrow{v}$"
   ]
  },
  {
   "cell_type": "markdown",
   "id": "b9a11acf",
   "metadata": {},
   "source": [
    "$rot \\overrightarrow{v}\\left(t'\\right)=\\left|\\begin{array}{ccc}\n",
    "    \\vec i & \\vec j & \\vec k\\\\\n",
    "    \\frac{\\partial}{\\partial x} & \\frac{\\partial}{\\partial y} & \\frac{\\partial}{\\partial z}\\\\\n",
    "    v_{x}\\left(t'\\right) & v_{y}\\left(t'\\right) & v_{z}\\left(t'\\right)\\\\\n",
    "\\end{array}\\right|$"
   ]
  },
  {
   "cell_type": "markdown",
   "id": "273a7e69",
   "metadata": {},
   "source": [
    "$rot \\overrightarrow{v}\\left(t'\\right)=\\left|\\begin{array}{ccc}\n",
    "    \\vec i & \\vec j & \\vec k\\\\\n",
    "    \\frac{\\partial}{\\partial t'}\\frac{\\partial t'}{\\partial x} & \\frac{\\partial}{\\partial t'}\\frac{\\partial t'}{\\partial y} & \\frac{\\partial}{\\partial t'}\\frac{\\partial t'}{\\partial z}\\\\\n",
    "    v_{x}\\left(t'\\right) & v_{y}\\left(t'\\right) & v_{z}\\left(t'\\right)\\\\\n",
    "\\end{array}\\right|$"
   ]
  },
  {
   "cell_type": "markdown",
   "id": "8714fbad",
   "metadata": {},
   "source": [
    "$rot \\overrightarrow{v}\\left(t'\\right)=\\left|\\begin{array}{ccc}\n",
    "    \\vec i & \\vec j & \\vec k \\\\\n",
    "      -\\frac{R_x\\left(t'\\right)}{c\\,{{R}^{*}}\\left(t'\\right)}\\frac{\\partial}{\\partial t'}\n",
    "    & -\\frac{R_y\\left(t'\\right)}{c\\,{{R}^{*}}\\left(t'\\right)}\\frac{\\partial}{\\partial t'}\n",
    "    & -\\frac{R_z\\left(t'\\right)}{c\\,{{R}^{*}}\\left(t'\\right)}\\frac{\\partial}{\\partial t'} \\\\\n",
    "    v_{x}\\left(t'\\right) & v_{y}\\left(t'\\right) & v_{z}\\left(t'\\right)\\\\\n",
    "\\end{array}\\right|$"
   ]
  },
  {
   "cell_type": "markdown",
   "id": "1e877ffe",
   "metadata": {},
   "source": [
    "$rot \\overrightarrow{v}\\left(t'\\right)=-\\frac{1}{c\\,{{R}^{*}}\\left(t'\\right)}\\left|\\begin{array}{ccc}\n",
    "    \\vec i & \\vec j & \\vec k \\\\\n",
    "      R_x\\left(t'\\right)\\frac{\\partial}{\\partial t'}\n",
    "    & R_y\\left(t'\\right)\\frac{\\partial}{\\partial t'}\n",
    "    & R_z\\left(t'\\right)\\frac{\\partial}{\\partial t'} \\\\\n",
    "    v_{x}\\left(t'\\right) & v_{y}\\left(t'\\right) & v_{z}\\left(t'\\right)\\\\\n",
    "\\end{array}\\right|$"
   ]
  },
  {
   "cell_type": "markdown",
   "id": "a629eb80",
   "metadata": {},
   "source": [
    "$rot \\overrightarrow{v}\\left(t'\\right)=-\\frac{1}{c\\,{{R}^{*}}\\left(t'\\right)}\\left|\\begin{array}{ccc}\n",
    "    \\vec i & \\vec j & \\vec k \\\\\n",
    "      R_x\\left(t'\\right)\n",
    "    & R_y\\left(t'\\right)\n",
    "    & R_z\\left(t'\\right) \\\\\n",
    "    \\frac{\\partial}{\\partial t'}v_{x}\\left(t'\\right)\n",
    "    & \\frac{\\partial}{\\partial t'} v_{y}\\left(t'\\right)\n",
    "    & \\frac{\\partial}{\\partial t'} v_{z}\\left(t'\\right)\\\\\n",
    "\\end{array}\\right|$"
   ]
  },
  {
   "cell_type": "markdown",
   "id": "cad2f323",
   "metadata": {},
   "source": [
    "$rot \\overrightarrow{v}\\left(t'\\right)=-\\frac{1}{c\\,{{R}^{*}}\\left(t'\\right)}\\left|\\begin{array}{ccc}\n",
    "    \\vec i & \\vec j & \\vec k \\\\\n",
    "      R_x\\left(t'\\right)\n",
    "    & R_y\\left(t'\\right)\n",
    "    & R_z\\left(t'\\right) \\\\\n",
    "    a_{x}\\left(t'\\right)\n",
    "    & a_{y}\\left(t'\\right)\n",
    "    & a_{z}\\left(t'\\right)\\\\\n",
    "\\end{array}\\right|$"
   ]
  },
  {
   "cell_type": "markdown",
   "id": "baa4c992",
   "metadata": {},
   "source": [
    "$rot \\overrightarrow{v}=-\\frac{1}{c\\,{{R}^{*}}}\\left(\n",
    "    \\vec i \\left(a_z R_y - a_y R_z\\right) +\n",
    "    \\vec j \\left(a_x R_z - a_z R_x\\right) +\n",
    "    \\vec k \\left(a_y R_x - a_x R_y\\right)\\right)$"
   ]
  },
  {
   "cell_type": "markdown",
   "id": "0e8beae1",
   "metadata": {},
   "source": [
    "Далее\n",
    "\n",
    "$\\vec R \\times rot \\overrightarrow{v}=-\\frac{1}{c\\,{{R}^{*}}}\\left|\\begin{array}{ccc}\n",
    "    \\vec i & \\vec j & \\vec k \\\\\n",
    "      R_x\n",
    "    & R_y\n",
    "    & R_z \\\\\n",
    "    \\left(a_z R_y - a_y R_z\\right)\n",
    "    & \\left(a_x R_z - a_z R_x\\right)\n",
    "    & \\left(a_y R_x - a_x R_y\\right)\\\\\n",
    "\\end{array}\\right|$"
   ]
  },
  {
   "cell_type": "markdown",
   "id": "1a5a7479",
   "metadata": {},
   "source": [
    "$\\vec R \\times rot \\overrightarrow{v}=-\\frac{1}{c\\,{{R}^{*}}}\\left(\\begin{array}{c}\n",
    "    +\\vec i \\left( R_y \\left(a_y R_x - a_x R_y\\right) - R_z \\left(a_x R_z - a_z R_x\\right) \\right)  \\\\\n",
    "    +\\vec j \\left( R_z \\left(a_z R_y - a_y R_z\\right) - R_x \\left(a_y R_x - a_x R_y\\right) \\right) \\\\\n",
    "    +\\vec k \\left( R_x \\left(a_x R_z - a_z R_x\\right) - R_y \\left(a_z R_y - a_y R_z\\right) \\right)\n",
    "\\end{array}\\right)$"
   ]
  },
  {
   "cell_type": "markdown",
   "id": "fa0bc334",
   "metadata": {},
   "source": [
    "$\\vec R \\times rot \\overrightarrow{v}=-\\frac{1}{c\\,{{R}^{*}}}\\left(\\begin{array}{c}\n",
    "    +\\vec i  \\left(a_x\\left( R_y^2 + R_z^2\\right) - R_x R_y a_y - R_x R_z a_z \\right)  \\\\\n",
    "    +\\vec i  \\left(a_y\\left( R_z^2 + R_x^2\\right) - R_y R_z a_z - R_y R_x a_x  \\right)  \\\\\n",
    "    +\\vec i  \\left(a_z\\left( R_x^2 + R_y^2\\right) - R_z R_x a_x - R_z R_y a_y \\right)  \\\\\n",
    "\\end{array}\\right)$"
   ]
  },
  {
   "cell_type": "markdown",
   "id": "c222a1f2",
   "metadata": {},
   "source": [
    "$\\vec R \\times rot \\overrightarrow{v}=-\\frac{1}{c\\,{{R}^{*}}}\\left(\\begin{array}{c}\n",
    "    +\\vec i  \\left(a_x\\left( R_y^2 + R_z^2\\right) - R_x \\left(R_y a_y + R_z a_z \\right) \\right)  \\\\\n",
    "    +\\vec i  \\left(a_y\\left( R_z^2 + R_x^2\\right) - R_y \\left(R_z a_z + R_x a_x \\right) \\right)  \\\\\n",
    "    +\\vec i  \\left(a_z\\left( R_x^2 + R_y^2\\right) - R_z \\left(R_x a_x + R_y a_y \\right) \\right)  \\\\\n",
    "\\end{array}\\right)$"
   ]
  },
  {
   "cell_type": "markdown",
   "id": "271ae217",
   "metadata": {},
   "source": [
    "$\\vec R \\times rot \\overrightarrow{v}=-\\frac{1}{c\\,{{R}^{*}}}\\left(\\begin{array}{c}\n",
    "    +\\vec i \\left(a_x\\left(R_x^2 + R_y^2 + R_z^2\\right) - R_x \\left(R_x a_x + R_y a_y + R_z a_z \\right) \\right)  \\\\\n",
    "    +\\vec i \\left(a_y\\left(R_y^2 + R_z^2 + R_x^2\\right) - R_y \\left(R_y a_y + R_z a_z + R_x a_x \\right) \\right)  \\\\\n",
    "    +\\vec i \\left(a_z\\left(R_z^2 + R_x^2 + R_y^2\\right) - R_z \\left(R_z a_z + R_x a_x + R_y a_y \\right) \\right)  \\\\\n",
    "\\end{array}\\right)$"
   ]
  },
  {
   "cell_type": "markdown",
   "id": "29d10286",
   "metadata": {},
   "source": [
    "Переходя к векторным обозначениям\n",
    "\n",
    "$\\vec R \\times rot \\overrightarrow{v}=-\\frac{1}{c\\,{{R}^{*}}}\\left(R^2 \\vec a - \\left(\\vec R \\vec a\\right) \\vec R\\right)$"
   ]
  },
  {
   "cell_type": "markdown",
   "id": "5c6f11b0",
   "metadata": {},
   "source": [
    "Третье слагаемое\n",
    "\n",
    "$\\left(\\overrightarrow{v}\\left(t'\\right)  \\cdot \\nabla\\right) \\overrightarrow{R}\\left(t'\\right)\n",
    "    = v_x\\left(t'\\right) \\frac{\\partial}{\\partial x} \\overrightarrow{R}\\left(t'\\right)\n",
    "    + v_y\\left(t'\\right) \\frac{\\partial}{\\partial y} \\overrightarrow{R}\\left(t'\\right)\n",
    "    + v_z\\left(t'\\right) \\frac{\\partial}{\\partial z} \\overrightarrow{R}\\left(t'\\right)$"
   ]
  },
  {
   "cell_type": "markdown",
   "id": "9e7dc081",
   "metadata": {},
   "source": [
    "$\\frac{\\partial}{\\partial x} \\vec R\\left(t'\\right)\n",
    "    = \\frac{\\partial \\vec R\\left(t'\\right)}{\\partial t'} \\frac{\\partial t'}{\\partial x}  + \\frac{\\partial \\vec R}{\\partial x}\\Big|_{t'=const}\n",
    "    = - \\vec v\\left(t'\\right) \\frac{\\partial t'}{\\partial x}  + \\frac{\\partial \\vec R}{\\partial x}\\Big|_{t'=const}\n",
    "    = - \\vec v\\left(t'\\right) \\frac{R_x\\left(t'\\right)}{c\\,{{R}^{*}}\\left(t'\\right)}  + \\frac{\\partial \\vec R}{\\partial x}\\Big|_{t'=const}$"
   ]
  },
  {
   "cell_type": "markdown",
   "id": "ec006b6e",
   "metadata": {},
   "source": [
    "$\\frac{\\partial\\vec R\\left(t'\\right)}{\\partial x} \\Big|_{t'=const}\n",
    "        =  \\frac{\\partial}{\\partial x}\\left(\\vec i \\left(x-x'\\left(t'\\right)\\right)\n",
    "        + \\vec j \\left(y-y'\\left(t'\\right)\\right)\n",
    "        + \\vec k \\left(z-z'\\left(t'\\right)\\right)\\right)\n",
    "        = \\vec i$"
   ]
  },
  {
   "cell_type": "markdown",
   "id": "7895645f",
   "metadata": {},
   "source": [
    "$\\frac{\\partial}{\\partial x} \\vec R\\left(t'\\right) = \\vec v \\frac{R_x}{c\\,{{R}^{*}}} + \\vec i$"
   ]
  },
  {
   "cell_type": "markdown",
   "id": "4c97eb25",
   "metadata": {},
   "source": [
    "$\\frac{\\partial}{\\partial y} \\vec R\\left(t'\\right) = \\vec v \\frac{R_y}{c\\,{{R}^{*}}} + \\vec j$"
   ]
  },
  {
   "cell_type": "markdown",
   "id": "8bdefb46",
   "metadata": {},
   "source": [
    "$\\frac{\\partial}{\\partial z} \\vec R\\left(t'\\right) = \\vec v \\frac{R_z}{c\\,{{R}^{*}}} + \\vec k$"
   ]
  },
  {
   "cell_type": "markdown",
   "id": "42020015",
   "metadata": {},
   "source": [
    "$\\left(\\overrightarrow{v}\\left(t'\\right)  \\cdot \\nabla\\right) \\overrightarrow{R}\\left(t'\\right)\n",
    "    = v_x\\left(\\vec v \\frac{R_x}{c\\,{{R}^{*}}} + \\vec i\\right)\n",
    "    + v_y\\left(\\vec v \\frac{R_y}{c\\,{{R}^{*}}} + \\vec j\\right)\n",
    "    + v_z\\left(\\vec v \\frac{R_z}{c\\,{{R}^{*}}} + \\vec k\\right)\n",
    "    = \\vec v + \\vec v \\frac{\\left(\\vec R \\cdot \\vec v\\right)}{c\\,{{R}^{*}}}$"
   ]
  },
  {
   "cell_type": "markdown",
   "id": "de87eed8",
   "metadata": {},
   "source": [
    "Четвертое слагаемое\n",
    "\n",
    "$\\left(\\overrightarrow{R}\\left(t'\\right)  \\cdot \\nabla\\right) \\overrightarrow{v}\\left(t'\\right)\n",
    "    = R_x\\left(t'\\right) \\frac{\\partial}{\\partial x} \\overrightarrow{v}\\left(t'\\right)\n",
    "    + R_y\\left(t'\\right) \\frac{\\partial}{\\partial y} \\overrightarrow{v}\\left(t'\\right)\n",
    "    + R_z\\left(t'\\right) \\frac{\\partial}{\\partial z} \\overrightarrow{v}\\left(t'\\right)$"
   ]
  },
  {
   "cell_type": "markdown",
   "id": "8510ff46",
   "metadata": {},
   "source": [
    "$\\frac{\\partial}{\\partial x} \\vec v\\left(t'\\right)\n",
    "    = \\frac{\\partial \\vec v\\left(t'\\right)}{\\partial t'} \\frac{\\partial t'}{\\partial x}\n",
    "    = \\vec a\\left(t'\\right) \\frac{\\partial t'}{\\partial x}\n",
    "    = \\frac{\\vec a\\left(t'\\right)}{c} \\frac{R_x\\left(t'\\right)}{{{R}^{*}}\\left(t'\\right)}$"
   ]
  },
  {
   "cell_type": "markdown",
   "id": "5f53deee",
   "metadata": {},
   "source": [
    "$\\left(\\overrightarrow{R}\\left(t'\\right)  \\cdot \\nabla\\right) \\overrightarrow{v}\\left(t'\\right)\n",
    "    = R_x \\frac{\\vec a}{c} \\frac{R_x}{{{R}^{*}}}\n",
    "    + R_y \\frac{\\vec a}{c} \\frac{R_y}{{{R}^{*}}}\n",
    "    + R_z \\frac{\\vec a}{c} \\frac{R_z}{{{R}^{*}}}\n",
    "    = \\frac{\\vec a}{c} \\frac{R^2}{{{R}^{*}}}$"
   ]
  },
  {
   "cell_type": "code",
   "execution_count": null,
   "id": "8d1fbba9",
   "metadata": {},
   "outputs": [],
   "source": []
  },
  {
   "cell_type": "markdown",
   "id": "87fd697c",
   "metadata": {},
   "source": [
    "Подводя итоги для\n",
    "\n",
    "$\\nabla \\left(\\overrightarrow{v}\\cdot \\overrightarrow{R}\\right)\n",
    "    = \\overrightarrow{v} \\times \\left(\\nabla \\times \\overrightarrow{R}\\right)\n",
    "    + \\overrightarrow{R} \\times \\left(\\nabla \\times \\overrightarrow{v}\\right)\n",
    "    + \\left(\\overrightarrow{v} \\cdot \\nabla\\right) \\overrightarrow{R}\n",
    "    + \\left(\\overrightarrow{R} \\cdot \\nabla\\right) \\overrightarrow{v}$"
   ]
  },
  {
   "cell_type": "markdown",
   "id": "4fca5f8e",
   "metadata": {},
   "source": [
    "$\\vec v \\times rot \\overrightarrow{R}=\\frac{1}{c\\,{{R}^{*}}}\\left(v^2 \\vec R - \\left(\\vec v \\vec R\\right) \\vec v\\right)$"
   ]
  },
  {
   "cell_type": "markdown",
   "id": "f533237b",
   "metadata": {},
   "source": [
    "$\\vec R \\times rot \\overrightarrow{v}=-\\frac{1}{c\\,{{R}^{*}}}\\left(R^2 \\vec a - \\left(\\vec R \\vec a\\right) \\vec R\\right)$"
   ]
  },
  {
   "cell_type": "markdown",
   "id": "b1742170",
   "metadata": {},
   "source": [
    "$\\left(\\overrightarrow{v}\\left(t'\\right)  \\cdot \\nabla\\right) \\overrightarrow{R}\\left(t'\\right)\n",
    "    = \\vec v + \\vec v \\frac{\\left(\\vec R \\cdot \\vec v\\right)}{c\\,{{R}^{*}}}$"
   ]
  },
  {
   "cell_type": "markdown",
   "id": "d03b7f0a",
   "metadata": {},
   "source": [
    "$\\left(\\overrightarrow{R}\\left(t'\\right)  \\cdot \\nabla\\right) \\overrightarrow{v}\\left(t'\\right)\n",
    "    = \\frac{\\vec a}{c} \\frac{R^2}{{{R}^{*}}}$"
   ]
  },
  {
   "cell_type": "markdown",
   "id": "55b19b15",
   "metadata": {},
   "source": [
    "Находим для градиента скалярного произведения скорости на радиус вектор\n",
    "\n",
    "$\\nabla \\left(\\overrightarrow{v}\\cdot \\overrightarrow{R}\\right)\n",
    "    = \\vec v + \\frac{1}{c\\,{{R}^{*}}}\\left(v^2 \\vec R - \\left(\\vec R \\vec a\\right) \\vec R\\right)$"
   ]
  },
  {
   "cell_type": "markdown",
   "id": "baa3c6c2",
   "metadata": {},
   "source": [
    "Таким образом для градиента по координатам наблюдения радиуса Лиенара Вихерта\n",
    "\n",
    "$\\nabla {{R}^{*}}\n",
    "    = \\nabla {\\left( R-\\frac{\\overrightarrow{v}\\cdot \\overrightarrow{R}}{c} \\right)}\n",
    "    = {\\left( \\frac{\\vec R}{{R}^{*}}-\\nabla \\frac{\\overrightarrow{v}\\cdot \\overrightarrow{R}}{c} \\right)}\n",
    "    = {\\left( \\frac{\\vec R}{{R}^{*}}- \\frac{\\vec v}{c} - \\frac{1}{c^2\\,{{R}^{*}}}\\left(v^2 \\vec R - \\left(\\vec R \\vec a\\right) \\vec R\\right) \\right)}$"
   ]
  },
  {
   "cell_type": "markdown",
   "id": "fb7bf622",
   "metadata": {},
   "source": [
    "Градиент по координатам наблюдения радиуса Лиенара Вихерта\n",
    "\n",
    "$\\nabla {{R}^{*}} = \\nabla {\\left( R-\\frac{\\overrightarrow{v}\\cdot \\overrightarrow{R}}{c} \\right)} = \\left(\\frac{\\vec{R}}{{{R}^{*}}}\\right)\\left(1 + \\frac{\\vec{R}\\vec{a}}{c^2}-\\frac{v^2}{c^2}\\right)-\\frac{\\vec{v}}{c}$"
   ]
  },
  {
   "cell_type": "markdown",
   "id": "582a8755",
   "metadata": {},
   "source": [
    "А для производной по времени наблюдения векторного потенциала\n",
    "\n",
    "$\\frac{1}{c}\\frac{\\partial }{\\partial t}\\overrightarrow{A}\n",
    "    = \\frac{q}{c^2}\\frac{\\partial }{\\partial t}\\frac{\\overrightarrow{v}\\left(t'\\right)}{{{R}^{*}}}\n",
    "    = \\frac{q}{c^2}\\frac{\\partial }{\\partial t}\\left(\\frac{\\overrightarrow{v}\\left(t'\\right)}{{{R}^{*}}}\\right)\n",
    "    = \\frac{q}{c^2}\\frac{\\partial }{\\partial t}\\left(\\overrightarrow{v}\\left(t'\\right) \\cdot \\frac{1}{{{R}^{*}}}\\right)\n",
    "    = \\frac{q}{c^2}\\left(\\frac{\\partial }{\\partial t}\\overrightarrow{v}\\left(t'\\right) \\cdot \\frac{1}{{{R}^{*}}} + \\overrightarrow{v}\\left(t'\\right) \\cdot \\frac{\\partial }{\\partial t}\\frac{1}{{{R}^{*}}}\\right)$"
   ]
  },
  {
   "cell_type": "markdown",
   "id": "d3ab8e0d",
   "metadata": {},
   "source": [
    "$\\frac{\\partial }{\\partial t}\\overrightarrow{v}\\left(t'\\right) = \\frac{\\partial \\overrightarrow{v}\\left(t'\\right)}{\\partial t'}\\frac{\\partial t'}{\\partial t} = \\vec a\\left(t'\\right) \\frac{R\\left(t'\\right)}{{{R}^{*}}\\left(t'\\right)}$"
   ]
  },
  {
   "cell_type": "markdown",
   "id": "24f6ab80",
   "metadata": {},
   "source": [
    "$\\frac{\\partial }{\\partial t}\\frac{1}{{{R}^{*}}} = \\left(\\frac{d}{d{{R}^{*}}}\\frac{1}{{{R}^{*}}}\\right)\\left(\\frac{\\partial }{\\partial t} {{R}^{*}}\\right) = -\\frac{1}{{{R}^{*}}^2}\\frac{\\partial }{\\partial t} {{R}^{*}}$"
   ]
  },
  {
   "cell_type": "markdown",
   "id": "04cd1c99",
   "metadata": {},
   "source": [
    "Таким образом для производной по $t$ радиуса Лиенара Вихерта\n",
    "\n",
    "$\\frac{\\partial }{\\partial t}  {{R}^{*}}\n",
    "    = \\frac{\\partial }{\\partial t}  {\\left( R-\\frac{\\overrightarrow{v}\\cdot \\overrightarrow{R}}{c} \\right)}$"
   ]
  },
  {
   "cell_type": "markdown",
   "id": "c5cb13f5",
   "metadata": {},
   "source": [
    "Дифференцируем $R\\left(t'\\right) = c \\left(t-t'\\right)$ по $t$\n",
    "\n",
    "$\\frac{\\partial R\\left(t'\\right)}{\\partial t} = c \\left(1 - \\frac{R\\left(t'\\right)}{{{R}^{*}}\\left(t'\\right)}\\right)$"
   ]
  },
  {
   "cell_type": "markdown",
   "id": "5f87dee7",
   "metadata": {},
   "source": [
    "$\\frac{\\partial }{\\partial t} \\vec R\\left(t'\\right)\n",
    "        = \\frac{\\partial \\vec R\\left(t'\\right)}{\\partial t'}\\frac{\\partial t'}{\\partial t}\n",
    "        = -\\vec v\\left(t'\\right)\\frac{R\\left(t'\\right)}{{{R}^{*}}\\left(t'\\right)}$"
   ]
  },
  {
   "cell_type": "markdown",
   "id": "a0cd7a52",
   "metadata": {},
   "source": [
    "$\\frac{\\partial }{\\partial t}{\\left(\\overrightarrow{v}\\cdot \\overrightarrow{R} \\right)}\n",
    "    = {\\left(\\frac{\\partial }{\\partial t}\\overrightarrow{v}\\cdot \\overrightarrow{R} + \\overrightarrow{v}\\cdot \\frac{\\partial }{\\partial t}\\overrightarrow{R} \\right)}\n",
    "    = {\\left(\\vec a\\left(t'\\right) \\frac{R\\left(t'\\right)}{{{R}^{*}}\\left(t'\\right)}\\cdot \\overrightarrow{R} - \\overrightarrow{v}\\cdot \\vec v\\left(t'\\right)\\frac{R\\left(t'\\right)}{{{R}^{*}}\\left(t'\\right)} \\right)}\n",
    "    = {\\left(\\vec a \\vec R - v^2 \\right)\\frac{R}{{{R}^{*}}}}$"
   ]
  },
  {
   "cell_type": "markdown",
   "id": "9010e091",
   "metadata": {},
   "source": [
    "Таким образом для производной по $t$ радиуса Лиенара Вихерта\n",
    "\n",
    "$\\frac{\\partial }{\\partial t}  {{R}^{*}}\n",
    "    = \\frac{\\partial }{\\partial t}  {\\left( R-\\frac{\\overrightarrow{v}\\cdot \\overrightarrow{R}}{c} \\right)}\n",
    "    = \\left( c \\left(1 - \\frac{R}{{{R}^{*}}}\\right)-\\frac{\\left(\\vec a \\vec R - v^2 \\right)}{c}\\frac{R}{{{R}^{*}}} \\right)$"
   ]
  },
  {
   "cell_type": "markdown",
   "id": "a2bebb34",
   "metadata": {},
   "source": [
    "А для производной по времени наблюдения векторного потенциала\n",
    "\n",
    "$\\begin{array}{l}\\frac{1}{c}\\frac{\\partial }{\\partial t}\\overrightarrow{A} \\\\\n",
    "    = \\frac{q}{c^2}\\left(\\frac{\\partial }{\\partial t}\\overrightarrow{v}\\left(t'\\right) \\cdot \\frac{1}{{{R}^{*}}} + \\overrightarrow{v}\\left(t'\\right) \\cdot \\frac{\\partial }{\\partial t}\\frac{1}{{{R}^{*}}}\\right) \\\\\n",
    "    = \\frac{q}{c^2}\\left(\\frac{\\partial }{\\partial t}\\overrightarrow{v}\\left(t'\\right) \\cdot \\frac{1}{{{R}^{*}}} - \\overrightarrow{v}\\left(t'\\right) \\cdot \\frac{1}{{{R}^{*}}^2}\\frac{\\partial }{\\partial t} {{R}^{*}}\\right) \\\\\n",
    "    = \\frac{q}{c^2}\\left(\\vec a\\left(t'\\right) \\frac{R\\left(t'\\right)}{{{R}^{*}}\\left(t'\\right)} \\cdot \\frac{1}{{{R}^{*}}} - \\overrightarrow{v}\\left(t'\\right) \\cdot \\frac{1}{{{R}^{*}}^2}\\frac{\\partial }{\\partial t} {{R}^{*}}\\right) \\\\\n",
    "    = \\frac{q}{c^2}\\left(\\vec a\\left(t'\\right) \\frac{R\\left(t'\\right)}{{{R}^{*}}\\left(t'\\right)} \\cdot \\frac{1}{{{R}^{*}}} - \\overrightarrow{v}\\left(t'\\right) \\cdot \\frac{1}{{{R}^{*}}^2}\\left( c \\left(1 - \\frac{R}{{{R}^{*}}}\\right)-\\frac{\\left(\\vec a \\vec R - v^2 \\right)}{c}\\frac{R}{{{R}^{*}}} \\right)\\right) \\\\\n",
    "    = \\frac{q}{c^2}\\left(\\vec a \\frac{R}{{{R}^{*}}} \\cdot \\frac{1}{{{R}^{*}}} - \\overrightarrow{v} \\cdot \\frac{1}{{{R}^{*}}^2}\\left( c \\left(1 - \\frac{R}{{{R}^{*}}}\\right)-\\frac{\\left(\\vec a \\vec R - v^2 \\right)}{c}\\frac{R}{{{R}^{*}}} \\right)\\right) \\\\\n",
    "    = \\frac{q}{{{R}^{*}}^2}\\left(\\vec a \\frac{R}{c^2} - \\overrightarrow{v} \\cdot \\frac{1}{c^2}\\left( c \\left(1 - \\frac{R}{{{R}^{*}}}\\right)-\\frac{\\left(\\vec a \\vec R - v^2 \\right)}{c}\\frac{R}{{{R}^{*}}} \\right)\\right) \\\\\n",
    "    = \\frac{q}{{{R}^{*}}^2}\\left(\\vec a \\frac{R}{c^2} - \\frac{\\overrightarrow{v}}{c}\\left( \\left(1 - \\frac{R}{{{R}^{*}}}\\right)-\\frac{\\left(\\vec a \\vec R - v^2 \\right)}{c^2}\\frac{R}{{{R}^{*}}} \\right)\\right) \\\\\n",
    "    = \\frac{q}{{{R}^{*}}^2}\\left(\\vec a \\frac{R}{c^2} - \\frac{\\overrightarrow{v}}{c}\\left( 1 - \\frac{R}{{{R}^{*}}}-\\left(\\frac{\\vec a \\vec R}{c^2} - \\frac{v^2}{c^2} \\right)\\frac{R}{{{R}^{*}}} \\right)\\right) \\\\\n",
    "    = \\frac{q}{{{R}^{*}}^2}\\left(\\vec a \\frac{R}{c^2} - \\frac{\\overrightarrow{v}}{c}\\left( 1 - \\frac{R}{{{R}^{*}}}+\\left(\\frac{v^2}{c^2} -\\frac{\\vec a \\vec R}{c^2}\\right)\\frac{R}{{{R}^{*}}} \\right)\\right) \\\\\n",
    "    = \\frac{q}{{{R}^{*}}^2}\\left(\\vec a \\frac{R}{c^2} - \\frac{\\overrightarrow{v}}{c}\\left( 1 +\\left(\\frac{v^2}{c^2} -\\frac{\\vec a \\vec R}{c^2} - 1\\right)\\frac{R}{{{R}^{*}}} \\right)\\right) \\\\\n",
    "    = \\frac{q}{{{R}^{*}}^2}\\left(\\vec a \\frac{R}{c^2} - \\left( \\frac{\\overrightarrow{v}}{c} +\\frac{\\overrightarrow{v}}{c}\\frac{R}{{{R}^{*}}}\\left(\\frac{v^2}{c^2} -\\frac{\\vec a \\vec R}{c^2} - 1\\right) \\right)\\right) \\\\\n",
    "    \\end{array}$"
   ]
  },
  {
   "cell_type": "markdown",
   "id": "ef6eec69",
   "metadata": {},
   "source": [
    "электрическое поле:\n",
    "\n",
    "$\\vec{E} = -\\nabla\\varphi - \\frac{1}{c}\\frac{\\partial}{\\partial t}\\vec{A}$"
   ]
  },
  {
   "cell_type": "markdown",
   "id": "eaae96a2",
   "metadata": {},
   "source": [
    "Градиент по координатам наблюдения радиуса Лиенара Вихерта\n",
    "\n",
    "$\\nabla {{R}^{*}} = \\nabla {\\left( R-\\frac{\\overrightarrow{v}\\cdot \\overrightarrow{R}}{c} \\right)} = \\left(\\frac{\\vec{R}}{{{R}^{*}}}\\right)\\left(1 + \\frac{\\vec{R}\\vec{a}}{c^2}-\\frac{v^2}{c^2}\\right)-\\frac{\\vec{v}}{c}$"
   ]
  },
  {
   "cell_type": "markdown",
   "id": "249c32e6",
   "metadata": {},
   "source": [
    "\n",
    "Учитывая вышеприведенные выкладки, для градиента по координатам наблюдения скалярного потенциала ЛВ можно привести\n",
    "\n",
    "$-\\nabla \\varphi =-\\nabla \\frac{q}{{{R}^{*}}}=\\frac{q}{{{R}^{*}}^{2}}\\left\\{ \\frac{\\overrightarrow{R}}{{{R}^{*}}}\\left( 1+\\frac{\\overrightarrow{a}\\cdot \\overrightarrow{R}}{{{c}^{2}}}-\\frac{\\overrightarrow{v}\\cdot \\overrightarrow{v}}{{{c}^{2}}} \\right)-\\frac{\\overrightarrow{v}}{c} \\right\\}$\n",
    "\n",
    "А для производной по времени наблюдения векторного потенциала\n",
    "\n",
    "$-\\frac{1}{c}\\frac{\\partial }{\\partial t}\\overrightarrow{A}=\\frac{q}{{{R}^{*}}^{2}}\\left\\{ -\\frac{\\overrightarrow{a}R}{{{c}^{2}}}+\\frac{\\overrightarrow{v}}{c}\\left( \\frac{R}{{{R}^{*}}}\\left( -1-\\frac{\\overrightarrow{a}\\cdot \\overrightarrow{R}}{{{c}^{2}}}+\\frac{\\overrightarrow{v}\\cdot \\overrightarrow{v}}{{{c}^{2}}} \\right)+1 \\right) \\right\\}$\n",
    "\n",
    "$-\\frac{1}{c}\\frac{\\partial }{\\partial t}\\overrightarrow{A}=\\frac{q}{{{R}^{*}}^{2}}\\left\\{ -\\frac{\\overrightarrow{a}R}{{{c}^{2}}}+\\frac{\\overrightarrow{v}}{c}\\left( -\\frac{R}{{{R}^{*}}}\\left( 1+\\frac{\\overrightarrow{a}\\cdot \\overrightarrow{R}}{{{c}^{2}}}-\\frac{v^2}{{{c}^{2}}} \\right)+1 \\right) \\right\\}$\n",
    "\n"
   ]
  },
  {
   "cell_type": "markdown",
   "id": "fd4db33d",
   "metadata": {},
   "source": [
    "$-\\frac{1}{c}\\frac{\\partial }{\\partial t}\\overrightarrow{A}=\\frac{q}{{{R}^{*}}^{2}}\\left\\{ -\\frac{\\overrightarrow{a}R}{{{c}^{2}}}-\\frac{R}{{{R}^{*}}}\\frac{\\overrightarrow{v}}{c}\\left( 1+\\frac{\\overrightarrow{a}\\cdot \\overrightarrow{R}}{{{c}^{2}}}-\\frac{v^2}{{{c}^{2}}} \\right)+\\frac{\\overrightarrow{v}}{c} \\right\\}$\n",
    "\n",
    "Суммарное электрическое поле\n",
    "\n",
    "$$\\vec{E} = \\frac{q}{{{R}^{*}}^{3}}\\left( \\left(\\vec{R}-\\frac{R}{c}\\vec{v} \\right) \\left(1 + \\frac{\\vec{R}\\vec{a}}{c^2} - \\frac{v^2}{c^2} \\right) - \\vec{a}\\frac{{R}^{*}R}{c^2} \\right)$$"
   ]
  },
  {
   "cell_type": "markdown",
   "id": "2a9f3fcc",
   "metadata": {},
   "source": [
    "Опуская громоздкие промежуточные выкладки \\cite{rustot}, для градиента по координатам наблюдения скалярного потенциала ЛВ можно привести\n",
    "$$\\nabla \\varphi =\\nabla \\frac{dq}{{{R}^{*}}}=-\\frac{dq}{{{R}^{*}}^{2}}\\left\\{ \\frac{\\overrightarrow{R}}{{{R}^{*}}}\\left( 1+\\frac{\\overrightarrow{a}\\cdot \\overrightarrow{R}}{{{c}^{2}}}-\\frac{\\overrightarrow{v}\\cdot \\overrightarrow{v}}{{{c}^{2}}} \\right)-\\frac{\\overrightarrow{v}}{c} \\right\\}$$\n",
    "\n",
    "А для производной по времени наблюдения векторного потенциала \n",
    "$$\\frac{1}{c}\\frac{\\partial }{\\partial t}\\overrightarrow{A}=\\frac{1}{c}\\frac{\\partial }{\\partial t}\\frac{dq\\overrightarrow{v}}{c{{R}^{*}}}=\\frac{dq}{{{R}^{*}}^{2}}\\left\\{ \\frac{\\overrightarrow{a}R}{{{c}^{2}}}-\\frac{\\overrightarrow{v}}{c}\\left( \\frac{R}{{{R}^{*}}}\\left( -1-\\frac{\\overrightarrow{a}\\cdot \\overrightarrow{R}}{{{c}^{2}}}+\\frac{\\overrightarrow{v}\\cdot \\overrightarrow{v}}{{{c}^{2}}} \\right)+1 \\right) \\right\\}$$"
   ]
  },
  {
   "cell_type": "markdown",
   "id": "142f0621",
   "metadata": {},
   "source": [
    "Сравнение с выкладками Рустота\n",
    "\n",
    "http://www.sciteclibrary.ru/cgi-bin/yabb2/YaBB.pl?num=1528093569/326#326\n",
    "\n",
    "$\\varphi=\\frac{q}{{R}^{*}}$, $\\vec{A}=\\frac{\\vec{v}}{c}\\frac{q}{{R}^{*}}$\n",
    "\n",
    "${R}^{*} = R - \\frac{\\vec{v}\\vec{R}}{c}$\n",
    "\n",
    "$\\nabla\\frac{1}{{{R}^{*}}} = \\left(\\frac{d}{d{{R}^{*}}}\\frac{1}{{{R}^{*}}}\\right)\\left(\\nabla {{R}^{*}}\\right) = -\\frac{1}{{{R}^{*}}^2}\\nabla {{R}^{*}}$\n",
    "\n",
    "$\\nabla {{R}^{*}} = \\left(\\frac{\\vec{r}}{{{R}^{*}}}\\right)\\left(1 + \\frac{\\vec{R}\\vec{a}}{c^2}-\\frac{v^2}{c^2}\\right)-\\frac{\\vec{v}}{c}$\n",
    "\n",
    "\n",
    "электрическое поле:\n",
    "\n",
    "$\\vec{E} = -\\nabla\\varphi - \\frac{1}{c}\\frac{\\partial}{\\partial t}\\vec{A} = \\frac{q}{{{R}^{*}}^2}\\left(\\nabla {{R}^{*}}+\\frac{\\vec{v}}{c^2}\\frac{\\partial}{\\partial t}{{R}^{*}} - \\frac{\\vec{a}r}{c^2}\\right)$, где ${{R}^{*}} = R - \\frac{\\vec{v}\\vec{R}}{c}$\n",
    "\n",
    "$\\vec{E} = \\frac{q}{{{R}^{*}}^2}\\left(\\nabla {{R}^{*}}+\\frac{\\vec{v}}{c^2}\\frac{\\partial}{\\partial t}{{R}^{*}} - \\frac{\\vec{a}r}{c^2}\\right)$\n",
    "\n",
    "$\\vec{E} = \\frac{q}{{{R}^{*}}^2}\\left(\\left(-\\frac{\\vec{R}}{c {{R}^{*}}}\\right)\\left(-c - \\frac{\\vec{R}\\vec{a}}{c} + \\frac{v^2}{c}\\right)-\\frac{\\vec{v}}{c}+\\frac{\\vec{v}}{c^2}\\left(\\frac{R}{{{R}^{*}}}\\left(-c - \\frac{\\vec{R}\\vec{a}}{c} + \\frac{v^2}{c}\\right) + c\\right) - \\frac{\\vec{a}R}{c^2}\\right)$\n",
    "\n",
    "$\\vec{E} = \\frac{q}{{{R}^{*}}^3}\\left(\\left(\\vec{R}-\\frac{R}{c}\\vec{v}\\right)\\left(1 + \\frac{\\vec{R}\\vec{a}}{c^2} - \\frac{v^2}{c^2}\\right) - \\vec{a}\\frac{{{R}^{*}}R}{c^2}\\right)$\n",
    "\n",
    "и магнитное поле:\n",
    "\n",
    "$\\frac{\\partial}{\\partial x}\\vec{A} = \\frac{\\partial}{\\partial x}\\frac{q\\vec{v}}{c{{R}^{*}} }$\n",
    "\n",
    "$\\frac{\\partial}{\\partial x}\\vec{A} = \\frac{q}{c{R}^{*}}\\frac{\\partial}{\\partial x} \\vec{v} - \\frac{q\\vec{v}}{c{{R}^{*}}^2}\\frac{\\partial}{\\partial x} {{R}^{*}}$\n",
    "\n",
    "$\\frac{\\partial}{\\partial x}\\vec{A} = \\frac{q}{c{{R}^{*}} }\\left(-\\frac{\\vec{a}R_x}{c{{R}^{*}}}\\right)- \\frac{q\\vec{v}}{c{{R}^{*}}^2}\\left(\\frac{R_x}{{{R}^{*}}}\\left(1 +\\frac{\\vec{R}\\vec{a}}{c^2} - \\frac{v^2}{c^2}\\right) - \\frac{v_x}{c}\\right)$\n",
    "\n",
    "$\\vec{B} = \\nabla\\times\\vec{A} = -\\left(\\frac{q}{c^2 {{R}^{*}}^2}\\right)\\vec{R}\\times\\vec{a} - \\frac{q}{{{R}^{*}}^3 c}\\left(1 + \\frac{\\vec{R}\\vec{a}}{c^2} - \\frac{v^2}{c^2}\\right)\\vec{R}\\times\\vec{v}$\n",
    "\n",
    "$\\vec{B} = -\\frac{q}{{{R}^{*}}^3}\\left(\\vec{R}\\times\\frac{\\vec{v}}{c}\\left(1 + \\frac{\\vec{R}\\vec{a}}{c^2} - \\frac{v^2}{c^2}\\right) + \\vec{R}\\times\\frac{\\vec{a}{{R}^{*}}}{c^2}\\right)$\n",
    "\n",
    "$\\vec{B} = \\frac{\\vec{R}\\times\\vec{E}}{R}$\n"
   ]
  },
  {
   "cell_type": "code",
   "execution_count": null,
   "id": "dd1e317a",
   "metadata": {},
   "outputs": [],
   "source": []
  },
  {
   "cell_type": "markdown",
   "id": "4664e76e",
   "metadata": {},
   "source": [
    "\n",
    "Учитывая вышеприведенные выкладки \\cite{rustot}, для градиента по координатам наблюдения скалярного потенциала ЛВ можно привести\n",
    "\n",
    "$\\nabla \\varphi =\\nabla \\frac{q}{{{R}^{*}}}=-\\frac{q}{{{R}^{*}}^{2}}\\left\\{ \\frac{\\overrightarrow{R}}{{{R}^{*}}}\\left( 1+\\frac{\\overrightarrow{a}\\cdot \\overrightarrow{R}}{{{c}^{2}}}-\\frac{\\overrightarrow{v}\\cdot \\overrightarrow{v}}{{{c}^{2}}} \\right)-\\frac{\\overrightarrow{v}}{c} \\right\\}$ \t\n",
    "\n",
    "А для производной по времени наблюдения векторного потенциала\n",
    "\n",
    "$\\frac{1}{c}\\frac{\\partial }{\\partial t}\\overrightarrow{A}=\\frac{1}{c}\\frac{\\partial }{\\partial t}\\frac{q\\overrightarrow{v}}{c{{R}^{*}}}=\\frac{q}{{{R}^{*}}^{2}}\\left\\{ \\frac{\\overrightarrow{a}R}{{{c}^{2}}}-\\frac{\\overrightarrow{v}}{c}\\left( \\frac{R}{{{R}^{*}}}\\left( -1-\\frac{\\overrightarrow{a}\\cdot \\overrightarrow{R}}{{{c}^{2}}}+\\frac{\\overrightarrow{v}\\cdot \\overrightarrow{v}}{{{c}^{2}}} \\right)+1 \\right) \\right\\}$\t\n",
    "\n",
    "\n",
    "Суммарное электрическое поле (сравнить с ЛЛ2 (63,8))\n",
    "\n",
    "$$\\vec{E} = \\frac{q}{{{R}^{*}}^{3}}\\left( \\left(\\vec{R}-\\frac{R}{c}\\vec{v} \\right) \\left(1 + \\frac{\\vec{R}\\vec{a}}{c^2} - \\frac{v^2}{c^2} \\right) - \\vec{a}\\frac{{R}^{*}R}{c^2} \\right)$$\n"
   ]
  },
  {
   "cell_type": "markdown",
   "id": "8807092d",
   "metadata": {},
   "source": [
    "Далее при имплеменации полученных формул в программные коды используется нормированный на единицу радиус Лиенара Вихерта $k=\\left( 1-\\frac{\\overrightarrow{v}\\cdot \\overrightarrow{n}}{c} \\right)$, где $\\overrightarrow{n} = \\frac{\\overrightarrow{R}}{R}$. При переходе от формул к програмным кодам используется соотношение ${R}^{*} = k\\cdot R$"
   ]
  },
  {
   "cell_type": "markdown",
   "id": "081d625c",
   "metadata": {},
   "source": [
    "Таким образом в полученном выражении для электрического поля"
   ]
  },
  {
   "cell_type": "markdown",
   "id": "07c2077b",
   "metadata": {},
   "source": [
    "$\\vec{E} = \\frac{q}{{{R}^{*}}^3}\\left(\\left(\\vec{R}-\\frac{R}{c}\\vec{v}\\right)\\left(1 + \\frac{\\vec{R}\\vec{a}}{c^2} - \\frac{v^2}{c^2}\\right) - \\vec{a}\\frac{{{R}^{*}}R}{c^2}\\right)$\n",
    "\n",
    "при переходе к програмным кодам произведено преобразование\n",
    "\n",
    "${R} \\rightarrow r$\n",
    "\n",
    "${R}^{*} \\rightarrow k\\cdot r$\n",
    "\n",
    "$\\vec{R} \\rightarrow r\\cdot \\vec{n}$\n",
    "\n",
    "и получено используемое в программе выражение\n",
    "\n",
    "$\\vec{E} = \\frac{q}{k^3}\\left(\\left(\\vec{n}-\\frac{\\vec{v}}{c}\\right)\\left(1 + \\frac{\\vec{r}\\vec{a}}{c^2} - \\frac{v^2}{c^2}\\right) \\frac{1}{r^2} - \\frac{k}{r}\\frac{\\vec{a}}{c^2}\\right)$"
   ]
  },
  {
   "cell_type": "markdown",
   "id": "587cf2e9",
   "metadata": {},
   "source": [
    "В полученном выражении для магнитного поля"
   ]
  },
  {
   "cell_type": "markdown",
   "id": "d58cc94b",
   "metadata": {},
   "source": [
    "$\\vec{B} = \\frac{\\vec{r}\\times\\vec{E}}{r}$\n",
    "\n",
    "$\\vec{B} = -\\frac{q}{{{R}^{*}}^3}\\left(\\vec{R}\\times\\frac{\\vec{v}}{c}\\left(1 + \\frac{\\vec{R}\\vec{a}}{c^2} - \\frac{v^2}{c^2}\\right) + \\vec{R}\\times\\frac{\\vec{a}{{R}^{*}}}{c^2}\\right)$\n",
    "\n",
    "При переходе от формул к програмным кодам произведено преобразование\n",
    "\n",
    "${R} \\rightarrow r$\n",
    "\n",
    "${R}^{*} \\rightarrow k\\cdot r$\n",
    "\n",
    "$\\vec{R} \\rightarrow r\\cdot \\vec{n}$\n",
    "\n",
    "$\\vec{B} = -\\frac{q}{k^3}\\left(\n",
    "\\left(\\vec{n}\\times{\\vec{v}}\\right)\n",
    "\\left(1 + \\frac{\\vec{r}\\vec{a}}{c^2} - \\frac{v^2}{c^2}\\right)  \\frac{1}{c\\,r^2} + \\left(\\vec{n}\\times\\vec{a}\\right)\n",
    "\\frac{k}{r\\,c^2}\\right)$\n",
    "\n",
    "или покомпонентно\n",
    "\n",
    "$B_x = -\\frac{q}{k^3}\\left(\n",
    "\\left(   n_y\\,v_z -  n_z\\,v_y \\right)\n",
    "\\left(1 + \\frac{\\vec{r}\\vec{a}}{c^2} - \\frac{v^2}{c^2}\\right)  \\frac{1}{c\\,r^2} +\n",
    "\\left(  n_y\\,a_z -  n_z\\,a_y  \\right)\n",
    "\\frac{k}{r\\,c^2}\\right)$\n",
    "\n",
    "$B_y = -\\frac{q}{k^3}\\left(\n",
    "\\left(   n_z\\,v_x -  n_x\\,v_z \\right)\n",
    "\\left(1 + \\frac{\\vec{r}\\vec{a}}{c^2} - \\frac{v^2}{c^2}\\right)  \\frac{1}{c\\,r^2} +\n",
    "\\left(  n_z\\,a_x -  n_x\\,a_z  \\right)\n",
    "\\frac{k}{r\\,c^2}\\right)$\n",
    "\n",
    "$B_z = -\\frac{q}{k^3}\\left(\n",
    "\\left(   n_x\\,v_y -  n_y\\,v_x \\right)\n",
    "\\left(1 + \\frac{\\vec{r}\\vec{a}}{c^2} - \\frac{v^2}{c^2}\\right)  \\frac{1}{c\\,r^2} +\n",
    "\\left(  n_x\\,a_y -  n_y\\,a_x  \\right)\n",
    "\\frac{k}{r\\,c^2}\\right)$"
   ]
  },
  {
   "cell_type": "code",
   "execution_count": null,
   "id": "f3ac8e4c",
   "metadata": {},
   "outputs": [],
   "source": []
  }
 ],
 "metadata": {
  "kernelspec": {
   "display_name": "SageMath 9.6.beta7",
   "language": "sage",
   "name": "sagemath"
  },
  "language_info": {
   "codemirror_mode": {
    "name": "ipython",
    "version": 3
   },
   "file_extension": ".py",
   "mimetype": "text/x-python",
   "name": "python",
   "nbconvert_exporter": "python",
   "pygments_lexer": "ipython3",
   "version": "3.10.3"
  }
 },
 "nbformat": 4,
 "nbformat_minor": 5
}
